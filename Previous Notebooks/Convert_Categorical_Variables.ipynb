{
 "cells": [
  {
   "cell_type": "markdown",
   "id": "9787afa7",
   "metadata": {},
   "source": [
    "# Imports"
   ]
  },
  {
   "cell_type": "code",
   "execution_count": 510,
   "id": "7a46427f",
   "metadata": {},
   "outputs": [],
   "source": [
    "# Imports\n",
    "import pandas as pd\n",
    "import numpy as np\n",
    "import matplotlib.pyplot as plt\n",
    "import seaborn as sns\n",
    "\n",
    "from scipy import stats\n",
    "import math\n",
    "\n",
    "import datetime\n",
    "\n",
    "from sklearn.impute import SimpleImputer\n",
    "from sklearn.preprocessing import StandardScaler\n",
    "from sklearn.base import BaseEstimator, TransformerMixin\n",
    "from sklearn.pipeline import Pipeline\n",
    "from sklearn.preprocessing import StandardScaler, OneHotEncoder\n",
    "from sklearn.compose import ColumnTransformer\n",
    "\n",
    "\n",
    "\n",
    "import joblib\n"
   ]
  },
  {
   "cell_type": "markdown",
   "id": "6005d68d",
   "metadata": {},
   "source": [
    "# Read Merged Data\n",
    "\n"
   ]
  },
  {
   "cell_type": "code",
   "execution_count": 511,
   "id": "8022480d",
   "metadata": {},
   "outputs": [],
   "source": [
    "df_train = pd.read_csv(\"df_imputed.csv\")"
   ]
  },
  {
   "cell_type": "code",
   "execution_count": 512,
   "id": "724c9576",
   "metadata": {},
   "outputs": [
    {
     "data": {
      "text/html": [
       "<div>\n",
       "<style scoped>\n",
       "    .dataframe tbody tr th:only-of-type {\n",
       "        vertical-align: middle;\n",
       "    }\n",
       "\n",
       "    .dataframe tbody tr th {\n",
       "        vertical-align: top;\n",
       "    }\n",
       "\n",
       "    .dataframe thead th {\n",
       "        text-align: right;\n",
       "    }\n",
       "</style>\n",
       "<table border=\"1\" class=\"dataframe\">\n",
       "  <thead>\n",
       "    <tr style=\"text-align: right;\">\n",
       "      <th></th>\n",
       "      <th>amount_tsh</th>\n",
       "      <th>date_recorded</th>\n",
       "      <th>funder</th>\n",
       "      <th>gps_height</th>\n",
       "      <th>installer</th>\n",
       "      <th>longitude</th>\n",
       "      <th>latitude</th>\n",
       "      <th>wpt_name</th>\n",
       "      <th>basin</th>\n",
       "      <th>subvillage</th>\n",
       "      <th>...</th>\n",
       "      <th>source_class</th>\n",
       "      <th>waterpoint_type</th>\n",
       "      <th>waterpoint_type_group</th>\n",
       "      <th>status_group</th>\n",
       "      <th>funder_missing</th>\n",
       "      <th>scheme_name_missing</th>\n",
       "      <th>scheme_management_missing</th>\n",
       "      <th>public_meeting_missing</th>\n",
       "      <th>permit_missing</th>\n",
       "      <th>subvillage_missing</th>\n",
       "    </tr>\n",
       "  </thead>\n",
       "  <tbody>\n",
       "    <tr>\n",
       "      <th>0</th>\n",
       "      <td>6000.0</td>\n",
       "      <td>2011-03-14</td>\n",
       "      <td>Other</td>\n",
       "      <td>1390</td>\n",
       "      <td>Other</td>\n",
       "      <td>34.938093</td>\n",
       "      <td>-9.856322</td>\n",
       "      <td>none</td>\n",
       "      <td>lake nyasa</td>\n",
       "      <td>Mnyusi B</td>\n",
       "      <td>...</td>\n",
       "      <td>groundwater</td>\n",
       "      <td>communal standpipe</td>\n",
       "      <td>communal standpipe</td>\n",
       "      <td>functional</td>\n",
       "      <td>False</td>\n",
       "      <td>False</td>\n",
       "      <td>False</td>\n",
       "      <td>False</td>\n",
       "      <td>False</td>\n",
       "      <td>False</td>\n",
       "    </tr>\n",
       "    <tr>\n",
       "      <th>1</th>\n",
       "      <td>0.0</td>\n",
       "      <td>2013-03-06</td>\n",
       "      <td>Other</td>\n",
       "      <td>1399</td>\n",
       "      <td>Other</td>\n",
       "      <td>34.698766</td>\n",
       "      <td>-2.147466</td>\n",
       "      <td>Zahanati</td>\n",
       "      <td>lake victoria</td>\n",
       "      <td>Nyamara</td>\n",
       "      <td>...</td>\n",
       "      <td>surface</td>\n",
       "      <td>communal standpipe</td>\n",
       "      <td>communal standpipe</td>\n",
       "      <td>functional</td>\n",
       "      <td>False</td>\n",
       "      <td>True</td>\n",
       "      <td>False</td>\n",
       "      <td>True</td>\n",
       "      <td>False</td>\n",
       "      <td>False</td>\n",
       "    </tr>\n",
       "    <tr>\n",
       "      <th>2</th>\n",
       "      <td>25.0</td>\n",
       "      <td>2013-02-25</td>\n",
       "      <td>Other</td>\n",
       "      <td>686</td>\n",
       "      <td>Other</td>\n",
       "      <td>37.460664</td>\n",
       "      <td>-3.821329</td>\n",
       "      <td>Kwa Mahundi</td>\n",
       "      <td>pangani</td>\n",
       "      <td>Majengo</td>\n",
       "      <td>...</td>\n",
       "      <td>surface</td>\n",
       "      <td>communal standpipe multiple</td>\n",
       "      <td>communal standpipe</td>\n",
       "      <td>functional</td>\n",
       "      <td>False</td>\n",
       "      <td>False</td>\n",
       "      <td>False</td>\n",
       "      <td>False</td>\n",
       "      <td>False</td>\n",
       "      <td>False</td>\n",
       "    </tr>\n",
       "    <tr>\n",
       "      <th>3</th>\n",
       "      <td>0.0</td>\n",
       "      <td>2013-01-28</td>\n",
       "      <td>Unicef</td>\n",
       "      <td>263</td>\n",
       "      <td>Other</td>\n",
       "      <td>38.486161</td>\n",
       "      <td>-11.155298</td>\n",
       "      <td>Zahanati Ya Nanyumbu</td>\n",
       "      <td>ruvuma / southern coast</td>\n",
       "      <td>Mahakamani</td>\n",
       "      <td>...</td>\n",
       "      <td>groundwater</td>\n",
       "      <td>communal standpipe multiple</td>\n",
       "      <td>communal standpipe</td>\n",
       "      <td>non functional</td>\n",
       "      <td>False</td>\n",
       "      <td>True</td>\n",
       "      <td>False</td>\n",
       "      <td>False</td>\n",
       "      <td>False</td>\n",
       "      <td>False</td>\n",
       "    </tr>\n",
       "    <tr>\n",
       "      <th>4</th>\n",
       "      <td>0.0</td>\n",
       "      <td>2011-07-13</td>\n",
       "      <td>Other</td>\n",
       "      <td>0</td>\n",
       "      <td>Other</td>\n",
       "      <td>31.130847</td>\n",
       "      <td>-1.825359</td>\n",
       "      <td>Shuleni</td>\n",
       "      <td>lake victoria</td>\n",
       "      <td>Kyanyamisa</td>\n",
       "      <td>...</td>\n",
       "      <td>surface</td>\n",
       "      <td>communal standpipe</td>\n",
       "      <td>communal standpipe</td>\n",
       "      <td>functional</td>\n",
       "      <td>False</td>\n",
       "      <td>True</td>\n",
       "      <td>True</td>\n",
       "      <td>False</td>\n",
       "      <td>False</td>\n",
       "      <td>False</td>\n",
       "    </tr>\n",
       "  </tbody>\n",
       "</table>\n",
       "<p>5 rows × 45 columns</p>\n",
       "</div>"
      ],
      "text/plain": [
       "   amount_tsh date_recorded  funder  gps_height installer  longitude  \\\n",
       "0      6000.0    2011-03-14   Other        1390     Other  34.938093   \n",
       "1         0.0    2013-03-06   Other        1399     Other  34.698766   \n",
       "2        25.0    2013-02-25   Other         686     Other  37.460664   \n",
       "3         0.0    2013-01-28  Unicef         263     Other  38.486161   \n",
       "4         0.0    2011-07-13   Other           0     Other  31.130847   \n",
       "\n",
       "    latitude              wpt_name                    basin  subvillage  ...  \\\n",
       "0  -9.856322                  none               lake nyasa    Mnyusi B  ...   \n",
       "1  -2.147466              Zahanati            lake victoria     Nyamara  ...   \n",
       "2  -3.821329           Kwa Mahundi                  pangani     Majengo  ...   \n",
       "3 -11.155298  Zahanati Ya Nanyumbu  ruvuma / southern coast  Mahakamani  ...   \n",
       "4  -1.825359               Shuleni            lake victoria  Kyanyamisa  ...   \n",
       "\n",
       "  source_class              waterpoint_type  waterpoint_type_group  \\\n",
       "0  groundwater           communal standpipe     communal standpipe   \n",
       "1      surface           communal standpipe     communal standpipe   \n",
       "2      surface  communal standpipe multiple     communal standpipe   \n",
       "3  groundwater  communal standpipe multiple     communal standpipe   \n",
       "4      surface           communal standpipe     communal standpipe   \n",
       "\n",
       "     status_group funder_missing  scheme_name_missing  \\\n",
       "0      functional          False                False   \n",
       "1      functional          False                 True   \n",
       "2      functional          False                False   \n",
       "3  non functional          False                 True   \n",
       "4      functional          False                 True   \n",
       "\n",
       "   scheme_management_missing public_meeting_missing permit_missing  \\\n",
       "0                      False                  False          False   \n",
       "1                      False                   True          False   \n",
       "2                      False                  False          False   \n",
       "3                      False                  False          False   \n",
       "4                       True                  False          False   \n",
       "\n",
       "  subvillage_missing  \n",
       "0              False  \n",
       "1              False  \n",
       "2              False  \n",
       "3              False  \n",
       "4              False  \n",
       "\n",
       "[5 rows x 45 columns]"
      ]
     },
     "execution_count": 512,
     "metadata": {},
     "output_type": "execute_result"
    }
   ],
   "source": [
    "df_train.head()\n"
   ]
  },
  {
   "cell_type": "markdown",
   "id": "ede4e4fd",
   "metadata": {},
   "source": [
    "Categorical variables fall into two types:\n",
    "- Low Cardinality: (Few unique values, and Good candidates for One-Hot Encoding)\n",
    "- High Cardinality: (Many unique values, and Good to Use for Label Encoding, Frequency Encoding, or Target Encoding)"
   ]
  },
  {
   "cell_type": "markdown",
   "id": "f545658f",
   "metadata": {},
   "source": [
    "# Analyze Cardinality of Categorical Features"
   ]
  },
  {
   "cell_type": "code",
   "execution_count": 513,
   "id": "a4cb3fef",
   "metadata": {},
   "outputs": [
    {
     "name": "stdout",
     "output_type": "stream",
     "text": [
      "wpt_name                 37399\n",
      "subvillage               19287\n",
      "scheme_name               2696\n",
      "ward                      2092\n",
      "date_recorded              356\n",
      "lga                        125\n",
      "construction_year           54\n",
      "region                      21\n",
      "extraction_type             18\n",
      "extraction_type_group       13\n",
      "management                  12\n",
      "installer                   11\n",
      "funder                      11\n",
      "scheme_management           11\n",
      "source                      10\n",
      "basin                        9\n",
      "water_quality                8\n",
      "source_type                  7\n",
      "waterpoint_type              7\n",
      "extraction_type_class        7\n",
      "payment_type                 7\n",
      "payment                      7\n",
      "quality_group                6\n",
      "waterpoint_type_group        6\n",
      "quantity                     5\n",
      "quantity_group               5\n",
      "management_group             5\n",
      "source_class                 3\n",
      "status_group                 3\n",
      "recorded_by                  1\n",
      "dtype: int64\n"
     ]
    }
   ],
   "source": [
    "# Summary of categorical columns\n",
    "cat_summary = df_train.select_dtypes(include='object').nunique().sort_values(ascending=False)\n",
    "print(cat_summary)\n"
   ]
  },
  {
   "cell_type": "markdown",
   "id": "75112b94",
   "metadata": {},
   "source": [
    "# categorize them as low or high cardinality"
   ]
  },
  {
   "cell_type": "code",
   "execution_count": 514,
   "id": "1d91d5f1",
   "metadata": {},
   "outputs": [
    {
     "data": {
      "text/plain": [
       "['wpt_name',\n",
       " 'subvillage',\n",
       " 'scheme_name',\n",
       " 'ward',\n",
       " 'date_recorded',\n",
       " 'lga',\n",
       " 'construction_year',\n",
       " 'region',\n",
       " 'extraction_type',\n",
       " 'extraction_type_group',\n",
       " 'management',\n",
       " 'installer',\n",
       " 'funder',\n",
       " 'scheme_management']"
      ]
     },
     "execution_count": 514,
     "metadata": {},
     "output_type": "execute_result"
    }
   ],
   "source": [
    "# Recalculate high cardinality columns\n",
    "high_card_cols = cat_summary[cat_summary > 10].index.tolist()\n",
    "high_card_cols"
   ]
  },
  {
   "cell_type": "code",
   "execution_count": 515,
   "id": "17ed32dc",
   "metadata": {},
   "outputs": [
    {
     "data": {
      "text/plain": [
       "['source',\n",
       " 'basin',\n",
       " 'water_quality',\n",
       " 'source_type',\n",
       " 'waterpoint_type',\n",
       " 'extraction_type_class',\n",
       " 'payment_type',\n",
       " 'payment',\n",
       " 'quality_group',\n",
       " 'waterpoint_type_group',\n",
       " 'quantity',\n",
       " 'quantity_group',\n",
       " 'management_group',\n",
       " 'source_class',\n",
       " 'status_group']"
      ]
     },
     "execution_count": 515,
     "metadata": {},
     "output_type": "execute_result"
    }
   ],
   "source": [
    "\n",
    "\n",
    "# Select low cardinality columns (2–10 unique values)\n",
    "low_card_cols = cat_summary[(cat_summary <= 10) & (cat_summary > 1)].index.tolist()\n",
    "low_card_cols\n"
   ]
  },
  {
   "cell_type": "markdown",
   "id": "76c5df3a",
   "metadata": {},
   "source": [
    "## Define Encoding Strategy\n",
    "- High Cardinality: use the frequency or lable strategy, keeps dimensionality low\n",
    "(wpt_name, subvillage, scheme_name, ward, date_recorded, lga, region, extraction_type, extraction_type_group, management, installer, funder, scheme_management)\n",
    "\n",
    "- Low Cardinality: one-Hot Encoding strategy, preffered for non-ordinal categories\n",
    "(source, basin, water_quality, source_type, waterpoint_type, extraction_type_class, payment_type, payment, quality_group, waterpoint_type_group, quantity, quantity_group, management_group, source_class, status_group)\n",
    "\n",
    "- Boolean-like string, Map to 0/1. \n",
    "(permit or public_meeting)"
   ]
  },
  {
   "cell_type": "markdown",
   "id": "c384d763",
   "metadata": {},
   "source": [
    "## Implement Encoding"
   ]
  },
  {
   "cell_type": "code",
   "execution_count": 516,
   "id": "4370d6cf",
   "metadata": {},
   "outputs": [],
   "source": [
    "# Create a copy for encoding\n",
    "df_encoded = df_train.copy()"
   ]
  },
  {
   "cell_type": "markdown",
   "id": "41b7eef3",
   "metadata": {},
   "source": [
    "## One-Hot Encode Low Cardinality Columns"
   ]
  },
  {
   "cell_type": "code",
   "execution_count": 517,
   "id": "8b6b9f3e",
   "metadata": {},
   "outputs": [
    {
     "name": "stdout",
     "output_type": "stream",
     "text": [
      "Total new shape: (59400, 110)\n",
      "First few column names: ['amount_tsh', 'date_recorded', 'funder', 'gps_height', 'installer', 'longitude', 'latitude', 'wpt_name', 'subvillage', 'region']\n"
     ]
    }
   ],
   "source": [
    "# Apply One-Hot Encode Low Cardinality\n",
    "df_encoded = pd.get_dummies(df_encoded, columns=low_card_cols, drop_first=True)\n",
    "\n",
    "# Preview result\n",
    "print(f\"Total new shape: {df_encoded.shape}\")\n",
    "print(\"First few column names:\", df_encoded.columns[:10].tolist())"
   ]
  },
  {
   "cell_type": "markdown",
   "id": "a510d97d",
   "metadata": {},
   "source": [
    "## Frequency Encode High Cardinality Columns"
   ]
  },
  {
   "cell_type": "code",
   "execution_count": 518,
   "id": "47b4012e",
   "metadata": {},
   "outputs": [],
   "source": [
    "# Apply frequency encoding\n",
    "for col in high_card_cols:\n",
    "    freq_map = df_encoded[col].value_counts().to_dict()\n",
    "    df_encoded[col + '_freq'] = df_encoded[col].map(freq_map)"
   ]
  },
  {
   "cell_type": "code",
   "execution_count": 519,
   "id": "c8e0a83e",
   "metadata": {},
   "outputs": [
    {
     "name": "stdout",
     "output_type": "stream",
     "text": [
      "Final encoded shape: (59400, 124)\n"
     ]
    },
    {
     "data": {
      "text/html": [
       "<div>\n",
       "<style scoped>\n",
       "    .dataframe tbody tr th:only-of-type {\n",
       "        vertical-align: middle;\n",
       "    }\n",
       "\n",
       "    .dataframe tbody tr th {\n",
       "        vertical-align: top;\n",
       "    }\n",
       "\n",
       "    .dataframe thead th {\n",
       "        text-align: right;\n",
       "    }\n",
       "</style>\n",
       "<table border=\"1\" class=\"dataframe\">\n",
       "  <thead>\n",
       "    <tr style=\"text-align: right;\">\n",
       "      <th></th>\n",
       "      <th>amount_tsh</th>\n",
       "      <th>date_recorded</th>\n",
       "      <th>funder</th>\n",
       "      <th>gps_height</th>\n",
       "      <th>installer</th>\n",
       "      <th>longitude</th>\n",
       "      <th>latitude</th>\n",
       "      <th>wpt_name</th>\n",
       "      <th>subvillage</th>\n",
       "      <th>region</th>\n",
       "      <th>...</th>\n",
       "      <th>date_recorded_freq</th>\n",
       "      <th>lga_freq</th>\n",
       "      <th>construction_year_freq</th>\n",
       "      <th>region_freq</th>\n",
       "      <th>extraction_type_freq</th>\n",
       "      <th>extraction_type_group_freq</th>\n",
       "      <th>management_freq</th>\n",
       "      <th>installer_freq</th>\n",
       "      <th>funder_freq</th>\n",
       "      <th>scheme_management_freq</th>\n",
       "    </tr>\n",
       "  </thead>\n",
       "  <tbody>\n",
       "    <tr>\n",
       "      <th>0</th>\n",
       "      <td>6000.0</td>\n",
       "      <td>2011-03-14</td>\n",
       "      <td>Other</td>\n",
       "      <td>1390</td>\n",
       "      <td>Other</td>\n",
       "      <td>34.938093</td>\n",
       "      <td>-9.856322</td>\n",
       "      <td>none</td>\n",
       "      <td>Mnyusi B</td>\n",
       "      <td>Iringa</td>\n",
       "      <td>...</td>\n",
       "      <td>520</td>\n",
       "      <td>564</td>\n",
       "      <td>979</td>\n",
       "      <td>5294</td>\n",
       "      <td>26780</td>\n",
       "      <td>26780</td>\n",
       "      <td>40507</td>\n",
       "      <td>33013</td>\n",
       "      <td>37739</td>\n",
       "      <td>36793.0</td>\n",
       "    </tr>\n",
       "    <tr>\n",
       "      <th>1</th>\n",
       "      <td>0.0</td>\n",
       "      <td>2013-03-06</td>\n",
       "      <td>Other</td>\n",
       "      <td>1399</td>\n",
       "      <td>Other</td>\n",
       "      <td>34.698766</td>\n",
       "      <td>-2.147466</td>\n",
       "      <td>Zahanati</td>\n",
       "      <td>Nyamara</td>\n",
       "      <td>Mara</td>\n",
       "      <td>...</td>\n",
       "      <td>132</td>\n",
       "      <td>716</td>\n",
       "      <td>2645</td>\n",
       "      <td>1969</td>\n",
       "      <td>26780</td>\n",
       "      <td>26780</td>\n",
       "      <td>6515</td>\n",
       "      <td>33013</td>\n",
       "      <td>37739</td>\n",
       "      <td>766.0</td>\n",
       "    </tr>\n",
       "    <tr>\n",
       "      <th>2</th>\n",
       "      <td>25.0</td>\n",
       "      <td>2013-02-25</td>\n",
       "      <td>Other</td>\n",
       "      <td>686</td>\n",
       "      <td>Other</td>\n",
       "      <td>37.460664</td>\n",
       "      <td>-3.821329</td>\n",
       "      <td>Kwa Mahundi</td>\n",
       "      <td>Majengo</td>\n",
       "      <td>Manyara</td>\n",
       "      <td>...</td>\n",
       "      <td>277</td>\n",
       "      <td>308</td>\n",
       "      <td>2533</td>\n",
       "      <td>1583</td>\n",
       "      <td>26780</td>\n",
       "      <td>26780</td>\n",
       "      <td>40507</td>\n",
       "      <td>33013</td>\n",
       "      <td>37739</td>\n",
       "      <td>36793.0</td>\n",
       "    </tr>\n",
       "    <tr>\n",
       "      <th>3</th>\n",
       "      <td>0.0</td>\n",
       "      <td>2013-01-28</td>\n",
       "      <td>Unicef</td>\n",
       "      <td>263</td>\n",
       "      <td>Other</td>\n",
       "      <td>38.486161</td>\n",
       "      <td>-11.155298</td>\n",
       "      <td>Zahanati Ya Nanyumbu</td>\n",
       "      <td>Mahakamani</td>\n",
       "      <td>Mtwara</td>\n",
       "      <td>...</td>\n",
       "      <td>376</td>\n",
       "      <td>158</td>\n",
       "      <td>434</td>\n",
       "      <td>1730</td>\n",
       "      <td>4764</td>\n",
       "      <td>6179</td>\n",
       "      <td>40507</td>\n",
       "      <td>33013</td>\n",
       "      <td>1033</td>\n",
       "      <td>36793.0</td>\n",
       "    </tr>\n",
       "    <tr>\n",
       "      <th>4</th>\n",
       "      <td>0.0</td>\n",
       "      <td>2011-07-13</td>\n",
       "      <td>Other</td>\n",
       "      <td>0</td>\n",
       "      <td>Other</td>\n",
       "      <td>31.130847</td>\n",
       "      <td>-1.825359</td>\n",
       "      <td>Shuleni</td>\n",
       "      <td>Kyanyamisa</td>\n",
       "      <td>Kagera</td>\n",
       "      <td>...</td>\n",
       "      <td>240</td>\n",
       "      <td>771</td>\n",
       "      <td>22800</td>\n",
       "      <td>3316</td>\n",
       "      <td>26780</td>\n",
       "      <td>26780</td>\n",
       "      <td>844</td>\n",
       "      <td>33013</td>\n",
       "      <td>37739</td>\n",
       "      <td>NaN</td>\n",
       "    </tr>\n",
       "  </tbody>\n",
       "</table>\n",
       "<p>5 rows × 124 columns</p>\n",
       "</div>"
      ],
      "text/plain": [
       "   amount_tsh date_recorded  funder  gps_height installer  longitude  \\\n",
       "0      6000.0    2011-03-14   Other        1390     Other  34.938093   \n",
       "1         0.0    2013-03-06   Other        1399     Other  34.698766   \n",
       "2        25.0    2013-02-25   Other         686     Other  37.460664   \n",
       "3         0.0    2013-01-28  Unicef         263     Other  38.486161   \n",
       "4         0.0    2011-07-13   Other           0     Other  31.130847   \n",
       "\n",
       "    latitude              wpt_name  subvillage   region  ...  \\\n",
       "0  -9.856322                  none    Mnyusi B   Iringa  ...   \n",
       "1  -2.147466              Zahanati     Nyamara     Mara  ...   \n",
       "2  -3.821329           Kwa Mahundi     Majengo  Manyara  ...   \n",
       "3 -11.155298  Zahanati Ya Nanyumbu  Mahakamani   Mtwara  ...   \n",
       "4  -1.825359               Shuleni  Kyanyamisa   Kagera  ...   \n",
       "\n",
       "   date_recorded_freq  lga_freq construction_year_freq region_freq  \\\n",
       "0                 520       564                    979        5294   \n",
       "1                 132       716                   2645        1969   \n",
       "2                 277       308                   2533        1583   \n",
       "3                 376       158                    434        1730   \n",
       "4                 240       771                  22800        3316   \n",
       "\n",
       "   extraction_type_freq  extraction_type_group_freq management_freq  \\\n",
       "0                 26780                       26780           40507   \n",
       "1                 26780                       26780            6515   \n",
       "2                 26780                       26780           40507   \n",
       "3                  4764                        6179           40507   \n",
       "4                 26780                       26780             844   \n",
       "\n",
       "  installer_freq funder_freq  scheme_management_freq  \n",
       "0          33013       37739                 36793.0  \n",
       "1          33013       37739                   766.0  \n",
       "2          33013       37739                 36793.0  \n",
       "3          33013        1033                 36793.0  \n",
       "4          33013       37739                     NaN  \n",
       "\n",
       "[5 rows x 124 columns]"
      ]
     },
     "execution_count": 519,
     "metadata": {},
     "output_type": "execute_result"
    }
   ],
   "source": [
    "# Check result\n",
    "print(\"Final encoded shape:\", df_encoded.shape)\n",
    "df_encoded.head()"
   ]
  },
  {
   "cell_type": "code",
   "execution_count": 520,
   "id": "91d18057",
   "metadata": {},
   "outputs": [],
   "source": [
    "# drop the original: \n",
    "df_encoded.drop(columns=high_card_cols, inplace=True)"
   ]
  },
  {
   "cell_type": "code",
   "execution_count": 521,
   "id": "94f6ef97",
   "metadata": {},
   "outputs": [
    {
     "data": {
      "text/plain": [
       "['funder_freq_map.pkl']"
      ]
     },
     "execution_count": 521,
     "metadata": {},
     "output_type": "execute_result"
    }
   ],
   "source": [
    "# Save the Mapping for Test Set\n",
    "joblib.dump(freq_map, 'funder_freq_map.pkl')"
   ]
  },
  {
   "cell_type": "markdown",
   "id": "06cb56c1",
   "metadata": {},
   "source": [
    "# Check for and Handle Outliers in Numerical Features"
   ]
  },
  {
   "cell_type": "markdown",
   "id": "310831ba",
   "metadata": {},
   "source": [
    "## Identify Numerical Columns"
   ]
  },
  {
   "cell_type": "code",
   "execution_count": 522,
   "id": "3c9a765b",
   "metadata": {},
   "outputs": [
    {
     "data": {
      "text/plain": [
       "['amount_tsh',\n",
       " 'gps_height',\n",
       " 'longitude',\n",
       " 'latitude',\n",
       " 'population',\n",
       " 'wpt_name_freq',\n",
       " 'subvillage_freq',\n",
       " 'scheme_name_freq',\n",
       " 'ward_freq',\n",
       " 'date_recorded_freq',\n",
       " 'lga_freq',\n",
       " 'construction_year_freq',\n",
       " 'region_freq',\n",
       " 'extraction_type_freq',\n",
       " 'extraction_type_group_freq',\n",
       " 'management_freq',\n",
       " 'installer_freq',\n",
       " 'funder_freq',\n",
       " 'scheme_management_freq']"
      ]
     },
     "execution_count": 522,
     "metadata": {},
     "output_type": "execute_result"
    }
   ],
   "source": [
    "# Get numeric columns, but exclude ID or code-like columns\n",
    "numeric_cols = df_encoded.select_dtypes(include=['int64', 'float64']).columns.tolist()\n",
    "excluded = ['id', 'region_code', 'district_code']  # Don't plot these\n",
    "numeric_cols = [col for col in numeric_cols if col not in excluded]\n",
    "numeric_cols"
   ]
  },
  {
   "cell_type": "markdown",
   "id": "958627da",
   "metadata": {},
   "source": [
    "# Visualize Distributions"
   ]
  },
  {
   "cell_type": "code",
   "execution_count": 523,
   "id": "fe0a1f65",
   "metadata": {},
   "outputs": [
    {
     "data": {
      "image/png": "[encoded data removed]",
      "text/plain": [
       "<Figure size 576x144 with 1 Axes>"
      ]
     },
     "metadata": {
      "needs_background": "light"
     },
     "output_type": "display_data"
    },
    {
     "data": {
      "image/png": "[encoded data removed]",
      "text/plain": [
       "<Figure size 576x144 with 1 Axes>"
      ]
     },
     "metadata": {
      "needs_background": "light"
     },
     "output_type": "display_data"
    },
    {
     "data": {
      "image/png": "[encoded data removed]",
      "text/plain": [
       "<Figure size 576x144 with 1 Axes>"
      ]
     },
     "metadata": {
      "needs_background": "light"
     },
     "output_type": "display_data"
    },
    {
     "data": {
      "image/png": "[encoded data removed]",
      "text/plain": [
       "<Figure size 576x144 with 1 Axes>"
      ]
     },
     "metadata": {
      "needs_background": "light"
     },
     "output_type": "display_data"
    },
    {
     "data": {
      "image/png": "[encoded data removed]",
      "text/plain": [
       "<Figure size 576x144 with 1 Axes>"
      ]
     },
     "metadata": {
      "needs_background": "light"
     },
     "output_type": "display_data"
    },
    {
     "data": {
      "image/png": "[encoded data removed]",
      "text/plain": [
       "<Figure size 576x144 with 1 Axes>"
      ]
     },
     "metadata": {
      "needs_background": "light"
     },
     "output_type": "display_data"
    },
    {
     "data": {
      "image/png": "[encoded data removed]",
      "text/plain": [
       "<Figure size 576x144 with 1 Axes>"
      ]
     },
     "metadata": {
      "needs_background": "light"
     },
     "output_type": "display_data"
    },
    {
     "data": {
      "image/png": "[encoded data removed]",
      "text/plain": [
       "<Figure size 576x144 with 1 Axes>"
      ]
     },
     "metadata": {
      "needs_background": "light"
     },
     "output_type": "display_data"
    },
    {
     "data": {
      "image/png": "[encoded data removed]",
      "text/plain": [
       "<Figure size 576x144 with 1 Axes>"
      ]
     },
     "metadata": {
      "needs_background": "light"
     },
     "output_type": "display_data"
    },
    {
     "data": {
      "image/png": "[encoded data removed]",
      "text/plain": [
       "<Figure size 576x144 with 1 Axes>"
      ]
     },
     "metadata": {
      "needs_background": "light"
     },
     "output_type": "display_data"
    },
    {
     "data": {
      "image/png": "[encoded data removed]",
      "text/plain": [
       "<Figure size 576x144 with 1 Axes>"
      ]
     },
     "metadata": {
      "needs_background": "light"
     },
     "output_type": "display_data"
    },
    {
     "data": {
      "image/png": "[encoded data removed]",
      "text/plain": [
       "<Figure size 576x144 with 1 Axes>"
      ]
     },
     "metadata": {
      "needs_background": "light"
     },
     "output_type": "display_data"
    },
    {
     "data": {
      "image/png": "[encoded data removed]",
      "text/plain": [
       "<Figure size 576x144 with 1 Axes>"
      ]
     },
     "metadata": {
      "needs_background": "light"
     },
     "output_type": "display_data"
    },
    {
     "data": {
      "image/png": "[encoded data removed]",
      "text/plain": [
       "<Figure size 576x144 with 1 Axes>"
      ]
     },
     "metadata": {
      "needs_background": "light"
     },
     "output_type": "display_data"
    },
    {
     "data": {
      "image/png": "[encoded data removed]",
      "text/plain": [
       "<Figure size 576x144 with 1 Axes>"
      ]
     },
     "metadata": {
      "needs_background": "light"
     },
     "output_type": "display_data"
    },
    {
     "data": {
      "image/png": "[encoded data removed]",
      "text/plain": [
       "<Figure size 576x144 with 1 Axes>"
      ]
     },
     "metadata": {
      "needs_background": "light"
     },
     "output_type": "display_data"
    },
    {
     "data": {
      "image/png": "[encoded data removed]",
      "text/plain": [
       "<Figure size 576x144 with 1 Axes>"
      ]
     },
     "metadata": {
      "needs_background": "light"
     },
     "output_type": "display_data"
    },
    {
     "data": {
      "image/png": "[encoded data removed]",
      "text/plain": [
       "<Figure size 576x144 with 1 Axes>"
      ]
     },
     "metadata": {
      "needs_background": "light"
     },
     "output_type": "display_data"
    },
    {
     "data": {
      "image/png": "[encoded data removed]",
      "text/plain": [
       "<Figure size 576x144 with 1 Axes>"
      ]
     },
     "metadata": {
      "needs_background": "light"
     },
     "output_type": "display_data"
    }
   ],
   "source": [
    "\n",
    "# Loop and plot boxplot for each column\n",
    "for col in numeric_cols:\n",
    "    plt.figure(figsize=(8, 2))\n",
    "    sns.boxplot(x=df_encoded[col], color='skyblue')\n",
    "    plt.title(f'Boxplot for: {col}')\n",
    "    plt.xlabel(col)\n",
    "    plt.tight_layout()\n",
    "    plt.show()"
   ]
  },
  {
   "cell_type": "markdown",
   "id": "069fb873",
   "metadata": {},
   "source": [
    "## Detect Outliers (Statistical Methods)"
   ]
  },
  {
   "cell_type": "code",
   "execution_count": 524,
   "id": "3cf4818e",
   "metadata": {},
   "outputs": [
    {
     "name": "stdout",
     "output_type": "stream",
     "text": [
      "amount_tsh: Capped outliers outside [-30.00, 50.00]\n",
      "population: Capped outliers outside [-322.50, 537.50]\n",
      "gps_height: Capped outliers outside [-1978.88, 3298.12]\n",
      "longitude: Capped outliers outside [26.96, 43.31]\n",
      "latitude: Capped outliers outside [-16.36, 4.50]\n"
     ]
    }
   ],
   "source": [
    "# Cap Outliers Using IQR and Flag Them\n",
    "def cap_outliers_iqr(df, column):\n",
    "    # Backup original values\n",
    "    df[f'{column}_before_clip'] = df[column]\n",
    "\n",
    "# Calculates lower and upper bounds for acceptable values using IQR\n",
    "    # Calculate IQR bounds\n",
    "    Q1 = df[column].quantile(0.25)\n",
    "    Q3 = df[column].quantile(0.75)\n",
    "    IQR = Q3 - Q1\n",
    "    lower = Q1 - 1.5 * IQR\n",
    "    upper = Q3 + 1.5 * IQR\n",
    "\n",
    "    # Flag which values were outliers\n",
    "    df[f'{column}_was_outlier'] = (df[column] < lower) | (df[column] > upper)\n",
    "\n",
    "    # Apply clipping\n",
    "    df[column] = df[column].clip(lower, upper)\n",
    "\n",
    "    print(f\"{column}: Capped outliers outside [{lower:.2f}, {upper:.2f}]\")\n",
    "    return df\n",
    "\n",
    "# Apply to selected columns\n",
    "columns_to_cap = ['amount_tsh', 'population', 'gps_height','longitude', 'latitude']\n",
    "\n",
    "for col in columns_to_cap:\n",
    "    df_encoded = cap_outliers_iqr(df_encoded, col)"
   ]
  },
  {
   "cell_type": "code",
   "execution_count": 525,
   "id": "38a7e6e5",
   "metadata": {},
   "outputs": [
    {
     "name": "stdout",
     "output_type": "stream",
     "text": [
      "longitude: Clipping values to range [29, 41] based on valid GPS range for Tanzania\n",
      "latitude: Clipping values to range [-12, -1] based on valid GPS range for Tanzania\n"
     ]
    }
   ],
   "source": [
    "# Apply Domain-Based Clipping to longitude\n",
    "# Reasonable Tanzania bounds: longitude between 29 and 41 and latitude -12 to -1\n",
    "# Clipping helps make location-based features more reliable\n",
    "print(\"longitude: Clipping values to range [29, 41] based on valid GPS range for Tanzania\")\n",
    "df_encoded['longitude'] = df_encoded['longitude'].clip(lower=29, upper=41)\n",
    "\n",
    "print(\"latitude: Clipping values to range [-12, -1] based on valid GPS range for Tanzania\")\n",
    "df_encoded['latitude'] = df_encoded['latitude'].clip(lower=-12, upper=-1)"
   ]
  },
  {
   "cell_type": "markdown",
   "id": "3777117d",
   "metadata": {},
   "source": [
    "## Visualize Before vs After"
   ]
  },
  {
   "cell_type": "code",
   "execution_count": 526,
   "id": "7a4a7ba3",
   "metadata": {},
   "outputs": [],
   "source": [
    "def show_before_after(col):\n",
    "    fig, axes = plt.subplots(nrows=1, ncols=2, figsize=(14, 2))\n",
    "    sns.boxplot(x=df_encoded[f\"{col}_before_clip\"], ax=axes[0], color='skyblue')\n",
    "    axes[0].set_title(f'Before Clipping: {col}')\n",
    "    sns.boxplot(x=df_encoded[col], ax=axes[1], color='lightgreen')\n",
    "    axes[1].set_title(f'After Clipping: {col}')\n",
    "    for ax in axes:\n",
    "        ax.grid(True)\n",
    "        ax.set_xlabel('')\n",
    "    plt.tight_layout()\n",
    "    plt.show()\n"
   ]
  },
  {
   "cell_type": "code",
   "execution_count": 527,
   "id": "cc23d404",
   "metadata": {},
   "outputs": [
    {
     "data": {
      "image/png": "[encoded data removed]",
      "text/plain": [
       "<Figure size 1008x144 with 2 Axes>"
      ]
     },
     "metadata": {
      "needs_background": "light"
     },
     "output_type": "display_data"
    },
    {
     "data": {
      "image/png": "[encoded data removed]",
      "text/plain": [
       "<Figure size 1008x144 with 2 Axes>"
      ]
     },
     "metadata": {
      "needs_background": "light"
     },
     "output_type": "display_data"
    },
    {
     "data": {
      "image/png": "[encoded data removed]",
      "text/plain": [
       "<Figure size 1008x144 with 2 Axes>"
      ]
     },
     "metadata": {
      "needs_background": "light"
     },
     "output_type": "display_data"
    },
    {
     "data": {
      "image/png": "[encoded data removed]",
      "text/plain": [
       "<Figure size 1008x144 with 2 Axes>"
      ]
     },
     "metadata": {
      "needs_background": "light"
     },
     "output_type": "display_data"
    }
   ],
   "source": [
    "show_before_after('amount_tsh')\n",
    "show_before_after('population')\n",
    "show_before_after('longitude')\n",
    "show_before_after('latitude')"
   ]
  },
  {
   "cell_type": "markdown",
   "id": "a7d75433",
   "metadata": {},
   "source": [
    "# Normalize / Standardize Numerical Features"
   ]
  },
  {
   "cell_type": "markdown",
   "id": "9b8116b2",
   "metadata": {},
   "source": [
    "th goal is to make sure all the numerical features are on the same scale."
   ]
  },
  {
   "cell_type": "code",
   "execution_count": 528,
   "id": "27aa794a",
   "metadata": {},
   "outputs": [],
   "source": [
    "# Select Numeric Columns to Scale\n",
    "columns_to_scale = ['amount_tsh', 'population', 'gps_height']"
   ]
  },
  {
   "cell_type": "code",
   "execution_count": 529,
   "id": "3f34aa6a",
   "metadata": {},
   "outputs": [
    {
     "name": "stdout",
     "output_type": "stream",
     "text": [
      "              count          mean       std       min       25%       50%  \\\n",
      "amount_tsh  59400.0  7.815335e-16  1.000008 -0.607771 -0.607771 -0.607771   \n",
      "population  59400.0 -3.366987e-16  1.000008 -0.731708 -0.731708 -0.589268   \n",
      "gps_height  59400.0  1.731275e-16  1.000008 -1.094050 -0.964200 -0.431817   \n",
      "\n",
      "                 75%       max  \n",
      "amount_tsh  0.345703  1.775913  \n",
      "population  0.493270  2.330735  \n",
      "gps_height  0.939176  3.032277  \n"
     ]
    }
   ],
   "source": [
    "# Apply StandardScaler\n",
    "scaler = StandardScaler()\n",
    "df_encoded[columns_to_scale] = scaler.fit_transform(df_encoded[columns_to_scale])\n",
    "print(df_encoded[columns_to_scale].describe().T)"
   ]
  },
  {
   "cell_type": "code",
   "execution_count": 530,
   "id": "3effa141",
   "metadata": {},
   "outputs": [
    {
     "data": {
      "text/plain": [
       "['standard_scaler.pkl']"
      ]
     },
     "execution_count": 530,
     "metadata": {},
     "output_type": "execute_result"
    }
   ],
   "source": [
    "# save the scaler\n",
    "joblib.dump(scaler, 'standard_scaler.pkl')\n"
   ]
  },
  {
   "cell_type": "markdown",
   "id": "48d59165",
   "metadata": {},
   "source": [
    "Tip: Numerical features were scaled using StandardScaler to normalize magnitudes and improve model convergence. "
   ]
  },
  {
   "cell_type": "markdown",
   "id": "b8b155a4",
   "metadata": {},
   "source": [
    "# Build a Data Cleaning Pipeline"
   ]
  },
  {
   "cell_type": "code",
   "execution_count": 531,
   "id": "f4d90921",
   "metadata": {},
   "outputs": [],
   "source": [
    "# Define the IQRClipper\n",
    "class IQRClipper(BaseEstimator, TransformerMixin):\n",
    "    def __init__(self, columns):\n",
    "        self.columns = columns\n",
    "        self.bounds = {}\n",
    "\n",
    "    def fit(self, X, y=None):\n",
    "        for col in self.columns:\n",
    "            Q1 = X[col].quantile(0.25)\n",
    "            Q3 = X[col].quantile(0.75)\n",
    "            IQR = Q3 - Q1\n",
    "            lower = Q1 - 1.5 * IQR\n",
    "            upper = Q3 + 1.5 * IQR\n",
    "            self.bounds[col] = (lower, upper)\n",
    "        return self\n",
    "\n",
    "    def transform(self, X):\n",
    "        X = X.copy()\n",
    "        for col in self.columns:\n",
    "            lower, upper = self.bounds[col]\n",
    "            X[col] = X[col].clip(lower, upper)\n",
    "        return X"
   ]
  },
  {
   "cell_type": "code",
   "execution_count": 532,
   "id": "11555b65",
   "metadata": {},
   "outputs": [],
   "source": [
    "# setup the column list\n",
    "# Define your features\n",
    "numeric_cols = ['amount_tsh', 'population', 'gps_height']\n",
    "categorical_cols = ['basin', 'payment_type', 'management']\n",
    "# Boolean columns can often go straight in or be cast to int\n",
    "boolean_cols = ['permit', 'public_meeting']"
   ]
  },
  {
   "cell_type": "code",
   "execution_count": 533,
   "id": "d06e68b2",
   "metadata": {},
   "outputs": [],
   "source": [
    "# define the pipelines\n",
    "\n",
    "# Numeric preprocessing\n",
    "numeric_pipeline = Pipeline([\n",
    "    ('iqr_clip', IQRClipper(columns=numeric_cols)),\n",
    "    ('imputer', SimpleImputer(strategy='median')),\n",
    "    ('scaler', StandardScaler())\n",
    "])\n",
    "\n",
    "# Categorical preprocessing\n",
    "categorical_pipeline = Pipeline([\n",
    "    ('imputer', SimpleImputer(strategy='most_frequent')),\n",
    "    ('encoder', OneHotEncoder(handle_unknown='ignore'))\n",
    "])\n",
    "\n",
    "# Boolean preprocessing (optional: cast to int or handle as-is)\n",
    "boolean_pipeline = Pipeline([\n",
    "    ('imputer', SimpleImputer(strategy='most_frequent'))\n",
    "])\n"
   ]
  },
  {
   "cell_type": "code",
   "execution_count": 534,
   "id": "6758a989",
   "metadata": {},
   "outputs": [],
   "source": [
    "# combine into full preprocessor\n",
    "preprocessor = ColumnTransformer(transformers=[\n",
    "    ('num', numeric_pipeline, numeric_cols),\n",
    "    ('cat', categorical_pipeline, categorical_cols),\n",
    "    ('bool', boolean_pipeline, boolean_cols)\n",
    "])\n"
   ]
  },
  {
   "cell_type": "code",
   "execution_count": 535,
   "id": "2b4b1daf",
   "metadata": {},
   "outputs": [],
   "source": [
    "# wrap the final pipeline \n",
    "final_pipeline = Pipeline(steps=[\n",
    "    ('preprocessor', preprocessor)\n",
    "])\n"
   ]
  },
  {
   "cell_type": "code",
   "execution_count": 536,
   "id": "d6101f04",
   "metadata": {},
   "outputs": [
    {
     "data": {
      "text/plain": [
       "['data_cleaning_pipeline.pkl']"
      ]
     },
     "execution_count": 536,
     "metadata": {},
     "output_type": "execute_result"
    }
   ],
   "source": [
    "# save the pipeline for later use\n",
    "joblib.dump(final_pipeline, 'data_cleaning_pipeline.pkl')\n"
   ]
  },
  {
   "cell_type": "code",
   "execution_count": 537,
   "id": "3aca4dab",
   "metadata": {},
   "outputs": [
    {
     "name": "stdout",
     "output_type": "stream",
     "text": [
      "['amount_tsh', 'date_recorded', 'funder', 'gps_height', 'installer', 'longitude', 'latitude', 'wpt_name', 'basin', 'subvillage', 'region', 'region_code', 'district_code', 'lga', 'ward', 'population', 'public_meeting', 'recorded_by', 'scheme_management', 'scheme_name', 'permit', 'construction_year', 'extraction_type', 'extraction_type_group', 'extraction_type_class', 'management', 'management_group', 'payment', 'payment_type', 'water_quality', 'quality_group', 'quantity', 'quantity_group', 'source', 'source_type', 'source_class', 'waterpoint_type', 'waterpoint_type_group', 'status_group', 'funder_missing', 'scheme_name_missing', 'scheme_management_missing', 'public_meeting_missing', 'permit_missing', 'subvillage_missing']\n"
     ]
    }
   ],
   "source": [
    "print(df_train.columns.tolist())"
   ]
  },
  {
   "cell_type": "code",
   "execution_count": 538,
   "id": "3c5cd67c",
   "metadata": {},
   "outputs": [],
   "source": [
    "df_train['permit'] = df_train['permit'].astype(int)\n",
    "df_train['public_meeting'] = df_train['public_meeting'].astype(int)\n"
   ]
  },
  {
   "cell_type": "code",
   "execution_count": 539,
   "id": "74a3addf",
   "metadata": {},
   "outputs": [],
   "source": [
    "# Now that booleans are numeric, include them in numeric pipeline\n",
    "numeric_cols = ['amount_tsh', 'population', 'gps_height', 'permit', 'public_meeting']\n",
    "categorical_cols = ['basin', 'payment_type', 'management']\n"
   ]
  },
  {
   "cell_type": "code",
   "execution_count": 540,
   "id": "30237072",
   "metadata": {},
   "outputs": [],
   "source": [
    "preprocessor = ColumnTransformer(transformers=[\n",
    "    ('num', numeric_pipeline, numeric_cols),\n",
    "    ('cat', categorical_pipeline, categorical_cols)\n",
    "])\n"
   ]
  },
  {
   "cell_type": "code",
   "execution_count": 541,
   "id": "e0f3bbc2",
   "metadata": {},
   "outputs": [
    {
     "name": "stdout",
     "output_type": "stream",
     "text": [
      "Pipeline(steps=[('preprocessor',\n",
      "                 ColumnTransformer(transformers=[('num',\n",
      "                                                  Pipeline(steps=[('iqr_clip',\n",
      "                                                                   IQRClipper(columns=['amount_tsh',\n",
      "                                                                                       'population',\n",
      "                                                                                       'gps_height'])),\n",
      "                                                                  ('imputer',\n",
      "                                                                   SimpleImputer(strategy='median')),\n",
      "                                                                  ('scaler',\n",
      "                                                                   StandardScaler())]),\n",
      "                                                  ['amount_tsh', 'population',\n",
      "                                                   'gps_height']),\n",
      "                                                 ('cat',\n",
      "                                                  Pipeline(steps=[('imputer',\n",
      "                                                                   SimpleImputer(strategy='most_frequent')),\n",
      "                                                                  ('encoder',\n",
      "                                                                   OneHotEncoder(handle_unknown='ignore'))]),\n",
      "                                                  ['basin', 'payment_type',\n",
      "                                                   'management']),\n",
      "                                                 ('bool',\n",
      "                                                  Pipeline(steps=[('imputer',\n",
      "                                                                   SimpleImputer(strategy='most_frequent'))]),\n",
      "                                                  ['permit',\n",
      "                                                   'public_meeting'])]))])\n"
     ]
    }
   ],
   "source": [
    "print(final_pipeline)"
   ]
  },
  {
   "cell_type": "code",
   "execution_count": 543,
   "id": "5daa961e",
   "metadata": {},
   "outputs": [
    {
     "data": {
      "text/html": [
       "<style>div.sk-top-container {color: black;background-color: white;}div.sk-toggleable {background-color: white;}label.sk-toggleable__label {cursor: pointer;display: block;width: 100%;margin-bottom: 0;padding: 0.2em 0.3em;box-sizing: border-box;text-align: center;}div.sk-toggleable__content {max-height: 0;max-width: 0;overflow: hidden;text-align: left;background-color: #f0f8ff;}div.sk-toggleable__content pre {margin: 0.2em;color: black;border-radius: 0.25em;background-color: #f0f8ff;}input.sk-toggleable__control:checked~div.sk-toggleable__content {max-height: 200px;max-width: 100%;overflow: auto;}div.sk-estimator input.sk-toggleable__control:checked~label.sk-toggleable__label {background-color: #d4ebff;}div.sk-label input.sk-toggleable__control:checked~label.sk-toggleable__label {background-color: #d4ebff;}input.sk-hidden--visually {border: 0;clip: rect(1px 1px 1px 1px);clip: rect(1px, 1px, 1px, 1px);height: 1px;margin: -1px;overflow: hidden;padding: 0;position: absolute;width: 1px;}div.sk-estimator {font-family: monospace;background-color: #f0f8ff;margin: 0.25em 0.25em;border: 1px dotted black;border-radius: 0.25em;box-sizing: border-box;}div.sk-estimator:hover {background-color: #d4ebff;}div.sk-parallel-item::after {content: \"\";width: 100%;border-bottom: 1px solid gray;flex-grow: 1;}div.sk-label:hover label.sk-toggleable__label {background-color: #d4ebff;}div.sk-serial::before {content: \"\";position: absolute;border-left: 1px solid gray;box-sizing: border-box;top: 2em;bottom: 0;left: 50%;}div.sk-serial {display: flex;flex-direction: column;align-items: center;background-color: white;}div.sk-item {z-index: 1;}div.sk-parallel {display: flex;align-items: stretch;justify-content: center;background-color: white;}div.sk-parallel-item {display: flex;flex-direction: column;position: relative;background-color: white;}div.sk-parallel-item:first-child::after {align-self: flex-end;width: 50%;}div.sk-parallel-item:last-child::after {align-self: flex-start;width: 50%;}div.sk-parallel-item:only-child::after {width: 0;}div.sk-dashed-wrapped {border: 1px dashed gray;margin: 0.2em;box-sizing: border-box;padding-bottom: 0.1em;background-color: white;position: relative;}div.sk-label label {font-family: monospace;font-weight: bold;background-color: white;display: inline-block;line-height: 1.2em;}div.sk-label-container {position: relative;z-index: 2;text-align: center;}div.sk-container {display: inline-block;position: relative;}</style><div class=\"sk-top-container\"><div class=\"sk-container\"><div class=\"sk-item sk-dashed-wrapped\"><div class=\"sk-label-container\"><div class=\"sk-label sk-toggleable\"><input class=\"sk-toggleable__control sk-hidden--visually\" id=\"f4f6eced-8c03-4ed2-b214-219aa16a5efa\" type=\"checkbox\" ><label class=\"sk-toggleable__label\" for=\"f4f6eced-8c03-4ed2-b214-219aa16a5efa\">Pipeline</label><div class=\"sk-toggleable__content\"><pre>Pipeline(steps=[('preprocessor',\n",
       "                 ColumnTransformer(transformers=[('num',\n",
       "                                                  Pipeline(steps=[('iqr_clip',\n",
       "                                                                   IQRClipper(columns=['amount_tsh',\n",
       "                                                                                       'population',\n",
       "                                                                                       'gps_height'])),\n",
       "                                                                  ('imputer',\n",
       "                                                                   SimpleImputer(strategy='median')),\n",
       "                                                                  ('scaler',\n",
       "                                                                   StandardScaler())]),\n",
       "                                                  ['amount_tsh', 'population',\n",
       "                                                   'gps_height']),\n",
       "                                                 ('cat',\n",
       "                                                  Pipeline(steps=[('imputer',\n",
       "                                                                   SimpleImputer(strategy='most_frequent')),\n",
       "                                                                  ('encoder',\n",
       "                                                                   OneHotEncoder(handle_unknown='ignore'))]),\n",
       "                                                  ['basin', 'payment_type',\n",
       "                                                   'management']),\n",
       "                                                 ('bool',\n",
       "                                                  Pipeline(steps=[('imputer',\n",
       "                                                                   SimpleImputer(strategy='most_frequent'))]),\n",
       "                                                  ['permit',\n",
       "                                                   'public_meeting'])]))])</pre></div></div></div><div class=\"sk-serial\"><div class=\"sk-item sk-dashed-wrapped\"><div class=\"sk-label-container\"><div class=\"sk-label sk-toggleable\"><input class=\"sk-toggleable__control sk-hidden--visually\" id=\"1c3c4f95-b61a-42a6-9879-3ad8fdae760e\" type=\"checkbox\" ><label class=\"sk-toggleable__label\" for=\"1c3c4f95-b61a-42a6-9879-3ad8fdae760e\">preprocessor: ColumnTransformer</label><div class=\"sk-toggleable__content\"><pre>ColumnTransformer(transformers=[('num',\n",
       "                                 Pipeline(steps=[('iqr_clip',\n",
       "                                                  IQRClipper(columns=['amount_tsh',\n",
       "                                                                      'population',\n",
       "                                                                      'gps_height'])),\n",
       "                                                 ('imputer',\n",
       "                                                  SimpleImputer(strategy='median')),\n",
       "                                                 ('scaler', StandardScaler())]),\n",
       "                                 ['amount_tsh', 'population', 'gps_height']),\n",
       "                                ('cat',\n",
       "                                 Pipeline(steps=[('imputer',\n",
       "                                                  SimpleImputer(strategy='most_frequent')),\n",
       "                                                 ('encoder',\n",
       "                                                  OneHotEncoder(handle_unknown='ignore'))]),\n",
       "                                 ['basin', 'payment_type', 'management']),\n",
       "                                ('bool',\n",
       "                                 Pipeline(steps=[('imputer',\n",
       "                                                  SimpleImputer(strategy='most_frequent'))]),\n",
       "                                 ['permit', 'public_meeting'])])</pre></div></div></div><div class=\"sk-parallel\"><div class=\"sk-parallel-item\"><div class=\"sk-item\"><div class=\"sk-label-container\"><div class=\"sk-label sk-toggleable\"><input class=\"sk-toggleable__control sk-hidden--visually\" id=\"98619359-be20-4ae8-824c-9bc412f24b48\" type=\"checkbox\" ><label class=\"sk-toggleable__label\" for=\"98619359-be20-4ae8-824c-9bc412f24b48\">num</label><div class=\"sk-toggleable__content\"><pre>['amount_tsh', 'population', 'gps_height']</pre></div></div></div><div class=\"sk-serial\"><div class=\"sk-item\"><div class=\"sk-serial\"><div class=\"sk-item\"><div class=\"sk-estimator sk-toggleable\"><input class=\"sk-toggleable__control sk-hidden--visually\" id=\"7e8d4acb-6582-438b-a0a4-36b4eacfdaac\" type=\"checkbox\" ><label class=\"sk-toggleable__label\" for=\"7e8d4acb-6582-438b-a0a4-36b4eacfdaac\">IQRClipper</label><div class=\"sk-toggleable__content\"><pre>IQRClipper(columns=['amount_tsh', 'population', 'gps_height'])</pre></div></div></div><div class=\"sk-item\"><div class=\"sk-estimator sk-toggleable\"><input class=\"sk-toggleable__control sk-hidden--visually\" id=\"f73d825e-c35f-458e-be67-f71d123bec4e\" type=\"checkbox\" ><label class=\"sk-toggleable__label\" for=\"f73d825e-c35f-458e-be67-f71d123bec4e\">SimpleImputer</label><div class=\"sk-toggleable__content\"><pre>SimpleImputer(strategy='median')</pre></div></div></div><div class=\"sk-item\"><div class=\"sk-estimator sk-toggleable\"><input class=\"sk-toggleable__control sk-hidden--visually\" id=\"3f1801a1-39c8-4055-8c99-39aa382a003d\" type=\"checkbox\" ><label class=\"sk-toggleable__label\" for=\"3f1801a1-39c8-4055-8c99-39aa382a003d\">StandardScaler</label><div class=\"sk-toggleable__content\"><pre>StandardScaler()</pre></div></div></div></div></div></div></div></div><div class=\"sk-parallel-item\"><div class=\"sk-item\"><div class=\"sk-label-container\"><div class=\"sk-label sk-toggleable\"><input class=\"sk-toggleable__control sk-hidden--visually\" id=\"dc4e40eb-8cea-4453-9dc0-a662ed174645\" type=\"checkbox\" ><label class=\"sk-toggleable__label\" for=\"dc4e40eb-8cea-4453-9dc0-a662ed174645\">cat</label><div class=\"sk-toggleable__content\"><pre>['basin', 'payment_type', 'management']</pre></div></div></div><div class=\"sk-serial\"><div class=\"sk-item\"><div class=\"sk-serial\"><div class=\"sk-item\"><div class=\"sk-estimator sk-toggleable\"><input class=\"sk-toggleable__control sk-hidden--visually\" id=\"6b711ed6-66bc-45d0-8da6-59fe8cc49fcc\" type=\"checkbox\" ><label class=\"sk-toggleable__label\" for=\"6b711ed6-66bc-45d0-8da6-59fe8cc49fcc\">SimpleImputer</label><div class=\"sk-toggleable__content\"><pre>SimpleImputer(strategy='most_frequent')</pre></div></div></div><div class=\"sk-item\"><div class=\"sk-estimator sk-toggleable\"><input class=\"sk-toggleable__control sk-hidden--visually\" id=\"c1cfcf2f-8f7d-4315-8d4c-da92e1f38819\" type=\"checkbox\" ><label class=\"sk-toggleable__label\" for=\"c1cfcf2f-8f7d-4315-8d4c-da92e1f38819\">OneHotEncoder</label><div class=\"sk-toggleable__content\"><pre>OneHotEncoder(handle_unknown='ignore')</pre></div></div></div></div></div></div></div></div><div class=\"sk-parallel-item\"><div class=\"sk-item\"><div class=\"sk-label-container\"><div class=\"sk-label sk-toggleable\"><input class=\"sk-toggleable__control sk-hidden--visually\" id=\"e4bb00a7-5e5c-4b50-98bf-7ee49b0b2eac\" type=\"checkbox\" ><label class=\"sk-toggleable__label\" for=\"e4bb00a7-5e5c-4b50-98bf-7ee49b0b2eac\">bool</label><div class=\"sk-toggleable__content\"><pre>['permit', 'public_meeting']</pre></div></div></div><div class=\"sk-serial\"><div class=\"sk-item\"><div class=\"sk-serial\"><div class=\"sk-item\"><div class=\"sk-estimator sk-toggleable\"><input class=\"sk-toggleable__control sk-hidden--visually\" id=\"65c44a4e-0b0d-4f52-a06f-fe1f996c23de\" type=\"checkbox\" ><label class=\"sk-toggleable__label\" for=\"65c44a4e-0b0d-4f52-a06f-fe1f996c23de\">SimpleImputer</label><div class=\"sk-toggleable__content\"><pre>SimpleImputer(strategy='most_frequent')</pre></div></div></div></div></div></div></div></div></div></div></div></div></div></div>"
      ],
      "text/plain": [
       "Pipeline(steps=[('preprocessor',\n",
       "                 ColumnTransformer(transformers=[('num',\n",
       "                                                  Pipeline(steps=[('iqr_clip',\n",
       "                                                                   IQRClipper(columns=['amount_tsh',\n",
       "                                                                                       'population',\n",
       "                                                                                       'gps_height'])),\n",
       "                                                                  ('imputer',\n",
       "                                                                   SimpleImputer(strategy='median')),\n",
       "                                                                  ('scaler',\n",
       "                                                                   StandardScaler())]),\n",
       "                                                  ['amount_tsh', 'population',\n",
       "                                                   'gps_height']),\n",
       "                                                 ('cat',\n",
       "                                                  Pipeline(steps=[('imputer',\n",
       "                                                                   SimpleImputer(strategy='most_frequent')),\n",
       "                                                                  ('encoder',\n",
       "                                                                   OneHotEncoder(handle_unknown='ignore'))]),\n",
       "                                                  ['basin', 'payment_type',\n",
       "                                                   'management']),\n",
       "                                                 ('bool',\n",
       "                                                  Pipeline(steps=[('imputer',\n",
       "                                                                   SimpleImputer(strategy='most_frequent'))]),\n",
       "                                                  ['permit',\n",
       "                                                   'public_meeting'])]))])"
      ]
     },
     "execution_count": 543,
     "metadata": {},
     "output_type": "execute_result"
    }
   ],
   "source": [
    "from sklearn import set_config\n",
    "set_config(display='diagram')\n",
    "final_pipeline"
   ]
  }
 ],
 "metadata": {
  "kernelspec": {
   "display_name": "base",
   "language": "python",
   "name": "python3"
  },
  "language_info": {
   "codemirror_mode": {
    "name": "ipython",
    "version": 3
   },
   "file_extension": ".py",
   "mimetype": "text/x-python",
   "name": "python",
   "nbconvert_exporter": "python",
   "pygments_lexer": "ipython3",
   "version": "3.8.8"
  }
 },
 "nbformat": 4,
 "nbformat_minor": 5
}
