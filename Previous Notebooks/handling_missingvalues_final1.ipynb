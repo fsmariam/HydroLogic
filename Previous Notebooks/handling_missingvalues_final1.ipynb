{
 "cells": [
  {
   "cell_type": "markdown",
   "id": "359a34af",
   "metadata": {},
   "source": [
    "# Predicting Water Pump Functionality in Tanzania (HydroLogic Project)\n",
    "Authored by Farzaneh Gerami, Subaye Opoku-Acquah & Mariam Farda | \n",
    "March – June 2025"
   ]
  },
  {
   "cell_type": "markdown",
   "id": "9787afa7",
   "metadata": {},
   "source": [
    "# Imports"
   ]
  },
  {
   "cell_type": "code",
   "execution_count": 1420,
   "id": "7a46427f",
   "metadata": {},
   "outputs": [],
   "source": [
    "# Imports\n",
    "import pandas as pd\n",
    "import numpy as np\n",
    "import matplotlib.pyplot as plt\n",
    "import seaborn as sns\n",
    "\n",
    "from scipy import stats\n",
    "from scipy.stats import f_oneway\n",
    "\n",
    "import math\n",
    "\n",
    "import datetime\n",
    "\n",
    "from sklearn.impute import SimpleImputer\n",
    "from sklearn.preprocessing import StandardScaler\n",
    "from sklearn.base import BaseEstimator, TransformerMixin\n",
    "from sklearn.pipeline import Pipeline\n",
    "from sklearn.preprocessing import StandardScaler, OneHotEncoder\n",
    "from sklearn.compose import ColumnTransformer\n",
    "from sklearn.model_selection import train_test_split\n",
    "from sklearn.feature_selection import mutual_info_classif\n",
    "from sklearn.preprocessing import LabelEncoder\n",
    "from sklearn.feature_selection import f_classif\n",
    "from sklearn.preprocessing import LabelEncoder, OrdinalEncoder\n",
    "\n",
    "\n",
    "\n",
    "import joblib\n"
   ]
  },
  {
   "cell_type": "markdown",
   "id": "6411d448",
   "metadata": {},
   "source": [
    "# Sprint 1 - Data Cleaning and Preprocessing"
   ]
  },
  {
   "cell_type": "markdown",
   "id": "5e7ee6bc",
   "metadata": {},
   "source": [
    "## Read Merged Data"
   ]
  },
  {
   "cell_type": "code",
   "execution_count": 1421,
   "id": "f5ff7595",
   "metadata": {},
   "outputs": [
    {
     "data": {
      "text/html": [
       "<div>\n",
       "<style scoped>\n",
       "    .dataframe tbody tr th:only-of-type {\n",
       "        vertical-align: middle;\n",
       "    }\n",
       "\n",
       "    .dataframe tbody tr th {\n",
       "        vertical-align: top;\n",
       "    }\n",
       "\n",
       "    .dataframe thead th {\n",
       "        text-align: right;\n",
       "    }\n",
       "</style>\n",
       "<table border=\"1\" class=\"dataframe\">\n",
       "  <thead>\n",
       "    <tr style=\"text-align: right;\">\n",
       "      <th></th>\n",
       "      <th>id</th>\n",
       "      <th>amount_tsh</th>\n",
       "      <th>date_recorded</th>\n",
       "      <th>funder</th>\n",
       "      <th>gps_height</th>\n",
       "      <th>installer</th>\n",
       "      <th>longitude</th>\n",
       "      <th>latitude</th>\n",
       "      <th>wpt_name</th>\n",
       "      <th>num_private</th>\n",
       "      <th>...</th>\n",
       "      <th>water_quality</th>\n",
       "      <th>quality_group</th>\n",
       "      <th>quantity</th>\n",
       "      <th>quantity_group</th>\n",
       "      <th>source</th>\n",
       "      <th>source_type</th>\n",
       "      <th>source_class</th>\n",
       "      <th>waterpoint_type</th>\n",
       "      <th>waterpoint_type_group</th>\n",
       "      <th>status_group</th>\n",
       "    </tr>\n",
       "  </thead>\n",
       "  <tbody>\n",
       "    <tr>\n",
       "      <th>0</th>\n",
       "      <td>69572</td>\n",
       "      <td>6000.0</td>\n",
       "      <td>2011-03-14</td>\n",
       "      <td>Roman</td>\n",
       "      <td>1390</td>\n",
       "      <td>Roman</td>\n",
       "      <td>34.938093</td>\n",
       "      <td>-9.856322</td>\n",
       "      <td>none</td>\n",
       "      <td>0</td>\n",
       "      <td>...</td>\n",
       "      <td>soft</td>\n",
       "      <td>good</td>\n",
       "      <td>enough</td>\n",
       "      <td>enough</td>\n",
       "      <td>spring</td>\n",
       "      <td>spring</td>\n",
       "      <td>groundwater</td>\n",
       "      <td>communal standpipe</td>\n",
       "      <td>communal standpipe</td>\n",
       "      <td>functional</td>\n",
       "    </tr>\n",
       "    <tr>\n",
       "      <th>1</th>\n",
       "      <td>8776</td>\n",
       "      <td>0.0</td>\n",
       "      <td>2013-03-06</td>\n",
       "      <td>Grumeti</td>\n",
       "      <td>1399</td>\n",
       "      <td>GRUMETI</td>\n",
       "      <td>34.698766</td>\n",
       "      <td>-2.147466</td>\n",
       "      <td>Zahanati</td>\n",
       "      <td>0</td>\n",
       "      <td>...</td>\n",
       "      <td>soft</td>\n",
       "      <td>good</td>\n",
       "      <td>insufficient</td>\n",
       "      <td>insufficient</td>\n",
       "      <td>rainwater harvesting</td>\n",
       "      <td>rainwater harvesting</td>\n",
       "      <td>surface</td>\n",
       "      <td>communal standpipe</td>\n",
       "      <td>communal standpipe</td>\n",
       "      <td>functional</td>\n",
       "    </tr>\n",
       "    <tr>\n",
       "      <th>2</th>\n",
       "      <td>34310</td>\n",
       "      <td>25.0</td>\n",
       "      <td>2013-02-25</td>\n",
       "      <td>Lottery Club</td>\n",
       "      <td>686</td>\n",
       "      <td>World vision</td>\n",
       "      <td>37.460664</td>\n",
       "      <td>-3.821329</td>\n",
       "      <td>Kwa Mahundi</td>\n",
       "      <td>0</td>\n",
       "      <td>...</td>\n",
       "      <td>soft</td>\n",
       "      <td>good</td>\n",
       "      <td>enough</td>\n",
       "      <td>enough</td>\n",
       "      <td>dam</td>\n",
       "      <td>dam</td>\n",
       "      <td>surface</td>\n",
       "      <td>communal standpipe multiple</td>\n",
       "      <td>communal standpipe</td>\n",
       "      <td>functional</td>\n",
       "    </tr>\n",
       "    <tr>\n",
       "      <th>3</th>\n",
       "      <td>67743</td>\n",
       "      <td>0.0</td>\n",
       "      <td>2013-01-28</td>\n",
       "      <td>Unicef</td>\n",
       "      <td>263</td>\n",
       "      <td>UNICEF</td>\n",
       "      <td>38.486161</td>\n",
       "      <td>-11.155298</td>\n",
       "      <td>Zahanati Ya Nanyumbu</td>\n",
       "      <td>0</td>\n",
       "      <td>...</td>\n",
       "      <td>soft</td>\n",
       "      <td>good</td>\n",
       "      <td>dry</td>\n",
       "      <td>dry</td>\n",
       "      <td>machine dbh</td>\n",
       "      <td>borehole</td>\n",
       "      <td>groundwater</td>\n",
       "      <td>communal standpipe multiple</td>\n",
       "      <td>communal standpipe</td>\n",
       "      <td>non functional</td>\n",
       "    </tr>\n",
       "    <tr>\n",
       "      <th>4</th>\n",
       "      <td>19728</td>\n",
       "      <td>0.0</td>\n",
       "      <td>2011-07-13</td>\n",
       "      <td>Action In A</td>\n",
       "      <td>0</td>\n",
       "      <td>Artisan</td>\n",
       "      <td>31.130847</td>\n",
       "      <td>-1.825359</td>\n",
       "      <td>Shuleni</td>\n",
       "      <td>0</td>\n",
       "      <td>...</td>\n",
       "      <td>soft</td>\n",
       "      <td>good</td>\n",
       "      <td>seasonal</td>\n",
       "      <td>seasonal</td>\n",
       "      <td>rainwater harvesting</td>\n",
       "      <td>rainwater harvesting</td>\n",
       "      <td>surface</td>\n",
       "      <td>communal standpipe</td>\n",
       "      <td>communal standpipe</td>\n",
       "      <td>functional</td>\n",
       "    </tr>\n",
       "  </tbody>\n",
       "</table>\n",
       "<p>5 rows × 41 columns</p>\n",
       "</div>"
      ],
      "text/plain": [
       "      id  amount_tsh date_recorded        funder  gps_height     installer  \\\n",
       "0  69572      6000.0    2011-03-14         Roman        1390         Roman   \n",
       "1   8776         0.0    2013-03-06       Grumeti        1399       GRUMETI   \n",
       "2  34310        25.0    2013-02-25  Lottery Club         686  World vision   \n",
       "3  67743         0.0    2013-01-28        Unicef         263        UNICEF   \n",
       "4  19728         0.0    2011-07-13   Action In A           0       Artisan   \n",
       "\n",
       "   longitude   latitude              wpt_name  num_private  ... water_quality  \\\n",
       "0  34.938093  -9.856322                  none            0  ...          soft   \n",
       "1  34.698766  -2.147466              Zahanati            0  ...          soft   \n",
       "2  37.460664  -3.821329           Kwa Mahundi            0  ...          soft   \n",
       "3  38.486161 -11.155298  Zahanati Ya Nanyumbu            0  ...          soft   \n",
       "4  31.130847  -1.825359               Shuleni            0  ...          soft   \n",
       "\n",
       "  quality_group      quantity  quantity_group                source  \\\n",
       "0          good        enough          enough                spring   \n",
       "1          good  insufficient    insufficient  rainwater harvesting   \n",
       "2          good        enough          enough                   dam   \n",
       "3          good           dry             dry           machine dbh   \n",
       "4          good      seasonal        seasonal  rainwater harvesting   \n",
       "\n",
       "            source_type source_class              waterpoint_type  \\\n",
       "0                spring  groundwater           communal standpipe   \n",
       "1  rainwater harvesting      surface           communal standpipe   \n",
       "2                   dam      surface  communal standpipe multiple   \n",
       "3              borehole  groundwater  communal standpipe multiple   \n",
       "4  rainwater harvesting      surface           communal standpipe   \n",
       "\n",
       "  waterpoint_type_group    status_group  \n",
       "0    communal standpipe      functional  \n",
       "1    communal standpipe      functional  \n",
       "2    communal standpipe      functional  \n",
       "3    communal standpipe  non functional  \n",
       "4    communal standpipe      functional  \n",
       "\n",
       "[5 rows x 41 columns]"
      ]
     },
     "execution_count": 1421,
     "metadata": {},
     "output_type": "execute_result"
    }
   ],
   "source": [
    "# Read Merged data as an original data\n",
    "url_merge_data = \"../data/processed/Merged_Training_Set.csv\"\n",
    "df_train_original = pd.read_csv(url_merge_data)\n",
    "df_train_original.head()"
   ]
  },
  {
   "cell_type": "code",
   "execution_count": 1422,
   "id": "cfc45056",
   "metadata": {},
   "outputs": [
    {
     "data": {
      "text/plain": [
       "(59400, 41)"
      ]
     },
     "execution_count": 1422,
     "metadata": {},
     "output_type": "execute_result"
    }
   ],
   "source": [
    "df_train_original.shape"
   ]
  },
  {
   "cell_type": "markdown",
   "id": "16aa6b81",
   "metadata": {},
   "source": [
    "# Split the data to 80% train and 20%validate"
   ]
  },
  {
   "cell_type": "code",
   "execution_count": 1503,
   "id": "954ec75b",
   "metadata": {},
   "outputs": [],
   "source": [
    "# Split the data\n",
    "df_train, df_test = train_test_split(df_train_original, test_size=0.2, random_state=42)\n",
    "df_train.to_csv(\"../data/processed/Merged_Training_data.csv\")\n",
    "df_test.to_csv(\"../data/processed/Merged_Test_data.csv\")"
   ]
  },
  {
   "cell_type": "code",
   "execution_count": 1424,
   "id": "be596d6c",
   "metadata": {},
   "outputs": [
    {
     "data": {
      "text/plain": [
       "(11880, 41)"
      ]
     },
     "execution_count": 1424,
     "metadata": {},
     "output_type": "execute_result"
    }
   ],
   "source": [
    "df_test.shape"
   ]
  },
  {
   "cell_type": "code",
   "execution_count": 1425,
   "id": "dcec5ae9",
   "metadata": {},
   "outputs": [
    {
     "data": {
      "text/plain": [
       "(47520, 41)"
      ]
     },
     "execution_count": 1425,
     "metadata": {},
     "output_type": "execute_result"
    }
   ],
   "source": [
    "df_train.shape"
   ]
  },
  {
   "cell_type": "code",
   "execution_count": null,
   "id": "cc1c6b7a",
   "metadata": {},
   "outputs": [
    {
     "data": {
      "text/html": [
       "<div>\n",
       "<style scoped>\n",
       "    .dataframe tbody tr th:only-of-type {\n",
       "        vertical-align: middle;\n",
       "    }\n",
       "\n",
       "    .dataframe tbody tr th {\n",
       "        vertical-align: top;\n",
       "    }\n",
       "\n",
       "    .dataframe thead th {\n",
       "        text-align: right;\n",
       "    }\n",
       "</style>\n",
       "<table border=\"1\" class=\"dataframe\">\n",
       "  <thead>\n",
       "    <tr style=\"text-align: right;\">\n",
       "      <th></th>\n",
       "      <th>id</th>\n",
       "      <th>amount_tsh</th>\n",
       "      <th>date_recorded</th>\n",
       "      <th>funder</th>\n",
       "      <th>gps_height</th>\n",
       "      <th>installer</th>\n",
       "      <th>longitude</th>\n",
       "      <th>latitude</th>\n",
       "      <th>wpt_name</th>\n",
       "      <th>num_private</th>\n",
       "      <th>...</th>\n",
       "      <th>water_quality</th>\n",
       "      <th>quality_group</th>\n",
       "      <th>quantity</th>\n",
       "      <th>quantity_group</th>\n",
       "      <th>source</th>\n",
       "      <th>source_type</th>\n",
       "      <th>source_class</th>\n",
       "      <th>waterpoint_type</th>\n",
       "      <th>waterpoint_type_group</th>\n",
       "      <th>status_group</th>\n",
       "    </tr>\n",
       "  </thead>\n",
       "  <tbody>\n",
       "    <tr>\n",
       "      <th>3607</th>\n",
       "      <td>454</td>\n",
       "      <td>50.0</td>\n",
       "      <td>2013-02-27</td>\n",
       "      <td>Dmdd</td>\n",
       "      <td>2092</td>\n",
       "      <td>DMDD</td>\n",
       "      <td>35.426020</td>\n",
       "      <td>-4.227446</td>\n",
       "      <td>Narmo</td>\n",
       "      <td>0</td>\n",
       "      <td>...</td>\n",
       "      <td>soft</td>\n",
       "      <td>good</td>\n",
       "      <td>insufficient</td>\n",
       "      <td>insufficient</td>\n",
       "      <td>spring</td>\n",
       "      <td>spring</td>\n",
       "      <td>groundwater</td>\n",
       "      <td>communal standpipe</td>\n",
       "      <td>communal standpipe</td>\n",
       "      <td>functional</td>\n",
       "    </tr>\n",
       "    <tr>\n",
       "      <th>50870</th>\n",
       "      <td>510</td>\n",
       "      <td>0.0</td>\n",
       "      <td>2011-03-17</td>\n",
       "      <td>Cmsr</td>\n",
       "      <td>0</td>\n",
       "      <td>Gove</td>\n",
       "      <td>35.510074</td>\n",
       "      <td>-5.724555</td>\n",
       "      <td>Lukali</td>\n",
       "      <td>0</td>\n",
       "      <td>...</td>\n",
       "      <td>soft</td>\n",
       "      <td>good</td>\n",
       "      <td>enough</td>\n",
       "      <td>enough</td>\n",
       "      <td>shallow well</td>\n",
       "      <td>shallow well</td>\n",
       "      <td>groundwater</td>\n",
       "      <td>hand pump</td>\n",
       "      <td>hand pump</td>\n",
       "      <td>functional</td>\n",
       "    </tr>\n",
       "    <tr>\n",
       "      <th>20413</th>\n",
       "      <td>14146</td>\n",
       "      <td>0.0</td>\n",
       "      <td>2011-07-10</td>\n",
       "      <td>Kkkt</td>\n",
       "      <td>0</td>\n",
       "      <td>KKKT</td>\n",
       "      <td>32.499866</td>\n",
       "      <td>-9.081222</td>\n",
       "      <td>Mahakama</td>\n",
       "      <td>0</td>\n",
       "      <td>...</td>\n",
       "      <td>soft</td>\n",
       "      <td>good</td>\n",
       "      <td>enough</td>\n",
       "      <td>enough</td>\n",
       "      <td>shallow well</td>\n",
       "      <td>shallow well</td>\n",
       "      <td>groundwater</td>\n",
       "      <td>other</td>\n",
       "      <td>other</td>\n",
       "      <td>non functional</td>\n",
       "    </tr>\n",
       "    <tr>\n",
       "      <th>52806</th>\n",
       "      <td>47410</td>\n",
       "      <td>0.0</td>\n",
       "      <td>2011-04-12</td>\n",
       "      <td>NaN</td>\n",
       "      <td>0</td>\n",
       "      <td>NaN</td>\n",
       "      <td>34.060484</td>\n",
       "      <td>-8.830208</td>\n",
       "      <td>Shule Ya Msingi Chosi A</td>\n",
       "      <td>0</td>\n",
       "      <td>...</td>\n",
       "      <td>soft</td>\n",
       "      <td>good</td>\n",
       "      <td>insufficient</td>\n",
       "      <td>insufficient</td>\n",
       "      <td>river</td>\n",
       "      <td>river/lake</td>\n",
       "      <td>surface</td>\n",
       "      <td>communal standpipe</td>\n",
       "      <td>communal standpipe</td>\n",
       "      <td>non functional</td>\n",
       "    </tr>\n",
       "    <tr>\n",
       "      <th>50091</th>\n",
       "      <td>1288</td>\n",
       "      <td>300.0</td>\n",
       "      <td>2011-04-05</td>\n",
       "      <td>Ki</td>\n",
       "      <td>1023</td>\n",
       "      <td>Ki</td>\n",
       "      <td>37.032690</td>\n",
       "      <td>-6.040787</td>\n",
       "      <td>Kwa Mjowe</td>\n",
       "      <td>0</td>\n",
       "      <td>...</td>\n",
       "      <td>salty</td>\n",
       "      <td>salty</td>\n",
       "      <td>enough</td>\n",
       "      <td>enough</td>\n",
       "      <td>shallow well</td>\n",
       "      <td>shallow well</td>\n",
       "      <td>groundwater</td>\n",
       "      <td>other</td>\n",
       "      <td>other</td>\n",
       "      <td>non functional</td>\n",
       "    </tr>\n",
       "    <tr>\n",
       "      <th>...</th>\n",
       "      <td>...</td>\n",
       "      <td>...</td>\n",
       "      <td>...</td>\n",
       "      <td>...</td>\n",
       "      <td>...</td>\n",
       "      <td>...</td>\n",
       "      <td>...</td>\n",
       "      <td>...</td>\n",
       "      <td>...</td>\n",
       "      <td>...</td>\n",
       "      <td>...</td>\n",
       "      <td>...</td>\n",
       "      <td>...</td>\n",
       "      <td>...</td>\n",
       "      <td>...</td>\n",
       "      <td>...</td>\n",
       "      <td>...</td>\n",
       "      <td>...</td>\n",
       "      <td>...</td>\n",
       "      <td>...</td>\n",
       "      <td>...</td>\n",
       "    </tr>\n",
       "    <tr>\n",
       "      <th>54343</th>\n",
       "      <td>68525</td>\n",
       "      <td>1000.0</td>\n",
       "      <td>2011-03-20</td>\n",
       "      <td>Dhv</td>\n",
       "      <td>327</td>\n",
       "      <td>DWE</td>\n",
       "      <td>36.367112</td>\n",
       "      <td>-8.774761</td>\n",
       "      <td>Kwa Mbayambaya</td>\n",
       "      <td>0</td>\n",
       "      <td>...</td>\n",
       "      <td>soft</td>\n",
       "      <td>good</td>\n",
       "      <td>enough</td>\n",
       "      <td>enough</td>\n",
       "      <td>river</td>\n",
       "      <td>river/lake</td>\n",
       "      <td>surface</td>\n",
       "      <td>communal standpipe</td>\n",
       "      <td>communal standpipe</td>\n",
       "      <td>functional</td>\n",
       "    </tr>\n",
       "    <tr>\n",
       "      <th>38158</th>\n",
       "      <td>11980</td>\n",
       "      <td>1000.0</td>\n",
       "      <td>2011-03-10</td>\n",
       "      <td>Danida</td>\n",
       "      <td>1743</td>\n",
       "      <td>DANID</td>\n",
       "      <td>34.531524</td>\n",
       "      <td>-9.769604</td>\n",
       "      <td>none</td>\n",
       "      <td>0</td>\n",
       "      <td>...</td>\n",
       "      <td>soft</td>\n",
       "      <td>good</td>\n",
       "      <td>seasonal</td>\n",
       "      <td>seasonal</td>\n",
       "      <td>spring</td>\n",
       "      <td>spring</td>\n",
       "      <td>groundwater</td>\n",
       "      <td>communal standpipe</td>\n",
       "      <td>communal standpipe</td>\n",
       "      <td>functional</td>\n",
       "    </tr>\n",
       "    <tr>\n",
       "      <th>860</th>\n",
       "      <td>35778</td>\n",
       "      <td>0.0</td>\n",
       "      <td>2011-03-13</td>\n",
       "      <td>Omar Ally</td>\n",
       "      <td>-13</td>\n",
       "      <td>Omar Ally</td>\n",
       "      <td>38.974416</td>\n",
       "      <td>-5.420823</td>\n",
       "      <td>Kwa Omar Ally</td>\n",
       "      <td>0</td>\n",
       "      <td>...</td>\n",
       "      <td>soft</td>\n",
       "      <td>good</td>\n",
       "      <td>insufficient</td>\n",
       "      <td>insufficient</td>\n",
       "      <td>shallow well</td>\n",
       "      <td>shallow well</td>\n",
       "      <td>groundwater</td>\n",
       "      <td>other</td>\n",
       "      <td>other</td>\n",
       "      <td>non functional</td>\n",
       "    </tr>\n",
       "    <tr>\n",
       "      <th>15795</th>\n",
       "      <td>49444</td>\n",
       "      <td>0.0</td>\n",
       "      <td>2012-10-31</td>\n",
       "      <td>Rwssp</td>\n",
       "      <td>0</td>\n",
       "      <td>WEDECO</td>\n",
       "      <td>34.316586</td>\n",
       "      <td>-3.107161</td>\n",
       "      <td>Muungano</td>\n",
       "      <td>0</td>\n",
       "      <td>...</td>\n",
       "      <td>soft</td>\n",
       "      <td>good</td>\n",
       "      <td>enough</td>\n",
       "      <td>enough</td>\n",
       "      <td>shallow well</td>\n",
       "      <td>shallow well</td>\n",
       "      <td>groundwater</td>\n",
       "      <td>hand pump</td>\n",
       "      <td>hand pump</td>\n",
       "      <td>functional</td>\n",
       "    </tr>\n",
       "    <tr>\n",
       "      <th>56422</th>\n",
       "      <td>23812</td>\n",
       "      <td>0.0</td>\n",
       "      <td>2013-02-24</td>\n",
       "      <td>Government Of Tanzania</td>\n",
       "      <td>1290</td>\n",
       "      <td>District council</td>\n",
       "      <td>37.626401</td>\n",
       "      <td>-3.211457</td>\n",
       "      <td>Kwa Nicholaus Kimario</td>\n",
       "      <td>0</td>\n",
       "      <td>...</td>\n",
       "      <td>soft</td>\n",
       "      <td>good</td>\n",
       "      <td>enough</td>\n",
       "      <td>enough</td>\n",
       "      <td>spring</td>\n",
       "      <td>spring</td>\n",
       "      <td>groundwater</td>\n",
       "      <td>communal standpipe multiple</td>\n",
       "      <td>communal standpipe</td>\n",
       "      <td>non functional</td>\n",
       "    </tr>\n",
       "  </tbody>\n",
       "</table>\n",
       "<p>47520 rows × 41 columns</p>\n",
       "</div>"
      ],
      "text/plain": [
       "          id  amount_tsh date_recorded                  funder  gps_height  \\\n",
       "3607     454        50.0    2013-02-27                    Dmdd        2092   \n",
       "50870    510         0.0    2011-03-17                    Cmsr           0   \n",
       "20413  14146         0.0    2011-07-10                    Kkkt           0   \n",
       "52806  47410         0.0    2011-04-12                     NaN           0   \n",
       "50091   1288       300.0    2011-04-05                      Ki        1023   \n",
       "...      ...         ...           ...                     ...         ...   \n",
       "54343  68525      1000.0    2011-03-20                     Dhv         327   \n",
       "38158  11980      1000.0    2011-03-10                  Danida        1743   \n",
       "860    35778         0.0    2011-03-13               Omar Ally         -13   \n",
       "15795  49444         0.0    2012-10-31                   Rwssp           0   \n",
       "56422  23812         0.0    2013-02-24  Government Of Tanzania        1290   \n",
       "\n",
       "              installer  longitude  latitude                 wpt_name  \\\n",
       "3607               DMDD  35.426020 -4.227446                    Narmo   \n",
       "50870              Gove  35.510074 -5.724555                   Lukali   \n",
       "20413              KKKT  32.499866 -9.081222                 Mahakama   \n",
       "52806               NaN  34.060484 -8.830208  Shule Ya Msingi Chosi A   \n",
       "50091                Ki  37.032690 -6.040787                Kwa Mjowe   \n",
       "...                 ...        ...       ...                      ...   \n",
       "54343               DWE  36.367112 -8.774761           Kwa Mbayambaya   \n",
       "38158             DANID  34.531524 -9.769604                     none   \n",
       "860           Omar Ally  38.974416 -5.420823            Kwa Omar Ally   \n",
       "15795            WEDECO  34.316586 -3.107161                 Muungano   \n",
       "56422  District council  37.626401 -3.211457    Kwa Nicholaus Kimario   \n",
       "\n",
       "       num_private  ... water_quality quality_group      quantity  \\\n",
       "3607             0  ...          soft          good  insufficient   \n",
       "50870            0  ...          soft          good        enough   \n",
       "20413            0  ...          soft          good        enough   \n",
       "52806            0  ...          soft          good  insufficient   \n",
       "50091            0  ...         salty         salty        enough   \n",
       "...            ...  ...           ...           ...           ...   \n",
       "54343            0  ...          soft          good        enough   \n",
       "38158            0  ...          soft          good      seasonal   \n",
       "860              0  ...          soft          good  insufficient   \n",
       "15795            0  ...          soft          good        enough   \n",
       "56422            0  ...          soft          good        enough   \n",
       "\n",
       "       quantity_group        source   source_type source_class  \\\n",
       "3607     insufficient        spring        spring  groundwater   \n",
       "50870          enough  shallow well  shallow well  groundwater   \n",
       "20413          enough  shallow well  shallow well  groundwater   \n",
       "52806    insufficient         river    river/lake      surface   \n",
       "50091          enough  shallow well  shallow well  groundwater   \n",
       "...               ...           ...           ...          ...   \n",
       "54343          enough         river    river/lake      surface   \n",
       "38158        seasonal        spring        spring  groundwater   \n",
       "860      insufficient  shallow well  shallow well  groundwater   \n",
       "15795          enough  shallow well  shallow well  groundwater   \n",
       "56422          enough        spring        spring  groundwater   \n",
       "\n",
       "                   waterpoint_type waterpoint_type_group    status_group  \n",
       "3607            communal standpipe    communal standpipe      functional  \n",
       "50870                    hand pump             hand pump      functional  \n",
       "20413                        other                 other  non functional  \n",
       "52806           communal standpipe    communal standpipe  non functional  \n",
       "50091                        other                 other  non functional  \n",
       "...                            ...                   ...             ...  \n",
       "54343           communal standpipe    communal standpipe      functional  \n",
       "38158           communal standpipe    communal standpipe      functional  \n",
       "860                          other                 other  non functional  \n",
       "15795                    hand pump             hand pump      functional  \n",
       "56422  communal standpipe multiple    communal standpipe  non functional  \n",
       "\n",
       "[47520 rows x 41 columns]"
      ]
     },
     "execution_count": 1426,
     "metadata": {},
     "output_type": "execute_result"
    }
   ],
   "source": [
    "# make a copy of the original dataset\n",
    "df_train = df_train.copy()\n",
    "df_train"
   ]
  },
  {
   "cell_type": "markdown",
   "id": "fd5b4c2e",
   "metadata": {},
   "source": [
    "## Feature Summary"
   ]
  },
  {
   "cell_type": "code",
   "execution_count": null,
   "id": "6ee132ab",
   "metadata": {},
   "outputs": [
    {
     "data": {
      "text/html": [
       "<div>\n",
       "<style scoped>\n",
       "    .dataframe tbody tr th:only-of-type {\n",
       "        vertical-align: middle;\n",
       "    }\n",
       "\n",
       "    .dataframe tbody tr th {\n",
       "        vertical-align: top;\n",
       "    }\n",
       "\n",
       "    .dataframe thead th {\n",
       "        text-align: right;\n",
       "    }\n",
       "</style>\n",
       "<table border=\"1\" class=\"dataframe\">\n",
       "  <thead>\n",
       "    <tr style=\"text-align: right;\">\n",
       "      <th></th>\n",
       "      <th>Data Type</th>\n",
       "      <th>Missing Values</th>\n",
       "      <th>Zero Values</th>\n",
       "      <th>Unique Values</th>\n",
       "      <th>% Missing</th>\n",
       "      <th>Feature Type</th>\n",
       "    </tr>\n",
       "  </thead>\n",
       "  <tbody>\n",
       "    <tr>\n",
       "      <th>scheme_name</th>\n",
       "      <td>object</td>\n",
       "      <td>22523</td>\n",
       "      <td>0</td>\n",
       "      <td>2541</td>\n",
       "      <td>47.396886</td>\n",
       "      <td>Categorical</td>\n",
       "    </tr>\n",
       "    <tr>\n",
       "      <th>scheme_management</th>\n",
       "      <td>object</td>\n",
       "      <td>3102</td>\n",
       "      <td>0</td>\n",
       "      <td>12</td>\n",
       "      <td>6.527778</td>\n",
       "      <td>Categorical</td>\n",
       "    </tr>\n",
       "    <tr>\n",
       "      <th>installer</th>\n",
       "      <td>object</td>\n",
       "      <td>2889</td>\n",
       "      <td>0</td>\n",
       "      <td>1923</td>\n",
       "      <td>6.079545</td>\n",
       "      <td>Categorical</td>\n",
       "    </tr>\n",
       "    <tr>\n",
       "      <th>funder</th>\n",
       "      <td>object</td>\n",
       "      <td>2876</td>\n",
       "      <td>0</td>\n",
       "      <td>1698</td>\n",
       "      <td>6.052189</td>\n",
       "      <td>Categorical</td>\n",
       "    </tr>\n",
       "    <tr>\n",
       "      <th>public_meeting</th>\n",
       "      <td>object</td>\n",
       "      <td>2689</td>\n",
       "      <td>4088</td>\n",
       "      <td>2</td>\n",
       "      <td>5.658670</td>\n",
       "      <td>Categorical</td>\n",
       "    </tr>\n",
       "    <tr>\n",
       "      <th>permit</th>\n",
       "      <td>object</td>\n",
       "      <td>2439</td>\n",
       "      <td>14053</td>\n",
       "      <td>2</td>\n",
       "      <td>5.132576</td>\n",
       "      <td>Categorical</td>\n",
       "    </tr>\n",
       "    <tr>\n",
       "      <th>subvillage</th>\n",
       "      <td>object</td>\n",
       "      <td>296</td>\n",
       "      <td>0</td>\n",
       "      <td>17232</td>\n",
       "      <td>0.622896</td>\n",
       "      <td>Categorical</td>\n",
       "    </tr>\n",
       "    <tr>\n",
       "      <th>payment</th>\n",
       "      <td>object</td>\n",
       "      <td>0</td>\n",
       "      <td>0</td>\n",
       "      <td>7</td>\n",
       "      <td>0.000000</td>\n",
       "      <td>Categorical</td>\n",
       "    </tr>\n",
       "    <tr>\n",
       "      <th>waterpoint_type_group</th>\n",
       "      <td>object</td>\n",
       "      <td>0</td>\n",
       "      <td>0</td>\n",
       "      <td>6</td>\n",
       "      <td>0.000000</td>\n",
       "      <td>Categorical</td>\n",
       "    </tr>\n",
       "    <tr>\n",
       "      <th>extraction_type_group</th>\n",
       "      <td>object</td>\n",
       "      <td>0</td>\n",
       "      <td>0</td>\n",
       "      <td>13</td>\n",
       "      <td>0.000000</td>\n",
       "      <td>Categorical</td>\n",
       "    </tr>\n",
       "    <tr>\n",
       "      <th>extraction_type_class</th>\n",
       "      <td>object</td>\n",
       "      <td>0</td>\n",
       "      <td>0</td>\n",
       "      <td>7</td>\n",
       "      <td>0.000000</td>\n",
       "      <td>Categorical</td>\n",
       "    </tr>\n",
       "    <tr>\n",
       "      <th>waterpoint_type</th>\n",
       "      <td>object</td>\n",
       "      <td>0</td>\n",
       "      <td>0</td>\n",
       "      <td>7</td>\n",
       "      <td>0.000000</td>\n",
       "      <td>Categorical</td>\n",
       "    </tr>\n",
       "    <tr>\n",
       "      <th>management</th>\n",
       "      <td>object</td>\n",
       "      <td>0</td>\n",
       "      <td>0</td>\n",
       "      <td>12</td>\n",
       "      <td>0.000000</td>\n",
       "      <td>Categorical</td>\n",
       "    </tr>\n",
       "    <tr>\n",
       "      <th>management_group</th>\n",
       "      <td>object</td>\n",
       "      <td>0</td>\n",
       "      <td>0</td>\n",
       "      <td>5</td>\n",
       "      <td>0.000000</td>\n",
       "      <td>Categorical</td>\n",
       "    </tr>\n",
       "    <tr>\n",
       "      <th>source_class</th>\n",
       "      <td>object</td>\n",
       "      <td>0</td>\n",
       "      <td>0</td>\n",
       "      <td>3</td>\n",
       "      <td>0.000000</td>\n",
       "      <td>Categorical</td>\n",
       "    </tr>\n",
       "    <tr>\n",
       "      <th>source_type</th>\n",
       "      <td>object</td>\n",
       "      <td>0</td>\n",
       "      <td>0</td>\n",
       "      <td>7</td>\n",
       "      <td>0.000000</td>\n",
       "      <td>Categorical</td>\n",
       "    </tr>\n",
       "    <tr>\n",
       "      <th>water_quality</th>\n",
       "      <td>object</td>\n",
       "      <td>0</td>\n",
       "      <td>0</td>\n",
       "      <td>8</td>\n",
       "      <td>0.000000</td>\n",
       "      <td>Categorical</td>\n",
       "    </tr>\n",
       "    <tr>\n",
       "      <th>quality_group</th>\n",
       "      <td>object</td>\n",
       "      <td>0</td>\n",
       "      <td>0</td>\n",
       "      <td>6</td>\n",
       "      <td>0.000000</td>\n",
       "      <td>Categorical</td>\n",
       "    </tr>\n",
       "    <tr>\n",
       "      <th>extraction_type</th>\n",
       "      <td>object</td>\n",
       "      <td>0</td>\n",
       "      <td>0</td>\n",
       "      <td>18</td>\n",
       "      <td>0.000000</td>\n",
       "      <td>Categorical</td>\n",
       "    </tr>\n",
       "    <tr>\n",
       "      <th>quantity</th>\n",
       "      <td>object</td>\n",
       "      <td>0</td>\n",
       "      <td>0</td>\n",
       "      <td>5</td>\n",
       "      <td>0.000000</td>\n",
       "      <td>Categorical</td>\n",
       "    </tr>\n",
       "    <tr>\n",
       "      <th>quantity_group</th>\n",
       "      <td>object</td>\n",
       "      <td>0</td>\n",
       "      <td>0</td>\n",
       "      <td>5</td>\n",
       "      <td>0.000000</td>\n",
       "      <td>Categorical</td>\n",
       "    </tr>\n",
       "    <tr>\n",
       "      <th>source</th>\n",
       "      <td>object</td>\n",
       "      <td>0</td>\n",
       "      <td>0</td>\n",
       "      <td>10</td>\n",
       "      <td>0.000000</td>\n",
       "      <td>Categorical</td>\n",
       "    </tr>\n",
       "    <tr>\n",
       "      <th>payment_type</th>\n",
       "      <td>object</td>\n",
       "      <td>0</td>\n",
       "      <td>0</td>\n",
       "      <td>7</td>\n",
       "      <td>0.000000</td>\n",
       "      <td>Categorical</td>\n",
       "    </tr>\n",
       "    <tr>\n",
       "      <th>id</th>\n",
       "      <td>int64</td>\n",
       "      <td>0</td>\n",
       "      <td>1</td>\n",
       "      <td>47520</td>\n",
       "      <td>0.000000</td>\n",
       "      <td>Numerical</td>\n",
       "    </tr>\n",
       "    <tr>\n",
       "      <th>construction_year</th>\n",
       "      <td>int64</td>\n",
       "      <td>0</td>\n",
       "      <td>16503</td>\n",
       "      <td>55</td>\n",
       "      <td>0.000000</td>\n",
       "      <td>Numerical</td>\n",
       "    </tr>\n",
       "    <tr>\n",
       "      <th>basin</th>\n",
       "      <td>object</td>\n",
       "      <td>0</td>\n",
       "      <td>0</td>\n",
       "      <td>9</td>\n",
       "      <td>0.000000</td>\n",
       "      <td>Categorical</td>\n",
       "    </tr>\n",
       "    <tr>\n",
       "      <th>date_recorded</th>\n",
       "      <td>object</td>\n",
       "      <td>0</td>\n",
       "      <td>0</td>\n",
       "      <td>351</td>\n",
       "      <td>0.000000</td>\n",
       "      <td>Categorical</td>\n",
       "    </tr>\n",
       "    <tr>\n",
       "      <th>gps_height</th>\n",
       "      <td>int64</td>\n",
       "      <td>0</td>\n",
       "      <td>16275</td>\n",
       "      <td>2401</td>\n",
       "      <td>0.000000</td>\n",
       "      <td>Numerical</td>\n",
       "    </tr>\n",
       "    <tr>\n",
       "      <th>longitude</th>\n",
       "      <td>float64</td>\n",
       "      <td>0</td>\n",
       "      <td>1433</td>\n",
       "      <td>46043</td>\n",
       "      <td>0.000000</td>\n",
       "      <td>Numerical</td>\n",
       "    </tr>\n",
       "    <tr>\n",
       "      <th>latitude</th>\n",
       "      <td>float64</td>\n",
       "      <td>0</td>\n",
       "      <td>0</td>\n",
       "      <td>46044</td>\n",
       "      <td>0.000000</td>\n",
       "      <td>Numerical</td>\n",
       "    </tr>\n",
       "    <tr>\n",
       "      <th>wpt_name</th>\n",
       "      <td>object</td>\n",
       "      <td>0</td>\n",
       "      <td>0</td>\n",
       "      <td>30742</td>\n",
       "      <td>0.000000</td>\n",
       "      <td>Categorical</td>\n",
       "    </tr>\n",
       "    <tr>\n",
       "      <th>num_private</th>\n",
       "      <td>int64</td>\n",
       "      <td>0</td>\n",
       "      <td>46903</td>\n",
       "      <td>59</td>\n",
       "      <td>0.000000</td>\n",
       "      <td>Numerical</td>\n",
       "    </tr>\n",
       "    <tr>\n",
       "      <th>region</th>\n",
       "      <td>object</td>\n",
       "      <td>0</td>\n",
       "      <td>0</td>\n",
       "      <td>21</td>\n",
       "      <td>0.000000</td>\n",
       "      <td>Categorical</td>\n",
       "    </tr>\n",
       "    <tr>\n",
       "      <th>amount_tsh</th>\n",
       "      <td>float64</td>\n",
       "      <td>0</td>\n",
       "      <td>33331</td>\n",
       "      <td>96</td>\n",
       "      <td>0.000000</td>\n",
       "      <td>Numerical</td>\n",
       "    </tr>\n",
       "    <tr>\n",
       "      <th>region_code</th>\n",
       "      <td>int64</td>\n",
       "      <td>0</td>\n",
       "      <td>0</td>\n",
       "      <td>27</td>\n",
       "      <td>0.000000</td>\n",
       "      <td>Numerical</td>\n",
       "    </tr>\n",
       "    <tr>\n",
       "      <th>district_code</th>\n",
       "      <td>int64</td>\n",
       "      <td>0</td>\n",
       "      <td>19</td>\n",
       "      <td>20</td>\n",
       "      <td>0.000000</td>\n",
       "      <td>Numerical</td>\n",
       "    </tr>\n",
       "    <tr>\n",
       "      <th>lga</th>\n",
       "      <td>object</td>\n",
       "      <td>0</td>\n",
       "      <td>0</td>\n",
       "      <td>125</td>\n",
       "      <td>0.000000</td>\n",
       "      <td>Categorical</td>\n",
       "    </tr>\n",
       "    <tr>\n",
       "      <th>ward</th>\n",
       "      <td>object</td>\n",
       "      <td>0</td>\n",
       "      <td>0</td>\n",
       "      <td>2076</td>\n",
       "      <td>0.000000</td>\n",
       "      <td>Categorical</td>\n",
       "    </tr>\n",
       "    <tr>\n",
       "      <th>population</th>\n",
       "      <td>int64</td>\n",
       "      <td>0</td>\n",
       "      <td>17048</td>\n",
       "      <td>971</td>\n",
       "      <td>0.000000</td>\n",
       "      <td>Numerical</td>\n",
       "    </tr>\n",
       "    <tr>\n",
       "      <th>recorded_by</th>\n",
       "      <td>object</td>\n",
       "      <td>0</td>\n",
       "      <td>0</td>\n",
       "      <td>1</td>\n",
       "      <td>0.000000</td>\n",
       "      <td>Categorical</td>\n",
       "    </tr>\n",
       "    <tr>\n",
       "      <th>status_group</th>\n",
       "      <td>object</td>\n",
       "      <td>0</td>\n",
       "      <td>0</td>\n",
       "      <td>3</td>\n",
       "      <td>0.000000</td>\n",
       "      <td>Categorical</td>\n",
       "    </tr>\n",
       "  </tbody>\n",
       "</table>\n",
       "</div>"
      ],
      "text/plain": [
       "                      Data Type  Missing Values  Zero Values  Unique Values  \\\n",
       "scheme_name              object           22523            0           2541   \n",
       "scheme_management        object            3102            0             12   \n",
       "installer                object            2889            0           1923   \n",
       "funder                   object            2876            0           1698   \n",
       "public_meeting           object            2689         4088              2   \n",
       "permit                   object            2439        14053              2   \n",
       "subvillage               object             296            0          17232   \n",
       "payment                  object               0            0              7   \n",
       "waterpoint_type_group    object               0            0              6   \n",
       "extraction_type_group    object               0            0             13   \n",
       "extraction_type_class    object               0            0              7   \n",
       "waterpoint_type          object               0            0              7   \n",
       "management               object               0            0             12   \n",
       "management_group         object               0            0              5   \n",
       "source_class             object               0            0              3   \n",
       "source_type              object               0            0              7   \n",
       "water_quality            object               0            0              8   \n",
       "quality_group            object               0            0              6   \n",
       "extraction_type          object               0            0             18   \n",
       "quantity                 object               0            0              5   \n",
       "quantity_group           object               0            0              5   \n",
       "source                   object               0            0             10   \n",
       "payment_type             object               0            0              7   \n",
       "id                        int64               0            1          47520   \n",
       "construction_year         int64               0        16503             55   \n",
       "basin                    object               0            0              9   \n",
       "date_recorded            object               0            0            351   \n",
       "gps_height                int64               0        16275           2401   \n",
       "longitude               float64               0         1433          46043   \n",
       "latitude                float64               0            0          46044   \n",
       "wpt_name                 object               0            0          30742   \n",
       "num_private               int64               0        46903             59   \n",
       "region                   object               0            0             21   \n",
       "amount_tsh              float64               0        33331             96   \n",
       "region_code               int64               0            0             27   \n",
       "district_code             int64               0           19             20   \n",
       "lga                      object               0            0            125   \n",
       "ward                     object               0            0           2076   \n",
       "population                int64               0        17048            971   \n",
       "recorded_by              object               0            0              1   \n",
       "status_group             object               0            0              3   \n",
       "\n",
       "                       % Missing Feature Type  \n",
       "scheme_name            47.396886  Categorical  \n",
       "scheme_management       6.527778  Categorical  \n",
       "installer               6.079545  Categorical  \n",
       "funder                  6.052189  Categorical  \n",
       "public_meeting          5.658670  Categorical  \n",
       "permit                  5.132576  Categorical  \n",
       "subvillage              0.622896  Categorical  \n",
       "payment                 0.000000  Categorical  \n",
       "waterpoint_type_group   0.000000  Categorical  \n",
       "extraction_type_group   0.000000  Categorical  \n",
       "extraction_type_class   0.000000  Categorical  \n",
       "waterpoint_type         0.000000  Categorical  \n",
       "management              0.000000  Categorical  \n",
       "management_group        0.000000  Categorical  \n",
       "source_class            0.000000  Categorical  \n",
       "source_type             0.000000  Categorical  \n",
       "water_quality           0.000000  Categorical  \n",
       "quality_group           0.000000  Categorical  \n",
       "extraction_type         0.000000  Categorical  \n",
       "quantity                0.000000  Categorical  \n",
       "quantity_group          0.000000  Categorical  \n",
       "source                  0.000000  Categorical  \n",
       "payment_type            0.000000  Categorical  \n",
       "id                      0.000000    Numerical  \n",
       "construction_year       0.000000    Numerical  \n",
       "basin                   0.000000  Categorical  \n",
       "date_recorded           0.000000  Categorical  \n",
       "gps_height              0.000000    Numerical  \n",
       "longitude               0.000000    Numerical  \n",
       "latitude                0.000000    Numerical  \n",
       "wpt_name                0.000000  Categorical  \n",
       "num_private             0.000000    Numerical  \n",
       "region                  0.000000  Categorical  \n",
       "amount_tsh              0.000000    Numerical  \n",
       "region_code             0.000000    Numerical  \n",
       "district_code           0.000000    Numerical  \n",
       "lga                     0.000000  Categorical  \n",
       "ward                    0.000000  Categorical  \n",
       "population              0.000000    Numerical  \n",
       "recorded_by             0.000000  Categorical  \n",
       "status_group            0.000000  Categorical  "
      ]
     },
     "execution_count": 1427,
     "metadata": {},
     "output_type": "execute_result"
    }
   ],
   "source": [
    "# Basic summary statics\n",
    "def feature_summary(df):\n",
    "    summary = pd.DataFrame({\n",
    "        'Data Type': df.dtypes,\n",
    "        'Missing Values': df.isnull().sum(),\n",
    "        'Zero Values': (df == 0).sum(),\n",
    "        'Unique Values': df.nunique()\n",
    "    })\n",
    "    # Add Percent of Missing Values\n",
    "    summary['% Missing'] = (summary['Missing Values'] / len(df)) * 100\n",
    "    \n",
    "    # Classify Feature Type\n",
    "    def classify_feature(col):\n",
    "        if df[col].dtype == 'object':\n",
    "            return 'Categorical'\n",
    "        elif df[col].dtype in ['int64', 'float64']:\n",
    "            if df[col].nunique() < 15:\n",
    "                return 'Ordinal/Categorical'\n",
    "            return 'Numerical'\n",
    "        elif df[col].dtype == 'bool':\n",
    "            return 'Boolean'\n",
    "        elif 'date' in col:\n",
    "            return 'Date'\n",
    "        else:\n",
    "            return 'Other'\n",
    "    # Applies the classifier to each column.\n",
    "    summary['Feature Type'] = summary.index.to_series().apply(classify_feature)\n",
    "    return summary.sort_values(by='Missing Values', ascending=False)\n",
    "\n",
    "# Run the summary\n",
    "feature_summary(df_train)\n"
   ]
  },
  {
   "cell_type": "markdown",
   "id": "3a767ab8",
   "metadata": {},
   "source": [
    "# Convert Categorical Variables to Appropriate Formats"
   ]
  },
  {
   "cell_type": "code",
   "execution_count": null,
   "id": "6820a64f",
   "metadata": {},
   "outputs": [
    {
     "name": "stdout",
     "output_type": "stream",
     "text": [
      "--- id ---\n",
      "[  454   510 14146 ... 35778 49444 23812]\n",
      "\n",
      "--- amount_tsh ---\n",
      "[5.00e+01 0.00e+00 3.00e+02 1.00e+01 8.00e+03 2.50e+02 5.00e+02 3.00e+01\n",
      " 1.00e+03 6.00e+03 1.00e+02 4.70e+03 4.00e+01 1.50e+03 2.40e+03 2.00e+03\n",
      " 1.50e+01 1.00e+04 5.00e+00 2.00e+01 3.00e+03 2.00e+02 6.00e+02 2.50e+03\n",
      " 5.00e+03 2.50e+01 4.00e+02 8.50e+03 4.50e+02 6.00e+00 1.20e+03 4.00e+03\n",
      " 7.50e+02 7.00e+02 7.00e+00 1.63e+04 3.60e+03 1.20e+04 2.50e+04 1.50e+04\n",
      " 1.50e+02 2.20e+03 7.20e+03 2.00e+00 2.00e+04 2.80e+03 7.00e+01 1.20e+01\n",
      " 3.50e+03 4.00e+04 3.30e+01 3.50e+01 7.00e+03 1.17e+05 7.50e+03 6.00e+01\n",
      " 1.30e+03 7.00e+04 5.00e+04 6.50e+03 2.00e+05 1.10e+04 3.00e+04 4.50e+03\n",
      " 6.30e+03 1.40e+04 3.50e+05 3.50e+02 9.00e+00 4.50e+04 2.60e+04 1.60e+04\n",
      " 2.00e-01 5.20e+02 8.00e+02 6.00e+04 9.00e+03 5.50e+02 5.50e+03 2.20e+02\n",
      " 3.06e+02 2.60e+01 1.70e+05 1.30e+04 5.90e+02 1.00e+00 1.20e+05 5.30e+01\n",
      " 1.80e+04 5.40e+03 1.00e+05 9.00e+02 2.50e+05 2.50e-01 5.90e+01 1.40e+03]\n",
      "\n",
      "--- date_recorded ---\n",
      "['2013-02-27' '2011-03-17' '2011-07-10' '2011-04-12' '2011-04-05'\n",
      " '2011-08-08' '2013-03-01' '2011-03-21' '2011-08-02' '2013-01-22'\n",
      " '2011-03-06' '2011-03-29' '2011-02-26' '2013-02-12' '2013-10-03'\n",
      " '2013-01-29' '2011-03-14' '2012-10-29' '2013-03-27' '2011-03-25'\n",
      " '2013-02-11' '2011-07-22' '2012-10-17' '2011-03-13' '2011-04-07'\n",
      " '2013-02-03' '2011-08-03' '2011-07-17' '2013-02-24' '2012-10-12'\n",
      " '2013-01-17' '2013-01-30' '2013-03-22' '2013-02-02' '2011-02-19'\n",
      " '2012-10-13' '2013-02-04' '2011-07-19' '2011-03-12' '2012-10-08'\n",
      " '2013-02-14' '2011-08-07' '2013-03-13' '2013-06-03' '2013-03-03'\n",
      " '2011-02-22' '2012-10-07' '2013-03-18' '2011-03-03' '2012-10-20'\n",
      " '2011-07-08' '2013-01-24' '2013-01-15' '2011-03-15' '2013-02-15'\n",
      " '2012-10-24' '2011-03-02' '2011-04-20' '2011-03-05' '2013-03-06'\n",
      " '2011-02-28' '2013-02-17' '2013-03-04' '2011-04-18' '2011-04-16'\n",
      " '2011-03-24' '2012-10-23' '2013-03-23' '2013-03-25' '2013-01-19'\n",
      " '2012-12-16' '2011-08-01' '2013-01-27' '2011-04-06' '2011-04-01'\n",
      " '2011-04-10' '2011-09-04' '2011-08-12' '2013-02-26' '2011-06-07'\n",
      " '2011-03-08' '2011-02-25' '2011-08-04' '2013-03-05' '2012-11-07'\n",
      " '2013-01-14' '2013-03-08' '2011-07-29' '2011-07-06' '2011-03-19'\n",
      " '2011-03-27' '2011-03-16' '2012-11-01' '2013-03-26' '2013-01-26'\n",
      " '2011-04-11' '2011-03-23' '2011-04-03' '2013-01-25' '2012-10-21'\n",
      " '2011-07-20' '2013-04-04' '2011-08-10' '2013-03-16' '2012-10-26'\n",
      " '2011-03-26' '2013-01-16' '2012-10-09' '2013-01-23' '2013-02-23'\n",
      " '2011-02-20' '2011-02-21' '2013-02-28' '2012-10-18' '2013-02-01'\n",
      " '2013-02-08' '2011-04-13' '2011-07-09' '2013-02-10' '2011-07-13'\n",
      " '2013-02-13' '2013-02-21' '2011-03-31' '2011-04-17' '2013-03-17'\n",
      " '2013-02-09' '2013-01-20' '2012-10-03' '2011-02-27' '2011-07-21'\n",
      " '2011-02-24' '2011-08-26' '2013-03-30' '2011-07-04' '2013-08-03'\n",
      " '2011-03-28' '2011-07-11' '2011-07-16' '2011-03-18' '2012-11-09'\n",
      " '2013-01-21' '2013-02-16' '2011-04-04' '2011-07-30' '2011-03-04'\n",
      " '2013-01-28' '2011-02-18' '2011-04-14' '2013-11-03' '2013-12-03'\n",
      " '2011-08-25' '2011-04-19' '2013-03-19' '2012-11-02' '2013-02-06'\n",
      " '2013-02-07' '2011-08-13' '2011-03-10' '2011-07-15' '2012-10-28'\n",
      " '2011-07-27' '2013-03-20' '2011-07-31' '2011-07-07' '2011-07-26'\n",
      " '2011-07-25' '2013-02-20' '2013-01-18' '2012-10-25' '2013-03-29'\n",
      " '2013-03-09' '2011-03-11' '2012-10-10' '2013-02-18' '2011-02-23'\n",
      " '2011-07-28' '2011-07-05' '2012-10-27' '2011-03-22' '2011-07-14'\n",
      " '2011-03-07' '2013-01-31' '2013-03-07' '2011-08-23' '2013-03-24'\n",
      " '2011-08-05' '2012-11-05' '2011-08-17' '2013-03-02' '2012-11-12'\n",
      " '2011-04-02' '2012-10-15' '2013-02-25' '2011-03-20' '2011-07-23'\n",
      " '2012-10-04' '2013-12-01' '2011-03-30' '2012-10-19' '2013-03-15'\n",
      " '2012-10-14' '2011-01-04' '2013-09-03' '2013-03-11' '2011-08-09'\n",
      " '2012-11-08' '2012-10-31' '2013-03-14' '2011-07-24' '2013-07-03'\n",
      " '2012-12-11' '2013-02-22' '2011-03-09' '2012-12-10' '2012-10-16'\n",
      " '2012-12-13' '2013-08-02' '2011-03-01' '2011-01-03' '2011-02-14'\n",
      " '2013-02-19' '2011-04-22' '2011-11-03' '2012-10-30' '2011-08-11'\n",
      " '2012-10-11' '2013-03-10' '2011-08-16' '2011-07-18' '2011-04-15'\n",
      " '2011-08-18' '2011-02-02' '2013-05-02' '2011-04-09' '2013-01-03'\n",
      " '2013-03-21' '2012-10-22' '2012-11-03' '2012-10-05' '2011-11-04'\n",
      " '2013-11-02' '2011-02-16' '2013-01-04' '2013-05-03' '2011-08-14'\n",
      " '2011-08-19' '2013-03-12' '2011-02-03' '2013-04-03' '2011-04-08'\n",
      " '2012-12-14' '2011-08-06' '2013-12-02' '2013-02-05' '2011-08-27'\n",
      " '2012-11-11' '2011-10-04' '2011-07-12' '2013-07-04' '2013-05-04'\n",
      " '2012-11-04' '2012-11-15' '2011-02-04' '2012-10-02' '2013-03-28'\n",
      " '2012-12-15' '2011-12-07' '2012-11-30' '2011-06-04' '2012-11-06'\n",
      " '2011-05-07' '2011-08-15' '2011-11-07' '2012-12-17' '2012-11-13'\n",
      " '2011-10-07' '2013-06-04' '2011-08-21' '2011-08-22' '2011-01-08'\n",
      " '2013-09-02' '2011-08-24' '2011-12-03' '2012-10-06' '2013-10-02'\n",
      " '2004-12-01' '2004-04-01' '2011-07-03' '2012-12-21' '2011-09-03'\n",
      " '2012-11-19' '2013-01-09' '2011-04-23' '2011-02-15' '2011-05-03'\n",
      " '2011-09-08' '2011-09-21' '2013-01-11' '2012-11-10' '2011-08-20'\n",
      " '2012-12-23' '2012-10-01' '2012-12-18' '2013-01-13' '2012-11-14'\n",
      " '2012-01-25' '2011-10-03' '2011-02-01' '2011-05-04' '2011-06-03'\n",
      " '2013-01-10' '2011-04-21' '2012-11-29' '2013-01-12' '2011-09-09'\n",
      " '2011-09-18' '2013-01-07' '2012-01-21' '2011-09-13' '2004-03-06'\n",
      " '2004-03-01' '2013-07-02' '2011-02-17' '2012-12-24' '2004-01-07'\n",
      " '2013-01-08' '2011-08-30' '2004-05-01' '2012-12-12' '2004-08-01'\n",
      " '2013-01-01' '2004-09-01' '2011-09-06' '2013-04-02' '2011-09-15'\n",
      " '2011-08-31' '2011-09-12' '2011-08-28' '2011-09-11' '2004-06-01'\n",
      " '2011-09-17' '2011-09-26' '2011-09-25' '2011-09-05' '2011-09-14'\n",
      " '2011-09-28' '2004-07-01' '2013-01-06' '2011-09-01' '2011-09-23'\n",
      " '2011-09-19']\n",
      "\n",
      "--- funder ---\n",
      "['Dmdd' 'Cmsr' 'Kkkt' ... 'African 2000 Network' 'Patrick' 'Omar Ally']\n",
      "\n",
      "--- gps_height ---\n",
      "[2092    0 1023 ... 2189 2207 2385]\n",
      "\n",
      "--- installer ---\n",
      "['DMDD' 'Gove' 'KKKT' ... 'marafip' 'Domnik' 'Omar Ally']\n",
      "\n",
      "--- longitude ---\n",
      "[35.42602046 35.51007372 32.49986613 ... 38.97441554 34.31658624\n",
      " 37.62640076]\n",
      "\n",
      "--- latitude ---\n",
      "[-4.22744596 -5.724555   -9.08122219 ... -5.42082294 -3.10716128\n",
      " -3.21145744]\n",
      "\n",
      "--- wpt_name ---\n",
      "['Narmo' 'Lukali' 'Mahakama' ... 'Kwa Mbayambaya' 'Kwa Omar Ally'\n",
      " 'Kwa Nicholaus Kimario']\n",
      "\n",
      "--- num_private ---\n",
      "[   0   47  150   65    5   32   10   20    6   15   80   45    1    3\n",
      "   17   11   38    8  102   12  755   39    2   26   23   16    7   25\n",
      "  111   34   41  280   61  213  160    4   93   22  141  120 1402   94\n",
      "   50  668    9   14   58   55   24   42   62  136   30 1776  672  698\n",
      "  180   60   27]\n",
      "\n",
      "--- basin ---\n",
      "['Internal' 'Lake Rukwa' 'Rufiji' 'Wami / Ruvu' 'Lake Victoria'\n",
      " 'Lake Tanganyika' 'Pangani' 'Lake Nyasa' 'Ruvuma / Southern Coast']\n",
      "\n",
      "--- subvillage ---\n",
      "['Bashnet Kati' 'Lukali' 'Chawalikozi' ... 'Mgogo' 'Ijosho' 'Kwandele']\n",
      "\n",
      "--- region ---\n",
      "['Manyara' 'Dodoma' 'Mbeya' 'Morogoro' 'Mwanza' 'Shinyanga' 'Kigoma'\n",
      " 'Tanga' 'Iringa' 'Arusha' 'Kagera' 'Singida' 'Tabora' 'Rukwa' 'Pwani'\n",
      " 'Ruvuma' 'Dar es Salaam' 'Kilimanjaro' 'Lindi' 'Mtwara' 'Mara']\n",
      "\n",
      "--- region_code ---\n",
      "[21  1 12  5 19 17 16  4 11  2 18 13 14 15 60  6 10  7  3  8 99 20 24 90\n",
      "  9 80 40]\n",
      "\n",
      "--- district_code ---\n",
      "[ 1  6  7  2  3  4  5  8 53 30 43 33 23 13 60 63 62 80  0 67]\n",
      "\n",
      "--- lga ---\n",
      "['Babati' 'Bahi' 'Mbozi' 'Mbarali' 'Kilosa' 'Magu' 'Maswa' 'Kilombero'\n",
      " 'Kasulu' 'Korogwe' 'Mufindi' 'Arusha Rural' 'Bariadi' 'Rungwe' 'Misenyi'\n",
      " 'Chamwino' 'Meru' 'Singida Rural' 'Ileje' 'Nzega' 'Missungwi'\n",
      " 'Shinyanga Rural' 'Njombe' 'Chato' 'Longido' 'Mpanda' 'Rufiji' 'Bagamoyo'\n",
      " 'Makete' 'Mbinga' 'Kwimba' 'Temeke' 'Hai' 'Muleba' 'Ludewa'\n",
      " 'Bukoba Rural' 'Kahama' 'Ilala' 'Igunga' 'Nachingwea' 'Iramba'\n",
      " 'Mtwara Rural' 'Musoma Rural' 'Iringa Rural' 'Mkinga' 'Lushoto' 'Rombo'\n",
      " 'Same' 'Kongwa' 'Serengeti' 'Ngorongoro' 'Karatu' 'Karagwe' 'Kibondo'\n",
      " 'Urambo' 'Mpwapwa' 'Ulanga' 'Mkuranga' 'Kyela' 'Mwanga' 'Mvomero' 'Ngara'\n",
      " 'Kigoma Rural' 'Mbeya Rural' 'Ukerewe' 'Kilolo' 'Moshi Rural' 'Masasi'\n",
      " 'Morogoro Urban' 'Ilemela' 'Siha' 'Singida Urban' 'Morogoro Rural'\n",
      " 'Tandahimba' 'Songea Rural' 'Tarime' 'Tunduru' 'Ruangwa' 'Kondoa'\n",
      " 'Kishapu' 'Geita' 'Manyoni' 'Namtumbo' 'Sumbawanga Rural' 'Meatu'\n",
      " 'Dodoma Urban' 'Lindi Rural' 'Kibaha' 'Kilwa' 'Bukombe' 'Bunda' 'Mafia'\n",
      " 'Nkasi' 'Bukoba Urban' 'Pangani' 'Mbulu' 'Shinyanga Urban' 'Rorya'\n",
      " 'Muheza' 'Sengerema' 'Monduli' 'Newala' 'Biharamulo' 'Simanjiro'\n",
      " 'Kigoma Urban' 'Uyui' 'Kisarawe' 'Liwale' 'Tabora Urban' 'Songea Urban'\n",
      " 'Hanang' 'Kinondoni' 'Kilindi' 'Moshi Urban' 'Handeni' 'Chunya'\n",
      " 'Mtwara Urban' 'Kiteto' 'Sumbawanga Urban' 'Nanyumbu' 'Tanga' 'Sikonge'\n",
      " 'Arusha Urban' 'Lindi Urban' 'Nyamagana']\n",
      "\n",
      "--- ward ---\n",
      "['Bashinet' 'Lamaiti' 'Ndalambo' ... 'Bureza' 'Murray' 'Mkumbi']\n",
      "\n",
      "--- population ---\n",
      "[  160     0   120   250  1520   500   150    95   430    20   126   300\n",
      "   350     1    50   140    10   244   475   800    80   550   450   154\n",
      "    30   240   990   219  1000    40    60    57   200   146   740    73\n",
      "   400    35   290   380   235   220   320    75    58    87   965   100\n",
      "    68   188    42   530   465   130    23   480  1200   420    90   230\n",
      "  2500   225   369   540   630    25   600   360   210    53    96    45\n",
      "    38   108    70   161   467  1600  1500   900   415   330   324     9\n",
      "   260   123   765   543  1903    69   170   720    72   680   180   390\n",
      "   410   231   370    15   510  4005 11463   340   156   283  1444   750\n",
      "   650    65  2100   358   245   332    26  2000    79   700    98   780\n",
      "    89   172    85  1800    21   950   860   620    48   532   563  2300\n",
      "   205   590  2698    78   325   820  3000   560   136    56   338    18\n",
      "    86   362   679   306  6922   159  6300   239   178    55   294   215\n",
      "   312   274   165   436   653  3832   189   347  1700   185    51  1840\n",
      "   905  4000   144   520    67   175   142   346   275   433    63   336\n",
      "   315  1250   690   625   756   375   568  3127   265  1203  1550   153\n",
      "   850   190   674   840  2530   125   145   567   113   795   264  1534\n",
      "  1300   280   256   195  3500   105    14  1930   254   760   570   356\n",
      "   372   432   714   232   317   289   790  1193  5600   457   176   523\n",
      "   109   110   155  3455  1030   827   186  1523   285  1400   470   236\n",
      "   893   279   456   868   115     5   270   525   890    12   554   354\n",
      "   310    76   580   668   271   639   133   169   378   287   469  1850\n",
      "    36  5560    32   460   234   118  3014   268    11   640   167  2954\n",
      "   117   122   585   536   405   327   605   512  5000   443   960   638\n",
      "   895   710   137   261   452   591   587   488   435   134   423  1650\n",
      "    31   266     8   269   769   361  3110   537   135  4500   263   367\n",
      "   281   259   192   875   735   684   258   132   385   206    24   203\n",
      "  2531   569   654  2198   257   194   553   482   658  1260   168  1750\n",
      "   335  1900   345   879   603  1450  8000   426    66  1540   495   184\n",
      "  1120   702  1060    49     7   112  1422   124 30500   213    94    59\n",
      "   179     2   781  1230  4800  8600   365   272    82   445   513  1570\n",
      "   483    97   211   524   589   594   128   202   198  2200   353   351\n",
      "  2600   182   663  2450   454   207  2683  2700  1041    52    39   217\n",
      "   214   712   379   321   323    54   745   286   440     4  1360   566\n",
      "   581   208   278   344   352  2350  3850   255   552   882   143   610\n",
      "   583   547   621   152   439   564  6000   490  2813   216   273   548\n",
      "    16   478   531  1363   715  2150    99   485   529   755  1430    33\n",
      "   288   782   355   980   304   865   238  1050  3411  1742   364    71\n",
      "   927   408   642   425   341   343   901   102   107    28   302  2016\n",
      "   295    17  2880  4523    34   223   305   746   299   253   459   698\n",
      "  1020   392  1240    91  1470   221   461   413   637   694   491   157\n",
      "  1950   798   906   147   403   521   183  7500   874     6   227    93\n",
      "   805  1205   374   713   976   870   181   672  3560  1056    22   703\n",
      "   721   297   233   376   301   243   940   228    92   584   748   749\n",
      "   204   427    44   162  1140   914   339  1280   897   670  1161   863\n",
      "    74   196  3620   424  1830  2445   886  1590   103  2230   681   322\n",
      "   246    41   241   412   812   598   349   964  3540   331   660   248\n",
      "    84   229  1502   616   212     3  3200   955  1100   251  9865   542\n",
      "   815  1160   158   816   675  5153  2652   786   489   819   328   421\n",
      "   502   527 10000   252   411   934   930  1942   501  8848   458   579\n",
      "   106  1265   209   174   389   887   187    37  1054   723  1150   771\n",
      "  2800   428   732   309  9000   496   218   889   954   463   644   595\n",
      "   149  1510   497   635   163  1009   455   730    19   282   634  1015\n",
      "   395  7000   492    77   247   665   975   453   308   685   855  1164\n",
      "   619   770   961  1251  2750   556    62   633  1234   830  1745  1010\n",
      "  3800   596  2630   386  1183   693   518   558   632  1968   298   139\n",
      "  1420    83  1530   487   545   910   111   606    43   845  2020   119\n",
      "   507   643  1320   148   669   311   359   842    88   506   131    13\n",
      "  2620   296  4200    29   657   396   793   759   733    46  1038   504\n",
      "   116   357   825   444   862  2145   171   742   104  2385   963  1720\n",
      "  2430   578  4600   177   687  1860   515   528  1290   802  1375   546\n",
      "    27   656  1034  1019   292   284  3226  4530   608   114   314   226\n",
      "   368   843   342  9500   393   447   486   249  4550   431  6500    47\n",
      "   593   821  3072   629   561   418   222   544   127  1005   326  1325\n",
      "   448  4208  5016   853   956   516   682  4520   291   935   419  2560\n",
      "   382  2238   242  3236   655   262  1560   810  1432   618  3450   856\n",
      "  1630  1018  1350  2050   508  4310  5500   624  1740   438  1013  1080\n",
      "   498   678  3589  1863   823   646  4230  1839  3031   612  1555  3982\n",
      "    64   948   193  3020  1614   151   101   476  1680  1180   267   788\n",
      "  2310   201   920  2400   743  3344  5550  2807  1380  2345   384   422\n",
      "   936   814   522  1893   276  1410   121   303  1340   397  1885   329\n",
      "  1244   704   406   592   726   462  3600   363  1506   880   224  2248\n",
      "   588   333  2905   334   451   586   789   688   398   519  3241  2314\n",
      "   834   348  2518   602  2010  6800   442   645   164  8500   613  1960\n",
      "  5200  6330  2129   199  2992  1152   366  2353   985  6302  1440  1144\n",
      "  2670  1354   652   896   686  1306  5400   417  2210  1625   836  1619\n",
      "   541   129   614    81 15300   517   318   316    61   966  1040  2684\n",
      "  1274   429   407   538   731  1545  6854  3050   166  4210   974  3250\n",
      "   313  2514   779  3568  1685  1065   734  3355   912   575   293   514\n",
      "  2780   571  4100   615   534   574   565  2461   970  1483   499   526\n",
      "   662   701   804  1226  3821   628  4900  2130  2250  1807   736]\n",
      "\n",
      "--- public_meeting ---\n",
      "[True False nan]\n",
      "\n",
      "--- recorded_by ---\n",
      "['GeoData Consultants Ltd']\n",
      "\n",
      "--- scheme_management ---\n",
      "['Water Board' 'VWC' 'WUG' nan 'Water authority' 'Parastatal' 'SWC' 'WUA'\n",
      " 'Private operator' 'Company' 'Other' 'Trust' 'None']\n",
      "\n",
      "--- scheme_name ---\n",
      "[nan 'Olikimo water project' 'S' ... 'Chub' 'Tamp' 'Nkho']\n",
      "\n",
      "--- permit ---\n",
      "[True False nan]\n",
      "\n",
      "--- construction_year ---\n",
      "[1998    0 1997 2009 2008 2004 2012 2010 1985 2003 1995 1986 1992 1970\n",
      " 1999 2000 2011 1971 1984 2007 1990 2002 2006 1994 1978 1960 1993 1989\n",
      " 1972 1979 1965 1996 1964 1982 1976 1975 2005 1980 1991 1974 1977 1987\n",
      " 2001 1988 1983 1962 1981 2013 1967 1963 1969 1961 1973 1968 1966]\n",
      "\n",
      "--- extraction_type ---\n",
      "['gravity' 'india mark ii' 'other' 'nira/tanira' 'swn 80' 'mono'\n",
      " 'submersible' 'afridev' 'ksb' 'windmill' 'other - rope pump'\n",
      " 'other - swn 81' 'other - play pump' 'climax' 'india mark iii' 'cemo'\n",
      " 'walimi' 'other - mkulima/shinyanga']\n",
      "\n",
      "--- extraction_type_group ---\n",
      "['gravity' 'india mark ii' 'other' 'nira/tanira' 'swn 80' 'mono'\n",
      " 'submersible' 'afridev' 'wind-powered' 'rope pump' 'other handpump'\n",
      " 'other motorpump' 'india mark iii']\n",
      "\n",
      "--- extraction_type_class ---\n",
      "['gravity' 'handpump' 'other' 'motorpump' 'submersible' 'wind-powered'\n",
      " 'rope pump']\n",
      "\n",
      "--- management ---\n",
      "['water board' 'vwc' 'wug' 'private operator' 'parastatal'\n",
      " 'other - school' 'wua' 'unknown' 'company' 'other' 'water authority'\n",
      " 'trust']\n",
      "\n",
      "--- management_group ---\n",
      "['user-group' 'commercial' 'parastatal' 'other' 'unknown']\n",
      "\n",
      "--- payment ---\n",
      "['pay per bucket' 'never pay' 'pay monthly' 'pay when scheme fails'\n",
      " 'other' 'pay annually' 'unknown']\n",
      "\n",
      "--- payment_type ---\n",
      "['per bucket' 'never pay' 'monthly' 'on failure' 'other' 'annually'\n",
      " 'unknown']\n",
      "\n",
      "--- water_quality ---\n",
      "['soft' 'salty' 'unknown' 'coloured' 'fluoride' 'milky' 'salty abandoned'\n",
      " 'fluoride abandoned']\n",
      "\n",
      "--- quality_group ---\n",
      "['good' 'salty' 'unknown' 'colored' 'fluoride' 'milky']\n",
      "\n",
      "--- quantity ---\n",
      "['insufficient' 'enough' 'seasonal' 'dry' 'unknown']\n",
      "\n",
      "--- quantity_group ---\n",
      "['insufficient' 'enough' 'seasonal' 'dry' 'unknown']\n",
      "\n",
      "--- source ---\n",
      "['spring' 'shallow well' 'river' 'machine dbh' 'hand dtw' 'dam'\n",
      " 'rainwater harvesting' 'lake' 'other' 'unknown']\n",
      "\n",
      "--- source_type ---\n",
      "['spring' 'shallow well' 'river/lake' 'borehole' 'dam'\n",
      " 'rainwater harvesting' 'other']\n",
      "\n",
      "--- source_class ---\n",
      "['groundwater' 'surface' 'unknown']\n",
      "\n",
      "--- waterpoint_type ---\n",
      "['communal standpipe' 'hand pump' 'other' 'communal standpipe multiple'\n",
      " 'improved spring' 'cattle trough' 'dam']\n",
      "\n",
      "--- waterpoint_type_group ---\n",
      "['communal standpipe' 'hand pump' 'other' 'improved spring'\n",
      " 'cattle trough' 'dam']\n",
      "\n",
      "--- status_group ---\n",
      "['functional' 'non functional' 'functional needs repair']\n",
      "\n"
     ]
    }
   ],
   "source": [
    "# view unique values\n",
    "for col in df_train.columns:\n",
    "    print(f\"--- {col} ---\")\n",
    "    print(df_train[col].unique())\n",
    "    print()"
   ]
  },
  {
   "cell_type": "code",
   "execution_count": null,
   "id": "b93e9ba0",
   "metadata": {},
   "outputs": [
    {
     "name": "stdout",
     "output_type": "stream",
     "text": [
      "[True False nan]\n",
      "[True False nan]\n",
      "[1998    0 1997 2009 2008 2004 2012 2010 1985 2003 1995 1986 1992 1970\n",
      " 1999 2000 2011 1971 1984 2007 1990 2002 2006 1994 1978 1960 1993 1989\n",
      " 1972 1979 1965 1996 1964 1982 1976 1975 2005 1980 1991 1974 1977 1987\n",
      " 2001 1988 1983 1962 1981 2013 1967 1963 1969 1961 1973 1968 1966]\n",
      "['2013-02-27' '2011-03-17' '2011-07-10' '2011-04-12' '2011-04-05'\n",
      " '2011-08-08' '2013-03-01' '2011-03-21' '2011-08-02' '2013-01-22'\n",
      " '2011-03-06' '2011-03-29' '2011-02-26' '2013-02-12' '2013-10-03'\n",
      " '2013-01-29' '2011-03-14' '2012-10-29' '2013-03-27' '2011-03-25'\n",
      " '2013-02-11' '2011-07-22' '2012-10-17' '2011-03-13' '2011-04-07'\n",
      " '2013-02-03' '2011-08-03' '2011-07-17' '2013-02-24' '2012-10-12'\n",
      " '2013-01-17' '2013-01-30' '2013-03-22' '2013-02-02' '2011-02-19'\n",
      " '2012-10-13' '2013-02-04' '2011-07-19' '2011-03-12' '2012-10-08'\n",
      " '2013-02-14' '2011-08-07' '2013-03-13' '2013-06-03' '2013-03-03'\n",
      " '2011-02-22' '2012-10-07' '2013-03-18' '2011-03-03' '2012-10-20'\n",
      " '2011-07-08' '2013-01-24' '2013-01-15' '2011-03-15' '2013-02-15'\n",
      " '2012-10-24' '2011-03-02' '2011-04-20' '2011-03-05' '2013-03-06'\n",
      " '2011-02-28' '2013-02-17' '2013-03-04' '2011-04-18' '2011-04-16'\n",
      " '2011-03-24' '2012-10-23' '2013-03-23' '2013-03-25' '2013-01-19'\n",
      " '2012-12-16' '2011-08-01' '2013-01-27' '2011-04-06' '2011-04-01'\n",
      " '2011-04-10' '2011-09-04' '2011-08-12' '2013-02-26' '2011-06-07'\n",
      " '2011-03-08' '2011-02-25' '2011-08-04' '2013-03-05' '2012-11-07'\n",
      " '2013-01-14' '2013-03-08' '2011-07-29' '2011-07-06' '2011-03-19'\n",
      " '2011-03-27' '2011-03-16' '2012-11-01' '2013-03-26' '2013-01-26'\n",
      " '2011-04-11' '2011-03-23' '2011-04-03' '2013-01-25' '2012-10-21'\n",
      " '2011-07-20' '2013-04-04' '2011-08-10' '2013-03-16' '2012-10-26'\n",
      " '2011-03-26' '2013-01-16' '2012-10-09' '2013-01-23' '2013-02-23'\n",
      " '2011-02-20' '2011-02-21' '2013-02-28' '2012-10-18' '2013-02-01'\n",
      " '2013-02-08' '2011-04-13' '2011-07-09' '2013-02-10' '2011-07-13'\n",
      " '2013-02-13' '2013-02-21' '2011-03-31' '2011-04-17' '2013-03-17'\n",
      " '2013-02-09' '2013-01-20' '2012-10-03' '2011-02-27' '2011-07-21'\n",
      " '2011-02-24' '2011-08-26' '2013-03-30' '2011-07-04' '2013-08-03'\n",
      " '2011-03-28' '2011-07-11' '2011-07-16' '2011-03-18' '2012-11-09'\n",
      " '2013-01-21' '2013-02-16' '2011-04-04' '2011-07-30' '2011-03-04'\n",
      " '2013-01-28' '2011-02-18' '2011-04-14' '2013-11-03' '2013-12-03'\n",
      " '2011-08-25' '2011-04-19' '2013-03-19' '2012-11-02' '2013-02-06'\n",
      " '2013-02-07' '2011-08-13' '2011-03-10' '2011-07-15' '2012-10-28'\n",
      " '2011-07-27' '2013-03-20' '2011-07-31' '2011-07-07' '2011-07-26'\n",
      " '2011-07-25' '2013-02-20' '2013-01-18' '2012-10-25' '2013-03-29'\n",
      " '2013-03-09' '2011-03-11' '2012-10-10' '2013-02-18' '2011-02-23'\n",
      " '2011-07-28' '2011-07-05' '2012-10-27' '2011-03-22' '2011-07-14'\n",
      " '2011-03-07' '2013-01-31' '2013-03-07' '2011-08-23' '2013-03-24'\n",
      " '2011-08-05' '2012-11-05' '2011-08-17' '2013-03-02' '2012-11-12'\n",
      " '2011-04-02' '2012-10-15' '2013-02-25' '2011-03-20' '2011-07-23'\n",
      " '2012-10-04' '2013-12-01' '2011-03-30' '2012-10-19' '2013-03-15'\n",
      " '2012-10-14' '2011-01-04' '2013-09-03' '2013-03-11' '2011-08-09'\n",
      " '2012-11-08' '2012-10-31' '2013-03-14' '2011-07-24' '2013-07-03'\n",
      " '2012-12-11' '2013-02-22' '2011-03-09' '2012-12-10' '2012-10-16'\n",
      " '2012-12-13' '2013-08-02' '2011-03-01' '2011-01-03' '2011-02-14'\n",
      " '2013-02-19' '2011-04-22' '2011-11-03' '2012-10-30' '2011-08-11'\n",
      " '2012-10-11' '2013-03-10' '2011-08-16' '2011-07-18' '2011-04-15'\n",
      " '2011-08-18' '2011-02-02' '2013-05-02' '2011-04-09' '2013-01-03'\n",
      " '2013-03-21' '2012-10-22' '2012-11-03' '2012-10-05' '2011-11-04'\n",
      " '2013-11-02' '2011-02-16' '2013-01-04' '2013-05-03' '2011-08-14'\n",
      " '2011-08-19' '2013-03-12' '2011-02-03' '2013-04-03' '2011-04-08'\n",
      " '2012-12-14' '2011-08-06' '2013-12-02' '2013-02-05' '2011-08-27'\n",
      " '2012-11-11' '2011-10-04' '2011-07-12' '2013-07-04' '2013-05-04'\n",
      " '2012-11-04' '2012-11-15' '2011-02-04' '2012-10-02' '2013-03-28'\n",
      " '2012-12-15' '2011-12-07' '2012-11-30' '2011-06-04' '2012-11-06'\n",
      " '2011-05-07' '2011-08-15' '2011-11-07' '2012-12-17' '2012-11-13'\n",
      " '2011-10-07' '2013-06-04' '2011-08-21' '2011-08-22' '2011-01-08'\n",
      " '2013-09-02' '2011-08-24' '2011-12-03' '2012-10-06' '2013-10-02'\n",
      " '2004-12-01' '2004-04-01' '2011-07-03' '2012-12-21' '2011-09-03'\n",
      " '2012-11-19' '2013-01-09' '2011-04-23' '2011-02-15' '2011-05-03'\n",
      " '2011-09-08' '2011-09-21' '2013-01-11' '2012-11-10' '2011-08-20'\n",
      " '2012-12-23' '2012-10-01' '2012-12-18' '2013-01-13' '2012-11-14'\n",
      " '2012-01-25' '2011-10-03' '2011-02-01' '2011-05-04' '2011-06-03'\n",
      " '2013-01-10' '2011-04-21' '2012-11-29' '2013-01-12' '2011-09-09'\n",
      " '2011-09-18' '2013-01-07' '2012-01-21' '2011-09-13' '2004-03-06'\n",
      " '2004-03-01' '2013-07-02' '2011-02-17' '2012-12-24' '2004-01-07'\n",
      " '2013-01-08' '2011-08-30' '2004-05-01' '2012-12-12' '2004-08-01'\n",
      " '2013-01-01' '2004-09-01' '2011-09-06' '2013-04-02' '2011-09-15'\n",
      " '2011-08-31' '2011-09-12' '2011-08-28' '2011-09-11' '2004-06-01'\n",
      " '2011-09-17' '2011-09-26' '2011-09-25' '2011-09-05' '2011-09-14'\n",
      " '2011-09-28' '2004-07-01' '2013-01-06' '2011-09-01' '2011-09-23'\n",
      " '2011-09-19']\n",
      "['Internal' 'Lake Rukwa' 'Rufiji' 'Wami / Ruvu' 'Lake Victoria'\n",
      " 'Lake Tanganyika' 'Pangani' 'Lake Nyasa' 'Ruvuma / Southern Coast']\n",
      "['GeoData Consultants Ltd']\n",
      "['Water Board' 'VWC' 'WUG' nan 'Water authority' 'Parastatal' 'SWC' 'WUA'\n",
      " 'Private operator' 'Company' 'Other' 'Trust' 'None']\n"
     ]
    }
   ],
   "source": [
    "# just quick check what is inside the columns\n",
    "print(df_train['public_meeting'].unique())\n",
    "print(df_train['permit'].unique())\n",
    "\n",
    "print(df_train['construction_year'].unique())\n",
    "print(df_train['date_recorded'].unique())\n",
    "\n",
    "# this is a categorical geographic region and has 9 unique values\n",
    "print(df_train['basin'].unique())\n",
    "# it may not be useful for modeling but as it has only 1 unique value i changed it to category\n",
    "print(df_train['recorded_by'].unique())\n",
    "# this column has 11 unique values making it ideal for categorical encoding later\n",
    "print(df_train['scheme_management'].unique())"
   ]
  },
  {
   "cell_type": "code",
   "execution_count": null,
   "id": "68956a97",
   "metadata": {},
   "outputs": [],
   "source": [
    "# Clean and Convert public_meeting\n",
    "# Convert to string, clean casing and spaces, then map to booleans\n",
    "df_train['public_meeting'] = df_train['public_meeting'].astype(str).str.strip().str.lower()\n",
    "df_train['public_meeting'] = df_train['public_meeting'].map({'true': True, 'false': False})\n",
    "df_train['public_meeting'] = df_train['public_meeting'].astype('boolean')"
   ]
  },
  {
   "cell_type": "code",
   "execution_count": null,
   "id": "6331df28",
   "metadata": {},
   "outputs": [],
   "source": [
    "# Clean and Convert permit\n",
    "df_train['permit'] = df_train['permit'].astype(str).str.strip().str.lower()\n",
    "df_train['permit'] = df_train['permit'].map({'true': True, 'false': False})\n",
    "df_train['permit'] = df_train['permit'].astype('boolean')"
   ]
  },
  {
   "cell_type": "code",
   "execution_count": null,
   "id": "e9deebd3",
   "metadata": {},
   "outputs": [],
   "source": [
    "# Convert date_recorded to datetime\n",
    "df_train['date_recorded'] = pd.to_datetime(df_train['date_recorded'], errors='coerce')\n"
   ]
  },
  {
   "cell_type": "code",
   "execution_count": null,
   "id": "bac20d34",
   "metadata": {},
   "outputs": [],
   "source": [
    "# Remove invalid years\n",
    "df_train.loc[df_train['construction_year'] < 1900, 'construction_year'] = pd.NA\n",
    "\n",
    "# Convert the year into datetime (January 1st of the year)\n",
    "df_train['construction_year'] = pd.to_datetime(\n",
    "    df_train['construction_year'], format='%Y', errors='coerce'\n",
    ")"
   ]
  },
  {
   "cell_type": "markdown",
   "id": "21b12fe0",
   "metadata": {},
   "source": [
    "## Strip whitespace and lower the casing"
   ]
  },
  {
   "cell_type": "code",
   "execution_count": null,
   "id": "4250fed2",
   "metadata": {},
   "outputs": [],
   "source": [
    "# Strip whitespace and lower the casing\n",
    "df_train['basin'] = df_train['basin'].astype(str).str.strip().str.lower()\n",
    "df_train['recorded_by'] = df_train['recorded_by'].astype(str).str.strip().str.lower()\n",
    "df_train['scheme_management'] = df_train['scheme_management'].astype(str).str.strip().str.lower()"
   ]
  },
  {
   "cell_type": "code",
   "execution_count": null,
   "id": "d8ebb422",
   "metadata": {},
   "outputs": [],
   "source": [
    "# covert to category\n",
    "df_train['basin'] = df_train['basin'].astype('category')\n",
    "df_train['recorded_by'] = df_train['recorded_by'].astype('category')\n",
    "df_train['scheme_management'] = df_train['scheme_management'].astype('category')"
   ]
  },
  {
   "cell_type": "markdown",
   "id": "08fa3db0",
   "metadata": {},
   "source": [
    "## Check the Data Type"
   ]
  },
  {
   "cell_type": "code",
   "execution_count": null,
   "id": "522e1604",
   "metadata": {},
   "outputs": [
    {
     "name": "stdout",
     "output_type": "stream",
     "text": [
      "public_meeting              boolean\n",
      "permit                      boolean\n",
      "date_recorded        datetime64[ns]\n",
      "construction_year    datetime64[ns]\n",
      "basin                      category\n",
      "recorded_by                category\n",
      "scheme_management          category\n",
      "dtype: object\n"
     ]
    }
   ],
   "source": [
    "# Check Data Types\n",
    "print(df_train[['public_meeting', 'permit', 'date_recorded', 'construction_year', 'basin', 'recorded_by', 'scheme_management']].dtypes)"
   ]
  },
  {
   "cell_type": "code",
   "execution_count": null,
   "id": "735ec95d",
   "metadata": {},
   "outputs": [
    {
     "name": "stdout",
     "output_type": "stream",
     "text": [
      "<BooleanArray>\n",
      "[True, False, <NA>]\n",
      "Length: 3, dtype: boolean\n",
      "<BooleanArray>\n",
      "[True, False, <NA>]\n",
      "Length: 3, dtype: boolean\n",
      "['1998-01-01T00:00:00.000000000'                           'NaT'\n",
      " '1997-01-01T00:00:00.000000000' '2009-01-01T00:00:00.000000000'\n",
      " '2008-01-01T00:00:00.000000000' '2004-01-01T00:00:00.000000000'\n",
      " '2012-01-01T00:00:00.000000000' '2010-01-01T00:00:00.000000000'\n",
      " '1985-01-01T00:00:00.000000000' '2003-01-01T00:00:00.000000000'\n",
      " '1995-01-01T00:00:00.000000000' '1986-01-01T00:00:00.000000000'\n",
      " '1992-01-01T00:00:00.000000000' '1970-01-01T00:00:00.000000000'\n",
      " '1999-01-01T00:00:00.000000000' '2000-01-01T00:00:00.000000000'\n",
      " '2011-01-01T00:00:00.000000000' '1971-01-01T00:00:00.000000000'\n",
      " '1984-01-01T00:00:00.000000000' '2007-01-01T00:00:00.000000000'\n",
      " '1990-01-01T00:00:00.000000000' '2002-01-01T00:00:00.000000000'\n",
      " '2006-01-01T00:00:00.000000000' '1994-01-01T00:00:00.000000000'\n",
      " '1978-01-01T00:00:00.000000000' '1960-01-01T00:00:00.000000000'\n",
      " '1993-01-01T00:00:00.000000000' '1989-01-01T00:00:00.000000000'\n",
      " '1972-01-01T00:00:00.000000000' '1979-01-01T00:00:00.000000000'\n",
      " '1965-01-01T00:00:00.000000000' '1996-01-01T00:00:00.000000000'\n",
      " '1964-01-01T00:00:00.000000000' '1982-01-01T00:00:00.000000000'\n",
      " '1976-01-01T00:00:00.000000000' '1975-01-01T00:00:00.000000000'\n",
      " '2005-01-01T00:00:00.000000000' '1980-01-01T00:00:00.000000000'\n",
      " '1991-01-01T00:00:00.000000000' '1974-01-01T00:00:00.000000000'\n",
      " '1977-01-01T00:00:00.000000000' '1987-01-01T00:00:00.000000000'\n",
      " '2001-01-01T00:00:00.000000000' '1988-01-01T00:00:00.000000000'\n",
      " '1983-01-01T00:00:00.000000000' '1962-01-01T00:00:00.000000000'\n",
      " '1981-01-01T00:00:00.000000000' '2013-01-01T00:00:00.000000000'\n",
      " '1967-01-01T00:00:00.000000000' '1963-01-01T00:00:00.000000000'\n",
      " '1969-01-01T00:00:00.000000000' '1961-01-01T00:00:00.000000000'\n",
      " '1973-01-01T00:00:00.000000000' '1968-01-01T00:00:00.000000000'\n",
      " '1966-01-01T00:00:00.000000000']\n",
      "['2013-02-27T00:00:00.000000000' '2011-03-17T00:00:00.000000000'\n",
      " '2011-07-10T00:00:00.000000000' '2011-04-12T00:00:00.000000000'\n",
      " '2011-04-05T00:00:00.000000000' '2011-08-08T00:00:00.000000000'\n",
      " '2013-03-01T00:00:00.000000000' '2011-03-21T00:00:00.000000000'\n",
      " '2011-08-02T00:00:00.000000000' '2013-01-22T00:00:00.000000000'\n",
      " '2011-03-06T00:00:00.000000000' '2011-03-29T00:00:00.000000000'\n",
      " '2011-02-26T00:00:00.000000000' '2013-02-12T00:00:00.000000000'\n",
      " '2013-10-03T00:00:00.000000000' '2013-01-29T00:00:00.000000000'\n",
      " '2011-03-14T00:00:00.000000000' '2012-10-29T00:00:00.000000000'\n",
      " '2013-03-27T00:00:00.000000000' '2011-03-25T00:00:00.000000000'\n",
      " '2013-02-11T00:00:00.000000000' '2011-07-22T00:00:00.000000000'\n",
      " '2012-10-17T00:00:00.000000000' '2011-03-13T00:00:00.000000000'\n",
      " '2011-04-07T00:00:00.000000000' '2013-02-03T00:00:00.000000000'\n",
      " '2011-08-03T00:00:00.000000000' '2011-07-17T00:00:00.000000000'\n",
      " '2013-02-24T00:00:00.000000000' '2012-10-12T00:00:00.000000000'\n",
      " '2013-01-17T00:00:00.000000000' '2013-01-30T00:00:00.000000000'\n",
      " '2013-03-22T00:00:00.000000000' '2013-02-02T00:00:00.000000000'\n",
      " '2011-02-19T00:00:00.000000000' '2012-10-13T00:00:00.000000000'\n",
      " '2013-02-04T00:00:00.000000000' '2011-07-19T00:00:00.000000000'\n",
      " '2011-03-12T00:00:00.000000000' '2012-10-08T00:00:00.000000000'\n",
      " '2013-02-14T00:00:00.000000000' '2011-08-07T00:00:00.000000000'\n",
      " '2013-03-13T00:00:00.000000000' '2013-06-03T00:00:00.000000000'\n",
      " '2013-03-03T00:00:00.000000000' '2011-02-22T00:00:00.000000000'\n",
      " '2012-10-07T00:00:00.000000000' '2013-03-18T00:00:00.000000000'\n",
      " '2011-03-03T00:00:00.000000000' '2012-10-20T00:00:00.000000000'\n",
      " '2011-07-08T00:00:00.000000000' '2013-01-24T00:00:00.000000000'\n",
      " '2013-01-15T00:00:00.000000000' '2011-03-15T00:00:00.000000000'\n",
      " '2013-02-15T00:00:00.000000000' '2012-10-24T00:00:00.000000000'\n",
      " '2011-03-02T00:00:00.000000000' '2011-04-20T00:00:00.000000000'\n",
      " '2011-03-05T00:00:00.000000000' '2013-03-06T00:00:00.000000000'\n",
      " '2011-02-28T00:00:00.000000000' '2013-02-17T00:00:00.000000000'\n",
      " '2013-03-04T00:00:00.000000000' '2011-04-18T00:00:00.000000000'\n",
      " '2011-04-16T00:00:00.000000000' '2011-03-24T00:00:00.000000000'\n",
      " '2012-10-23T00:00:00.000000000' '2013-03-23T00:00:00.000000000'\n",
      " '2013-03-25T00:00:00.000000000' '2013-01-19T00:00:00.000000000'\n",
      " '2012-12-16T00:00:00.000000000' '2011-08-01T00:00:00.000000000'\n",
      " '2013-01-27T00:00:00.000000000' '2011-04-06T00:00:00.000000000'\n",
      " '2011-04-01T00:00:00.000000000' '2011-04-10T00:00:00.000000000'\n",
      " '2011-09-04T00:00:00.000000000' '2011-08-12T00:00:00.000000000'\n",
      " '2013-02-26T00:00:00.000000000' '2011-06-07T00:00:00.000000000'\n",
      " '2011-03-08T00:00:00.000000000' '2011-02-25T00:00:00.000000000'\n",
      " '2011-08-04T00:00:00.000000000' '2013-03-05T00:00:00.000000000'\n",
      " '2012-11-07T00:00:00.000000000' '2013-01-14T00:00:00.000000000'\n",
      " '2013-03-08T00:00:00.000000000' '2011-07-29T00:00:00.000000000'\n",
      " '2011-07-06T00:00:00.000000000' '2011-03-19T00:00:00.000000000'\n",
      " '2011-03-27T00:00:00.000000000' '2011-03-16T00:00:00.000000000'\n",
      " '2012-11-01T00:00:00.000000000' '2013-03-26T00:00:00.000000000'\n",
      " '2013-01-26T00:00:00.000000000' '2011-04-11T00:00:00.000000000'\n",
      " '2011-03-23T00:00:00.000000000' '2011-04-03T00:00:00.000000000'\n",
      " '2013-01-25T00:00:00.000000000' '2012-10-21T00:00:00.000000000'\n",
      " '2011-07-20T00:00:00.000000000' '2013-04-04T00:00:00.000000000'\n",
      " '2011-08-10T00:00:00.000000000' '2013-03-16T00:00:00.000000000'\n",
      " '2012-10-26T00:00:00.000000000' '2011-03-26T00:00:00.000000000'\n",
      " '2013-01-16T00:00:00.000000000' '2012-10-09T00:00:00.000000000'\n",
      " '2013-01-23T00:00:00.000000000' '2013-02-23T00:00:00.000000000'\n",
      " '2011-02-20T00:00:00.000000000' '2011-02-21T00:00:00.000000000'\n",
      " '2013-02-28T00:00:00.000000000' '2012-10-18T00:00:00.000000000'\n",
      " '2013-02-01T00:00:00.000000000' '2013-02-08T00:00:00.000000000'\n",
      " '2011-04-13T00:00:00.000000000' '2011-07-09T00:00:00.000000000'\n",
      " '2013-02-10T00:00:00.000000000' '2011-07-13T00:00:00.000000000'\n",
      " '2013-02-13T00:00:00.000000000' '2013-02-21T00:00:00.000000000'\n",
      " '2011-03-31T00:00:00.000000000' '2011-04-17T00:00:00.000000000'\n",
      " '2013-03-17T00:00:00.000000000' '2013-02-09T00:00:00.000000000'\n",
      " '2013-01-20T00:00:00.000000000' '2012-10-03T00:00:00.000000000'\n",
      " '2011-02-27T00:00:00.000000000' '2011-07-21T00:00:00.000000000'\n",
      " '2011-02-24T00:00:00.000000000' '2011-08-26T00:00:00.000000000'\n",
      " '2013-03-30T00:00:00.000000000' '2011-07-04T00:00:00.000000000'\n",
      " '2013-08-03T00:00:00.000000000' '2011-03-28T00:00:00.000000000'\n",
      " '2011-07-11T00:00:00.000000000' '2011-07-16T00:00:00.000000000'\n",
      " '2011-03-18T00:00:00.000000000' '2012-11-09T00:00:00.000000000'\n",
      " '2013-01-21T00:00:00.000000000' '2013-02-16T00:00:00.000000000'\n",
      " '2011-04-04T00:00:00.000000000' '2011-07-30T00:00:00.000000000'\n",
      " '2011-03-04T00:00:00.000000000' '2013-01-28T00:00:00.000000000'\n",
      " '2011-02-18T00:00:00.000000000' '2011-04-14T00:00:00.000000000'\n",
      " '2013-11-03T00:00:00.000000000' '2013-12-03T00:00:00.000000000'\n",
      " '2011-08-25T00:00:00.000000000' '2011-04-19T00:00:00.000000000'\n",
      " '2013-03-19T00:00:00.000000000' '2012-11-02T00:00:00.000000000'\n",
      " '2013-02-06T00:00:00.000000000' '2013-02-07T00:00:00.000000000'\n",
      " '2011-08-13T00:00:00.000000000' '2011-03-10T00:00:00.000000000'\n",
      " '2011-07-15T00:00:00.000000000' '2012-10-28T00:00:00.000000000'\n",
      " '2011-07-27T00:00:00.000000000' '2013-03-20T00:00:00.000000000'\n",
      " '2011-07-31T00:00:00.000000000' '2011-07-07T00:00:00.000000000'\n",
      " '2011-07-26T00:00:00.000000000' '2011-07-25T00:00:00.000000000'\n",
      " '2013-02-20T00:00:00.000000000' '2013-01-18T00:00:00.000000000'\n",
      " '2012-10-25T00:00:00.000000000' '2013-03-29T00:00:00.000000000'\n",
      " '2013-03-09T00:00:00.000000000' '2011-03-11T00:00:00.000000000'\n",
      " '2012-10-10T00:00:00.000000000' '2013-02-18T00:00:00.000000000'\n",
      " '2011-02-23T00:00:00.000000000' '2011-07-28T00:00:00.000000000'\n",
      " '2011-07-05T00:00:00.000000000' '2012-10-27T00:00:00.000000000'\n",
      " '2011-03-22T00:00:00.000000000' '2011-07-14T00:00:00.000000000'\n",
      " '2011-03-07T00:00:00.000000000' '2013-01-31T00:00:00.000000000'\n",
      " '2013-03-07T00:00:00.000000000' '2011-08-23T00:00:00.000000000'\n",
      " '2013-03-24T00:00:00.000000000' '2011-08-05T00:00:00.000000000'\n",
      " '2012-11-05T00:00:00.000000000' '2011-08-17T00:00:00.000000000'\n",
      " '2013-03-02T00:00:00.000000000' '2012-11-12T00:00:00.000000000'\n",
      " '2011-04-02T00:00:00.000000000' '2012-10-15T00:00:00.000000000'\n",
      " '2013-02-25T00:00:00.000000000' '2011-03-20T00:00:00.000000000'\n",
      " '2011-07-23T00:00:00.000000000' '2012-10-04T00:00:00.000000000'\n",
      " '2013-12-01T00:00:00.000000000' '2011-03-30T00:00:00.000000000'\n",
      " '2012-10-19T00:00:00.000000000' '2013-03-15T00:00:00.000000000'\n",
      " '2012-10-14T00:00:00.000000000' '2011-01-04T00:00:00.000000000'\n",
      " '2013-09-03T00:00:00.000000000' '2013-03-11T00:00:00.000000000'\n",
      " '2011-08-09T00:00:00.000000000' '2012-11-08T00:00:00.000000000'\n",
      " '2012-10-31T00:00:00.000000000' '2013-03-14T00:00:00.000000000'\n",
      " '2011-07-24T00:00:00.000000000' '2013-07-03T00:00:00.000000000'\n",
      " '2012-12-11T00:00:00.000000000' '2013-02-22T00:00:00.000000000'\n",
      " '2011-03-09T00:00:00.000000000' '2012-12-10T00:00:00.000000000'\n",
      " '2012-10-16T00:00:00.000000000' '2012-12-13T00:00:00.000000000'\n",
      " '2013-08-02T00:00:00.000000000' '2011-03-01T00:00:00.000000000'\n",
      " '2011-01-03T00:00:00.000000000' '2011-02-14T00:00:00.000000000'\n",
      " '2013-02-19T00:00:00.000000000' '2011-04-22T00:00:00.000000000'\n",
      " '2011-11-03T00:00:00.000000000' '2012-10-30T00:00:00.000000000'\n",
      " '2011-08-11T00:00:00.000000000' '2012-10-11T00:00:00.000000000'\n",
      " '2013-03-10T00:00:00.000000000' '2011-08-16T00:00:00.000000000'\n",
      " '2011-07-18T00:00:00.000000000' '2011-04-15T00:00:00.000000000'\n",
      " '2011-08-18T00:00:00.000000000' '2011-02-02T00:00:00.000000000'\n",
      " '2013-05-02T00:00:00.000000000' '2011-04-09T00:00:00.000000000'\n",
      " '2013-01-03T00:00:00.000000000' '2013-03-21T00:00:00.000000000'\n",
      " '2012-10-22T00:00:00.000000000' '2012-11-03T00:00:00.000000000'\n",
      " '2012-10-05T00:00:00.000000000' '2011-11-04T00:00:00.000000000'\n",
      " '2013-11-02T00:00:00.000000000' '2011-02-16T00:00:00.000000000'\n",
      " '2013-01-04T00:00:00.000000000' '2013-05-03T00:00:00.000000000'\n",
      " '2011-08-14T00:00:00.000000000' '2011-08-19T00:00:00.000000000'\n",
      " '2013-03-12T00:00:00.000000000' '2011-02-03T00:00:00.000000000'\n",
      " '2013-04-03T00:00:00.000000000' '2011-04-08T00:00:00.000000000'\n",
      " '2012-12-14T00:00:00.000000000' '2011-08-06T00:00:00.000000000'\n",
      " '2013-12-02T00:00:00.000000000' '2013-02-05T00:00:00.000000000'\n",
      " '2011-08-27T00:00:00.000000000' '2012-11-11T00:00:00.000000000'\n",
      " '2011-10-04T00:00:00.000000000' '2011-07-12T00:00:00.000000000'\n",
      " '2013-07-04T00:00:00.000000000' '2013-05-04T00:00:00.000000000'\n",
      " '2012-11-04T00:00:00.000000000' '2012-11-15T00:00:00.000000000'\n",
      " '2011-02-04T00:00:00.000000000' '2012-10-02T00:00:00.000000000'\n",
      " '2013-03-28T00:00:00.000000000' '2012-12-15T00:00:00.000000000'\n",
      " '2011-12-07T00:00:00.000000000' '2012-11-30T00:00:00.000000000'\n",
      " '2011-06-04T00:00:00.000000000' '2012-11-06T00:00:00.000000000'\n",
      " '2011-05-07T00:00:00.000000000' '2011-08-15T00:00:00.000000000'\n",
      " '2011-11-07T00:00:00.000000000' '2012-12-17T00:00:00.000000000'\n",
      " '2012-11-13T00:00:00.000000000' '2011-10-07T00:00:00.000000000'\n",
      " '2013-06-04T00:00:00.000000000' '2011-08-21T00:00:00.000000000'\n",
      " '2011-08-22T00:00:00.000000000' '2011-01-08T00:00:00.000000000'\n",
      " '2013-09-02T00:00:00.000000000' '2011-08-24T00:00:00.000000000'\n",
      " '2011-12-03T00:00:00.000000000' '2012-10-06T00:00:00.000000000'\n",
      " '2013-10-02T00:00:00.000000000' '2004-12-01T00:00:00.000000000'\n",
      " '2004-04-01T00:00:00.000000000' '2011-07-03T00:00:00.000000000'\n",
      " '2012-12-21T00:00:00.000000000' '2011-09-03T00:00:00.000000000'\n",
      " '2012-11-19T00:00:00.000000000' '2013-01-09T00:00:00.000000000'\n",
      " '2011-04-23T00:00:00.000000000' '2011-02-15T00:00:00.000000000'\n",
      " '2011-05-03T00:00:00.000000000' '2011-09-08T00:00:00.000000000'\n",
      " '2011-09-21T00:00:00.000000000' '2013-01-11T00:00:00.000000000'\n",
      " '2012-11-10T00:00:00.000000000' '2011-08-20T00:00:00.000000000'\n",
      " '2012-12-23T00:00:00.000000000' '2012-10-01T00:00:00.000000000'\n",
      " '2012-12-18T00:00:00.000000000' '2013-01-13T00:00:00.000000000'\n",
      " '2012-11-14T00:00:00.000000000' '2012-01-25T00:00:00.000000000'\n",
      " '2011-10-03T00:00:00.000000000' '2011-02-01T00:00:00.000000000'\n",
      " '2011-05-04T00:00:00.000000000' '2011-06-03T00:00:00.000000000'\n",
      " '2013-01-10T00:00:00.000000000' '2011-04-21T00:00:00.000000000'\n",
      " '2012-11-29T00:00:00.000000000' '2013-01-12T00:00:00.000000000'\n",
      " '2011-09-09T00:00:00.000000000' '2011-09-18T00:00:00.000000000'\n",
      " '2013-01-07T00:00:00.000000000' '2012-01-21T00:00:00.000000000'\n",
      " '2011-09-13T00:00:00.000000000' '2004-03-06T00:00:00.000000000'\n",
      " '2004-03-01T00:00:00.000000000' '2013-07-02T00:00:00.000000000'\n",
      " '2011-02-17T00:00:00.000000000' '2012-12-24T00:00:00.000000000'\n",
      " '2004-01-07T00:00:00.000000000' '2013-01-08T00:00:00.000000000'\n",
      " '2011-08-30T00:00:00.000000000' '2004-05-01T00:00:00.000000000'\n",
      " '2012-12-12T00:00:00.000000000' '2004-08-01T00:00:00.000000000'\n",
      " '2013-01-01T00:00:00.000000000' '2004-09-01T00:00:00.000000000'\n",
      " '2011-09-06T00:00:00.000000000' '2013-04-02T00:00:00.000000000'\n",
      " '2011-09-15T00:00:00.000000000' '2011-08-31T00:00:00.000000000'\n",
      " '2011-09-12T00:00:00.000000000' '2011-08-28T00:00:00.000000000'\n",
      " '2011-09-11T00:00:00.000000000' '2004-06-01T00:00:00.000000000'\n",
      " '2011-09-17T00:00:00.000000000' '2011-09-26T00:00:00.000000000'\n",
      " '2011-09-25T00:00:00.000000000' '2011-09-05T00:00:00.000000000'\n",
      " '2011-09-14T00:00:00.000000000' '2011-09-28T00:00:00.000000000'\n",
      " '2004-07-01T00:00:00.000000000' '2013-01-06T00:00:00.000000000'\n",
      " '2011-09-01T00:00:00.000000000' '2011-09-23T00:00:00.000000000'\n",
      " '2011-09-19T00:00:00.000000000']\n",
      "['internal', 'lake rukwa', 'rufiji', 'wami / ruvu', 'lake victoria', 'lake tanganyika', 'pangani', 'lake nyasa', 'ruvuma / southern coast']\n",
      "Categories (9, object): ['internal', 'lake rukwa', 'rufiji', 'wami / ruvu', ..., 'lake tanganyika', 'pangani', 'lake nyasa', 'ruvuma / southern coast']\n",
      "['geodata consultants ltd']\n",
      "Categories (1, object): ['geodata consultants ltd']\n",
      "['water board', 'vwc', 'wug', 'nan', 'water authority', ..., 'private operator', 'company', 'other', 'trust', 'none']\n",
      "Length: 13\n",
      "Categories (13, object): ['water board', 'vwc', 'wug', 'nan', ..., 'company', 'other', 'trust', 'none']\n"
     ]
    }
   ],
   "source": [
    "# Inspect Unique Values Again\n",
    "print(df_train['public_meeting'].unique())\n",
    "print(df_train['permit'].unique())\n",
    "print(df_train['construction_year'].unique())\n",
    "print(df_train['date_recorded'].unique())\n",
    "print(df_train['basin'].unique())\n",
    "print(df_train['recorded_by'].unique())\n",
    "print(df_train['scheme_management'].unique())\n"
   ]
  },
  {
   "cell_type": "markdown",
   "id": "911f68fb",
   "metadata": {},
   "source": [
    "# Check for Nulls\n"
   ]
  },
  {
   "cell_type": "code",
   "execution_count": null,
   "id": "cf734a17",
   "metadata": {},
   "outputs": [
    {
     "name": "stdout",
     "output_type": "stream",
     "text": [
      "\n",
      "Missing values:\n",
      "scheme_name              22523\n",
      "construction_year        16503\n",
      "installer                 2889\n",
      "funder                    2876\n",
      "public_meeting            2689\n",
      "permit                    2439\n",
      "subvillage                 296\n",
      "payment_type                 0\n",
      "extraction_type_group        0\n",
      "extraction_type_class        0\n",
      "dtype: int64\n"
     ]
    }
   ],
   "source": [
    "# Check for Nulls\n",
    "print(\"\\nMissing values:\")\n",
    "print(df_train.isnull().sum().sort_values(ascending=False).head(10))"
   ]
  },
  {
   "cell_type": "markdown",
   "id": "2250cf30",
   "metadata": {},
   "source": [
    "# showing the categorical columns"
   ]
  },
  {
   "cell_type": "code",
   "execution_count": null,
   "id": "5e223a16",
   "metadata": {},
   "outputs": [
    {
     "name": "stdout",
     "output_type": "stream",
     "text": [
      "                      Data Type  Missing %\n",
      "scheme_name              object  47.396886\n",
      "installer                object   6.079545\n",
      "funder                   object   6.052189\n",
      "public_meeting          boolean   5.658670\n",
      "permit                  boolean   5.132576\n",
      "subvillage               object   0.622896\n",
      "source_class             object   0.000000\n",
      "source_type              object   0.000000\n",
      "source                   object   0.000000\n",
      "payment                  object   0.000000\n",
      "quantity_group           object   0.000000\n",
      "quantity                 object   0.000000\n",
      "waterpoint_type          object   0.000000\n",
      "quality_group            object   0.000000\n",
      "water_quality            object   0.000000\n",
      "waterpoint_type_group    object   0.000000\n",
      "payment_type             object   0.000000\n",
      "extraction_type_class    object   0.000000\n",
      "management_group         object   0.000000\n",
      "management               object   0.000000\n",
      "extraction_type_group    object   0.000000\n",
      "extraction_type          object   0.000000\n",
      "scheme_management      category   0.000000\n",
      "recorded_by            category   0.000000\n",
      "ward                     object   0.000000\n",
      "lga                      object   0.000000\n",
      "region                   object   0.000000\n",
      "basin                  category   0.000000\n",
      "wpt_name                 object   0.000000\n",
      "status_group             object   0.000000\n"
     ]
    }
   ],
   "source": [
    "# showing the categorical columns\n",
    "categorical_col = df_train.select_dtypes(include=['object', 'category', 'boolean']).columns\n",
    "missing_info = pd.DataFrame({\n",
    "    'Data Type': df_train[categorical_col].dtypes,\n",
    "    'Missing %': (df_train[categorical_col].isnull().mean()*100)\n",
    "})\n",
    "missing_info = missing_info.sort_values(by= 'Missing %', ascending=False)\n",
    "print(missing_info)"
   ]
  },
  {
   "cell_type": "markdown",
   "id": "5b28ad44",
   "metadata": {},
   "source": [
    "## Impute Missing Values"
   ]
  },
  {
   "cell_type": "markdown",
   "id": "af8a1a06",
   "metadata": {},
   "source": [
    "## Checking for duplication"
   ]
  },
  {
   "cell_type": "markdown",
   "id": "f92bbe97",
   "metadata": {},
   "source": [
    "## Quantity and quantity_group duplication"
   ]
  },
  {
   "cell_type": "code",
   "execution_count": null,
   "id": "e6345d9a",
   "metadata": {},
   "outputs": [
    {
     "name": "stdout",
     "output_type": "stream",
     "text": [
      "True    47520\n",
      "Name: quantity_match, dtype: int64\n"
     ]
    }
   ],
   "source": [
    "# to check duplication between the quantity and quantity group\n",
    "df_train['quantity_match'] = df_train['quantity'] == df_train['quantity_group']\n",
    "\n",
    "match_counts = df_train['quantity_match'].value_counts()\n",
    "print(match_counts)"
   ]
  },
  {
   "cell_type": "code",
   "execution_count": null,
   "id": "4fd45be2",
   "metadata": {},
   "outputs": [
    {
     "name": "stdout",
     "output_type": "stream",
     "text": [
      "Empty DataFrame\n",
      "Columns: [quantity, quantity_group]\n",
      "Index: []\n"
     ]
    }
   ],
   "source": [
    "mismatches = df_train[df_train['quantity_match'] == False][['quantity', 'quantity_group']]\n",
    "print(mismatches.head())"
   ]
  },
  {
   "cell_type": "code",
   "execution_count": null,
   "id": "4a372cd2",
   "metadata": {},
   "outputs": [
    {
     "name": "stdout",
     "output_type": "stream",
     "text": [
      "Match Rate: 100.00%\n"
     ]
    }
   ],
   "source": [
    "match_rate = df_train['quantity_match'].mean() * 100\n",
    "print(f\"Match Rate: {match_rate:.2f}%\")"
   ]
  },
  {
   "cell_type": "code",
   "execution_count": null,
   "id": "4f8fd974",
   "metadata": {},
   "outputs": [
    {
     "data": {
      "image/png": "[encoded data removed]",
      "text/plain": [
       "<Figure size 1008x432 with 1 Axes>"
      ]
     },
     "metadata": {
      "needs_background": "light"
     },
     "output_type": "display_data"
    }
   ],
   "source": [
    "plt.figure(figsize=(14, 6))\n",
    "sns.countplot(data=df_train, x='quantity', hue='status_group')\n",
    "plt.title(\"Status Group Distribution by quantity\")\n",
    "plt.xticks(rotation=45, ha='right')\n",
    "plt.xlabel(\"quantity\")\n",
    "plt.ylabel(\"Count\")\n",
    "plt.tight_layout()\n",
    "plt.show()"
   ]
  },
  {
   "cell_type": "code",
   "execution_count": null,
   "id": "2b44a6bd",
   "metadata": {},
   "outputs": [
    {
     "data": {
      "image/png": "[encoded data removed]",
      "text/plain": [
       "<Figure size 1008x432 with 1 Axes>"
      ]
     },
     "metadata": {
      "needs_background": "light"
     },
     "output_type": "display_data"
    }
   ],
   "source": [
    "plt.figure(figsize=(14, 6))\n",
    "sns.countplot(data=df_train, x='quantity_group', hue='status_group')\n",
    "plt.title(\"Status Group Distribution by quantity_group\")\n",
    "plt.xticks(rotation=45, ha='right')\n",
    "plt.xlabel(\"quantity_group\")\n",
    "plt.ylabel(\"Count\")\n",
    "plt.tight_layout()\n",
    "plt.show()"
   ]
  },
  {
   "cell_type": "markdown",
   "id": "cb960a23",
   "metadata": {},
   "source": [
    "Interpretation: Yes, they are both similar and i drop the quantity_group"
   ]
  },
  {
   "cell_type": "markdown",
   "id": "82a39af6",
   "metadata": {},
   "source": [
    "## extraction_type and extraction_type_group and extraction_type_class duplication"
   ]
  },
  {
   "cell_type": "code",
   "execution_count": null,
   "id": "8fd60736",
   "metadata": {},
   "outputs": [
    {
     "data": {
      "text/html": [
       "<div>\n",
       "<style scoped>\n",
       "    .dataframe tbody tr th:only-of-type {\n",
       "        vertical-align: middle;\n",
       "    }\n",
       "\n",
       "    .dataframe tbody tr th {\n",
       "        vertical-align: top;\n",
       "    }\n",
       "\n",
       "    .dataframe thead th {\n",
       "        text-align: right;\n",
       "    }\n",
       "</style>\n",
       "<table border=\"1\" class=\"dataframe\">\n",
       "  <thead>\n",
       "    <tr style=\"text-align: right;\">\n",
       "      <th></th>\n",
       "      <th>extraction_type</th>\n",
       "      <th>extraction_type_group</th>\n",
       "    </tr>\n",
       "  </thead>\n",
       "  <tbody>\n",
       "    <tr>\n",
       "      <th>22922</th>\n",
       "      <td>ksb</td>\n",
       "      <td>submersible</td>\n",
       "    </tr>\n",
       "    <tr>\n",
       "      <th>17063</th>\n",
       "      <td>ksb</td>\n",
       "      <td>submersible</td>\n",
       "    </tr>\n",
       "    <tr>\n",
       "      <th>267</th>\n",
       "      <td>windmill</td>\n",
       "      <td>wind-powered</td>\n",
       "    </tr>\n",
       "    <tr>\n",
       "      <th>5746</th>\n",
       "      <td>ksb</td>\n",
       "      <td>submersible</td>\n",
       "    </tr>\n",
       "    <tr>\n",
       "      <th>18923</th>\n",
       "      <td>ksb</td>\n",
       "      <td>submersible</td>\n",
       "    </tr>\n",
       "    <tr>\n",
       "      <th>22417</th>\n",
       "      <td>ksb</td>\n",
       "      <td>submersible</td>\n",
       "    </tr>\n",
       "    <tr>\n",
       "      <th>28961</th>\n",
       "      <td>other - rope pump</td>\n",
       "      <td>rope pump</td>\n",
       "    </tr>\n",
       "    <tr>\n",
       "      <th>32944</th>\n",
       "      <td>other - rope pump</td>\n",
       "      <td>rope pump</td>\n",
       "    </tr>\n",
       "    <tr>\n",
       "      <th>50346</th>\n",
       "      <td>other - swn 81</td>\n",
       "      <td>other handpump</td>\n",
       "    </tr>\n",
       "    <tr>\n",
       "      <th>25303</th>\n",
       "      <td>other - rope pump</td>\n",
       "      <td>rope pump</td>\n",
       "    </tr>\n",
       "  </tbody>\n",
       "</table>\n",
       "</div>"
      ],
      "text/plain": [
       "         extraction_type extraction_type_group\n",
       "22922                ksb           submersible\n",
       "17063                ksb           submersible\n",
       "267             windmill          wind-powered\n",
       "5746                 ksb           submersible\n",
       "18923                ksb           submersible\n",
       "22417                ksb           submersible\n",
       "28961  other - rope pump             rope pump\n",
       "32944  other - rope pump             rope pump\n",
       "50346     other - swn 81        other handpump\n",
       "25303  other - rope pump             rope pump"
      ]
     },
     "execution_count": 1445,
     "metadata": {},
     "output_type": "execute_result"
    }
   ],
   "source": [
    "# looks for the mismatch between extraction_type and extraction_type_group\n",
    "mismatched = df_train[df_train['extraction_type'] != df_train['extraction_type_group']]\n",
    "# Show a few rows where they differ\n",
    "mismatched[['extraction_type', 'extraction_type_group']].head(10)"
   ]
  },
  {
   "cell_type": "code",
   "execution_count": 1446,
   "id": "ab6f7c53",
   "metadata": {},
   "outputs": [
    {
     "name": "stdout",
     "output_type": "stream",
     "text": [
      "             extraction_type extraction_type_group  count\n",
      "2                        ksb           submersible   1111\n",
      "5          other - rope pump             rope pump    376\n",
      "6             other - swn 81        other handpump    178\n",
      "8                   windmill          wind-powered     84\n",
      "0                       cemo       other motorpump     74\n",
      "4          other - play pump        other handpump     70\n",
      "7                     walimi        other handpump     41\n",
      "1                     climax       other motorpump     28\n",
      "3  other - mkulima/shinyanga        other handpump      2\n"
     ]
    }
   ],
   "source": [
    "# Count how often each mismatch occurs\n",
    "mismatch_summary = mismatched.groupby(['extraction_type', 'extraction_type_group']).size().reset_index(name='count')\n",
    "print(mismatch_summary.sort_values(by='count', ascending=False))\n"
   ]
  },
  {
   "cell_type": "code",
   "execution_count": null,
   "id": "531b901f",
   "metadata": {},
   "outputs": [
    {
     "data": {
      "text/html": [
       "<div>\n",
       "<style scoped>\n",
       "    .dataframe tbody tr th:only-of-type {\n",
       "        vertical-align: middle;\n",
       "    }\n",
       "\n",
       "    .dataframe tbody tr th {\n",
       "        vertical-align: top;\n",
       "    }\n",
       "\n",
       "    .dataframe thead th {\n",
       "        text-align: right;\n",
       "    }\n",
       "</style>\n",
       "<table border=\"1\" class=\"dataframe\">\n",
       "  <thead>\n",
       "    <tr style=\"text-align: right;\">\n",
       "      <th></th>\n",
       "      <th>extraction_type</th>\n",
       "      <th>extraction_type_group</th>\n",
       "    </tr>\n",
       "  </thead>\n",
       "  <tbody>\n",
       "    <tr>\n",
       "      <th>22922</th>\n",
       "      <td>ksb</td>\n",
       "      <td>submersible</td>\n",
       "    </tr>\n",
       "    <tr>\n",
       "      <th>17063</th>\n",
       "      <td>ksb</td>\n",
       "      <td>submersible</td>\n",
       "    </tr>\n",
       "    <tr>\n",
       "      <th>267</th>\n",
       "      <td>windmill</td>\n",
       "      <td>wind-powered</td>\n",
       "    </tr>\n",
       "    <tr>\n",
       "      <th>5746</th>\n",
       "      <td>ksb</td>\n",
       "      <td>submersible</td>\n",
       "    </tr>\n",
       "    <tr>\n",
       "      <th>18923</th>\n",
       "      <td>ksb</td>\n",
       "      <td>submersible</td>\n",
       "    </tr>\n",
       "    <tr>\n",
       "      <th>22417</th>\n",
       "      <td>ksb</td>\n",
       "      <td>submersible</td>\n",
       "    </tr>\n",
       "    <tr>\n",
       "      <th>28961</th>\n",
       "      <td>other - rope pump</td>\n",
       "      <td>rope pump</td>\n",
       "    </tr>\n",
       "    <tr>\n",
       "      <th>32944</th>\n",
       "      <td>other - rope pump</td>\n",
       "      <td>rope pump</td>\n",
       "    </tr>\n",
       "    <tr>\n",
       "      <th>50346</th>\n",
       "      <td>other - swn 81</td>\n",
       "      <td>other handpump</td>\n",
       "    </tr>\n",
       "    <tr>\n",
       "      <th>25303</th>\n",
       "      <td>other - rope pump</td>\n",
       "      <td>rope pump</td>\n",
       "    </tr>\n",
       "  </tbody>\n",
       "</table>\n",
       "</div>"
      ],
      "text/plain": [
       "         extraction_type extraction_type_group\n",
       "22922                ksb           submersible\n",
       "17063                ksb           submersible\n",
       "267             windmill          wind-powered\n",
       "5746                 ksb           submersible\n",
       "18923                ksb           submersible\n",
       "22417                ksb           submersible\n",
       "28961  other - rope pump             rope pump\n",
       "32944  other - rope pump             rope pump\n",
       "50346     other - swn 81        other handpump\n",
       "25303  other - rope pump             rope pump"
      ]
     },
     "execution_count": 1447,
     "metadata": {},
     "output_type": "execute_result"
    }
   ],
   "source": [
    "matched = df_train[df_train['extraction_type'] == df_train['extraction_type_group']]\n",
    "# Show a few rows where they differ\n",
    "mismatched[['extraction_type', 'extraction_type_group']].head(10)"
   ]
  },
  {
   "cell_type": "code",
   "execution_count": 1448,
   "id": "267d7f31",
   "metadata": {},
   "outputs": [
    {
     "name": "stdout",
     "output_type": "stream",
     "text": [
      "  extraction_type extraction_type_group  count\n",
      "1         gravity               gravity  21340\n",
      "5     nira/tanira           nira/tanira   6566\n",
      "6           other                 other   5150\n",
      "7     submersible           submersible   3851\n",
      "8          swn 80                swn 80   2965\n",
      "4            mono                  mono   2284\n",
      "2   india mark ii         india mark ii   1920\n",
      "0         afridev               afridev   1409\n",
      "3  india mark iii        india mark iii     71\n"
     ]
    }
   ],
   "source": [
    "# Count how often each mismatch occurs\n",
    "match_summary = matched.groupby(['extraction_type', 'extraction_type_group']).size().reset_index(name='count')\n",
    "print(match_summary.sort_values(by='count', ascending=False))\n"
   ]
  },
  {
   "cell_type": "markdown",
   "id": "699178a4",
   "metadata": {},
   "source": [
    "My conclusion is that i can drop this column as it is so similar to eachother but the extraction_type_group is with less detailed. The same i observe for the waterpoint_type and waterpoint_type_group, and i decided to keep the waterpoint_type_group. "
   ]
  },
  {
   "cell_type": "code",
   "execution_count": null,
   "id": "c6ac7966",
   "metadata": {},
   "outputs": [
    {
     "name": "stdout",
     "output_type": "stream",
     "text": [
      "\n",
      " extraction_type — Unique Values and Frequencies:\n",
      "--------------------------------------------------\n",
      "                   Count  Percentage\n",
      "gravity            21340       44.91\n",
      "nira/tanira         6566       13.82\n",
      "other               5150       10.84\n",
      "submersible         3851        8.10\n",
      "swn 80              2965        6.24\n",
      "mono                2284        4.81\n",
      "india mark ii       1920        4.04\n",
      "afridev             1409        2.97\n",
      "ksb                 1111        2.34\n",
      "other - rope pump    376        0.79\n",
      "\n",
      " extraction_type_group — Unique Values and Frequencies:\n",
      "--------------------------------------------------\n",
      "                Count  Percentage\n",
      "gravity         21340       44.91\n",
      "nira/tanira      6566       13.82\n",
      "other            5150       10.84\n",
      "submersible      4962       10.44\n",
      "swn 80           2965        6.24\n",
      "mono             2284        4.81\n",
      "india mark ii    1920        4.04\n",
      "afridev          1409        2.97\n",
      "rope pump         376        0.79\n",
      "other handpump    291        0.61\n",
      "\n",
      " extraction_type_class — Unique Values and Frequencies:\n",
      "--------------------------------------------------\n",
      "              Count  Percentage\n",
      "gravity       21340       44.91\n",
      "handpump      13222       27.82\n",
      "other          5150       10.84\n",
      "submersible    4962       10.44\n",
      "motorpump      2386        5.02\n",
      "rope pump       376        0.79\n",
      "wind-powered     84        0.18\n"
     ]
    }
   ],
   "source": [
    "# duplicate between 'extraction_type', 'extraction_type_group', 'extraction_type_class'\n",
    "columns = ['extraction_type', 'extraction_type_group', 'extraction_type_class']\n",
    "\n",
    "for col in columns:\n",
    "    print(f\"\\n {col} — Unique Values and Frequencies:\\n{'-'*50}\")\n",
    "    \n",
    "    # Get value counts (number and percent)\n",
    "    counts = df_train[col].value_counts(dropna=False)\n",
    "    percentages = df_train[col].value_counts(normalize=True, dropna=False) * 100\n",
    "\n",
    "    # Combine into a single DataFrame\n",
    "    summary = pd.DataFrame({\n",
    "        'Count': counts,\n",
    "        'Percentage': percentages.round(2)\n",
    "    })\n",
    "    \n",
    "    # Print top values\n",
    "    print(summary.head(10)) \n"
   ]
  },
  {
   "cell_type": "code",
   "execution_count": null,
   "id": "b691b585",
   "metadata": {},
   "outputs": [
    {
     "name": "stdout",
     "output_type": "stream",
     "text": [
      "      extraction_type extraction_type_group extraction_type_class  count\n",
      "7         nira/tanira           nira/tanira              handpump   6566\n",
      "12             swn 80                swn 80              handpump   2965\n",
      "6                mono                  mono             motorpump   2284\n",
      "3       india mark ii         india mark ii              handpump   1920\n",
      "0             afridev               afridev              handpump   1409\n",
      "5                 ksb           submersible           submersible   1111\n",
      "10  other - rope pump             rope pump             rope pump    376\n",
      "11     other - swn 81        other handpump              handpump    178\n",
      "14           windmill          wind-powered          wind-powered     84\n",
      "1                cemo       other motorpump             motorpump     74\n"
     ]
    }
   ],
   "source": [
    "# Create a column to flag mismatches\n",
    "df_train['extraction_mismatch'] = ~(\n",
    "    (df_train['extraction_type'] == df_train['extraction_type_group']) &\n",
    "    (df_train['extraction_type'] == df_train['extraction_type_class']) &\n",
    "    (df_train['extraction_type_group'] == df_train['extraction_type_class'])\n",
    ")\n",
    "\n",
    "#Filter mismatched rows\n",
    "mismatches = df_train[df_train['extraction_mismatch']][[\n",
    "    'extraction_type', 'extraction_type_group', 'extraction_type_class'\n",
    "]]\n",
    "\n",
    "#Summarize mismatch patterns\n",
    "mismatch_summary = mismatches.groupby([\n",
    "    'extraction_type', 'extraction_type_group', 'extraction_type_class'\n",
    "]).size().reset_index(name='count').sort_values(by='count', ascending=False)\n",
    "\n",
    "# print top 10 mismatch patterns\n",
    "print(mismatch_summary.head(10))\n"
   ]
  },
  {
   "cell_type": "markdown",
   "id": "a41c5f1c",
   "metadata": {},
   "source": [
    "So i decided to keep the less details classification. Later we need to check if there is any relation between the extraction_type_class and the target"
   ]
  },
  {
   "cell_type": "code",
   "execution_count": null,
   "id": "15f14682",
   "metadata": {},
   "outputs": [
    {
     "data": {
      "image/png": "[encoded data removed]",
      "text/plain": [
       "<Figure size 1008x432 with 1 Axes>"
      ]
     },
     "metadata": {
      "needs_background": "light"
     },
     "output_type": "display_data"
    }
   ],
   "source": [
    "plt.figure(figsize=(14, 6))\n",
    "sns.countplot(data=df_train, x='extraction_type', hue='status_group')\n",
    "plt.title(\"Status Group Distribution by extraction_type\")\n",
    "plt.xticks(rotation=45, ha='right')\n",
    "plt.xlabel(\"extraction_type\")\n",
    "plt.ylabel(\"Count\")\n",
    "plt.tight_layout()\n",
    "plt.show()"
   ]
  },
  {
   "cell_type": "code",
   "execution_count": null,
   "id": "ce883204",
   "metadata": {},
   "outputs": [
    {
     "data": {
      "image/png": "[encoded data removed]",
      "text/plain": [
       "<Figure size 1008x432 with 1 Axes>"
      ]
     },
     "metadata": {
      "needs_background": "light"
     },
     "output_type": "display_data"
    }
   ],
   "source": [
    "plt.figure(figsize=(14, 6))\n",
    "sns.countplot(data=df_train, x='extraction_type_group', hue='status_group')\n",
    "plt.title(\"Status Group Distribution by extraction_type_group\")\n",
    "plt.xticks(rotation=45, ha='right')\n",
    "plt.xlabel(\"extraction_type_group\")\n",
    "plt.ylabel(\"Count\")\n",
    "plt.tight_layout()\n",
    "plt.show()"
   ]
  },
  {
   "cell_type": "code",
   "execution_count": null,
   "id": "f94718f6",
   "metadata": {},
   "outputs": [
    {
     "data": {
      "image/png": "[encoded data removed]",
      "text/plain": [
       "<Figure size 1008x432 with 1 Axes>"
      ]
     },
     "metadata": {
      "needs_background": "light"
     },
     "output_type": "display_data"
    }
   ],
   "source": [
    "plt.figure(figsize=(14, 6))\n",
    "sns.countplot(data=df_train, x='extraction_type_class', hue='status_group')\n",
    "plt.title(\"Status Group Distribution by extraction_type_class\")\n",
    "plt.xticks(rotation=45, ha='right')\n",
    "plt.xlabel(\"extraction_type_class\")\n",
    "plt.ylabel(\"Count\")\n",
    "plt.tight_layout()\n",
    "plt.show()"
   ]
  },
  {
   "cell_type": "markdown",
   "id": "bbc74912",
   "metadata": {},
   "source": [
    "Interpretation: we decided to keep the extraction_type_class as it more comprehensive and drop the extraction_type and extraction_type_group.. "
   ]
  },
  {
   "cell_type": "markdown",
   "id": "d7404674",
   "metadata": {},
   "source": [
    "## waterpoint_type and waterpoint_type_group duplication"
   ]
  },
  {
   "cell_type": "code",
   "execution_count": null,
   "id": "8c448b96",
   "metadata": {},
   "outputs": [
    {
     "name": "stdout",
     "output_type": "stream",
     "text": [
      "Match Rate: 89.84%\n",
      "\n",
      "Match vs Mismatch Counts:\n",
      "True     42690\n",
      "False     4830\n",
      "dtype: int64\n",
      "\n",
      "Top Mismatch Patterns:\n",
      "               waterpoint_type waterpoint_type_group  count\n",
      "0  communal standpipe multiple    communal standpipe   4830\n"
     ]
    }
   ],
   "source": [
    "# Calculate row-wise match\n",
    "match_mask = df_train['waterpoint_type'] == df_train['waterpoint_type_group']\n",
    "\n",
    "# Percentage of exact matches\n",
    "match_percentage = match_mask.mean() * 100\n",
    "print(f\"Match Rate: {match_percentage:.2f}%\")\n",
    "\n",
    "# Count of matching vs mismatching rows\n",
    "match_counts = match_mask.value_counts()\n",
    "print(\"\\nMatch vs Mismatch Counts:\")\n",
    "print(match_counts)\n",
    "\n",
    "# show mismatched combinations\n",
    "mismatches = df_train[~match_mask][['waterpoint_type', 'waterpoint_type_group']]\n",
    "mismatch_summary = mismatches.groupby(\n",
    "    ['waterpoint_type', 'waterpoint_type_group']\n",
    ").size().reset_index(name='count').sort_values(by='count', ascending=False)\n",
    "\n",
    "print(\"\\nTop Mismatch Patterns:\")\n",
    "print(mismatch_summary.head(10))\n"
   ]
  },
  {
   "cell_type": "code",
   "execution_count": 1455,
   "id": "4d4a7011",
   "metadata": {},
   "outputs": [
    {
     "name": "stdout",
     "output_type": "stream",
     "text": [
      "               waterpoint_type waterpoint_type_group  count\n",
      "1           communal standpipe    communal standpipe   1021\n",
      "3                    hand pump             hand pump    590\n",
      "2  communal standpipe multiple    communal standpipe    296\n",
      "4                        other                 other     54\n",
      "0                cattle trough         cattle trough      3\n"
     ]
    }
   ],
   "source": [
    "# Count how often each mismatch occurs\n",
    "mismatch_summary = mismatched.groupby(['waterpoint_type', 'waterpoint_type_group']).size().reset_index(name='count')\n",
    "print(mismatch_summary.sort_values(by='count', ascending=False))\n"
   ]
  },
  {
   "cell_type": "markdown",
   "id": "8a68366d",
   "metadata": {},
   "source": [
    "interpretation: they are almost similar. in waterpoint_type there is one type communal standpoint multiple that it is changed to communal standpipe in the other. So i prefer to keep the waterpoint_type maybe this multiple type has any impact on functionality of pupm."
   ]
  },
  {
   "cell_type": "code",
   "execution_count": null,
   "id": "a2c4e757",
   "metadata": {},
   "outputs": [
    {
     "data": {
      "image/png": "[encoded data removed]",
      "text/plain": [
       "<Figure size 1008x432 with 1 Axes>"
      ]
     },
     "metadata": {
      "needs_background": "light"
     },
     "output_type": "display_data"
    }
   ],
   "source": [
    "plt.figure(figsize=(14, 6))\n",
    "sns.countplot(data=df_train, x='waterpoint_type', hue='status_group')\n",
    "plt.title(\"Status Group Distribution by water point type\")\n",
    "plt.xticks(rotation=45, ha='right')\n",
    "plt.xlabel(\"waterpoint_type\")\n",
    "plt.ylabel(\"Count\")\n",
    "plt.tight_layout()\n",
    "plt.show()"
   ]
  },
  {
   "cell_type": "code",
   "execution_count": null,
   "id": "304aead5",
   "metadata": {},
   "outputs": [
    {
     "data": {
      "image/png": "[encoded data removed]",
      "text/plain": [
       "<Figure size 1008x432 with 1 Axes>"
      ]
     },
     "metadata": {
      "needs_background": "light"
     },
     "output_type": "display_data"
    }
   ],
   "source": [
    "plt.figure(figsize=(14, 6))\n",
    "sns.countplot(data=df_train, x='waterpoint_type_group', hue='status_group')\n",
    "plt.title(\"Status Group Distribution by water point type_group\")\n",
    "plt.xticks(rotation=45, ha='right')\n",
    "plt.xlabel(\"waterpoint_type_group\")\n",
    "plt.ylabel(\"Count\")\n",
    "plt.tight_layout()\n",
    "plt.show()"
   ]
  },
  {
   "cell_type": "markdown",
   "id": "1606a6c8",
   "metadata": {},
   "source": [
    "## Source and Source_type duplication"
   ]
  },
  {
   "cell_type": "code",
   "execution_count": 1458,
   "id": "adda5a4d",
   "metadata": {},
   "outputs": [
    {
     "name": "stdout",
     "output_type": "stream",
     "text": [
      "                 source           source_type  count\n",
      "6                 river            river/lake    660\n",
      "3           machine dbh              borehole    415\n",
      "7          shallow well          shallow well    326\n",
      "8                spring                spring    165\n",
      "0                   dam                   dam    141\n",
      "2                  lake            river/lake    109\n",
      "1              hand dtw              borehole     97\n",
      "5  rainwater harvesting  rainwater harvesting     44\n",
      "4                 other                 other      4\n",
      "9               unknown                 other      3\n"
     ]
    }
   ],
   "source": [
    "# Count how often each mismatch occurs\n",
    "mismatch_summary = mismatched.groupby(['source', 'source_type']).size().reset_index(name='count')\n",
    "print(mismatch_summary.sort_values(by='count', ascending=False))\n"
   ]
  },
  {
   "cell_type": "code",
   "execution_count": null,
   "id": "8dd45012",
   "metadata": {},
   "outputs": [
    {
     "name": "stdout",
     "output_type": "stream",
     "text": [
      " Match Rate between 'source' and 'source_type': 62.27%\n"
     ]
    }
   ],
   "source": [
    "# Check for exact matches\n",
    "match_mask = df_train['source'] == df_train['source_type']\n",
    "match_percentage = match_mask.mean() * 100\n",
    "print(f\" Match Rate between 'source' and 'source_type': {match_percentage:.2f}%\")"
   ]
  },
  {
   "cell_type": "code",
   "execution_count": null,
   "id": "6007539d",
   "metadata": {},
   "outputs": [
    {
     "name": "stdout",
     "output_type": "stream",
     "text": [
      "\n",
      "Top mismatches:\n",
      "        source source_type  count\n",
      "2  machine dbh    borehole   8849\n",
      "3        river  river/lake   7719\n",
      "0     hand dtw    borehole    701\n",
      "1         lake  river/lake    606\n",
      "4      unknown       other     56\n"
     ]
    }
   ],
   "source": [
    "# View mismatch patterns\n",
    "mismatches = df_train[~match_mask][['source', 'source_type']]\n",
    "mismatch_summary = mismatches.groupby(['source', 'source_type']).size().reset_index(name='count')\n",
    "print(\"\\nTop mismatches:\")\n",
    "print(mismatch_summary.sort_values(by='count', ascending=False).head(10))"
   ]
  },
  {
   "cell_type": "code",
   "execution_count": null,
   "id": "12b4efb8",
   "metadata": {},
   "outputs": [
    {
     "data": {
      "image/png": "[encoded data removed]",
      "text/plain": [
       "<Figure size 1008x432 with 1 Axes>"
      ]
     },
     "metadata": {
      "needs_background": "light"
     },
     "output_type": "display_data"
    }
   ],
   "source": [
    "plt.figure(figsize=(14, 6))\n",
    "sns.countplot(data=df_train, x='source', hue='status_group')\n",
    "plt.title(\"Status Group Distribution by Source\")\n",
    "plt.xticks(rotation=45, ha='right')\n",
    "plt.xlabel(\"Source\")\n",
    "plt.ylabel(\"Count\")\n",
    "plt.tight_layout()\n",
    "plt.show()"
   ]
  },
  {
   "cell_type": "code",
   "execution_count": null,
   "id": "ffa006b3",
   "metadata": {},
   "outputs": [
    {
     "data": {
      "image/png": "[encoded data removed]",
      "text/plain": [
       "<Figure size 1008x432 with 1 Axes>"
      ]
     },
     "metadata": {
      "needs_background": "light"
     },
     "output_type": "display_data"
    }
   ],
   "source": [
    "plt.figure(figsize=(14, 6))\n",
    "sns.countplot(data=df_train, x='source_type', hue='status_group')\n",
    "plt.title(\"Status Group Distribution by Source_type\")\n",
    "plt.xticks(rotation=45, ha='right')\n",
    "plt.xlabel(\"Source_type\")\n",
    "plt.ylabel(\"Count\")\n",
    "plt.tight_layout()\n",
    "plt.show()"
   ]
  },
  {
   "cell_type": "markdown",
   "id": "889bf787",
   "metadata": {},
   "source": [
    "Interpretation: I think i will keep the source and delete the source type. They are similar and the relation between them and the status group also is similar but in source the river and lake are seperated and their relation with target is also different."
   ]
  },
  {
   "cell_type": "markdown",
   "id": "cb2d95cd",
   "metadata": {},
   "source": [
    "## Payment and Peyment_type duplication"
   ]
  },
  {
   "cell_type": "code",
   "execution_count": null,
   "id": "d66f7bd4",
   "metadata": {},
   "outputs": [
    {
     "name": "stdout",
     "output_type": "stream",
     "text": [
      " Match Rate between 'payment' and 'payment_type': 58.26%\n"
     ]
    }
   ],
   "source": [
    "# Check for exact matches\n",
    "match_mask = df_train['payment'] == df_train['payment_type']\n",
    "match_percentage = match_mask.mean() * 100\n",
    "print(f\" Match Rate between 'payment' and 'payment_type': {match_percentage:.2f}%\")"
   ]
  },
  {
   "cell_type": "code",
   "execution_count": null,
   "id": "843bb9d5",
   "metadata": {},
   "outputs": [
    {
     "name": "stdout",
     "output_type": "stream",
     "text": [
      "\n",
      "Top mismatches:\n",
      "                 payment payment_type  count\n",
      "2         pay per bucket   per bucket   7223\n",
      "1            pay monthly      monthly   6574\n",
      "3  pay when scheme fails   on failure   3154\n",
      "0           pay annually     annually   2886\n"
     ]
    }
   ],
   "source": [
    "# View mismatch patterns\n",
    "mismatches = df_train[~match_mask][['payment', 'payment_type']]\n",
    "mismatch_summary = mismatches.groupby(['payment', 'payment_type']).size().reset_index(name='count')\n",
    "print(\"\\nTop mismatches:\")\n",
    "print(mismatch_summary.sort_values(by='count', ascending=False).head(10))"
   ]
  },
  {
   "cell_type": "markdown",
   "id": "c961de7a",
   "metadata": {},
   "source": [
    "Interpretation: payment and payment_type are similar better to drop payment as the classification topic is better in payment_type."
   ]
  },
  {
   "cell_type": "markdown",
   "id": "81ae8487",
   "metadata": {},
   "source": [
    "# Installer and Funder"
   ]
  },
  {
   "cell_type": "code",
   "execution_count": null,
   "id": "bf36d504",
   "metadata": {},
   "outputs": [],
   "source": [
    "df_train['installer'] = df_train['installer'].astype(str).str.strip().str.lower()\n",
    "df_train['funder'] = df_train['funder'].astype(str).str.strip().str.lower()"
   ]
  },
  {
   "cell_type": "code",
   "execution_count": null,
   "id": "d1d51e50",
   "metadata": {},
   "outputs": [
    {
     "name": "stdout",
     "output_type": "stream",
     "text": [
      " Match Rate between 'installer' and 'funder': 37.87%\n"
     ]
    }
   ],
   "source": [
    "# Check for exact matches\n",
    "match_mask = df_train['installer'] == df_train['funder']\n",
    "match_percentage = match_mask.mean() * 100\n",
    "print(f\" Match Rate between 'installer' and 'funder': {match_percentage:.2f}%\")"
   ]
  },
  {
   "cell_type": "markdown",
   "id": "b55fe6cf",
   "metadata": {},
   "source": [
    "Interpretation: I think we need to keep both"
   ]
  },
  {
   "cell_type": "code",
   "execution_count": null,
   "id": "5c0d54ba",
   "metadata": {},
   "outputs": [
    {
     "data": {
      "text/html": [
       "<div>\n",
       "<style scoped>\n",
       "    .dataframe tbody tr th:only-of-type {\n",
       "        vertical-align: middle;\n",
       "    }\n",
       "\n",
       "    .dataframe tbody tr th {\n",
       "        vertical-align: top;\n",
       "    }\n",
       "\n",
       "    .dataframe thead th {\n",
       "        text-align: right;\n",
       "    }\n",
       "</style>\n",
       "<table border=\"1\" class=\"dataframe\">\n",
       "  <thead>\n",
       "    <tr style=\"text-align: right;\">\n",
       "      <th></th>\n",
       "      <th>id</th>\n",
       "      <th>amount_tsh</th>\n",
       "      <th>date_recorded</th>\n",
       "      <th>funder</th>\n",
       "      <th>gps_height</th>\n",
       "      <th>installer</th>\n",
       "      <th>longitude</th>\n",
       "      <th>latitude</th>\n",
       "      <th>wpt_name</th>\n",
       "      <th>num_private</th>\n",
       "      <th>...</th>\n",
       "      <th>quantity</th>\n",
       "      <th>quantity_group</th>\n",
       "      <th>source</th>\n",
       "      <th>source_type</th>\n",
       "      <th>source_class</th>\n",
       "      <th>waterpoint_type</th>\n",
       "      <th>waterpoint_type_group</th>\n",
       "      <th>status_group</th>\n",
       "      <th>quantity_match</th>\n",
       "      <th>extraction_mismatch</th>\n",
       "    </tr>\n",
       "  </thead>\n",
       "  <tbody>\n",
       "    <tr>\n",
       "      <th>3607</th>\n",
       "      <td>454</td>\n",
       "      <td>50.0</td>\n",
       "      <td>2013-02-27</td>\n",
       "      <td>dmdd</td>\n",
       "      <td>2092</td>\n",
       "      <td>dmdd</td>\n",
       "      <td>35.426020</td>\n",
       "      <td>-4.227446</td>\n",
       "      <td>Narmo</td>\n",
       "      <td>0</td>\n",
       "      <td>...</td>\n",
       "      <td>insufficient</td>\n",
       "      <td>insufficient</td>\n",
       "      <td>spring</td>\n",
       "      <td>spring</td>\n",
       "      <td>groundwater</td>\n",
       "      <td>communal standpipe</td>\n",
       "      <td>communal standpipe</td>\n",
       "      <td>functional</td>\n",
       "      <td>True</td>\n",
       "      <td>False</td>\n",
       "    </tr>\n",
       "    <tr>\n",
       "      <th>50870</th>\n",
       "      <td>510</td>\n",
       "      <td>0.0</td>\n",
       "      <td>2011-03-17</td>\n",
       "      <td>cmsr</td>\n",
       "      <td>0</td>\n",
       "      <td>gove</td>\n",
       "      <td>35.510074</td>\n",
       "      <td>-5.724555</td>\n",
       "      <td>Lukali</td>\n",
       "      <td>0</td>\n",
       "      <td>...</td>\n",
       "      <td>enough</td>\n",
       "      <td>enough</td>\n",
       "      <td>shallow well</td>\n",
       "      <td>shallow well</td>\n",
       "      <td>groundwater</td>\n",
       "      <td>hand pump</td>\n",
       "      <td>hand pump</td>\n",
       "      <td>functional</td>\n",
       "      <td>True</td>\n",
       "      <td>True</td>\n",
       "    </tr>\n",
       "    <tr>\n",
       "      <th>20413</th>\n",
       "      <td>14146</td>\n",
       "      <td>0.0</td>\n",
       "      <td>2011-07-10</td>\n",
       "      <td>kkkt</td>\n",
       "      <td>0</td>\n",
       "      <td>kkkt</td>\n",
       "      <td>32.499866</td>\n",
       "      <td>-9.081222</td>\n",
       "      <td>Mahakama</td>\n",
       "      <td>0</td>\n",
       "      <td>...</td>\n",
       "      <td>enough</td>\n",
       "      <td>enough</td>\n",
       "      <td>shallow well</td>\n",
       "      <td>shallow well</td>\n",
       "      <td>groundwater</td>\n",
       "      <td>other</td>\n",
       "      <td>other</td>\n",
       "      <td>non functional</td>\n",
       "      <td>True</td>\n",
       "      <td>False</td>\n",
       "    </tr>\n",
       "    <tr>\n",
       "      <th>52806</th>\n",
       "      <td>47410</td>\n",
       "      <td>0.0</td>\n",
       "      <td>2011-04-12</td>\n",
       "      <td>nan</td>\n",
       "      <td>0</td>\n",
       "      <td>nan</td>\n",
       "      <td>34.060484</td>\n",
       "      <td>-8.830208</td>\n",
       "      <td>Shule Ya Msingi Chosi A</td>\n",
       "      <td>0</td>\n",
       "      <td>...</td>\n",
       "      <td>insufficient</td>\n",
       "      <td>insufficient</td>\n",
       "      <td>river</td>\n",
       "      <td>river/lake</td>\n",
       "      <td>surface</td>\n",
       "      <td>communal standpipe</td>\n",
       "      <td>communal standpipe</td>\n",
       "      <td>non functional</td>\n",
       "      <td>True</td>\n",
       "      <td>False</td>\n",
       "    </tr>\n",
       "    <tr>\n",
       "      <th>50091</th>\n",
       "      <td>1288</td>\n",
       "      <td>300.0</td>\n",
       "      <td>2011-04-05</td>\n",
       "      <td>ki</td>\n",
       "      <td>1023</td>\n",
       "      <td>ki</td>\n",
       "      <td>37.032690</td>\n",
       "      <td>-6.040787</td>\n",
       "      <td>Kwa Mjowe</td>\n",
       "      <td>0</td>\n",
       "      <td>...</td>\n",
       "      <td>enough</td>\n",
       "      <td>enough</td>\n",
       "      <td>shallow well</td>\n",
       "      <td>shallow well</td>\n",
       "      <td>groundwater</td>\n",
       "      <td>other</td>\n",
       "      <td>other</td>\n",
       "      <td>non functional</td>\n",
       "      <td>True</td>\n",
       "      <td>False</td>\n",
       "    </tr>\n",
       "  </tbody>\n",
       "</table>\n",
       "<p>5 rows × 43 columns</p>\n",
       "</div>"
      ],
      "text/plain": [
       "          id  amount_tsh date_recorded funder  gps_height installer  \\\n",
       "3607     454        50.0    2013-02-27   dmdd        2092      dmdd   \n",
       "50870    510         0.0    2011-03-17   cmsr           0      gove   \n",
       "20413  14146         0.0    2011-07-10   kkkt           0      kkkt   \n",
       "52806  47410         0.0    2011-04-12    nan           0       nan   \n",
       "50091   1288       300.0    2011-04-05     ki        1023        ki   \n",
       "\n",
       "       longitude  latitude                 wpt_name  num_private  ...  \\\n",
       "3607   35.426020 -4.227446                    Narmo            0  ...   \n",
       "50870  35.510074 -5.724555                   Lukali            0  ...   \n",
       "20413  32.499866 -9.081222                 Mahakama            0  ...   \n",
       "52806  34.060484 -8.830208  Shule Ya Msingi Chosi A            0  ...   \n",
       "50091  37.032690 -6.040787                Kwa Mjowe            0  ...   \n",
       "\n",
       "           quantity quantity_group        source   source_type  source_class  \\\n",
       "3607   insufficient   insufficient        spring        spring   groundwater   \n",
       "50870        enough         enough  shallow well  shallow well   groundwater   \n",
       "20413        enough         enough  shallow well  shallow well   groundwater   \n",
       "52806  insufficient   insufficient         river    river/lake       surface   \n",
       "50091        enough         enough  shallow well  shallow well   groundwater   \n",
       "\n",
       "          waterpoint_type waterpoint_type_group    status_group  \\\n",
       "3607   communal standpipe    communal standpipe      functional   \n",
       "50870           hand pump             hand pump      functional   \n",
       "20413               other                 other  non functional   \n",
       "52806  communal standpipe    communal standpipe  non functional   \n",
       "50091               other                 other  non functional   \n",
       "\n",
       "       quantity_match extraction_mismatch  \n",
       "3607             True               False  \n",
       "50870            True                True  \n",
       "20413            True               False  \n",
       "52806            True               False  \n",
       "50091            True               False  \n",
       "\n",
       "[5 rows x 43 columns]"
      ]
     },
     "execution_count": 1467,
     "metadata": {},
     "output_type": "execute_result"
    }
   ],
   "source": [
    "df_train.head()"
   ]
  },
  {
   "cell_type": "markdown",
   "id": "46a7d531",
   "metadata": {},
   "source": [
    "## Drop columns"
   ]
  },
  {
   "cell_type": "code",
   "execution_count": null,
   "id": "4591e58d",
   "metadata": {},
   "outputs": [
    {
     "name": "stdout",
     "output_type": "stream",
     "text": [
      "droped successfuly!\n"
     ]
    }
   ],
   "source": [
    "# Drop some column\n",
    "columns_to_drop = ['recorded_by', 'id', 'num_private', 'quantity_group', 'extraction_type', 'extraction_type_group','waterpoint_type_group', 'source_type', 'payment', 'quantity_match', 'extraction_mismatch']\n",
    "df_train.drop(columns = columns_to_drop, inplace = True)\n",
    "print('droped successfuly!')"
   ]
  },
  {
   "cell_type": "code",
   "execution_count": null,
   "id": "3ff9f60d",
   "metadata": {},
   "outputs": [
    {
     "data": {
      "text/html": [
       "<div>\n",
       "<style scoped>\n",
       "    .dataframe tbody tr th:only-of-type {\n",
       "        vertical-align: middle;\n",
       "    }\n",
       "\n",
       "    .dataframe tbody tr th {\n",
       "        vertical-align: top;\n",
       "    }\n",
       "\n",
       "    .dataframe thead th {\n",
       "        text-align: right;\n",
       "    }\n",
       "</style>\n",
       "<table border=\"1\" class=\"dataframe\">\n",
       "  <thead>\n",
       "    <tr style=\"text-align: right;\">\n",
       "      <th></th>\n",
       "      <th>amount_tsh</th>\n",
       "      <th>date_recorded</th>\n",
       "      <th>funder</th>\n",
       "      <th>gps_height</th>\n",
       "      <th>installer</th>\n",
       "      <th>longitude</th>\n",
       "      <th>latitude</th>\n",
       "      <th>wpt_name</th>\n",
       "      <th>basin</th>\n",
       "      <th>subvillage</th>\n",
       "      <th>...</th>\n",
       "      <th>management</th>\n",
       "      <th>management_group</th>\n",
       "      <th>payment_type</th>\n",
       "      <th>water_quality</th>\n",
       "      <th>quality_group</th>\n",
       "      <th>quantity</th>\n",
       "      <th>source</th>\n",
       "      <th>source_class</th>\n",
       "      <th>waterpoint_type</th>\n",
       "      <th>status_group</th>\n",
       "    </tr>\n",
       "  </thead>\n",
       "  <tbody>\n",
       "    <tr>\n",
       "      <th>3607</th>\n",
       "      <td>50.0</td>\n",
       "      <td>2013-02-27</td>\n",
       "      <td>dmdd</td>\n",
       "      <td>2092</td>\n",
       "      <td>dmdd</td>\n",
       "      <td>35.426020</td>\n",
       "      <td>-4.227446</td>\n",
       "      <td>Narmo</td>\n",
       "      <td>internal</td>\n",
       "      <td>Bashnet Kati</td>\n",
       "      <td>...</td>\n",
       "      <td>water board</td>\n",
       "      <td>user-group</td>\n",
       "      <td>per bucket</td>\n",
       "      <td>soft</td>\n",
       "      <td>good</td>\n",
       "      <td>insufficient</td>\n",
       "      <td>spring</td>\n",
       "      <td>groundwater</td>\n",
       "      <td>communal standpipe</td>\n",
       "      <td>functional</td>\n",
       "    </tr>\n",
       "    <tr>\n",
       "      <th>50870</th>\n",
       "      <td>0.0</td>\n",
       "      <td>2011-03-17</td>\n",
       "      <td>cmsr</td>\n",
       "      <td>0</td>\n",
       "      <td>gove</td>\n",
       "      <td>35.510074</td>\n",
       "      <td>-5.724555</td>\n",
       "      <td>Lukali</td>\n",
       "      <td>internal</td>\n",
       "      <td>Lukali</td>\n",
       "      <td>...</td>\n",
       "      <td>vwc</td>\n",
       "      <td>user-group</td>\n",
       "      <td>never pay</td>\n",
       "      <td>soft</td>\n",
       "      <td>good</td>\n",
       "      <td>enough</td>\n",
       "      <td>shallow well</td>\n",
       "      <td>groundwater</td>\n",
       "      <td>hand pump</td>\n",
       "      <td>functional</td>\n",
       "    </tr>\n",
       "    <tr>\n",
       "      <th>20413</th>\n",
       "      <td>0.0</td>\n",
       "      <td>2011-07-10</td>\n",
       "      <td>kkkt</td>\n",
       "      <td>0</td>\n",
       "      <td>kkkt</td>\n",
       "      <td>32.499866</td>\n",
       "      <td>-9.081222</td>\n",
       "      <td>Mahakama</td>\n",
       "      <td>lake rukwa</td>\n",
       "      <td>Chawalikozi</td>\n",
       "      <td>...</td>\n",
       "      <td>vwc</td>\n",
       "      <td>user-group</td>\n",
       "      <td>never pay</td>\n",
       "      <td>soft</td>\n",
       "      <td>good</td>\n",
       "      <td>enough</td>\n",
       "      <td>shallow well</td>\n",
       "      <td>groundwater</td>\n",
       "      <td>other</td>\n",
       "      <td>non functional</td>\n",
       "    </tr>\n",
       "    <tr>\n",
       "      <th>52806</th>\n",
       "      <td>0.0</td>\n",
       "      <td>2011-04-12</td>\n",
       "      <td>nan</td>\n",
       "      <td>0</td>\n",
       "      <td>nan</td>\n",
       "      <td>34.060484</td>\n",
       "      <td>-8.830208</td>\n",
       "      <td>Shule Ya Msingi Chosi A</td>\n",
       "      <td>rufiji</td>\n",
       "      <td>Shuleni</td>\n",
       "      <td>...</td>\n",
       "      <td>vwc</td>\n",
       "      <td>user-group</td>\n",
       "      <td>monthly</td>\n",
       "      <td>soft</td>\n",
       "      <td>good</td>\n",
       "      <td>insufficient</td>\n",
       "      <td>river</td>\n",
       "      <td>surface</td>\n",
       "      <td>communal standpipe</td>\n",
       "      <td>non functional</td>\n",
       "    </tr>\n",
       "    <tr>\n",
       "      <th>50091</th>\n",
       "      <td>300.0</td>\n",
       "      <td>2011-04-05</td>\n",
       "      <td>ki</td>\n",
       "      <td>1023</td>\n",
       "      <td>ki</td>\n",
       "      <td>37.032690</td>\n",
       "      <td>-6.040787</td>\n",
       "      <td>Kwa Mjowe</td>\n",
       "      <td>wami / ruvu</td>\n",
       "      <td>Ngholong</td>\n",
       "      <td>...</td>\n",
       "      <td>vwc</td>\n",
       "      <td>user-group</td>\n",
       "      <td>on failure</td>\n",
       "      <td>salty</td>\n",
       "      <td>salty</td>\n",
       "      <td>enough</td>\n",
       "      <td>shallow well</td>\n",
       "      <td>groundwater</td>\n",
       "      <td>other</td>\n",
       "      <td>non functional</td>\n",
       "    </tr>\n",
       "  </tbody>\n",
       "</table>\n",
       "<p>5 rows × 32 columns</p>\n",
       "</div>"
      ],
      "text/plain": [
       "       amount_tsh date_recorded funder  gps_height installer  longitude  \\\n",
       "3607         50.0    2013-02-27   dmdd        2092      dmdd  35.426020   \n",
       "50870         0.0    2011-03-17   cmsr           0      gove  35.510074   \n",
       "20413         0.0    2011-07-10   kkkt           0      kkkt  32.499866   \n",
       "52806         0.0    2011-04-12    nan           0       nan  34.060484   \n",
       "50091       300.0    2011-04-05     ki        1023        ki  37.032690   \n",
       "\n",
       "       latitude                 wpt_name        basin    subvillage  ...  \\\n",
       "3607  -4.227446                    Narmo     internal  Bashnet Kati  ...   \n",
       "50870 -5.724555                   Lukali     internal        Lukali  ...   \n",
       "20413 -9.081222                 Mahakama   lake rukwa   Chawalikozi  ...   \n",
       "52806 -8.830208  Shule Ya Msingi Chosi A       rufiji       Shuleni  ...   \n",
       "50091 -6.040787                Kwa Mjowe  wami / ruvu      Ngholong  ...   \n",
       "\n",
       "        management  management_group  payment_type water_quality  \\\n",
       "3607   water board        user-group    per bucket          soft   \n",
       "50870          vwc        user-group     never pay          soft   \n",
       "20413          vwc        user-group     never pay          soft   \n",
       "52806          vwc        user-group       monthly          soft   \n",
       "50091          vwc        user-group    on failure         salty   \n",
       "\n",
       "      quality_group      quantity        source source_class  \\\n",
       "3607           good  insufficient        spring  groundwater   \n",
       "50870          good        enough  shallow well  groundwater   \n",
       "20413          good        enough  shallow well  groundwater   \n",
       "52806          good  insufficient         river      surface   \n",
       "50091         salty        enough  shallow well  groundwater   \n",
       "\n",
       "          waterpoint_type    status_group  \n",
       "3607   communal standpipe      functional  \n",
       "50870           hand pump      functional  \n",
       "20413               other  non functional  \n",
       "52806  communal standpipe  non functional  \n",
       "50091               other  non functional  \n",
       "\n",
       "[5 rows x 32 columns]"
      ]
     },
     "execution_count": 1469,
     "metadata": {},
     "output_type": "execute_result"
    }
   ],
   "source": [
    "df_train.head()"
   ]
  },
  {
   "cell_type": "markdown",
   "id": "e1c3bc4d",
   "metadata": {},
   "source": [
    "# Handling missing values"
   ]
  },
  {
   "cell_type": "code",
   "execution_count": null,
   "id": "4ed303d6",
   "metadata": {},
   "outputs": [
    {
     "data": {
      "text/plain": [
       "scheme_name              22523\n",
       "construction_year        16503\n",
       "public_meeting            2689\n",
       "permit                    2439\n",
       "subvillage                 296\n",
       "scheme_management            0\n",
       "waterpoint_type              0\n",
       "source_class                 0\n",
       "source                       0\n",
       "quantity                     0\n",
       "quality_group                0\n",
       "water_quality                0\n",
       "payment_type                 0\n",
       "management_group             0\n",
       "management                   0\n",
       "extraction_type_class        0\n",
       "amount_tsh                   0\n",
       "date_recorded                0\n",
       "population                   0\n",
       "ward                         0\n",
       "lga                          0\n",
       "district_code                0\n",
       "region_code                  0\n",
       "region                       0\n",
       "basin                        0\n",
       "wpt_name                     0\n",
       "latitude                     0\n",
       "longitude                    0\n",
       "installer                    0\n",
       "gps_height                   0\n",
       "funder                       0\n",
       "status_group                 0\n",
       "dtype: int64"
      ]
     },
     "execution_count": 1470,
     "metadata": {},
     "output_type": "execute_result"
    }
   ],
   "source": [
    "missing_counts = df_train.isnull().sum().sort_values(ascending=False)\n",
    "missing_counts"
   ]
  },
  {
   "cell_type": "markdown",
   "id": "8b73f8f4",
   "metadata": {},
   "source": [
    "## how to impute Scheme_name missing values"
   ]
  },
  {
   "cell_type": "code",
   "execution_count": null,
   "id": "52984051",
   "metadata": {},
   "outputs": [],
   "source": [
    "df_train['scheme_name']= df_train['scheme_name'].fillna('unknown')"
   ]
  },
  {
   "cell_type": "code",
   "execution_count": null,
   "id": "2ef6f354",
   "metadata": {},
   "outputs": [
    {
     "data": {
      "text/plain": [
       "construction_year        16503\n",
       "public_meeting            2689\n",
       "permit                    2439\n",
       "subvillage                 296\n",
       "scheme_management            0\n",
       "waterpoint_type              0\n",
       "source_class                 0\n",
       "source                       0\n",
       "quantity                     0\n",
       "quality_group                0\n",
       "water_quality                0\n",
       "payment_type                 0\n",
       "management_group             0\n",
       "management                   0\n",
       "extraction_type_class        0\n",
       "scheme_name                  0\n",
       "amount_tsh                   0\n",
       "date_recorded                0\n",
       "population                   0\n",
       "ward                         0\n",
       "lga                          0\n",
       "district_code                0\n",
       "region_code                  0\n",
       "region                       0\n",
       "basin                        0\n",
       "wpt_name                     0\n",
       "latitude                     0\n",
       "longitude                    0\n",
       "installer                    0\n",
       "gps_height                   0\n",
       "funder                       0\n",
       "status_group                 0\n",
       "dtype: int64"
      ]
     },
     "execution_count": 1472,
     "metadata": {},
     "output_type": "execute_result"
    }
   ],
   "source": [
    "missing_counts = df_train.isnull().sum().sort_values(ascending=False)\n",
    "missing_counts"
   ]
  },
  {
   "cell_type": "markdown",
   "id": "e6d0987e",
   "metadata": {},
   "source": [
    "## How to impute the construction_year"
   ]
  },
  {
   "cell_type": "markdown",
   "id": "b7d8a56d",
   "metadata": {},
   "source": [
    "## Checkig the missingness correlation of construction year with other features"
   ]
  },
  {
   "cell_type": "code",
   "execution_count": 1473,
   "id": "d68518a9",
   "metadata": {},
   "outputs": [],
   "source": [
    "def make_construction_year_corr_plot(df):\n",
    "    \"\"\"\n",
    "    Create a heatmap showing correlation of construction_year with other numerical features.\n",
    "    \"\"\"\n",
    "    # Ensure construction_year is numeric\n",
    "    df['construction_year'] = pd.to_numeric(df['construction_year'], errors='coerce')\n",
    "\n",
    "    # Select numerical columns\n",
    "    numeric_cols = df.select_dtypes(include=['int64', 'float64']).columns.tolist()\n",
    "\n",
    "    # Compute correlation matrix\n",
    "    corr = df[numeric_cols].corr()\n",
    "\n",
    "    # Filter only correlations with construction_year\n",
    "    corr = corr[['construction_year']].drop('construction_year')\n",
    "\n",
    "    # Set up the matplotlib figure\n",
    "    f, ax = plt.subplots(figsize=(8, len(corr) * 0.5), dpi=150, facecolor='white')\n",
    "\n",
    "    # Generate a custom diverging colormap\n",
    "    cmap = sns.diverging_palette(220, 10, as_cmap=True)\n",
    "     # Draw the heatmap\n",
    "    sns.heatmap(corr, annot=True, cmap=cmap, center=0, linewidths=0.5, cbar_kws={\"shrink\": 0.5})\n",
    "\n",
    "    plt.title('Correlation with Construction Year')\n",
    "    plt.tight_layout()\n",
    "    plt.show()\n",
    "\n"
   ]
  },
  {
   "cell_type": "code",
   "execution_count": null,
   "id": "1d8c8e13",
   "metadata": {},
   "outputs": [
    {
     "data": {
      "image/png": "[encoded data removed]",
      "text/plain": [
       "<Figure size 1200x525 with 2 Axes>"
      ]
     },
     "metadata": {},
     "output_type": "display_data"
    }
   ],
   "source": [
    "make_construction_year_corr_plot(df_train)"
   ]
  },
  {
   "cell_type": "markdown",
   "id": "08d143aa",
   "metadata": {},
   "source": [
    "we need to fill drop data here! and the rest maybe is better to shift to the feature analysis"
   ]
  },
  {
   "cell_type": "markdown",
   "id": "7e9a0bb9",
   "metadata": {},
   "source": [
    "# I am not sure abot what i did later!"
   ]
  },
  {
   "cell_type": "markdown",
   "id": "c2416e5c",
   "metadata": {},
   "source": [
    "# Analyze Cardinality of Categorical Features"
   ]
  },
  {
   "cell_type": "code",
   "execution_count": null,
   "id": "2aa073a9",
   "metadata": {},
   "outputs": [
    {
     "name": "stdout",
     "output_type": "stream",
     "text": [
      "wpt_name                 30742\n",
      "subvillage               17232\n",
      "scheme_name               2542\n",
      "ward                      2076\n",
      "installer                 1742\n",
      "funder                    1699\n",
      "lga                        125\n",
      "region                      21\n",
      "management                  12\n",
      "source                      10\n",
      "water_quality                8\n",
      "extraction_type_class        7\n",
      "payment_type                 7\n",
      "waterpoint_type              7\n",
      "quality_group                6\n",
      "management_group             5\n",
      "quantity                     5\n",
      "source_class                 3\n",
      "status_group                 3\n",
      "dtype: int64\n"
     ]
    }
   ],
   "source": [
    "# Summary of categorical columns\n",
    "cat_summary = df_train.select_dtypes(include='object').nunique().sort_values(ascending=False)\n",
    "print(cat_summary)\n"
   ]
  },
  {
   "cell_type": "markdown",
   "id": "d1c85b1d",
   "metadata": {},
   "source": [
    "# Categorize them as low or high cardinality"
   ]
  },
  {
   "cell_type": "code",
   "execution_count": 1476,
   "id": "71b89055",
   "metadata": {},
   "outputs": [
    {
     "data": {
      "text/plain": [
       "['wpt_name',\n",
       " 'subvillage',\n",
       " 'scheme_name',\n",
       " 'ward',\n",
       " 'installer',\n",
       " 'funder',\n",
       " 'lga',\n",
       " 'region',\n",
       " 'management']"
      ]
     },
     "execution_count": 1476,
     "metadata": {},
     "output_type": "execute_result"
    }
   ],
   "source": [
    "# Recalculate high cardinality columns\n",
    "high_card_cols = cat_summary[cat_summary > 10].index.tolist()\n",
    "high_card_cols"
   ]
  },
  {
   "cell_type": "code",
   "execution_count": 1477,
   "id": "20b9e33c",
   "metadata": {},
   "outputs": [
    {
     "data": {
      "text/plain": [
       "['source',\n",
       " 'water_quality',\n",
       " 'extraction_type_class',\n",
       " 'payment_type',\n",
       " 'waterpoint_type',\n",
       " 'quality_group',\n",
       " 'management_group',\n",
       " 'quantity',\n",
       " 'source_class',\n",
       " 'status_group']"
      ]
     },
     "execution_count": 1477,
     "metadata": {},
     "output_type": "execute_result"
    }
   ],
   "source": [
    "# Select low cardinality columns (2–10 unique values)\n",
    "low_card_cols = cat_summary[(cat_summary <= 10) & (cat_summary > 1)].index.tolist()\n",
    "low_card_cols"
   ]
  },
  {
   "cell_type": "markdown",
   "id": "b83d6159",
   "metadata": {},
   "source": [
    "## Implement Encoding"
   ]
  },
  {
   "cell_type": "markdown",
   "id": "0e41cdc1",
   "metadata": {},
   "source": [
    "## One-Hot Encode Low Cardinality Columns"
   ]
  },
  {
   "cell_type": "code",
   "execution_count": null,
   "id": "76fe951e",
   "metadata": {},
   "outputs": [
    {
     "name": "stdout",
     "output_type": "stream",
     "text": [
      "Total new shape: (47520, 32)\n",
      "First few column names: ['amount_tsh', 'date_recorded', 'funder', 'gps_height', 'installer', 'longitude', 'latitude', 'wpt_name', 'basin', 'subvillage']\n"
     ]
    }
   ],
   "source": [
    "# Apply One-Hot Encode Low Cardinality\n",
    "df_encoded = pd.get_dummies(df_train, columns=low_card_cols, drop_first=True)\n",
    "\n",
    "# Preview result\n",
    "print(f\"Total new shape: {df_train.shape}\")\n",
    "print(\"First few column names:\", df_train.columns[:10].tolist())"
   ]
  },
  {
   "cell_type": "markdown",
   "id": "554985c0",
   "metadata": {},
   "source": [
    "## Frequency Encode High Cardinality Columns"
   ]
  },
  {
   "cell_type": "code",
   "execution_count": null,
   "id": "2d2e71d8",
   "metadata": {},
   "outputs": [],
   "source": [
    "# Apply frequency encoding\n",
    "for col in high_card_cols:\n",
    "    freq_map = df_train[col].value_counts().to_dict()\n",
    "    df_train[col + '_freq'] = df_train[col].map(freq_map)"
   ]
  },
  {
   "cell_type": "code",
   "execution_count": null,
   "id": "5e171a2c",
   "metadata": {},
   "outputs": [
    {
     "name": "stdout",
     "output_type": "stream",
     "text": [
      "Final encoded shape:        amount_tsh date_recorded                  funder  gps_height  \\\n",
      "3607         50.0    2013-02-27                    dmdd        2092   \n",
      "50870         0.0    2011-03-17                    cmsr           0   \n",
      "20413         0.0    2011-07-10                    kkkt           0   \n",
      "52806         0.0    2011-04-12                     nan           0   \n",
      "50091       300.0    2011-04-05                      ki        1023   \n",
      "...           ...           ...                     ...         ...   \n",
      "54343      1000.0    2011-03-20                     dhv         327   \n",
      "38158      1000.0    2011-03-10                  danida        1743   \n",
      "860           0.0    2011-03-13               omar ally         -13   \n",
      "15795         0.0    2012-10-31                   rwssp           0   \n",
      "56422         0.0    2013-02-24  government of tanzania        1290   \n",
      "\n",
      "              installer  longitude  latitude                 wpt_name  \\\n",
      "3607               dmdd  35.426020 -4.227446                    Narmo   \n",
      "50870              gove  35.510074 -5.724555                   Lukali   \n",
      "20413              kkkt  32.499866 -9.081222                 Mahakama   \n",
      "52806               nan  34.060484 -8.830208  Shule Ya Msingi Chosi A   \n",
      "50091                ki  37.032690 -6.040787                Kwa Mjowe   \n",
      "...                 ...        ...       ...                      ...   \n",
      "54343               dwe  36.367112 -8.774761           Kwa Mbayambaya   \n",
      "38158             danid  34.531524 -9.769604                     none   \n",
      "860           omar ally  38.974416 -5.420823            Kwa Omar Ally   \n",
      "15795            wedeco  34.316586 -3.107161                 Muungano   \n",
      "56422  district council  37.626401 -3.211457    Kwa Nicholaus Kimario   \n",
      "\n",
      "               basin      subvillage  ...    status_group  wpt_name_freq  \\\n",
      "3607        internal    Bashnet Kati  ...      functional              1   \n",
      "50870       internal          Lukali  ...      functional              1   \n",
      "20413     lake rukwa     Chawalikozi  ...  non functional             10   \n",
      "52806         rufiji         Shuleni  ...  non functional              1   \n",
      "50091    wami / ruvu        Ngholong  ...  non functional              1   \n",
      "...              ...             ...  ...             ...            ...   \n",
      "54343         rufiji         Bwawani  ...      functional              1   \n",
      "38158     lake nyasa  Mlangali Ndani  ...      functional           2858   \n",
      "860          pangani          Sokoni  ...  non functional              1   \n",
      "15795  lake victoria          Ijosho  ...      functional            104   \n",
      "56422        pangani        Kwandele  ...  non functional              1   \n",
      "\n",
      "       subvillage_freq scheme_name_freq ward_freq  installer_freq  \\\n",
      "3607               5.0            22523        17             308   \n",
      "50870              1.0            22523        10             172   \n",
      "20413              1.0            22523        47             741   \n",
      "52806            409.0            22523        66            2889   \n",
      "50091              1.0            22523        53              82   \n",
      "...                ...              ...       ...             ...   \n",
      "54343             72.0               55        46           13947   \n",
      "38158              6.0              304       105             505   \n",
      "860              184.0            22523        54               1   \n",
      "15795              1.0              513        52             322   \n",
      "56422              1.0               20        38             762   \n",
      "\n",
      "       funder_freq lga_freq region_freq  management_freq  \n",
      "3607           149      400        1266             2326  \n",
      "50870           62      174        1755            32455  \n",
      "20413         1047      844        3659            32455  \n",
      "52806         2876      491        3659            32455  \n",
      "50091          102      876        3223            32455  \n",
      "...            ...      ...         ...              ...  \n",
      "54343          674      529        3223             5204  \n",
      "38158         2488      456        4254            32455  \n",
      "860              1      241        2052             1566  \n",
      "15795         1107      368        3977             5204  \n",
      "56422         7250      455        3466              524  \n",
      "\n",
      "[47520 rows x 41 columns]\n"
     ]
    },
    {
     "data": {
      "text/html": [
       "<div>\n",
       "<style scoped>\n",
       "    .dataframe tbody tr th:only-of-type {\n",
       "        vertical-align: middle;\n",
       "    }\n",
       "\n",
       "    .dataframe tbody tr th {\n",
       "        vertical-align: top;\n",
       "    }\n",
       "\n",
       "    .dataframe thead th {\n",
       "        text-align: right;\n",
       "    }\n",
       "</style>\n",
       "<table border=\"1\" class=\"dataframe\">\n",
       "  <thead>\n",
       "    <tr style=\"text-align: right;\">\n",
       "      <th></th>\n",
       "      <th>amount_tsh</th>\n",
       "      <th>date_recorded</th>\n",
       "      <th>funder</th>\n",
       "      <th>gps_height</th>\n",
       "      <th>installer</th>\n",
       "      <th>longitude</th>\n",
       "      <th>latitude</th>\n",
       "      <th>wpt_name</th>\n",
       "      <th>basin</th>\n",
       "      <th>subvillage</th>\n",
       "      <th>...</th>\n",
       "      <th>status_group</th>\n",
       "      <th>wpt_name_freq</th>\n",
       "      <th>subvillage_freq</th>\n",
       "      <th>scheme_name_freq</th>\n",
       "      <th>ward_freq</th>\n",
       "      <th>installer_freq</th>\n",
       "      <th>funder_freq</th>\n",
       "      <th>lga_freq</th>\n",
       "      <th>region_freq</th>\n",
       "      <th>management_freq</th>\n",
       "    </tr>\n",
       "  </thead>\n",
       "  <tbody>\n",
       "    <tr>\n",
       "      <th>3607</th>\n",
       "      <td>50.0</td>\n",
       "      <td>2013-02-27</td>\n",
       "      <td>dmdd</td>\n",
       "      <td>2092</td>\n",
       "      <td>dmdd</td>\n",
       "      <td>35.426020</td>\n",
       "      <td>-4.227446</td>\n",
       "      <td>Narmo</td>\n",
       "      <td>internal</td>\n",
       "      <td>Bashnet Kati</td>\n",
       "      <td>...</td>\n",
       "      <td>functional</td>\n",
       "      <td>1</td>\n",
       "      <td>5.0</td>\n",
       "      <td>22523</td>\n",
       "      <td>17</td>\n",
       "      <td>308</td>\n",
       "      <td>149</td>\n",
       "      <td>400</td>\n",
       "      <td>1266</td>\n",
       "      <td>2326</td>\n",
       "    </tr>\n",
       "    <tr>\n",
       "      <th>50870</th>\n",
       "      <td>0.0</td>\n",
       "      <td>2011-03-17</td>\n",
       "      <td>cmsr</td>\n",
       "      <td>0</td>\n",
       "      <td>gove</td>\n",
       "      <td>35.510074</td>\n",
       "      <td>-5.724555</td>\n",
       "      <td>Lukali</td>\n",
       "      <td>internal</td>\n",
       "      <td>Lukali</td>\n",
       "      <td>...</td>\n",
       "      <td>functional</td>\n",
       "      <td>1</td>\n",
       "      <td>1.0</td>\n",
       "      <td>22523</td>\n",
       "      <td>10</td>\n",
       "      <td>172</td>\n",
       "      <td>62</td>\n",
       "      <td>174</td>\n",
       "      <td>1755</td>\n",
       "      <td>32455</td>\n",
       "    </tr>\n",
       "    <tr>\n",
       "      <th>20413</th>\n",
       "      <td>0.0</td>\n",
       "      <td>2011-07-10</td>\n",
       "      <td>kkkt</td>\n",
       "      <td>0</td>\n",
       "      <td>kkkt</td>\n",
       "      <td>32.499866</td>\n",
       "      <td>-9.081222</td>\n",
       "      <td>Mahakama</td>\n",
       "      <td>lake rukwa</td>\n",
       "      <td>Chawalikozi</td>\n",
       "      <td>...</td>\n",
       "      <td>non functional</td>\n",
       "      <td>10</td>\n",
       "      <td>1.0</td>\n",
       "      <td>22523</td>\n",
       "      <td>47</td>\n",
       "      <td>741</td>\n",
       "      <td>1047</td>\n",
       "      <td>844</td>\n",
       "      <td>3659</td>\n",
       "      <td>32455</td>\n",
       "    </tr>\n",
       "    <tr>\n",
       "      <th>52806</th>\n",
       "      <td>0.0</td>\n",
       "      <td>2011-04-12</td>\n",
       "      <td>nan</td>\n",
       "      <td>0</td>\n",
       "      <td>nan</td>\n",
       "      <td>34.060484</td>\n",
       "      <td>-8.830208</td>\n",
       "      <td>Shule Ya Msingi Chosi A</td>\n",
       "      <td>rufiji</td>\n",
       "      <td>Shuleni</td>\n",
       "      <td>...</td>\n",
       "      <td>non functional</td>\n",
       "      <td>1</td>\n",
       "      <td>409.0</td>\n",
       "      <td>22523</td>\n",
       "      <td>66</td>\n",
       "      <td>2889</td>\n",
       "      <td>2876</td>\n",
       "      <td>491</td>\n",
       "      <td>3659</td>\n",
       "      <td>32455</td>\n",
       "    </tr>\n",
       "    <tr>\n",
       "      <th>50091</th>\n",
       "      <td>300.0</td>\n",
       "      <td>2011-04-05</td>\n",
       "      <td>ki</td>\n",
       "      <td>1023</td>\n",
       "      <td>ki</td>\n",
       "      <td>37.032690</td>\n",
       "      <td>-6.040787</td>\n",
       "      <td>Kwa Mjowe</td>\n",
       "      <td>wami / ruvu</td>\n",
       "      <td>Ngholong</td>\n",
       "      <td>...</td>\n",
       "      <td>non functional</td>\n",
       "      <td>1</td>\n",
       "      <td>1.0</td>\n",
       "      <td>22523</td>\n",
       "      <td>53</td>\n",
       "      <td>82</td>\n",
       "      <td>102</td>\n",
       "      <td>876</td>\n",
       "      <td>3223</td>\n",
       "      <td>32455</td>\n",
       "    </tr>\n",
       "  </tbody>\n",
       "</table>\n",
       "<p>5 rows × 41 columns</p>\n",
       "</div>"
      ],
      "text/plain": [
       "       amount_tsh date_recorded funder  gps_height installer  longitude  \\\n",
       "3607         50.0    2013-02-27   dmdd        2092      dmdd  35.426020   \n",
       "50870         0.0    2011-03-17   cmsr           0      gove  35.510074   \n",
       "20413         0.0    2011-07-10   kkkt           0      kkkt  32.499866   \n",
       "52806         0.0    2011-04-12    nan           0       nan  34.060484   \n",
       "50091       300.0    2011-04-05     ki        1023        ki  37.032690   \n",
       "\n",
       "       latitude                 wpt_name        basin    subvillage  ...  \\\n",
       "3607  -4.227446                    Narmo     internal  Bashnet Kati  ...   \n",
       "50870 -5.724555                   Lukali     internal        Lukali  ...   \n",
       "20413 -9.081222                 Mahakama   lake rukwa   Chawalikozi  ...   \n",
       "52806 -8.830208  Shule Ya Msingi Chosi A       rufiji       Shuleni  ...   \n",
       "50091 -6.040787                Kwa Mjowe  wami / ruvu      Ngholong  ...   \n",
       "\n",
       "         status_group  wpt_name_freq  subvillage_freq scheme_name_freq  \\\n",
       "3607       functional              1              5.0            22523   \n",
       "50870      functional              1              1.0            22523   \n",
       "20413  non functional             10              1.0            22523   \n",
       "52806  non functional              1            409.0            22523   \n",
       "50091  non functional              1              1.0            22523   \n",
       "\n",
       "      ward_freq  installer_freq  funder_freq lga_freq region_freq  \\\n",
       "3607         17             308          149      400        1266   \n",
       "50870        10             172           62      174        1755   \n",
       "20413        47             741         1047      844        3659   \n",
       "52806        66            2889         2876      491        3659   \n",
       "50091        53              82          102      876        3223   \n",
       "\n",
       "       management_freq  \n",
       "3607              2326  \n",
       "50870            32455  \n",
       "20413            32455  \n",
       "52806            32455  \n",
       "50091            32455  \n",
       "\n",
       "[5 rows x 41 columns]"
      ]
     },
     "execution_count": 1480,
     "metadata": {},
     "output_type": "execute_result"
    }
   ],
   "source": [
    "# Check result\n",
    "print(\"Final encoded shape:\", df_train)\n",
    "df_train.head()"
   ]
  },
  {
   "cell_type": "markdown",
   "id": "bc48689e",
   "metadata": {},
   "source": [
    "# Check for and Handle Outliers in Numerical Features"
   ]
  },
  {
   "cell_type": "markdown",
   "id": "1987d583",
   "metadata": {},
   "source": [
    "## Identify Numerical Columns"
   ]
  },
  {
   "cell_type": "code",
   "execution_count": null,
   "id": "259e9470",
   "metadata": {},
   "outputs": [
    {
     "data": {
      "text/plain": [
       "['amount_tsh',\n",
       " 'gps_height',\n",
       " 'longitude',\n",
       " 'latitude',\n",
       " 'population',\n",
       " 'construction_year',\n",
       " 'wpt_name_freq',\n",
       " 'subvillage_freq',\n",
       " 'scheme_name_freq',\n",
       " 'ward_freq',\n",
       " 'installer_freq',\n",
       " 'funder_freq',\n",
       " 'lga_freq',\n",
       " 'region_freq',\n",
       " 'management_freq']"
      ]
     },
     "execution_count": 1481,
     "metadata": {},
     "output_type": "execute_result"
    }
   ],
   "source": [
    "# Get numeric columns, but exclude ID or code-like columns\n",
    "numeric_cols = df_train.select_dtypes(include=['int64', 'float64']).columns.tolist()\n",
    "excluded = ['region_code', 'district_code']  # Don't plot these\n",
    "numeric_cols = [col for col in numeric_cols if col not in excluded]\n",
    "numeric_cols"
   ]
  },
  {
   "cell_type": "markdown",
   "id": "67f3bf1d",
   "metadata": {},
   "source": [
    "# Visualize Distributions"
   ]
  },
  {
   "cell_type": "code",
   "execution_count": null,
   "id": "ecf9a246",
   "metadata": {},
   "outputs": [
    {
     "data": {
      "image/png": "[encoded data removed]",
      "text/plain": [
       "<Figure size 576x144 with 1 Axes>"
      ]
     },
     "metadata": {
      "needs_background": "light"
     },
     "output_type": "display_data"
    },
    {
     "data": {
      "image/png": "[encoded data removed]",
      "text/plain": [
       "<Figure size 576x144 with 1 Axes>"
      ]
     },
     "metadata": {
      "needs_background": "light"
     },
     "output_type": "display_data"
    },
    {
     "data": {
      "image/png": "[encoded data removed]",
      "text/plain": [
       "<Figure size 576x144 with 1 Axes>"
      ]
     },
     "metadata": {
      "needs_background": "light"
     },
     "output_type": "display_data"
    },
    {
     "data": {
      "image/png": "[encoded data removed]",
      "text/plain": [
       "<Figure size 576x144 with 1 Axes>"
      ]
     },
     "metadata": {
      "needs_background": "light"
     },
     "output_type": "display_data"
    },
    {
     "data": {
      "image/png": "[encoded data removed]",
      "text/plain": [
       "<Figure size 576x144 with 1 Axes>"
      ]
     },
     "metadata": {
      "needs_background": "light"
     },
     "output_type": "display_data"
    },
    {
     "data": {
      "image/png": "[encoded data removed]",
      "text/plain": [
       "<Figure size 576x144 with 1 Axes>"
      ]
     },
     "metadata": {
      "needs_background": "light"
     },
     "output_type": "display_data"
    },
    {
     "data": {
      "image/png": "[encoded data removed]",
      "text/plain": [
       "<Figure size 576x144 with 1 Axes>"
      ]
     },
     "metadata": {
      "needs_background": "light"
     },
     "output_type": "display_data"
    },
    {
     "data": {
      "image/png": "[encoded data removed]",
      "text/plain": [
       "<Figure size 576x144 with 1 Axes>"
      ]
     },
     "metadata": {
      "needs_background": "light"
     },
     "output_type": "display_data"
    },
    {
     "data": {
      "image/png": "[encoded data removed]",
      "text/plain": [
       "<Figure size 576x144 with 1 Axes>"
      ]
     },
     "metadata": {
      "needs_background": "light"
     },
     "output_type": "display_data"
    },
    {
     "data": {
      "image/png": "[encoded data removed]",
      "text/plain": [
       "<Figure size 576x144 with 1 Axes>"
      ]
     },
     "metadata": {
      "needs_background": "light"
     },
     "output_type": "display_data"
    },
    {
     "data": {
      "image/png": "[encoded data removed]",
      "text/plain": [
       "<Figure size 576x144 with 1 Axes>"
      ]
     },
     "metadata": {
      "needs_background": "light"
     },
     "output_type": "display_data"
    },
    {
     "data": {
      "image/png": "[encoded data removed]",
      "text/plain": [
       "<Figure size 576x144 with 1 Axes>"
      ]
     },
     "metadata": {
      "needs_background": "light"
     },
     "output_type": "display_data"
    },
    {
     "data": {
      "image/png": "[encoded data removed]",
      "text/plain": [
       "<Figure size 576x144 with 1 Axes>"
      ]
     },
     "metadata": {
      "needs_background": "light"
     },
     "output_type": "display_data"
    },
    {
     "data": {
      "image/png": "[encoded data removed]",
      "text/plain": [
       "<Figure size 576x144 with 1 Axes>"
      ]
     },
     "metadata": {
      "needs_background": "light"
     },
     "output_type": "display_data"
    },
    {
     "data": {
      "image/png": "[encoded data removed]",
      "text/plain": [
       "<Figure size 576x144 with 1 Axes>"
      ]
     },
     "metadata": {
      "needs_background": "light"
     },
     "output_type": "display_data"
    }
   ],
   "source": [
    "# Loop and plot boxplot for each column\n",
    "for col in numeric_cols:\n",
    "    plt.figure(figsize=(8, 2))\n",
    "    sns.boxplot(x=df_train[col], color='skyblue')\n",
    "    plt.title(f'Boxplot for: {col}')\n",
    "    plt.xlabel(col)\n",
    "    plt.tight_layout()\n",
    "    plt.show()"
   ]
  },
  {
   "cell_type": "markdown",
   "id": "f1a4e874",
   "metadata": {},
   "source": [
    "## Detect Outliers (Statistical Methods)"
   ]
  },
  {
   "cell_type": "code",
   "execution_count": null,
   "id": "f1c50fb8",
   "metadata": {},
   "outputs": [
    {
     "name": "stdout",
     "output_type": "stream",
     "text": [
      "amount_tsh: Capped outliers outside [-30.00, 50.00]\n",
      "population: Capped outliers outside [-319.50, 532.50]\n",
      "gps_height: Capped outliers outside [-1980.00, 3300.00]\n",
      "longitude: Capped outliers outside [26.94, 43.32]\n",
      "latitude: Capped outliers outside [-16.34, 4.48]\n"
     ]
    }
   ],
   "source": [
    "# Cap Outliers Using IQR and Flag Them\n",
    "def cap_outliers_iqr(df, column):\n",
    "    # Backup original values\n",
    "    df[f'{column}_before_clip'] = df[column]\n",
    "\n",
    "# Calculates lower and upper bounds for acceptable values using IQR\n",
    "    # Calculate IQR bounds\n",
    "    Q1 = df[column].quantile(0.25)\n",
    "    Q3 = df[column].quantile(0.75)\n",
    "    IQR = Q3 - Q1\n",
    "    lower = Q1 - 1.5 * IQR\n",
    "    upper = Q3 + 1.5 * IQR\n",
    "\n",
    "    # Flag which values were outliers\n",
    "    df[f'{column}_was_outlier'] = (df[column] < lower) | (df[column] > upper)\n",
    "\n",
    "    # Apply clipping\n",
    "    df[column] = df[column].clip(lower, upper)\n",
    "\n",
    "    print(f\"{column}: Capped outliers outside [{lower:.2f}, {upper:.2f}]\")\n",
    "    return df\n",
    "\n",
    "# Apply to selected columns\n",
    "columns_to_cap = ['amount_tsh', 'population', 'gps_height','longitude', 'latitude']\n",
    "\n",
    "for col in columns_to_cap:\n",
    "    df_train = cap_outliers_iqr(df_train, col)"
   ]
  },
  {
   "cell_type": "code",
   "execution_count": null,
   "id": "aeba10e0",
   "metadata": {},
   "outputs": [
    {
     "name": "stdout",
     "output_type": "stream",
     "text": [
      "Filtering rows with valid GPS coordinates within Tanzania\n",
      "Remaining rows after filtering: 46082\n"
     ]
    }
   ],
   "source": [
    "print(\"Filtering rows with valid GPS coordinates within Tanzania\")\n",
    "\n",
    "# Define valid bounds\n",
    "valid_longitude = (df_train['longitude'] > 29) & (df_train['longitude'] < 41)\n",
    "valid_latitude = (df_train['latitude'] > -12) & (df_train['latitude'] < -1)\n",
    "\n",
    "# Keep only rows within the valid GPS bounding box\n",
    "df_train = df_train[valid_longitude & valid_latitude]\n",
    "\n",
    "print(f\"Remaining rows after filtering: {len(df_train)}\")"
   ]
  },
  {
   "cell_type": "code",
   "execution_count": null,
   "id": "8cf0e8e7",
   "metadata": {},
   "outputs": [
    {
     "name": "stdout",
     "output_type": "stream",
     "text": [
      "29.6071219 40.34519307\n",
      "-11.64944018 -1.00058519\n"
     ]
    }
   ],
   "source": [
    "# Sanity check for any outliers that remain\n",
    "print(df_train['longitude'].min(), df_train['longitude'].max())\n",
    "print(df_train['latitude'].min(), df_train['latitude'].max())"
   ]
  },
  {
   "cell_type": "code",
   "execution_count": null,
   "id": "fdb75642",
   "metadata": {},
   "outputs": [],
   "source": [
    "def show_before_after(col):\n",
    "    fig, axes = plt.subplots(nrows=1, ncols=2, figsize=(14, 2))\n",
    "    sns.boxplot(x=df_train[f\"{col}_before_clip\"], ax=axes[0], color='skyblue')\n",
    "    axes[0].set_title(f'Before Clipping: {col}')\n",
    "    sns.boxplot(x=df_train[col], ax=axes[1], color='lightgreen')\n",
    "    axes[1].set_title(f'After Clipping: {col}')\n",
    "    for ax in axes:\n",
    "        ax.grid(True)\n",
    "        ax.set_xlabel('')\n",
    "    plt.tight_layout()\n",
    "    plt.show()\n"
   ]
  },
  {
   "cell_type": "code",
   "execution_count": 1487,
   "id": "d8f1a040",
   "metadata": {},
   "outputs": [
    {
     "data": {
      "image/png": "[encoded data removed]",
      "text/plain": [
       "<Figure size 1008x144 with 2 Axes>"
      ]
     },
     "metadata": {
      "needs_background": "light"
     },
     "output_type": "display_data"
    },
    {
     "data": {
      "image/png": "[encoded data removed]",
      "text/plain": [
       "<Figure size 1008x144 with 2 Axes>"
      ]
     },
     "metadata": {
      "needs_background": "light"
     },
     "output_type": "display_data"
    },
    {
     "data": {
      "image/png": "[encoded data removed]",
      "text/plain": [
       "<Figure size 1008x144 with 2 Axes>"
      ]
     },
     "metadata": {
      "needs_background": "light"
     },
     "output_type": "display_data"
    },
    {
     "data": {
      "image/png": "[encoded data removed]",
      "text/plain": [
       "<Figure size 1008x144 with 2 Axes>"
      ]
     },
     "metadata": {
      "needs_background": "light"
     },
     "output_type": "display_data"
    }
   ],
   "source": [
    "show_before_after('amount_tsh')\n",
    "show_before_after('population')\n",
    "show_before_after('longitude')\n",
    "show_before_after('latitude')"
   ]
  },
  {
   "cell_type": "markdown",
   "id": "71a61032",
   "metadata": {},
   "source": [
    "# Normalize / Standardize Numerical Features\n",
    "th goal is to make sure all the numerical features are on the same scale."
   ]
  },
  {
   "cell_type": "code",
   "execution_count": 1488,
   "id": "2d9d50d5",
   "metadata": {},
   "outputs": [],
   "source": [
    "# Select Numeric Columns to Scale\n",
    "columns_to_scale = ['amount_tsh', 'population', 'gps_height']"
   ]
  },
  {
   "cell_type": "code",
   "execution_count": null,
   "id": "b4678f80",
   "metadata": {},
   "outputs": [
    {
     "name": "stdout",
     "output_type": "stream",
     "text": [
      "              count          mean       std       min       25%       50%  \\\n",
      "amount_tsh  46082.0 -1.820359e-15  1.000011 -0.620113 -0.620113 -0.620113   \n",
      "population  46082.0 -1.060786e-17  1.000011 -0.751240 -0.751240 -0.552146   \n",
      "gps_height  46082.0  8.498331e-17  1.000011 -1.085407 -0.994549 -0.380179   \n",
      "\n",
      "                 75%       max  \n",
      "amount_tsh  0.797484  1.742548  \n",
      "population  0.557093  2.277835  \n",
      "gps_height  0.927520  3.000299  \n"
     ]
    },
    {
     "name": "stderr",
     "output_type": "stream",
     "text": [
      "<ipython-input-1489-07ff07100729>:3: SettingWithCopyWarning: \n",
      "A value is trying to be set on a copy of a slice from a DataFrame.\n",
      "Try using .loc[row_indexer,col_indexer] = value instead\n",
      "\n",
      "See the caveats in the documentation: https://pandas.pydata.org/pandas-docs/stable/user_guide/indexing.html#returning-a-view-versus-a-copy\n",
      "  df_train_cleaned[columns_to_scale] = scaler.fit_transform(df_train_cleaned[columns_to_scale])\n",
      "c:\\ProgramData\\Anaconda3\\lib\\site-packages\\pandas\\core\\indexing.py:1738: SettingWithCopyWarning: \n",
      "A value is trying to be set on a copy of a slice from a DataFrame.\n",
      "Try using .loc[row_indexer,col_indexer] = value instead\n",
      "\n",
      "See the caveats in the documentation: https://pandas.pydata.org/pandas-docs/stable/user_guide/indexing.html#returning-a-view-versus-a-copy\n",
      "  self._setitem_single_column(loc, value[:, i].tolist(), pi)\n"
     ]
    }
   ],
   "source": [
    "# Apply StandardScaler\n",
    "scaler = StandardScaler()\n",
    "df_train[columns_to_scale] = scaler.fit_transform(df_train[columns_to_scale])\n",
    "print(df_train[columns_to_scale].describe().T)"
   ]
  },
  {
   "cell_type": "code",
   "execution_count": 1490,
   "id": "d4b83382",
   "metadata": {},
   "outputs": [
    {
     "data": {
      "text/plain": [
       "['../data/processed/standard_scaler.pkl']"
      ]
     },
     "execution_count": 1490,
     "metadata": {},
     "output_type": "execute_result"
    }
   ],
   "source": [
    "# save the scaler\n",
    "joblib.dump(scaler, '../data/processed/standard_scaler.pkl')"
   ]
  },
  {
   "cell_type": "markdown",
   "id": "4058d570",
   "metadata": {},
   "source": [
    "Tip: Numerical features were scaled using StandardScaler to normalize magnitudes and improve model convergence. "
   ]
  },
  {
   "cell_type": "markdown",
   "id": "22bce744",
   "metadata": {},
   "source": [
    "# Build a Data Cleaning Pipeline"
   ]
  },
  {
   "cell_type": "code",
   "execution_count": 1491,
   "id": "24641da6",
   "metadata": {},
   "outputs": [],
   "source": [
    "# Define the IQRClipper\n",
    "class IQRClipper(BaseEstimator, TransformerMixin):\n",
    "    def __init__(self, columns):\n",
    "        self.columns = columns\n",
    "        self.bounds = {}\n",
    "\n",
    "    def fit(self, X, y=None):\n",
    "        for col in self.columns:\n",
    "            Q1 = X[col].quantile(0.25)\n",
    "            Q3 = X[col].quantile(0.75)\n",
    "            IQR = Q3 - Q1\n",
    "            lower = Q1 - 1.5 * IQR\n",
    "            upper = Q3 + 1.5 * IQR\n",
    "            self.bounds[col] = (lower, upper)\n",
    "        return self\n",
    "\n",
    "    def transform(self, X):\n",
    "        X = X.copy()\n",
    "        for col in self.columns:\n",
    "            lower, upper = self.bounds[col]\n",
    "            X[col] = X[col].clip(lower, upper)\n",
    "        return X"
   ]
  },
  {
   "cell_type": "code",
   "execution_count": null,
   "id": "6b3cae25",
   "metadata": {},
   "outputs": [],
   "source": [
    "numeric_features = df_train.select_dtypes(include=['int64', 'float64']).columns.tolist()\n",
    "categorical_features = df_train.select_dtypes(include=['object', 'category']).columns.tolist()\n",
    "boolean_features = df_train.select_dtypes(include=['bool']).columns.tolist()"
   ]
  },
  {
   "cell_type": "code",
   "execution_count": 1493,
   "id": "66c53850",
   "metadata": {},
   "outputs": [
    {
     "name": "stdout",
     "output_type": "stream",
     "text": [
      "Numeric Features: ['amount_tsh', 'gps_height', 'longitude', 'latitude', 'region_code', 'district_code', 'population', 'construction_year', 'wpt_name_freq', 'subvillage_freq', 'scheme_name_freq', 'ward_freq', 'installer_freq', 'funder_freq', 'lga_freq', 'region_freq', 'management_freq', 'amount_tsh_before_clip', 'population_before_clip', 'gps_height_before_clip', 'longitude_before_clip', 'latitude_before_clip']\n",
      "Categorical Features: ['funder', 'installer', 'wpt_name', 'basin', 'subvillage', 'region', 'lga', 'ward', 'scheme_management', 'scheme_name', 'extraction_type_class', 'management', 'management_group', 'payment_type', 'water_quality', 'quality_group', 'quantity', 'source', 'source_class', 'waterpoint_type', 'status_group']\n",
      "Boolean Features: ['public_meeting', 'permit', 'amount_tsh_was_outlier', 'population_was_outlier', 'gps_height_was_outlier', 'longitude_was_outlier', 'latitude_was_outlier']\n"
     ]
    }
   ],
   "source": [
    "print(\"Numeric Features:\", numeric_features)\n",
    "print(\"Categorical Features:\", categorical_features)\n",
    "print(\"Boolean Features:\", boolean_features)"
   ]
  },
  {
   "cell_type": "code",
   "execution_count": 1494,
   "id": "6e924d36",
   "metadata": {},
   "outputs": [],
   "source": [
    "# define the pipelines\n",
    "\n",
    "# Numeric preprocessing\n",
    "numeric_pipeline = Pipeline([\n",
    "    ('iqr_clip', IQRClipper(columns=numeric_cols)),\n",
    "    ('imputer', SimpleImputer(strategy='median')),\n",
    "    ('scaler', StandardScaler())\n",
    "])\n",
    "\n",
    "# Categorical preprocessing\n",
    "categorical_pipeline = Pipeline([\n",
    "    ('imputer', SimpleImputer(strategy='most_frequent')),\n",
    "    ('encoder', OneHotEncoder(handle_unknown='ignore'))\n",
    "])\n",
    "\n",
    "# Boolean preprocessing (optional: cast to int or handle as-is)\n",
    "boolean_pipeline = Pipeline([\n",
    "    ('imputer', SimpleImputer(strategy='most_frequent'))\n",
    "])\n"
   ]
  },
  {
   "cell_type": "code",
   "execution_count": 1495,
   "id": "9c80fb0a",
   "metadata": {},
   "outputs": [],
   "source": [
    "# combine into full preprocessor\n",
    "preprocessor = ColumnTransformer(transformers=[\n",
    "    ('num', numeric_pipeline, numeric_features),\n",
    "    ('cat', categorical_pipeline, categorical_features),\n",
    "    ('bool', boolean_pipeline, boolean_features)\n",
    "])"
   ]
  },
  {
   "cell_type": "code",
   "execution_count": 1496,
   "id": "e2fb29d8",
   "metadata": {},
   "outputs": [],
   "source": [
    "# wrap the final pipeline \n",
    "final_pipeline = Pipeline(steps=[\n",
    "    ('preprocessor', preprocessor)\n",
    "])"
   ]
  },
  {
   "cell_type": "code",
   "execution_count": 1497,
   "id": "89d5e12f",
   "metadata": {},
   "outputs": [
    {
     "data": {
      "text/plain": [
       "['../data/processed/data_cleaning_pipeline.pkl']"
      ]
     },
     "execution_count": 1497,
     "metadata": {},
     "output_type": "execute_result"
    }
   ],
   "source": [
    "# save the pipeline for later use\n",
    "joblib.dump(final_pipeline, '../data/processed/data_cleaning_pipeline.pkl')\n"
   ]
  },
  {
   "cell_type": "code",
   "execution_count": null,
   "id": "a6da13cf",
   "metadata": {},
   "outputs": [
    {
     "name": "stdout",
     "output_type": "stream",
     "text": [
      "['amount_tsh', 'date_recorded', 'funder', 'gps_height', 'installer', 'longitude', 'latitude', 'wpt_name', 'basin', 'subvillage', 'region', 'region_code', 'district_code', 'lga', 'ward', 'population', 'public_meeting', 'scheme_management', 'scheme_name', 'permit', 'construction_year', 'extraction_type_class', 'management', 'management_group', 'payment_type', 'water_quality', 'quality_group', 'quantity', 'source', 'source_class', 'waterpoint_type', 'status_group', 'wpt_name_freq', 'subvillage_freq', 'scheme_name_freq', 'ward_freq', 'installer_freq', 'funder_freq', 'lga_freq', 'region_freq', 'management_freq', 'amount_tsh_before_clip', 'amount_tsh_was_outlier', 'population_before_clip', 'population_was_outlier', 'gps_height_before_clip', 'gps_height_was_outlier', 'longitude_before_clip', 'longitude_was_outlier', 'latitude_before_clip', 'latitude_was_outlier']\n"
     ]
    }
   ],
   "source": [
    "print(df_train.columns.tolist())"
   ]
  },
  {
   "cell_type": "code",
   "execution_count": 1499,
   "id": "53dddf30",
   "metadata": {},
   "outputs": [],
   "source": [
    "preprocessor = ColumnTransformer(transformers=[\n",
    "    ('num', numeric_pipeline, numeric_cols),\n",
    "    ('cat', categorical_pipeline, categorical_features)\n",
    "])"
   ]
  },
  {
   "cell_type": "code",
   "execution_count": 1500,
   "id": "6683d155",
   "metadata": {},
   "outputs": [
    {
     "name": "stdout",
     "output_type": "stream",
     "text": [
      "Pipeline(steps=[('preprocessor',\n",
      "                 ColumnTransformer(transformers=[('num',\n",
      "                                                  Pipeline(steps=[('iqr_clip',\n",
      "                                                                   IQRClipper(columns=['amount_tsh',\n",
      "                                                                                       'gps_height',\n",
      "                                                                                       'longitude',\n",
      "                                                                                       'latitude',\n",
      "                                                                                       'population',\n",
      "                                                                                       'construction_year',\n",
      "                                                                                       'wpt_name_freq',\n",
      "                                                                                       'subvillage_freq',\n",
      "                                                                                       'scheme_name_freq',\n",
      "                                                                                       'ward_freq',\n",
      "                                                                                       'installer_freq',\n",
      "                                                                                       'funder_freq',\n",
      "                                                                                       'lga_freq',\n",
      "                                                                                       'region_freq',\n",
      "                                                                                       'management_freq'])),\n",
      "                                                                  ('imput...\n",
      "                                                   'payment_type',\n",
      "                                                   'water_quality',\n",
      "                                                   'quality_group', 'quantity',\n",
      "                                                   'source', 'source_class',\n",
      "                                                   'waterpoint_type',\n",
      "                                                   'status_group']),\n",
      "                                                 ('bool',\n",
      "                                                  Pipeline(steps=[('imputer',\n",
      "                                                                   SimpleImputer(strategy='most_frequent'))]),\n",
      "                                                  ['public_meeting', 'permit',\n",
      "                                                   'amount_tsh_was_outlier',\n",
      "                                                   'population_was_outlier',\n",
      "                                                   'gps_height_was_outlier',\n",
      "                                                   'longitude_was_outlier',\n",
      "                                                   'latitude_was_outlier'])]))])\n"
     ]
    }
   ],
   "source": [
    "print(final_pipeline)"
   ]
  },
  {
   "cell_type": "code",
   "execution_count": 1501,
   "id": "56d3a77e",
   "metadata": {},
   "outputs": [
    {
     "data": {
      "text/html": [
       "<style>div.sk-top-container {color: black;background-color: white;}div.sk-toggleable {background-color: white;}label.sk-toggleable__label {cursor: pointer;display: block;width: 100%;margin-bottom: 0;padding: 0.2em 0.3em;box-sizing: border-box;text-align: center;}div.sk-toggleable__content {max-height: 0;max-width: 0;overflow: hidden;text-align: left;background-color: #f0f8ff;}div.sk-toggleable__content pre {margin: 0.2em;color: black;border-radius: 0.25em;background-color: #f0f8ff;}input.sk-toggleable__control:checked~div.sk-toggleable__content {max-height: 200px;max-width: 100%;overflow: auto;}div.sk-estimator input.sk-toggleable__control:checked~label.sk-toggleable__label {background-color: #d4ebff;}div.sk-label input.sk-toggleable__control:checked~label.sk-toggleable__label {background-color: #d4ebff;}input.sk-hidden--visually {border: 0;clip: rect(1px 1px 1px 1px);clip: rect(1px, 1px, 1px, 1px);height: 1px;margin: -1px;overflow: hidden;padding: 0;position: absolute;width: 1px;}div.sk-estimator {font-family: monospace;background-color: #f0f8ff;margin: 0.25em 0.25em;border: 1px dotted black;border-radius: 0.25em;box-sizing: border-box;}div.sk-estimator:hover {background-color: #d4ebff;}div.sk-parallel-item::after {content: \"\";width: 100%;border-bottom: 1px solid gray;flex-grow: 1;}div.sk-label:hover label.sk-toggleable__label {background-color: #d4ebff;}div.sk-serial::before {content: \"\";position: absolute;border-left: 1px solid gray;box-sizing: border-box;top: 2em;bottom: 0;left: 50%;}div.sk-serial {display: flex;flex-direction: column;align-items: center;background-color: white;}div.sk-item {z-index: 1;}div.sk-parallel {display: flex;align-items: stretch;justify-content: center;background-color: white;}div.sk-parallel-item {display: flex;flex-direction: column;position: relative;background-color: white;}div.sk-parallel-item:first-child::after {align-self: flex-end;width: 50%;}div.sk-parallel-item:last-child::after {align-self: flex-start;width: 50%;}div.sk-parallel-item:only-child::after {width: 0;}div.sk-dashed-wrapped {border: 1px dashed gray;margin: 0.2em;box-sizing: border-box;padding-bottom: 0.1em;background-color: white;position: relative;}div.sk-label label {font-family: monospace;font-weight: bold;background-color: white;display: inline-block;line-height: 1.2em;}div.sk-label-container {position: relative;z-index: 2;text-align: center;}div.sk-container {display: inline-block;position: relative;}</style><div class=\"sk-top-container\"><div class=\"sk-container\"><div class=\"sk-item sk-dashed-wrapped\"><div class=\"sk-label-container\"><div class=\"sk-label sk-toggleable\"><input class=\"sk-toggleable__control sk-hidden--visually\" id=\"5dfa6eed-3551-4a99-b697-6937ce6e2824\" type=\"checkbox\" ><label class=\"sk-toggleable__label\" for=\"5dfa6eed-3551-4a99-b697-6937ce6e2824\">Pipeline</label><div class=\"sk-toggleable__content\"><pre>Pipeline(steps=[('preprocessor',\n",
       "                 ColumnTransformer(transformers=[('num',\n",
       "                                                  Pipeline(steps=[('iqr_clip',\n",
       "                                                                   IQRClipper(columns=['amount_tsh',\n",
       "                                                                                       'gps_height',\n",
       "                                                                                       'longitude',\n",
       "                                                                                       'latitude',\n",
       "                                                                                       'population',\n",
       "                                                                                       'construction_year',\n",
       "                                                                                       'wpt_name_freq',\n",
       "                                                                                       'subvillage_freq',\n",
       "                                                                                       'scheme_name_freq',\n",
       "                                                                                       'ward_freq',\n",
       "                                                                                       'installer_freq',\n",
       "                                                                                       'funder_freq',\n",
       "                                                                                       'lga_freq',\n",
       "                                                                                       'region_freq',\n",
       "                                                                                       'management_freq'])),\n",
       "                                                                  ('imput...\n",
       "                                                   'payment_type',\n",
       "                                                   'water_quality',\n",
       "                                                   'quality_group', 'quantity',\n",
       "                                                   'source', 'source_class',\n",
       "                                                   'waterpoint_type',\n",
       "                                                   'status_group']),\n",
       "                                                 ('bool',\n",
       "                                                  Pipeline(steps=[('imputer',\n",
       "                                                                   SimpleImputer(strategy='most_frequent'))]),\n",
       "                                                  ['public_meeting', 'permit',\n",
       "                                                   'amount_tsh_was_outlier',\n",
       "                                                   'population_was_outlier',\n",
       "                                                   'gps_height_was_outlier',\n",
       "                                                   'longitude_was_outlier',\n",
       "                                                   'latitude_was_outlier'])]))])</pre></div></div></div><div class=\"sk-serial\"><div class=\"sk-item sk-dashed-wrapped\"><div class=\"sk-label-container\"><div class=\"sk-label sk-toggleable\"><input class=\"sk-toggleable__control sk-hidden--visually\" id=\"4ac3f97d-6386-4428-a141-1a53c1ee5395\" type=\"checkbox\" ><label class=\"sk-toggleable__label\" for=\"4ac3f97d-6386-4428-a141-1a53c1ee5395\">preprocessor: ColumnTransformer</label><div class=\"sk-toggleable__content\"><pre>ColumnTransformer(transformers=[('num',\n",
       "                                 Pipeline(steps=[('iqr_clip',\n",
       "                                                  IQRClipper(columns=['amount_tsh',\n",
       "                                                                      'gps_height',\n",
       "                                                                      'longitude',\n",
       "                                                                      'latitude',\n",
       "                                                                      'population',\n",
       "                                                                      'construction_year',\n",
       "                                                                      'wpt_name_freq',\n",
       "                                                                      'subvillage_freq',\n",
       "                                                                      'scheme_name_freq',\n",
       "                                                                      'ward_freq',\n",
       "                                                                      'installer_freq',\n",
       "                                                                      'funder_freq',\n",
       "                                                                      'lga_freq',\n",
       "                                                                      'region_freq',\n",
       "                                                                      'management_freq'])),\n",
       "                                                 ('imputer',\n",
       "                                                  SimpleImputer(strategy='medi...\n",
       "                                  'management_group', 'payment_type',\n",
       "                                  'water_quality', 'quality_group', 'quantity',\n",
       "                                  'source', 'source_class', 'waterpoint_type',\n",
       "                                  'status_group']),\n",
       "                                ('bool',\n",
       "                                 Pipeline(steps=[('imputer',\n",
       "                                                  SimpleImputer(strategy='most_frequent'))]),\n",
       "                                 ['public_meeting', 'permit',\n",
       "                                  'amount_tsh_was_outlier',\n",
       "                                  'population_was_outlier',\n",
       "                                  'gps_height_was_outlier',\n",
       "                                  'longitude_was_outlier',\n",
       "                                  'latitude_was_outlier'])])</pre></div></div></div><div class=\"sk-parallel\"><div class=\"sk-parallel-item\"><div class=\"sk-item\"><div class=\"sk-label-container\"><div class=\"sk-label sk-toggleable\"><input class=\"sk-toggleable__control sk-hidden--visually\" id=\"c4c21ef6-a2c7-4e4f-94eb-bdd22c0fbe61\" type=\"checkbox\" ><label class=\"sk-toggleable__label\" for=\"c4c21ef6-a2c7-4e4f-94eb-bdd22c0fbe61\">num</label><div class=\"sk-toggleable__content\"><pre>['amount_tsh', 'gps_height', 'longitude', 'latitude', 'region_code', 'district_code', 'population', 'construction_year', 'wpt_name_freq', 'subvillage_freq', 'scheme_name_freq', 'ward_freq', 'installer_freq', 'funder_freq', 'lga_freq', 'region_freq', 'management_freq', 'amount_tsh_before_clip', 'population_before_clip', 'gps_height_before_clip', 'longitude_before_clip', 'latitude_before_clip']</pre></div></div></div><div class=\"sk-serial\"><div class=\"sk-item\"><div class=\"sk-serial\"><div class=\"sk-item\"><div class=\"sk-estimator sk-toggleable\"><input class=\"sk-toggleable__control sk-hidden--visually\" id=\"496618e3-b3ea-4b45-9ca7-5e5ddc2b8542\" type=\"checkbox\" ><label class=\"sk-toggleable__label\" for=\"496618e3-b3ea-4b45-9ca7-5e5ddc2b8542\">IQRClipper</label><div class=\"sk-toggleable__content\"><pre>IQRClipper(columns=['amount_tsh', 'gps_height', 'longitude', 'latitude',\n",
       "                    'population', 'construction_year', 'wpt_name_freq',\n",
       "                    'subvillage_freq', 'scheme_name_freq', 'ward_freq',\n",
       "                    'installer_freq', 'funder_freq', 'lga_freq', 'region_freq',\n",
       "                    'management_freq'])</pre></div></div></div><div class=\"sk-item\"><div class=\"sk-estimator sk-toggleable\"><input class=\"sk-toggleable__control sk-hidden--visually\" id=\"fe495db7-52c8-4ea2-a400-479314615f79\" type=\"checkbox\" ><label class=\"sk-toggleable__label\" for=\"fe495db7-52c8-4ea2-a400-479314615f79\">SimpleImputer</label><div class=\"sk-toggleable__content\"><pre>SimpleImputer(strategy='median')</pre></div></div></div><div class=\"sk-item\"><div class=\"sk-estimator sk-toggleable\"><input class=\"sk-toggleable__control sk-hidden--visually\" id=\"76e6fcf9-4c28-4725-b025-1acca66390e9\" type=\"checkbox\" ><label class=\"sk-toggleable__label\" for=\"76e6fcf9-4c28-4725-b025-1acca66390e9\">StandardScaler</label><div class=\"sk-toggleable__content\"><pre>StandardScaler()</pre></div></div></div></div></div></div></div></div><div class=\"sk-parallel-item\"><div class=\"sk-item\"><div class=\"sk-label-container\"><div class=\"sk-label sk-toggleable\"><input class=\"sk-toggleable__control sk-hidden--visually\" id=\"89fcb872-4406-4045-9b56-61d201ace12a\" type=\"checkbox\" ><label class=\"sk-toggleable__label\" for=\"89fcb872-4406-4045-9b56-61d201ace12a\">cat</label><div class=\"sk-toggleable__content\"><pre>['funder', 'installer', 'wpt_name', 'basin', 'subvillage', 'region', 'lga', 'ward', 'scheme_management', 'scheme_name', 'extraction_type_class', 'management', 'management_group', 'payment_type', 'water_quality', 'quality_group', 'quantity', 'source', 'source_class', 'waterpoint_type', 'status_group']</pre></div></div></div><div class=\"sk-serial\"><div class=\"sk-item\"><div class=\"sk-serial\"><div class=\"sk-item\"><div class=\"sk-estimator sk-toggleable\"><input class=\"sk-toggleable__control sk-hidden--visually\" id=\"07f0b0f1-cb4c-4630-ac6b-91b702080296\" type=\"checkbox\" ><label class=\"sk-toggleable__label\" for=\"07f0b0f1-cb4c-4630-ac6b-91b702080296\">SimpleImputer</label><div class=\"sk-toggleable__content\"><pre>SimpleImputer(strategy='most_frequent')</pre></div></div></div><div class=\"sk-item\"><div class=\"sk-estimator sk-toggleable\"><input class=\"sk-toggleable__control sk-hidden--visually\" id=\"4f08efce-9b94-40a1-a38f-34f62b4837f2\" type=\"checkbox\" ><label class=\"sk-toggleable__label\" for=\"4f08efce-9b94-40a1-a38f-34f62b4837f2\">OneHotEncoder</label><div class=\"sk-toggleable__content\"><pre>OneHotEncoder(handle_unknown='ignore')</pre></div></div></div></div></div></div></div></div><div class=\"sk-parallel-item\"><div class=\"sk-item\"><div class=\"sk-label-container\"><div class=\"sk-label sk-toggleable\"><input class=\"sk-toggleable__control sk-hidden--visually\" id=\"503dd3ad-5ee8-4515-8d21-78b0c044715a\" type=\"checkbox\" ><label class=\"sk-toggleable__label\" for=\"503dd3ad-5ee8-4515-8d21-78b0c044715a\">bool</label><div class=\"sk-toggleable__content\"><pre>['public_meeting', 'permit', 'amount_tsh_was_outlier', 'population_was_outlier', 'gps_height_was_outlier', 'longitude_was_outlier', 'latitude_was_outlier']</pre></div></div></div><div class=\"sk-serial\"><div class=\"sk-item\"><div class=\"sk-serial\"><div class=\"sk-item\"><div class=\"sk-estimator sk-toggleable\"><input class=\"sk-toggleable__control sk-hidden--visually\" id=\"75c84cad-adcb-4cbe-ba3c-c7cb189834d0\" type=\"checkbox\" ><label class=\"sk-toggleable__label\" for=\"75c84cad-adcb-4cbe-ba3c-c7cb189834d0\">SimpleImputer</label><div class=\"sk-toggleable__content\"><pre>SimpleImputer(strategy='most_frequent')</pre></div></div></div></div></div></div></div></div></div></div></div></div></div></div>"
      ],
      "text/plain": [
       "Pipeline(steps=[('preprocessor',\n",
       "                 ColumnTransformer(transformers=[('num',\n",
       "                                                  Pipeline(steps=[('iqr_clip',\n",
       "                                                                   IQRClipper(columns=['amount_tsh',\n",
       "                                                                                       'gps_height',\n",
       "                                                                                       'longitude',\n",
       "                                                                                       'latitude',\n",
       "                                                                                       'population',\n",
       "                                                                                       'construction_year',\n",
       "                                                                                       'wpt_name_freq',\n",
       "                                                                                       'subvillage_freq',\n",
       "                                                                                       'scheme_name_freq',\n",
       "                                                                                       'ward_freq',\n",
       "                                                                                       'installer_freq',\n",
       "                                                                                       'funder_freq',\n",
       "                                                                                       'lga_freq',\n",
       "                                                                                       'region_freq',\n",
       "                                                                                       'management_freq'])),\n",
       "                                                                  ('imput...\n",
       "                                                   'payment_type',\n",
       "                                                   'water_quality',\n",
       "                                                   'quality_group', 'quantity',\n",
       "                                                   'source', 'source_class',\n",
       "                                                   'waterpoint_type',\n",
       "                                                   'status_group']),\n",
       "                                                 ('bool',\n",
       "                                                  Pipeline(steps=[('imputer',\n",
       "                                                                   SimpleImputer(strategy='most_frequent'))]),\n",
       "                                                  ['public_meeting', 'permit',\n",
       "                                                   'amount_tsh_was_outlier',\n",
       "                                                   'population_was_outlier',\n",
       "                                                   'gps_height_was_outlier',\n",
       "                                                   'longitude_was_outlier',\n",
       "                                                   'latitude_was_outlier'])]))])"
      ]
     },
     "execution_count": 1501,
     "metadata": {},
     "output_type": "execute_result"
    }
   ],
   "source": [
    "from sklearn import set_config\n",
    "set_config(display='diagram')\n",
    "final_pipeline"
   ]
  },
  {
   "cell_type": "code",
   "execution_count": null,
   "id": "8af4cc2f",
   "metadata": {},
   "outputs": [
    {
     "name": "stdout",
     "output_type": "stream",
     "text": [
      "Cleaned dataset saved successfully to: ../data/processed/cleaned_merged_data.csv\n"
     ]
    }
   ],
   "source": [
    "# Save the cleaned data to CSV\n",
    "df_train.to_csv(\"../data/processed/cleaned_merged_data.csv\", index=False)\n",
    "print(\"Cleaned dataset saved successfully to: ../data/processed/cleaned_merged_data.csv\")"
   ]
  }
 ],
 "metadata": {
  "kernelspec": {
   "display_name": "base",
   "language": "python",
   "name": "python3"
  },
  "language_info": {
   "codemirror_mode": {
    "name": "ipython",
    "version": 3
   },
   "file_extension": ".py",
   "mimetype": "text/x-python",
   "name": "python",
   "nbconvert_exporter": "python",
   "pygments_lexer": "ipython3",
   "version": "3.8.8"
  }
 },
 "nbformat": 4,
 "nbformat_minor": 5
}
