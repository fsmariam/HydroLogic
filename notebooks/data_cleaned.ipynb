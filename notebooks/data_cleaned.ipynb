{
 "cells": [
  {
   "cell_type": "markdown",
   "metadata": {},
   "source": [
    "# Data Cleaning Process"
   ]
  },
  {
   "cell_type": "markdown",
   "metadata": {},
   "source": [
    "## 1. Import Libraries"
   ]
  },
  {
   "cell_type": "code",
   "execution_count": 18,
   "metadata": {},
   "outputs": [],
   "source": [
    "import pandas as pd\n",
    "import geopandas as gpd\n",
    "import seaborn as sns\n",
    "import matplotlib.pyplot as plt"
   ]
  },
  {
   "cell_type": "markdown",
   "metadata": {},
   "source": [
    "## 2. Load dataset"
   ]
  },
  {
   "cell_type": "code",
   "execution_count": 3,
   "metadata": {},
   "outputs": [],
   "source": [
    "df_training = pd.read_csv(\"../data/processed/Merged_Training_Set.csv\") "
   ]
  },
  {
   "cell_type": "code",
   "execution_count": 6,
   "metadata": {},
   "outputs": [
    {
     "data": {
      "application/vnd.microsoft.datawrangler.viewer.v0+json": {
       "columns": [
        {
         "name": "id",
         "rawType": "int64",
         "type": "integer"
        },
        {
         "name": "amount_tsh",
         "rawType": "float64",
         "type": "float"
        },
        {
         "name": "date_recorded",
         "rawType": "object",
         "type": "string"
        },
        {
         "name": "funder",
         "rawType": "object",
         "type": "string"
        },
        {
         "name": "gps_height",
         "rawType": "int64",
         "type": "integer"
        },
        {
         "name": "installer",
         "rawType": "object",
         "type": "string"
        },
        {
         "name": "longitude",
         "rawType": "float64",
         "type": "float"
        },
        {
         "name": "latitude",
         "rawType": "float64",
         "type": "float"
        },
        {
         "name": "wpt_name",
         "rawType": "object",
         "type": "string"
        },
        {
         "name": "num_private",
         "rawType": "int64",
         "type": "integer"
        },
        {
         "name": "basin",
         "rawType": "object",
         "type": "string"
        },
        {
         "name": "subvillage",
         "rawType": "object",
         "type": "string"
        },
        {
         "name": "region",
         "rawType": "object",
         "type": "string"
        },
        {
         "name": "region_code",
         "rawType": "int64",
         "type": "integer"
        },
        {
         "name": "district_code",
         "rawType": "int64",
         "type": "integer"
        },
        {
         "name": "lga",
         "rawType": "object",
         "type": "string"
        },
        {
         "name": "ward",
         "rawType": "object",
         "type": "string"
        },
        {
         "name": "population",
         "rawType": "int64",
         "type": "integer"
        },
        {
         "name": "public_meeting",
         "rawType": "object",
         "type": "unknown"
        },
        {
         "name": "recorded_by",
         "rawType": "object",
         "type": "string"
        },
        {
         "name": "scheme_management",
         "rawType": "object",
         "type": "unknown"
        },
        {
         "name": "scheme_name",
         "rawType": "object",
         "type": "unknown"
        },
        {
         "name": "permit",
         "rawType": "object",
         "type": "unknown"
        },
        {
         "name": "construction_year",
         "rawType": "int64",
         "type": "integer"
        },
        {
         "name": "extraction_type",
         "rawType": "object",
         "type": "string"
        },
        {
         "name": "extraction_type_group",
         "rawType": "object",
         "type": "string"
        },
        {
         "name": "extraction_type_class",
         "rawType": "object",
         "type": "string"
        },
        {
         "name": "management",
         "rawType": "object",
         "type": "string"
        },
        {
         "name": "management_group",
         "rawType": "object",
         "type": "string"
        },
        {
         "name": "payment",
         "rawType": "object",
         "type": "string"
        },
        {
         "name": "payment_type",
         "rawType": "object",
         "type": "string"
        },
        {
         "name": "water_quality",
         "rawType": "object",
         "type": "string"
        },
        {
         "name": "quality_group",
         "rawType": "object",
         "type": "string"
        },
        {
         "name": "quantity",
         "rawType": "object",
         "type": "string"
        },
        {
         "name": "quantity_group",
         "rawType": "object",
         "type": "string"
        },
        {
         "name": "source",
         "rawType": "object",
         "type": "string"
        },
        {
         "name": "source_type",
         "rawType": "object",
         "type": "string"
        },
        {
         "name": "source_class",
         "rawType": "object",
         "type": "string"
        },
        {
         "name": "waterpoint_type",
         "rawType": "object",
         "type": "string"
        },
        {
         "name": "waterpoint_type_group",
         "rawType": "object",
         "type": "string"
        },
        {
         "name": "status_group",
         "rawType": "object",
         "type": "string"
        }
       ],
       "conversionMethod": "pd.DataFrame",
       "ref": "03e52b92-5a21-4fbd-8410-156652442b00",
       "rows": [
        [
         "69572",
         "6000.0",
         "2011-03-14",
         "Roman",
         "1390",
         "Roman",
         "34.93809275",
         "-9.85632177",
         "none",
         "0",
         "Lake Nyasa",
         "Mnyusi B",
         "Iringa",
         "11",
         "5",
         "Ludewa",
         "Mundindi",
         "109",
         "True",
         "GeoData Consultants Ltd",
         "VWC",
         "Roman",
         "False",
         "1999",
         "gravity",
         "gravity",
         "gravity",
         "vwc",
         "user-group",
         "pay annually",
         "annually",
         "soft",
         "good",
         "enough",
         "enough",
         "spring",
         "spring",
         "groundwater",
         "communal standpipe",
         "communal standpipe",
         "functional"
        ],
        [
         "8776",
         "0.0",
         "2013-03-06",
         "Grumeti",
         "1399",
         "GRUMETI",
         "34.6987661",
         "-2.14746569",
         "Zahanati",
         "0",
         "Lake Victoria",
         "Nyamara",
         "Mara",
         "20",
         "2",
         "Serengeti",
         "Natta",
         "280",
         null,
         "GeoData Consultants Ltd",
         "Other",
         null,
         "True",
         "2010",
         "gravity",
         "gravity",
         "gravity",
         "wug",
         "user-group",
         "never pay",
         "never pay",
         "soft",
         "good",
         "insufficient",
         "insufficient",
         "rainwater harvesting",
         "rainwater harvesting",
         "surface",
         "communal standpipe",
         "communal standpipe",
         "functional"
        ],
        [
         "34310",
         "25.0",
         "2013-02-25",
         "Lottery Club",
         "686",
         "World vision",
         "37.46066446",
         "-3.82132853",
         "Kwa Mahundi",
         "0",
         "Pangani",
         "Majengo",
         "Manyara",
         "21",
         "4",
         "Simanjiro",
         "Ngorika",
         "250",
         "True",
         "GeoData Consultants Ltd",
         "VWC",
         "Nyumba ya mungu pipe scheme",
         "True",
         "2009",
         "gravity",
         "gravity",
         "gravity",
         "vwc",
         "user-group",
         "pay per bucket",
         "per bucket",
         "soft",
         "good",
         "enough",
         "enough",
         "dam",
         "dam",
         "surface",
         "communal standpipe multiple",
         "communal standpipe",
         "functional"
        ],
        [
         "67743",
         "0.0",
         "2013-01-28",
         "Unicef",
         "263",
         "UNICEF",
         "38.48616088",
         "-11.15529772",
         "Zahanati Ya Nanyumbu",
         "0",
         "Ruvuma / Southern Coast",
         "Mahakamani",
         "Mtwara",
         "90",
         "63",
         "Nanyumbu",
         "Nanyumbu",
         "58",
         "True",
         "GeoData Consultants Ltd",
         "VWC",
         null,
         "True",
         "1986",
         "submersible",
         "submersible",
         "submersible",
         "vwc",
         "user-group",
         "never pay",
         "never pay",
         "soft",
         "good",
         "dry",
         "dry",
         "machine dbh",
         "borehole",
         "groundwater",
         "communal standpipe multiple",
         "communal standpipe",
         "non functional"
        ],
        [
         "19728",
         "0.0",
         "2011-07-13",
         "Action In A",
         "0",
         "Artisan",
         "31.13084671",
         "-1.82535885",
         "Shuleni",
         "0",
         "Lake Victoria",
         "Kyanyamisa",
         "Kagera",
         "18",
         "1",
         "Karagwe",
         "Nyakasimbi",
         "0",
         "True",
         "GeoData Consultants Ltd",
         null,
         null,
         "True",
         "0",
         "gravity",
         "gravity",
         "gravity",
         "other",
         "other",
         "never pay",
         "never pay",
         "soft",
         "good",
         "seasonal",
         "seasonal",
         "rainwater harvesting",
         "rainwater harvesting",
         "surface",
         "communal standpipe",
         "communal standpipe",
         "functional"
        ]
       ],
       "shape": {
        "columns": 40,
        "rows": 5
       }
      },
      "text/html": [
       "<div>\n",
       "<style scoped>\n",
       "    .dataframe tbody tr th:only-of-type {\n",
       "        vertical-align: middle;\n",
       "    }\n",
       "\n",
       "    .dataframe tbody tr th {\n",
       "        vertical-align: top;\n",
       "    }\n",
       "\n",
       "    .dataframe thead th {\n",
       "        text-align: right;\n",
       "    }\n",
       "</style>\n",
       "<table border=\"1\" class=\"dataframe\">\n",
       "  <thead>\n",
       "    <tr style=\"text-align: right;\">\n",
       "      <th></th>\n",
       "      <th>amount_tsh</th>\n",
       "      <th>date_recorded</th>\n",
       "      <th>funder</th>\n",
       "      <th>gps_height</th>\n",
       "      <th>installer</th>\n",
       "      <th>longitude</th>\n",
       "      <th>latitude</th>\n",
       "      <th>wpt_name</th>\n",
       "      <th>num_private</th>\n",
       "      <th>basin</th>\n",
       "      <th>...</th>\n",
       "      <th>water_quality</th>\n",
       "      <th>quality_group</th>\n",
       "      <th>quantity</th>\n",
       "      <th>quantity_group</th>\n",
       "      <th>source</th>\n",
       "      <th>source_type</th>\n",
       "      <th>source_class</th>\n",
       "      <th>waterpoint_type</th>\n",
       "      <th>waterpoint_type_group</th>\n",
       "      <th>status_group</th>\n",
       "    </tr>\n",
       "    <tr>\n",
       "      <th>id</th>\n",
       "      <th></th>\n",
       "      <th></th>\n",
       "      <th></th>\n",
       "      <th></th>\n",
       "      <th></th>\n",
       "      <th></th>\n",
       "      <th></th>\n",
       "      <th></th>\n",
       "      <th></th>\n",
       "      <th></th>\n",
       "      <th></th>\n",
       "      <th></th>\n",
       "      <th></th>\n",
       "      <th></th>\n",
       "      <th></th>\n",
       "      <th></th>\n",
       "      <th></th>\n",
       "      <th></th>\n",
       "      <th></th>\n",
       "      <th></th>\n",
       "      <th></th>\n",
       "    </tr>\n",
       "  </thead>\n",
       "  <tbody>\n",
       "    <tr>\n",
       "      <th>69572</th>\n",
       "      <td>6000.0</td>\n",
       "      <td>2011-03-14</td>\n",
       "      <td>Roman</td>\n",
       "      <td>1390</td>\n",
       "      <td>Roman</td>\n",
       "      <td>34.938093</td>\n",
       "      <td>-9.856322</td>\n",
       "      <td>none</td>\n",
       "      <td>0</td>\n",
       "      <td>Lake Nyasa</td>\n",
       "      <td>...</td>\n",
       "      <td>soft</td>\n",
       "      <td>good</td>\n",
       "      <td>enough</td>\n",
       "      <td>enough</td>\n",
       "      <td>spring</td>\n",
       "      <td>spring</td>\n",
       "      <td>groundwater</td>\n",
       "      <td>communal standpipe</td>\n",
       "      <td>communal standpipe</td>\n",
       "      <td>functional</td>\n",
       "    </tr>\n",
       "    <tr>\n",
       "      <th>8776</th>\n",
       "      <td>0.0</td>\n",
       "      <td>2013-03-06</td>\n",
       "      <td>Grumeti</td>\n",
       "      <td>1399</td>\n",
       "      <td>GRUMETI</td>\n",
       "      <td>34.698766</td>\n",
       "      <td>-2.147466</td>\n",
       "      <td>Zahanati</td>\n",
       "      <td>0</td>\n",
       "      <td>Lake Victoria</td>\n",
       "      <td>...</td>\n",
       "      <td>soft</td>\n",
       "      <td>good</td>\n",
       "      <td>insufficient</td>\n",
       "      <td>insufficient</td>\n",
       "      <td>rainwater harvesting</td>\n",
       "      <td>rainwater harvesting</td>\n",
       "      <td>surface</td>\n",
       "      <td>communal standpipe</td>\n",
       "      <td>communal standpipe</td>\n",
       "      <td>functional</td>\n",
       "    </tr>\n",
       "    <tr>\n",
       "      <th>34310</th>\n",
       "      <td>25.0</td>\n",
       "      <td>2013-02-25</td>\n",
       "      <td>Lottery Club</td>\n",
       "      <td>686</td>\n",
       "      <td>World vision</td>\n",
       "      <td>37.460664</td>\n",
       "      <td>-3.821329</td>\n",
       "      <td>Kwa Mahundi</td>\n",
       "      <td>0</td>\n",
       "      <td>Pangani</td>\n",
       "      <td>...</td>\n",
       "      <td>soft</td>\n",
       "      <td>good</td>\n",
       "      <td>enough</td>\n",
       "      <td>enough</td>\n",
       "      <td>dam</td>\n",
       "      <td>dam</td>\n",
       "      <td>surface</td>\n",
       "      <td>communal standpipe multiple</td>\n",
       "      <td>communal standpipe</td>\n",
       "      <td>functional</td>\n",
       "    </tr>\n",
       "    <tr>\n",
       "      <th>67743</th>\n",
       "      <td>0.0</td>\n",
       "      <td>2013-01-28</td>\n",
       "      <td>Unicef</td>\n",
       "      <td>263</td>\n",
       "      <td>UNICEF</td>\n",
       "      <td>38.486161</td>\n",
       "      <td>-11.155298</td>\n",
       "      <td>Zahanati Ya Nanyumbu</td>\n",
       "      <td>0</td>\n",
       "      <td>Ruvuma / Southern Coast</td>\n",
       "      <td>...</td>\n",
       "      <td>soft</td>\n",
       "      <td>good</td>\n",
       "      <td>dry</td>\n",
       "      <td>dry</td>\n",
       "      <td>machine dbh</td>\n",
       "      <td>borehole</td>\n",
       "      <td>groundwater</td>\n",
       "      <td>communal standpipe multiple</td>\n",
       "      <td>communal standpipe</td>\n",
       "      <td>non functional</td>\n",
       "    </tr>\n",
       "    <tr>\n",
       "      <th>19728</th>\n",
       "      <td>0.0</td>\n",
       "      <td>2011-07-13</td>\n",
       "      <td>Action In A</td>\n",
       "      <td>0</td>\n",
       "      <td>Artisan</td>\n",
       "      <td>31.130847</td>\n",
       "      <td>-1.825359</td>\n",
       "      <td>Shuleni</td>\n",
       "      <td>0</td>\n",
       "      <td>Lake Victoria</td>\n",
       "      <td>...</td>\n",
       "      <td>soft</td>\n",
       "      <td>good</td>\n",
       "      <td>seasonal</td>\n",
       "      <td>seasonal</td>\n",
       "      <td>rainwater harvesting</td>\n",
       "      <td>rainwater harvesting</td>\n",
       "      <td>surface</td>\n",
       "      <td>communal standpipe</td>\n",
       "      <td>communal standpipe</td>\n",
       "      <td>functional</td>\n",
       "    </tr>\n",
       "  </tbody>\n",
       "</table>\n",
       "<p>5 rows × 40 columns</p>\n",
       "</div>"
      ],
      "text/plain": [
       "       amount_tsh date_recorded        funder  gps_height     installer  \\\n",
       "id                                                                        \n",
       "69572      6000.0    2011-03-14         Roman        1390         Roman   \n",
       "8776          0.0    2013-03-06       Grumeti        1399       GRUMETI   \n",
       "34310        25.0    2013-02-25  Lottery Club         686  World vision   \n",
       "67743         0.0    2013-01-28        Unicef         263        UNICEF   \n",
       "19728         0.0    2011-07-13   Action In A           0       Artisan   \n",
       "\n",
       "       longitude   latitude              wpt_name  num_private  \\\n",
       "id                                                               \n",
       "69572  34.938093  -9.856322                  none            0   \n",
       "8776   34.698766  -2.147466              Zahanati            0   \n",
       "34310  37.460664  -3.821329           Kwa Mahundi            0   \n",
       "67743  38.486161 -11.155298  Zahanati Ya Nanyumbu            0   \n",
       "19728  31.130847  -1.825359               Shuleni            0   \n",
       "\n",
       "                         basin  ... water_quality quality_group      quantity  \\\n",
       "id                              ...                                             \n",
       "69572               Lake Nyasa  ...          soft          good        enough   \n",
       "8776             Lake Victoria  ...          soft          good  insufficient   \n",
       "34310                  Pangani  ...          soft          good        enough   \n",
       "67743  Ruvuma / Southern Coast  ...          soft          good           dry   \n",
       "19728            Lake Victoria  ...          soft          good      seasonal   \n",
       "\n",
       "       quantity_group                source           source_type  \\\n",
       "id                                                                  \n",
       "69572          enough                spring                spring   \n",
       "8776     insufficient  rainwater harvesting  rainwater harvesting   \n",
       "34310          enough                   dam                   dam   \n",
       "67743             dry           machine dbh              borehole   \n",
       "19728        seasonal  rainwater harvesting  rainwater harvesting   \n",
       "\n",
       "       source_class              waterpoint_type waterpoint_type_group  \\\n",
       "id                                                                       \n",
       "69572   groundwater           communal standpipe    communal standpipe   \n",
       "8776        surface           communal standpipe    communal standpipe   \n",
       "34310       surface  communal standpipe multiple    communal standpipe   \n",
       "67743   groundwater  communal standpipe multiple    communal standpipe   \n",
       "19728       surface           communal standpipe    communal standpipe   \n",
       "\n",
       "         status_group  \n",
       "id                     \n",
       "69572      functional  \n",
       "8776       functional  \n",
       "34310      functional  \n",
       "67743  non functional  \n",
       "19728      functional  \n",
       "\n",
       "[5 rows x 40 columns]"
      ]
     },
     "execution_count": 6,
     "metadata": {},
     "output_type": "execute_result"
    }
   ],
   "source": [
    "df_training.head()"
   ]
  },
  {
   "cell_type": "code",
   "execution_count": 5,
   "metadata": {},
   "outputs": [],
   "source": [
    "df_training = df_training.set_index('id')"
   ]
  },
  {
   "cell_type": "code",
   "execution_count": null,
   "metadata": {},
   "outputs": [],
   "source": [
    "### Categorical Columns\n",
    "- permit"
   ]
  },
  {
   "cell_type": "markdown",
   "metadata": {},
   "source": [
    "#### Categorical columns to be removed"
   ]
  },
  {
   "cell_type": "markdown",
   "metadata": {},
   "source": [
    "##### Columns to remove at first"
   ]
  },
  {
   "cell_type": "code",
   "execution_count": 7,
   "metadata": {},
   "outputs": [
    {
     "data": {
      "text/plain": [
       "(59400, 37)"
      ]
     },
     "execution_count": 7,
     "metadata": {},
     "output_type": "execute_result"
    }
   ],
   "source": [
    "\n",
    "df_training = df_training.drop(['wpt_name', 'recorded_by', 'scheme_name'], axis=1)\n",
    "df_training.shape"
   ]
  },
  {
   "cell_type": "markdown",
   "metadata": {},
   "source": [
    "##### Columns to analyze together:\n",
    "- funder, installer, *scheme_name\n"
   ]
  },
  {
   "cell_type": "code",
   "execution_count": 9,
   "metadata": {},
   "outputs": [
    {
     "data": {
      "text/plain": [
       "(59400, 36)"
      ]
     },
     "execution_count": 9,
     "metadata": {},
     "output_type": "execute_result"
    }
   ],
   "source": [
    "df_training = df_training.drop('num_private', axis=1)\n",
    "df_training.shape"
   ]
  },
  {
   "cell_type": "markdown",
   "metadata": {},
   "source": [
    "**funder**\n",
    "Lets check if lowering case can help."
   ]
  },
  {
   "cell_type": "code",
   "execution_count": 14,
   "metadata": {},
   "outputs": [
    {
     "data": {
      "text/plain": [
       "funder\n",
       "government of tanzania    9084\n",
       "nan                       3637\n",
       "danida                    3114\n",
       "hesawa                    2202\n",
       "rwssp                     1374\n",
       "                          ... \n",
       "rarymond ekura               1\n",
       "justine marwa                1\n",
       "municipal council            1\n",
       "afdp                         1\n",
       "samlo                        1\n",
       "Name: count, Length: 1897, dtype: int64"
      ]
     },
     "execution_count": 14,
     "metadata": {},
     "output_type": "execute_result"
    }
   ],
   "source": [
    "df_training['funder'].value_counts()"
   ]
  },
  {
   "cell_type": "code",
   "execution_count": null,
   "metadata": {},
   "outputs": [
    {
     "data": {
      "text/plain": [
       "funder\n",
       "government of tanzania    9084\n",
       "nan                       3637\n",
       "danida                    3114\n",
       "hesawa                    2202\n",
       "rwssp                     1374\n",
       "                          ... \n",
       "rarymond ekura               1\n",
       "justine marwa                1\n",
       "municipal council            1\n",
       "afdp                         1\n",
       "samlo                        1\n",
       "Name: count, Length: 1897, dtype: int64"
      ]
     },
     "metadata": {},
     "output_type": "display_data"
    }
   ],
   "source": [
    "df_training['funder'] = df_training['funder'].astype(str).str.lower()\n",
    "df_training['funder'].value_counts()"
   ]
  },
  {
   "cell_type": "markdown",
   "metadata": {},
   "source": [
    "No difference with lowercase."
   ]
  },
  {
   "cell_type": "markdown",
   "metadata": {},
   "source": [
    "#### Numeric Columns"
   ]
  },
  {
   "cell_type": "code",
   "execution_count": 10,
   "metadata": {},
   "outputs": [
    {
     "data": {
      "text/plain": [
       "(59400, 35)"
      ]
     },
     "execution_count": 10,
     "metadata": {},
     "output_type": "execute_result"
    }
   ],
   "source": [
    "df_training = df_training.drop('public_meeting', axis=1)\n",
    "df_training.shape"
   ]
  },
  {
   "cell_type": "markdown",
   "metadata": {},
   "source": [
    "### Finding correlation between numeric columns\n",
    "\n",
    "The values more than ±0.5 show stronger relation between columns\n",
    "\n",
    "Below is the correlation matrix of the numeric only values, we can later create for categorical columns as well.\n"
   ]
  },
  {
   "cell_type": "code",
   "execution_count": 16,
   "metadata": {},
   "outputs": [],
   "source": [
    "correlation_matrix = df_training.select_dtypes(include='number').corr()"
   ]
  },
  {
   "cell_type": "code",
   "execution_count": 19,
   "metadata": {},
   "outputs": [
    {
     "data": {
      "image/png": "[encoded data removed]",
      "text/plain": [
       "<Figure size 1000x800 with 2 Axes>"
      ]
     },
     "metadata": {},
     "output_type": "display_data"
    }
   ],
   "source": [
    "# Set up the matplotlib figure\n",
    "plt.figure(figsize=(10, 8))\n",
    "\n",
    "# Create the heatmap\n",
    "sns.heatmap(correlation_matrix, annot=True, cmap='coolwarm', fmt=\".2f\", linewidths=0.5)\n",
    "\n",
    "# Add a title\n",
    "plt.title(\"Correlation Matrix Heatmap\", fontsize=16)\n",
    "\n",
    "# Show the plot\n",
    "plt.show()"
   ]
  }
 ],
 "metadata": {
  "kernelspec": {
   "display_name": ".venv",
   "language": "python",
   "name": "python3"
  },
  "language_info": {
   "codemirror_mode": {
    "name": "ipython",
    "version": 3
   },
   "file_extension": ".py",
   "mimetype": "text/x-python",
   "name": "python",
   "nbconvert_exporter": "python",
   "pygments_lexer": "ipython3",
   "version": "3.13.1"
  }
 },
 "nbformat": 4,
 "nbformat_minor": 2
}
