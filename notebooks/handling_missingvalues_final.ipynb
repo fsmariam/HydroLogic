{
 "cells": [
  {
   "cell_type": "markdown",
   "id": "359a34af",
   "metadata": {},
   "source": [
    "# Predicting Water Pump Functionality in Tanzania (HydroLogic Project)\n",
    "Authored by Farzaneh Gerami, Subaye Opoku-Acquah & Mariam Farda | \n",
    "March – June 2025"
   ]
  },
  {
   "cell_type": "markdown",
   "id": "9787afa7",
   "metadata": {},
   "source": [
    "# Imports"
   ]
  },
  {
   "cell_type": "code",
   "execution_count": 4280,
   "id": "7a46427f",
   "metadata": {},
   "outputs": [],
   "source": [
    "# Imports\n",
    "import pandas as pd\n",
    "import numpy as np\n",
    "import matplotlib.pyplot as plt\n",
    "import seaborn as sns\n",
    "\n",
    "from scipy import stats\n",
    "from scipy.stats import f_oneway\n",
    "\n",
    "import math\n",
    "\n",
    "import datetime\n",
    "\n",
    "from sklearn.impute import SimpleImputer\n",
    "from sklearn.preprocessing import StandardScaler\n",
    "from sklearn.base import BaseEstimator, TransformerMixin\n",
    "from sklearn.pipeline import Pipeline\n",
    "from sklearn.preprocessing import StandardScaler, OneHotEncoder\n",
    "from sklearn.compose import ColumnTransformer\n",
    "from sklearn.model_selection import train_test_split\n",
    "from sklearn.feature_selection import mutual_info_classif\n",
    "from sklearn.preprocessing import LabelEncoder\n",
    "from sklearn.feature_selection import f_classif\n",
    "from sklearn.preprocessing import LabelEncoder, OrdinalEncoder\n",
    "from sklearn.experimental import enable_iterative_imputer  # noqa\n",
    "from sklearn.impute import IterativeImputer\n",
    "from sklearn.ensemble import RandomForestRegressor\n",
    "from sklearn.experimental import enable_iterative_imputer\n",
    "from sklearn.linear_model import BayesianRidge\n",
    "from sklearn.preprocessing import LabelEncoder\n",
    "from sklearn.linear_model import LogisticRegression\n",
    "from scipy.stats import chi2_contingency, ttest_ind # checking if the data is random or depends on other\n",
    "\n",
    "import joblib\n"
   ]
  },
  {
   "cell_type": "markdown",
   "id": "6411d448",
   "metadata": {},
   "source": [
    "# Sprint 1 - Data Cleaning and Preprocessing"
   ]
  },
  {
   "cell_type": "markdown",
   "id": "5e7ee6bc",
   "metadata": {},
   "source": [
    "## Read Merged Data"
   ]
  },
  {
   "cell_type": "code",
   "execution_count": 4281,
   "id": "f5ff7595",
   "metadata": {},
   "outputs": [
    {
     "data": {
      "text/html": [
       "<div>\n",
       "<style scoped>\n",
       "    .dataframe tbody tr th:only-of-type {\n",
       "        vertical-align: middle;\n",
       "    }\n",
       "\n",
       "    .dataframe tbody tr th {\n",
       "        vertical-align: top;\n",
       "    }\n",
       "\n",
       "    .dataframe thead th {\n",
       "        text-align: right;\n",
       "    }\n",
       "</style>\n",
       "<table border=\"1\" class=\"dataframe\">\n",
       "  <thead>\n",
       "    <tr style=\"text-align: right;\">\n",
       "      <th></th>\n",
       "      <th>id</th>\n",
       "      <th>amount_tsh</th>\n",
       "      <th>date_recorded</th>\n",
       "      <th>funder</th>\n",
       "      <th>gps_height</th>\n",
       "      <th>installer</th>\n",
       "      <th>longitude</th>\n",
       "      <th>latitude</th>\n",
       "      <th>wpt_name</th>\n",
       "      <th>num_private</th>\n",
       "      <th>...</th>\n",
       "      <th>water_quality</th>\n",
       "      <th>quality_group</th>\n",
       "      <th>quantity</th>\n",
       "      <th>quantity_group</th>\n",
       "      <th>source</th>\n",
       "      <th>source_type</th>\n",
       "      <th>source_class</th>\n",
       "      <th>waterpoint_type</th>\n",
       "      <th>waterpoint_type_group</th>\n",
       "      <th>status_group</th>\n",
       "    </tr>\n",
       "  </thead>\n",
       "  <tbody>\n",
       "    <tr>\n",
       "      <th>0</th>\n",
       "      <td>69572</td>\n",
       "      <td>6000.0</td>\n",
       "      <td>2011-03-14</td>\n",
       "      <td>Roman</td>\n",
       "      <td>1390</td>\n",
       "      <td>Roman</td>\n",
       "      <td>34.938093</td>\n",
       "      <td>-9.856322</td>\n",
       "      <td>none</td>\n",
       "      <td>0</td>\n",
       "      <td>...</td>\n",
       "      <td>soft</td>\n",
       "      <td>good</td>\n",
       "      <td>enough</td>\n",
       "      <td>enough</td>\n",
       "      <td>spring</td>\n",
       "      <td>spring</td>\n",
       "      <td>groundwater</td>\n",
       "      <td>communal standpipe</td>\n",
       "      <td>communal standpipe</td>\n",
       "      <td>functional</td>\n",
       "    </tr>\n",
       "    <tr>\n",
       "      <th>1</th>\n",
       "      <td>8776</td>\n",
       "      <td>0.0</td>\n",
       "      <td>2013-03-06</td>\n",
       "      <td>Grumeti</td>\n",
       "      <td>1399</td>\n",
       "      <td>GRUMETI</td>\n",
       "      <td>34.698766</td>\n",
       "      <td>-2.147466</td>\n",
       "      <td>Zahanati</td>\n",
       "      <td>0</td>\n",
       "      <td>...</td>\n",
       "      <td>soft</td>\n",
       "      <td>good</td>\n",
       "      <td>insufficient</td>\n",
       "      <td>insufficient</td>\n",
       "      <td>rainwater harvesting</td>\n",
       "      <td>rainwater harvesting</td>\n",
       "      <td>surface</td>\n",
       "      <td>communal standpipe</td>\n",
       "      <td>communal standpipe</td>\n",
       "      <td>functional</td>\n",
       "    </tr>\n",
       "    <tr>\n",
       "      <th>2</th>\n",
       "      <td>34310</td>\n",
       "      <td>25.0</td>\n",
       "      <td>2013-02-25</td>\n",
       "      <td>Lottery Club</td>\n",
       "      <td>686</td>\n",
       "      <td>World vision</td>\n",
       "      <td>37.460664</td>\n",
       "      <td>-3.821329</td>\n",
       "      <td>Kwa Mahundi</td>\n",
       "      <td>0</td>\n",
       "      <td>...</td>\n",
       "      <td>soft</td>\n",
       "      <td>good</td>\n",
       "      <td>enough</td>\n",
       "      <td>enough</td>\n",
       "      <td>dam</td>\n",
       "      <td>dam</td>\n",
       "      <td>surface</td>\n",
       "      <td>communal standpipe multiple</td>\n",
       "      <td>communal standpipe</td>\n",
       "      <td>functional</td>\n",
       "    </tr>\n",
       "    <tr>\n",
       "      <th>3</th>\n",
       "      <td>67743</td>\n",
       "      <td>0.0</td>\n",
       "      <td>2013-01-28</td>\n",
       "      <td>Unicef</td>\n",
       "      <td>263</td>\n",
       "      <td>UNICEF</td>\n",
       "      <td>38.486161</td>\n",
       "      <td>-11.155298</td>\n",
       "      <td>Zahanati Ya Nanyumbu</td>\n",
       "      <td>0</td>\n",
       "      <td>...</td>\n",
       "      <td>soft</td>\n",
       "      <td>good</td>\n",
       "      <td>dry</td>\n",
       "      <td>dry</td>\n",
       "      <td>machine dbh</td>\n",
       "      <td>borehole</td>\n",
       "      <td>groundwater</td>\n",
       "      <td>communal standpipe multiple</td>\n",
       "      <td>communal standpipe</td>\n",
       "      <td>non functional</td>\n",
       "    </tr>\n",
       "    <tr>\n",
       "      <th>4</th>\n",
       "      <td>19728</td>\n",
       "      <td>0.0</td>\n",
       "      <td>2011-07-13</td>\n",
       "      <td>Action In A</td>\n",
       "      <td>0</td>\n",
       "      <td>Artisan</td>\n",
       "      <td>31.130847</td>\n",
       "      <td>-1.825359</td>\n",
       "      <td>Shuleni</td>\n",
       "      <td>0</td>\n",
       "      <td>...</td>\n",
       "      <td>soft</td>\n",
       "      <td>good</td>\n",
       "      <td>seasonal</td>\n",
       "      <td>seasonal</td>\n",
       "      <td>rainwater harvesting</td>\n",
       "      <td>rainwater harvesting</td>\n",
       "      <td>surface</td>\n",
       "      <td>communal standpipe</td>\n",
       "      <td>communal standpipe</td>\n",
       "      <td>functional</td>\n",
       "    </tr>\n",
       "  </tbody>\n",
       "</table>\n",
       "<p>5 rows × 41 columns</p>\n",
       "</div>"
      ],
      "text/plain": [
       "      id  amount_tsh date_recorded        funder  gps_height     installer  \\\n",
       "0  69572      6000.0    2011-03-14         Roman        1390         Roman   \n",
       "1   8776         0.0    2013-03-06       Grumeti        1399       GRUMETI   \n",
       "2  34310        25.0    2013-02-25  Lottery Club         686  World vision   \n",
       "3  67743         0.0    2013-01-28        Unicef         263        UNICEF   \n",
       "4  19728         0.0    2011-07-13   Action In A           0       Artisan   \n",
       "\n",
       "   longitude   latitude              wpt_name  num_private  ... water_quality  \\\n",
       "0  34.938093  -9.856322                  none            0  ...          soft   \n",
       "1  34.698766  -2.147466              Zahanati            0  ...          soft   \n",
       "2  37.460664  -3.821329           Kwa Mahundi            0  ...          soft   \n",
       "3  38.486161 -11.155298  Zahanati Ya Nanyumbu            0  ...          soft   \n",
       "4  31.130847  -1.825359               Shuleni            0  ...          soft   \n",
       "\n",
       "  quality_group      quantity  quantity_group                source  \\\n",
       "0          good        enough          enough                spring   \n",
       "1          good  insufficient    insufficient  rainwater harvesting   \n",
       "2          good        enough          enough                   dam   \n",
       "3          good           dry             dry           machine dbh   \n",
       "4          good      seasonal        seasonal  rainwater harvesting   \n",
       "\n",
       "            source_type source_class              waterpoint_type  \\\n",
       "0                spring  groundwater           communal standpipe   \n",
       "1  rainwater harvesting      surface           communal standpipe   \n",
       "2                   dam      surface  communal standpipe multiple   \n",
       "3              borehole  groundwater  communal standpipe multiple   \n",
       "4  rainwater harvesting      surface           communal standpipe   \n",
       "\n",
       "  waterpoint_type_group    status_group  \n",
       "0    communal standpipe      functional  \n",
       "1    communal standpipe      functional  \n",
       "2    communal standpipe      functional  \n",
       "3    communal standpipe  non functional  \n",
       "4    communal standpipe      functional  \n",
       "\n",
       "[5 rows x 41 columns]"
      ]
     },
     "execution_count": 4281,
     "metadata": {},
     "output_type": "execute_result"
    }
   ],
   "source": [
    "# Read Merged data as an original data\n",
    "url_merge_data = \"../data/processed/Merged_Training_Set.csv\"\n",
    "df_train_original = pd.read_csv(url_merge_data)\n",
    "df_train_original.head()"
   ]
  },
  {
   "cell_type": "code",
   "execution_count": 4282,
   "id": "cfc45056",
   "metadata": {},
   "outputs": [
    {
     "data": {
      "text/plain": [
       "(59400, 41)"
      ]
     },
     "execution_count": 4282,
     "metadata": {},
     "output_type": "execute_result"
    }
   ],
   "source": [
    "df_train_original.shape"
   ]
  },
  {
   "cell_type": "markdown",
   "id": "16aa6b81",
   "metadata": {},
   "source": [
    "# Split the data to 80% train and 20%validate"
   ]
  },
  {
   "cell_type": "code",
   "execution_count": 4283,
   "id": "954ec75b",
   "metadata": {},
   "outputs": [],
   "source": [
    "# split using train_test_split with shuffled=False to preserve order\n",
    "train_size = int(len(df_train_original) * 0.8)\n",
    "df_train = df_train_original.iloc[:train_size]\n",
    "df_test = df_train_original.iloc[train_size:]\n",
    "\n",
    "# Save the splits\n",
    "df_train.to_csv(\"../data/processed/Merged_Training_data.csv\", index=False)\n",
    "df_test.to_csv(\"../data/processed/Merged_Test_data.csv\", index=False)"
   ]
  },
  {
   "cell_type": "code",
   "execution_count": 4284,
   "id": "be596d6c",
   "metadata": {},
   "outputs": [
    {
     "data": {
      "text/plain": [
       "(11880, 41)"
      ]
     },
     "execution_count": 4284,
     "metadata": {},
     "output_type": "execute_result"
    }
   ],
   "source": [
    "df_test.shape"
   ]
  },
  {
   "cell_type": "code",
   "execution_count": 4285,
   "id": "dcec5ae9",
   "metadata": {},
   "outputs": [
    {
     "data": {
      "text/plain": [
       "(47520, 41)"
      ]
     },
     "execution_count": 4285,
     "metadata": {},
     "output_type": "execute_result"
    }
   ],
   "source": [
    "df_train.shape"
   ]
  },
  {
   "cell_type": "code",
   "execution_count": 4286,
   "id": "cc1c6b7a",
   "metadata": {},
   "outputs": [
    {
     "data": {
      "text/html": [
       "<div>\n",
       "<style scoped>\n",
       "    .dataframe tbody tr th:only-of-type {\n",
       "        vertical-align: middle;\n",
       "    }\n",
       "\n",
       "    .dataframe tbody tr th {\n",
       "        vertical-align: top;\n",
       "    }\n",
       "\n",
       "    .dataframe thead th {\n",
       "        text-align: right;\n",
       "    }\n",
       "</style>\n",
       "<table border=\"1\" class=\"dataframe\">\n",
       "  <thead>\n",
       "    <tr style=\"text-align: right;\">\n",
       "      <th></th>\n",
       "      <th>id</th>\n",
       "      <th>amount_tsh</th>\n",
       "      <th>date_recorded</th>\n",
       "      <th>funder</th>\n",
       "      <th>gps_height</th>\n",
       "      <th>installer</th>\n",
       "      <th>longitude</th>\n",
       "      <th>latitude</th>\n",
       "      <th>wpt_name</th>\n",
       "      <th>num_private</th>\n",
       "      <th>...</th>\n",
       "      <th>water_quality</th>\n",
       "      <th>quality_group</th>\n",
       "      <th>quantity</th>\n",
       "      <th>quantity_group</th>\n",
       "      <th>source</th>\n",
       "      <th>source_type</th>\n",
       "      <th>source_class</th>\n",
       "      <th>waterpoint_type</th>\n",
       "      <th>waterpoint_type_group</th>\n",
       "      <th>status_group</th>\n",
       "    </tr>\n",
       "  </thead>\n",
       "  <tbody>\n",
       "    <tr>\n",
       "      <th>0</th>\n",
       "      <td>69572</td>\n",
       "      <td>6000.0</td>\n",
       "      <td>2011-03-14</td>\n",
       "      <td>Roman</td>\n",
       "      <td>1390</td>\n",
       "      <td>Roman</td>\n",
       "      <td>34.938093</td>\n",
       "      <td>-9.856322</td>\n",
       "      <td>none</td>\n",
       "      <td>0</td>\n",
       "      <td>...</td>\n",
       "      <td>soft</td>\n",
       "      <td>good</td>\n",
       "      <td>enough</td>\n",
       "      <td>enough</td>\n",
       "      <td>spring</td>\n",
       "      <td>spring</td>\n",
       "      <td>groundwater</td>\n",
       "      <td>communal standpipe</td>\n",
       "      <td>communal standpipe</td>\n",
       "      <td>functional</td>\n",
       "    </tr>\n",
       "    <tr>\n",
       "      <th>1</th>\n",
       "      <td>8776</td>\n",
       "      <td>0.0</td>\n",
       "      <td>2013-03-06</td>\n",
       "      <td>Grumeti</td>\n",
       "      <td>1399</td>\n",
       "      <td>GRUMETI</td>\n",
       "      <td>34.698766</td>\n",
       "      <td>-2.147466</td>\n",
       "      <td>Zahanati</td>\n",
       "      <td>0</td>\n",
       "      <td>...</td>\n",
       "      <td>soft</td>\n",
       "      <td>good</td>\n",
       "      <td>insufficient</td>\n",
       "      <td>insufficient</td>\n",
       "      <td>rainwater harvesting</td>\n",
       "      <td>rainwater harvesting</td>\n",
       "      <td>surface</td>\n",
       "      <td>communal standpipe</td>\n",
       "      <td>communal standpipe</td>\n",
       "      <td>functional</td>\n",
       "    </tr>\n",
       "    <tr>\n",
       "      <th>2</th>\n",
       "      <td>34310</td>\n",
       "      <td>25.0</td>\n",
       "      <td>2013-02-25</td>\n",
       "      <td>Lottery Club</td>\n",
       "      <td>686</td>\n",
       "      <td>World vision</td>\n",
       "      <td>37.460664</td>\n",
       "      <td>-3.821329</td>\n",
       "      <td>Kwa Mahundi</td>\n",
       "      <td>0</td>\n",
       "      <td>...</td>\n",
       "      <td>soft</td>\n",
       "      <td>good</td>\n",
       "      <td>enough</td>\n",
       "      <td>enough</td>\n",
       "      <td>dam</td>\n",
       "      <td>dam</td>\n",
       "      <td>surface</td>\n",
       "      <td>communal standpipe multiple</td>\n",
       "      <td>communal standpipe</td>\n",
       "      <td>functional</td>\n",
       "    </tr>\n",
       "    <tr>\n",
       "      <th>3</th>\n",
       "      <td>67743</td>\n",
       "      <td>0.0</td>\n",
       "      <td>2013-01-28</td>\n",
       "      <td>Unicef</td>\n",
       "      <td>263</td>\n",
       "      <td>UNICEF</td>\n",
       "      <td>38.486161</td>\n",
       "      <td>-11.155298</td>\n",
       "      <td>Zahanati Ya Nanyumbu</td>\n",
       "      <td>0</td>\n",
       "      <td>...</td>\n",
       "      <td>soft</td>\n",
       "      <td>good</td>\n",
       "      <td>dry</td>\n",
       "      <td>dry</td>\n",
       "      <td>machine dbh</td>\n",
       "      <td>borehole</td>\n",
       "      <td>groundwater</td>\n",
       "      <td>communal standpipe multiple</td>\n",
       "      <td>communal standpipe</td>\n",
       "      <td>non functional</td>\n",
       "    </tr>\n",
       "    <tr>\n",
       "      <th>4</th>\n",
       "      <td>19728</td>\n",
       "      <td>0.0</td>\n",
       "      <td>2011-07-13</td>\n",
       "      <td>Action In A</td>\n",
       "      <td>0</td>\n",
       "      <td>Artisan</td>\n",
       "      <td>31.130847</td>\n",
       "      <td>-1.825359</td>\n",
       "      <td>Shuleni</td>\n",
       "      <td>0</td>\n",
       "      <td>...</td>\n",
       "      <td>soft</td>\n",
       "      <td>good</td>\n",
       "      <td>seasonal</td>\n",
       "      <td>seasonal</td>\n",
       "      <td>rainwater harvesting</td>\n",
       "      <td>rainwater harvesting</td>\n",
       "      <td>surface</td>\n",
       "      <td>communal standpipe</td>\n",
       "      <td>communal standpipe</td>\n",
       "      <td>functional</td>\n",
       "    </tr>\n",
       "    <tr>\n",
       "      <th>...</th>\n",
       "      <td>...</td>\n",
       "      <td>...</td>\n",
       "      <td>...</td>\n",
       "      <td>...</td>\n",
       "      <td>...</td>\n",
       "      <td>...</td>\n",
       "      <td>...</td>\n",
       "      <td>...</td>\n",
       "      <td>...</td>\n",
       "      <td>...</td>\n",
       "      <td>...</td>\n",
       "      <td>...</td>\n",
       "      <td>...</td>\n",
       "      <td>...</td>\n",
       "      <td>...</td>\n",
       "      <td>...</td>\n",
       "      <td>...</td>\n",
       "      <td>...</td>\n",
       "      <td>...</td>\n",
       "      <td>...</td>\n",
       "      <td>...</td>\n",
       "    </tr>\n",
       "    <tr>\n",
       "      <th>47515</th>\n",
       "      <td>34684</td>\n",
       "      <td>0.0</td>\n",
       "      <td>2012-10-04</td>\n",
       "      <td>Dwsp</td>\n",
       "      <td>0</td>\n",
       "      <td>DWE</td>\n",
       "      <td>33.457381</td>\n",
       "      <td>-3.552051</td>\n",
       "      <td>Kwa Mzee Hemu</td>\n",
       "      <td>0</td>\n",
       "      <td>...</td>\n",
       "      <td>salty</td>\n",
       "      <td>salty</td>\n",
       "      <td>enough</td>\n",
       "      <td>enough</td>\n",
       "      <td>hand dtw</td>\n",
       "      <td>borehole</td>\n",
       "      <td>groundwater</td>\n",
       "      <td>hand pump</td>\n",
       "      <td>hand pump</td>\n",
       "      <td>functional</td>\n",
       "    </tr>\n",
       "    <tr>\n",
       "      <th>47516</th>\n",
       "      <td>8766</td>\n",
       "      <td>0.0</td>\n",
       "      <td>2013-02-07</td>\n",
       "      <td>Unhcr</td>\n",
       "      <td>1321</td>\n",
       "      <td>TWESA</td>\n",
       "      <td>30.592280</td>\n",
       "      <td>-3.733459</td>\n",
       "      <td>Gwamba Luchenje</td>\n",
       "      <td>0</td>\n",
       "      <td>...</td>\n",
       "      <td>soft</td>\n",
       "      <td>good</td>\n",
       "      <td>enough</td>\n",
       "      <td>enough</td>\n",
       "      <td>river</td>\n",
       "      <td>river/lake</td>\n",
       "      <td>surface</td>\n",
       "      <td>communal standpipe</td>\n",
       "      <td>communal standpipe</td>\n",
       "      <td>functional needs repair</td>\n",
       "    </tr>\n",
       "    <tr>\n",
       "      <th>47517</th>\n",
       "      <td>22662</td>\n",
       "      <td>0.0</td>\n",
       "      <td>2013-02-24</td>\n",
       "      <td>Cdtf</td>\n",
       "      <td>1306</td>\n",
       "      <td>DWE</td>\n",
       "      <td>35.262273</td>\n",
       "      <td>-9.831219</td>\n",
       "      <td>Kwa Stephan</td>\n",
       "      <td>0</td>\n",
       "      <td>...</td>\n",
       "      <td>soft</td>\n",
       "      <td>good</td>\n",
       "      <td>dry</td>\n",
       "      <td>dry</td>\n",
       "      <td>river</td>\n",
       "      <td>river/lake</td>\n",
       "      <td>surface</td>\n",
       "      <td>communal standpipe multiple</td>\n",
       "      <td>communal standpipe</td>\n",
       "      <td>non functional</td>\n",
       "    </tr>\n",
       "    <tr>\n",
       "      <th>47518</th>\n",
       "      <td>39854</td>\n",
       "      <td>50.0</td>\n",
       "      <td>2011-03-23</td>\n",
       "      <td>Parastatal</td>\n",
       "      <td>-13</td>\n",
       "      <td>Da</td>\n",
       "      <td>38.979195</td>\n",
       "      <td>-6.519993</td>\n",
       "      <td>Msikitini</td>\n",
       "      <td>0</td>\n",
       "      <td>...</td>\n",
       "      <td>soft</td>\n",
       "      <td>good</td>\n",
       "      <td>enough</td>\n",
       "      <td>enough</td>\n",
       "      <td>river</td>\n",
       "      <td>river/lake</td>\n",
       "      <td>surface</td>\n",
       "      <td>communal standpipe</td>\n",
       "      <td>communal standpipe</td>\n",
       "      <td>functional</td>\n",
       "    </tr>\n",
       "    <tr>\n",
       "      <th>47519</th>\n",
       "      <td>45078</td>\n",
       "      <td>0.0</td>\n",
       "      <td>2011-08-06</td>\n",
       "      <td>Ministry Of Water</td>\n",
       "      <td>0</td>\n",
       "      <td>DWE</td>\n",
       "      <td>33.420152</td>\n",
       "      <td>-2.795071</td>\n",
       "      <td>Nduha</td>\n",
       "      <td>0</td>\n",
       "      <td>...</td>\n",
       "      <td>soft</td>\n",
       "      <td>good</td>\n",
       "      <td>enough</td>\n",
       "      <td>enough</td>\n",
       "      <td>shallow well</td>\n",
       "      <td>shallow well</td>\n",
       "      <td>groundwater</td>\n",
       "      <td>hand pump</td>\n",
       "      <td>hand pump</td>\n",
       "      <td>functional</td>\n",
       "    </tr>\n",
       "  </tbody>\n",
       "</table>\n",
       "<p>47520 rows × 41 columns</p>\n",
       "</div>"
      ],
      "text/plain": [
       "          id  amount_tsh date_recorded             funder  gps_height  \\\n",
       "0      69572      6000.0    2011-03-14              Roman        1390   \n",
       "1       8776         0.0    2013-03-06            Grumeti        1399   \n",
       "2      34310        25.0    2013-02-25       Lottery Club         686   \n",
       "3      67743         0.0    2013-01-28             Unicef         263   \n",
       "4      19728         0.0    2011-07-13        Action In A           0   \n",
       "...      ...         ...           ...                ...         ...   \n",
       "47515  34684         0.0    2012-10-04               Dwsp           0   \n",
       "47516   8766         0.0    2013-02-07              Unhcr        1321   \n",
       "47517  22662         0.0    2013-02-24               Cdtf        1306   \n",
       "47518  39854        50.0    2011-03-23         Parastatal         -13   \n",
       "47519  45078         0.0    2011-08-06  Ministry Of Water           0   \n",
       "\n",
       "          installer  longitude   latitude              wpt_name  num_private  \\\n",
       "0             Roman  34.938093  -9.856322                  none            0   \n",
       "1           GRUMETI  34.698766  -2.147466              Zahanati            0   \n",
       "2      World vision  37.460664  -3.821329           Kwa Mahundi            0   \n",
       "3            UNICEF  38.486161 -11.155298  Zahanati Ya Nanyumbu            0   \n",
       "4           Artisan  31.130847  -1.825359               Shuleni            0   \n",
       "...             ...        ...        ...                   ...          ...   \n",
       "47515           DWE  33.457381  -3.552051         Kwa Mzee Hemu            0   \n",
       "47516         TWESA  30.592280  -3.733459       Gwamba Luchenje            0   \n",
       "47517           DWE  35.262273  -9.831219           Kwa Stephan            0   \n",
       "47518            Da  38.979195  -6.519993             Msikitini            0   \n",
       "47519           DWE  33.420152  -2.795071                 Nduha            0   \n",
       "\n",
       "       ... water_quality quality_group      quantity  quantity_group  \\\n",
       "0      ...          soft          good        enough          enough   \n",
       "1      ...          soft          good  insufficient    insufficient   \n",
       "2      ...          soft          good        enough          enough   \n",
       "3      ...          soft          good           dry             dry   \n",
       "4      ...          soft          good      seasonal        seasonal   \n",
       "...    ...           ...           ...           ...             ...   \n",
       "47515  ...         salty         salty        enough          enough   \n",
       "47516  ...          soft          good        enough          enough   \n",
       "47517  ...          soft          good           dry             dry   \n",
       "47518  ...          soft          good        enough          enough   \n",
       "47519  ...          soft          good        enough          enough   \n",
       "\n",
       "                     source           source_type source_class  \\\n",
       "0                    spring                spring  groundwater   \n",
       "1      rainwater harvesting  rainwater harvesting      surface   \n",
       "2                       dam                   dam      surface   \n",
       "3               machine dbh              borehole  groundwater   \n",
       "4      rainwater harvesting  rainwater harvesting      surface   \n",
       "...                     ...                   ...          ...   \n",
       "47515              hand dtw              borehole  groundwater   \n",
       "47516                 river            river/lake      surface   \n",
       "47517                 river            river/lake      surface   \n",
       "47518                 river            river/lake      surface   \n",
       "47519          shallow well          shallow well  groundwater   \n",
       "\n",
       "                   waterpoint_type waterpoint_type_group  \\\n",
       "0               communal standpipe    communal standpipe   \n",
       "1               communal standpipe    communal standpipe   \n",
       "2      communal standpipe multiple    communal standpipe   \n",
       "3      communal standpipe multiple    communal standpipe   \n",
       "4               communal standpipe    communal standpipe   \n",
       "...                            ...                   ...   \n",
       "47515                    hand pump             hand pump   \n",
       "47516           communal standpipe    communal standpipe   \n",
       "47517  communal standpipe multiple    communal standpipe   \n",
       "47518           communal standpipe    communal standpipe   \n",
       "47519                    hand pump             hand pump   \n",
       "\n",
       "                  status_group  \n",
       "0                   functional  \n",
       "1                   functional  \n",
       "2                   functional  \n",
       "3               non functional  \n",
       "4                   functional  \n",
       "...                        ...  \n",
       "47515               functional  \n",
       "47516  functional needs repair  \n",
       "47517           non functional  \n",
       "47518               functional  \n",
       "47519               functional  \n",
       "\n",
       "[47520 rows x 41 columns]"
      ]
     },
     "execution_count": 4286,
     "metadata": {},
     "output_type": "execute_result"
    }
   ],
   "source": [
    "# make a copy of the original dataset\n",
    "df_train = df_train.copy()\n",
    "df_train"
   ]
  },
  {
   "cell_type": "code",
   "execution_count": 4287,
   "id": "ff9adb6c",
   "metadata": {},
   "outputs": [],
   "source": [
    "# df_train.dtypes"
   ]
  },
  {
   "cell_type": "markdown",
   "id": "fd5b4c2e",
   "metadata": {},
   "source": [
    "## Feature Summary"
   ]
  },
  {
   "cell_type": "code",
   "execution_count": 4288,
   "id": "6ee132ab",
   "metadata": {},
   "outputs": [
    {
     "data": {
      "text/html": [
       "<div>\n",
       "<style scoped>\n",
       "    .dataframe tbody tr th:only-of-type {\n",
       "        vertical-align: middle;\n",
       "    }\n",
       "\n",
       "    .dataframe tbody tr th {\n",
       "        vertical-align: top;\n",
       "    }\n",
       "\n",
       "    .dataframe thead th {\n",
       "        text-align: right;\n",
       "    }\n",
       "</style>\n",
       "<table border=\"1\" class=\"dataframe\">\n",
       "  <thead>\n",
       "    <tr style=\"text-align: right;\">\n",
       "      <th></th>\n",
       "      <th>Data Type</th>\n",
       "      <th>Missing Values</th>\n",
       "      <th>Zero Values</th>\n",
       "      <th>Unique Values</th>\n",
       "      <th>% Missing</th>\n",
       "      <th>Feature Type</th>\n",
       "    </tr>\n",
       "  </thead>\n",
       "  <tbody>\n",
       "    <tr>\n",
       "      <th>scheme_name</th>\n",
       "      <td>object</td>\n",
       "      <td>22523</td>\n",
       "      <td>0</td>\n",
       "      <td>2513</td>\n",
       "      <td>47.396886</td>\n",
       "      <td>Categorical</td>\n",
       "    </tr>\n",
       "    <tr>\n",
       "      <th>scheme_management</th>\n",
       "      <td>object</td>\n",
       "      <td>3125</td>\n",
       "      <td>0</td>\n",
       "      <td>12</td>\n",
       "      <td>6.576178</td>\n",
       "      <td>Categorical</td>\n",
       "    </tr>\n",
       "    <tr>\n",
       "      <th>installer</th>\n",
       "      <td>object</td>\n",
       "      <td>2909</td>\n",
       "      <td>0</td>\n",
       "      <td>1901</td>\n",
       "      <td>6.121633</td>\n",
       "      <td>Categorical</td>\n",
       "    </tr>\n",
       "    <tr>\n",
       "      <th>funder</th>\n",
       "      <td>object</td>\n",
       "      <td>2889</td>\n",
       "      <td>0</td>\n",
       "      <td>1679</td>\n",
       "      <td>6.079545</td>\n",
       "      <td>Categorical</td>\n",
       "    </tr>\n",
       "    <tr>\n",
       "      <th>public_meeting</th>\n",
       "      <td>object</td>\n",
       "      <td>2651</td>\n",
       "      <td>4086</td>\n",
       "      <td>2</td>\n",
       "      <td>5.578704</td>\n",
       "      <td>Categorical</td>\n",
       "    </tr>\n",
       "    <tr>\n",
       "      <th>permit</th>\n",
       "      <td>object</td>\n",
       "      <td>2426</td>\n",
       "      <td>14044</td>\n",
       "      <td>2</td>\n",
       "      <td>5.105219</td>\n",
       "      <td>Categorical</td>\n",
       "    </tr>\n",
       "    <tr>\n",
       "      <th>subvillage</th>\n",
       "      <td>object</td>\n",
       "      <td>298</td>\n",
       "      <td>0</td>\n",
       "      <td>17242</td>\n",
       "      <td>0.627104</td>\n",
       "      <td>Categorical</td>\n",
       "    </tr>\n",
       "    <tr>\n",
       "      <th>payment</th>\n",
       "      <td>object</td>\n",
       "      <td>0</td>\n",
       "      <td>0</td>\n",
       "      <td>7</td>\n",
       "      <td>0.000000</td>\n",
       "      <td>Categorical</td>\n",
       "    </tr>\n",
       "    <tr>\n",
       "      <th>waterpoint_type_group</th>\n",
       "      <td>object</td>\n",
       "      <td>0</td>\n",
       "      <td>0</td>\n",
       "      <td>6</td>\n",
       "      <td>0.000000</td>\n",
       "      <td>Categorical</td>\n",
       "    </tr>\n",
       "    <tr>\n",
       "      <th>extraction_type_group</th>\n",
       "      <td>object</td>\n",
       "      <td>0</td>\n",
       "      <td>0</td>\n",
       "      <td>13</td>\n",
       "      <td>0.000000</td>\n",
       "      <td>Categorical</td>\n",
       "    </tr>\n",
       "    <tr>\n",
       "      <th>extraction_type_class</th>\n",
       "      <td>object</td>\n",
       "      <td>0</td>\n",
       "      <td>0</td>\n",
       "      <td>7</td>\n",
       "      <td>0.000000</td>\n",
       "      <td>Categorical</td>\n",
       "    </tr>\n",
       "    <tr>\n",
       "      <th>waterpoint_type</th>\n",
       "      <td>object</td>\n",
       "      <td>0</td>\n",
       "      <td>0</td>\n",
       "      <td>7</td>\n",
       "      <td>0.000000</td>\n",
       "      <td>Categorical</td>\n",
       "    </tr>\n",
       "    <tr>\n",
       "      <th>management</th>\n",
       "      <td>object</td>\n",
       "      <td>0</td>\n",
       "      <td>0</td>\n",
       "      <td>12</td>\n",
       "      <td>0.000000</td>\n",
       "      <td>Categorical</td>\n",
       "    </tr>\n",
       "    <tr>\n",
       "      <th>management_group</th>\n",
       "      <td>object</td>\n",
       "      <td>0</td>\n",
       "      <td>0</td>\n",
       "      <td>5</td>\n",
       "      <td>0.000000</td>\n",
       "      <td>Categorical</td>\n",
       "    </tr>\n",
       "    <tr>\n",
       "      <th>source_class</th>\n",
       "      <td>object</td>\n",
       "      <td>0</td>\n",
       "      <td>0</td>\n",
       "      <td>3</td>\n",
       "      <td>0.000000</td>\n",
       "      <td>Categorical</td>\n",
       "    </tr>\n",
       "    <tr>\n",
       "      <th>source_type</th>\n",
       "      <td>object</td>\n",
       "      <td>0</td>\n",
       "      <td>0</td>\n",
       "      <td>7</td>\n",
       "      <td>0.000000</td>\n",
       "      <td>Categorical</td>\n",
       "    </tr>\n",
       "    <tr>\n",
       "      <th>water_quality</th>\n",
       "      <td>object</td>\n",
       "      <td>0</td>\n",
       "      <td>0</td>\n",
       "      <td>8</td>\n",
       "      <td>0.000000</td>\n",
       "      <td>Categorical</td>\n",
       "    </tr>\n",
       "    <tr>\n",
       "      <th>quality_group</th>\n",
       "      <td>object</td>\n",
       "      <td>0</td>\n",
       "      <td>0</td>\n",
       "      <td>6</td>\n",
       "      <td>0.000000</td>\n",
       "      <td>Categorical</td>\n",
       "    </tr>\n",
       "    <tr>\n",
       "      <th>extraction_type</th>\n",
       "      <td>object</td>\n",
       "      <td>0</td>\n",
       "      <td>0</td>\n",
       "      <td>18</td>\n",
       "      <td>0.000000</td>\n",
       "      <td>Categorical</td>\n",
       "    </tr>\n",
       "    <tr>\n",
       "      <th>quantity</th>\n",
       "      <td>object</td>\n",
       "      <td>0</td>\n",
       "      <td>0</td>\n",
       "      <td>5</td>\n",
       "      <td>0.000000</td>\n",
       "      <td>Categorical</td>\n",
       "    </tr>\n",
       "    <tr>\n",
       "      <th>quantity_group</th>\n",
       "      <td>object</td>\n",
       "      <td>0</td>\n",
       "      <td>0</td>\n",
       "      <td>5</td>\n",
       "      <td>0.000000</td>\n",
       "      <td>Categorical</td>\n",
       "    </tr>\n",
       "    <tr>\n",
       "      <th>source</th>\n",
       "      <td>object</td>\n",
       "      <td>0</td>\n",
       "      <td>0</td>\n",
       "      <td>10</td>\n",
       "      <td>0.000000</td>\n",
       "      <td>Categorical</td>\n",
       "    </tr>\n",
       "    <tr>\n",
       "      <th>payment_type</th>\n",
       "      <td>object</td>\n",
       "      <td>0</td>\n",
       "      <td>0</td>\n",
       "      <td>7</td>\n",
       "      <td>0.000000</td>\n",
       "      <td>Categorical</td>\n",
       "    </tr>\n",
       "    <tr>\n",
       "      <th>id</th>\n",
       "      <td>int64</td>\n",
       "      <td>0</td>\n",
       "      <td>1</td>\n",
       "      <td>47520</td>\n",
       "      <td>0.000000</td>\n",
       "      <td>Numerical</td>\n",
       "    </tr>\n",
       "    <tr>\n",
       "      <th>construction_year</th>\n",
       "      <td>int64</td>\n",
       "      <td>0</td>\n",
       "      <td>16600</td>\n",
       "      <td>55</td>\n",
       "      <td>0.000000</td>\n",
       "      <td>Numerical</td>\n",
       "    </tr>\n",
       "    <tr>\n",
       "      <th>basin</th>\n",
       "      <td>object</td>\n",
       "      <td>0</td>\n",
       "      <td>0</td>\n",
       "      <td>9</td>\n",
       "      <td>0.000000</td>\n",
       "      <td>Categorical</td>\n",
       "    </tr>\n",
       "    <tr>\n",
       "      <th>date_recorded</th>\n",
       "      <td>object</td>\n",
       "      <td>0</td>\n",
       "      <td>0</td>\n",
       "      <td>352</td>\n",
       "      <td>0.000000</td>\n",
       "      <td>Categorical</td>\n",
       "    </tr>\n",
       "    <tr>\n",
       "      <th>gps_height</th>\n",
       "      <td>int64</td>\n",
       "      <td>0</td>\n",
       "      <td>16366</td>\n",
       "      <td>2390</td>\n",
       "      <td>0.000000</td>\n",
       "      <td>Numerical</td>\n",
       "    </tr>\n",
       "    <tr>\n",
       "      <th>longitude</th>\n",
       "      <td>float64</td>\n",
       "      <td>0</td>\n",
       "      <td>1448</td>\n",
       "      <td>46031</td>\n",
       "      <td>0.000000</td>\n",
       "      <td>Numerical</td>\n",
       "    </tr>\n",
       "    <tr>\n",
       "      <th>latitude</th>\n",
       "      <td>float64</td>\n",
       "      <td>0</td>\n",
       "      <td>0</td>\n",
       "      <td>46030</td>\n",
       "      <td>0.000000</td>\n",
       "      <td>Numerical</td>\n",
       "    </tr>\n",
       "    <tr>\n",
       "      <th>wpt_name</th>\n",
       "      <td>object</td>\n",
       "      <td>0</td>\n",
       "      <td>0</td>\n",
       "      <td>30761</td>\n",
       "      <td>0.000000</td>\n",
       "      <td>Categorical</td>\n",
       "    </tr>\n",
       "    <tr>\n",
       "      <th>num_private</th>\n",
       "      <td>int64</td>\n",
       "      <td>0</td>\n",
       "      <td>46915</td>\n",
       "      <td>62</td>\n",
       "      <td>0.000000</td>\n",
       "      <td>Numerical</td>\n",
       "    </tr>\n",
       "    <tr>\n",
       "      <th>region</th>\n",
       "      <td>object</td>\n",
       "      <td>0</td>\n",
       "      <td>0</td>\n",
       "      <td>21</td>\n",
       "      <td>0.000000</td>\n",
       "      <td>Categorical</td>\n",
       "    </tr>\n",
       "    <tr>\n",
       "      <th>amount_tsh</th>\n",
       "      <td>float64</td>\n",
       "      <td>0</td>\n",
       "      <td>33251</td>\n",
       "      <td>93</td>\n",
       "      <td>0.000000</td>\n",
       "      <td>Numerical</td>\n",
       "    </tr>\n",
       "    <tr>\n",
       "      <th>region_code</th>\n",
       "      <td>int64</td>\n",
       "      <td>0</td>\n",
       "      <td>0</td>\n",
       "      <td>27</td>\n",
       "      <td>0.000000</td>\n",
       "      <td>Numerical</td>\n",
       "    </tr>\n",
       "    <tr>\n",
       "      <th>district_code</th>\n",
       "      <td>int64</td>\n",
       "      <td>0</td>\n",
       "      <td>19</td>\n",
       "      <td>20</td>\n",
       "      <td>0.000000</td>\n",
       "      <td>Numerical</td>\n",
       "    </tr>\n",
       "    <tr>\n",
       "      <th>lga</th>\n",
       "      <td>object</td>\n",
       "      <td>0</td>\n",
       "      <td>0</td>\n",
       "      <td>125</td>\n",
       "      <td>0.000000</td>\n",
       "      <td>Categorical</td>\n",
       "    </tr>\n",
       "    <tr>\n",
       "      <th>ward</th>\n",
       "      <td>object</td>\n",
       "      <td>0</td>\n",
       "      <td>0</td>\n",
       "      <td>2087</td>\n",
       "      <td>0.000000</td>\n",
       "      <td>Categorical</td>\n",
       "    </tr>\n",
       "    <tr>\n",
       "      <th>population</th>\n",
       "      <td>int64</td>\n",
       "      <td>0</td>\n",
       "      <td>17135</td>\n",
       "      <td>968</td>\n",
       "      <td>0.000000</td>\n",
       "      <td>Numerical</td>\n",
       "    </tr>\n",
       "    <tr>\n",
       "      <th>recorded_by</th>\n",
       "      <td>object</td>\n",
       "      <td>0</td>\n",
       "      <td>0</td>\n",
       "      <td>1</td>\n",
       "      <td>0.000000</td>\n",
       "      <td>Categorical</td>\n",
       "    </tr>\n",
       "    <tr>\n",
       "      <th>status_group</th>\n",
       "      <td>object</td>\n",
       "      <td>0</td>\n",
       "      <td>0</td>\n",
       "      <td>3</td>\n",
       "      <td>0.000000</td>\n",
       "      <td>Categorical</td>\n",
       "    </tr>\n",
       "  </tbody>\n",
       "</table>\n",
       "</div>"
      ],
      "text/plain": [
       "                      Data Type  Missing Values  Zero Values  Unique Values  \\\n",
       "scheme_name              object           22523            0           2513   \n",
       "scheme_management        object            3125            0             12   \n",
       "installer                object            2909            0           1901   \n",
       "funder                   object            2889            0           1679   \n",
       "public_meeting           object            2651         4086              2   \n",
       "permit                   object            2426        14044              2   \n",
       "subvillage               object             298            0          17242   \n",
       "payment                  object               0            0              7   \n",
       "waterpoint_type_group    object               0            0              6   \n",
       "extraction_type_group    object               0            0             13   \n",
       "extraction_type_class    object               0            0              7   \n",
       "waterpoint_type          object               0            0              7   \n",
       "management               object               0            0             12   \n",
       "management_group         object               0            0              5   \n",
       "source_class             object               0            0              3   \n",
       "source_type              object               0            0              7   \n",
       "water_quality            object               0            0              8   \n",
       "quality_group            object               0            0              6   \n",
       "extraction_type          object               0            0             18   \n",
       "quantity                 object               0            0              5   \n",
       "quantity_group           object               0            0              5   \n",
       "source                   object               0            0             10   \n",
       "payment_type             object               0            0              7   \n",
       "id                        int64               0            1          47520   \n",
       "construction_year         int64               0        16600             55   \n",
       "basin                    object               0            0              9   \n",
       "date_recorded            object               0            0            352   \n",
       "gps_height                int64               0        16366           2390   \n",
       "longitude               float64               0         1448          46031   \n",
       "latitude                float64               0            0          46030   \n",
       "wpt_name                 object               0            0          30761   \n",
       "num_private               int64               0        46915             62   \n",
       "region                   object               0            0             21   \n",
       "amount_tsh              float64               0        33251             93   \n",
       "region_code               int64               0            0             27   \n",
       "district_code             int64               0           19             20   \n",
       "lga                      object               0            0            125   \n",
       "ward                     object               0            0           2087   \n",
       "population                int64               0        17135            968   \n",
       "recorded_by              object               0            0              1   \n",
       "status_group             object               0            0              3   \n",
       "\n",
       "                       % Missing Feature Type  \n",
       "scheme_name            47.396886  Categorical  \n",
       "scheme_management       6.576178  Categorical  \n",
       "installer               6.121633  Categorical  \n",
       "funder                  6.079545  Categorical  \n",
       "public_meeting          5.578704  Categorical  \n",
       "permit                  5.105219  Categorical  \n",
       "subvillage              0.627104  Categorical  \n",
       "payment                 0.000000  Categorical  \n",
       "waterpoint_type_group   0.000000  Categorical  \n",
       "extraction_type_group   0.000000  Categorical  \n",
       "extraction_type_class   0.000000  Categorical  \n",
       "waterpoint_type         0.000000  Categorical  \n",
       "management              0.000000  Categorical  \n",
       "management_group        0.000000  Categorical  \n",
       "source_class            0.000000  Categorical  \n",
       "source_type             0.000000  Categorical  \n",
       "water_quality           0.000000  Categorical  \n",
       "quality_group           0.000000  Categorical  \n",
       "extraction_type         0.000000  Categorical  \n",
       "quantity                0.000000  Categorical  \n",
       "quantity_group          0.000000  Categorical  \n",
       "source                  0.000000  Categorical  \n",
       "payment_type            0.000000  Categorical  \n",
       "id                      0.000000    Numerical  \n",
       "construction_year       0.000000    Numerical  \n",
       "basin                   0.000000  Categorical  \n",
       "date_recorded           0.000000  Categorical  \n",
       "gps_height              0.000000    Numerical  \n",
       "longitude               0.000000    Numerical  \n",
       "latitude                0.000000    Numerical  \n",
       "wpt_name                0.000000  Categorical  \n",
       "num_private             0.000000    Numerical  \n",
       "region                  0.000000  Categorical  \n",
       "amount_tsh              0.000000    Numerical  \n",
       "region_code             0.000000    Numerical  \n",
       "district_code           0.000000    Numerical  \n",
       "lga                     0.000000  Categorical  \n",
       "ward                    0.000000  Categorical  \n",
       "population              0.000000    Numerical  \n",
       "recorded_by             0.000000  Categorical  \n",
       "status_group            0.000000  Categorical  "
      ]
     },
     "execution_count": 4288,
     "metadata": {},
     "output_type": "execute_result"
    }
   ],
   "source": [
    "# Basic summary statics\n",
    "def feature_summary(df):\n",
    "    summary = pd.DataFrame({\n",
    "        'Data Type': df.dtypes,\n",
    "        'Missing Values': df.isnull().sum(),\n",
    "        'Zero Values': (df == 0).sum(),\n",
    "        'Unique Values': df.nunique()\n",
    "    })\n",
    "    # Add Percent of Missing Values\n",
    "    summary['% Missing'] = (summary['Missing Values'] / len(df)) * 100\n",
    "    \n",
    "    # Classify Feature Type\n",
    "    def classify_feature(col):\n",
    "        if df[col].dtype == 'object':\n",
    "            return 'Categorical'\n",
    "        elif df[col].dtype in ['int64', 'float64']:\n",
    "            if df[col].nunique() < 15:\n",
    "                return 'Ordinal/Categorical'\n",
    "            return 'Numerical'\n",
    "        elif df[col].dtype == 'bool':\n",
    "            return 'Boolean'\n",
    "        elif 'date' in col:\n",
    "            return 'Date'\n",
    "        else:\n",
    "            return 'Other'\n",
    "    # Applies the classifier to each column.\n",
    "    summary['Feature Type'] = summary.index.to_series().apply(classify_feature)\n",
    "    return summary.sort_values(by='Missing Values', ascending=False)\n",
    "\n",
    "# Run the summary\n",
    "feature_summary(df_train)\n"
   ]
  },
  {
   "cell_type": "code",
   "execution_count": 4289,
   "id": "54f67c8c",
   "metadata": {},
   "outputs": [
    {
     "name": "stdout",
     "output_type": "stream",
     "text": [
      "Columns with missing values:\n",
      "['scheme_name', 'scheme_management', 'installer', 'funder', 'public_meeting', 'permit', 'subvillage']\n"
     ]
    }
   ],
   "source": [
    "# make a list of the columns with missing values\n",
    "summary = feature_summary(df_train)\n",
    "\n",
    "missing_columns = summary[summary['Missing Values'] > 0].index.tolist()\n",
    "print(\"Columns with missing values:\")\n",
    "print(missing_columns)\n"
   ]
  },
  {
   "cell_type": "markdown",
   "id": "de0729f9",
   "metadata": {},
   "source": [
    "## Convert date_recorded to datetime"
   ]
  },
  {
   "cell_type": "code",
   "execution_count": 4290,
   "id": "9aa43c14",
   "metadata": {},
   "outputs": [],
   "source": [
    "# Convert date_recorded to datetime\n",
    "df_train['date_recorded'] = pd.to_datetime(df_train['date_recorded'], errors='coerce')\n",
    "\n",
    "# Remove invalid years\n",
    "df_train.loc[df_train['construction_year'] < 1900, 'construction_year'] = pd.NA\n",
    "\n",
    "# Convert the year into datetime (January 1st of the year)\n",
    "df_train['construction_year'] = pd.to_datetime(\n",
    "    df_train['construction_year'], format='%Y', errors='coerce'\n",
    ")"
   ]
  },
  {
   "cell_type": "code",
   "execution_count": 4291,
   "id": "5a592a39",
   "metadata": {},
   "outputs": [],
   "source": [
    "# Extract date features\n",
    "df_train['year_recorded'] = df_train['date_recorded'].dt.year\n",
    "df_train['month_recorded'] = df_train['date_recorded'].dt.month\n",
    "df_train['dayofweek_recorded'] = df_train['date_recorded'].dt.dayofweek\n"
   ]
  },
  {
   "cell_type": "markdown",
   "id": "22e2b88a",
   "metadata": {},
   "source": [
    "# Clean and Convert public_meeting\n"
   ]
  },
  {
   "cell_type": "code",
   "execution_count": 4292,
   "id": "207233d0",
   "metadata": {},
   "outputs": [],
   "source": [
    "# Convert to string, clean casing and spaces, then map to booleans\n",
    "df_train['public_meeting'] = df_train['public_meeting'].astype(str).str.strip().str.lower()\n",
    "df_train['public_meeting'] = df_train['public_meeting'].map({'true': True, 'false': False})\n",
    "df_train['public_meeting'] = df_train['public_meeting'].astype('boolean')"
   ]
  },
  {
   "cell_type": "markdown",
   "id": "d0b20ca3",
   "metadata": {},
   "source": [
    "## Clean and Convert permit to boolean\n"
   ]
  },
  {
   "cell_type": "code",
   "execution_count": 4293,
   "id": "e4f5b932",
   "metadata": {},
   "outputs": [],
   "source": [
    "# Clean and Convert permit\n",
    "df_train['permit'] = df_train['permit'].astype(str).str.strip().str.lower()\n",
    "df_train['permit'] = df_train['permit'].map({'true': True, 'false': False})\n",
    "df_train['permit'] = df_train['permit'].astype('boolean')"
   ]
  },
  {
   "cell_type": "markdown",
   "id": "911f68fb",
   "metadata": {},
   "source": [
    "# Check for Nulls\n"
   ]
  },
  {
   "cell_type": "markdown",
   "id": "a27fc3ae",
   "metadata": {},
   "source": [
    "view all the rows with Standard missing values"
   ]
  },
  {
   "cell_type": "code",
   "execution_count": 4294,
   "id": "cf734a17",
   "metadata": {},
   "outputs": [
    {
     "name": "stdout",
     "output_type": "stream",
     "text": [
      "\n",
      "Missing values:\n",
      "scheme_name              22523\n",
      "construction_year        16600\n",
      "scheme_management         3125\n",
      "installer                 2909\n",
      "funder                    2889\n",
      "public_meeting            2651\n",
      "permit                    2426\n",
      "subvillage                 298\n",
      "quantity                     0\n",
      "management_group             0\n",
      "payment                      0\n",
      "payment_type                 0\n",
      "water_quality                0\n",
      "quality_group                0\n",
      "source                       0\n",
      "quantity_group               0\n",
      "extraction_type_class        0\n",
      "source_type                  0\n",
      "source_class                 0\n",
      "waterpoint_type              0\n",
      "waterpoint_type_group        0\n",
      "status_group                 0\n",
      "year_recorded                0\n",
      "month_recorded               0\n",
      "management                   0\n",
      "id                           0\n",
      "extraction_type_group        0\n",
      "extraction_type              0\n",
      "date_recorded                0\n",
      "gps_height                   0\n",
      "longitude                    0\n",
      "latitude                     0\n",
      "wpt_name                     0\n",
      "num_private                  0\n",
      "basin                        0\n",
      "region                       0\n",
      "region_code                  0\n",
      "district_code                0\n",
      "lga                          0\n",
      "ward                         0\n",
      "population                   0\n",
      "recorded_by                  0\n",
      "amount_tsh                   0\n",
      "dayofweek_recorded           0\n",
      "dtype: int64\n"
     ]
    }
   ],
   "source": [
    "print(\"\\nMissing values:\")\n",
    "missing_counts = df_train.isnull().sum().sort_values(ascending=False)\n",
    "print(missing_counts)"
   ]
  },
  {
   "cell_type": "markdown",
   "id": "e7ed31a5",
   "metadata": {},
   "source": [
    "find rows with placeholder missing strings"
   ]
  },
  {
   "cell_type": "code",
   "execution_count": 4295,
   "id": "0763fdfa",
   "metadata": {},
   "outputs": [
    {
     "name": "stdout",
     "output_type": "stream",
     "text": [
      "\n",
      "Columns with missing values:\n",
      "['scheme_name', 'construction_year', 'scheme_management', 'installer', 'funder', 'public_meeting', 'permit', 'subvillage']\n"
     ]
    }
   ],
   "source": [
    "# Create a list of columns with missing values\n",
    "missing_columns = missing_counts[missing_counts > 0].index.tolist()\n",
    "print(\"\\nColumns with missing values:\")\n",
    "print(missing_columns)"
   ]
  },
  {
   "cell_type": "markdown",
   "id": "2250cf30",
   "metadata": {},
   "source": [
    "# showing the categorical columns"
   ]
  },
  {
   "cell_type": "code",
   "execution_count": 4296,
   "id": "5e223a16",
   "metadata": {},
   "outputs": [
    {
     "name": "stdout",
     "output_type": "stream",
     "text": [
      "                      Data Type  Missing %\n",
      "scheme_name              object  47.396886\n",
      "scheme_management        object   6.576178\n",
      "installer                object   6.121633\n",
      "funder                   object   6.079545\n",
      "public_meeting          boolean   5.578704\n",
      "permit                  boolean   5.105219\n",
      "subvillage               object   0.627104\n",
      "water_quality            object   0.000000\n",
      "quality_group            object   0.000000\n",
      "quantity                 object   0.000000\n",
      "quantity_group           object   0.000000\n",
      "payment                  object   0.000000\n",
      "source                   object   0.000000\n",
      "source_type              object   0.000000\n",
      "source_class             object   0.000000\n",
      "waterpoint_type          object   0.000000\n",
      "waterpoint_type_group    object   0.000000\n",
      "payment_type             object   0.000000\n",
      "extraction_type_class    object   0.000000\n",
      "management_group         object   0.000000\n",
      "management               object   0.000000\n",
      "extraction_type_group    object   0.000000\n",
      "extraction_type          object   0.000000\n",
      "recorded_by              object   0.000000\n",
      "ward                     object   0.000000\n",
      "lga                      object   0.000000\n",
      "region                   object   0.000000\n",
      "basin                    object   0.000000\n",
      "wpt_name                 object   0.000000\n",
      "status_group             object   0.000000\n"
     ]
    }
   ],
   "source": [
    "# showing the categorical columns\n",
    "categorical_col = df_train.select_dtypes(include=['object', 'category', 'boolean']).columns\n",
    "missing_info = pd.DataFrame({\n",
    "    'Data Type': df_train[categorical_col].dtypes,\n",
    "    'Missing %': (df_train[categorical_col].isnull().mean()*100)\n",
    "})\n",
    "missing_info = missing_info.sort_values(by= 'Missing %', ascending=False)\n",
    "print(missing_info)"
   ]
  },
  {
   "cell_type": "markdown",
   "id": "5b28ad44",
   "metadata": {},
   "source": [
    "## Impute Missing Values"
   ]
  },
  {
   "cell_type": "markdown",
   "id": "af8a1a06",
   "metadata": {},
   "source": [
    "## Checking for duplication"
   ]
  },
  {
   "cell_type": "markdown",
   "id": "f92bbe97",
   "metadata": {},
   "source": [
    "## Quantity and quantity_group duplication"
   ]
  },
  {
   "cell_type": "code",
   "execution_count": 4297,
   "id": "e6345d9a",
   "metadata": {},
   "outputs": [
    {
     "name": "stdout",
     "output_type": "stream",
     "text": [
      "True    47520\n",
      "Name: quantity_match, dtype: int64\n"
     ]
    }
   ],
   "source": [
    "# to check duplication between the quantity and quantity group\n",
    "df_train['quantity_match'] = df_train['quantity'] == df_train['quantity_group']\n",
    "\n",
    "match_counts = df_train['quantity_match'].value_counts()\n",
    "print(match_counts)"
   ]
  },
  {
   "cell_type": "code",
   "execution_count": 4298,
   "id": "4fd45be2",
   "metadata": {},
   "outputs": [
    {
     "name": "stdout",
     "output_type": "stream",
     "text": [
      "Empty DataFrame\n",
      "Columns: [quantity, quantity_group]\n",
      "Index: []\n"
     ]
    }
   ],
   "source": [
    "mismatches = df_train[df_train['quantity_match'] == False][['quantity', 'quantity_group']]\n",
    "print(mismatches.head())"
   ]
  },
  {
   "cell_type": "code",
   "execution_count": 4299,
   "id": "4a372cd2",
   "metadata": {},
   "outputs": [
    {
     "name": "stdout",
     "output_type": "stream",
     "text": [
      "Match Rate: 100.00%\n"
     ]
    }
   ],
   "source": [
    "match_rate = df_train['quantity_match'].mean() * 100\n",
    "print(f\"Match Rate: {match_rate:.2f}%\")"
   ]
  },
  {
   "cell_type": "code",
   "execution_count": 4300,
   "id": "4f8fd974",
   "metadata": {},
   "outputs": [
    {
     "data": {
      "image/png": "[encoded data removed]",
      "text/plain": [
       "<Figure size 1008x432 with 1 Axes>"
      ]
     },
     "metadata": {
      "needs_background": "light"
     },
     "output_type": "display_data"
    }
   ],
   "source": [
    "plt.figure(figsize=(14, 6))\n",
    "sns.countplot(data=df_train, x='quantity', hue='status_group')\n",
    "plt.title(\"Status Group Distribution by quantity\")\n",
    "plt.xticks(rotation=45, ha='right')\n",
    "plt.xlabel(\"quantity\")\n",
    "plt.ylabel(\"Count\")\n",
    "plt.tight_layout()\n",
    "plt.show()"
   ]
  },
  {
   "cell_type": "code",
   "execution_count": 4301,
   "id": "2b44a6bd",
   "metadata": {},
   "outputs": [
    {
     "data": {
      "image/png": "[encoded data removed]",
      "text/plain": [
       "<Figure size 1008x432 with 1 Axes>"
      ]
     },
     "metadata": {
      "needs_background": "light"
     },
     "output_type": "display_data"
    }
   ],
   "source": [
    "plt.figure(figsize=(14, 6))\n",
    "sns.countplot(data=df_train, x='quantity_group', hue='status_group')\n",
    "plt.title(\"Status Group Distribution by quantity_group\")\n",
    "plt.xticks(rotation=45, ha='right')\n",
    "plt.xlabel(\"quantity_group\")\n",
    "plt.ylabel(\"Count\")\n",
    "plt.tight_layout()\n",
    "plt.show()"
   ]
  },
  {
   "cell_type": "markdown",
   "id": "cb960a23",
   "metadata": {},
   "source": [
    "Interpretation: Yes, they are both similar and i drop the quantity_group"
   ]
  },
  {
   "cell_type": "markdown",
   "id": "82a39af6",
   "metadata": {},
   "source": [
    "## extraction_type and extraction_type_group and extraction_type_class duplication"
   ]
  },
  {
   "cell_type": "code",
   "execution_count": 4302,
   "id": "8fd60736",
   "metadata": {},
   "outputs": [
    {
     "data": {
      "text/html": [
       "<div>\n",
       "<style scoped>\n",
       "    .dataframe tbody tr th:only-of-type {\n",
       "        vertical-align: middle;\n",
       "    }\n",
       "\n",
       "    .dataframe tbody tr th {\n",
       "        vertical-align: top;\n",
       "    }\n",
       "\n",
       "    .dataframe thead th {\n",
       "        text-align: right;\n",
       "    }\n",
       "</style>\n",
       "<table border=\"1\" class=\"dataframe\">\n",
       "  <thead>\n",
       "    <tr style=\"text-align: right;\">\n",
       "      <th></th>\n",
       "      <th>extraction_type</th>\n",
       "      <th>extraction_type_group</th>\n",
       "    </tr>\n",
       "  </thead>\n",
       "  <tbody>\n",
       "    <tr>\n",
       "      <th>31</th>\n",
       "      <td>ksb</td>\n",
       "      <td>submersible</td>\n",
       "    </tr>\n",
       "    <tr>\n",
       "      <th>45</th>\n",
       "      <td>windmill</td>\n",
       "      <td>wind-powered</td>\n",
       "    </tr>\n",
       "    <tr>\n",
       "      <th>66</th>\n",
       "      <td>other - rope pump</td>\n",
       "      <td>rope pump</td>\n",
       "    </tr>\n",
       "    <tr>\n",
       "      <th>88</th>\n",
       "      <td>ksb</td>\n",
       "      <td>submersible</td>\n",
       "    </tr>\n",
       "    <tr>\n",
       "      <th>92</th>\n",
       "      <td>ksb</td>\n",
       "      <td>submersible</td>\n",
       "    </tr>\n",
       "    <tr>\n",
       "      <th>96</th>\n",
       "      <td>ksb</td>\n",
       "      <td>submersible</td>\n",
       "    </tr>\n",
       "    <tr>\n",
       "      <th>147</th>\n",
       "      <td>other - rope pump</td>\n",
       "      <td>rope pump</td>\n",
       "    </tr>\n",
       "    <tr>\n",
       "      <th>155</th>\n",
       "      <td>other - swn 81</td>\n",
       "      <td>other handpump</td>\n",
       "    </tr>\n",
       "    <tr>\n",
       "      <th>172</th>\n",
       "      <td>ksb</td>\n",
       "      <td>submersible</td>\n",
       "    </tr>\n",
       "    <tr>\n",
       "      <th>193</th>\n",
       "      <td>ksb</td>\n",
       "      <td>submersible</td>\n",
       "    </tr>\n",
       "  </tbody>\n",
       "</table>\n",
       "</div>"
      ],
      "text/plain": [
       "       extraction_type extraction_type_group\n",
       "31                 ksb           submersible\n",
       "45            windmill          wind-powered\n",
       "66   other - rope pump             rope pump\n",
       "88                 ksb           submersible\n",
       "92                 ksb           submersible\n",
       "96                 ksb           submersible\n",
       "147  other - rope pump             rope pump\n",
       "155     other - swn 81        other handpump\n",
       "172                ksb           submersible\n",
       "193                ksb           submersible"
      ]
     },
     "execution_count": 4302,
     "metadata": {},
     "output_type": "execute_result"
    }
   ],
   "source": [
    "# looks for the mismatch between extraction_type and extraction_type_group\n",
    "mismatched = df_train[df_train['extraction_type'].astype(str) != df_train['extraction_type_group'].astype(str)]\n",
    "# Show a few rows where they differ\n",
    "mismatched[['extraction_type', 'extraction_type_group']].head(10)"
   ]
  },
  {
   "cell_type": "code",
   "execution_count": 4303,
   "id": "ab6f7c53",
   "metadata": {},
   "outputs": [
    {
     "name": "stdout",
     "output_type": "stream",
     "text": [
      "             extraction_type extraction_type_group  count\n",
      "2                        ksb           submersible   1107\n",
      "5          other - rope pump             rope pump    363\n",
      "6             other - swn 81        other handpump    179\n",
      "8                   windmill          wind-powered     89\n",
      "0                       cemo       other motorpump     74\n",
      "4          other - play pump        other handpump     73\n",
      "7                     walimi        other handpump     35\n",
      "1                     climax       other motorpump     22\n",
      "3  other - mkulima/shinyanga        other handpump      1\n"
     ]
    }
   ],
   "source": [
    "# Count how often each mismatch occurs\n",
    "mismatch_summary = mismatched.groupby(['extraction_type', 'extraction_type_group']).size().reset_index(name='count')\n",
    "print(mismatch_summary.sort_values(by='count', ascending=False))\n"
   ]
  },
  {
   "cell_type": "code",
   "execution_count": 4304,
   "id": "531b901f",
   "metadata": {},
   "outputs": [
    {
     "data": {
      "text/html": [
       "<div>\n",
       "<style scoped>\n",
       "    .dataframe tbody tr th:only-of-type {\n",
       "        vertical-align: middle;\n",
       "    }\n",
       "\n",
       "    .dataframe tbody tr th {\n",
       "        vertical-align: top;\n",
       "    }\n",
       "\n",
       "    .dataframe thead th {\n",
       "        text-align: right;\n",
       "    }\n",
       "</style>\n",
       "<table border=\"1\" class=\"dataframe\">\n",
       "  <thead>\n",
       "    <tr style=\"text-align: right;\">\n",
       "      <th></th>\n",
       "      <th>extraction_type</th>\n",
       "      <th>extraction_type_group</th>\n",
       "    </tr>\n",
       "  </thead>\n",
       "  <tbody>\n",
       "    <tr>\n",
       "      <th>31</th>\n",
       "      <td>ksb</td>\n",
       "      <td>submersible</td>\n",
       "    </tr>\n",
       "    <tr>\n",
       "      <th>45</th>\n",
       "      <td>windmill</td>\n",
       "      <td>wind-powered</td>\n",
       "    </tr>\n",
       "    <tr>\n",
       "      <th>66</th>\n",
       "      <td>other - rope pump</td>\n",
       "      <td>rope pump</td>\n",
       "    </tr>\n",
       "    <tr>\n",
       "      <th>88</th>\n",
       "      <td>ksb</td>\n",
       "      <td>submersible</td>\n",
       "    </tr>\n",
       "    <tr>\n",
       "      <th>92</th>\n",
       "      <td>ksb</td>\n",
       "      <td>submersible</td>\n",
       "    </tr>\n",
       "    <tr>\n",
       "      <th>96</th>\n",
       "      <td>ksb</td>\n",
       "      <td>submersible</td>\n",
       "    </tr>\n",
       "    <tr>\n",
       "      <th>147</th>\n",
       "      <td>other - rope pump</td>\n",
       "      <td>rope pump</td>\n",
       "    </tr>\n",
       "    <tr>\n",
       "      <th>155</th>\n",
       "      <td>other - swn 81</td>\n",
       "      <td>other handpump</td>\n",
       "    </tr>\n",
       "    <tr>\n",
       "      <th>172</th>\n",
       "      <td>ksb</td>\n",
       "      <td>submersible</td>\n",
       "    </tr>\n",
       "    <tr>\n",
       "      <th>193</th>\n",
       "      <td>ksb</td>\n",
       "      <td>submersible</td>\n",
       "    </tr>\n",
       "  </tbody>\n",
       "</table>\n",
       "</div>"
      ],
      "text/plain": [
       "       extraction_type extraction_type_group\n",
       "31                 ksb           submersible\n",
       "45            windmill          wind-powered\n",
       "66   other - rope pump             rope pump\n",
       "88                 ksb           submersible\n",
       "92                 ksb           submersible\n",
       "96                 ksb           submersible\n",
       "147  other - rope pump             rope pump\n",
       "155     other - swn 81        other handpump\n",
       "172                ksb           submersible\n",
       "193                ksb           submersible"
      ]
     },
     "execution_count": 4304,
     "metadata": {},
     "output_type": "execute_result"
    }
   ],
   "source": [
    "matched = df_train[df_train['extraction_type'] == df_train['extraction_type_group']]\n",
    "# Show a few rows where they differ\n",
    "mismatched[['extraction_type', 'extraction_type_group']].head(10)"
   ]
  },
  {
   "cell_type": "code",
   "execution_count": 4305,
   "id": "267d7f31",
   "metadata": {},
   "outputs": [
    {
     "name": "stdout",
     "output_type": "stream",
     "text": [
      "  extraction_type extraction_type_group  count\n",
      "1         gravity               gravity  21415\n",
      "5     nira/tanira           nira/tanira   6578\n",
      "6           other                 other   5106\n",
      "7     submersible           submersible   3834\n",
      "8          swn 80                swn 80   2959\n",
      "4            mono                  mono   2306\n",
      "2   india mark ii         india mark ii   1910\n",
      "0         afridev               afridev   1391\n",
      "3  india mark iii        india mark iii     78\n"
     ]
    }
   ],
   "source": [
    "# Count how often each mismatch occurs\n",
    "match_summary = matched.groupby(['extraction_type', 'extraction_type_group']).size().reset_index(name='count')\n",
    "print(match_summary.sort_values(by='count', ascending=False))\n"
   ]
  },
  {
   "cell_type": "markdown",
   "id": "699178a4",
   "metadata": {},
   "source": [
    "My conclusion is that i can drop this column as it is so similar to eachother but the extraction_type_group is with less detailed. The same i observe for the waterpoint_type and waterpoint_type_group, and i decided to keep the waterpoint_type_group. "
   ]
  },
  {
   "cell_type": "code",
   "execution_count": 4306,
   "id": "c6ac7966",
   "metadata": {},
   "outputs": [
    {
     "name": "stdout",
     "output_type": "stream",
     "text": [
      "\n",
      " extraction_type — Unique Values and Frequencies:\n",
      "--------------------------------------------------\n",
      "                   Count  Percentage\n",
      "gravity            21415       45.07\n",
      "nira/tanira         6578       13.84\n",
      "other               5106       10.74\n",
      "submersible         3834        8.07\n",
      "swn 80              2959        6.23\n",
      "mono                2306        4.85\n",
      "india mark ii       1910        4.02\n",
      "afridev             1391        2.93\n",
      "ksb                 1107        2.33\n",
      "other - rope pump    363        0.76\n",
      "\n",
      " extraction_type_group — Unique Values and Frequencies:\n",
      "--------------------------------------------------\n",
      "                Count  Percentage\n",
      "gravity         21415       45.07\n",
      "nira/tanira      6578       13.84\n",
      "other            5106       10.74\n",
      "submersible      4941       10.40\n",
      "swn 80           2959        6.23\n",
      "mono             2306        4.85\n",
      "india mark ii    1910        4.02\n",
      "afridev          1391        2.93\n",
      "rope pump         363        0.76\n",
      "other handpump    288        0.61\n",
      "\n",
      " extraction_type_class — Unique Values and Frequencies:\n",
      "--------------------------------------------------\n",
      "              Count  Percentage\n",
      "gravity       21415       45.07\n",
      "handpump      13204       27.79\n",
      "other          5106       10.74\n",
      "submersible    4941       10.40\n",
      "motorpump      2402        5.05\n",
      "rope pump       363        0.76\n",
      "wind-powered     89        0.19\n"
     ]
    }
   ],
   "source": [
    "# duplicate between 'extraction_type', 'extraction_type_group', 'extraction_type_class'\n",
    "columns = ['extraction_type', 'extraction_type_group', 'extraction_type_class']\n",
    "\n",
    "for col in columns:\n",
    "    print(f\"\\n {col} — Unique Values and Frequencies:\\n{'-'*50}\")\n",
    "    \n",
    "    # Get value counts (number and percent)\n",
    "    counts = df_train[col].value_counts(dropna=False)\n",
    "    percentages = df_train[col].value_counts(normalize=True, dropna=False) * 100\n",
    "\n",
    "    # Combine into a single DataFrame\n",
    "    summary = pd.DataFrame({\n",
    "        'Count': counts,\n",
    "        'Percentage': percentages.round(2)\n",
    "    })\n",
    "    \n",
    "    # Print top values\n",
    "    print(summary.head(10)) \n"
   ]
  },
  {
   "cell_type": "code",
   "execution_count": 4307,
   "id": "b691b585",
   "metadata": {},
   "outputs": [
    {
     "name": "stdout",
     "output_type": "stream",
     "text": [
      "      extraction_type extraction_type_group extraction_type_class  count\n",
      "7         nira/tanira           nira/tanira              handpump   6578\n",
      "12             swn 80                swn 80              handpump   2959\n",
      "6                mono                  mono             motorpump   2306\n",
      "3       india mark ii         india mark ii              handpump   1910\n",
      "0             afridev               afridev              handpump   1391\n",
      "5                 ksb           submersible           submersible   1107\n",
      "10  other - rope pump             rope pump             rope pump    363\n",
      "11     other - swn 81        other handpump              handpump    179\n",
      "14           windmill          wind-powered          wind-powered     89\n",
      "4      india mark iii        india mark iii              handpump     78\n"
     ]
    }
   ],
   "source": [
    "# Create a column to flag mismatches\n",
    "df_train['extraction_mismatch'] = ~(\n",
    "    (df_train['extraction_type'] == df_train['extraction_type_group']) &\n",
    "    (df_train['extraction_type'] == df_train['extraction_type_class']) &\n",
    "    (df_train['extraction_type_group'] == df_train['extraction_type_class'])\n",
    ")\n",
    "\n",
    "#Filter mismatched rows\n",
    "mismatches = df_train[df_train['extraction_mismatch']][[\n",
    "    'extraction_type', 'extraction_type_group', 'extraction_type_class'\n",
    "]]\n",
    "\n",
    "#Summarize mismatch patterns\n",
    "mismatch_summary = mismatches.groupby([\n",
    "    'extraction_type', 'extraction_type_group', 'extraction_type_class'\n",
    "]).size().reset_index(name='count').sort_values(by='count', ascending=False)\n",
    "\n",
    "# print top 10 mismatch patterns\n",
    "print(mismatch_summary.head(10))\n"
   ]
  },
  {
   "cell_type": "markdown",
   "id": "a41c5f1c",
   "metadata": {},
   "source": [
    "So i decided to keep the less details classification. Later we need to check if there is any relation between the extraction_type_class and the target"
   ]
  },
  {
   "cell_type": "code",
   "execution_count": 4308,
   "id": "15f14682",
   "metadata": {},
   "outputs": [
    {
     "data": {
      "image/png": "[encoded data removed]",
      "text/plain": [
       "<Figure size 1008x432 with 1 Axes>"
      ]
     },
     "metadata": {
      "needs_background": "light"
     },
     "output_type": "display_data"
    }
   ],
   "source": [
    "plt.figure(figsize=(14, 6))\n",
    "sns.countplot(data=df_train, x='extraction_type', hue='status_group')\n",
    "plt.title(\"Status Group Distribution by extraction_type\")\n",
    "plt.xticks(rotation=45, ha='right')\n",
    "plt.xlabel(\"extraction_type\")\n",
    "plt.ylabel(\"Count\")\n",
    "plt.tight_layout()\n",
    "plt.show()"
   ]
  },
  {
   "cell_type": "code",
   "execution_count": 4309,
   "id": "ce883204",
   "metadata": {},
   "outputs": [
    {
     "data": {
      "image/png": "[encoded data removed]",
      "text/plain": [
       "<Figure size 1008x432 with 1 Axes>"
      ]
     },
     "metadata": {
      "needs_background": "light"
     },
     "output_type": "display_data"
    }
   ],
   "source": [
    "plt.figure(figsize=(14, 6))\n",
    "sns.countplot(data=df_train, x='extraction_type_group', hue='status_group')\n",
    "plt.title(\"Status Group Distribution by extraction_type_group\")\n",
    "plt.xticks(rotation=45, ha='right')\n",
    "plt.xlabel(\"extraction_type_group\")\n",
    "plt.ylabel(\"Count\")\n",
    "plt.tight_layout()\n",
    "plt.show()"
   ]
  },
  {
   "cell_type": "code",
   "execution_count": 4310,
   "id": "f94718f6",
   "metadata": {},
   "outputs": [
    {
     "data": {
      "image/png": "[encoded data removed]",
      "text/plain": [
       "<Figure size 1008x432 with 1 Axes>"
      ]
     },
     "metadata": {
      "needs_background": "light"
     },
     "output_type": "display_data"
    }
   ],
   "source": [
    "plt.figure(figsize=(14, 6))\n",
    "sns.countplot(data=df_train, x='extraction_type_class', hue='status_group')\n",
    "plt.title(\"Status Group Distribution by extraction_type_class\")\n",
    "plt.xticks(rotation=45, ha='right')\n",
    "plt.xlabel(\"extraction_type_class\")\n",
    "plt.ylabel(\"Count\")\n",
    "plt.tight_layout()\n",
    "plt.show()"
   ]
  },
  {
   "cell_type": "markdown",
   "id": "bbc74912",
   "metadata": {},
   "source": [
    "Interpretation: we decided to keep the extraction_type_class as it more comprehensive and drop the extraction_type and extraction_type_group.. "
   ]
  },
  {
   "cell_type": "markdown",
   "id": "d7404674",
   "metadata": {},
   "source": [
    "## waterpoint_type and waterpoint_type_group duplication"
   ]
  },
  {
   "cell_type": "code",
   "execution_count": 4311,
   "id": "8c448b96",
   "metadata": {},
   "outputs": [
    {
     "name": "stdout",
     "output_type": "stream",
     "text": [
      "Match Rate: 89.66%\n",
      "\n",
      "Match vs Mismatch Counts:\n",
      "True     42607\n",
      "False     4913\n",
      "dtype: int64\n",
      "\n",
      "Top Mismatch Patterns:\n",
      "               waterpoint_type waterpoint_type_group  count\n",
      "0  communal standpipe multiple    communal standpipe   4913\n"
     ]
    }
   ],
   "source": [
    "# Calculate row-wise match\n",
    "match_mask = df_train['waterpoint_type'] == df_train['waterpoint_type_group']\n",
    "\n",
    "# Percentage of exact matches\n",
    "match_percentage = match_mask.mean() * 100\n",
    "print(f\"Match Rate: {match_percentage:.2f}%\")\n",
    "\n",
    "# Count of matching vs mismatching rows\n",
    "match_counts = match_mask.value_counts()\n",
    "print(\"\\nMatch vs Mismatch Counts:\")\n",
    "print(match_counts)\n",
    "\n",
    "# show mismatched combinations\n",
    "mismatches = df_train[~match_mask][['waterpoint_type', 'waterpoint_type_group']]\n",
    "mismatch_summary = mismatches.groupby(\n",
    "    ['waterpoint_type', 'waterpoint_type_group']\n",
    ").size().reset_index(name='count').sort_values(by='count', ascending=False)\n",
    "\n",
    "print(\"\\nTop Mismatch Patterns:\")\n",
    "print(mismatch_summary.head(10))\n"
   ]
  },
  {
   "cell_type": "code",
   "execution_count": 4312,
   "id": "4d4a7011",
   "metadata": {},
   "outputs": [
    {
     "name": "stdout",
     "output_type": "stream",
     "text": [
      "               waterpoint_type waterpoint_type_group  count\n",
      "1           communal standpipe    communal standpipe   1015\n",
      "4                    hand pump             hand pump    565\n",
      "2  communal standpipe multiple    communal standpipe    298\n",
      "5                        other                 other     61\n",
      "0                cattle trough         cattle trough      3\n",
      "3                          dam                   dam      1\n"
     ]
    }
   ],
   "source": [
    "# Count how often each mismatch occurs\n",
    "mismatch_summary = mismatched.groupby(['waterpoint_type', 'waterpoint_type_group']).size().reset_index(name='count')\n",
    "print(mismatch_summary.sort_values(by='count', ascending=False))\n"
   ]
  },
  {
   "cell_type": "markdown",
   "id": "8a68366d",
   "metadata": {},
   "source": [
    "interpretation: they are almost similar. in waterpoint_type there is one type communal standpoint multiple that it is changed to communal standpipe in the other. So i prefer to keep the waterpoint_type maybe this multiple type has any impact on functionality of pupm."
   ]
  },
  {
   "cell_type": "code",
   "execution_count": 4313,
   "id": "a2c4e757",
   "metadata": {},
   "outputs": [
    {
     "data": {
      "image/png": "[encoded data removed]",
      "text/plain": [
       "<Figure size 1008x432 with 1 Axes>"
      ]
     },
     "metadata": {
      "needs_background": "light"
     },
     "output_type": "display_data"
    }
   ],
   "source": [
    "plt.figure(figsize=(14, 6))\n",
    "sns.countplot(data=df_train, x='waterpoint_type', hue='status_group')\n",
    "plt.title(\"Status Group Distribution by water point type\")\n",
    "plt.xticks(rotation=45, ha='right')\n",
    "plt.xlabel(\"waterpoint_type\")\n",
    "plt.ylabel(\"Count\")\n",
    "plt.tight_layout()\n",
    "plt.show()"
   ]
  },
  {
   "cell_type": "code",
   "execution_count": 4314,
   "id": "304aead5",
   "metadata": {},
   "outputs": [
    {
     "data": {
      "image/png": "[encoded data removed]",
      "text/plain": [
       "<Figure size 1008x432 with 1 Axes>"
      ]
     },
     "metadata": {
      "needs_background": "light"
     },
     "output_type": "display_data"
    }
   ],
   "source": [
    "plt.figure(figsize=(14, 6))\n",
    "sns.countplot(data=df_train, x='waterpoint_type_group', hue='status_group')\n",
    "plt.title(\"Status Group Distribution by water point type_group\")\n",
    "plt.xticks(rotation=45, ha='right')\n",
    "plt.xlabel(\"waterpoint_type_group\")\n",
    "plt.ylabel(\"Count\")\n",
    "plt.tight_layout()\n",
    "plt.show()"
   ]
  },
  {
   "cell_type": "markdown",
   "id": "1606a6c8",
   "metadata": {},
   "source": [
    "## Source and Source_type duplication"
   ]
  },
  {
   "cell_type": "code",
   "execution_count": 4315,
   "id": "adda5a4d",
   "metadata": {},
   "outputs": [
    {
     "name": "stdout",
     "output_type": "stream",
     "text": [
      "                 source           source_type  count\n",
      "6                 river            river/lake    669\n",
      "3           machine dbh              borehole    428\n",
      "7          shallow well          shallow well    304\n",
      "8                spring                spring    152\n",
      "0                   dam                   dam    131\n",
      "2                  lake            river/lake    107\n",
      "1              hand dtw              borehole     97\n",
      "5  rainwater harvesting  rainwater harvesting     52\n",
      "4                 other                 other      2\n",
      "9               unknown                 other      1\n"
     ]
    }
   ],
   "source": [
    "# Count how often each mismatch occurs\n",
    "mismatch_summary = mismatched.groupby(['source', 'source_type']).size().reset_index(name='count')\n",
    "print(mismatch_summary.sort_values(by='count', ascending=False))\n"
   ]
  },
  {
   "cell_type": "code",
   "execution_count": 4316,
   "id": "8dd45012",
   "metadata": {},
   "outputs": [
    {
     "name": "stdout",
     "output_type": "stream",
     "text": [
      " Match Rate between 'source' and 'source_type': 62.22%\n"
     ]
    }
   ],
   "source": [
    "# Check for exact matches\n",
    "match_mask = df_train['source'] == df_train['source_type']\n",
    "match_percentage = match_mask.mean() * 100\n",
    "print(f\" Match Rate between 'source' and 'source_type': {match_percentage:.2f}%\")"
   ]
  },
  {
   "cell_type": "code",
   "execution_count": 4317,
   "id": "6007539d",
   "metadata": {},
   "outputs": [
    {
     "name": "stdout",
     "output_type": "stream",
     "text": [
      "\n",
      "Top mismatches:\n",
      "        source source_type  count\n",
      "2  machine dbh    borehole   8886\n",
      "3        river  river/lake   7686\n",
      "0     hand dtw    borehole    723\n",
      "1         lake  river/lake    613\n",
      "4      unknown       other     46\n"
     ]
    }
   ],
   "source": [
    "# View mismatch patterns\n",
    "mismatches = df_train[~match_mask][['source', 'source_type']]\n",
    "mismatch_summary = mismatches.groupby(['source', 'source_type']).size().reset_index(name='count')\n",
    "print(\"\\nTop mismatches:\")\n",
    "print(mismatch_summary.sort_values(by='count', ascending=False).head(10))"
   ]
  },
  {
   "cell_type": "code",
   "execution_count": 4318,
   "id": "12b4efb8",
   "metadata": {},
   "outputs": [
    {
     "data": {
      "image/png": "[encoded data removed]",
      "text/plain": [
       "<Figure size 1008x432 with 1 Axes>"
      ]
     },
     "metadata": {
      "needs_background": "light"
     },
     "output_type": "display_data"
    }
   ],
   "source": [
    "plt.figure(figsize=(14, 6))\n",
    "sns.countplot(data=df_train, x='source', hue='status_group')\n",
    "plt.title(\"Status Group Distribution by Source\")\n",
    "plt.xticks(rotation=45, ha='right')\n",
    "plt.xlabel(\"Source\")\n",
    "plt.ylabel(\"Count\")\n",
    "plt.tight_layout()\n",
    "plt.show()"
   ]
  },
  {
   "cell_type": "code",
   "execution_count": 4319,
   "id": "ffa006b3",
   "metadata": {},
   "outputs": [
    {
     "data": {
      "image/png": "[encoded data removed]",
      "text/plain": [
       "<Figure size 1008x432 with 1 Axes>"
      ]
     },
     "metadata": {
      "needs_background": "light"
     },
     "output_type": "display_data"
    }
   ],
   "source": [
    "plt.figure(figsize=(14, 6))\n",
    "sns.countplot(data=df_train, x='source_type', hue='status_group')\n",
    "plt.title(\"Status Group Distribution by Source_type\")\n",
    "plt.xticks(rotation=45, ha='right')\n",
    "plt.xlabel(\"Source_type\")\n",
    "plt.ylabel(\"Count\")\n",
    "plt.tight_layout()\n",
    "plt.show()"
   ]
  },
  {
   "cell_type": "markdown",
   "id": "889bf787",
   "metadata": {},
   "source": [
    "Interpretation: I think i will keep the source and delete the source type. They are similar and the relation between them and the status group also is similar but in source the river and lake are seperated and their relation with target is also different."
   ]
  },
  {
   "cell_type": "markdown",
   "id": "cb2d95cd",
   "metadata": {},
   "source": [
    "## Payment and Peyment_type duplication"
   ]
  },
  {
   "cell_type": "code",
   "execution_count": 4320,
   "id": "d66f7bd4",
   "metadata": {},
   "outputs": [
    {
     "name": "stdout",
     "output_type": "stream",
     "text": [
      " Match Rate between 'payment' and 'payment_type': 58.07%\n"
     ]
    }
   ],
   "source": [
    "# Check for exact matches\n",
    "match_mask = df_train['payment'] == df_train['payment_type']\n",
    "match_percentage = match_mask.mean() * 100\n",
    "print(f\" Match Rate between 'payment' and 'payment_type': {match_percentage:.2f}%\")"
   ]
  },
  {
   "cell_type": "code",
   "execution_count": 4321,
   "id": "843bb9d5",
   "metadata": {},
   "outputs": [
    {
     "name": "stdout",
     "output_type": "stream",
     "text": [
      "\n",
      "Top mismatches:\n",
      "                 payment payment_type  count\n",
      "2         pay per bucket   per bucket   7205\n",
      "1            pay monthly      monthly   6637\n",
      "3  pay when scheme fails   on failure   3155\n",
      "0           pay annually     annually   2927\n"
     ]
    }
   ],
   "source": [
    "# View mismatch patterns\n",
    "mismatches = df_train[~match_mask][['payment', 'payment_type']]\n",
    "mismatch_summary = mismatches.groupby(['payment', 'payment_type']).size().reset_index(name='count')\n",
    "print(\"\\nTop mismatches:\")\n",
    "print(mismatch_summary.sort_values(by='count', ascending=False).head(10))"
   ]
  },
  {
   "cell_type": "markdown",
   "id": "c961de7a",
   "metadata": {},
   "source": [
    "Interpretation: payment and payment_type are similar better to drop payment as the classification topic is better in payment_type."
   ]
  },
  {
   "cell_type": "markdown",
   "id": "81ae8487",
   "metadata": {},
   "source": [
    "# Installer and Funder"
   ]
  },
  {
   "cell_type": "code",
   "execution_count": 4322,
   "id": "bf36d504",
   "metadata": {},
   "outputs": [],
   "source": [
    "df_train['installer'] = df_train['installer'].astype(str).str.strip().str.lower()\n",
    "df_train['funder'] = df_train['funder'].astype(str).str.strip().str.lower()"
   ]
  },
  {
   "cell_type": "code",
   "execution_count": 4323,
   "id": "d1d51e50",
   "metadata": {},
   "outputs": [
    {
     "name": "stdout",
     "output_type": "stream",
     "text": [
      " Match Rate between 'installer' and 'funder': 37.75%\n"
     ]
    }
   ],
   "source": [
    "# Check for exact matches\n",
    "match_mask = df_train['installer'] == df_train['funder']\n",
    "match_percentage = match_mask.mean() * 100\n",
    "print(f\" Match Rate between 'installer' and 'funder': {match_percentage:.2f}%\")"
   ]
  },
  {
   "cell_type": "markdown",
   "id": "b55fe6cf",
   "metadata": {},
   "source": [
    "Interpretation: I think we need to keep both"
   ]
  },
  {
   "cell_type": "code",
   "execution_count": 4324,
   "id": "5c0d54ba",
   "metadata": {},
   "outputs": [
    {
     "data": {
      "text/html": [
       "<div>\n",
       "<style scoped>\n",
       "    .dataframe tbody tr th:only-of-type {\n",
       "        vertical-align: middle;\n",
       "    }\n",
       "\n",
       "    .dataframe tbody tr th {\n",
       "        vertical-align: top;\n",
       "    }\n",
       "\n",
       "    .dataframe thead th {\n",
       "        text-align: right;\n",
       "    }\n",
       "</style>\n",
       "<table border=\"1\" class=\"dataframe\">\n",
       "  <thead>\n",
       "    <tr style=\"text-align: right;\">\n",
       "      <th></th>\n",
       "      <th>id</th>\n",
       "      <th>amount_tsh</th>\n",
       "      <th>date_recorded</th>\n",
       "      <th>funder</th>\n",
       "      <th>gps_height</th>\n",
       "      <th>installer</th>\n",
       "      <th>longitude</th>\n",
       "      <th>latitude</th>\n",
       "      <th>wpt_name</th>\n",
       "      <th>num_private</th>\n",
       "      <th>...</th>\n",
       "      <th>source_type</th>\n",
       "      <th>source_class</th>\n",
       "      <th>waterpoint_type</th>\n",
       "      <th>waterpoint_type_group</th>\n",
       "      <th>status_group</th>\n",
       "      <th>year_recorded</th>\n",
       "      <th>month_recorded</th>\n",
       "      <th>dayofweek_recorded</th>\n",
       "      <th>quantity_match</th>\n",
       "      <th>extraction_mismatch</th>\n",
       "    </tr>\n",
       "  </thead>\n",
       "  <tbody>\n",
       "    <tr>\n",
       "      <th>0</th>\n",
       "      <td>69572</td>\n",
       "      <td>6000.0</td>\n",
       "      <td>2011-03-14</td>\n",
       "      <td>roman</td>\n",
       "      <td>1390</td>\n",
       "      <td>roman</td>\n",
       "      <td>34.938093</td>\n",
       "      <td>-9.856322</td>\n",
       "      <td>none</td>\n",
       "      <td>0</td>\n",
       "      <td>...</td>\n",
       "      <td>spring</td>\n",
       "      <td>groundwater</td>\n",
       "      <td>communal standpipe</td>\n",
       "      <td>communal standpipe</td>\n",
       "      <td>functional</td>\n",
       "      <td>2011</td>\n",
       "      <td>3</td>\n",
       "      <td>0</td>\n",
       "      <td>True</td>\n",
       "      <td>False</td>\n",
       "    </tr>\n",
       "    <tr>\n",
       "      <th>1</th>\n",
       "      <td>8776</td>\n",
       "      <td>0.0</td>\n",
       "      <td>2013-03-06</td>\n",
       "      <td>grumeti</td>\n",
       "      <td>1399</td>\n",
       "      <td>grumeti</td>\n",
       "      <td>34.698766</td>\n",
       "      <td>-2.147466</td>\n",
       "      <td>Zahanati</td>\n",
       "      <td>0</td>\n",
       "      <td>...</td>\n",
       "      <td>rainwater harvesting</td>\n",
       "      <td>surface</td>\n",
       "      <td>communal standpipe</td>\n",
       "      <td>communal standpipe</td>\n",
       "      <td>functional</td>\n",
       "      <td>2013</td>\n",
       "      <td>3</td>\n",
       "      <td>2</td>\n",
       "      <td>True</td>\n",
       "      <td>False</td>\n",
       "    </tr>\n",
       "    <tr>\n",
       "      <th>2</th>\n",
       "      <td>34310</td>\n",
       "      <td>25.0</td>\n",
       "      <td>2013-02-25</td>\n",
       "      <td>lottery club</td>\n",
       "      <td>686</td>\n",
       "      <td>world vision</td>\n",
       "      <td>37.460664</td>\n",
       "      <td>-3.821329</td>\n",
       "      <td>Kwa Mahundi</td>\n",
       "      <td>0</td>\n",
       "      <td>...</td>\n",
       "      <td>dam</td>\n",
       "      <td>surface</td>\n",
       "      <td>communal standpipe multiple</td>\n",
       "      <td>communal standpipe</td>\n",
       "      <td>functional</td>\n",
       "      <td>2013</td>\n",
       "      <td>2</td>\n",
       "      <td>0</td>\n",
       "      <td>True</td>\n",
       "      <td>False</td>\n",
       "    </tr>\n",
       "    <tr>\n",
       "      <th>3</th>\n",
       "      <td>67743</td>\n",
       "      <td>0.0</td>\n",
       "      <td>2013-01-28</td>\n",
       "      <td>unicef</td>\n",
       "      <td>263</td>\n",
       "      <td>unicef</td>\n",
       "      <td>38.486161</td>\n",
       "      <td>-11.155298</td>\n",
       "      <td>Zahanati Ya Nanyumbu</td>\n",
       "      <td>0</td>\n",
       "      <td>...</td>\n",
       "      <td>borehole</td>\n",
       "      <td>groundwater</td>\n",
       "      <td>communal standpipe multiple</td>\n",
       "      <td>communal standpipe</td>\n",
       "      <td>non functional</td>\n",
       "      <td>2013</td>\n",
       "      <td>1</td>\n",
       "      <td>0</td>\n",
       "      <td>True</td>\n",
       "      <td>False</td>\n",
       "    </tr>\n",
       "    <tr>\n",
       "      <th>4</th>\n",
       "      <td>19728</td>\n",
       "      <td>0.0</td>\n",
       "      <td>2011-07-13</td>\n",
       "      <td>action in a</td>\n",
       "      <td>0</td>\n",
       "      <td>artisan</td>\n",
       "      <td>31.130847</td>\n",
       "      <td>-1.825359</td>\n",
       "      <td>Shuleni</td>\n",
       "      <td>0</td>\n",
       "      <td>...</td>\n",
       "      <td>rainwater harvesting</td>\n",
       "      <td>surface</td>\n",
       "      <td>communal standpipe</td>\n",
       "      <td>communal standpipe</td>\n",
       "      <td>functional</td>\n",
       "      <td>2011</td>\n",
       "      <td>7</td>\n",
       "      <td>2</td>\n",
       "      <td>True</td>\n",
       "      <td>False</td>\n",
       "    </tr>\n",
       "  </tbody>\n",
       "</table>\n",
       "<p>5 rows × 46 columns</p>\n",
       "</div>"
      ],
      "text/plain": [
       "      id  amount_tsh date_recorded        funder  gps_height     installer  \\\n",
       "0  69572      6000.0    2011-03-14         roman        1390         roman   \n",
       "1   8776         0.0    2013-03-06       grumeti        1399       grumeti   \n",
       "2  34310        25.0    2013-02-25  lottery club         686  world vision   \n",
       "3  67743         0.0    2013-01-28        unicef         263        unicef   \n",
       "4  19728         0.0    2011-07-13   action in a           0       artisan   \n",
       "\n",
       "   longitude   latitude              wpt_name  num_private  ...  \\\n",
       "0  34.938093  -9.856322                  none            0  ...   \n",
       "1  34.698766  -2.147466              Zahanati            0  ...   \n",
       "2  37.460664  -3.821329           Kwa Mahundi            0  ...   \n",
       "3  38.486161 -11.155298  Zahanati Ya Nanyumbu            0  ...   \n",
       "4  31.130847  -1.825359               Shuleni            0  ...   \n",
       "\n",
       "            source_type source_class              waterpoint_type  \\\n",
       "0                spring  groundwater           communal standpipe   \n",
       "1  rainwater harvesting      surface           communal standpipe   \n",
       "2                   dam      surface  communal standpipe multiple   \n",
       "3              borehole  groundwater  communal standpipe multiple   \n",
       "4  rainwater harvesting      surface           communal standpipe   \n",
       "\n",
       "   waterpoint_type_group    status_group year_recorded month_recorded  \\\n",
       "0     communal standpipe      functional          2011              3   \n",
       "1     communal standpipe      functional          2013              3   \n",
       "2     communal standpipe      functional          2013              2   \n",
       "3     communal standpipe  non functional          2013              1   \n",
       "4     communal standpipe      functional          2011              7   \n",
       "\n",
       "   dayofweek_recorded  quantity_match extraction_mismatch  \n",
       "0                   0            True               False  \n",
       "1                   2            True               False  \n",
       "2                   0            True               False  \n",
       "3                   0            True               False  \n",
       "4                   2            True               False  \n",
       "\n",
       "[5 rows x 46 columns]"
      ]
     },
     "execution_count": 4324,
     "metadata": {},
     "output_type": "execute_result"
    }
   ],
   "source": [
    "df_train.head()"
   ]
  },
  {
   "cell_type": "markdown",
   "id": "46a7d531",
   "metadata": {},
   "source": [
    "## Drop columns"
   ]
  },
  {
   "cell_type": "code",
   "execution_count": 4325,
   "id": "4591e58d",
   "metadata": {},
   "outputs": [
    {
     "name": "stdout",
     "output_type": "stream",
     "text": [
      "droped successfuly!\n"
     ]
    }
   ],
   "source": [
    "# Drop some column\n",
    "columns_to_drop = ['recorded_by', 'num_private', 'quantity_group', 'extraction_type', 'extraction_type_group','waterpoint_type_group', 'source_type', 'payment', 'quantity_match', 'extraction_mismatch']\n",
    "df_train.drop(columns = columns_to_drop, inplace = True)\n",
    "print('droped successfuly!')"
   ]
  },
  {
   "cell_type": "code",
   "execution_count": 4326,
   "id": "3ff9f60d",
   "metadata": {},
   "outputs": [
    {
     "data": {
      "text/html": [
       "<div>\n",
       "<style scoped>\n",
       "    .dataframe tbody tr th:only-of-type {\n",
       "        vertical-align: middle;\n",
       "    }\n",
       "\n",
       "    .dataframe tbody tr th {\n",
       "        vertical-align: top;\n",
       "    }\n",
       "\n",
       "    .dataframe thead th {\n",
       "        text-align: right;\n",
       "    }\n",
       "</style>\n",
       "<table border=\"1\" class=\"dataframe\">\n",
       "  <thead>\n",
       "    <tr style=\"text-align: right;\">\n",
       "      <th></th>\n",
       "      <th>id</th>\n",
       "      <th>amount_tsh</th>\n",
       "      <th>date_recorded</th>\n",
       "      <th>funder</th>\n",
       "      <th>gps_height</th>\n",
       "      <th>installer</th>\n",
       "      <th>longitude</th>\n",
       "      <th>latitude</th>\n",
       "      <th>wpt_name</th>\n",
       "      <th>basin</th>\n",
       "      <th>...</th>\n",
       "      <th>water_quality</th>\n",
       "      <th>quality_group</th>\n",
       "      <th>quantity</th>\n",
       "      <th>source</th>\n",
       "      <th>source_class</th>\n",
       "      <th>waterpoint_type</th>\n",
       "      <th>status_group</th>\n",
       "      <th>year_recorded</th>\n",
       "      <th>month_recorded</th>\n",
       "      <th>dayofweek_recorded</th>\n",
       "    </tr>\n",
       "  </thead>\n",
       "  <tbody>\n",
       "    <tr>\n",
       "      <th>0</th>\n",
       "      <td>69572</td>\n",
       "      <td>6000.0</td>\n",
       "      <td>2011-03-14</td>\n",
       "      <td>roman</td>\n",
       "      <td>1390</td>\n",
       "      <td>roman</td>\n",
       "      <td>34.938093</td>\n",
       "      <td>-9.856322</td>\n",
       "      <td>none</td>\n",
       "      <td>Lake Nyasa</td>\n",
       "      <td>...</td>\n",
       "      <td>soft</td>\n",
       "      <td>good</td>\n",
       "      <td>enough</td>\n",
       "      <td>spring</td>\n",
       "      <td>groundwater</td>\n",
       "      <td>communal standpipe</td>\n",
       "      <td>functional</td>\n",
       "      <td>2011</td>\n",
       "      <td>3</td>\n",
       "      <td>0</td>\n",
       "    </tr>\n",
       "    <tr>\n",
       "      <th>1</th>\n",
       "      <td>8776</td>\n",
       "      <td>0.0</td>\n",
       "      <td>2013-03-06</td>\n",
       "      <td>grumeti</td>\n",
       "      <td>1399</td>\n",
       "      <td>grumeti</td>\n",
       "      <td>34.698766</td>\n",
       "      <td>-2.147466</td>\n",
       "      <td>Zahanati</td>\n",
       "      <td>Lake Victoria</td>\n",
       "      <td>...</td>\n",
       "      <td>soft</td>\n",
       "      <td>good</td>\n",
       "      <td>insufficient</td>\n",
       "      <td>rainwater harvesting</td>\n",
       "      <td>surface</td>\n",
       "      <td>communal standpipe</td>\n",
       "      <td>functional</td>\n",
       "      <td>2013</td>\n",
       "      <td>3</td>\n",
       "      <td>2</td>\n",
       "    </tr>\n",
       "    <tr>\n",
       "      <th>2</th>\n",
       "      <td>34310</td>\n",
       "      <td>25.0</td>\n",
       "      <td>2013-02-25</td>\n",
       "      <td>lottery club</td>\n",
       "      <td>686</td>\n",
       "      <td>world vision</td>\n",
       "      <td>37.460664</td>\n",
       "      <td>-3.821329</td>\n",
       "      <td>Kwa Mahundi</td>\n",
       "      <td>Pangani</td>\n",
       "      <td>...</td>\n",
       "      <td>soft</td>\n",
       "      <td>good</td>\n",
       "      <td>enough</td>\n",
       "      <td>dam</td>\n",
       "      <td>surface</td>\n",
       "      <td>communal standpipe multiple</td>\n",
       "      <td>functional</td>\n",
       "      <td>2013</td>\n",
       "      <td>2</td>\n",
       "      <td>0</td>\n",
       "    </tr>\n",
       "    <tr>\n",
       "      <th>3</th>\n",
       "      <td>67743</td>\n",
       "      <td>0.0</td>\n",
       "      <td>2013-01-28</td>\n",
       "      <td>unicef</td>\n",
       "      <td>263</td>\n",
       "      <td>unicef</td>\n",
       "      <td>38.486161</td>\n",
       "      <td>-11.155298</td>\n",
       "      <td>Zahanati Ya Nanyumbu</td>\n",
       "      <td>Ruvuma / Southern Coast</td>\n",
       "      <td>...</td>\n",
       "      <td>soft</td>\n",
       "      <td>good</td>\n",
       "      <td>dry</td>\n",
       "      <td>machine dbh</td>\n",
       "      <td>groundwater</td>\n",
       "      <td>communal standpipe multiple</td>\n",
       "      <td>non functional</td>\n",
       "      <td>2013</td>\n",
       "      <td>1</td>\n",
       "      <td>0</td>\n",
       "    </tr>\n",
       "    <tr>\n",
       "      <th>4</th>\n",
       "      <td>19728</td>\n",
       "      <td>0.0</td>\n",
       "      <td>2011-07-13</td>\n",
       "      <td>action in a</td>\n",
       "      <td>0</td>\n",
       "      <td>artisan</td>\n",
       "      <td>31.130847</td>\n",
       "      <td>-1.825359</td>\n",
       "      <td>Shuleni</td>\n",
       "      <td>Lake Victoria</td>\n",
       "      <td>...</td>\n",
       "      <td>soft</td>\n",
       "      <td>good</td>\n",
       "      <td>seasonal</td>\n",
       "      <td>rainwater harvesting</td>\n",
       "      <td>surface</td>\n",
       "      <td>communal standpipe</td>\n",
       "      <td>functional</td>\n",
       "      <td>2011</td>\n",
       "      <td>7</td>\n",
       "      <td>2</td>\n",
       "    </tr>\n",
       "  </tbody>\n",
       "</table>\n",
       "<p>5 rows × 36 columns</p>\n",
       "</div>"
      ],
      "text/plain": [
       "      id  amount_tsh date_recorded        funder  gps_height     installer  \\\n",
       "0  69572      6000.0    2011-03-14         roman        1390         roman   \n",
       "1   8776         0.0    2013-03-06       grumeti        1399       grumeti   \n",
       "2  34310        25.0    2013-02-25  lottery club         686  world vision   \n",
       "3  67743         0.0    2013-01-28        unicef         263        unicef   \n",
       "4  19728         0.0    2011-07-13   action in a           0       artisan   \n",
       "\n",
       "   longitude   latitude              wpt_name                    basin  ...  \\\n",
       "0  34.938093  -9.856322                  none               Lake Nyasa  ...   \n",
       "1  34.698766  -2.147466              Zahanati            Lake Victoria  ...   \n",
       "2  37.460664  -3.821329           Kwa Mahundi                  Pangani  ...   \n",
       "3  38.486161 -11.155298  Zahanati Ya Nanyumbu  Ruvuma / Southern Coast  ...   \n",
       "4  31.130847  -1.825359               Shuleni            Lake Victoria  ...   \n",
       "\n",
       "  water_quality quality_group      quantity                source  \\\n",
       "0          soft          good        enough                spring   \n",
       "1          soft          good  insufficient  rainwater harvesting   \n",
       "2          soft          good        enough                   dam   \n",
       "3          soft          good           dry           machine dbh   \n",
       "4          soft          good      seasonal  rainwater harvesting   \n",
       "\n",
       "  source_class              waterpoint_type    status_group  year_recorded  \\\n",
       "0  groundwater           communal standpipe      functional           2011   \n",
       "1      surface           communal standpipe      functional           2013   \n",
       "2      surface  communal standpipe multiple      functional           2013   \n",
       "3  groundwater  communal standpipe multiple  non functional           2013   \n",
       "4      surface           communal standpipe      functional           2011   \n",
       "\n",
       "  month_recorded dayofweek_recorded  \n",
       "0              3                  0  \n",
       "1              3                  2  \n",
       "2              2                  0  \n",
       "3              1                  0  \n",
       "4              7                  2  \n",
       "\n",
       "[5 rows x 36 columns]"
      ]
     },
     "execution_count": 4326,
     "metadata": {},
     "output_type": "execute_result"
    }
   ],
   "source": [
    "df_train.head()"
   ]
  },
  {
   "cell_type": "markdown",
   "id": "e1c3bc4d",
   "metadata": {},
   "source": [
    "# Handling missing values"
   ]
  },
  {
   "cell_type": "code",
   "execution_count": 4327,
   "id": "4ed303d6",
   "metadata": {},
   "outputs": [
    {
     "data": {
      "text/plain": [
       "scheme_name              22523\n",
       "construction_year        16600\n",
       "scheme_management         3125\n",
       "public_meeting            2651\n",
       "permit                    2426\n",
       "subvillage                 298\n",
       "waterpoint_type              0\n",
       "source_class                 0\n",
       "source                       0\n",
       "quantity                     0\n",
       "status_group                 0\n",
       "water_quality                0\n",
       "payment_type                 0\n",
       "management_group             0\n",
       "management                   0\n",
       "extraction_type_class        0\n",
       "year_recorded                0\n",
       "month_recorded               0\n",
       "quality_group                0\n",
       "id                           0\n",
       "amount_tsh                   0\n",
       "population                   0\n",
       "ward                         0\n",
       "lga                          0\n",
       "district_code                0\n",
       "region_code                  0\n",
       "region                       0\n",
       "basin                        0\n",
       "wpt_name                     0\n",
       "latitude                     0\n",
       "longitude                    0\n",
       "installer                    0\n",
       "gps_height                   0\n",
       "funder                       0\n",
       "date_recorded                0\n",
       "dayofweek_recorded           0\n",
       "dtype: int64"
      ]
     },
     "execution_count": 4327,
     "metadata": {},
     "output_type": "execute_result"
    }
   ],
   "source": [
    "missing_counts = df_train.isna().sum().sort_values(ascending=False)\n",
    "missing_counts"
   ]
  },
  {
   "cell_type": "code",
   "execution_count": 4328,
   "id": "6dfbd555",
   "metadata": {},
   "outputs": [
    {
     "name": "stdout",
     "output_type": "stream",
     "text": [
      "\n",
      "Unique values in column 'id':\n",
      "[69572  8776 34310 ... 22662 39854 45078]\n",
      "\n",
      "Unique values in column 'amount_tsh':\n",
      "[6.00e+03 0.00e+00 2.50e+01 2.00e+01 2.00e+02 5.00e+02 5.00e+01 4.00e+03\n",
      " 1.50e+03 6.00e+00 2.50e+02 1.00e+01 1.00e+03 1.00e+02 3.00e+01 2.00e+03\n",
      " 4.00e+02 1.20e+03 4.00e+01 3.00e+02 2.50e+04 7.50e+02 5.00e+03 6.00e+02\n",
      " 7.20e+03 2.40e+03 5.00e+00 3.60e+03 4.50e+02 4.00e+04 1.20e+04 3.00e+03\n",
      " 7.00e+00 2.00e+04 2.80e+03 2.20e+03 7.00e+01 5.50e+03 1.00e+04 2.50e+03\n",
      " 6.50e+03 5.50e+02 3.30e+01 8.00e+03 4.70e+03 7.00e+03 1.40e+04 1.30e+03\n",
      " 1.00e+05 7.00e+02 1.00e+00 6.00e+01 3.50e+02 2.00e-01 3.50e+01 3.06e+02\n",
      " 8.50e+03 1.17e+05 3.50e+03 5.20e+02 1.50e+01 6.30e+03 9.00e+03 1.50e+02\n",
      " 1.20e+05 1.38e+05 3.50e+05 4.50e+03 1.30e+04 4.50e+04 2.00e+00 1.50e+04\n",
      " 1.10e+04 5.00e+04 7.50e+03 1.63e+04 8.00e+02 1.60e+04 3.00e+04 5.30e+01\n",
      " 5.40e+03 7.00e+04 2.50e+05 2.00e+05 2.60e+04 1.80e+04 2.60e+01 5.90e+02\n",
      " 9.00e+02 9.00e+00 1.40e+03 1.70e+05 2.20e+02]\n",
      "\n",
      "Unique values in column 'date_recorded':\n",
      "['2011-03-14T00:00:00.000000000' '2013-03-06T00:00:00.000000000'\n",
      " '2013-02-25T00:00:00.000000000' '2013-01-28T00:00:00.000000000'\n",
      " '2011-07-13T00:00:00.000000000' '2011-03-13T00:00:00.000000000'\n",
      " '2012-10-01T00:00:00.000000000' '2012-10-09T00:00:00.000000000'\n",
      " '2012-11-03T00:00:00.000000000' '2011-08-03T00:00:00.000000000'\n",
      " '2011-02-20T00:00:00.000000000' '2013-02-18T00:00:00.000000000'\n",
      " '2012-10-14T00:00:00.000000000' '2013-03-15T00:00:00.000000000'\n",
      " '2012-10-20T00:00:00.000000000' '2011-08-04T00:00:00.000000000'\n",
      " '2011-07-04T00:00:00.000000000' '2011-09-04T00:00:00.000000000'\n",
      " '2011-07-22T00:00:00.000000000' '2011-02-22T00:00:00.000000000'\n",
      " '2011-02-27T00:00:00.000000000' '2013-02-10T00:00:00.000000000'\n",
      " '2011-10-04T00:00:00.000000000' '2013-11-03T00:00:00.000000000'\n",
      " '2013-01-21T00:00:00.000000000' '2013-01-16T00:00:00.000000000'\n",
      " '2011-07-11T00:00:00.000000000' '2013-03-05T00:00:00.000000000'\n",
      " '2013-03-16T00:00:00.000000000' '2011-03-23T00:00:00.000000000'\n",
      " '2011-03-16T00:00:00.000000000' '2013-03-19T00:00:00.000000000'\n",
      " '2011-03-11T00:00:00.000000000' '2011-02-23T00:00:00.000000000'\n",
      " '2013-03-28T00:00:00.000000000' '2011-07-16T00:00:00.000000000'\n",
      " '2011-03-27T00:00:00.000000000' '2013-02-11T00:00:00.000000000'\n",
      " '2013-10-03T00:00:00.000000000' '2011-03-12T00:00:00.000000000'\n",
      " '2011-07-07T00:00:00.000000000' '2013-01-15T00:00:00.000000000'\n",
      " '2013-03-18T00:00:00.000000000' '2012-10-22T00:00:00.000000000'\n",
      " '2013-02-05T00:00:00.000000000' '2011-07-27T00:00:00.000000000'\n",
      " '2011-04-04T00:00:00.000000000' '2013-02-21T00:00:00.000000000'\n",
      " '2011-08-18T00:00:00.000000000' '2011-07-31T00:00:00.000000000'\n",
      " '2011-08-01T00:00:00.000000000' '2011-07-14T00:00:00.000000000'\n",
      " '2013-02-22T00:00:00.000000000' '2013-07-03T00:00:00.000000000'\n",
      " '2013-08-03T00:00:00.000000000' '2013-01-22T00:00:00.000000000'\n",
      " '2011-03-22T00:00:00.000000000' '2013-05-03T00:00:00.000000000'\n",
      " '2013-01-19T00:00:00.000000000' '2013-02-09T00:00:00.000000000'\n",
      " '2011-01-04T00:00:00.000000000' '2013-02-04T00:00:00.000000000'\n",
      " '2011-03-05T00:00:00.000000000' '2011-03-31T00:00:00.000000000'\n",
      " '2013-02-27T00:00:00.000000000' '2011-08-07T00:00:00.000000000'\n",
      " '2011-03-30T00:00:00.000000000' '2012-10-23T00:00:00.000000000'\n",
      " '2011-03-02T00:00:00.000000000' '2011-03-04T00:00:00.000000000'\n",
      " '2013-03-14T00:00:00.000000000' '2012-10-18T00:00:00.000000000'\n",
      " '2011-08-08T00:00:00.000000000' '2011-09-05T00:00:00.000000000'\n",
      " '2011-04-11T00:00:00.000000000' '2013-01-17T00:00:00.000000000'\n",
      " '2013-01-20T00:00:00.000000000' '2013-01-27T00:00:00.000000000'\n",
      " '2013-02-19T00:00:00.000000000' '2012-10-06T00:00:00.000000000'\n",
      " '2013-02-13T00:00:00.000000000' '2013-02-26T00:00:00.000000000'\n",
      " '2013-02-16T00:00:00.000000000' '2013-02-17T00:00:00.000000000'\n",
      " '2011-07-21T00:00:00.000000000' '2011-03-07T00:00:00.000000000'\n",
      " '2011-07-12T00:00:00.000000000' '2011-07-17T00:00:00.000000000'\n",
      " '2011-04-07T00:00:00.000000000' '2011-04-10T00:00:00.000000000'\n",
      " '2012-10-29T00:00:00.000000000' '2011-02-25T00:00:00.000000000'\n",
      " '2012-10-11T00:00:00.000000000' '2013-02-14T00:00:00.000000000'\n",
      " '2012-10-05T00:00:00.000000000' '2011-07-19T00:00:00.000000000'\n",
      " '2011-04-15T00:00:00.000000000' '2011-03-17T00:00:00.000000000'\n",
      " '2013-01-25T00:00:00.000000000' '2011-10-07T00:00:00.000000000'\n",
      " '2011-02-24T00:00:00.000000000' '2013-03-21T00:00:00.000000000'\n",
      " '2011-08-02T00:00:00.000000000' '2011-02-03T00:00:00.000000000'\n",
      " '2013-01-24T00:00:00.000000000' '2012-10-21T00:00:00.000000000'\n",
      " '2011-04-16T00:00:00.000000000' '2013-02-03T00:00:00.000000000'\n",
      " '2013-02-24T00:00:00.000000000' '2011-04-02T00:00:00.000000000'\n",
      " '2012-10-19T00:00:00.000000000' '2013-01-30T00:00:00.000000000'\n",
      " '2011-03-03T00:00:00.000000000' '2011-08-17T00:00:00.000000000'\n",
      " '2011-03-28T00:00:00.000000000' '2011-07-23T00:00:00.000000000'\n",
      " '2013-02-06T00:00:00.000000000' '2011-08-11T00:00:00.000000000'\n",
      " '2011-03-09T00:00:00.000000000' '2011-03-18T00:00:00.000000000'\n",
      " '2013-03-07T00:00:00.000000000' '2011-08-14T00:00:00.000000000'\n",
      " '2013-09-03T00:00:00.000000000' '2011-02-16T00:00:00.000000000'\n",
      " '2011-04-03T00:00:00.000000000' '2011-07-09T00:00:00.000000000'\n",
      " '2011-04-12T00:00:00.000000000' '2011-04-14T00:00:00.000000000'\n",
      " '2011-03-10T00:00:00.000000000' '2013-03-25T00:00:00.000000000'\n",
      " '2013-02-28T00:00:00.000000000' '2013-01-18T00:00:00.000000000'\n",
      " '2012-10-10T00:00:00.000000000' '2011-07-03T00:00:00.000000000'\n",
      " '2011-08-05T00:00:00.000000000' '2011-07-20T00:00:00.000000000'\n",
      " '2013-03-13T00:00:00.000000000' '2011-03-15T00:00:00.000000000'\n",
      " '2011-07-18T00:00:00.000000000' '2013-03-03T00:00:00.000000000'\n",
      " '2011-11-07T00:00:00.000000000' '2013-04-04T00:00:00.000000000'\n",
      " '2012-10-16T00:00:00.000000000' '2013-03-23T00:00:00.000000000'\n",
      " '2013-04-03T00:00:00.000000000' '2013-02-08T00:00:00.000000000'\n",
      " '2011-03-21T00:00:00.000000000' '2011-04-05T00:00:00.000000000'\n",
      " '2012-10-15T00:00:00.000000000' '2011-03-19T00:00:00.000000000'\n",
      " '2013-06-03T00:00:00.000000000' '2013-03-29T00:00:00.000000000'\n",
      " '2012-10-28T00:00:00.000000000' '2011-07-15T00:00:00.000000000'\n",
      " '2012-10-12T00:00:00.000000000' '2011-07-29T00:00:00.000000000'\n",
      " '2011-08-06T00:00:00.000000000' '2012-10-13T00:00:00.000000000'\n",
      " '2013-03-02T00:00:00.000000000' '2013-02-12T00:00:00.000000000'\n",
      " '2013-01-29T00:00:00.000000000' '2013-01-04T00:00:00.000000000'\n",
      " '2012-10-25T00:00:00.000000000' '2012-11-13T00:00:00.000000000'\n",
      " '2013-02-01T00:00:00.000000000' '2011-08-10T00:00:00.000000000'\n",
      " '2013-03-17T00:00:00.000000000' '2011-07-30T00:00:00.000000000'\n",
      " '2011-02-21T00:00:00.000000000' '2011-02-17T00:00:00.000000000'\n",
      " '2011-08-19T00:00:00.000000000' '2013-02-15T00:00:00.000000000'\n",
      " '2013-02-02T00:00:00.000000000' '2013-01-26T00:00:00.000000000'\n",
      " '2011-04-06T00:00:00.000000000' '2011-08-21T00:00:00.000000000'\n",
      " '2013-03-24T00:00:00.000000000' '2013-10-02T00:00:00.000000000'\n",
      " '2011-04-01T00:00:00.000000000' '2013-02-23T00:00:00.000000000'\n",
      " '2013-02-20T00:00:00.000000000' '2011-04-08T00:00:00.000000000'\n",
      " '2011-03-29T00:00:00.000000000' '2011-03-25T00:00:00.000000000'\n",
      " '2013-03-01T00:00:00.000000000' '2013-05-04T00:00:00.000000000'\n",
      " '2012-11-05T00:00:00.000000000' '2011-03-24T00:00:00.000000000'\n",
      " '2011-03-20T00:00:00.000000000' '2013-03-04T00:00:00.000000000'\n",
      " '2012-10-26T00:00:00.000000000' '2013-06-04T00:00:00.000000000'\n",
      " '2011-08-20T00:00:00.000000000' '2013-02-07T00:00:00.000000000'\n",
      " '2011-07-24T00:00:00.000000000' '2011-07-25T00:00:00.000000000'\n",
      " '2013-03-22T00:00:00.000000000' '2013-08-02T00:00:00.000000000'\n",
      " '2011-07-28T00:00:00.000000000' '2013-03-12T00:00:00.000000000'\n",
      " '2013-03-30T00:00:00.000000000' '2013-12-03T00:00:00.000000000'\n",
      " '2011-03-26T00:00:00.000000000' '2011-03-08T00:00:00.000000000'\n",
      " '2013-01-23T00:00:00.000000000' '2012-11-04T00:00:00.000000000'\n",
      " '2012-10-02T00:00:00.000000000' '2012-10-07T00:00:00.000000000'\n",
      " '2011-04-18T00:00:00.000000000' '2012-11-15T00:00:00.000000000'\n",
      " '2011-08-12T00:00:00.000000000' '2011-08-23T00:00:00.000000000'\n",
      " '2012-10-08T00:00:00.000000000' '2011-02-26T00:00:00.000000000'\n",
      " '2013-03-26T00:00:00.000000000' '2011-03-01T00:00:00.000000000'\n",
      " '2012-12-14T00:00:00.000000000' '2011-02-14T00:00:00.000000000'\n",
      " '2013-01-14T00:00:00.000000000' '2012-10-04T00:00:00.000000000'\n",
      " '2011-07-26T00:00:00.000000000' '2012-10-27T00:00:00.000000000'\n",
      " '2012-10-17T00:00:00.000000000' '2013-09-02T00:00:00.000000000'\n",
      " '2012-10-03T00:00:00.000000000' '2013-03-20T00:00:00.000000000'\n",
      " '2012-11-08T00:00:00.000000000' '2011-02-15T00:00:00.000000000'\n",
      " '2012-10-24T00:00:00.000000000' '2013-03-10T00:00:00.000000000'\n",
      " '2011-07-06T00:00:00.000000000' '2011-07-08T00:00:00.000000000'\n",
      " '2012-12-13T00:00:00.000000000' '2011-08-25T00:00:00.000000000'\n",
      " '2004-08-01T00:00:00.000000000' '2011-04-09T00:00:00.000000000'\n",
      " '2012-10-31T00:00:00.000000000' '2011-03-06T00:00:00.000000000'\n",
      " '2013-07-02T00:00:00.000000000' '2012-11-12T00:00:00.000000000'\n",
      " '2011-02-28T00:00:00.000000000' '2011-02-02T00:00:00.000000000'\n",
      " '2013-01-31T00:00:00.000000000' '2011-07-10T00:00:00.000000000'\n",
      " '2011-04-17T00:00:00.000000000' '2011-07-05T00:00:00.000000000'\n",
      " '2011-06-04T00:00:00.000000000' '2011-08-22T00:00:00.000000000'\n",
      " '2011-01-03T00:00:00.000000000' '2013-01-13T00:00:00.000000000'\n",
      " '2012-11-09T00:00:00.000000000' '2013-01-11T00:00:00.000000000'\n",
      " '2011-01-08T00:00:00.000000000' '2013-07-04T00:00:00.000000000'\n",
      " '2011-02-18T00:00:00.000000000' '2011-08-13T00:00:00.000000000'\n",
      " '2012-11-06T00:00:00.000000000' '2011-06-03T00:00:00.000000000'\n",
      " '2013-01-12T00:00:00.000000000' '2013-03-08T00:00:00.000000000'\n",
      " '2004-12-01T00:00:00.000000000' '2012-12-16T00:00:00.000000000'\n",
      " '2011-04-13T00:00:00.000000000' '2012-11-01T00:00:00.000000000'\n",
      " '2013-03-27T00:00:00.000000000' '2011-12-03T00:00:00.000000000'\n",
      " '2013-01-08T00:00:00.000000000' '2011-04-19T00:00:00.000000000'\n",
      " '2012-12-15T00:00:00.000000000' '2012-10-30T00:00:00.000000000'\n",
      " '2011-08-16T00:00:00.000000000' '2013-01-07T00:00:00.000000000'\n",
      " '2013-01-03T00:00:00.000000000' '2013-05-02T00:00:00.000000000'\n",
      " '2011-08-15T00:00:00.000000000' '2011-02-19T00:00:00.000000000'\n",
      " '2011-11-03T00:00:00.000000000' '2011-04-21T00:00:00.000000000'\n",
      " '2013-01-10T00:00:00.000000000' '2012-11-10T00:00:00.000000000'\n",
      " '2011-12-07T00:00:00.000000000' '2012-11-11T00:00:00.000000000'\n",
      " '2011-10-03T00:00:00.000000000' '2011-08-26T00:00:00.000000000'\n",
      " '2011-04-22T00:00:00.000000000' '2011-08-09T00:00:00.000000000'\n",
      " '2011-06-07T00:00:00.000000000' '2002-10-14T00:00:00.000000000'\n",
      " '2013-03-09T00:00:00.000000000' '2011-02-04T00:00:00.000000000'\n",
      " '2013-01-09T00:00:00.000000000' '2012-12-12T00:00:00.000000000'\n",
      " '2012-11-14T00:00:00.000000000' '2012-12-11T00:00:00.000000000'\n",
      " '2011-04-20T00:00:00.000000000' '2012-12-18T00:00:00.000000000'\n",
      " '2011-08-27T00:00:00.000000000' '2013-12-02T00:00:00.000000000'\n",
      " '2013-11-02T00:00:00.000000000' '2011-09-27T00:00:00.000000000'\n",
      " '2011-08-24T00:00:00.000000000' '2011-09-03T00:00:00.000000000'\n",
      " '2012-11-29T00:00:00.000000000' '2011-09-19T00:00:00.000000000'\n",
      " '2012-12-21T00:00:00.000000000' '2012-11-02T00:00:00.000000000'\n",
      " '2013-03-11T00:00:00.000000000' '2012-11-19T00:00:00.000000000'\n",
      " '2011-05-03T00:00:00.000000000' '2012-12-10T00:00:00.000000000'\n",
      " '2011-11-04T00:00:00.000000000' '2004-05-01T00:00:00.000000000'\n",
      " '2004-04-05T00:00:00.000000000' '2012-12-17T00:00:00.000000000'\n",
      " '2012-11-07T00:00:00.000000000' '2012-11-30T00:00:00.000000000'\n",
      " '2004-06-01T00:00:00.000000000' '2011-05-07T00:00:00.000000000'\n",
      " '2012-12-23T00:00:00.000000000' '2011-09-09T00:00:00.000000000'\n",
      " '2012-12-24T00:00:00.000000000' '2011-05-04T00:00:00.000000000'\n",
      " '2011-04-23T00:00:00.000000000' '2013-04-02T00:00:00.000000000'\n",
      " '2011-02-01T00:00:00.000000000' '2011-09-18T00:00:00.000000000'\n",
      " '2011-09-06T00:00:00.000000000' '2011-09-20T00:00:00.000000000'\n",
      " '2004-03-01T00:00:00.000000000' '2011-09-17T00:00:00.000000000'\n",
      " '2013-01-01T00:00:00.000000000' '2004-01-07T00:00:00.000000000'\n",
      " '2004-07-01T00:00:00.000000000' '2011-09-11T00:00:00.000000000'\n",
      " '2011-08-31T00:00:00.000000000' '2011-09-21T00:00:00.000000000'\n",
      " '2011-08-30T00:00:00.000000000' '2011-08-28T00:00:00.000000000'\n",
      " '2011-09-01T00:00:00.000000000' '2011-09-28T00:00:00.000000000'\n",
      " '2011-09-16T00:00:00.000000000' '2011-09-13T00:00:00.000000000'\n",
      " '2011-09-08T00:00:00.000000000' '2011-09-23T00:00:00.000000000'\n",
      " '2013-01-06T00:00:00.000000000' '2011-09-14T00:00:00.000000000'\n",
      " '2004-03-06T00:00:00.000000000' '2012-01-21T00:00:00.000000000'\n",
      " '2012-01-25T00:00:00.000000000' '2011-09-15T00:00:00.000000000'\n",
      " '2011-09-25T00:00:00.000000000' '2004-09-01T00:00:00.000000000']\n",
      "\n",
      "Unique values in column 'funder':\n",
      "['roman' 'grumeti' 'lottery club' ... 'muhindi' 'sumriy'\n",
      " 'kwang-nam middle-school']\n",
      "\n",
      "Unique values in column 'gps_height':\n",
      "[1390 1399  686 ... 2309 2388 2357]\n",
      "\n",
      "Unique values in column 'installer':\n",
      "['roman' 'grumeti' 'world vision' ... 'baptist church of tanzania' 'a.d.b'\n",
      " 'omary mona']\n",
      "\n",
      "Unique values in column 'longitude':\n",
      "[34.93809275 34.6987661  37.46066446 ... 35.26227251 38.97919487\n",
      " 33.42015191]\n",
      "\n",
      "Unique values in column 'latitude':\n",
      "[-9.85632177 -2.14746569 -3.82132853 ... -9.83121934 -6.51999317\n",
      " -2.79507066]\n",
      "\n",
      "Unique values in column 'wpt_name':\n",
      "['none' 'Zahanati' 'Kwa Mahundi' ... 'Kwa Mavula' 'Kwa Mlango'\n",
      " 'Gwamba Luchenje']\n",
      "\n",
      "Unique values in column 'basin':\n",
      "['Lake Nyasa' 'Lake Victoria' 'Pangani' 'Ruvuma / Southern Coast'\n",
      " 'Internal' 'Lake Tanganyika' 'Wami / Ruvu' 'Rufiji' 'Lake Rukwa']\n",
      "\n",
      "Unique values in column 'subvillage':\n",
      "['Mnyusi B' 'Nyamara' 'Majengo' ... 'Kalemela B' 'Mwandutu' 'Gwach']\n",
      "\n",
      "Unique values in column 'region':\n",
      "['Iringa' 'Mara' 'Manyara' 'Mtwara' 'Kagera' 'Tanga' 'Shinyanga' 'Tabora'\n",
      " 'Pwani' 'Ruvuma' 'Kilimanjaro' 'Rukwa' 'Mwanza' 'Kigoma' 'Lindi' 'Dodoma'\n",
      " 'Arusha' 'Mbeya' 'Singida' 'Morogoro' 'Dar es Salaam']\n",
      "\n",
      "Unique values in column 'region_code':\n",
      "[11 20 21 90 18  4 17 14 60 10  3 15 19 16 80  1  6  2 12 13  5  7 99 24\n",
      "  9  8 40]\n",
      "\n",
      "Unique values in column 'district_code':\n",
      "[ 5  2  4 63  1  8  3  6 43  7 23 33 53 62 60 30 13  0 80 67]\n",
      "\n",
      "Unique values in column 'lga':\n",
      "['Ludewa' 'Serengeti' 'Simanjiro' 'Nanyumbu' 'Karagwe' 'Mkinga'\n",
      " 'Shinyanga Rural' 'Kahama' 'Tabora Urban' 'Mkuranga' 'Namtumbo' 'Maswa'\n",
      " 'Siha' 'Meatu' 'Sumbawanga Rural' 'Njombe' 'Ukerewe' 'Bariadi' 'Same'\n",
      " 'Kigoma Rural' 'Moshi Rural' 'Lindi Rural' 'Rombo' 'Chamwino' 'Bagamoyo'\n",
      " 'Mafia' 'Arusha Rural' 'Kyela' 'Kondoa' 'Kilolo' 'Kibondo' 'Makete'\n",
      " 'Singida Rural' 'Masasi' 'Rungwe' 'Moshi Urban' 'Geita' 'Mbulu'\n",
      " 'Bukoba Rural' 'Muheza' 'Lushoto' 'Meru' 'Iramba' 'Kilombero' 'Mbarali'\n",
      " 'Kasulu' 'Bukoba Urban' 'Korogwe' 'Bukombe' 'Morogoro Rural' 'Kishapu'\n",
      " 'Musoma Rural' 'Sengerema' 'Iringa Rural' 'Muleba' 'Dodoma Urban'\n",
      " 'Ruangwa' 'Hanang' 'Misenyi' 'Missungwi' 'Songea Rural' 'Tanga' 'Tunduru'\n",
      " 'Hai' 'Mwanga' 'Chato' 'Biharamulo' 'Ileje' 'Mpwapwa' 'Mvomero' 'Bunda'\n",
      " 'Kiteto' 'Longido' 'Urambo' 'Mbozi' 'Sikonge' 'Ilala' 'Tarime' 'Temeke'\n",
      " 'Mbeya Rural' 'Magu' 'Manyoni' 'Igunga' 'Kilosa' 'Babati' 'Chunya'\n",
      " 'Mufindi' 'Mtwara Rural' 'Ngara' 'Karatu' 'Mpanda' 'Kibaha'\n",
      " 'Singida Urban' 'Newala' 'Nzega' 'Nkasi' 'Bahi' 'Mbinga' 'Ulanga'\n",
      " 'Sumbawanga Urban' 'Morogoro Urban' 'Tandahimba' 'Kisarawe'\n",
      " 'Mtwara Urban' 'Kilwa' 'Liwale' 'Kongwa' 'Uyui' 'Rufiji' 'Kwimba'\n",
      " 'Monduli' 'Shinyanga Urban' 'Ngorongoro' 'Handeni' 'Rorya' 'Pangani'\n",
      " 'Lindi Urban' 'Nachingwea' 'Kinondoni' 'Kigoma Urban' 'Ilemela' 'Kilindi'\n",
      " 'Arusha Urban' 'Songea Urban' 'Nyamagana']\n",
      "\n",
      "Unique values in column 'ward':\n",
      "['Mundindi' 'Natta' 'Ngorika' ... 'Bureza' 'Manyondwe' 'Jibondo']\n",
      "\n",
      "Unique values in column 'population':\n",
      "[  109   280   250    58     0     1   345   200    35    50  1000     4\n",
      "   350   210   156   140   260   150   180    70   100   230    30    20\n",
      "    10    45   456   567   130   225    54    75   900   360   544   441\n",
      "   120    40   221   950  1430   110   256   320    90   804   600   370\n",
      "   305  1600   400   590   450    80   560  2500  1050    36   540   300\n",
      "    12   632   245    32    59    25   500   570   700   111   630   270\n",
      "    55  1700   800    87  2530    86    96   240   203   215    98   160\n",
      "  1200   309    95    60    85   159    65    48  2150  1013   220  1680\n",
      "   375  2000   125  3226   253    88   820   133   650   163   430   290\n",
      "  2100   285   425   155  1500   185   368   115   520   406   970    52\n",
      "   750   380   123   730   105   452  1320    14   261    82   550   393\n",
      "   348    89   412   530   386   278   212   340   568   418    56   516\n",
      "  6922   183     6   980   263   480  1250     8   321   420   620  5153\n",
      "  2353   440  1015   269    44   174   323   233   258   152    42   358\n",
      "   211   855  1020    15    69   145    22   246    99   137   124   680\n",
      "   740   333  1180    53   355  1041   390   265   465  1632  1360   182\n",
      "  2395   356   580   453    46   471   284     9   819  1506    68   132\n",
      "   369   235   144   591   103   335   875   812   195     5   315   685\n",
      "   548   554   860    83  2200  3200  1070   415   455   850  1650   222\n",
      "  2800   330   670   780   608   162   357  1570   231   135   114   531\n",
      "    57   234   101   170  1530   134    67   176   610   154    26  2013\n",
      "   204   213   405   236   239   532    64   458  1140   153  4100   126\n",
      "   205  1740  2300   749   190  1850   802  1400   595   217    23   365\n",
      "   168  1009   139    97  2698   143   198    84   810   640   445   634\n",
      "   954    17  1220    72  5030   720   579   295   341   563   310    76\n",
      "  1040   107   338  1100   840   189   413   352   423   325  4005   679\n",
      "  1750   896  1800  3500   710    61   385   362  3020   690  4500   460\n",
      "   459   397  4000   157   206   475   346   268   186   164  1161   779\n",
      "  3127  3000   354    38   542   656   897   181   259   890   769    63\n",
      "   759    94  7500   367   119   863   512  5000   255   243    49   396\n",
      "   654  6000   102   254   374  1450   264  6500  1520  1486   574   266\n",
      "   313   432   569   241   602  1160   209   653   165  4900     2  1177\n",
      "   628    81   106   108   487   175   158   483   267  7000   543  3110\n",
      "   219   603  1900  4210   149    16  2445   271   142   251  1540   410\n",
      "   736  1930   117   857    39   286   490   147   299  3981    66   302\n",
      "   960   502   128   956   298   188   510    29   146   830   324  1903\n",
      "    79   842   192  1440   312   495   274  1226   616   825   513  1230\n",
      "   293   488  2210   167  1300   660  5500   519   194  1614   578   734\n",
      "  1280   499   238   478  2130   536   668   214   318   533   327   760\n",
      "   291   457   525   743   223   294  3800   556  1237   224  1030   715\n",
      "   963   287  4523  2700   317  1034   178    19  3600   790   742    18\n",
      "   462   273   199   232   470   172   289   586  1550   770   249   442\n",
      "  1205   193   655  2400    78   658   216   296   662   226   454    13\n",
      "   244   589  4550   435   528  5600  1185  8000   306   561   596   703\n",
      "  2016   592   127  1807   893   288  2129   558  4530   675   935   392\n",
      "   834   725   587  1960    11   594   257    73   698   467   588   382\n",
      "   112   722    92   726   663   732   136    24  3072  1724  4600   297\n",
      "   886    34  5200    74   438   151   856   853   275  8600  2350  2385\n",
      "  1065   336   635  1056   529   798   411   598   865   351  1860  3450\n",
      "   816   585   961  2560   524   161   642   361   347  1234   314   665\n",
      "  1150  1120   545  9865   461   177   748  1036   247   113   301   427\n",
      "   565  5016   814   329    51  1502   252  1720   501   927   721   303\n",
      "  9500   498  2620  1830   538   476   116  3832   322  5400   276  6300\n",
      " 15300   712   344   621  2813   207   447  2020   468    27  4230   389\n",
      "   328   674  1950   874   196   208  4200  1483   384    43   645   521\n",
      "    28    93   353   395   880  1193   678  1831   304  1305   122  1436\n",
      "   283  1510  1251   218   625   523   755  1968   227   433   714    71\n",
      "   537   572   121  1306  6800   807   463   237   407  1685  2954    33\n",
      "   575   966  2780   629   643  1890  8848   482   334   571    37  2684\n",
      "  2630   672   964   930  1942  3540   583   331   646  2314  1885   242\n",
      "   511   202   518   408   359   581  5050   652   786   584   723   948\n",
      "   517     3   870   735   184   606    77  6330   566   326   489   281\n",
      "  2050  1038   843  8500     7   701   104  1590   486   148  1206   376\n",
      "   905   657   745   821   782   448  3050   272  1380   171  2514   421\n",
      "   141   428  1432  1019   618  6854   527  2652   823  5300   564  1265\n",
      "  1840   815    41   201  3236  1375   248  3982   444  4310   402   903\n",
      "   686   469    47   308   339   638   479   187   496   129   684   906\n",
      "  2450   633  2807   503   364   535   292   793   869   882   332  1350\n",
      "  1710   229   756   974  3014   746  3821  4800   372   711  1630   169\n",
      "  2600  1863  1745   437  1114   789 10000   492   424  4145 30500   431\n",
      "  2670   118  1534  1839  3355  1274  1560   228  9000   868  2511   887\n",
      "   485   805  4520  1018   504    62  3560   619  1010  1444   131  1240\n",
      "   669   262   497   515   342  2198   705   879  1619   547   731   901\n",
      "   514   771    21  1060   965  2683  1152  5550   179   522  4660   910\n",
      "   552   639   506  1025   546   419   920   609  1080  1354   940  5560\n",
      "   990  7530   615   491  3344  2310  1420   753   624  2890  2416   687\n",
      "   827   694   713   343  1054   282   702  2345   934   279   436  1470\n",
      "   379   426  2531  2230   836  3241   451    31  1201   349   637  1362\n",
      "  1625   724  3750   403   508  2685   363  1021  1580   366   914  1555\n",
      "  2248   612  1410   889   864  3455   166   439   422  1742   704   443\n",
      "   733  4788  1523   507  2880  3411  1203   617]\n",
      "\n",
      "Unique values in column 'public_meeting':\n",
      "<BooleanArray>\n",
      "[True, <NA>, False]\n",
      "Length: 3, dtype: boolean\n",
      "\n",
      "Unique values in column 'scheme_management':\n",
      "['VWC' 'Other' nan 'Private operator' 'WUG' 'Water Board' 'WUA'\n",
      " 'Water authority' 'Company' 'Parastatal' 'Trust' 'SWC' 'None']\n",
      "\n",
      "Unique values in column 'scheme_name':\n",
      "['Roman' nan 'Nyumba ya mungu pipe scheme' ...\n",
      " 'Mradi wa maji wa mbinu mha' 'v' 'Magoto piped Water seplly']\n",
      "\n",
      "Unique values in column 'permit':\n",
      "<BooleanArray>\n",
      "[False, True, <NA>]\n",
      "Length: 3, dtype: boolean\n",
      "\n",
      "Unique values in column 'construction_year':\n",
      "['1999-01-01T00:00:00.000000000' '2010-01-01T00:00:00.000000000'\n",
      " '2009-01-01T00:00:00.000000000' '1986-01-01T00:00:00.000000000'\n",
      "                           'NaT' '2011-01-01T00:00:00.000000000'\n",
      " '1987-01-01T00:00:00.000000000' '1991-01-01T00:00:00.000000000'\n",
      " '1978-01-01T00:00:00.000000000' '1992-01-01T00:00:00.000000000'\n",
      " '2008-01-01T00:00:00.000000000' '1974-01-01T00:00:00.000000000'\n",
      " '2000-01-01T00:00:00.000000000' '2002-01-01T00:00:00.000000000'\n",
      " '2004-01-01T00:00:00.000000000' '1972-01-01T00:00:00.000000000'\n",
      " '2003-01-01T00:00:00.000000000' '1980-01-01T00:00:00.000000000'\n",
      " '2007-01-01T00:00:00.000000000' '1973-01-01T00:00:00.000000000'\n",
      " '1985-01-01T00:00:00.000000000' '1970-01-01T00:00:00.000000000'\n",
      " '1995-01-01T00:00:00.000000000' '2006-01-01T00:00:00.000000000'\n",
      " '1962-01-01T00:00:00.000000000' '2005-01-01T00:00:00.000000000'\n",
      " '1997-01-01T00:00:00.000000000' '2012-01-01T00:00:00.000000000'\n",
      " '1996-01-01T00:00:00.000000000' '1977-01-01T00:00:00.000000000'\n",
      " '1983-01-01T00:00:00.000000000' '1984-01-01T00:00:00.000000000'\n",
      " '1990-01-01T00:00:00.000000000' '1982-01-01T00:00:00.000000000'\n",
      " '1976-01-01T00:00:00.000000000' '1988-01-01T00:00:00.000000000'\n",
      " '1989-01-01T00:00:00.000000000' '1975-01-01T00:00:00.000000000'\n",
      " '1960-01-01T00:00:00.000000000' '1961-01-01T00:00:00.000000000'\n",
      " '1998-01-01T00:00:00.000000000' '1963-01-01T00:00:00.000000000'\n",
      " '1971-01-01T00:00:00.000000000' '1994-01-01T00:00:00.000000000'\n",
      " '1968-01-01T00:00:00.000000000' '1993-01-01T00:00:00.000000000'\n",
      " '2001-01-01T00:00:00.000000000' '1979-01-01T00:00:00.000000000'\n",
      " '1967-01-01T00:00:00.000000000' '2013-01-01T00:00:00.000000000'\n",
      " '1969-01-01T00:00:00.000000000' '1981-01-01T00:00:00.000000000'\n",
      " '1964-01-01T00:00:00.000000000' '1966-01-01T00:00:00.000000000'\n",
      " '1965-01-01T00:00:00.000000000']\n",
      "\n",
      "Unique values in column 'extraction_type_class':\n",
      "['gravity' 'submersible' 'handpump' 'other' 'motorpump' 'wind-powered'\n",
      " 'rope pump']\n",
      "\n",
      "Unique values in column 'management':\n",
      "['vwc' 'wug' 'other' 'private operator' 'water board' 'wua' 'company'\n",
      " 'water authority' 'parastatal' 'unknown' 'other - school' 'trust']\n",
      "\n",
      "Unique values in column 'management_group':\n",
      "['user-group' 'other' 'commercial' 'parastatal' 'unknown']\n",
      "\n",
      "Unique values in column 'payment_type':\n",
      "['annually' 'never pay' 'per bucket' 'unknown' 'on failure' 'other'\n",
      " 'monthly']\n",
      "\n",
      "Unique values in column 'water_quality':\n",
      "['soft' 'salty' 'milky' 'unknown' 'fluoride' 'coloured' 'salty abandoned'\n",
      " 'fluoride abandoned']\n",
      "\n",
      "Unique values in column 'quality_group':\n",
      "['good' 'salty' 'milky' 'unknown' 'fluoride' 'colored']\n",
      "\n",
      "Unique values in column 'quantity':\n",
      "['enough' 'insufficient' 'dry' 'seasonal' 'unknown']\n",
      "\n",
      "Unique values in column 'source':\n",
      "['spring' 'rainwater harvesting' 'dam' 'machine dbh' 'other'\n",
      " 'shallow well' 'river' 'hand dtw' 'lake' 'unknown']\n",
      "\n",
      "Unique values in column 'source_class':\n",
      "['groundwater' 'surface' 'unknown']\n",
      "\n",
      "Unique values in column 'waterpoint_type':\n",
      "['communal standpipe' 'communal standpipe multiple' 'hand pump' 'other'\n",
      " 'improved spring' 'cattle trough' 'dam']\n",
      "\n",
      "Unique values in column 'status_group':\n",
      "['functional' 'non functional' 'functional needs repair']\n",
      "\n",
      "Unique values in column 'year_recorded':\n",
      "[2011 2013 2012 2004 2002]\n",
      "\n",
      "Unique values in column 'month_recorded':\n",
      "[ 3  2  1  7 10 11  8  9  4  5  6 12]\n",
      "\n",
      "Unique values in column 'dayofweek_recorded':\n",
      "[0 2 6 1 5 4 3]\n"
     ]
    }
   ],
   "source": [
    "for col in df_train.columns:\n",
    "    print(f\"\\nUnique values in column '{col}':\")\n",
    "    print(df_train[col].unique())"
   ]
  },
  {
   "cell_type": "code",
   "execution_count": 4329,
   "id": "ae2a71d7",
   "metadata": {},
   "outputs": [
    {
     "data": {
      "text/plain": [
       "scheme_name              22523\n",
       "construction_year        16600\n",
       "scheme_management         3125\n",
       "public_meeting            2651\n",
       "permit                    2426\n",
       "subvillage                 298\n",
       "waterpoint_type              0\n",
       "source_class                 0\n",
       "source                       0\n",
       "quantity                     0\n",
       "status_group                 0\n",
       "water_quality                0\n",
       "payment_type                 0\n",
       "management_group             0\n",
       "management                   0\n",
       "extraction_type_class        0\n",
       "year_recorded                0\n",
       "month_recorded               0\n",
       "quality_group                0\n",
       "id                           0\n",
       "amount_tsh                   0\n",
       "population                   0\n",
       "ward                         0\n",
       "lga                          0\n",
       "district_code                0\n",
       "region_code                  0\n",
       "region                       0\n",
       "basin                        0\n",
       "wpt_name                     0\n",
       "latitude                     0\n",
       "longitude                    0\n",
       "installer                    0\n",
       "gps_height                   0\n",
       "funder                       0\n",
       "date_recorded                0\n",
       "dayofweek_recorded           0\n",
       "dtype: int64"
      ]
     },
     "execution_count": 4329,
     "metadata": {},
     "output_type": "execute_result"
    }
   ],
   "source": [
    "missing_na = df_train.isna().sum().sort_values(ascending=False)\n",
    "missing_na\n"
   ]
  },
  {
   "cell_type": "code",
   "execution_count": 4330,
   "id": "8f9e13fd",
   "metadata": {},
   "outputs": [],
   "source": [
    "# Define common non-standard missing values\n",
    "placeholders = ['NaN', 'nan', 'N/A', 'null', 'None', '?', '']\n",
    "\n",
    "# Apply replacement only to object (string) columns\n",
    "for col in df_train.select_dtypes(include='object').columns:\n",
    "    df_train[col] = df_train[col].replace(placeholders, np.nan)"
   ]
  },
  {
   "cell_type": "code",
   "execution_count": 4331,
   "id": "702f0b61",
   "metadata": {},
   "outputs": [
    {
     "name": "stderr",
     "output_type": "stream",
     "text": [
      "c:\\ProgramData\\Anaconda3\\lib\\site-packages\\IPython\\core\\displayhook.py:275: UserWarning: Output cache limit (currently 1000 entries) hit.\n",
      "Flushing oldest 200 entries.\n",
      "  warn('Output cache limit (currently {sz} entries) hit.\\n'\n"
     ]
    },
    {
     "data": {
      "text/plain": [
       "scheme_name              23044\n",
       "construction_year        16600\n",
       "scheme_management         3126\n",
       "installer                 2909\n",
       "funder                    2889\n",
       "public_meeting            2651\n",
       "permit                    2426\n",
       "subvillage                 298\n",
       "wpt_name                     2\n",
       "water_quality                0\n",
       "month_recorded               0\n",
       "management                   0\n",
       "management_group             0\n",
       "payment_type                 0\n",
       "quantity                     0\n",
       "quality_group                0\n",
       "year_recorded                0\n",
       "extraction_type_class        0\n",
       "source_class                 0\n",
       "waterpoint_type              0\n",
       "status_group                 0\n",
       "source                       0\n",
       "id                           0\n",
       "amount_tsh                   0\n",
       "population                   0\n",
       "ward                         0\n",
       "lga                          0\n",
       "district_code                0\n",
       "region_code                  0\n",
       "region                       0\n",
       "basin                        0\n",
       "latitude                     0\n",
       "longitude                    0\n",
       "gps_height                   0\n",
       "date_recorded                0\n",
       "dayofweek_recorded           0\n",
       "dtype: int64"
      ]
     },
     "execution_count": 4331,
     "metadata": {},
     "output_type": "execute_result"
    }
   ],
   "source": [
    "missing_na = df_train.isna().sum().sort_values(ascending=False)\n",
    "missing_na\n"
   ]
  },
  {
   "cell_type": "code",
   "execution_count": 4332,
   "id": "a5b2ff42",
   "metadata": {},
   "outputs": [
    {
     "name": "stdout",
     "output_type": "stream",
     "text": [
      "funder                2889\n",
      "installer             2909\n",
      "wpt_name                 2\n",
      "subvillage             298\n",
      "public_meeting        2651\n",
      "scheme_management     3126\n",
      "scheme_name          23044\n",
      "permit                2426\n",
      "construction_year    16600\n",
      "dtype: int64\n"
     ]
    }
   ],
   "source": [
    "print(df_train.isna().sum()[df_train.isna().sum() > 0])\n"
   ]
  },
  {
   "cell_type": "markdown",
   "id": "f8672318",
   "metadata": {},
   "source": [
    "### Check the Type of Each Column"
   ]
  },
  {
   "cell_type": "code",
   "execution_count": 4333,
   "id": "a9851958",
   "metadata": {},
   "outputs": [
    {
     "name": "stdout",
     "output_type": "stream",
     "text": [
      "funder                       object\n",
      "installer                    object\n",
      "wpt_name                     object\n",
      "subvillage                   object\n",
      "public_meeting              boolean\n",
      "scheme_management            object\n",
      "scheme_name                  object\n",
      "permit                      boolean\n",
      "construction_year    datetime64[ns]\n",
      "dtype: object\n"
     ]
    }
   ],
   "source": [
    "# Show types of columns with missing values\n",
    "missing_cols = df_train.columns[df_train.isnull().any()]\n",
    "print(df_train[missing_cols].dtypes)"
   ]
  },
  {
   "cell_type": "markdown",
   "id": "bc42efd2",
   "metadata": {},
   "source": [
    "### Explore the Distribution and Value Counts"
   ]
  },
  {
   "cell_type": "code",
   "execution_count": 4334,
   "id": "acd7b887",
   "metadata": {},
   "outputs": [
    {
     "name": "stdout",
     "output_type": "stream",
     "text": [
      "\n",
      " funder value counts:\n",
      "government of tanzania    7283\n",
      "NaN                       2889\n",
      "danida                    2496\n",
      "hesawa                    1773\n",
      "world bank                1106\n",
      "rwssp                     1086\n",
      "kkkt                      1038\n",
      "world vision              1008\n",
      "unicef                     858\n",
      "district council           686\n",
      "Name: funder, dtype: int64\n",
      "\n",
      " installer value counts:\n",
      "dwe                   13981\n",
      "NaN                    2909\n",
      "government             1500\n",
      "hesawa                 1130\n",
      "rwe                     945\n",
      "commu                   846\n",
      "danida                  829\n",
      "district council        781\n",
      "kkkt                    735\n",
      "central government      636\n",
      "Name: installer, dtype: int64\n",
      "\n",
      " wpt_name value counts:\n",
      "none               2883\n",
      "Shuleni            1400\n",
      "Zahanati            671\n",
      "Msikitini           400\n",
      "Kanisani            256\n",
      "Sokoni              211\n",
      "Bombani             205\n",
      "Ofisini             203\n",
      "Shule Ya Msingi     165\n",
      "School              161\n",
      "Name: wpt_name, dtype: int64\n",
      "\n",
      " subvillage value counts:\n",
      "Madukani    413\n",
      "Majengo     408\n",
      "Shuleni     401\n",
      "Kati        305\n",
      "NaN         298\n",
      "Mtakuja     203\n",
      "Sokoni      181\n",
      "M           153\n",
      "Muungano    138\n",
      "Mlimani     126\n",
      "Name: subvillage, dtype: int64\n",
      "\n",
      " public_meeting value counts:\n"
     ]
    },
    {
     "name": "stdout",
     "output_type": "stream",
     "text": [
      "True     40783\n",
      "False     4086\n",
      "NaN       2651\n",
      "Name: public_meeting, dtype: Int64\n",
      "\n",
      " scheme_management value counts:\n",
      "VWC                 29436\n",
      "WUG                  4148\n",
      "NaN                  3126\n",
      "Water authority      2532\n",
      "WUA                  2289\n",
      "Water Board          2204\n",
      "Parastatal           1346\n",
      "Company               868\n",
      "Private operator      843\n",
      "Other                 596\n",
      "Name: scheme_management, dtype: int64\n",
      "\n",
      " scheme_name value counts:\n",
      "NaN                            23044\n",
      "K                                556\n",
      "Borehole                         444\n",
      "Chalinze wate                    327\n",
      "M                                310\n",
      "DANIDA                           291\n",
      "Government                       261\n",
      "Ngana water supplied scheme      225\n",
      "wanging'ombe water supply s      223\n",
      "wanging'ombe supply scheme       187\n",
      "Name: scheme_name, dtype: int64\n",
      "\n",
      " permit value counts:\n",
      "True     31050\n",
      "False    14044\n",
      "NaN       2426\n",
      "Name: permit, dtype: Int64\n",
      "\n",
      " construction_year value counts:\n",
      "NaT           16600\n",
      "2010-01-01     2135\n",
      "2008-01-01     2070\n",
      "2009-01-01     2012\n",
      "2000-01-01     1704\n",
      "2007-01-01     1285\n",
      "2006-01-01     1192\n",
      "2003-01-01     1022\n",
      "2011-01-01      988\n",
      "2004-01-01      910\n",
      "Name: construction_year, dtype: int64\n"
     ]
    }
   ],
   "source": [
    "for col in missing_cols:\n",
    "    print(f\"\\n {col} value counts:\")\n",
    "    print(df_train[col].value_counts(dropna=False).head(10))\n"
   ]
  },
  {
   "cell_type": "markdown",
   "id": "cc88157a",
   "metadata": {},
   "source": [
    "### Check Dependency with Other Features (Chi-square and T-test)"
   ]
  },
  {
   "cell_type": "code",
   "execution_count": 4335,
   "id": "01138499",
   "metadata": {},
   "outputs": [
    {
     "name": "stdout",
     "output_type": "stream",
     "text": [
      "\n",
      " Analyzing missingness in: funder\n",
      " Dependent on categorical: basin (p=0.0000)\n",
      " Dependent on categorical: region (p=0.0000)\n",
      " Dependent on categorical: lga (p=0.0000)\n",
      " Dependent on categorical: ward (p=0.0000)\n",
      " Dependent on categorical: extraction_type_class (p=0.0000)\n",
      " Dependent on categorical: management (p=0.0000)\n",
      " Dependent on categorical: management_group (p=0.0000)\n",
      " Dependent on categorical: payment_type (p=0.0000)\n",
      " Dependent on categorical: water_quality (p=0.0000)\n",
      " Dependent on categorical: quality_group (p=0.0000)\n",
      " Dependent on categorical: quantity (p=0.0000)\n",
      " Dependent on categorical: source (p=0.0000)\n",
      " Dependent on categorical: source_class (p=0.0000)\n",
      " Dependent on categorical: waterpoint_type (p=0.0000)\n",
      " Dependent on categorical: status_group (p=0.0000)\n",
      " Dependent on numerical: gps_height (p=0.0000)\n",
      " Dependent on numerical: longitude (p=0.0000)\n",
      " Dependent on numerical: latitude (p=0.0000)\n",
      " Dependent on numerical: region_code (p=0.0000)\n",
      " Dependent on numerical: population (p=0.0000)\n",
      " Dependent on numerical: year_recorded (p=0.0000)\n",
      " Dependent on numerical: month_recorded (p=0.0000)\n",
      "\n",
      " Analyzing missingness in: installer\n",
      " Dependent on categorical: basin (p=0.0000)\n",
      " Dependent on categorical: region (p=0.0000)\n",
      " Dependent on categorical: lga (p=0.0000)\n",
      " Dependent on categorical: ward (p=0.0000)\n",
      " Dependent on categorical: extraction_type_class (p=0.0000)\n",
      " Dependent on categorical: management (p=0.0000)\n",
      " Dependent on categorical: management_group (p=0.0000)\n",
      " Dependent on categorical: payment_type (p=0.0000)\n",
      " Dependent on categorical: water_quality (p=0.0000)\n",
      " Dependent on categorical: quality_group (p=0.0000)\n",
      " Dependent on categorical: quantity (p=0.0000)\n",
      " Dependent on categorical: source (p=0.0000)\n",
      " Dependent on categorical: source_class (p=0.0000)\n",
      " Dependent on categorical: waterpoint_type (p=0.0000)\n",
      " Dependent on categorical: status_group (p=0.0000)\n",
      " Dependent on numerical: gps_height (p=0.0000)\n",
      " Dependent on numerical: longitude (p=0.0000)\n",
      " Dependent on numerical: latitude (p=0.0000)\n",
      " Dependent on numerical: region_code (p=0.0000)\n",
      " Dependent on numerical: population (p=0.0000)\n",
      " Dependent on numerical: year_recorded (p=0.0000)\n",
      " Dependent on numerical: month_recorded (p=0.0000)\n",
      " Dependent on numerical: dayofweek_recorded (p=0.0202)\n",
      "\n",
      " Analyzing missingness in: wpt_name\n",
      " Dependent on categorical: water_quality (p=0.0000)\n",
      " Dependent on categorical: quality_group (p=0.0000)\n",
      "\n",
      " Analyzing missingness in: subvillage\n",
      " Dependent on categorical: basin (p=0.0000)\n",
      " Dependent on categorical: region (p=0.0000)\n",
      " Dependent on categorical: lga (p=0.0000)\n",
      " Dependent on categorical: ward (p=0.0000)\n",
      " Dependent on categorical: extraction_type_class (p=0.0000)\n",
      " Dependent on categorical: management (p=0.0000)\n",
      " Dependent on categorical: management_group (p=0.0000)\n",
      " Dependent on categorical: payment_type (p=0.0000)\n",
      " Dependent on categorical: water_quality (p=0.0000)\n",
      " Dependent on categorical: quality_group (p=0.0000)\n",
      " Dependent on categorical: quantity (p=0.0000)\n",
      " Dependent on categorical: source (p=0.0000)\n",
      " Dependent on categorical: source_class (p=0.0000)\n",
      " Dependent on categorical: waterpoint_type (p=0.0000)\n",
      " Dependent on categorical: status_group (p=0.0000)\n",
      " Dependent on numerical: amount_tsh (p=0.0000)\n",
      " Dependent on numerical: gps_height (p=0.0000)\n",
      " Dependent on numerical: longitude (p=0.0000)\n",
      " Dependent on numerical: latitude (p=0.0000)\n",
      " Dependent on numerical: region_code (p=0.0000)\n",
      " Dependent on numerical: district_code (p=0.0000)\n",
      " Dependent on numerical: population (p=0.0000)\n",
      " Dependent on numerical: year_recorded (p=0.0000)\n",
      " Dependent on numerical: month_recorded (p=0.0000)\n",
      "\n",
      " Analyzing missingness in: public_meeting\n",
      " Dependent on categorical: basin (p=0.0000)\n",
      " Dependent on categorical: region (p=0.0000)\n",
      " Dependent on categorical: lga (p=0.0000)\n",
      " Dependent on categorical: ward (p=0.0000)\n",
      " Dependent on categorical: extraction_type_class (p=0.0000)\n",
      " Dependent on categorical: management (p=0.0000)\n",
      " Dependent on categorical: management_group (p=0.0000)\n",
      " Dependent on categorical: payment_type (p=0.0000)\n",
      " Dependent on categorical: water_quality (p=0.0000)\n",
      " Dependent on categorical: quality_group (p=0.0000)\n",
      " Dependent on categorical: quantity (p=0.0000)\n",
      " Dependent on categorical: source (p=0.0000)\n",
      " Dependent on categorical: source_class (p=0.0000)\n",
      " Dependent on categorical: waterpoint_type (p=0.0000)\n",
      " Dependent on categorical: status_group (p=0.0000)\n",
      " Dependent on numerical: amount_tsh (p=0.0000)\n",
      " Dependent on numerical: longitude (p=0.0000)\n",
      " Dependent on numerical: latitude (p=0.0000)\n",
      " Dependent on numerical: region_code (p=0.0000)\n",
      " Dependent on numerical: district_code (p=0.0000)\n",
      " Dependent on numerical: population (p=0.0277)\n",
      " Dependent on numerical: year_recorded (p=0.0000)\n",
      " Dependent on numerical: month_recorded (p=0.0000)\n",
      "\n",
      " Analyzing missingness in: scheme_management\n",
      " Dependent on categorical: basin (p=0.0000)\n",
      " Dependent on categorical: region (p=0.0000)\n",
      " Dependent on categorical: lga (p=0.0000)\n",
      " Dependent on categorical: ward (p=0.0000)\n",
      " Dependent on categorical: extraction_type_class (p=0.0000)\n",
      " Dependent on categorical: management (p=0.0000)\n",
      " Dependent on categorical: management_group (p=0.0000)\n",
      " Dependent on categorical: payment_type (p=0.0000)\n",
      " Dependent on categorical: water_quality (p=0.0000)\n",
      " Dependent on categorical: quality_group (p=0.0000)\n",
      " Dependent on categorical: quantity (p=0.0000)\n",
      " Dependent on categorical: source (p=0.0000)\n",
      " Dependent on categorical: source_class (p=0.0000)\n",
      " Dependent on categorical: waterpoint_type (p=0.0000)\n",
      " Dependent on categorical: status_group (p=0.0000)\n",
      " Dependent on numerical: amount_tsh (p=0.0000)\n",
      " Dependent on numerical: gps_height (p=0.0000)\n",
      " Dependent on numerical: latitude (p=0.0001)\n",
      " Dependent on numerical: region_code (p=0.0000)\n",
      " Dependent on numerical: population (p=0.0000)\n",
      " Dependent on numerical: year_recorded (p=0.0003)\n",
      " Dependent on numerical: month_recorded (p=0.0000)\n",
      " Dependent on numerical: dayofweek_recorded (p=0.0000)\n",
      "\n",
      " Analyzing missingness in: scheme_name\n",
      " Dependent on categorical: basin (p=0.0000)\n",
      " Dependent on categorical: region (p=0.0000)\n",
      " Dependent on categorical: lga (p=0.0000)\n",
      " Dependent on categorical: ward (p=0.0000)\n",
      " Dependent on categorical: extraction_type_class (p=0.0000)\n",
      " Dependent on categorical: management (p=0.0000)\n",
      " Dependent on categorical: management_group (p=0.0000)\n",
      " Dependent on categorical: payment_type (p=0.0000)\n",
      " Dependent on categorical: water_quality (p=0.0000)\n",
      " Dependent on categorical: quality_group (p=0.0000)\n",
      " Dependent on categorical: quantity (p=0.0000)\n",
      " Dependent on categorical: source (p=0.0000)\n",
      " Dependent on categorical: source_class (p=0.0000)\n",
      " Dependent on categorical: waterpoint_type (p=0.0000)\n",
      " Dependent on categorical: status_group (p=0.0000)\n",
      " Dependent on numerical: amount_tsh (p=0.0000)\n",
      " Dependent on numerical: gps_height (p=0.0000)\n",
      " Dependent on numerical: longitude (p=0.0000)\n",
      " Dependent on numerical: latitude (p=0.0000)\n",
      " Dependent on numerical: region_code (p=0.0000)\n",
      " Dependent on numerical: district_code (p=0.0000)\n",
      " Dependent on numerical: population (p=0.0000)\n",
      " Dependent on numerical: year_recorded (p=0.0000)\n",
      " Dependent on numerical: month_recorded (p=0.0000)\n",
      " Dependent on numerical: dayofweek_recorded (p=0.0241)\n",
      "\n",
      " Analyzing missingness in: permit\n",
      " Dependent on categorical: basin (p=0.0000)\n",
      " Dependent on categorical: region (p=0.0000)\n",
      " Dependent on categorical: lga (p=0.0000)\n",
      " Dependent on categorical: ward (p=0.0000)\n",
      " Dependent on categorical: extraction_type_class (p=0.0000)\n",
      " Dependent on categorical: management (p=0.0000)\n",
      " Dependent on categorical: management_group (p=0.0000)\n",
      " Dependent on categorical: payment_type (p=0.0000)\n",
      " Dependent on categorical: water_quality (p=0.0000)\n",
      " Dependent on categorical: quality_group (p=0.0000)\n",
      " Dependent on categorical: quantity (p=0.0000)\n",
      " Dependent on categorical: source (p=0.0000)\n",
      " Dependent on categorical: waterpoint_type (p=0.0000)\n",
      " Dependent on categorical: status_group (p=0.0000)\n",
      " Dependent on numerical: gps_height (p=0.0000)\n",
      " Dependent on numerical: longitude (p=0.0000)\n",
      " Dependent on numerical: latitude (p=0.0124)\n",
      " Dependent on numerical: region_code (p=0.0000)\n",
      " Dependent on numerical: district_code (p=0.0000)\n",
      " Dependent on numerical: year_recorded (p=0.0000)\n",
      " Dependent on numerical: month_recorded (p=0.0000)\n",
      "\n",
      " Analyzing missingness in: construction_year\n",
      " Dependent on categorical: basin (p=0.0000)\n",
      " Dependent on categorical: region (p=0.0000)\n",
      " Dependent on categorical: lga (p=0.0000)\n",
      " Dependent on categorical: ward (p=0.0000)\n",
      " Dependent on categorical: extraction_type_class (p=0.0000)\n",
      " Dependent on categorical: management (p=0.0000)\n",
      " Dependent on categorical: management_group (p=0.0000)\n",
      " Dependent on categorical: payment_type (p=0.0000)\n",
      " Dependent on categorical: water_quality (p=0.0000)\n",
      " Dependent on categorical: quality_group (p=0.0000)\n",
      " Dependent on categorical: quantity (p=0.0000)\n",
      " Dependent on categorical: source (p=0.0000)\n",
      " Dependent on categorical: source_class (p=0.0000)\n",
      " Dependent on categorical: waterpoint_type (p=0.0000)\n",
      " Dependent on categorical: status_group (p=0.0000)\n",
      " Dependent on numerical: amount_tsh (p=0.0000)\n",
      " Dependent on numerical: gps_height (p=0.0000)\n",
      " Dependent on numerical: longitude (p=0.0000)\n",
      " Dependent on numerical: latitude (p=0.0000)\n",
      " Dependent on numerical: region_code (p=0.0000)\n",
      " Dependent on numerical: district_code (p=0.0000)\n",
      " Dependent on numerical: population (p=0.0000)\n",
      " Dependent on numerical: year_recorded (p=0.0000)\n",
      " Dependent on numerical: month_recorded (p=0.0000)\n",
      " Dependent on numerical: dayofweek_recorded (p=0.0000)\n"
     ]
    }
   ],
   "source": [
    "\n",
    "cat_cols = df_train.select_dtypes(include=['object', 'category', 'bool']).columns\n",
    "num_cols = df_train.select_dtypes(include=['number']).columns\n",
    "\n",
    "for target_col in missing_cols:\n",
    "    mask = df_train[target_col].isnull()\n",
    "    print(f\"\\n Analyzing missingness in: {target_col}\")\n",
    "\n",
    "    # Chi-square for categorical\n",
    "    for cat_col in cat_cols:\n",
    "        if cat_col != target_col and cat_col not in missing_cols and df_train[cat_col].nunique() > 1:\n",
    "            contingency = pd.crosstab(df_train[cat_col], mask)\n",
    "            if contingency.shape[1] == 2:\n",
    "                chi2, p, _, _ = chi2_contingency(contingency)\n",
    "                if p < 0.05:\n",
    "                    print(f\" Dependent on categorical: {cat_col} (p={p:.4f})\")\n",
    "\n",
    "    # T-test for numerical\n",
    "    for num_col in num_cols:\n",
    "        if num_col != target_col and num_col not in missing_cols:\n",
    "            group1 = df_train.loc[mask, num_col].dropna()\n",
    "            group2 = df_train.loc[~mask, num_col].dropna()\n",
    "            if len(group1) > 10 and len(group2) > 10:\n",
    "                t_stat, p = ttest_ind(group1, group2, equal_var=False)\n",
    "                if p < 0.05:\n",
    "                    print(f\" Dependent on numerical: {num_col} (p={p:.4f})\")\n"
   ]
  },
  {
   "cell_type": "markdown",
   "id": "53ade81f",
   "metadata": {},
   "source": [
    "Interpretation: You found that all columns with missing values are strongly dependent on other features (p ≈ 0.0000), so the data is Missing At Random (MAR).This justifies group-based or model-based imputations — not naive (mean/mode) filling."
   ]
  },
  {
   "cell_type": "markdown",
   "id": "cadc562b",
   "metadata": {},
   "source": [
    "### Visual Check of Missingness Correlation"
   ]
  },
  {
   "cell_type": "code",
   "execution_count": 4336,
   "id": "9f94e0ce",
   "metadata": {},
   "outputs": [
    {
     "data": {
      "image/png": "[encoded data removed]",
      "text/plain": [
       "<Figure size 720x432 with 2 Axes>"
      ]
     },
     "metadata": {
      "needs_background": "light"
     },
     "output_type": "display_data"
    }
   ],
   "source": [
    "# Create a binary missingness matrix\n",
    "missing_indicator = df_train[missing_cols].isnull().astype(int)\n",
    "\n",
    "# Correlation heatmap\n",
    "plt.figure(figsize=(10, 6))\n",
    "sns.heatmap(missing_indicator.corr(), cmap=\"coolwarm\", annot=True)\n",
    "plt.title(\"Correlation of Missingness Between Features\")\n",
    "plt.show()"
   ]
  },
  {
   "cell_type": "markdown",
   "id": "ef863e52",
   "metadata": {},
   "source": [
    "interpritation: "
   ]
  },
  {
   "cell_type": "markdown",
   "id": "9864c799",
   "metadata": {},
   "source": [
    "## Imputing the values "
   ]
  },
  {
   "cell_type": "markdown",
   "id": "1f87fa15",
   "metadata": {},
   "source": [
    "## Chi-square tests for categorical features and t-tests for numerical features, checking whether their distribution is associated with missing values in each column"
   ]
  },
  {
   "cell_type": "markdown",
   "id": "39b5c370",
   "metadata": {},
   "source": [
    "we need to determine whether data is missing completely at random (MCAR) or if missingness is related to other variables, which is critical for deciding how to handle missing values. \n",
    "\n",
    "Chi-square for categorical.\n",
    "T-test for numerical."
   ]
  },
  {
   "cell_type": "code",
   "execution_count": 4343,
   "id": "7cbd0514",
   "metadata": {},
   "outputs": [
    {
     "data": {
      "text/plain": [
       "['funder',\n",
       " 'installer',\n",
       " 'wpt_name',\n",
       " 'subvillage',\n",
       " 'public_meeting',\n",
       " 'scheme_management',\n",
       " 'scheme_name',\n",
       " 'permit',\n",
       " 'construction_year']"
      ]
     },
     "execution_count": 4343,
     "metadata": {},
     "output_type": "execute_result"
    }
   ],
   "source": [
    "\n",
    "# Identify columns with missing values\n",
    "cols_with_missing = df_train.columns[df_train.isna().any()].tolist()\n",
    "cols_with_missing"
   ]
  },
  {
   "cell_type": "code",
   "execution_count": 4344,
   "id": "51451435",
   "metadata": {},
   "outputs": [
    {
     "name": "stdout",
     "output_type": "stream",
     "text": [
      "\n",
      "Analyzing missingness in: funder\n",
      "\n",
      "Analyzing missingness in: installer\n",
      "\n",
      "Analyzing missingness in: wpt_name\n",
      "\n",
      "Analyzing missingness in: subvillage\n",
      "\n",
      "Analyzing missingness in: public_meeting\n",
      "\n",
      "Analyzing missingness in: scheme_management\n",
      "\n",
      "Analyzing missingness in: scheme_name\n",
      "\n",
      "Analyzing missingness in: permit\n",
      "\n",
      "Analyzing missingness in: construction_year\n"
     ]
    }
   ],
   "source": [
    "# Identify missing columns (excluding ID or target if needed)\n",
    "cols_with_missing = df_train.columns[df_train.isnull().any()].tolist()\n",
    "\n",
    "# Separate feature types\n",
    "categorical_cols = df_train.select_dtypes(include=['object', 'category', 'bool']).columns\n",
    "numerical_cols = df_train.select_dtypes(include=['number']).columns\n",
    "\n",
    "# Initialize result collectors\n",
    "chi2_results = []\n",
    "ttest_results = []\n",
    "\n",
    "# Loop over each missing column\n",
    "for col in cols_with_missing:\n",
    "    print(f\"\\nAnalyzing missingness in: {col}\")\n",
    "    missing_mask = df_train[col].isnull()\n",
    "\n",
    "    # Chi-square for categorical variables\n",
    "    for cat_col in categorical_cols:\n",
    "        if cat_col != col and df_train[cat_col].nunique() > 1:\n",
    "            contingency = pd.crosstab(df_train[cat_col], missing_mask)\n",
    "            if contingency.shape[1] == 2:  # Make sure we have True/False columns\n",
    "                try:\n",
    "                    chi2, p, _, _ = chi2_contingency(contingency)\n",
    "                    chi2_results.append({'missing_in': col, 'feature': cat_col, 'p_value': p})\n",
    "                except Exception as e:\n",
    "                    print(f\"Chi2 failed for {col} vs {cat_col}: {e}\")\n",
    "\n",
    "    # T-test for numerical variables\n",
    "    for num_col in numerical_cols:\n",
    "        if num_col != col:\n",
    "            group_missing = df_train.loc[missing_mask, num_col].dropna()\n",
    "            group_not_missing = df_train.loc[~missing_mask, num_col].dropna()\n",
    "            if len(group_missing) > 10 and len(group_not_missing) > 10:\n",
    "                try:\n",
    "                    t_stat, p = ttest_ind(group_missing, group_not_missing, equal_var=False)\n",
    "                    ttest_results.append({'missing_in': col, 'feature': num_col, 'p_value': p})\n",
    "                except Exception as e:\n",
    "                    print(f\"T-test failed for {col} vs {num_col}: {e}\")\n",
    "\n",
    "\n"
   ]
  },
  {
   "cell_type": "markdown",
   "id": "6d47e695",
   "metadata": {},
   "source": [
    "# why I did this: this shows why data is missing. if it is MCAR i can drop missing data or impute with simple methods.\n",
    "# if MAR or MNAR then i need more advanced imputation (like modeling or multiple imputation)"
   ]
  },
  {
   "cell_type": "markdown",
   "id": "d198c285",
   "metadata": {},
   "source": [
    " A low p_value (commonly < 0.05) means that the missingness in one column is statistically likely to depend on the values in another column."
   ]
  },
  {
   "cell_type": "code",
   "execution_count": 4345,
   "id": "657e1792",
   "metadata": {},
   "outputs": [
    {
     "name": "stdout",
     "output_type": "stream",
     "text": [
      "\n",
      " Top Categorical Dependencies (Chi-square):\n",
      "      missing_in     feature  p_value\n",
      "0         funder   installer      0.0\n",
      "132  scheme_name      funder      0.0\n",
      "133  scheme_name   installer      0.0\n",
      "135  scheme_name       basin      0.0\n",
      "136  scheme_name  subvillage      0.0\n",
      "\n",
      " Top Numerical Dependencies (T-test):\n",
      "           missing_in        feature  p_value\n",
      "60        scheme_name    region_code      0.0\n",
      "30         subvillage  year_recorded      0.0\n",
      "79  construction_year     gps_height      0.0\n",
      "72             permit  district_code      0.0\n",
      "28         subvillage  district_code      0.0\n"
     ]
    }
   ],
   "source": [
    "# Create result DataFrames\n",
    "chi2_df = pd.DataFrame(chi2_results).sort_values(by='p_value')\n",
    "ttest_df = pd.DataFrame(ttest_results).sort_values(by='p_value')\n",
    "\n",
    "# Show top associations\n",
    "print(\"\\n Top Categorical Dependencies (Chi-square):\")\n",
    "print(chi2_df[chi2_df['p_value'] < 0.05].head())\n",
    "\n",
    "print(\"\\n Top Numerical Dependencies (T-test):\")\n",
    "print(ttest_df[ttest_df['p_value'] < 0.05].head())"
   ]
  },
  {
   "cell_type": "markdown",
   "id": "649b82d0",
   "metadata": {},
   "source": [
    "Interpretation: A p-value of 0 means that the null hypothesis (\"The distribution of the feature is the same for missing and non-missing rows.\") is strongly rejected.So, The feature is strongly associated with whether the value is missing — the data is not missing completely at random (Not MCAR).This suggests the missingness is Missing at Random (MAR) — it’s dependent on other observed features. So, imputation must consider other variables — using simple methods like mean/median imputation could introduce bias.\n",
    "Model-based or conditional imputation is more appropriate."
   ]
  },
  {
   "cell_type": "markdown",
   "id": "9db68d73",
   "metadata": {},
   "source": [
    "# Impute funder by grouping with region, lga and ward"
   ]
  },
  {
   "cell_type": "code",
   "execution_count": 4346,
   "id": "49db9d3c",
   "metadata": {},
   "outputs": [],
   "source": [
    "#Group by region/lga/ward and apply mode imputation\n",
    "df_train['funder'] = df_train.groupby(['region', 'lga', 'ward'])['funder'].transform(\n",
    "        lambda x: x.fillna(x.mode()[0]) if not x.mode().empty else x\n",
    "    )\n",
    "#Fill any remaining missing values with the global mode\n",
    "if df_train['funder'].isnull().any():\n",
    "        overall_mode = df_train['funder'].mode()[0]\n",
    "        df_train['funder'].fillna(overall_mode, inplace=True)"
   ]
  },
  {
   "cell_type": "markdown",
   "id": "a914066e",
   "metadata": {},
   "source": [
    "# Impute installer grouping with funder and region"
   ]
  },
  {
   "cell_type": "code",
   "execution_count": 4347,
   "id": "82c9114d",
   "metadata": {},
   "outputs": [],
   "source": [
    "#Group by region/lga/ward and apply mode imputation\n",
    "df_train['installer'] = df_train.groupby(['region', 'funder'])['installer'].transform(\n",
    "        lambda x: x.fillna(x.mode()[0]) if not x.mode().empty else x\n",
    "    )\n",
    "#Fill any remaining missing values with the global mode\n",
    "if df_train['installer'].isnull().any():\n",
    "        overall_mode = df_train['installer'].mode()[0]\n",
    "        df_train['installer'].fillna(overall_mode, inplace=True)"
   ]
  },
  {
   "cell_type": "markdown",
   "id": "87850d91",
   "metadata": {},
   "source": [
    "### Impute wpt_name with unknown "
   ]
  },
  {
   "cell_type": "code",
   "execution_count": 4348,
   "id": "11ea70fa",
   "metadata": {},
   "outputs": [
    {
     "name": "stdout",
     "output_type": "stream",
     "text": [
      "wpt_name missing values filled sucessfully!\n"
     ]
    }
   ],
   "source": [
    "df_train['wpt_name'] = df_train['wpt_name'].fillna(\"unknown\")\n",
    "print(\"wpt_name missing values filled sucessfully!\")"
   ]
  },
  {
   "cell_type": "markdown",
   "id": "2a1cb26d",
   "metadata": {},
   "source": [
    "### Impute subvillage missing values grouping with ward and lga"
   ]
  },
  {
   "cell_type": "code",
   "execution_count": 4349,
   "id": "4b6f6266",
   "metadata": {},
   "outputs": [],
   "source": [
    "#Group by lga/ward and apply mode imputation\n",
    "df_train['subvillage'] = df_train.groupby(['lga', 'ward'])['funder'].transform(\n",
    "        lambda x: x.fillna(x.mode()[0]) if not x.mode().empty else x\n",
    "    )\n",
    "#Fill any remaining missing values with the global mode\n",
    "if df_train['subvillage'].isnull().any():\n",
    "        overall_mode = df_train['subvillage'].mode()[0]\n",
    "        df_train['subvillage'].fillna(overall_mode, inplace=True)"
   ]
  },
  {
   "cell_type": "markdown",
   "id": "97911f83",
   "metadata": {},
   "source": [
    "### Impute Public_meeting missing values by grouping with region and ward"
   ]
  },
  {
   "cell_type": "code",
   "execution_count": 4350,
   "id": "1f803f2d",
   "metadata": {},
   "outputs": [],
   "source": [
    "# group by region and ward and apply mode imputation\n",
    "df_train['public_meeting'] = df_train.groupby(['region', 'ward'])['public_meeting'].transform(\n",
    "    lambda x: x.fillna(x.mode()[0]) if not x.mode().empty else x\n",
    ")\n",
    "\n",
    "# fill any remaining missing values with the global mode\n",
    "if df_train['public_meeting'].isnull().any():\n",
    "    overall_mode = df_train['public_meeting'].mode()[0]\n",
    "    df_train['public_meeting'].fillna(overall_mode, inplace=True)"
   ]
  },
  {
   "cell_type": "markdown",
   "id": "f05faf99",
   "metadata": {},
   "source": [
    "### Impute scheme_name missing values by grouping with region and basin"
   ]
  },
  {
   "cell_type": "code",
   "execution_count": 4351,
   "id": "d6ae28c7",
   "metadata": {},
   "outputs": [],
   "source": [
    "# group by region and ward and apply mode imputation\n",
    "df_train['scheme_name'] = df_train.groupby(['basin', 'region', 'longitude', 'latitude'])['scheme_name'].transform(\n",
    "    lambda x: x.fillna(x.mode()[0]) if not x.mode().empty else x\n",
    ")\n",
    "\n",
    "# fill any remaining missing values with the global mode\n",
    "if df_train['scheme_name'].isnull().any():\n",
    "    overall_mode = df_train['scheme_name'].mode()[0]\n",
    "    df_train['scheme_name'].fillna(overall_mode, inplace=True)"
   ]
  },
  {
   "cell_type": "markdown",
   "id": "c7d94383",
   "metadata": {},
   "source": [
    "### Impute scheme_management missing values by grouping with schemen_name and source"
   ]
  },
  {
   "cell_type": "code",
   "execution_count": 4352,
   "id": "135923fa",
   "metadata": {},
   "outputs": [],
   "source": [
    "# Group by scheme_name, source, and region (no leading space)\n",
    "df_train['scheme_management'] = df_train.groupby(['scheme_name', 'source', 'region'])['scheme_management'].transform(\n",
    "    lambda x: x.fillna(x.mode()[0]) if not x.mode().empty else x\n",
    ")\n",
    "\n",
    "# Fill any remaining missing values with the global mode\n",
    "if df_train['scheme_management'].isnull().any():\n",
    "    overall_mode = df_train['scheme_management'].mode()[0]\n",
    "    df_train['scheme_management'].fillna(overall_mode, inplace=True)\n"
   ]
  },
  {
   "cell_type": "markdown",
   "id": "6d8dafde",
   "metadata": {},
   "source": [
    "### Impute permit missing values by grouping with region and source"
   ]
  },
  {
   "cell_type": "code",
   "execution_count": 4353,
   "id": "30681310",
   "metadata": {},
   "outputs": [],
   "source": [
    "# group by region and ward and apply mode imputation\n",
    "df_train['permit'] = df_train.groupby(['region', 'source'])['scheme_management'].transform(\n",
    "    lambda x: x.fillna(x.mode()[0]) if not x.mode().empty else x\n",
    ")\n",
    "\n",
    "# fill any remaining missing values with the global mode\n",
    "if df_train['permit'].isnull().any():\n",
    "    overall_mode = df_train['permit'].mode()[0]\n",
    "    df_train['permit'].fillna(overall_mode, inplace=True)"
   ]
  },
  {
   "cell_type": "markdown",
   "id": "07d26b9a",
   "metadata": {},
   "source": [
    "# Impute construction_year using Iterative Imputer"
   ]
  },
  {
   "cell_type": "code",
   "execution_count": 4354,
   "id": "67da8a6c",
   "metadata": {},
   "outputs": [],
   "source": [
    "# Convert construction_year to integer\n",
    "# Extract year from datetime\n",
    "df_train['construction_year_numeric'] = df_train['construction_year'].dt.year\n"
   ]
  },
  {
   "cell_type": "code",
   "execution_count": 4355,
   "id": "ec3a476c",
   "metadata": {},
   "outputs": [],
   "source": [
    "# Impute using numerical version and related predictors\n",
    "# Select numerical columns for imputation\n",
    "impute_cols = ['construction_year_numeric', 'population', 'latitude', 'longitude', 'gps_height']\n",
    "impute_df = df_train[impute_cols]\n",
    "\n",
    "# Apply Iterative Imputer\n",
    "imp = IterativeImputer(estimator=BayesianRidge(), random_state=42, max_iter=10)\n",
    "imputed_array = imp.fit_transform(impute_df)\n",
    "\n",
    "# Assign imputed values back\n",
    "df_train[impute_cols] = imputed_array"
   ]
  },
  {
   "cell_type": "code",
   "execution_count": 4356,
   "id": "434215cd",
   "metadata": {},
   "outputs": [],
   "source": [
    "# Convert back to datetime (round and clip if necessary to valid ranges)\n",
    "df_train['construction_year'] = pd.to_datetime(df_train['construction_year_numeric'].round().astype(int), format='%Y', errors='coerce')\n",
    "\n",
    "# Optionally drop the helper column\n",
    "df_train.drop(columns=['construction_year_numeric'], inplace=True)\n"
   ]
  },
  {
   "cell_type": "code",
   "execution_count": 4357,
   "id": "ceaf20b1",
   "metadata": {},
   "outputs": [
    {
     "data": {
      "text/plain": [
       "id                       0\n",
       "amount_tsh               0\n",
       "permit                   0\n",
       "construction_year        0\n",
       "extraction_type_class    0\n",
       "management               0\n",
       "management_group         0\n",
       "payment_type             0\n",
       "water_quality            0\n",
       "quality_group            0\n",
       "quantity                 0\n",
       "source                   0\n",
       "source_class             0\n",
       "waterpoint_type          0\n",
       "status_group             0\n",
       "year_recorded            0\n",
       "month_recorded           0\n",
       "scheme_name              0\n",
       "scheme_management        0\n",
       "public_meeting           0\n",
       "wpt_name                 0\n",
       "date_recorded            0\n",
       "funder                   0\n",
       "gps_height               0\n",
       "installer                0\n",
       "longitude                0\n",
       "latitude                 0\n",
       "basin                    0\n",
       "population               0\n",
       "subvillage               0\n",
       "region                   0\n",
       "region_code              0\n",
       "district_code            0\n",
       "lga                      0\n",
       "ward                     0\n",
       "dayofweek_recorded       0\n",
       "dtype: int64"
      ]
     },
     "execution_count": 4357,
     "metadata": {},
     "output_type": "execute_result"
    }
   ],
   "source": [
    "missing_counts = df_train.isna().sum().sort_values(ascending=False)\n",
    "missing_counts"
   ]
  },
  {
   "cell_type": "markdown",
   "id": "841fe7a9",
   "metadata": {},
   "source": [
    "# Manage Zero Values"
   ]
  },
  {
   "cell_type": "code",
   "execution_count": 4358,
   "id": "c813d995",
   "metadata": {},
   "outputs": [],
   "source": [
    "zero_columns = [col for col in df_train.columns if (df_train[col] == 0).sum() > 0 and df_train[col].dtype in ['int64', 'float64']]\n",
    "zero_columns\n",
    "zero_columns.remove('id')\n"
   ]
  },
  {
   "cell_type": "code",
   "execution_count": 4359,
   "id": "95e33337",
   "metadata": {},
   "outputs": [
    {
     "data": {
      "image/png": "[encoded data removed]",
      "text/plain": [
       "<Figure size 576x288 with 1 Axes>"
      ]
     },
     "metadata": {
      "needs_background": "light"
     },
     "output_type": "display_data"
    },
    {
     "data": {
      "image/png": "[encoded data removed]",
      "text/plain": [
       "<Figure size 576x288 with 1 Axes>"
      ]
     },
     "metadata": {
      "needs_background": "light"
     },
     "output_type": "display_data"
    },
    {
     "data": {
      "image/png": "[encoded data removed]",
      "text/plain": [
       "<Figure size 576x288 with 1 Axes>"
      ]
     },
     "metadata": {
      "needs_background": "light"
     },
     "output_type": "display_data"
    },
    {
     "data": {
      "image/png": "[encoded data removed]",
      "text/plain": [
       "<Figure size 576x288 with 1 Axes>"
      ]
     },
     "metadata": {
      "needs_background": "light"
     },
     "output_type": "display_data"
    },
    {
     "data": {
      "image/png": "[encoded data removed]",
      "text/plain": [
       "<Figure size 576x288 with 1 Axes>"
      ]
     },
     "metadata": {
      "needs_background": "light"
     },
     "output_type": "display_data"
    },
    {
     "data": {
      "image/png": "[encoded data removed]",
      "text/plain": [
       "<Figure size 576x288 with 1 Axes>"
      ]
     },
     "metadata": {
      "needs_background": "light"
     },
     "output_type": "display_data"
    }
   ],
   "source": [
    "for col in zero_columns:\n",
    "    plt.figure(figsize=(8, 4))\n",
    "    sns.boxplot(x=df_train[col], color='skyblue')\n",
    "    plt.title(f'Distribution of {col} (0s: {(df_train[col] == 0).sum()})')\n",
    "    plt.xlabel(col)\n",
    "    plt.ylabel('Frequency')\n",
    "    plt.tight_layout()\n",
    "    plt.show()\n",
    "\n"
   ]
  },
  {
   "cell_type": "markdown",
   "id": "3a7958fa",
   "metadata": {},
   "source": [
    "## Statistical Indicators of Outliers"
   ]
  },
  {
   "cell_type": "markdown",
   "id": "f3057044",
   "metadata": {},
   "source": [
    "### Check if 0 Is Outside Typical Range (Using IQR)"
   ]
  },
  {
   "cell_type": "code",
   "execution_count": 4360,
   "id": "92e3afe4",
   "metadata": {},
   "outputs": [],
   "source": [
    "def is_zero_outlier(series):\n",
    "    Q1 = series.quantile(0.25)\n",
    "    Q3 = series.quantile(0.75)\n",
    "    IQR = Q3 - Q1\n",
    "    lower_bound = Q1 - 1.5 * IQR\n",
    "    return 0 < lower_bound\n"
   ]
  },
  {
   "cell_type": "code",
   "execution_count": 4361,
   "id": "4af19099",
   "metadata": {},
   "outputs": [
    {
     "name": "stdout",
     "output_type": "stream",
     "text": [
      "0 might be an outlier in column: longitude\n"
     ]
    }
   ],
   "source": [
    "for col in df_train.select_dtypes(include='number'):\n",
    "    if 0 in df_train[col].values and is_zero_outlier(df_train[col]):\n",
    "        print(f\"0 might be an outlier in column: {col}\")\n"
   ]
  },
  {
   "cell_type": "markdown",
   "id": "67044d14",
   "metadata": {},
   "source": [
    "### Distribution Analysis to check if 0 is far from Mean"
   ]
  },
  {
   "cell_type": "code",
   "execution_count": 4362,
   "id": "70cc1dd0",
   "metadata": {},
   "outputs": [
    {
     "name": "stdout",
     "output_type": "stream",
     "text": [
      "0 is a statistical outlier in column: longitude (z-score: 5.19)\n"
     ]
    }
   ],
   "source": [
    "for col in df_train.select_dtypes(include='number'):\n",
    "    if 0 in df_train[col].values:\n",
    "        mean = df_train[col].mean()\n",
    "        std = df_train[col].std()\n",
    "        z_score = abs((0 - mean) / std)\n",
    "        if z_score > 3:\n",
    "            print(f\"0 is a statistical outlier in column: {col} (z-score: {z_score:.2f})\")"
   ]
  },
  {
   "cell_type": "markdown",
   "id": "a7b2b8b4",
   "metadata": {},
   "source": [
    "### Apply for Longitude"
   ]
  },
  {
   "cell_type": "code",
   "execution_count": 4363,
   "id": "7db2af88",
   "metadata": {},
   "outputs": [
    {
     "data": {
      "image/png": "[encoded data removed]",
      "text/plain": [
       "<Figure size 576x144 with 1 Axes>"
      ]
     },
     "metadata": {
      "needs_background": "light"
     },
     "output_type": "display_data"
    }
   ],
   "source": [
    "# Initial Boxplot of longitude (before fixing)\n",
    "col = 'longitude'\n",
    "plt.figure(figsize=(8, 2))\n",
    "sns.boxplot(x=df_train['longitude'], color='skyblue')\n",
    "plt.title(f'Boxplot for: {col}')\n",
    "plt.xlabel(col)\n",
    "plt.tight_layout()\n",
    "plt.show()"
   ]
  },
  {
   "cell_type": "code",
   "execution_count": 4364,
   "id": "876bf5f5",
   "metadata": {},
   "outputs": [],
   "source": [
    "# Replace 0s with NaN (assumed invalid for Tanzania)\n",
    "df_train['longitude'] = df_train['longitude'].replace(0, np.nan)\n",
    "\n",
    "# Impute with random values within Tanzania’s longitude range (29.2 to 40.4)\n",
    "df_train['longitude'] = df_train['longitude'].apply(\n",
    "    lambda x: np.random.uniform(29.2, 40.4) if pd.isna(x) else x\n",
    ")\n"
   ]
  },
  {
   "cell_type": "code",
   "execution_count": 4365,
   "id": "c8f712f3",
   "metadata": {},
   "outputs": [
    {
     "data": {
      "image/png": "[encoded data removed]",
      "text/plain": [
       "<Figure size 576x144 with 1 Axes>"
      ]
     },
     "metadata": {
      "needs_background": "light"
     },
     "output_type": "display_data"
    }
   ],
   "source": [
    "# Initial Boxplot of longitude (before fixing)\n",
    "plt.figure(figsize=(8, 2))\n",
    "sns.boxplot(x=df_train['longitude'], color='skyblue')\n",
    "plt.title(f'Boxplot for: {col}')\n",
    "plt.xlabel(col)\n",
    "plt.tight_layout()\n",
    "plt.show()"
   ]
  },
  {
   "cell_type": "markdown",
   "id": "0726112c",
   "metadata": {},
   "source": [
    "# check if the 0 is a placeholder"
   ]
  },
  {
   "cell_type": "code",
   "execution_count": 4366,
   "id": "99cfe13e",
   "metadata": {},
   "outputs": [
    {
     "name": "stdout",
     "output_type": "stream",
     "text": [
      "0 in amount_tsh may be placeholder (zero_pct: 69.97%)\n",
      "0 in gps_height may be placeholder (zero_pct: 34.44%)\n",
      "0 in population may be placeholder (zero_pct: 36.06%)\n",
      "0 in dayofweek_recorded may be placeholder (zero_pct: 13.93%)\n"
     ]
    }
   ],
   "source": [
    "for col in df_train.select_dtypes(include='number'):\n",
    "    zero_pct = (df_train[col] == 0).mean()\n",
    "    if zero_pct > 0.1 and df_train[col].mean() > 0:  # Likely placeholder\n",
    "        print(f\"0 in {col} may be placeholder (zero_pct: {zero_pct:.2%})\")\n"
   ]
  },
  {
   "cell_type": "code",
   "execution_count": 4367,
   "id": "17e664cb",
   "metadata": {},
   "outputs": [
    {
     "data": {
      "image/png": "[encoded data removed]",
      "text/plain": [
       "<Figure size 432x216 with 1 Axes>"
      ]
     },
     "metadata": {
      "needs_background": "light"
     },
     "output_type": "display_data"
    },
    {
     "data": {
      "image/png": "[encoded data removed]",
      "text/plain": [
       "<Figure size 432x216 with 1 Axes>"
      ]
     },
     "metadata": {
      "needs_background": "light"
     },
     "output_type": "display_data"
    },
    {
     "data": {
      "image/png": "[encoded data removed]",
      "text/plain": [
       "<Figure size 432x216 with 1 Axes>"
      ]
     },
     "metadata": {
      "needs_background": "light"
     },
     "output_type": "display_data"
    },
    {
     "data": {
      "image/png": "[encoded data removed]",
      "text/plain": [
       "<Figure size 432x216 with 1 Axes>"
      ]
     },
     "metadata": {
      "needs_background": "light"
     },
     "output_type": "display_data"
    },
    {
     "data": {
      "image/png": "[encoded data removed]",
      "text/plain": [
       "<Figure size 432x216 with 1 Axes>"
      ]
     },
     "metadata": {
      "needs_background": "light"
     },
     "output_type": "display_data"
    },
    {
     "data": {
      "image/png": "[encoded data removed]",
      "text/plain": [
       "<Figure size 432x216 with 1 Axes>"
      ]
     },
     "metadata": {
      "needs_background": "light"
     },
     "output_type": "display_data"
    }
   ],
   "source": [
    "# visual Clues\n",
    "\n",
    "for col in df_train.select_dtypes(include='number'):\n",
    "    if 0 in df_train[col].values:\n",
    "        plt.figure(figsize=(6, 3))\n",
    "        sns.histplot(df_train[col], bins=50)\n",
    "        plt.title(f'{col} distribution')\n",
    "        plt.axvline(0, color='red', linestyle='--')\n",
    "        plt.show()\n"
   ]
  },
  {
   "cell_type": "markdown",
   "id": "8501027c",
   "metadata": {},
   "source": [
    "## Save the cleaned data and read and check if there is any missing values"
   ]
  },
  {
   "cell_type": "code",
   "execution_count": 4368,
   "id": "a4f0466d",
   "metadata": {},
   "outputs": [],
   "source": [
    "df_train.to_csv(\"../data/processed/cleaned_Training_data.csv\", index=False)"
   ]
  },
  {
   "cell_type": "code",
   "execution_count": 4369,
   "id": "79c8117c",
   "metadata": {},
   "outputs": [],
   "source": [
    "df_train_cleaned= pd.read_csv(\"../data/processed/cleaned_Training_data.csv\")"
   ]
  },
  {
   "cell_type": "code",
   "execution_count": 4370,
   "id": "afc2aba6",
   "metadata": {},
   "outputs": [
    {
     "data": {
      "text/plain": [
       "[]"
      ]
     },
     "execution_count": 4370,
     "metadata": {},
     "output_type": "execute_result"
    }
   ],
   "source": [
    "\n",
    "# Identify columns with missing values\n",
    "cols_with_missing = df_train_cleaned.columns[df_train.isna().any()].tolist()\n",
    "cols_with_missing"
   ]
  },
  {
   "cell_type": "code",
   "execution_count": 4371,
   "id": "295b0e02",
   "metadata": {},
   "outputs": [
    {
     "data": {
      "text/plain": [
       "id                       0\n",
       "amount_tsh               0\n",
       "permit                   0\n",
       "construction_year        0\n",
       "extraction_type_class    0\n",
       "management               0\n",
       "management_group         0\n",
       "payment_type             0\n",
       "water_quality            0\n",
       "quality_group            0\n",
       "quantity                 0\n",
       "source                   0\n",
       "source_class             0\n",
       "waterpoint_type          0\n",
       "status_group             0\n",
       "year_recorded            0\n",
       "month_recorded           0\n",
       "scheme_name              0\n",
       "scheme_management        0\n",
       "public_meeting           0\n",
       "wpt_name                 0\n",
       "date_recorded            0\n",
       "funder                   0\n",
       "gps_height               0\n",
       "installer                0\n",
       "longitude                0\n",
       "latitude                 0\n",
       "basin                    0\n",
       "population               0\n",
       "subvillage               0\n",
       "region                   0\n",
       "region_code              0\n",
       "district_code            0\n",
       "lga                      0\n",
       "ward                     0\n",
       "dayofweek_recorded       0\n",
       "dtype: int64"
      ]
     },
     "execution_count": 4371,
     "metadata": {},
     "output_type": "execute_result"
    }
   ],
   "source": [
    "missing_counts = df_train_cleaned.isnull().sum().sort_values(ascending=False)\n",
    "missing_counts\n"
   ]
  },
  {
   "cell_type": "code",
   "execution_count": 4372,
   "id": "924a3065",
   "metadata": {},
   "outputs": [
    {
     "data": {
      "text/html": [
       "<div>\n",
       "<style scoped>\n",
       "    .dataframe tbody tr th:only-of-type {\n",
       "        vertical-align: middle;\n",
       "    }\n",
       "\n",
       "    .dataframe tbody tr th {\n",
       "        vertical-align: top;\n",
       "    }\n",
       "\n",
       "    .dataframe thead th {\n",
       "        text-align: right;\n",
       "    }\n",
       "</style>\n",
       "<table border=\"1\" class=\"dataframe\">\n",
       "  <thead>\n",
       "    <tr style=\"text-align: right;\">\n",
       "      <th></th>\n",
       "      <th>id</th>\n",
       "      <th>amount_tsh</th>\n",
       "      <th>date_recorded</th>\n",
       "      <th>funder</th>\n",
       "      <th>gps_height</th>\n",
       "      <th>installer</th>\n",
       "      <th>longitude</th>\n",
       "      <th>latitude</th>\n",
       "      <th>wpt_name</th>\n",
       "      <th>basin</th>\n",
       "      <th>...</th>\n",
       "      <th>water_quality</th>\n",
       "      <th>quality_group</th>\n",
       "      <th>quantity</th>\n",
       "      <th>source</th>\n",
       "      <th>source_class</th>\n",
       "      <th>waterpoint_type</th>\n",
       "      <th>status_group</th>\n",
       "      <th>year_recorded</th>\n",
       "      <th>month_recorded</th>\n",
       "      <th>dayofweek_recorded</th>\n",
       "    </tr>\n",
       "  </thead>\n",
       "  <tbody>\n",
       "    <tr>\n",
       "      <th>0</th>\n",
       "      <td>69572</td>\n",
       "      <td>6000.0</td>\n",
       "      <td>2011-03-14</td>\n",
       "      <td>roman</td>\n",
       "      <td>1390.0</td>\n",
       "      <td>roman</td>\n",
       "      <td>34.938093</td>\n",
       "      <td>-9.856322</td>\n",
       "      <td>none</td>\n",
       "      <td>Lake Nyasa</td>\n",
       "      <td>...</td>\n",
       "      <td>soft</td>\n",
       "      <td>good</td>\n",
       "      <td>enough</td>\n",
       "      <td>spring</td>\n",
       "      <td>groundwater</td>\n",
       "      <td>communal standpipe</td>\n",
       "      <td>functional</td>\n",
       "      <td>2011</td>\n",
       "      <td>3</td>\n",
       "      <td>0</td>\n",
       "    </tr>\n",
       "    <tr>\n",
       "      <th>1</th>\n",
       "      <td>8776</td>\n",
       "      <td>0.0</td>\n",
       "      <td>2013-03-06</td>\n",
       "      <td>grumeti</td>\n",
       "      <td>1399.0</td>\n",
       "      <td>grumeti</td>\n",
       "      <td>34.698766</td>\n",
       "      <td>-2.147466</td>\n",
       "      <td>Zahanati</td>\n",
       "      <td>Lake Victoria</td>\n",
       "      <td>...</td>\n",
       "      <td>soft</td>\n",
       "      <td>good</td>\n",
       "      <td>insufficient</td>\n",
       "      <td>rainwater harvesting</td>\n",
       "      <td>surface</td>\n",
       "      <td>communal standpipe</td>\n",
       "      <td>functional</td>\n",
       "      <td>2013</td>\n",
       "      <td>3</td>\n",
       "      <td>2</td>\n",
       "    </tr>\n",
       "    <tr>\n",
       "      <th>2</th>\n",
       "      <td>34310</td>\n",
       "      <td>25.0</td>\n",
       "      <td>2013-02-25</td>\n",
       "      <td>lottery club</td>\n",
       "      <td>686.0</td>\n",
       "      <td>world vision</td>\n",
       "      <td>37.460664</td>\n",
       "      <td>-3.821329</td>\n",
       "      <td>Kwa Mahundi</td>\n",
       "      <td>Pangani</td>\n",
       "      <td>...</td>\n",
       "      <td>soft</td>\n",
       "      <td>good</td>\n",
       "      <td>enough</td>\n",
       "      <td>dam</td>\n",
       "      <td>surface</td>\n",
       "      <td>communal standpipe multiple</td>\n",
       "      <td>functional</td>\n",
       "      <td>2013</td>\n",
       "      <td>2</td>\n",
       "      <td>0</td>\n",
       "    </tr>\n",
       "    <tr>\n",
       "      <th>3</th>\n",
       "      <td>67743</td>\n",
       "      <td>0.0</td>\n",
       "      <td>2013-01-28</td>\n",
       "      <td>unicef</td>\n",
       "      <td>263.0</td>\n",
       "      <td>unicef</td>\n",
       "      <td>38.486161</td>\n",
       "      <td>-11.155298</td>\n",
       "      <td>Zahanati Ya Nanyumbu</td>\n",
       "      <td>Ruvuma / Southern Coast</td>\n",
       "      <td>...</td>\n",
       "      <td>soft</td>\n",
       "      <td>good</td>\n",
       "      <td>dry</td>\n",
       "      <td>machine dbh</td>\n",
       "      <td>groundwater</td>\n",
       "      <td>communal standpipe multiple</td>\n",
       "      <td>non functional</td>\n",
       "      <td>2013</td>\n",
       "      <td>1</td>\n",
       "      <td>0</td>\n",
       "    </tr>\n",
       "    <tr>\n",
       "      <th>4</th>\n",
       "      <td>19728</td>\n",
       "      <td>0.0</td>\n",
       "      <td>2011-07-13</td>\n",
       "      <td>action in a</td>\n",
       "      <td>0.0</td>\n",
       "      <td>artisan</td>\n",
       "      <td>31.130847</td>\n",
       "      <td>-1.825359</td>\n",
       "      <td>Shuleni</td>\n",
       "      <td>Lake Victoria</td>\n",
       "      <td>...</td>\n",
       "      <td>soft</td>\n",
       "      <td>good</td>\n",
       "      <td>seasonal</td>\n",
       "      <td>rainwater harvesting</td>\n",
       "      <td>surface</td>\n",
       "      <td>communal standpipe</td>\n",
       "      <td>functional</td>\n",
       "      <td>2011</td>\n",
       "      <td>7</td>\n",
       "      <td>2</td>\n",
       "    </tr>\n",
       "  </tbody>\n",
       "</table>\n",
       "<p>5 rows × 36 columns</p>\n",
       "</div>"
      ],
      "text/plain": [
       "      id  amount_tsh date_recorded        funder  gps_height     installer  \\\n",
       "0  69572      6000.0    2011-03-14         roman      1390.0         roman   \n",
       "1   8776         0.0    2013-03-06       grumeti      1399.0       grumeti   \n",
       "2  34310        25.0    2013-02-25  lottery club       686.0  world vision   \n",
       "3  67743         0.0    2013-01-28        unicef       263.0        unicef   \n",
       "4  19728         0.0    2011-07-13   action in a         0.0       artisan   \n",
       "\n",
       "   longitude   latitude              wpt_name                    basin  ...  \\\n",
       "0  34.938093  -9.856322                  none               Lake Nyasa  ...   \n",
       "1  34.698766  -2.147466              Zahanati            Lake Victoria  ...   \n",
       "2  37.460664  -3.821329           Kwa Mahundi                  Pangani  ...   \n",
       "3  38.486161 -11.155298  Zahanati Ya Nanyumbu  Ruvuma / Southern Coast  ...   \n",
       "4  31.130847  -1.825359               Shuleni            Lake Victoria  ...   \n",
       "\n",
       "  water_quality quality_group      quantity                source  \\\n",
       "0          soft          good        enough                spring   \n",
       "1          soft          good  insufficient  rainwater harvesting   \n",
       "2          soft          good        enough                   dam   \n",
       "3          soft          good           dry           machine dbh   \n",
       "4          soft          good      seasonal  rainwater harvesting   \n",
       "\n",
       "  source_class              waterpoint_type    status_group  year_recorded  \\\n",
       "0  groundwater           communal standpipe      functional           2011   \n",
       "1      surface           communal standpipe      functional           2013   \n",
       "2      surface  communal standpipe multiple      functional           2013   \n",
       "3  groundwater  communal standpipe multiple  non functional           2013   \n",
       "4      surface           communal standpipe      functional           2011   \n",
       "\n",
       "  month_recorded dayofweek_recorded  \n",
       "0              3                  0  \n",
       "1              3                  2  \n",
       "2              2                  0  \n",
       "3              1                  0  \n",
       "4              7                  2  \n",
       "\n",
       "[5 rows x 36 columns]"
      ]
     },
     "execution_count": 4372,
     "metadata": {},
     "output_type": "execute_result"
    }
   ],
   "source": [
    "df_train_cleaned.head()"
   ]
  },
  {
   "cell_type": "code",
   "execution_count": 4373,
   "id": "25202876",
   "metadata": {},
   "outputs": [
    {
     "data": {
      "text/plain": [
       "Index(['id', 'amount_tsh', 'date_recorded', 'funder', 'gps_height',\n",
       "       'installer', 'longitude', 'latitude', 'wpt_name', 'basin', 'subvillage',\n",
       "       'region', 'region_code', 'district_code', 'lga', 'ward', 'population',\n",
       "       'public_meeting', 'scheme_management', 'scheme_name', 'permit',\n",
       "       'construction_year', 'extraction_type_class', 'management',\n",
       "       'management_group', 'payment_type', 'water_quality', 'quality_group',\n",
       "       'quantity', 'source', 'source_class', 'waterpoint_type', 'status_group',\n",
       "       'year_recorded', 'month_recorded', 'dayofweek_recorded'],\n",
       "      dtype='object')"
      ]
     },
     "execution_count": 4373,
     "metadata": {},
     "output_type": "execute_result"
    }
   ],
   "source": [
    "df_train_cleaned.columns"
   ]
  }
 ],
 "metadata": {
  "kernelspec": {
   "display_name": "base",
   "language": "python",
   "name": "python3"
  },
  "language_info": {
   "codemirror_mode": {
    "name": "ipython",
    "version": 3
   },
   "file_extension": ".py",
   "mimetype": "text/x-python",
   "name": "python",
   "nbconvert_exporter": "python",
   "pygments_lexer": "ipython3",
   "version": "3.8.8"
  }
 },
 "nbformat": 4,
 "nbformat_minor": 5
}
