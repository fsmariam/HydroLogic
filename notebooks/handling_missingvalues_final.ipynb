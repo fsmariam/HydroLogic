{
 "cells": [
  {
   "cell_type": "markdown",
   "id": "359a34af",
   "metadata": {},
   "source": [
    "# Predicting Water Pump Functionality in Tanzania (HydroLogic Project)\n",
    "Authored by Farzaneh Gerami, Subaye Opoku-Acquah & Mariam Farda | \n",
    "March – June 2025"
   ]
  },
  {
   "cell_type": "markdown",
   "id": "9787afa7",
   "metadata": {},
   "source": [
    "# Imports"
   ]
  },
  {
   "cell_type": "code",
   "execution_count": 1,
   "id": "7a46427f",
   "metadata": {},
   "outputs": [],
   "source": [
    "# Imports\n",
    "import pandas as pd\n",
    "import numpy as np\n",
    "import matplotlib.pyplot as plt\n",
    "import seaborn as sns\n",
    "\n",
    "from scipy import stats\n",
    "from scipy.stats import f_oneway\n",
    "\n",
    "import math\n",
    "\n",
    "import datetime\n",
    "\n",
    "from sklearn.impute import SimpleImputer\n",
    "from sklearn.preprocessing import StandardScaler\n",
    "from sklearn.base import BaseEstimator, TransformerMixin\n",
    "from sklearn.pipeline import Pipeline\n",
    "from sklearn.preprocessing import StandardScaler, OneHotEncoder\n",
    "from sklearn.compose import ColumnTransformer\n",
    "\n",
    "import joblib\n"
   ]
  },
  {
   "cell_type": "markdown",
   "id": "6411d448",
   "metadata": {},
   "source": [
    "# Sprint 1 - Data Cleaning and Preprocessing"
   ]
  },
  {
   "cell_type": "markdown",
   "id": "5e7ee6bc",
   "metadata": {},
   "source": [
    "## Read Merged Data"
   ]
  },
  {
   "cell_type": "code",
   "execution_count": 2,
   "id": "f5ff7595",
   "metadata": {},
   "outputs": [],
   "source": [
    "# Read Merged data as an original data\n",
    "url_merge_data = \"../data/processed/Merged_Training_Set.csv\"\n",
    "df_train_original = pd.read_csv(url_merge_data)"
   ]
  },
  {
   "cell_type": "code",
   "execution_count": 3,
   "id": "cc1c6b7a",
   "metadata": {},
   "outputs": [
    {
     "data": {
      "text/html": [
       "<div>\n",
       "<style scoped>\n",
       "    .dataframe tbody tr th:only-of-type {\n",
       "        vertical-align: middle;\n",
       "    }\n",
       "\n",
       "    .dataframe tbody tr th {\n",
       "        vertical-align: top;\n",
       "    }\n",
       "\n",
       "    .dataframe thead th {\n",
       "        text-align: right;\n",
       "    }\n",
       "</style>\n",
       "<table border=\"1\" class=\"dataframe\">\n",
       "  <thead>\n",
       "    <tr style=\"text-align: right;\">\n",
       "      <th></th>\n",
       "      <th>id</th>\n",
       "      <th>amount_tsh</th>\n",
       "      <th>date_recorded</th>\n",
       "      <th>funder</th>\n",
       "      <th>gps_height</th>\n",
       "      <th>installer</th>\n",
       "      <th>longitude</th>\n",
       "      <th>latitude</th>\n",
       "      <th>wpt_name</th>\n",
       "      <th>num_private</th>\n",
       "      <th>...</th>\n",
       "      <th>water_quality</th>\n",
       "      <th>quality_group</th>\n",
       "      <th>quantity</th>\n",
       "      <th>quantity_group</th>\n",
       "      <th>source</th>\n",
       "      <th>source_type</th>\n",
       "      <th>source_class</th>\n",
       "      <th>waterpoint_type</th>\n",
       "      <th>waterpoint_type_group</th>\n",
       "      <th>status_group</th>\n",
       "    </tr>\n",
       "  </thead>\n",
       "  <tbody>\n",
       "    <tr>\n",
       "      <th>0</th>\n",
       "      <td>69572</td>\n",
       "      <td>6000.0</td>\n",
       "      <td>2011-03-14</td>\n",
       "      <td>Roman</td>\n",
       "      <td>1390</td>\n",
       "      <td>Roman</td>\n",
       "      <td>34.938093</td>\n",
       "      <td>-9.856322</td>\n",
       "      <td>none</td>\n",
       "      <td>0</td>\n",
       "      <td>...</td>\n",
       "      <td>soft</td>\n",
       "      <td>good</td>\n",
       "      <td>enough</td>\n",
       "      <td>enough</td>\n",
       "      <td>spring</td>\n",
       "      <td>spring</td>\n",
       "      <td>groundwater</td>\n",
       "      <td>communal standpipe</td>\n",
       "      <td>communal standpipe</td>\n",
       "      <td>functional</td>\n",
       "    </tr>\n",
       "    <tr>\n",
       "      <th>1</th>\n",
       "      <td>8776</td>\n",
       "      <td>0.0</td>\n",
       "      <td>2013-03-06</td>\n",
       "      <td>Grumeti</td>\n",
       "      <td>1399</td>\n",
       "      <td>GRUMETI</td>\n",
       "      <td>34.698766</td>\n",
       "      <td>-2.147466</td>\n",
       "      <td>Zahanati</td>\n",
       "      <td>0</td>\n",
       "      <td>...</td>\n",
       "      <td>soft</td>\n",
       "      <td>good</td>\n",
       "      <td>insufficient</td>\n",
       "      <td>insufficient</td>\n",
       "      <td>rainwater harvesting</td>\n",
       "      <td>rainwater harvesting</td>\n",
       "      <td>surface</td>\n",
       "      <td>communal standpipe</td>\n",
       "      <td>communal standpipe</td>\n",
       "      <td>functional</td>\n",
       "    </tr>\n",
       "    <tr>\n",
       "      <th>2</th>\n",
       "      <td>34310</td>\n",
       "      <td>25.0</td>\n",
       "      <td>2013-02-25</td>\n",
       "      <td>Lottery Club</td>\n",
       "      <td>686</td>\n",
       "      <td>World vision</td>\n",
       "      <td>37.460664</td>\n",
       "      <td>-3.821329</td>\n",
       "      <td>Kwa Mahundi</td>\n",
       "      <td>0</td>\n",
       "      <td>...</td>\n",
       "      <td>soft</td>\n",
       "      <td>good</td>\n",
       "      <td>enough</td>\n",
       "      <td>enough</td>\n",
       "      <td>dam</td>\n",
       "      <td>dam</td>\n",
       "      <td>surface</td>\n",
       "      <td>communal standpipe multiple</td>\n",
       "      <td>communal standpipe</td>\n",
       "      <td>functional</td>\n",
       "    </tr>\n",
       "    <tr>\n",
       "      <th>3</th>\n",
       "      <td>67743</td>\n",
       "      <td>0.0</td>\n",
       "      <td>2013-01-28</td>\n",
       "      <td>Unicef</td>\n",
       "      <td>263</td>\n",
       "      <td>UNICEF</td>\n",
       "      <td>38.486161</td>\n",
       "      <td>-11.155298</td>\n",
       "      <td>Zahanati Ya Nanyumbu</td>\n",
       "      <td>0</td>\n",
       "      <td>...</td>\n",
       "      <td>soft</td>\n",
       "      <td>good</td>\n",
       "      <td>dry</td>\n",
       "      <td>dry</td>\n",
       "      <td>machine dbh</td>\n",
       "      <td>borehole</td>\n",
       "      <td>groundwater</td>\n",
       "      <td>communal standpipe multiple</td>\n",
       "      <td>communal standpipe</td>\n",
       "      <td>non functional</td>\n",
       "    </tr>\n",
       "    <tr>\n",
       "      <th>4</th>\n",
       "      <td>19728</td>\n",
       "      <td>0.0</td>\n",
       "      <td>2011-07-13</td>\n",
       "      <td>Action In A</td>\n",
       "      <td>0</td>\n",
       "      <td>Artisan</td>\n",
       "      <td>31.130847</td>\n",
       "      <td>-1.825359</td>\n",
       "      <td>Shuleni</td>\n",
       "      <td>0</td>\n",
       "      <td>...</td>\n",
       "      <td>soft</td>\n",
       "      <td>good</td>\n",
       "      <td>seasonal</td>\n",
       "      <td>seasonal</td>\n",
       "      <td>rainwater harvesting</td>\n",
       "      <td>rainwater harvesting</td>\n",
       "      <td>surface</td>\n",
       "      <td>communal standpipe</td>\n",
       "      <td>communal standpipe</td>\n",
       "      <td>functional</td>\n",
       "    </tr>\n",
       "    <tr>\n",
       "      <th>...</th>\n",
       "      <td>...</td>\n",
       "      <td>...</td>\n",
       "      <td>...</td>\n",
       "      <td>...</td>\n",
       "      <td>...</td>\n",
       "      <td>...</td>\n",
       "      <td>...</td>\n",
       "      <td>...</td>\n",
       "      <td>...</td>\n",
       "      <td>...</td>\n",
       "      <td>...</td>\n",
       "      <td>...</td>\n",
       "      <td>...</td>\n",
       "      <td>...</td>\n",
       "      <td>...</td>\n",
       "      <td>...</td>\n",
       "      <td>...</td>\n",
       "      <td>...</td>\n",
       "      <td>...</td>\n",
       "      <td>...</td>\n",
       "      <td>...</td>\n",
       "    </tr>\n",
       "    <tr>\n",
       "      <th>59395</th>\n",
       "      <td>60739</td>\n",
       "      <td>10.0</td>\n",
       "      <td>2013-05-03</td>\n",
       "      <td>Germany Republi</td>\n",
       "      <td>1210</td>\n",
       "      <td>CES</td>\n",
       "      <td>37.169807</td>\n",
       "      <td>-3.253847</td>\n",
       "      <td>Area Three Namba 27</td>\n",
       "      <td>0</td>\n",
       "      <td>...</td>\n",
       "      <td>soft</td>\n",
       "      <td>good</td>\n",
       "      <td>enough</td>\n",
       "      <td>enough</td>\n",
       "      <td>spring</td>\n",
       "      <td>spring</td>\n",
       "      <td>groundwater</td>\n",
       "      <td>communal standpipe</td>\n",
       "      <td>communal standpipe</td>\n",
       "      <td>functional</td>\n",
       "    </tr>\n",
       "    <tr>\n",
       "      <th>59396</th>\n",
       "      <td>27263</td>\n",
       "      <td>4700.0</td>\n",
       "      <td>2011-05-07</td>\n",
       "      <td>Cefa-njombe</td>\n",
       "      <td>1212</td>\n",
       "      <td>Cefa</td>\n",
       "      <td>35.249991</td>\n",
       "      <td>-9.070629</td>\n",
       "      <td>Kwa Yahona Kuvala</td>\n",
       "      <td>0</td>\n",
       "      <td>...</td>\n",
       "      <td>soft</td>\n",
       "      <td>good</td>\n",
       "      <td>enough</td>\n",
       "      <td>enough</td>\n",
       "      <td>river</td>\n",
       "      <td>river/lake</td>\n",
       "      <td>surface</td>\n",
       "      <td>communal standpipe</td>\n",
       "      <td>communal standpipe</td>\n",
       "      <td>functional</td>\n",
       "    </tr>\n",
       "    <tr>\n",
       "      <th>59397</th>\n",
       "      <td>37057</td>\n",
       "      <td>0.0</td>\n",
       "      <td>2011-04-11</td>\n",
       "      <td>NaN</td>\n",
       "      <td>0</td>\n",
       "      <td>NaN</td>\n",
       "      <td>34.017087</td>\n",
       "      <td>-8.750434</td>\n",
       "      <td>Mashine</td>\n",
       "      <td>0</td>\n",
       "      <td>...</td>\n",
       "      <td>fluoride</td>\n",
       "      <td>fluoride</td>\n",
       "      <td>enough</td>\n",
       "      <td>enough</td>\n",
       "      <td>machine dbh</td>\n",
       "      <td>borehole</td>\n",
       "      <td>groundwater</td>\n",
       "      <td>hand pump</td>\n",
       "      <td>hand pump</td>\n",
       "      <td>functional</td>\n",
       "    </tr>\n",
       "    <tr>\n",
       "      <th>59398</th>\n",
       "      <td>31282</td>\n",
       "      <td>0.0</td>\n",
       "      <td>2011-03-08</td>\n",
       "      <td>Malec</td>\n",
       "      <td>0</td>\n",
       "      <td>Musa</td>\n",
       "      <td>35.861315</td>\n",
       "      <td>-6.378573</td>\n",
       "      <td>Mshoro</td>\n",
       "      <td>0</td>\n",
       "      <td>...</td>\n",
       "      <td>soft</td>\n",
       "      <td>good</td>\n",
       "      <td>insufficient</td>\n",
       "      <td>insufficient</td>\n",
       "      <td>shallow well</td>\n",
       "      <td>shallow well</td>\n",
       "      <td>groundwater</td>\n",
       "      <td>hand pump</td>\n",
       "      <td>hand pump</td>\n",
       "      <td>functional</td>\n",
       "    </tr>\n",
       "    <tr>\n",
       "      <th>59399</th>\n",
       "      <td>26348</td>\n",
       "      <td>0.0</td>\n",
       "      <td>2011-03-23</td>\n",
       "      <td>World Bank</td>\n",
       "      <td>191</td>\n",
       "      <td>World</td>\n",
       "      <td>38.104048</td>\n",
       "      <td>-6.747464</td>\n",
       "      <td>Kwa Mzee Lugawa</td>\n",
       "      <td>0</td>\n",
       "      <td>...</td>\n",
       "      <td>salty</td>\n",
       "      <td>salty</td>\n",
       "      <td>enough</td>\n",
       "      <td>enough</td>\n",
       "      <td>shallow well</td>\n",
       "      <td>shallow well</td>\n",
       "      <td>groundwater</td>\n",
       "      <td>hand pump</td>\n",
       "      <td>hand pump</td>\n",
       "      <td>functional</td>\n",
       "    </tr>\n",
       "  </tbody>\n",
       "</table>\n",
       "<p>59400 rows × 41 columns</p>\n",
       "</div>"
      ],
      "text/plain": [
       "          id  amount_tsh date_recorded           funder  gps_height  \\\n",
       "0      69572      6000.0    2011-03-14            Roman        1390   \n",
       "1       8776         0.0    2013-03-06          Grumeti        1399   \n",
       "2      34310        25.0    2013-02-25     Lottery Club         686   \n",
       "3      67743         0.0    2013-01-28           Unicef         263   \n",
       "4      19728         0.0    2011-07-13      Action In A           0   \n",
       "...      ...         ...           ...              ...         ...   \n",
       "59395  60739        10.0    2013-05-03  Germany Republi        1210   \n",
       "59396  27263      4700.0    2011-05-07      Cefa-njombe        1212   \n",
       "59397  37057         0.0    2011-04-11              NaN           0   \n",
       "59398  31282         0.0    2011-03-08            Malec           0   \n",
       "59399  26348         0.0    2011-03-23       World Bank         191   \n",
       "\n",
       "          installer  longitude   latitude              wpt_name  num_private  \\\n",
       "0             Roman  34.938093  -9.856322                  none            0   \n",
       "1           GRUMETI  34.698766  -2.147466              Zahanati            0   \n",
       "2      World vision  37.460664  -3.821329           Kwa Mahundi            0   \n",
       "3            UNICEF  38.486161 -11.155298  Zahanati Ya Nanyumbu            0   \n",
       "4           Artisan  31.130847  -1.825359               Shuleni            0   \n",
       "...             ...        ...        ...                   ...          ...   \n",
       "59395           CES  37.169807  -3.253847   Area Three Namba 27            0   \n",
       "59396          Cefa  35.249991  -9.070629     Kwa Yahona Kuvala            0   \n",
       "59397           NaN  34.017087  -8.750434               Mashine            0   \n",
       "59398          Musa  35.861315  -6.378573                Mshoro            0   \n",
       "59399         World  38.104048  -6.747464       Kwa Mzee Lugawa            0   \n",
       "\n",
       "       ... water_quality quality_group      quantity  quantity_group  \\\n",
       "0      ...          soft          good        enough          enough   \n",
       "1      ...          soft          good  insufficient    insufficient   \n",
       "2      ...          soft          good        enough          enough   \n",
       "3      ...          soft          good           dry             dry   \n",
       "4      ...          soft          good      seasonal        seasonal   \n",
       "...    ...           ...           ...           ...             ...   \n",
       "59395  ...          soft          good        enough          enough   \n",
       "59396  ...          soft          good        enough          enough   \n",
       "59397  ...      fluoride      fluoride        enough          enough   \n",
       "59398  ...          soft          good  insufficient    insufficient   \n",
       "59399  ...         salty         salty        enough          enough   \n",
       "\n",
       "                     source           source_type source_class  \\\n",
       "0                    spring                spring  groundwater   \n",
       "1      rainwater harvesting  rainwater harvesting      surface   \n",
       "2                       dam                   dam      surface   \n",
       "3               machine dbh              borehole  groundwater   \n",
       "4      rainwater harvesting  rainwater harvesting      surface   \n",
       "...                     ...                   ...          ...   \n",
       "59395                spring                spring  groundwater   \n",
       "59396                 river            river/lake      surface   \n",
       "59397           machine dbh              borehole  groundwater   \n",
       "59398          shallow well          shallow well  groundwater   \n",
       "59399          shallow well          shallow well  groundwater   \n",
       "\n",
       "                   waterpoint_type waterpoint_type_group    status_group  \n",
       "0               communal standpipe    communal standpipe      functional  \n",
       "1               communal standpipe    communal standpipe      functional  \n",
       "2      communal standpipe multiple    communal standpipe      functional  \n",
       "3      communal standpipe multiple    communal standpipe  non functional  \n",
       "4               communal standpipe    communal standpipe      functional  \n",
       "...                            ...                   ...             ...  \n",
       "59395           communal standpipe    communal standpipe      functional  \n",
       "59396           communal standpipe    communal standpipe      functional  \n",
       "59397                    hand pump             hand pump      functional  \n",
       "59398                    hand pump             hand pump      functional  \n",
       "59399                    hand pump             hand pump      functional  \n",
       "\n",
       "[59400 rows x 41 columns]"
      ]
     },
     "execution_count": 3,
     "metadata": {},
     "output_type": "execute_result"
    }
   ],
   "source": [
    "# make a copy of the original dataset\n",
    "df_train_cleaned = df_train_original.copy()\n",
    "df_train_cleaned"
   ]
  },
  {
   "cell_type": "markdown",
   "id": "fd5b4c2e",
   "metadata": {},
   "source": [
    "## Feature Summary"
   ]
  },
  {
   "cell_type": "code",
   "execution_count": 4,
   "id": "6ee132ab",
   "metadata": {},
   "outputs": [
    {
     "data": {
      "text/html": [
       "<div>\n",
       "<style scoped>\n",
       "    .dataframe tbody tr th:only-of-type {\n",
       "        vertical-align: middle;\n",
       "    }\n",
       "\n",
       "    .dataframe tbody tr th {\n",
       "        vertical-align: top;\n",
       "    }\n",
       "\n",
       "    .dataframe thead th {\n",
       "        text-align: right;\n",
       "    }\n",
       "</style>\n",
       "<table border=\"1\" class=\"dataframe\">\n",
       "  <thead>\n",
       "    <tr style=\"text-align: right;\">\n",
       "      <th></th>\n",
       "      <th>Data Type</th>\n",
       "      <th>Missing Values</th>\n",
       "      <th>Zero Values</th>\n",
       "      <th>Unique Values</th>\n",
       "      <th>% Missing</th>\n",
       "      <th>Feature Type</th>\n",
       "    </tr>\n",
       "  </thead>\n",
       "  <tbody>\n",
       "    <tr>\n",
       "      <th>scheme_name</th>\n",
       "      <td>object</td>\n",
       "      <td>28166</td>\n",
       "      <td>0</td>\n",
       "      <td>2696</td>\n",
       "      <td>47.417508</td>\n",
       "      <td>Categorical</td>\n",
       "    </tr>\n",
       "    <tr>\n",
       "      <th>scheme_management</th>\n",
       "      <td>object</td>\n",
       "      <td>3877</td>\n",
       "      <td>0</td>\n",
       "      <td>12</td>\n",
       "      <td>6.526936</td>\n",
       "      <td>Categorical</td>\n",
       "    </tr>\n",
       "    <tr>\n",
       "      <th>installer</th>\n",
       "      <td>object</td>\n",
       "      <td>3655</td>\n",
       "      <td>0</td>\n",
       "      <td>2145</td>\n",
       "      <td>6.153199</td>\n",
       "      <td>Categorical</td>\n",
       "    </tr>\n",
       "    <tr>\n",
       "      <th>funder</th>\n",
       "      <td>object</td>\n",
       "      <td>3635</td>\n",
       "      <td>0</td>\n",
       "      <td>1897</td>\n",
       "      <td>6.119529</td>\n",
       "      <td>Categorical</td>\n",
       "    </tr>\n",
       "    <tr>\n",
       "      <th>public_meeting</th>\n",
       "      <td>object</td>\n",
       "      <td>3334</td>\n",
       "      <td>5055</td>\n",
       "      <td>2</td>\n",
       "      <td>5.612795</td>\n",
       "      <td>Categorical</td>\n",
       "    </tr>\n",
       "    <tr>\n",
       "      <th>permit</th>\n",
       "      <td>object</td>\n",
       "      <td>3056</td>\n",
       "      <td>17492</td>\n",
       "      <td>2</td>\n",
       "      <td>5.144781</td>\n",
       "      <td>Categorical</td>\n",
       "    </tr>\n",
       "    <tr>\n",
       "      <th>subvillage</th>\n",
       "      <td>object</td>\n",
       "      <td>371</td>\n",
       "      <td>0</td>\n",
       "      <td>19287</td>\n",
       "      <td>0.624579</td>\n",
       "      <td>Categorical</td>\n",
       "    </tr>\n",
       "    <tr>\n",
       "      <th>payment</th>\n",
       "      <td>object</td>\n",
       "      <td>0</td>\n",
       "      <td>0</td>\n",
       "      <td>7</td>\n",
       "      <td>0.000000</td>\n",
       "      <td>Categorical</td>\n",
       "    </tr>\n",
       "    <tr>\n",
       "      <th>waterpoint_type_group</th>\n",
       "      <td>object</td>\n",
       "      <td>0</td>\n",
       "      <td>0</td>\n",
       "      <td>6</td>\n",
       "      <td>0.000000</td>\n",
       "      <td>Categorical</td>\n",
       "    </tr>\n",
       "    <tr>\n",
       "      <th>extraction_type_group</th>\n",
       "      <td>object</td>\n",
       "      <td>0</td>\n",
       "      <td>0</td>\n",
       "      <td>13</td>\n",
       "      <td>0.000000</td>\n",
       "      <td>Categorical</td>\n",
       "    </tr>\n",
       "    <tr>\n",
       "      <th>extraction_type_class</th>\n",
       "      <td>object</td>\n",
       "      <td>0</td>\n",
       "      <td>0</td>\n",
       "      <td>7</td>\n",
       "      <td>0.000000</td>\n",
       "      <td>Categorical</td>\n",
       "    </tr>\n",
       "    <tr>\n",
       "      <th>waterpoint_type</th>\n",
       "      <td>object</td>\n",
       "      <td>0</td>\n",
       "      <td>0</td>\n",
       "      <td>7</td>\n",
       "      <td>0.000000</td>\n",
       "      <td>Categorical</td>\n",
       "    </tr>\n",
       "    <tr>\n",
       "      <th>management</th>\n",
       "      <td>object</td>\n",
       "      <td>0</td>\n",
       "      <td>0</td>\n",
       "      <td>12</td>\n",
       "      <td>0.000000</td>\n",
       "      <td>Categorical</td>\n",
       "    </tr>\n",
       "    <tr>\n",
       "      <th>management_group</th>\n",
       "      <td>object</td>\n",
       "      <td>0</td>\n",
       "      <td>0</td>\n",
       "      <td>5</td>\n",
       "      <td>0.000000</td>\n",
       "      <td>Categorical</td>\n",
       "    </tr>\n",
       "    <tr>\n",
       "      <th>source_class</th>\n",
       "      <td>object</td>\n",
       "      <td>0</td>\n",
       "      <td>0</td>\n",
       "      <td>3</td>\n",
       "      <td>0.000000</td>\n",
       "      <td>Categorical</td>\n",
       "    </tr>\n",
       "    <tr>\n",
       "      <th>source_type</th>\n",
       "      <td>object</td>\n",
       "      <td>0</td>\n",
       "      <td>0</td>\n",
       "      <td>7</td>\n",
       "      <td>0.000000</td>\n",
       "      <td>Categorical</td>\n",
       "    </tr>\n",
       "    <tr>\n",
       "      <th>water_quality</th>\n",
       "      <td>object</td>\n",
       "      <td>0</td>\n",
       "      <td>0</td>\n",
       "      <td>8</td>\n",
       "      <td>0.000000</td>\n",
       "      <td>Categorical</td>\n",
       "    </tr>\n",
       "    <tr>\n",
       "      <th>quality_group</th>\n",
       "      <td>object</td>\n",
       "      <td>0</td>\n",
       "      <td>0</td>\n",
       "      <td>6</td>\n",
       "      <td>0.000000</td>\n",
       "      <td>Categorical</td>\n",
       "    </tr>\n",
       "    <tr>\n",
       "      <th>extraction_type</th>\n",
       "      <td>object</td>\n",
       "      <td>0</td>\n",
       "      <td>0</td>\n",
       "      <td>18</td>\n",
       "      <td>0.000000</td>\n",
       "      <td>Categorical</td>\n",
       "    </tr>\n",
       "    <tr>\n",
       "      <th>quantity</th>\n",
       "      <td>object</td>\n",
       "      <td>0</td>\n",
       "      <td>0</td>\n",
       "      <td>5</td>\n",
       "      <td>0.000000</td>\n",
       "      <td>Categorical</td>\n",
       "    </tr>\n",
       "    <tr>\n",
       "      <th>quantity_group</th>\n",
       "      <td>object</td>\n",
       "      <td>0</td>\n",
       "      <td>0</td>\n",
       "      <td>5</td>\n",
       "      <td>0.000000</td>\n",
       "      <td>Categorical</td>\n",
       "    </tr>\n",
       "    <tr>\n",
       "      <th>source</th>\n",
       "      <td>object</td>\n",
       "      <td>0</td>\n",
       "      <td>0</td>\n",
       "      <td>10</td>\n",
       "      <td>0.000000</td>\n",
       "      <td>Categorical</td>\n",
       "    </tr>\n",
       "    <tr>\n",
       "      <th>payment_type</th>\n",
       "      <td>object</td>\n",
       "      <td>0</td>\n",
       "      <td>0</td>\n",
       "      <td>7</td>\n",
       "      <td>0.000000</td>\n",
       "      <td>Categorical</td>\n",
       "    </tr>\n",
       "    <tr>\n",
       "      <th>id</th>\n",
       "      <td>int64</td>\n",
       "      <td>0</td>\n",
       "      <td>1</td>\n",
       "      <td>59400</td>\n",
       "      <td>0.000000</td>\n",
       "      <td>Numerical</td>\n",
       "    </tr>\n",
       "    <tr>\n",
       "      <th>construction_year</th>\n",
       "      <td>int64</td>\n",
       "      <td>0</td>\n",
       "      <td>20709</td>\n",
       "      <td>55</td>\n",
       "      <td>0.000000</td>\n",
       "      <td>Numerical</td>\n",
       "    </tr>\n",
       "    <tr>\n",
       "      <th>basin</th>\n",
       "      <td>object</td>\n",
       "      <td>0</td>\n",
       "      <td>0</td>\n",
       "      <td>9</td>\n",
       "      <td>0.000000</td>\n",
       "      <td>Categorical</td>\n",
       "    </tr>\n",
       "    <tr>\n",
       "      <th>date_recorded</th>\n",
       "      <td>object</td>\n",
       "      <td>0</td>\n",
       "      <td>0</td>\n",
       "      <td>356</td>\n",
       "      <td>0.000000</td>\n",
       "      <td>Categorical</td>\n",
       "    </tr>\n",
       "    <tr>\n",
       "      <th>gps_height</th>\n",
       "      <td>int64</td>\n",
       "      <td>0</td>\n",
       "      <td>20438</td>\n",
       "      <td>2428</td>\n",
       "      <td>0.000000</td>\n",
       "      <td>Numerical</td>\n",
       "    </tr>\n",
       "    <tr>\n",
       "      <th>longitude</th>\n",
       "      <td>float64</td>\n",
       "      <td>0</td>\n",
       "      <td>1812</td>\n",
       "      <td>57516</td>\n",
       "      <td>0.000000</td>\n",
       "      <td>Numerical</td>\n",
       "    </tr>\n",
       "    <tr>\n",
       "      <th>latitude</th>\n",
       "      <td>float64</td>\n",
       "      <td>0</td>\n",
       "      <td>0</td>\n",
       "      <td>57517</td>\n",
       "      <td>0.000000</td>\n",
       "      <td>Numerical</td>\n",
       "    </tr>\n",
       "    <tr>\n",
       "      <th>wpt_name</th>\n",
       "      <td>object</td>\n",
       "      <td>0</td>\n",
       "      <td>0</td>\n",
       "      <td>37400</td>\n",
       "      <td>0.000000</td>\n",
       "      <td>Categorical</td>\n",
       "    </tr>\n",
       "    <tr>\n",
       "      <th>num_private</th>\n",
       "      <td>int64</td>\n",
       "      <td>0</td>\n",
       "      <td>58643</td>\n",
       "      <td>65</td>\n",
       "      <td>0.000000</td>\n",
       "      <td>Numerical</td>\n",
       "    </tr>\n",
       "    <tr>\n",
       "      <th>region</th>\n",
       "      <td>object</td>\n",
       "      <td>0</td>\n",
       "      <td>0</td>\n",
       "      <td>21</td>\n",
       "      <td>0.000000</td>\n",
       "      <td>Categorical</td>\n",
       "    </tr>\n",
       "    <tr>\n",
       "      <th>amount_tsh</th>\n",
       "      <td>float64</td>\n",
       "      <td>0</td>\n",
       "      <td>41639</td>\n",
       "      <td>98</td>\n",
       "      <td>0.000000</td>\n",
       "      <td>Numerical</td>\n",
       "    </tr>\n",
       "    <tr>\n",
       "      <th>region_code</th>\n",
       "      <td>int64</td>\n",
       "      <td>0</td>\n",
       "      <td>0</td>\n",
       "      <td>27</td>\n",
       "      <td>0.000000</td>\n",
       "      <td>Numerical</td>\n",
       "    </tr>\n",
       "    <tr>\n",
       "      <th>district_code</th>\n",
       "      <td>int64</td>\n",
       "      <td>0</td>\n",
       "      <td>23</td>\n",
       "      <td>20</td>\n",
       "      <td>0.000000</td>\n",
       "      <td>Numerical</td>\n",
       "    </tr>\n",
       "    <tr>\n",
       "      <th>lga</th>\n",
       "      <td>object</td>\n",
       "      <td>0</td>\n",
       "      <td>0</td>\n",
       "      <td>125</td>\n",
       "      <td>0.000000</td>\n",
       "      <td>Categorical</td>\n",
       "    </tr>\n",
       "    <tr>\n",
       "      <th>ward</th>\n",
       "      <td>object</td>\n",
       "      <td>0</td>\n",
       "      <td>0</td>\n",
       "      <td>2092</td>\n",
       "      <td>0.000000</td>\n",
       "      <td>Categorical</td>\n",
       "    </tr>\n",
       "    <tr>\n",
       "      <th>population</th>\n",
       "      <td>int64</td>\n",
       "      <td>0</td>\n",
       "      <td>21381</td>\n",
       "      <td>1049</td>\n",
       "      <td>0.000000</td>\n",
       "      <td>Numerical</td>\n",
       "    </tr>\n",
       "    <tr>\n",
       "      <th>recorded_by</th>\n",
       "      <td>object</td>\n",
       "      <td>0</td>\n",
       "      <td>0</td>\n",
       "      <td>1</td>\n",
       "      <td>0.000000</td>\n",
       "      <td>Categorical</td>\n",
       "    </tr>\n",
       "    <tr>\n",
       "      <th>status_group</th>\n",
       "      <td>object</td>\n",
       "      <td>0</td>\n",
       "      <td>0</td>\n",
       "      <td>3</td>\n",
       "      <td>0.000000</td>\n",
       "      <td>Categorical</td>\n",
       "    </tr>\n",
       "  </tbody>\n",
       "</table>\n",
       "</div>"
      ],
      "text/plain": [
       "                      Data Type  Missing Values  Zero Values  Unique Values  \\\n",
       "scheme_name              object           28166            0           2696   \n",
       "scheme_management        object            3877            0             12   \n",
       "installer                object            3655            0           2145   \n",
       "funder                   object            3635            0           1897   \n",
       "public_meeting           object            3334         5055              2   \n",
       "permit                   object            3056        17492              2   \n",
       "subvillage               object             371            0          19287   \n",
       "payment                  object               0            0              7   \n",
       "waterpoint_type_group    object               0            0              6   \n",
       "extraction_type_group    object               0            0             13   \n",
       "extraction_type_class    object               0            0              7   \n",
       "waterpoint_type          object               0            0              7   \n",
       "management               object               0            0             12   \n",
       "management_group         object               0            0              5   \n",
       "source_class             object               0            0              3   \n",
       "source_type              object               0            0              7   \n",
       "water_quality            object               0            0              8   \n",
       "quality_group            object               0            0              6   \n",
       "extraction_type          object               0            0             18   \n",
       "quantity                 object               0            0              5   \n",
       "quantity_group           object               0            0              5   \n",
       "source                   object               0            0             10   \n",
       "payment_type             object               0            0              7   \n",
       "id                        int64               0            1          59400   \n",
       "construction_year         int64               0        20709             55   \n",
       "basin                    object               0            0              9   \n",
       "date_recorded            object               0            0            356   \n",
       "gps_height                int64               0        20438           2428   \n",
       "longitude               float64               0         1812          57516   \n",
       "latitude                float64               0            0          57517   \n",
       "wpt_name                 object               0            0          37400   \n",
       "num_private               int64               0        58643             65   \n",
       "region                   object               0            0             21   \n",
       "amount_tsh              float64               0        41639             98   \n",
       "region_code               int64               0            0             27   \n",
       "district_code             int64               0           23             20   \n",
       "lga                      object               0            0            125   \n",
       "ward                     object               0            0           2092   \n",
       "population                int64               0        21381           1049   \n",
       "recorded_by              object               0            0              1   \n",
       "status_group             object               0            0              3   \n",
       "\n",
       "                       % Missing Feature Type  \n",
       "scheme_name            47.417508  Categorical  \n",
       "scheme_management       6.526936  Categorical  \n",
       "installer               6.153199  Categorical  \n",
       "funder                  6.119529  Categorical  \n",
       "public_meeting          5.612795  Categorical  \n",
       "permit                  5.144781  Categorical  \n",
       "subvillage              0.624579  Categorical  \n",
       "payment                 0.000000  Categorical  \n",
       "waterpoint_type_group   0.000000  Categorical  \n",
       "extraction_type_group   0.000000  Categorical  \n",
       "extraction_type_class   0.000000  Categorical  \n",
       "waterpoint_type         0.000000  Categorical  \n",
       "management              0.000000  Categorical  \n",
       "management_group        0.000000  Categorical  \n",
       "source_class            0.000000  Categorical  \n",
       "source_type             0.000000  Categorical  \n",
       "water_quality           0.000000  Categorical  \n",
       "quality_group           0.000000  Categorical  \n",
       "extraction_type         0.000000  Categorical  \n",
       "quantity                0.000000  Categorical  \n",
       "quantity_group          0.000000  Categorical  \n",
       "source                  0.000000  Categorical  \n",
       "payment_type            0.000000  Categorical  \n",
       "id                      0.000000    Numerical  \n",
       "construction_year       0.000000    Numerical  \n",
       "basin                   0.000000  Categorical  \n",
       "date_recorded           0.000000  Categorical  \n",
       "gps_height              0.000000    Numerical  \n",
       "longitude               0.000000    Numerical  \n",
       "latitude                0.000000    Numerical  \n",
       "wpt_name                0.000000  Categorical  \n",
       "num_private             0.000000    Numerical  \n",
       "region                  0.000000  Categorical  \n",
       "amount_tsh              0.000000    Numerical  \n",
       "region_code             0.000000    Numerical  \n",
       "district_code           0.000000    Numerical  \n",
       "lga                     0.000000  Categorical  \n",
       "ward                    0.000000  Categorical  \n",
       "population              0.000000    Numerical  \n",
       "recorded_by             0.000000  Categorical  \n",
       "status_group            0.000000  Categorical  "
      ]
     },
     "execution_count": 4,
     "metadata": {},
     "output_type": "execute_result"
    }
   ],
   "source": [
    "# Basic summary statics\n",
    "def feature_summary(df):\n",
    "    summary = pd.DataFrame({\n",
    "        'Data Type': df.dtypes,\n",
    "        'Missing Values': df.isnull().sum(),\n",
    "        'Zero Values': (df == 0).sum(),\n",
    "        'Unique Values': df.nunique()\n",
    "    })\n",
    "    # Add Percent of Missing Values\n",
    "    summary['% Missing'] = (summary['Missing Values'] / len(df)) * 100\n",
    "    \n",
    "    # Classify Feature Type\n",
    "    def classify_feature(col):\n",
    "        if df[col].dtype == 'object':\n",
    "            return 'Categorical'\n",
    "        elif df[col].dtype in ['int64', 'float64']:\n",
    "            if df[col].nunique() < 15:\n",
    "                return 'Ordinal/Categorical'\n",
    "            return 'Numerical'\n",
    "        elif df[col].dtype == 'bool':\n",
    "            return 'Boolean'\n",
    "        elif 'date' in col:\n",
    "            return 'Date'\n",
    "        else:\n",
    "            return 'Other'\n",
    "    # Applies the classifier to each column.\n",
    "    summary['Feature Type'] = summary.index.to_series().apply(classify_feature)\n",
    "    return summary.sort_values(by='Missing Values', ascending=False)\n",
    "\n",
    "# Run the summary\n",
    "feature_summary(df_train_cleaned)\n"
   ]
  },
  {
   "cell_type": "markdown",
   "id": "3a767ab8",
   "metadata": {},
   "source": [
    "# Convert Categorical Variables to Appropriate Formats"
   ]
  },
  {
   "cell_type": "code",
   "execution_count": 5,
   "id": "6820a64f",
   "metadata": {},
   "outputs": [
    {
     "name": "stdout",
     "output_type": "stream",
     "text": [
      "--- id ---\n",
      "[69572  8776 34310 ... 37057 31282 26348]\n",
      "\n",
      "--- amount_tsh ---\n",
      "[6.00e+03 0.00e+00 2.50e+01 2.00e+01 2.00e+02 5.00e+02 5.00e+01 4.00e+03\n",
      " 1.50e+03 6.00e+00 2.50e+02 1.00e+01 1.00e+03 1.00e+02 3.00e+01 2.00e+03\n",
      " 4.00e+02 1.20e+03 4.00e+01 3.00e+02 2.50e+04 7.50e+02 5.00e+03 6.00e+02\n",
      " 7.20e+03 2.40e+03 5.00e+00 3.60e+03 4.50e+02 4.00e+04 1.20e+04 3.00e+03\n",
      " 7.00e+00 2.00e+04 2.80e+03 2.20e+03 7.00e+01 5.50e+03 1.00e+04 2.50e+03\n",
      " 6.50e+03 5.50e+02 3.30e+01 8.00e+03 4.70e+03 7.00e+03 1.40e+04 1.30e+03\n",
      " 1.00e+05 7.00e+02 1.00e+00 6.00e+01 3.50e+02 2.00e-01 3.50e+01 3.06e+02\n",
      " 8.50e+03 1.17e+05 3.50e+03 5.20e+02 1.50e+01 6.30e+03 9.00e+03 1.50e+02\n",
      " 1.20e+05 1.38e+05 3.50e+05 4.50e+03 1.30e+04 4.50e+04 2.00e+00 1.50e+04\n",
      " 1.10e+04 5.00e+04 7.50e+03 1.63e+04 8.00e+02 1.60e+04 3.00e+04 5.30e+01\n",
      " 5.40e+03 7.00e+04 2.50e+05 2.00e+05 2.60e+04 1.80e+04 2.60e+01 5.90e+02\n",
      " 9.00e+02 9.00e+00 1.40e+03 1.70e+05 2.20e+02 3.80e+04 2.50e-01 1.20e+01\n",
      " 6.00e+04 5.90e+01]\n",
      "\n",
      "--- date_recorded ---\n",
      "['2011-03-14' '2013-03-06' '2013-02-25' '2013-01-28' '2011-07-13'\n",
      " '2011-03-13' '2012-10-01' '2012-10-09' '2012-11-03' '2011-08-03'\n",
      " '2011-02-20' '2013-02-18' '2012-10-14' '2013-03-15' '2012-10-20'\n",
      " '2011-08-04' '2011-07-04' '2011-09-04' '2011-07-22' '2011-02-22'\n",
      " '2011-02-27' '2013-02-10' '2011-10-04' '2013-11-03' '2013-01-21'\n",
      " '2013-01-16' '2011-07-11' '2013-03-05' '2013-03-16' '2011-03-23'\n",
      " '2011-03-16' '2013-03-19' '2011-03-11' '2011-02-23' '2013-03-28'\n",
      " '2011-07-16' '2011-03-27' '2013-02-11' '2013-10-03' '2011-03-12'\n",
      " '2011-07-07' '2013-01-15' '2013-03-18' '2012-10-22' '2013-02-05'\n",
      " '2011-07-27' '2011-04-04' '2013-02-21' '2011-08-18' '2011-07-31'\n",
      " '2011-08-01' '2011-07-14' '2013-02-22' '2013-07-03' '2013-08-03'\n",
      " '2013-01-22' '2011-03-22' '2013-05-03' '2013-01-19' '2013-02-09'\n",
      " '2011-01-04' '2013-02-04' '2011-03-05' '2011-03-31' '2013-02-27'\n",
      " '2011-08-07' '2011-03-30' '2012-10-23' '2011-03-02' '2011-03-04'\n",
      " '2013-03-14' '2012-10-18' '2011-08-08' '2011-09-05' '2011-04-11'\n",
      " '2013-01-17' '2013-01-20' '2013-01-27' '2013-02-19' '2012-10-06'\n",
      " '2013-02-13' '2013-02-26' '2013-02-16' '2013-02-17' '2011-07-21'\n",
      " '2011-03-07' '2011-07-12' '2011-07-17' '2011-04-07' '2011-04-10'\n",
      " '2012-10-29' '2011-02-25' '2012-10-11' '2013-02-14' '2012-10-05'\n",
      " '2011-07-19' '2011-04-15' '2011-03-17' '2013-01-25' '2011-10-07'\n",
      " '2011-02-24' '2013-03-21' '2011-08-02' '2011-02-03' '2013-01-24'\n",
      " '2012-10-21' '2011-04-16' '2013-02-03' '2013-02-24' '2011-04-02'\n",
      " '2012-10-19' '2013-01-30' '2011-03-03' '2011-08-17' '2011-03-28'\n",
      " '2011-07-23' '2013-02-06' '2011-08-11' '2011-03-09' '2011-03-18'\n",
      " '2013-03-07' '2011-08-14' '2013-09-03' '2011-02-16' '2011-04-03'\n",
      " '2011-07-09' '2011-04-12' '2011-04-14' '2011-03-10' '2013-03-25'\n",
      " '2013-02-28' '2013-01-18' '2012-10-10' '2011-07-03' '2011-08-05'\n",
      " '2011-07-20' '2013-03-13' '2011-03-15' '2011-07-18' '2013-03-03'\n",
      " '2011-11-07' '2013-04-04' '2012-10-16' '2013-03-23' '2013-04-03'\n",
      " '2013-02-08' '2011-03-21' '2011-04-05' '2012-10-15' '2011-03-19'\n",
      " '2013-06-03' '2013-03-29' '2012-10-28' '2011-07-15' '2012-10-12'\n",
      " '2011-07-29' '2011-08-06' '2012-10-13' '2013-03-02' '2013-02-12'\n",
      " '2013-01-29' '2013-01-04' '2012-10-25' '2012-11-13' '2013-02-01'\n",
      " '2011-08-10' '2013-03-17' '2011-07-30' '2011-02-21' '2011-02-17'\n",
      " '2011-08-19' '2013-02-15' '2013-02-02' '2013-01-26' '2011-04-06'\n",
      " '2011-08-21' '2013-03-24' '2013-10-02' '2011-04-01' '2013-02-23'\n",
      " '2013-02-20' '2011-04-08' '2011-03-29' '2011-03-25' '2013-03-01'\n",
      " '2013-05-04' '2012-11-05' '2011-03-24' '2011-03-20' '2013-03-04'\n",
      " '2012-10-26' '2013-06-04' '2011-08-20' '2013-02-07' '2011-07-24'\n",
      " '2011-07-25' '2013-03-22' '2013-08-02' '2011-07-28' '2013-03-12'\n",
      " '2013-03-30' '2013-12-03' '2011-03-26' '2011-03-08' '2013-01-23'\n",
      " '2012-11-04' '2012-10-02' '2012-10-07' '2011-04-18' '2012-11-15'\n",
      " '2011-08-12' '2011-08-23' '2012-10-08' '2011-02-26' '2013-03-26'\n",
      " '2011-03-01' '2012-12-14' '2011-02-14' '2013-01-14' '2012-10-04'\n",
      " '2011-07-26' '2012-10-27' '2012-10-17' '2013-09-02' '2012-10-03'\n",
      " '2013-03-20' '2012-11-08' '2011-02-15' '2012-10-24' '2013-03-10'\n",
      " '2011-07-06' '2011-07-08' '2012-12-13' '2011-08-25' '2004-08-01'\n",
      " '2011-04-09' '2012-10-31' '2011-03-06' '2013-07-02' '2012-11-12'\n",
      " '2011-02-28' '2011-02-02' '2013-01-31' '2011-07-10' '2011-04-17'\n",
      " '2011-07-05' '2011-06-04' '2011-08-22' '2011-01-03' '2013-01-13'\n",
      " '2012-11-09' '2013-01-11' '2011-01-08' '2013-07-04' '2011-02-18'\n",
      " '2011-08-13' '2012-11-06' '2011-06-03' '2013-01-12' '2013-03-08'\n",
      " '2004-12-01' '2012-12-16' '2011-04-13' '2012-11-01' '2013-03-27'\n",
      " '2011-12-03' '2013-01-08' '2011-04-19' '2012-12-15' '2012-10-30'\n",
      " '2011-08-16' '2013-01-07' '2013-01-03' '2013-05-02' '2011-08-15'\n",
      " '2011-02-19' '2011-11-03' '2011-04-21' '2013-01-10' '2012-11-10'\n",
      " '2011-12-07' '2012-11-11' '2011-10-03' '2011-08-26' '2011-04-22'\n",
      " '2011-08-09' '2011-06-07' '2002-10-14' '2013-03-09' '2011-02-04'\n",
      " '2013-01-09' '2012-12-12' '2012-11-14' '2012-12-11' '2011-04-20'\n",
      " '2012-12-18' '2011-08-27' '2013-12-02' '2013-11-02' '2011-09-27'\n",
      " '2011-08-24' '2011-09-03' '2012-11-29' '2011-09-19' '2012-12-21'\n",
      " '2012-11-02' '2013-03-11' '2012-11-19' '2011-05-03' '2012-12-10'\n",
      " '2011-11-04' '2004-05-01' '2004-04-05' '2012-12-17' '2012-11-07'\n",
      " '2012-11-30' '2004-06-01' '2011-05-07' '2012-12-23' '2011-09-09'\n",
      " '2012-12-24' '2011-05-04' '2011-04-23' '2013-04-02' '2011-02-01'\n",
      " '2011-09-18' '2011-09-06' '2011-09-20' '2004-03-01' '2011-09-17'\n",
      " '2013-01-01' '2004-01-07' '2004-07-01' '2011-09-11' '2011-08-31'\n",
      " '2011-09-21' '2011-08-30' '2011-08-28' '2011-09-01' '2011-09-28'\n",
      " '2011-09-16' '2011-09-13' '2011-09-08' '2011-09-23' '2013-01-06'\n",
      " '2011-09-14' '2004-03-06' '2012-01-21' '2012-01-25' '2011-09-15'\n",
      " '2011-09-25' '2004-09-01' '2004-04-01' '2011-09-26' '2011-09-12'\n",
      " '2013-12-01']\n",
      "\n",
      "--- funder ---\n",
      "['Roman' 'Grumeti' 'Lottery Club' ... 'Dina' 'Brown' 'Samlo']\n",
      "\n",
      "--- gps_height ---\n",
      "[1390 1399  686 ...  -90 2091 2366]\n",
      "\n",
      "--- installer ---\n",
      "['Roman' 'GRUMETI' 'World vision' ... 'Dina' 'brown' 'SELEPTA']\n",
      "\n",
      "--- longitude ---\n",
      "[34.93809275 34.6987661  37.46066446 ... 34.01708706 35.86131531\n",
      " 38.10404822]\n",
      "\n",
      "--- latitude ---\n",
      "[-9.85632177 -2.14746569 -3.82132853 ... -8.75043433 -6.37857327\n",
      " -6.74746425]\n",
      "\n",
      "--- wpt_name ---\n",
      "['none' 'Zahanati' 'Kwa Mahundi' ... 'Kwa Yahona Kuvala' 'Mshoro'\n",
      " 'Kwa Mzee Lugawa']\n",
      "\n",
      "--- num_private ---\n",
      "[   0   39    5   45    6    3  698   32   15    7   25  102    1   93\n",
      "   14   34  120   17  213   47    8   41   80  141   20   35  131    4\n",
      "   22   11   87   61   65  136    2  180   38   62    9   16   23   42\n",
      "   24   12  668  672   58  150  280  160   50 1776   30   27   10   94\n",
      "   26  450  240  755   60  111  300   55 1402]\n",
      "\n",
      "--- basin ---\n",
      "['Lake Nyasa' 'Lake Victoria' 'Pangani' 'Ruvuma / Southern Coast'\n",
      " 'Internal' 'Lake Tanganyika' 'Wami / Ruvu' 'Rufiji' 'Lake Rukwa']\n",
      "\n",
      "--- subvillage ---\n",
      "['Mnyusi B' 'Nyamara' 'Majengo' ... 'Itete B' 'Maore Kati' 'Kikatanyemba']\n",
      "\n",
      "--- region ---\n",
      "['Iringa' 'Mara' 'Manyara' 'Mtwara' 'Kagera' 'Tanga' 'Shinyanga' 'Tabora'\n",
      " 'Pwani' 'Ruvuma' 'Kilimanjaro' 'Rukwa' 'Mwanza' 'Kigoma' 'Lindi' 'Dodoma'\n",
      " 'Arusha' 'Mbeya' 'Singida' 'Morogoro' 'Dar es Salaam']\n",
      "\n",
      "--- region_code ---\n",
      "[11 20 21 90 18  4 17 14 60 10  3 15 19 16 80  1  6  2 12 13  5  7 99 24\n",
      "  9  8 40]\n",
      "\n",
      "--- district_code ---\n",
      "[ 5  2  4 63  1  8  3  6 43  7 23 33 53 62 60 30 13  0 80 67]\n",
      "\n",
      "--- lga ---\n",
      "['Ludewa' 'Serengeti' 'Simanjiro' 'Nanyumbu' 'Karagwe' 'Mkinga'\n",
      " 'Shinyanga Rural' 'Kahama' 'Tabora Urban' 'Mkuranga' 'Namtumbo' 'Maswa'\n",
      " 'Siha' 'Meatu' 'Sumbawanga Rural' 'Njombe' 'Ukerewe' 'Bariadi' 'Same'\n",
      " 'Kigoma Rural' 'Moshi Rural' 'Lindi Rural' 'Rombo' 'Chamwino' 'Bagamoyo'\n",
      " 'Mafia' 'Arusha Rural' 'Kyela' 'Kondoa' 'Kilolo' 'Kibondo' 'Makete'\n",
      " 'Singida Rural' 'Masasi' 'Rungwe' 'Moshi Urban' 'Geita' 'Mbulu'\n",
      " 'Bukoba Rural' 'Muheza' 'Lushoto' 'Meru' 'Iramba' 'Kilombero' 'Mbarali'\n",
      " 'Kasulu' 'Bukoba Urban' 'Korogwe' 'Bukombe' 'Morogoro Rural' 'Kishapu'\n",
      " 'Musoma Rural' 'Sengerema' 'Iringa Rural' 'Muleba' 'Dodoma Urban'\n",
      " 'Ruangwa' 'Hanang' 'Misenyi' 'Missungwi' 'Songea Rural' 'Tanga' 'Tunduru'\n",
      " 'Hai' 'Mwanga' 'Chato' 'Biharamulo' 'Ileje' 'Mpwapwa' 'Mvomero' 'Bunda'\n",
      " 'Kiteto' 'Longido' 'Urambo' 'Mbozi' 'Sikonge' 'Ilala' 'Tarime' 'Temeke'\n",
      " 'Mbeya Rural' 'Magu' 'Manyoni' 'Igunga' 'Kilosa' 'Babati' 'Chunya'\n",
      " 'Mufindi' 'Mtwara Rural' 'Ngara' 'Karatu' 'Mpanda' 'Kibaha'\n",
      " 'Singida Urban' 'Newala' 'Nzega' 'Nkasi' 'Bahi' 'Mbinga' 'Ulanga'\n",
      " 'Sumbawanga Urban' 'Morogoro Urban' 'Tandahimba' 'Kisarawe'\n",
      " 'Mtwara Urban' 'Kilwa' 'Liwale' 'Kongwa' 'Uyui' 'Rufiji' 'Kwimba'\n",
      " 'Monduli' 'Shinyanga Urban' 'Ngorongoro' 'Handeni' 'Rorya' 'Pangani'\n",
      " 'Lindi Urban' 'Nachingwea' 'Kinondoni' 'Kigoma Urban' 'Ilemela' 'Kilindi'\n",
      " 'Arusha Urban' 'Songea Urban' 'Nyamagana']\n",
      "\n",
      "--- ward ---\n",
      "['Mundindi' 'Natta' 'Ngorika' ... 'Chinugulu' 'Nyamtinga' 'Kinungu']\n",
      "\n",
      "--- population ---\n",
      "[109 280 250 ... 845 976 788]\n",
      "\n",
      "--- public_meeting ---\n",
      "[True nan False]\n",
      "\n",
      "--- recorded_by ---\n",
      "['GeoData Consultants Ltd']\n",
      "\n",
      "--- scheme_management ---\n",
      "['VWC' 'Other' nan 'Private operator' 'WUG' 'Water Board' 'WUA'\n",
      " 'Water authority' 'Company' 'Parastatal' 'Trust' 'SWC' 'None']\n",
      "\n",
      "--- scheme_name ---\n",
      "['Roman' nan 'Nyumba ya mungu pipe scheme' ... 'BL Nsherehehe'\n",
      " 'Magati  gravity spri' 'Mtawanya']\n",
      "\n",
      "--- permit ---\n",
      "[False True nan]\n",
      "\n",
      "--- construction_year ---\n",
      "[1999 2010 2009 1986    0 2011 1987 1991 1978 1992 2008 1974 2000 2002\n",
      " 2004 1972 2003 1980 2007 1973 1985 1970 1995 2006 1962 2005 1997 2012\n",
      " 1996 1977 1983 1984 1990 1982 1976 1988 1989 1975 1960 1961 1998 1963\n",
      " 1971 1994 1968 1993 2001 1979 1967 2013 1969 1981 1964 1966 1965]\n",
      "\n",
      "--- extraction_type ---\n",
      "['gravity' 'submersible' 'swn 80' 'nira/tanira' 'india mark ii' 'other'\n",
      " 'ksb' 'mono' 'windmill' 'afridev' 'other - rope pump' 'india mark iii'\n",
      " 'other - swn 81' 'other - play pump' 'cemo' 'climax' 'walimi'\n",
      " 'other - mkulima/shinyanga']\n",
      "\n",
      "--- extraction_type_group ---\n",
      "['gravity' 'submersible' 'swn 80' 'nira/tanira' 'india mark ii' 'other'\n",
      " 'mono' 'wind-powered' 'afridev' 'rope pump' 'india mark iii'\n",
      " 'other handpump' 'other motorpump']\n",
      "\n",
      "--- extraction_type_class ---\n",
      "['gravity' 'submersible' 'handpump' 'other' 'motorpump' 'wind-powered'\n",
      " 'rope pump']\n",
      "\n",
      "--- management ---\n",
      "['vwc' 'wug' 'other' 'private operator' 'water board' 'wua' 'company'\n",
      " 'water authority' 'parastatal' 'unknown' 'other - school' 'trust']\n",
      "\n",
      "--- management_group ---\n",
      "['user-group' 'other' 'commercial' 'parastatal' 'unknown']\n",
      "\n",
      "--- payment ---\n",
      "['pay annually' 'never pay' 'pay per bucket' 'unknown'\n",
      " 'pay when scheme fails' 'other' 'pay monthly']\n",
      "\n",
      "--- payment_type ---\n",
      "['annually' 'never pay' 'per bucket' 'unknown' 'on failure' 'other'\n",
      " 'monthly']\n",
      "\n",
      "--- water_quality ---\n",
      "['soft' 'salty' 'milky' 'unknown' 'fluoride' 'coloured' 'salty abandoned'\n",
      " 'fluoride abandoned']\n",
      "\n",
      "--- quality_group ---\n",
      "['good' 'salty' 'milky' 'unknown' 'fluoride' 'colored']\n",
      "\n",
      "--- quantity ---\n",
      "['enough' 'insufficient' 'dry' 'seasonal' 'unknown']\n",
      "\n",
      "--- quantity_group ---\n",
      "['enough' 'insufficient' 'dry' 'seasonal' 'unknown']\n",
      "\n",
      "--- source ---\n",
      "['spring' 'rainwater harvesting' 'dam' 'machine dbh' 'other'\n",
      " 'shallow well' 'river' 'hand dtw' 'lake' 'unknown']\n",
      "\n",
      "--- source_type ---\n",
      "['spring' 'rainwater harvesting' 'dam' 'borehole' 'other' 'shallow well'\n",
      " 'river/lake']\n",
      "\n",
      "--- source_class ---\n",
      "['groundwater' 'surface' 'unknown']\n",
      "\n",
      "--- waterpoint_type ---\n",
      "['communal standpipe' 'communal standpipe multiple' 'hand pump' 'other'\n",
      " 'improved spring' 'cattle trough' 'dam']\n",
      "\n",
      "--- waterpoint_type_group ---\n",
      "['communal standpipe' 'hand pump' 'other' 'improved spring'\n",
      " 'cattle trough' 'dam']\n",
      "\n",
      "--- status_group ---\n",
      "['functional' 'non functional' 'functional needs repair']\n",
      "\n"
     ]
    }
   ],
   "source": [
    "# view unique values\n",
    "for col in df_train_cleaned.columns:\n",
    "    print(f\"--- {col} ---\")\n",
    "    print(df_train_cleaned[col].unique())\n",
    "    print()"
   ]
  },
  {
   "cell_type": "code",
   "execution_count": 6,
   "id": "b93e9ba0",
   "metadata": {},
   "outputs": [
    {
     "name": "stdout",
     "output_type": "stream",
     "text": [
      "[True nan False]\n",
      "[False True nan]\n",
      "[1999 2010 2009 1986    0 2011 1987 1991 1978 1992 2008 1974 2000 2002\n",
      " 2004 1972 2003 1980 2007 1973 1985 1970 1995 2006 1962 2005 1997 2012\n",
      " 1996 1977 1983 1984 1990 1982 1976 1988 1989 1975 1960 1961 1998 1963\n",
      " 1971 1994 1968 1993 2001 1979 1967 2013 1969 1981 1964 1966 1965]\n",
      "['2011-03-14' '2013-03-06' '2013-02-25' '2013-01-28' '2011-07-13'\n",
      " '2011-03-13' '2012-10-01' '2012-10-09' '2012-11-03' '2011-08-03'\n",
      " '2011-02-20' '2013-02-18' '2012-10-14' '2013-03-15' '2012-10-20'\n",
      " '2011-08-04' '2011-07-04' '2011-09-04' '2011-07-22' '2011-02-22'\n",
      " '2011-02-27' '2013-02-10' '2011-10-04' '2013-11-03' '2013-01-21'\n",
      " '2013-01-16' '2011-07-11' '2013-03-05' '2013-03-16' '2011-03-23'\n",
      " '2011-03-16' '2013-03-19' '2011-03-11' '2011-02-23' '2013-03-28'\n",
      " '2011-07-16' '2011-03-27' '2013-02-11' '2013-10-03' '2011-03-12'\n",
      " '2011-07-07' '2013-01-15' '2013-03-18' '2012-10-22' '2013-02-05'\n",
      " '2011-07-27' '2011-04-04' '2013-02-21' '2011-08-18' '2011-07-31'\n",
      " '2011-08-01' '2011-07-14' '2013-02-22' '2013-07-03' '2013-08-03'\n",
      " '2013-01-22' '2011-03-22' '2013-05-03' '2013-01-19' '2013-02-09'\n",
      " '2011-01-04' '2013-02-04' '2011-03-05' '2011-03-31' '2013-02-27'\n",
      " '2011-08-07' '2011-03-30' '2012-10-23' '2011-03-02' '2011-03-04'\n",
      " '2013-03-14' '2012-10-18' '2011-08-08' '2011-09-05' '2011-04-11'\n",
      " '2013-01-17' '2013-01-20' '2013-01-27' '2013-02-19' '2012-10-06'\n",
      " '2013-02-13' '2013-02-26' '2013-02-16' '2013-02-17' '2011-07-21'\n",
      " '2011-03-07' '2011-07-12' '2011-07-17' '2011-04-07' '2011-04-10'\n",
      " '2012-10-29' '2011-02-25' '2012-10-11' '2013-02-14' '2012-10-05'\n",
      " '2011-07-19' '2011-04-15' '2011-03-17' '2013-01-25' '2011-10-07'\n",
      " '2011-02-24' '2013-03-21' '2011-08-02' '2011-02-03' '2013-01-24'\n",
      " '2012-10-21' '2011-04-16' '2013-02-03' '2013-02-24' '2011-04-02'\n",
      " '2012-10-19' '2013-01-30' '2011-03-03' '2011-08-17' '2011-03-28'\n",
      " '2011-07-23' '2013-02-06' '2011-08-11' '2011-03-09' '2011-03-18'\n",
      " '2013-03-07' '2011-08-14' '2013-09-03' '2011-02-16' '2011-04-03'\n",
      " '2011-07-09' '2011-04-12' '2011-04-14' '2011-03-10' '2013-03-25'\n",
      " '2013-02-28' '2013-01-18' '2012-10-10' '2011-07-03' '2011-08-05'\n",
      " '2011-07-20' '2013-03-13' '2011-03-15' '2011-07-18' '2013-03-03'\n",
      " '2011-11-07' '2013-04-04' '2012-10-16' '2013-03-23' '2013-04-03'\n",
      " '2013-02-08' '2011-03-21' '2011-04-05' '2012-10-15' '2011-03-19'\n",
      " '2013-06-03' '2013-03-29' '2012-10-28' '2011-07-15' '2012-10-12'\n",
      " '2011-07-29' '2011-08-06' '2012-10-13' '2013-03-02' '2013-02-12'\n",
      " '2013-01-29' '2013-01-04' '2012-10-25' '2012-11-13' '2013-02-01'\n",
      " '2011-08-10' '2013-03-17' '2011-07-30' '2011-02-21' '2011-02-17'\n",
      " '2011-08-19' '2013-02-15' '2013-02-02' '2013-01-26' '2011-04-06'\n",
      " '2011-08-21' '2013-03-24' '2013-10-02' '2011-04-01' '2013-02-23'\n",
      " '2013-02-20' '2011-04-08' '2011-03-29' '2011-03-25' '2013-03-01'\n",
      " '2013-05-04' '2012-11-05' '2011-03-24' '2011-03-20' '2013-03-04'\n",
      " '2012-10-26' '2013-06-04' '2011-08-20' '2013-02-07' '2011-07-24'\n",
      " '2011-07-25' '2013-03-22' '2013-08-02' '2011-07-28' '2013-03-12'\n",
      " '2013-03-30' '2013-12-03' '2011-03-26' '2011-03-08' '2013-01-23'\n",
      " '2012-11-04' '2012-10-02' '2012-10-07' '2011-04-18' '2012-11-15'\n",
      " '2011-08-12' '2011-08-23' '2012-10-08' '2011-02-26' '2013-03-26'\n",
      " '2011-03-01' '2012-12-14' '2011-02-14' '2013-01-14' '2012-10-04'\n",
      " '2011-07-26' '2012-10-27' '2012-10-17' '2013-09-02' '2012-10-03'\n",
      " '2013-03-20' '2012-11-08' '2011-02-15' '2012-10-24' '2013-03-10'\n",
      " '2011-07-06' '2011-07-08' '2012-12-13' '2011-08-25' '2004-08-01'\n",
      " '2011-04-09' '2012-10-31' '2011-03-06' '2013-07-02' '2012-11-12'\n",
      " '2011-02-28' '2011-02-02' '2013-01-31' '2011-07-10' '2011-04-17'\n",
      " '2011-07-05' '2011-06-04' '2011-08-22' '2011-01-03' '2013-01-13'\n",
      " '2012-11-09' '2013-01-11' '2011-01-08' '2013-07-04' '2011-02-18'\n",
      " '2011-08-13' '2012-11-06' '2011-06-03' '2013-01-12' '2013-03-08'\n",
      " '2004-12-01' '2012-12-16' '2011-04-13' '2012-11-01' '2013-03-27'\n",
      " '2011-12-03' '2013-01-08' '2011-04-19' '2012-12-15' '2012-10-30'\n",
      " '2011-08-16' '2013-01-07' '2013-01-03' '2013-05-02' '2011-08-15'\n",
      " '2011-02-19' '2011-11-03' '2011-04-21' '2013-01-10' '2012-11-10'\n",
      " '2011-12-07' '2012-11-11' '2011-10-03' '2011-08-26' '2011-04-22'\n",
      " '2011-08-09' '2011-06-07' '2002-10-14' '2013-03-09' '2011-02-04'\n",
      " '2013-01-09' '2012-12-12' '2012-11-14' '2012-12-11' '2011-04-20'\n",
      " '2012-12-18' '2011-08-27' '2013-12-02' '2013-11-02' '2011-09-27'\n",
      " '2011-08-24' '2011-09-03' '2012-11-29' '2011-09-19' '2012-12-21'\n",
      " '2012-11-02' '2013-03-11' '2012-11-19' '2011-05-03' '2012-12-10'\n",
      " '2011-11-04' '2004-05-01' '2004-04-05' '2012-12-17' '2012-11-07'\n",
      " '2012-11-30' '2004-06-01' '2011-05-07' '2012-12-23' '2011-09-09'\n",
      " '2012-12-24' '2011-05-04' '2011-04-23' '2013-04-02' '2011-02-01'\n",
      " '2011-09-18' '2011-09-06' '2011-09-20' '2004-03-01' '2011-09-17'\n",
      " '2013-01-01' '2004-01-07' '2004-07-01' '2011-09-11' '2011-08-31'\n",
      " '2011-09-21' '2011-08-30' '2011-08-28' '2011-09-01' '2011-09-28'\n",
      " '2011-09-16' '2011-09-13' '2011-09-08' '2011-09-23' '2013-01-06'\n",
      " '2011-09-14' '2004-03-06' '2012-01-21' '2012-01-25' '2011-09-15'\n",
      " '2011-09-25' '2004-09-01' '2004-04-01' '2011-09-26' '2011-09-12'\n",
      " '2013-12-01']\n",
      "['Lake Nyasa' 'Lake Victoria' 'Pangani' 'Ruvuma / Southern Coast'\n",
      " 'Internal' 'Lake Tanganyika' 'Wami / Ruvu' 'Rufiji' 'Lake Rukwa']\n",
      "['GeoData Consultants Ltd']\n",
      "['VWC' 'Other' nan 'Private operator' 'WUG' 'Water Board' 'WUA'\n",
      " 'Water authority' 'Company' 'Parastatal' 'Trust' 'SWC' 'None']\n"
     ]
    }
   ],
   "source": [
    "# just quick check what is inside the columns\n",
    "print(df_train_cleaned['public_meeting'].unique())\n",
    "print(df_train_cleaned['permit'].unique())\n",
    "\n",
    "print(df_train_cleaned['construction_year'].unique())\n",
    "print(df_train_cleaned['date_recorded'].unique())\n",
    "\n",
    "# this is a categorical geographic region and has 9 unique values\n",
    "print(df_train_cleaned['basin'].unique())\n",
    "# it may not be useful for modeling but as it has only 1 unique value i changed it to category\n",
    "print(df_train_cleaned['recorded_by'].unique())\n",
    "# this column has 11 unique values making it ideal for categorical encoding later\n",
    "print(df_train_cleaned['scheme_management'].unique())"
   ]
  },
  {
   "cell_type": "code",
   "execution_count": 7,
   "id": "68956a97",
   "metadata": {},
   "outputs": [],
   "source": [
    "# Clean and Convert public_meeting\n",
    "# Convert to string, clean casing and spaces, then map to booleans\n",
    "df_train_cleaned['public_meeting'] = df_train_cleaned['public_meeting'].astype(str).str.strip().str.lower()\n",
    "df_train_cleaned['public_meeting'] = df_train_cleaned['public_meeting'].map({'true': True, 'false': False})\n",
    "df_train_cleaned['public_meeting'] = df_train_cleaned['public_meeting'].astype('boolean')"
   ]
  },
  {
   "cell_type": "code",
   "execution_count": 8,
   "id": "6331df28",
   "metadata": {},
   "outputs": [],
   "source": [
    "# Clean and Convert permit\n",
    "df_train_cleaned['permit'] = df_train_cleaned['permit'].astype(str).str.strip().str.lower()\n",
    "df_train_cleaned['permit'] = df_train_cleaned['permit'].map({'true': True, 'false': False})\n",
    "df_train_cleaned['permit'] = df_train_cleaned['permit'].astype('boolean')"
   ]
  },
  {
   "cell_type": "code",
   "execution_count": 9,
   "id": "e9deebd3",
   "metadata": {},
   "outputs": [],
   "source": [
    "# Convert date_recorded to datetime\n",
    "df_train_cleaned['date_recorded'] = pd.to_datetime(df_train_cleaned['date_recorded'], errors='coerce')"
   ]
  },
  {
   "cell_type": "code",
   "execution_count": 10,
   "id": "bac20d34",
   "metadata": {},
   "outputs": [],
   "source": [
    "# Clean and Convert construction_year to datetime\n",
    "# Remove years that are likely invalid (e.g., 0 or <1900)\n",
    "df_train_cleaned.loc[df_train_cleaned['construction_year'] < 1900, 'construction_year'] = pd.NA\n",
    "\n",
    "# Convert the year into a full datetime format (assumes Jan 1 of each year)\n",
    "df_train_cleaned['construction_year'] = pd.to_datetime(\n",
    "    df_train_cleaned['construction_year'], format='%Y', errors='coerce'\n",
    ")\n"
   ]
  },
  {
   "cell_type": "code",
   "execution_count": 11,
   "id": "4250fed2",
   "metadata": {},
   "outputs": [],
   "source": [
    "# Strip whitespace and lower the casing\n",
    "df_train_cleaned['basin'] = df_train_cleaned['basin'].astype(str).str.strip().str.lower()\n",
    "df_train_cleaned['recorded_by'] = df_train_cleaned['recorded_by'].astype(str).str.strip().str.lower()\n",
    "df_train_cleaned['scheme_management'] = df_train_cleaned['scheme_management'].astype(str).str.strip().str.lower()"
   ]
  },
  {
   "cell_type": "code",
   "execution_count": 12,
   "id": "d8ebb422",
   "metadata": {},
   "outputs": [],
   "source": [
    "# covert to category\n",
    "df_train_cleaned['basin'] = df_train_cleaned['basin'].astype('category')\n",
    "df_train_cleaned['recorded_by'] = df_train_cleaned['recorded_by'].astype('category')\n",
    "df_train_cleaned['scheme_management'] = df_train_cleaned['scheme_management'].astype('category')"
   ]
  },
  {
   "cell_type": "markdown",
   "id": "08fa3db0",
   "metadata": {},
   "source": [
    "## Check the Data Type"
   ]
  },
  {
   "cell_type": "code",
   "execution_count": 13,
   "id": "522e1604",
   "metadata": {},
   "outputs": [
    {
     "name": "stdout",
     "output_type": "stream",
     "text": [
      "public_meeting              boolean\n",
      "permit                      boolean\n",
      "date_recorded        datetime64[ns]\n",
      "construction_year    datetime64[ns]\n",
      "basin                      category\n",
      "recorded_by                category\n",
      "scheme_management          category\n",
      "dtype: object\n"
     ]
    }
   ],
   "source": [
    "# Check Data Types\n",
    "print(df_train_cleaned[['public_meeting', 'permit', 'date_recorded', 'construction_year', 'basin', 'recorded_by', 'scheme_management']].dtypes)"
   ]
  },
  {
   "cell_type": "code",
   "execution_count": 14,
   "id": "735ec95d",
   "metadata": {},
   "outputs": [
    {
     "name": "stdout",
     "output_type": "stream",
     "text": [
      "<BooleanArray>\n",
      "[True, <NA>, False]\n",
      "Length: 3, dtype: boolean\n",
      "<BooleanArray>\n",
      "[False, True, <NA>]\n",
      "Length: 3, dtype: boolean\n",
      "['1999-01-01T00:00:00.000000000' '2010-01-01T00:00:00.000000000'\n",
      " '2009-01-01T00:00:00.000000000' '1986-01-01T00:00:00.000000000'\n",
      "                           'NaT' '2011-01-01T00:00:00.000000000'\n",
      " '1987-01-01T00:00:00.000000000' '1991-01-01T00:00:00.000000000'\n",
      " '1978-01-01T00:00:00.000000000' '1992-01-01T00:00:00.000000000'\n",
      " '2008-01-01T00:00:00.000000000' '1974-01-01T00:00:00.000000000'\n",
      " '2000-01-01T00:00:00.000000000' '2002-01-01T00:00:00.000000000'\n",
      " '2004-01-01T00:00:00.000000000' '1972-01-01T00:00:00.000000000'\n",
      " '2003-01-01T00:00:00.000000000' '1980-01-01T00:00:00.000000000'\n",
      " '2007-01-01T00:00:00.000000000' '1973-01-01T00:00:00.000000000'\n",
      " '1985-01-01T00:00:00.000000000' '1970-01-01T00:00:00.000000000'\n",
      " '1995-01-01T00:00:00.000000000' '2006-01-01T00:00:00.000000000'\n",
      " '1962-01-01T00:00:00.000000000' '2005-01-01T00:00:00.000000000'\n",
      " '1997-01-01T00:00:00.000000000' '2012-01-01T00:00:00.000000000'\n",
      " '1996-01-01T00:00:00.000000000' '1977-01-01T00:00:00.000000000'\n",
      " '1983-01-01T00:00:00.000000000' '1984-01-01T00:00:00.000000000'\n",
      " '1990-01-01T00:00:00.000000000' '1982-01-01T00:00:00.000000000'\n",
      " '1976-01-01T00:00:00.000000000' '1988-01-01T00:00:00.000000000'\n",
      " '1989-01-01T00:00:00.000000000' '1975-01-01T00:00:00.000000000'\n",
      " '1960-01-01T00:00:00.000000000' '1961-01-01T00:00:00.000000000'\n",
      " '1998-01-01T00:00:00.000000000' '1963-01-01T00:00:00.000000000'\n",
      " '1971-01-01T00:00:00.000000000' '1994-01-01T00:00:00.000000000'\n",
      " '1968-01-01T00:00:00.000000000' '1993-01-01T00:00:00.000000000'\n",
      " '2001-01-01T00:00:00.000000000' '1979-01-01T00:00:00.000000000'\n",
      " '1967-01-01T00:00:00.000000000' '2013-01-01T00:00:00.000000000'\n",
      " '1969-01-01T00:00:00.000000000' '1981-01-01T00:00:00.000000000'\n",
      " '1964-01-01T00:00:00.000000000' '1966-01-01T00:00:00.000000000'\n",
      " '1965-01-01T00:00:00.000000000']\n",
      "['2011-03-14T00:00:00.000000000' '2013-03-06T00:00:00.000000000'\n",
      " '2013-02-25T00:00:00.000000000' '2013-01-28T00:00:00.000000000'\n",
      " '2011-07-13T00:00:00.000000000' '2011-03-13T00:00:00.000000000'\n",
      " '2012-10-01T00:00:00.000000000' '2012-10-09T00:00:00.000000000'\n",
      " '2012-11-03T00:00:00.000000000' '2011-08-03T00:00:00.000000000'\n",
      " '2011-02-20T00:00:00.000000000' '2013-02-18T00:00:00.000000000'\n",
      " '2012-10-14T00:00:00.000000000' '2013-03-15T00:00:00.000000000'\n",
      " '2012-10-20T00:00:00.000000000' '2011-08-04T00:00:00.000000000'\n",
      " '2011-07-04T00:00:00.000000000' '2011-09-04T00:00:00.000000000'\n",
      " '2011-07-22T00:00:00.000000000' '2011-02-22T00:00:00.000000000'\n",
      " '2011-02-27T00:00:00.000000000' '2013-02-10T00:00:00.000000000'\n",
      " '2011-10-04T00:00:00.000000000' '2013-11-03T00:00:00.000000000'\n",
      " '2013-01-21T00:00:00.000000000' '2013-01-16T00:00:00.000000000'\n",
      " '2011-07-11T00:00:00.000000000' '2013-03-05T00:00:00.000000000'\n",
      " '2013-03-16T00:00:00.000000000' '2011-03-23T00:00:00.000000000'\n",
      " '2011-03-16T00:00:00.000000000' '2013-03-19T00:00:00.000000000'\n",
      " '2011-03-11T00:00:00.000000000' '2011-02-23T00:00:00.000000000'\n",
      " '2013-03-28T00:00:00.000000000' '2011-07-16T00:00:00.000000000'\n",
      " '2011-03-27T00:00:00.000000000' '2013-02-11T00:00:00.000000000'\n",
      " '2013-10-03T00:00:00.000000000' '2011-03-12T00:00:00.000000000'\n",
      " '2011-07-07T00:00:00.000000000' '2013-01-15T00:00:00.000000000'\n",
      " '2013-03-18T00:00:00.000000000' '2012-10-22T00:00:00.000000000'\n",
      " '2013-02-05T00:00:00.000000000' '2011-07-27T00:00:00.000000000'\n",
      " '2011-04-04T00:00:00.000000000' '2013-02-21T00:00:00.000000000'\n",
      " '2011-08-18T00:00:00.000000000' '2011-07-31T00:00:00.000000000'\n",
      " '2011-08-01T00:00:00.000000000' '2011-07-14T00:00:00.000000000'\n",
      " '2013-02-22T00:00:00.000000000' '2013-07-03T00:00:00.000000000'\n",
      " '2013-08-03T00:00:00.000000000' '2013-01-22T00:00:00.000000000'\n",
      " '2011-03-22T00:00:00.000000000' '2013-05-03T00:00:00.000000000'\n",
      " '2013-01-19T00:00:00.000000000' '2013-02-09T00:00:00.000000000'\n",
      " '2011-01-04T00:00:00.000000000' '2013-02-04T00:00:00.000000000'\n",
      " '2011-03-05T00:00:00.000000000' '2011-03-31T00:00:00.000000000'\n",
      " '2013-02-27T00:00:00.000000000' '2011-08-07T00:00:00.000000000'\n",
      " '2011-03-30T00:00:00.000000000' '2012-10-23T00:00:00.000000000'\n",
      " '2011-03-02T00:00:00.000000000' '2011-03-04T00:00:00.000000000'\n",
      " '2013-03-14T00:00:00.000000000' '2012-10-18T00:00:00.000000000'\n",
      " '2011-08-08T00:00:00.000000000' '2011-09-05T00:00:00.000000000'\n",
      " '2011-04-11T00:00:00.000000000' '2013-01-17T00:00:00.000000000'\n",
      " '2013-01-20T00:00:00.000000000' '2013-01-27T00:00:00.000000000'\n",
      " '2013-02-19T00:00:00.000000000' '2012-10-06T00:00:00.000000000'\n",
      " '2013-02-13T00:00:00.000000000' '2013-02-26T00:00:00.000000000'\n",
      " '2013-02-16T00:00:00.000000000' '2013-02-17T00:00:00.000000000'\n",
      " '2011-07-21T00:00:00.000000000' '2011-03-07T00:00:00.000000000'\n",
      " '2011-07-12T00:00:00.000000000' '2011-07-17T00:00:00.000000000'\n",
      " '2011-04-07T00:00:00.000000000' '2011-04-10T00:00:00.000000000'\n",
      " '2012-10-29T00:00:00.000000000' '2011-02-25T00:00:00.000000000'\n",
      " '2012-10-11T00:00:00.000000000' '2013-02-14T00:00:00.000000000'\n",
      " '2012-10-05T00:00:00.000000000' '2011-07-19T00:00:00.000000000'\n",
      " '2011-04-15T00:00:00.000000000' '2011-03-17T00:00:00.000000000'\n",
      " '2013-01-25T00:00:00.000000000' '2011-10-07T00:00:00.000000000'\n",
      " '2011-02-24T00:00:00.000000000' '2013-03-21T00:00:00.000000000'\n",
      " '2011-08-02T00:00:00.000000000' '2011-02-03T00:00:00.000000000'\n",
      " '2013-01-24T00:00:00.000000000' '2012-10-21T00:00:00.000000000'\n",
      " '2011-04-16T00:00:00.000000000' '2013-02-03T00:00:00.000000000'\n",
      " '2013-02-24T00:00:00.000000000' '2011-04-02T00:00:00.000000000'\n",
      " '2012-10-19T00:00:00.000000000' '2013-01-30T00:00:00.000000000'\n",
      " '2011-03-03T00:00:00.000000000' '2011-08-17T00:00:00.000000000'\n",
      " '2011-03-28T00:00:00.000000000' '2011-07-23T00:00:00.000000000'\n",
      " '2013-02-06T00:00:00.000000000' '2011-08-11T00:00:00.000000000'\n",
      " '2011-03-09T00:00:00.000000000' '2011-03-18T00:00:00.000000000'\n",
      " '2013-03-07T00:00:00.000000000' '2011-08-14T00:00:00.000000000'\n",
      " '2013-09-03T00:00:00.000000000' '2011-02-16T00:00:00.000000000'\n",
      " '2011-04-03T00:00:00.000000000' '2011-07-09T00:00:00.000000000'\n",
      " '2011-04-12T00:00:00.000000000' '2011-04-14T00:00:00.000000000'\n",
      " '2011-03-10T00:00:00.000000000' '2013-03-25T00:00:00.000000000'\n",
      " '2013-02-28T00:00:00.000000000' '2013-01-18T00:00:00.000000000'\n",
      " '2012-10-10T00:00:00.000000000' '2011-07-03T00:00:00.000000000'\n",
      " '2011-08-05T00:00:00.000000000' '2011-07-20T00:00:00.000000000'\n",
      " '2013-03-13T00:00:00.000000000' '2011-03-15T00:00:00.000000000'\n",
      " '2011-07-18T00:00:00.000000000' '2013-03-03T00:00:00.000000000'\n",
      " '2011-11-07T00:00:00.000000000' '2013-04-04T00:00:00.000000000'\n",
      " '2012-10-16T00:00:00.000000000' '2013-03-23T00:00:00.000000000'\n",
      " '2013-04-03T00:00:00.000000000' '2013-02-08T00:00:00.000000000'\n",
      " '2011-03-21T00:00:00.000000000' '2011-04-05T00:00:00.000000000'\n",
      " '2012-10-15T00:00:00.000000000' '2011-03-19T00:00:00.000000000'\n",
      " '2013-06-03T00:00:00.000000000' '2013-03-29T00:00:00.000000000'\n",
      " '2012-10-28T00:00:00.000000000' '2011-07-15T00:00:00.000000000'\n",
      " '2012-10-12T00:00:00.000000000' '2011-07-29T00:00:00.000000000'\n",
      " '2011-08-06T00:00:00.000000000' '2012-10-13T00:00:00.000000000'\n",
      " '2013-03-02T00:00:00.000000000' '2013-02-12T00:00:00.000000000'\n",
      " '2013-01-29T00:00:00.000000000' '2013-01-04T00:00:00.000000000'\n",
      " '2012-10-25T00:00:00.000000000' '2012-11-13T00:00:00.000000000'\n",
      " '2013-02-01T00:00:00.000000000' '2011-08-10T00:00:00.000000000'\n",
      " '2013-03-17T00:00:00.000000000' '2011-07-30T00:00:00.000000000'\n",
      " '2011-02-21T00:00:00.000000000' '2011-02-17T00:00:00.000000000'\n",
      " '2011-08-19T00:00:00.000000000' '2013-02-15T00:00:00.000000000'\n",
      " '2013-02-02T00:00:00.000000000' '2013-01-26T00:00:00.000000000'\n",
      " '2011-04-06T00:00:00.000000000' '2011-08-21T00:00:00.000000000'\n",
      " '2013-03-24T00:00:00.000000000' '2013-10-02T00:00:00.000000000'\n",
      " '2011-04-01T00:00:00.000000000' '2013-02-23T00:00:00.000000000'\n",
      " '2013-02-20T00:00:00.000000000' '2011-04-08T00:00:00.000000000'\n",
      " '2011-03-29T00:00:00.000000000' '2011-03-25T00:00:00.000000000'\n",
      " '2013-03-01T00:00:00.000000000' '2013-05-04T00:00:00.000000000'\n",
      " '2012-11-05T00:00:00.000000000' '2011-03-24T00:00:00.000000000'\n",
      " '2011-03-20T00:00:00.000000000' '2013-03-04T00:00:00.000000000'\n",
      " '2012-10-26T00:00:00.000000000' '2013-06-04T00:00:00.000000000'\n",
      " '2011-08-20T00:00:00.000000000' '2013-02-07T00:00:00.000000000'\n",
      " '2011-07-24T00:00:00.000000000' '2011-07-25T00:00:00.000000000'\n",
      " '2013-03-22T00:00:00.000000000' '2013-08-02T00:00:00.000000000'\n",
      " '2011-07-28T00:00:00.000000000' '2013-03-12T00:00:00.000000000'\n",
      " '2013-03-30T00:00:00.000000000' '2013-12-03T00:00:00.000000000'\n",
      " '2011-03-26T00:00:00.000000000' '2011-03-08T00:00:00.000000000'\n",
      " '2013-01-23T00:00:00.000000000' '2012-11-04T00:00:00.000000000'\n",
      " '2012-10-02T00:00:00.000000000' '2012-10-07T00:00:00.000000000'\n",
      " '2011-04-18T00:00:00.000000000' '2012-11-15T00:00:00.000000000'\n",
      " '2011-08-12T00:00:00.000000000' '2011-08-23T00:00:00.000000000'\n",
      " '2012-10-08T00:00:00.000000000' '2011-02-26T00:00:00.000000000'\n",
      " '2013-03-26T00:00:00.000000000' '2011-03-01T00:00:00.000000000'\n",
      " '2012-12-14T00:00:00.000000000' '2011-02-14T00:00:00.000000000'\n",
      " '2013-01-14T00:00:00.000000000' '2012-10-04T00:00:00.000000000'\n",
      " '2011-07-26T00:00:00.000000000' '2012-10-27T00:00:00.000000000'\n",
      " '2012-10-17T00:00:00.000000000' '2013-09-02T00:00:00.000000000'\n",
      " '2012-10-03T00:00:00.000000000' '2013-03-20T00:00:00.000000000'\n",
      " '2012-11-08T00:00:00.000000000' '2011-02-15T00:00:00.000000000'\n",
      " '2012-10-24T00:00:00.000000000' '2013-03-10T00:00:00.000000000'\n",
      " '2011-07-06T00:00:00.000000000' '2011-07-08T00:00:00.000000000'\n",
      " '2012-12-13T00:00:00.000000000' '2011-08-25T00:00:00.000000000'\n",
      " '2004-08-01T00:00:00.000000000' '2011-04-09T00:00:00.000000000'\n",
      " '2012-10-31T00:00:00.000000000' '2011-03-06T00:00:00.000000000'\n",
      " '2013-07-02T00:00:00.000000000' '2012-11-12T00:00:00.000000000'\n",
      " '2011-02-28T00:00:00.000000000' '2011-02-02T00:00:00.000000000'\n",
      " '2013-01-31T00:00:00.000000000' '2011-07-10T00:00:00.000000000'\n",
      " '2011-04-17T00:00:00.000000000' '2011-07-05T00:00:00.000000000'\n",
      " '2011-06-04T00:00:00.000000000' '2011-08-22T00:00:00.000000000'\n",
      " '2011-01-03T00:00:00.000000000' '2013-01-13T00:00:00.000000000'\n",
      " '2012-11-09T00:00:00.000000000' '2013-01-11T00:00:00.000000000'\n",
      " '2011-01-08T00:00:00.000000000' '2013-07-04T00:00:00.000000000'\n",
      " '2011-02-18T00:00:00.000000000' '2011-08-13T00:00:00.000000000'\n",
      " '2012-11-06T00:00:00.000000000' '2011-06-03T00:00:00.000000000'\n",
      " '2013-01-12T00:00:00.000000000' '2013-03-08T00:00:00.000000000'\n",
      " '2004-12-01T00:00:00.000000000' '2012-12-16T00:00:00.000000000'\n",
      " '2011-04-13T00:00:00.000000000' '2012-11-01T00:00:00.000000000'\n",
      " '2013-03-27T00:00:00.000000000' '2011-12-03T00:00:00.000000000'\n",
      " '2013-01-08T00:00:00.000000000' '2011-04-19T00:00:00.000000000'\n",
      " '2012-12-15T00:00:00.000000000' '2012-10-30T00:00:00.000000000'\n",
      " '2011-08-16T00:00:00.000000000' '2013-01-07T00:00:00.000000000'\n",
      " '2013-01-03T00:00:00.000000000' '2013-05-02T00:00:00.000000000'\n",
      " '2011-08-15T00:00:00.000000000' '2011-02-19T00:00:00.000000000'\n",
      " '2011-11-03T00:00:00.000000000' '2011-04-21T00:00:00.000000000'\n",
      " '2013-01-10T00:00:00.000000000' '2012-11-10T00:00:00.000000000'\n",
      " '2011-12-07T00:00:00.000000000' '2012-11-11T00:00:00.000000000'\n",
      " '2011-10-03T00:00:00.000000000' '2011-08-26T00:00:00.000000000'\n",
      " '2011-04-22T00:00:00.000000000' '2011-08-09T00:00:00.000000000'\n",
      " '2011-06-07T00:00:00.000000000' '2002-10-14T00:00:00.000000000'\n",
      " '2013-03-09T00:00:00.000000000' '2011-02-04T00:00:00.000000000'\n",
      " '2013-01-09T00:00:00.000000000' '2012-12-12T00:00:00.000000000'\n",
      " '2012-11-14T00:00:00.000000000' '2012-12-11T00:00:00.000000000'\n",
      " '2011-04-20T00:00:00.000000000' '2012-12-18T00:00:00.000000000'\n",
      " '2011-08-27T00:00:00.000000000' '2013-12-02T00:00:00.000000000'\n",
      " '2013-11-02T00:00:00.000000000' '2011-09-27T00:00:00.000000000'\n",
      " '2011-08-24T00:00:00.000000000' '2011-09-03T00:00:00.000000000'\n",
      " '2012-11-29T00:00:00.000000000' '2011-09-19T00:00:00.000000000'\n",
      " '2012-12-21T00:00:00.000000000' '2012-11-02T00:00:00.000000000'\n",
      " '2013-03-11T00:00:00.000000000' '2012-11-19T00:00:00.000000000'\n",
      " '2011-05-03T00:00:00.000000000' '2012-12-10T00:00:00.000000000'\n",
      " '2011-11-04T00:00:00.000000000' '2004-05-01T00:00:00.000000000'\n",
      " '2004-04-05T00:00:00.000000000' '2012-12-17T00:00:00.000000000'\n",
      " '2012-11-07T00:00:00.000000000' '2012-11-30T00:00:00.000000000'\n",
      " '2004-06-01T00:00:00.000000000' '2011-05-07T00:00:00.000000000'\n",
      " '2012-12-23T00:00:00.000000000' '2011-09-09T00:00:00.000000000'\n",
      " '2012-12-24T00:00:00.000000000' '2011-05-04T00:00:00.000000000'\n",
      " '2011-04-23T00:00:00.000000000' '2013-04-02T00:00:00.000000000'\n",
      " '2011-02-01T00:00:00.000000000' '2011-09-18T00:00:00.000000000'\n",
      " '2011-09-06T00:00:00.000000000' '2011-09-20T00:00:00.000000000'\n",
      " '2004-03-01T00:00:00.000000000' '2011-09-17T00:00:00.000000000'\n",
      " '2013-01-01T00:00:00.000000000' '2004-01-07T00:00:00.000000000'\n",
      " '2004-07-01T00:00:00.000000000' '2011-09-11T00:00:00.000000000'\n",
      " '2011-08-31T00:00:00.000000000' '2011-09-21T00:00:00.000000000'\n",
      " '2011-08-30T00:00:00.000000000' '2011-08-28T00:00:00.000000000'\n",
      " '2011-09-01T00:00:00.000000000' '2011-09-28T00:00:00.000000000'\n",
      " '2011-09-16T00:00:00.000000000' '2011-09-13T00:00:00.000000000'\n",
      " '2011-09-08T00:00:00.000000000' '2011-09-23T00:00:00.000000000'\n",
      " '2013-01-06T00:00:00.000000000' '2011-09-14T00:00:00.000000000'\n",
      " '2004-03-06T00:00:00.000000000' '2012-01-21T00:00:00.000000000'\n",
      " '2012-01-25T00:00:00.000000000' '2011-09-15T00:00:00.000000000'\n",
      " '2011-09-25T00:00:00.000000000' '2004-09-01T00:00:00.000000000'\n",
      " '2004-04-01T00:00:00.000000000' '2011-09-26T00:00:00.000000000'\n",
      " '2011-09-12T00:00:00.000000000' '2013-12-01T00:00:00.000000000']\n",
      "['lake nyasa', 'lake victoria', 'pangani', 'ruvuma / southern coast', 'internal', 'lake tanganyika', 'wami / ruvu', 'rufiji', 'lake rukwa']\n",
      "Categories (9, object): ['lake nyasa', 'lake victoria', 'pangani', 'ruvuma / southern coast', ..., 'lake tanganyika', 'wami / ruvu', 'rufiji', 'lake rukwa']\n",
      "['geodata consultants ltd']\n",
      "Categories (1, object): ['geodata consultants ltd']\n",
      "['vwc', 'other', 'nan', 'private operator', 'wug', ..., 'company', 'parastatal', 'trust', 'swc', 'none']\n",
      "Length: 13\n",
      "Categories (13, object): ['vwc', 'other', 'nan', 'private operator', ..., 'parastatal', 'trust', 'swc', 'none']\n"
     ]
    }
   ],
   "source": [
    "# Inspect Unique Values Again\n",
    "print(df_train_cleaned['public_meeting'].unique())\n",
    "print(df_train_cleaned['permit'].unique())\n",
    "print(df_train_cleaned['construction_year'].unique())\n",
    "print(df_train_cleaned['date_recorded'].unique())\n",
    "print(df_train_cleaned['basin'].unique())\n",
    "print(df_train_cleaned['recorded_by'].unique())\n",
    "print(df_train_cleaned['scheme_management'].unique())\n"
   ]
  },
  {
   "cell_type": "code",
   "execution_count": 15,
   "id": "cf734a17",
   "metadata": {},
   "outputs": [
    {
     "name": "stdout",
     "output_type": "stream",
     "text": [
      "\n",
      "Missing values:\n",
      "scheme_name              28166\n",
      "construction_year        20709\n",
      "installer                 3655\n",
      "funder                    3635\n",
      "public_meeting            3334\n",
      "permit                    3056\n",
      "subvillage                 371\n",
      "payment_type                 0\n",
      "extraction_type_group        0\n",
      "extraction_type_class        0\n",
      "dtype: int64\n"
     ]
    }
   ],
   "source": [
    "# Check for Nulls\n",
    "print(\"\\nMissing values:\")\n",
    "print(df_train_cleaned.isnull().sum().sort_values(ascending=False).head(10))"
   ]
  },
  {
   "cell_type": "code",
   "execution_count": 16,
   "id": "5e223a16",
   "metadata": {},
   "outputs": [
    {
     "name": "stdout",
     "output_type": "stream",
     "text": [
      "                      Data Type  Missing %\n",
      "scheme_name              object  47.417508\n",
      "installer                object   6.153199\n",
      "funder                   object   6.119529\n",
      "public_meeting          boolean   5.612795\n",
      "permit                  boolean   5.144781\n",
      "subvillage               object   0.624579\n",
      "source_class             object   0.000000\n",
      "source_type              object   0.000000\n",
      "source                   object   0.000000\n",
      "payment                  object   0.000000\n",
      "quantity_group           object   0.000000\n",
      "quantity                 object   0.000000\n",
      "waterpoint_type          object   0.000000\n",
      "quality_group            object   0.000000\n",
      "water_quality            object   0.000000\n",
      "waterpoint_type_group    object   0.000000\n",
      "payment_type             object   0.000000\n",
      "extraction_type_class    object   0.000000\n",
      "management_group         object   0.000000\n",
      "management               object   0.000000\n",
      "extraction_type_group    object   0.000000\n",
      "extraction_type          object   0.000000\n",
      "scheme_management      category   0.000000\n",
      "recorded_by            category   0.000000\n",
      "ward                     object   0.000000\n",
      "lga                      object   0.000000\n",
      "region                   object   0.000000\n",
      "basin                  category   0.000000\n",
      "wpt_name                 object   0.000000\n",
      "status_group             object   0.000000\n"
     ]
    }
   ],
   "source": [
    "# showing the categorical columns\n",
    "categorical_col = df_train_cleaned.select_dtypes(include=['object', 'category', 'boolean']).columns\n",
    "missing_info = pd.DataFrame({\n",
    "    'Data Type': df_train_cleaned[categorical_col].dtypes,\n",
    "    'Missing %': (df_train_cleaned[categorical_col].isnull().mean()*100)\n",
    "})\n",
    "missing_info = missing_info.sort_values(by= 'Missing %', ascending=False)\n",
    "print(missing_info)"
   ]
  },
  {
   "cell_type": "markdown",
   "id": "5b28ad44",
   "metadata": {},
   "source": [
    "## Impute Missing Values"
   ]
  },
  {
   "cell_type": "markdown",
   "id": "af8a1a06",
   "metadata": {},
   "source": [
    "## Checking for duplication"
   ]
  },
  {
   "cell_type": "code",
   "execution_count": 17,
   "id": "e6345d9a",
   "metadata": {},
   "outputs": [
    {
     "name": "stdout",
     "output_type": "stream",
     "text": [
      "True    59400\n",
      "Name: quantity_match, dtype: int64\n"
     ]
    }
   ],
   "source": [
    "# to check duplication between the quantity and quantity group\n",
    "df_train_cleaned['quantity_match'] = df_train_cleaned['quantity'] == df_train_cleaned['quantity_group']\n",
    "\n",
    "match_counts = df_train_cleaned['quantity_match'].value_counts()\n",
    "print(match_counts)"
   ]
  },
  {
   "cell_type": "code",
   "execution_count": 18,
   "id": "4fd45be2",
   "metadata": {},
   "outputs": [
    {
     "name": "stdout",
     "output_type": "stream",
     "text": [
      "Empty DataFrame\n",
      "Columns: [quantity, quantity_group]\n",
      "Index: []\n"
     ]
    }
   ],
   "source": [
    "mismatches = df_train_cleaned[df_train_cleaned['quantity_match'] == False][['quantity', 'quantity_group']]\n",
    "print(mismatches.head())"
   ]
  },
  {
   "cell_type": "code",
   "execution_count": 19,
   "id": "4a372cd2",
   "metadata": {},
   "outputs": [
    {
     "name": "stdout",
     "output_type": "stream",
     "text": [
      "Match Rate: 100.00%\n"
     ]
    }
   ],
   "source": [
    "match_rate = df_train_cleaned['quantity_match'].mean() * 100\n",
    "print(f\"Match Rate: {match_rate:.2f}%\")"
   ]
  },
  {
   "cell_type": "markdown",
   "id": "8886e241",
   "metadata": {},
   "source": [
    "Yes, they are both similar and i drop the quantity_group"
   ]
  },
  {
   "cell_type": "code",
   "execution_count": 20,
   "id": "4f8fd974",
   "metadata": {},
   "outputs": [
    {
     "data": {
      "image/png": "[encoded data removed]",
      "text/plain": [
       "<Figure size 1008x432 with 1 Axes>"
      ]
     },
     "metadata": {
      "needs_background": "light"
     },
     "output_type": "display_data"
    }
   ],
   "source": [
    "plt.figure(figsize=(14, 6))\n",
    "sns.countplot(data=df_train_cleaned, x='quantity', hue='status_group')\n",
    "plt.title(\"Status Group Distribution by quantity\")\n",
    "plt.xticks(rotation=45, ha='right')\n",
    "plt.xlabel(\"quantity\")\n",
    "plt.ylabel(\"Count\")\n",
    "plt.tight_layout()\n",
    "plt.show()"
   ]
  },
  {
   "cell_type": "code",
   "execution_count": 21,
   "id": "2b44a6bd",
   "metadata": {},
   "outputs": [
    {
     "data": {
      "image/png": "[encoded data removed]",
      "text/plain": [
       "<Figure size 1008x432 with 1 Axes>"
      ]
     },
     "metadata": {
      "needs_background": "light"
     },
     "output_type": "display_data"
    }
   ],
   "source": [
    "plt.figure(figsize=(14, 6))\n",
    "sns.countplot(data=df_train_cleaned, x='quantity_group', hue='status_group')\n",
    "plt.title(\"Status Group Distribution by quantity_group\")\n",
    "plt.xticks(rotation=45, ha='right')\n",
    "plt.xlabel(\"quantity_group\")\n",
    "plt.ylabel(\"Count\")\n",
    "plt.tight_layout()\n",
    "plt.show()"
   ]
  },
  {
   "cell_type": "code",
   "execution_count": 22,
   "id": "8fd60736",
   "metadata": {},
   "outputs": [
    {
     "data": {
      "text/html": [
       "<div>\n",
       "<style scoped>\n",
       "    .dataframe tbody tr th:only-of-type {\n",
       "        vertical-align: middle;\n",
       "    }\n",
       "\n",
       "    .dataframe tbody tr th {\n",
       "        vertical-align: top;\n",
       "    }\n",
       "\n",
       "    .dataframe thead th {\n",
       "        text-align: right;\n",
       "    }\n",
       "</style>\n",
       "<table border=\"1\" class=\"dataframe\">\n",
       "  <thead>\n",
       "    <tr style=\"text-align: right;\">\n",
       "      <th></th>\n",
       "      <th>extraction_type</th>\n",
       "      <th>extraction_type_group</th>\n",
       "    </tr>\n",
       "  </thead>\n",
       "  <tbody>\n",
       "    <tr>\n",
       "      <th>31</th>\n",
       "      <td>ksb</td>\n",
       "      <td>submersible</td>\n",
       "    </tr>\n",
       "    <tr>\n",
       "      <th>45</th>\n",
       "      <td>windmill</td>\n",
       "      <td>wind-powered</td>\n",
       "    </tr>\n",
       "    <tr>\n",
       "      <th>66</th>\n",
       "      <td>other - rope pump</td>\n",
       "      <td>rope pump</td>\n",
       "    </tr>\n",
       "    <tr>\n",
       "      <th>88</th>\n",
       "      <td>ksb</td>\n",
       "      <td>submersible</td>\n",
       "    </tr>\n",
       "    <tr>\n",
       "      <th>92</th>\n",
       "      <td>ksb</td>\n",
       "      <td>submersible</td>\n",
       "    </tr>\n",
       "    <tr>\n",
       "      <th>96</th>\n",
       "      <td>ksb</td>\n",
       "      <td>submersible</td>\n",
       "    </tr>\n",
       "    <tr>\n",
       "      <th>147</th>\n",
       "      <td>other - rope pump</td>\n",
       "      <td>rope pump</td>\n",
       "    </tr>\n",
       "    <tr>\n",
       "      <th>155</th>\n",
       "      <td>other - swn 81</td>\n",
       "      <td>other handpump</td>\n",
       "    </tr>\n",
       "    <tr>\n",
       "      <th>172</th>\n",
       "      <td>ksb</td>\n",
       "      <td>submersible</td>\n",
       "    </tr>\n",
       "    <tr>\n",
       "      <th>193</th>\n",
       "      <td>ksb</td>\n",
       "      <td>submersible</td>\n",
       "    </tr>\n",
       "  </tbody>\n",
       "</table>\n",
       "</div>"
      ],
      "text/plain": [
       "       extraction_type extraction_type_group\n",
       "31                 ksb           submersible\n",
       "45            windmill          wind-powered\n",
       "66   other - rope pump             rope pump\n",
       "88                 ksb           submersible\n",
       "92                 ksb           submersible\n",
       "96                 ksb           submersible\n",
       "147  other - rope pump             rope pump\n",
       "155     other - swn 81        other handpump\n",
       "172                ksb           submersible\n",
       "193                ksb           submersible"
      ]
     },
     "execution_count": 22,
     "metadata": {},
     "output_type": "execute_result"
    }
   ],
   "source": [
    "# looks for the mismatch between extraction_type and extraction_type_group\n",
    "mismatched = df_train_cleaned[df_train_cleaned['extraction_type'] != df_train_cleaned['extraction_type_group']]\n",
    "# Show a few rows where they differ\n",
    "mismatched[['extraction_type', 'extraction_type_group']].head(10)"
   ]
  },
  {
   "cell_type": "code",
   "execution_count": 23,
   "id": "ab6f7c53",
   "metadata": {},
   "outputs": [
    {
     "name": "stdout",
     "output_type": "stream",
     "text": [
      "             extraction_type extraction_type_group  count\n",
      "2                        ksb           submersible   1415\n",
      "5          other - rope pump             rope pump    451\n",
      "6             other - swn 81        other handpump    229\n",
      "8                   windmill          wind-powered    117\n",
      "0                       cemo       other motorpump     90\n",
      "4          other - play pump        other handpump     85\n",
      "7                     walimi        other handpump     48\n",
      "1                     climax       other motorpump     32\n",
      "3  other - mkulima/shinyanga        other handpump      2\n"
     ]
    }
   ],
   "source": [
    "# Count how often each mismatch occurs\n",
    "mismatch_summary = mismatched.groupby(['extraction_type', 'extraction_type_group']).size().reset_index(name='count')\n",
    "print(mismatch_summary.sort_values(by='count', ascending=False))\n"
   ]
  },
  {
   "cell_type": "code",
   "execution_count": 24,
   "id": "531b901f",
   "metadata": {},
   "outputs": [
    {
     "data": {
      "text/html": [
       "<div>\n",
       "<style scoped>\n",
       "    .dataframe tbody tr th:only-of-type {\n",
       "        vertical-align: middle;\n",
       "    }\n",
       "\n",
       "    .dataframe tbody tr th {\n",
       "        vertical-align: top;\n",
       "    }\n",
       "\n",
       "    .dataframe thead th {\n",
       "        text-align: right;\n",
       "    }\n",
       "</style>\n",
       "<table border=\"1\" class=\"dataframe\">\n",
       "  <thead>\n",
       "    <tr style=\"text-align: right;\">\n",
       "      <th></th>\n",
       "      <th>extraction_type</th>\n",
       "      <th>extraction_type_group</th>\n",
       "    </tr>\n",
       "  </thead>\n",
       "  <tbody>\n",
       "    <tr>\n",
       "      <th>31</th>\n",
       "      <td>ksb</td>\n",
       "      <td>submersible</td>\n",
       "    </tr>\n",
       "    <tr>\n",
       "      <th>45</th>\n",
       "      <td>windmill</td>\n",
       "      <td>wind-powered</td>\n",
       "    </tr>\n",
       "    <tr>\n",
       "      <th>66</th>\n",
       "      <td>other - rope pump</td>\n",
       "      <td>rope pump</td>\n",
       "    </tr>\n",
       "    <tr>\n",
       "      <th>88</th>\n",
       "      <td>ksb</td>\n",
       "      <td>submersible</td>\n",
       "    </tr>\n",
       "    <tr>\n",
       "      <th>92</th>\n",
       "      <td>ksb</td>\n",
       "      <td>submersible</td>\n",
       "    </tr>\n",
       "    <tr>\n",
       "      <th>96</th>\n",
       "      <td>ksb</td>\n",
       "      <td>submersible</td>\n",
       "    </tr>\n",
       "    <tr>\n",
       "      <th>147</th>\n",
       "      <td>other - rope pump</td>\n",
       "      <td>rope pump</td>\n",
       "    </tr>\n",
       "    <tr>\n",
       "      <th>155</th>\n",
       "      <td>other - swn 81</td>\n",
       "      <td>other handpump</td>\n",
       "    </tr>\n",
       "    <tr>\n",
       "      <th>172</th>\n",
       "      <td>ksb</td>\n",
       "      <td>submersible</td>\n",
       "    </tr>\n",
       "    <tr>\n",
       "      <th>193</th>\n",
       "      <td>ksb</td>\n",
       "      <td>submersible</td>\n",
       "    </tr>\n",
       "  </tbody>\n",
       "</table>\n",
       "</div>"
      ],
      "text/plain": [
       "       extraction_type extraction_type_group\n",
       "31                 ksb           submersible\n",
       "45            windmill          wind-powered\n",
       "66   other - rope pump             rope pump\n",
       "88                 ksb           submersible\n",
       "92                 ksb           submersible\n",
       "96                 ksb           submersible\n",
       "147  other - rope pump             rope pump\n",
       "155     other - swn 81        other handpump\n",
       "172                ksb           submersible\n",
       "193                ksb           submersible"
      ]
     },
     "execution_count": 24,
     "metadata": {},
     "output_type": "execute_result"
    }
   ],
   "source": [
    "matched = df_train_cleaned[df_train_cleaned['extraction_type'] == df_train_cleaned['extraction_type_group']]\n",
    "# Show a few rows where they differ\n",
    "mismatched[['extraction_type', 'extraction_type_group']].head(10)"
   ]
  },
  {
   "cell_type": "code",
   "execution_count": 25,
   "id": "267d7f31",
   "metadata": {},
   "outputs": [
    {
     "name": "stdout",
     "output_type": "stream",
     "text": [
      "  extraction_type extraction_type_group  count\n",
      "1         gravity               gravity  26780\n",
      "5     nira/tanira           nira/tanira   8154\n",
      "6           other                 other   6430\n",
      "7     submersible           submersible   4764\n",
      "8          swn 80                swn 80   3670\n",
      "4            mono                  mono   2865\n",
      "2   india mark ii         india mark ii   2400\n",
      "0         afridev               afridev   1770\n",
      "3  india mark iii        india mark iii     98\n"
     ]
    }
   ],
   "source": [
    "# Count how often each mismatch occurs\n",
    "match_summary = matched.groupby(['extraction_type', 'extraction_type_group']).size().reset_index(name='count')\n",
    "print(match_summary.sort_values(by='count', ascending=False))\n"
   ]
  },
  {
   "cell_type": "markdown",
   "id": "699178a4",
   "metadata": {},
   "source": [
    "My conclusion is that i can drop this column as it is so similar to eachother but the extraction_type_group is with less detailed. The same i observe for the waterpoint_type and waterpoint_type_group, and i decided to keep the waterpoint_type_group. "
   ]
  },
  {
   "cell_type": "code",
   "execution_count": 26,
   "id": "c6ac7966",
   "metadata": {},
   "outputs": [
    {
     "name": "stdout",
     "output_type": "stream",
     "text": [
      "\n",
      " extraction_type — Unique Values and Frequencies:\n",
      "--------------------------------------------------\n",
      "                   Count  Percentage\n",
      "gravity            26780       45.08\n",
      "nira/tanira         8154       13.73\n",
      "other               6430       10.82\n",
      "submersible         4764        8.02\n",
      "swn 80              3670        6.18\n",
      "mono                2865        4.82\n",
      "india mark ii       2400        4.04\n",
      "afridev             1770        2.98\n",
      "ksb                 1415        2.38\n",
      "other - rope pump    451        0.76\n",
      "\n",
      " extraction_type_group — Unique Values and Frequencies:\n",
      "--------------------------------------------------\n",
      "                Count  Percentage\n",
      "gravity         26780       45.08\n",
      "nira/tanira      8154       13.73\n",
      "other            6430       10.82\n",
      "submersible      6179       10.40\n",
      "swn 80           3670        6.18\n",
      "mono             2865        4.82\n",
      "india mark ii    2400        4.04\n",
      "afridev          1770        2.98\n",
      "rope pump         451        0.76\n",
      "other handpump    364        0.61\n",
      "\n",
      " extraction_type_class — Unique Values and Frequencies:\n",
      "--------------------------------------------------\n",
      "              Count  Percentage\n",
      "gravity       26780       45.08\n",
      "handpump      16456       27.70\n",
      "other          6430       10.82\n",
      "submersible    6179       10.40\n",
      "motorpump      2987        5.03\n",
      "rope pump       451        0.76\n",
      "wind-powered    117        0.20\n"
     ]
    }
   ],
   "source": [
    "# duplicate between 'extraction_type', 'extraction_type_group', 'extraction_type_class'\n",
    "columns = ['extraction_type', 'extraction_type_group', 'extraction_type_class']\n",
    "\n",
    "for col in columns:\n",
    "    print(f\"\\n {col} — Unique Values and Frequencies:\\n{'-'*50}\")\n",
    "    \n",
    "    # Get value counts (number and percent)\n",
    "    counts = df_train_cleaned[col].value_counts(dropna=False)\n",
    "    percentages = df_train_cleaned[col].value_counts(normalize=True, dropna=False) * 100\n",
    "\n",
    "    # Combine into a single DataFrame\n",
    "    summary = pd.DataFrame({\n",
    "        'Count': counts,\n",
    "        'Percentage': percentages.round(2)\n",
    "    })\n",
    "    \n",
    "    # Print top values\n",
    "    print(summary.head(10))  # You can change this to `.to_string()` to see all\n"
   ]
  },
  {
   "cell_type": "code",
   "execution_count": 27,
   "id": "b691b585",
   "metadata": {},
   "outputs": [
    {
     "name": "stdout",
     "output_type": "stream",
     "text": [
      "      extraction_type extraction_type_group extraction_type_class  count\n",
      "7         nira/tanira           nira/tanira              handpump   8154\n",
      "12             swn 80                swn 80              handpump   3670\n",
      "6                mono                  mono             motorpump   2865\n",
      "3       india mark ii         india mark ii              handpump   2400\n",
      "0             afridev               afridev              handpump   1770\n",
      "5                 ksb           submersible           submersible   1415\n",
      "10  other - rope pump             rope pump             rope pump    451\n",
      "11     other - swn 81        other handpump              handpump    229\n",
      "14           windmill          wind-powered          wind-powered    117\n",
      "4      india mark iii        india mark iii              handpump     98\n"
     ]
    }
   ],
   "source": [
    "# Create a column to flag mismatches\n",
    "df_train_cleaned['extraction_mismatch'] = ~(\n",
    "    (df_train_cleaned['extraction_type'] == df_train_cleaned['extraction_type_group']) &\n",
    "    (df_train_cleaned['extraction_type'] == df_train_cleaned['extraction_type_class']) &\n",
    "    (df_train_cleaned['extraction_type_group'] == df_train_cleaned['extraction_type_class'])\n",
    ")\n",
    "\n",
    "#Filter mismatched rows\n",
    "mismatches = df_train_cleaned[df_train_cleaned['extraction_mismatch']][[\n",
    "    'extraction_type', 'extraction_type_group', 'extraction_type_class'\n",
    "]]\n",
    "\n",
    "#Summarize mismatch patterns\n",
    "mismatch_summary = mismatches.groupby([\n",
    "    'extraction_type', 'extraction_type_group', 'extraction_type_class'\n",
    "]).size().reset_index(name='count').sort_values(by='count', ascending=False)\n",
    "\n",
    "# print top 10 mismatch patterns\n",
    "print(mismatch_summary.head(10))\n"
   ]
  },
  {
   "cell_type": "markdown",
   "id": "a41c5f1c",
   "metadata": {},
   "source": [
    "So i decided to keep the less details classification. Later we need to check if there is any relation between the extraction_type_class and the target"
   ]
  },
  {
   "cell_type": "code",
   "execution_count": 28,
   "id": "15f14682",
   "metadata": {},
   "outputs": [
    {
     "data": {
      "image/png": "[encoded data removed]",
      "text/plain": [
       "<Figure size 1008x432 with 1 Axes>"
      ]
     },
     "metadata": {
      "needs_background": "light"
     },
     "output_type": "display_data"
    }
   ],
   "source": [
    "plt.figure(figsize=(14, 6))\n",
    "sns.countplot(data=df_train_cleaned, x='extraction_type', hue='status_group')\n",
    "plt.title(\"Status Group Distribution by extraction_type\")\n",
    "plt.xticks(rotation=45, ha='right')\n",
    "plt.xlabel(\"extraction_type\")\n",
    "plt.ylabel(\"Count\")\n",
    "plt.tight_layout()\n",
    "plt.show()"
   ]
  },
  {
   "cell_type": "code",
   "execution_count": 29,
   "id": "ce883204",
   "metadata": {},
   "outputs": [
    {
     "data": {
      "image/png": "[encoded data removed]",
      "text/plain": [
       "<Figure size 1008x432 with 1 Axes>"
      ]
     },
     "metadata": {
      "needs_background": "light"
     },
     "output_type": "display_data"
    }
   ],
   "source": [
    "plt.figure(figsize=(14, 6))\n",
    "sns.countplot(data=df_train_cleaned, x='extraction_type_group', hue='status_group')\n",
    "plt.title(\"Status Group Distribution by extraction_type_group\")\n",
    "plt.xticks(rotation=45, ha='right')\n",
    "plt.xlabel(\"extraction_type_group\")\n",
    "plt.ylabel(\"Count\")\n",
    "plt.tight_layout()\n",
    "plt.show()"
   ]
  },
  {
   "cell_type": "code",
   "execution_count": 30,
   "id": "f94718f6",
   "metadata": {},
   "outputs": [
    {
     "data": {
      "image/png": "[encoded data removed]",
      "text/plain": [
       "<Figure size 1008x432 with 1 Axes>"
      ]
     },
     "metadata": {
      "needs_background": "light"
     },
     "output_type": "display_data"
    }
   ],
   "source": [
    "plt.figure(figsize=(14, 6))\n",
    "sns.countplot(data=df_train_cleaned, x='extraction_type_class', hue='status_group')\n",
    "plt.title(\"Status Group Distribution by extraction_type_class\")\n",
    "plt.xticks(rotation=45, ha='right')\n",
    "plt.xlabel(\"extraction_type_class\")\n",
    "plt.ylabel(\"Count\")\n",
    "plt.tight_layout()\n",
    "plt.show()"
   ]
  },
  {
   "cell_type": "code",
   "execution_count": 31,
   "id": "8c448b96",
   "metadata": {},
   "outputs": [
    {
     "name": "stdout",
     "output_type": "stream",
     "text": [
      "Match Rate: 89.73%\n",
      "\n",
      "Match vs Mismatch Counts:\n",
      "True     53297\n",
      "False     6103\n",
      "dtype: int64\n",
      "\n",
      "Top Mismatch Patterns:\n",
      "               waterpoint_type waterpoint_type_group  count\n",
      "0  communal standpipe multiple    communal standpipe   6103\n"
     ]
    }
   ],
   "source": [
    "# Calculate row-wise match\n",
    "match_mask = df_train_cleaned['waterpoint_type'] == df_train_cleaned['waterpoint_type_group']\n",
    "\n",
    "# Percentage of exact matches\n",
    "match_percentage = match_mask.mean() * 100\n",
    "print(f\"Match Rate: {match_percentage:.2f}%\")\n",
    "\n",
    "# Count of matching vs mismatching rows\n",
    "match_counts = match_mask.value_counts()\n",
    "print(\"\\nMatch vs Mismatch Counts:\")\n",
    "print(match_counts)\n",
    "\n",
    "# show mismatched combinations\n",
    "mismatches = df_train_cleaned[~match_mask][['waterpoint_type', 'waterpoint_type_group']]\n",
    "mismatch_summary = mismatches.groupby(\n",
    "    ['waterpoint_type', 'waterpoint_type_group']\n",
    ").size().reset_index(name='count').sort_values(by='count', ascending=False)\n",
    "\n",
    "print(\"\\nTop Mismatch Patterns:\")\n",
    "print(mismatch_summary.head(10))\n"
   ]
  },
  {
   "cell_type": "code",
   "execution_count": 32,
   "id": "4d4a7011",
   "metadata": {},
   "outputs": [
    {
     "name": "stdout",
     "output_type": "stream",
     "text": [
      "               waterpoint_type waterpoint_type_group  count\n",
      "1           communal standpipe    communal standpipe   1293\n",
      "4                    hand pump             hand pump    713\n",
      "2  communal standpipe multiple    communal standpipe    389\n",
      "5                        other                 other     70\n",
      "0                cattle trough         cattle trough      3\n",
      "3                          dam                   dam      1\n"
     ]
    }
   ],
   "source": [
    "# Count how often each mismatch occurs\n",
    "mismatch_summary = mismatched.groupby(['waterpoint_type', 'waterpoint_type_group']).size().reset_index(name='count')\n",
    "print(mismatch_summary.sort_values(by='count', ascending=False))\n"
   ]
  },
  {
   "cell_type": "markdown",
   "id": "8a68366d",
   "metadata": {},
   "source": [
    "interpretation: they are almost similar. in waterpoint_type there is one type communal standpoint multiple that it is changed to communal standpipe in the other. So i prefer to keep the waterpoint_type maybe this multiple type has any impact on functionality of pupm."
   ]
  },
  {
   "cell_type": "code",
   "execution_count": 33,
   "id": "a2c4e757",
   "metadata": {},
   "outputs": [
    {
     "data": {
      "image/png": "[encoded data removed]",
      "text/plain": [
       "<Figure size 1008x432 with 1 Axes>"
      ]
     },
     "metadata": {
      "needs_background": "light"
     },
     "output_type": "display_data"
    }
   ],
   "source": [
    "plt.figure(figsize=(14, 6))\n",
    "sns.countplot(data=df_train_cleaned, x='waterpoint_type', hue='status_group')\n",
    "plt.title(\"Status Group Distribution by water point type\")\n",
    "plt.xticks(rotation=45, ha='right')\n",
    "plt.xlabel(\"waterpoint_type\")\n",
    "plt.ylabel(\"Count\")\n",
    "plt.tight_layout()\n",
    "plt.show()"
   ]
  },
  {
   "cell_type": "code",
   "execution_count": 34,
   "id": "304aead5",
   "metadata": {},
   "outputs": [
    {
     "data": {
      "image/png": "[encoded data removed]",
      "text/plain": [
       "<Figure size 1008x432 with 1 Axes>"
      ]
     },
     "metadata": {
      "needs_background": "light"
     },
     "output_type": "display_data"
    }
   ],
   "source": [
    "plt.figure(figsize=(14, 6))\n",
    "sns.countplot(data=df_train_cleaned, x='waterpoint_type_group', hue='status_group')\n",
    "plt.title(\"Status Group Distribution by water point type_group\")\n",
    "plt.xticks(rotation=45, ha='right')\n",
    "plt.xlabel(\"waterpoint_type_group\")\n",
    "plt.ylabel(\"Count\")\n",
    "plt.tight_layout()\n",
    "plt.show()"
   ]
  },
  {
   "cell_type": "code",
   "execution_count": 35,
   "id": "adda5a4d",
   "metadata": {},
   "outputs": [
    {
     "name": "stdout",
     "output_type": "stream",
     "text": [
      "                 source           source_type  count\n",
      "6                 river            river/lake    833\n",
      "3           machine dbh              borehole    544\n",
      "7          shallow well          shallow well    384\n",
      "8                spring                spring    196\n",
      "0                   dam                   dam    181\n",
      "2                  lake            river/lake    143\n",
      "1              hand dtw              borehole    118\n",
      "5  rainwater harvesting  rainwater harvesting     63\n",
      "4                 other                 other      4\n",
      "9               unknown                 other      3\n"
     ]
    }
   ],
   "source": [
    "# Count how often each mismatch occurs\n",
    "mismatch_summary = mismatched.groupby(['source', 'source_type']).size().reset_index(name='count')\n",
    "print(mismatch_summary.sort_values(by='count', ascending=False))\n"
   ]
  },
  {
   "cell_type": "code",
   "execution_count": 36,
   "id": "8dd45012",
   "metadata": {},
   "outputs": [
    {
     "name": "stdout",
     "output_type": "stream",
     "text": [
      " Match Rate between 'source' and 'source_type': 62.30%\n"
     ]
    }
   ],
   "source": [
    "# Check for exact matches\n",
    "match_mask = df_train_cleaned['source'] == df_train_cleaned['source_type']\n",
    "match_percentage = match_mask.mean() * 100\n",
    "print(f\" Match Rate between 'source' and 'source_type': {match_percentage:.2f}%\")"
   ]
  },
  {
   "cell_type": "code",
   "execution_count": 37,
   "id": "6007539d",
   "metadata": {},
   "outputs": [
    {
     "name": "stdout",
     "output_type": "stream",
     "text": [
      "\n",
      "Top mismatches:\n",
      "        source source_type  count\n",
      "2  machine dbh    borehole  11075\n",
      "3        river  river/lake   9612\n",
      "0     hand dtw    borehole    874\n",
      "1         lake  river/lake    765\n",
      "4      unknown       other     66\n"
     ]
    }
   ],
   "source": [
    "# View mismatch patterns\n",
    "mismatches = df_train_cleaned[~match_mask][['source', 'source_type']]\n",
    "mismatch_summary = mismatches.groupby(['source', 'source_type']).size().reset_index(name='count')\n",
    "print(\"\\nTop mismatches:\")\n",
    "print(mismatch_summary.sort_values(by='count', ascending=False).head(10))"
   ]
  },
  {
   "cell_type": "code",
   "execution_count": 38,
   "id": "12b4efb8",
   "metadata": {},
   "outputs": [
    {
     "data": {
      "image/png": "[encoded data removed]",
      "text/plain": [
       "<Figure size 1008x432 with 1 Axes>"
      ]
     },
     "metadata": {
      "needs_background": "light"
     },
     "output_type": "display_data"
    }
   ],
   "source": [
    "plt.figure(figsize=(14, 6))\n",
    "sns.countplot(data=df_train_cleaned, x='source', hue='status_group')\n",
    "plt.title(\"Status Group Distribution by Source\")\n",
    "plt.xticks(rotation=45, ha='right')\n",
    "plt.xlabel(\"Source\")\n",
    "plt.ylabel(\"Count\")\n",
    "plt.tight_layout()\n",
    "plt.show()"
   ]
  },
  {
   "cell_type": "code",
   "execution_count": 39,
   "id": "ffa006b3",
   "metadata": {},
   "outputs": [
    {
     "data": {
      "image/png": "[encoded data removed]",
      "text/plain": [
       "<Figure size 1008x432 with 1 Axes>"
      ]
     },
     "metadata": {
      "needs_background": "light"
     },
     "output_type": "display_data"
    }
   ],
   "source": [
    "plt.figure(figsize=(14, 6))\n",
    "sns.countplot(data=df_train_cleaned, x='source_type', hue='status_group')\n",
    "plt.title(\"Status Group Distribution by Source_type\")\n",
    "plt.xticks(rotation=45, ha='right')\n",
    "plt.xlabel(\"Source_type\")\n",
    "plt.ylabel(\"Count\")\n",
    "plt.tight_layout()\n",
    "plt.show()"
   ]
  },
  {
   "cell_type": "markdown",
   "id": "889bf787",
   "metadata": {},
   "source": [
    "Interpretation: I think i will keep the source type and delete the source. They are similar and the relation between them and the status group also is similar. "
   ]
  },
  {
   "cell_type": "code",
   "execution_count": 40,
   "id": "d66f7bd4",
   "metadata": {},
   "outputs": [
    {
     "name": "stdout",
     "output_type": "stream",
     "text": [
      " Match Rate between 'payment' and 'payment_type': 58.18%\n"
     ]
    }
   ],
   "source": [
    "# Check for exact matches\n",
    "match_mask = df_train_cleaned['payment'] == df_train_cleaned['payment_type']\n",
    "match_percentage = match_mask.mean() * 100\n",
    "print(f\" Match Rate between 'payment' and 'payment_type': {match_percentage:.2f}%\")"
   ]
  },
  {
   "cell_type": "code",
   "execution_count": 41,
   "id": "843bb9d5",
   "metadata": {},
   "outputs": [
    {
     "name": "stdout",
     "output_type": "stream",
     "text": [
      "\n",
      "Top mismatches:\n",
      "                 payment payment_type  count\n",
      "2         pay per bucket   per bucket   8985\n",
      "1            pay monthly      monthly   8300\n",
      "3  pay when scheme fails   on failure   3914\n",
      "0           pay annually     annually   3642\n"
     ]
    }
   ],
   "source": [
    "# View mismatch patterns\n",
    "mismatches = df_train_cleaned[~match_mask][['payment', 'payment_type']]\n",
    "mismatch_summary = mismatches.groupby(['payment', 'payment_type']).size().reset_index(name='count')\n",
    "print(\"\\nTop mismatches:\")\n",
    "print(mismatch_summary.sort_values(by='count', ascending=False).head(10))"
   ]
  },
  {
   "cell_type": "markdown",
   "id": "c961de7a",
   "metadata": {},
   "source": [
    "Interpretation: payment and payment_type are similar better to drop payment as the classification topic is better in payment_type."
   ]
  },
  {
   "cell_type": "markdown",
   "id": "46a7d531",
   "metadata": {},
   "source": [
    "## Drop columns"
   ]
  },
  {
   "cell_type": "code",
   "execution_count": 42,
   "id": "4591e58d",
   "metadata": {},
   "outputs": [
    {
     "name": "stdout",
     "output_type": "stream",
     "text": [
      "droped successfuly!\n"
     ]
    }
   ],
   "source": [
    "# Drop some column\n",
    "columns_to_drop = ['recorded_by', 'id', 'num_private', 'quantity_group', 'extraction_type', 'extraction_type_group','waterpoint_type_group', 'source', 'payment']\n",
    "df_train_cleaned.drop(columns = columns_to_drop, inplace = True)\n",
    "print('droped successfuly!')"
   ]
  },
  {
   "cell_type": "code",
   "execution_count": 43,
   "id": "3ff9f60d",
   "metadata": {},
   "outputs": [
    {
     "data": {
      "text/html": [
       "<div>\n",
       "<style scoped>\n",
       "    .dataframe tbody tr th:only-of-type {\n",
       "        vertical-align: middle;\n",
       "    }\n",
       "\n",
       "    .dataframe tbody tr th {\n",
       "        vertical-align: top;\n",
       "    }\n",
       "\n",
       "    .dataframe thead th {\n",
       "        text-align: right;\n",
       "    }\n",
       "</style>\n",
       "<table border=\"1\" class=\"dataframe\">\n",
       "  <thead>\n",
       "    <tr style=\"text-align: right;\">\n",
       "      <th></th>\n",
       "      <th>amount_tsh</th>\n",
       "      <th>date_recorded</th>\n",
       "      <th>funder</th>\n",
       "      <th>gps_height</th>\n",
       "      <th>installer</th>\n",
       "      <th>longitude</th>\n",
       "      <th>latitude</th>\n",
       "      <th>wpt_name</th>\n",
       "      <th>basin</th>\n",
       "      <th>subvillage</th>\n",
       "      <th>...</th>\n",
       "      <th>payment_type</th>\n",
       "      <th>water_quality</th>\n",
       "      <th>quality_group</th>\n",
       "      <th>quantity</th>\n",
       "      <th>source_type</th>\n",
       "      <th>source_class</th>\n",
       "      <th>waterpoint_type</th>\n",
       "      <th>status_group</th>\n",
       "      <th>quantity_match</th>\n",
       "      <th>extraction_mismatch</th>\n",
       "    </tr>\n",
       "  </thead>\n",
       "  <tbody>\n",
       "    <tr>\n",
       "      <th>0</th>\n",
       "      <td>6000.0</td>\n",
       "      <td>2011-03-14</td>\n",
       "      <td>Roman</td>\n",
       "      <td>1390</td>\n",
       "      <td>Roman</td>\n",
       "      <td>34.938093</td>\n",
       "      <td>-9.856322</td>\n",
       "      <td>none</td>\n",
       "      <td>lake nyasa</td>\n",
       "      <td>Mnyusi B</td>\n",
       "      <td>...</td>\n",
       "      <td>annually</td>\n",
       "      <td>soft</td>\n",
       "      <td>good</td>\n",
       "      <td>enough</td>\n",
       "      <td>spring</td>\n",
       "      <td>groundwater</td>\n",
       "      <td>communal standpipe</td>\n",
       "      <td>functional</td>\n",
       "      <td>True</td>\n",
       "      <td>False</td>\n",
       "    </tr>\n",
       "    <tr>\n",
       "      <th>1</th>\n",
       "      <td>0.0</td>\n",
       "      <td>2013-03-06</td>\n",
       "      <td>Grumeti</td>\n",
       "      <td>1399</td>\n",
       "      <td>GRUMETI</td>\n",
       "      <td>34.698766</td>\n",
       "      <td>-2.147466</td>\n",
       "      <td>Zahanati</td>\n",
       "      <td>lake victoria</td>\n",
       "      <td>Nyamara</td>\n",
       "      <td>...</td>\n",
       "      <td>never pay</td>\n",
       "      <td>soft</td>\n",
       "      <td>good</td>\n",
       "      <td>insufficient</td>\n",
       "      <td>rainwater harvesting</td>\n",
       "      <td>surface</td>\n",
       "      <td>communal standpipe</td>\n",
       "      <td>functional</td>\n",
       "      <td>True</td>\n",
       "      <td>False</td>\n",
       "    </tr>\n",
       "    <tr>\n",
       "      <th>2</th>\n",
       "      <td>25.0</td>\n",
       "      <td>2013-02-25</td>\n",
       "      <td>Lottery Club</td>\n",
       "      <td>686</td>\n",
       "      <td>World vision</td>\n",
       "      <td>37.460664</td>\n",
       "      <td>-3.821329</td>\n",
       "      <td>Kwa Mahundi</td>\n",
       "      <td>pangani</td>\n",
       "      <td>Majengo</td>\n",
       "      <td>...</td>\n",
       "      <td>per bucket</td>\n",
       "      <td>soft</td>\n",
       "      <td>good</td>\n",
       "      <td>enough</td>\n",
       "      <td>dam</td>\n",
       "      <td>surface</td>\n",
       "      <td>communal standpipe multiple</td>\n",
       "      <td>functional</td>\n",
       "      <td>True</td>\n",
       "      <td>False</td>\n",
       "    </tr>\n",
       "    <tr>\n",
       "      <th>3</th>\n",
       "      <td>0.0</td>\n",
       "      <td>2013-01-28</td>\n",
       "      <td>Unicef</td>\n",
       "      <td>263</td>\n",
       "      <td>UNICEF</td>\n",
       "      <td>38.486161</td>\n",
       "      <td>-11.155298</td>\n",
       "      <td>Zahanati Ya Nanyumbu</td>\n",
       "      <td>ruvuma / southern coast</td>\n",
       "      <td>Mahakamani</td>\n",
       "      <td>...</td>\n",
       "      <td>never pay</td>\n",
       "      <td>soft</td>\n",
       "      <td>good</td>\n",
       "      <td>dry</td>\n",
       "      <td>borehole</td>\n",
       "      <td>groundwater</td>\n",
       "      <td>communal standpipe multiple</td>\n",
       "      <td>non functional</td>\n",
       "      <td>True</td>\n",
       "      <td>False</td>\n",
       "    </tr>\n",
       "    <tr>\n",
       "      <th>4</th>\n",
       "      <td>0.0</td>\n",
       "      <td>2011-07-13</td>\n",
       "      <td>Action In A</td>\n",
       "      <td>0</td>\n",
       "      <td>Artisan</td>\n",
       "      <td>31.130847</td>\n",
       "      <td>-1.825359</td>\n",
       "      <td>Shuleni</td>\n",
       "      <td>lake victoria</td>\n",
       "      <td>Kyanyamisa</td>\n",
       "      <td>...</td>\n",
       "      <td>never pay</td>\n",
       "      <td>soft</td>\n",
       "      <td>good</td>\n",
       "      <td>seasonal</td>\n",
       "      <td>rainwater harvesting</td>\n",
       "      <td>surface</td>\n",
       "      <td>communal standpipe</td>\n",
       "      <td>functional</td>\n",
       "      <td>True</td>\n",
       "      <td>False</td>\n",
       "    </tr>\n",
       "  </tbody>\n",
       "</table>\n",
       "<p>5 rows × 34 columns</p>\n",
       "</div>"
      ],
      "text/plain": [
       "   amount_tsh date_recorded        funder  gps_height     installer  \\\n",
       "0      6000.0    2011-03-14         Roman        1390         Roman   \n",
       "1         0.0    2013-03-06       Grumeti        1399       GRUMETI   \n",
       "2        25.0    2013-02-25  Lottery Club         686  World vision   \n",
       "3         0.0    2013-01-28        Unicef         263        UNICEF   \n",
       "4         0.0    2011-07-13   Action In A           0       Artisan   \n",
       "\n",
       "   longitude   latitude              wpt_name                    basin  \\\n",
       "0  34.938093  -9.856322                  none               lake nyasa   \n",
       "1  34.698766  -2.147466              Zahanati            lake victoria   \n",
       "2  37.460664  -3.821329           Kwa Mahundi                  pangani   \n",
       "3  38.486161 -11.155298  Zahanati Ya Nanyumbu  ruvuma / southern coast   \n",
       "4  31.130847  -1.825359               Shuleni            lake victoria   \n",
       "\n",
       "   subvillage  ... payment_type  water_quality  quality_group      quantity  \\\n",
       "0    Mnyusi B  ...     annually           soft           good        enough   \n",
       "1     Nyamara  ...    never pay           soft           good  insufficient   \n",
       "2     Majengo  ...   per bucket           soft           good        enough   \n",
       "3  Mahakamani  ...    never pay           soft           good           dry   \n",
       "4  Kyanyamisa  ...    never pay           soft           good      seasonal   \n",
       "\n",
       "            source_type  source_class              waterpoint_type  \\\n",
       "0                spring   groundwater           communal standpipe   \n",
       "1  rainwater harvesting       surface           communal standpipe   \n",
       "2                   dam       surface  communal standpipe multiple   \n",
       "3              borehole   groundwater  communal standpipe multiple   \n",
       "4  rainwater harvesting       surface           communal standpipe   \n",
       "\n",
       "     status_group quantity_match  extraction_mismatch  \n",
       "0      functional           True                False  \n",
       "1      functional           True                False  \n",
       "2      functional           True                False  \n",
       "3  non functional           True                False  \n",
       "4      functional           True                False  \n",
       "\n",
       "[5 rows x 34 columns]"
      ]
     },
     "execution_count": 43,
     "metadata": {},
     "output_type": "execute_result"
    }
   ],
   "source": [
    "df_train_cleaned.head()"
   ]
  },
  {
   "cell_type": "markdown",
   "id": "c2416e5c",
   "metadata": {},
   "source": [
    "# Analyze Cardinality of Categorical Features"
   ]
  },
  {
   "cell_type": "code",
   "execution_count": 44,
   "id": "2aa073a9",
   "metadata": {},
   "outputs": [
    {
     "name": "stdout",
     "output_type": "stream",
     "text": [
      "wpt_name                 37400\n",
      "subvillage               19287\n",
      "scheme_name               2696\n",
      "installer                 2145\n",
      "ward                      2092\n",
      "funder                    1897\n",
      "lga                        125\n",
      "region                      21\n",
      "management                  12\n",
      "water_quality                8\n",
      "extraction_type_class        7\n",
      "payment_type                 7\n",
      "source_type                  7\n",
      "waterpoint_type              7\n",
      "quality_group                6\n",
      "management_group             5\n",
      "quantity                     5\n",
      "source_class                 3\n",
      "status_group                 3\n",
      "dtype: int64\n"
     ]
    }
   ],
   "source": [
    "# Summary of categorical columns\n",
    "cat_summary = df_train_cleaned.select_dtypes(include='object').nunique().sort_values(ascending=False)\n",
    "print(cat_summary)\n"
   ]
  },
  {
   "cell_type": "markdown",
   "id": "d1c85b1d",
   "metadata": {},
   "source": [
    "# Categorize them as low or high cardinality"
   ]
  },
  {
   "cell_type": "code",
   "execution_count": 45,
   "id": "71b89055",
   "metadata": {},
   "outputs": [
    {
     "data": {
      "text/plain": [
       "['wpt_name',\n",
       " 'subvillage',\n",
       " 'scheme_name',\n",
       " 'installer',\n",
       " 'ward',\n",
       " 'funder',\n",
       " 'lga',\n",
       " 'region',\n",
       " 'management']"
      ]
     },
     "execution_count": 45,
     "metadata": {},
     "output_type": "execute_result"
    }
   ],
   "source": [
    "# Recalculate high cardinality columns\n",
    "high_card_cols = cat_summary[cat_summary > 10].index.tolist()\n",
    "high_card_cols"
   ]
  },
  {
   "cell_type": "code",
   "execution_count": 46,
   "id": "20b9e33c",
   "metadata": {},
   "outputs": [
    {
     "data": {
      "text/plain": [
       "['water_quality',\n",
       " 'extraction_type_class',\n",
       " 'payment_type',\n",
       " 'source_type',\n",
       " 'waterpoint_type',\n",
       " 'quality_group',\n",
       " 'management_group',\n",
       " 'quantity',\n",
       " 'source_class',\n",
       " 'status_group']"
      ]
     },
     "execution_count": 46,
     "metadata": {},
     "output_type": "execute_result"
    }
   ],
   "source": [
    "# Select low cardinality columns (2–10 unique values)\n",
    "low_card_cols = cat_summary[(cat_summary <= 10) & (cat_summary > 1)].index.tolist()\n",
    "low_card_cols"
   ]
  },
  {
   "cell_type": "markdown",
   "id": "b83d6159",
   "metadata": {},
   "source": [
    "## Implement Encoding"
   ]
  },
  {
   "cell_type": "markdown",
   "id": "0e41cdc1",
   "metadata": {},
   "source": [
    "## One-Hot Encode Low Cardinality Columns"
   ]
  },
  {
   "cell_type": "code",
   "execution_count": 47,
   "id": "76fe951e",
   "metadata": {},
   "outputs": [
    {
     "name": "stdout",
     "output_type": "stream",
     "text": [
      "Total new shape: (59400, 34)\n",
      "First few column names: ['amount_tsh', 'date_recorded', 'funder', 'gps_height', 'installer', 'longitude', 'latitude', 'wpt_name', 'basin', 'subvillage']\n"
     ]
    }
   ],
   "source": [
    "# Apply One-Hot Encode Low Cardinality\n",
    "df_encoded = pd.get_dummies(df_train_cleaned, columns=low_card_cols, drop_first=True)\n",
    "\n",
    "# Preview result\n",
    "print(f\"Total new shape: {df_train_cleaned.shape}\")\n",
    "print(\"First few column names:\", df_train_cleaned.columns[:10].tolist())"
   ]
  },
  {
   "cell_type": "markdown",
   "id": "554985c0",
   "metadata": {},
   "source": [
    "## Frequency Encode High Cardinality Columns"
   ]
  },
  {
   "cell_type": "code",
   "execution_count": 48,
   "id": "2d2e71d8",
   "metadata": {},
   "outputs": [],
   "source": [
    "# Apply frequency encoding\n",
    "for col in high_card_cols:\n",
    "    freq_map = df_train_cleaned[col].value_counts().to_dict()\n",
    "    df_train_cleaned[col + '_freq'] = df_train_cleaned[col].map(freq_map)"
   ]
  },
  {
   "cell_type": "code",
   "execution_count": 49,
   "id": "5e171a2c",
   "metadata": {},
   "outputs": [
    {
     "name": "stdout",
     "output_type": "stream",
     "text": [
      "Final encoded shape:        amount_tsh date_recorded           funder  gps_height     installer  \\\n",
      "0          6000.0    2011-03-14            Roman        1390         Roman   \n",
      "1             0.0    2013-03-06          Grumeti        1399       GRUMETI   \n",
      "2            25.0    2013-02-25     Lottery Club         686  World vision   \n",
      "3             0.0    2013-01-28           Unicef         263        UNICEF   \n",
      "4             0.0    2011-07-13      Action In A           0       Artisan   \n",
      "...           ...           ...              ...         ...           ...   \n",
      "59395        10.0    2013-05-03  Germany Republi        1210           CES   \n",
      "59396      4700.0    2011-05-07      Cefa-njombe        1212          Cefa   \n",
      "59397         0.0    2011-04-11              NaN           0           NaN   \n",
      "59398         0.0    2011-03-08            Malec           0          Musa   \n",
      "59399         0.0    2011-03-23       World Bank         191         World   \n",
      "\n",
      "       longitude   latitude              wpt_name                    basin  \\\n",
      "0      34.938093  -9.856322                  none               lake nyasa   \n",
      "1      34.698766  -2.147466              Zahanati            lake victoria   \n",
      "2      37.460664  -3.821329           Kwa Mahundi                  pangani   \n",
      "3      38.486161 -11.155298  Zahanati Ya Nanyumbu  ruvuma / southern coast   \n",
      "4      31.130847  -1.825359               Shuleni            lake victoria   \n",
      "...          ...        ...                   ...                      ...   \n",
      "59395  37.169807  -3.253847   Area Three Namba 27                  pangani   \n",
      "59396  35.249991  -9.070629     Kwa Yahona Kuvala                   rufiji   \n",
      "59397  34.017087  -8.750434               Mashine                   rufiji   \n",
      "59398  35.861315  -6.378573                Mshoro                   rufiji   \n",
      "59399  38.104048  -6.747464       Kwa Mzee Lugawa              wami / ruvu   \n",
      "\n",
      "         subvillage  ... extraction_mismatch  wpt_name_freq  subvillage_freq  \\\n",
      "0          Mnyusi B  ...               False           3563              6.0   \n",
      "1           Nyamara  ...               False            830              5.0   \n",
      "2           Majengo  ...               False              3            502.0   \n",
      "3        Mahakamani  ...               False              1             17.0   \n",
      "4        Kyanyamisa  ...               False           1748              2.0   \n",
      "...             ...  ...                 ...            ...              ...   \n",
      "59395      Kiduruni  ...               False              1              4.0   \n",
      "59396      Igumbilo  ...               False              1             14.0   \n",
      "59397     Madungulu  ...                True             15              2.0   \n",
      "59398        Mwinyi  ...                True              1             24.0   \n",
      "59399  Kikatanyemba  ...                True              1              1.0   \n",
      "\n",
      "      scheme_name_freq installer_freq  ward_freq  funder_freq lga_freq  \\\n",
      "0                139.0           94.0         36        275.0      564   \n",
      "1                  NaN           39.0         71         53.0      716   \n",
      "2                  9.0          408.0         10          8.0      308   \n",
      "3                  NaN          222.0         32       1057.0      158   \n",
      "4                  NaN          135.0         13          1.0      771   \n",
      "...                ...            ...        ...          ...      ...   \n",
      "59395             52.0          610.0        116        610.0      625   \n",
      "59396             24.0           15.0         53         23.0     2503   \n",
      "59397              NaN            NaN         88          NaN      626   \n",
      "59398              NaN            5.0         25          3.0      347   \n",
      "59399              NaN          121.0         60       1349.0      521   \n",
      "\n",
      "      region_freq  management_freq  \n",
      "0            5294            40507  \n",
      "1            1969             6515  \n",
      "2            1583            40507  \n",
      "3            1730            40507  \n",
      "4            3316              844  \n",
      "...           ...              ...  \n",
      "59395        4379             2933  \n",
      "59396        5294            40507  \n",
      "59397        4639            40507  \n",
      "59398        2201            40507  \n",
      "59399        4006            40507  \n",
      "\n",
      "[59400 rows x 43 columns]\n"
     ]
    },
    {
     "data": {
      "text/html": [
       "<div>\n",
       "<style scoped>\n",
       "    .dataframe tbody tr th:only-of-type {\n",
       "        vertical-align: middle;\n",
       "    }\n",
       "\n",
       "    .dataframe tbody tr th {\n",
       "        vertical-align: top;\n",
       "    }\n",
       "\n",
       "    .dataframe thead th {\n",
       "        text-align: right;\n",
       "    }\n",
       "</style>\n",
       "<table border=\"1\" class=\"dataframe\">\n",
       "  <thead>\n",
       "    <tr style=\"text-align: right;\">\n",
       "      <th></th>\n",
       "      <th>amount_tsh</th>\n",
       "      <th>date_recorded</th>\n",
       "      <th>funder</th>\n",
       "      <th>gps_height</th>\n",
       "      <th>installer</th>\n",
       "      <th>longitude</th>\n",
       "      <th>latitude</th>\n",
       "      <th>wpt_name</th>\n",
       "      <th>basin</th>\n",
       "      <th>subvillage</th>\n",
       "      <th>...</th>\n",
       "      <th>extraction_mismatch</th>\n",
       "      <th>wpt_name_freq</th>\n",
       "      <th>subvillage_freq</th>\n",
       "      <th>scheme_name_freq</th>\n",
       "      <th>installer_freq</th>\n",
       "      <th>ward_freq</th>\n",
       "      <th>funder_freq</th>\n",
       "      <th>lga_freq</th>\n",
       "      <th>region_freq</th>\n",
       "      <th>management_freq</th>\n",
       "    </tr>\n",
       "  </thead>\n",
       "  <tbody>\n",
       "    <tr>\n",
       "      <th>0</th>\n",
       "      <td>6000.0</td>\n",
       "      <td>2011-03-14</td>\n",
       "      <td>Roman</td>\n",
       "      <td>1390</td>\n",
       "      <td>Roman</td>\n",
       "      <td>34.938093</td>\n",
       "      <td>-9.856322</td>\n",
       "      <td>none</td>\n",
       "      <td>lake nyasa</td>\n",
       "      <td>Mnyusi B</td>\n",
       "      <td>...</td>\n",
       "      <td>False</td>\n",
       "      <td>3563</td>\n",
       "      <td>6.0</td>\n",
       "      <td>139.0</td>\n",
       "      <td>94.0</td>\n",
       "      <td>36</td>\n",
       "      <td>275.0</td>\n",
       "      <td>564</td>\n",
       "      <td>5294</td>\n",
       "      <td>40507</td>\n",
       "    </tr>\n",
       "    <tr>\n",
       "      <th>1</th>\n",
       "      <td>0.0</td>\n",
       "      <td>2013-03-06</td>\n",
       "      <td>Grumeti</td>\n",
       "      <td>1399</td>\n",
       "      <td>GRUMETI</td>\n",
       "      <td>34.698766</td>\n",
       "      <td>-2.147466</td>\n",
       "      <td>Zahanati</td>\n",
       "      <td>lake victoria</td>\n",
       "      <td>Nyamara</td>\n",
       "      <td>...</td>\n",
       "      <td>False</td>\n",
       "      <td>830</td>\n",
       "      <td>5.0</td>\n",
       "      <td>NaN</td>\n",
       "      <td>39.0</td>\n",
       "      <td>71</td>\n",
       "      <td>53.0</td>\n",
       "      <td>716</td>\n",
       "      <td>1969</td>\n",
       "      <td>6515</td>\n",
       "    </tr>\n",
       "    <tr>\n",
       "      <th>2</th>\n",
       "      <td>25.0</td>\n",
       "      <td>2013-02-25</td>\n",
       "      <td>Lottery Club</td>\n",
       "      <td>686</td>\n",
       "      <td>World vision</td>\n",
       "      <td>37.460664</td>\n",
       "      <td>-3.821329</td>\n",
       "      <td>Kwa Mahundi</td>\n",
       "      <td>pangani</td>\n",
       "      <td>Majengo</td>\n",
       "      <td>...</td>\n",
       "      <td>False</td>\n",
       "      <td>3</td>\n",
       "      <td>502.0</td>\n",
       "      <td>9.0</td>\n",
       "      <td>408.0</td>\n",
       "      <td>10</td>\n",
       "      <td>8.0</td>\n",
       "      <td>308</td>\n",
       "      <td>1583</td>\n",
       "      <td>40507</td>\n",
       "    </tr>\n",
       "    <tr>\n",
       "      <th>3</th>\n",
       "      <td>0.0</td>\n",
       "      <td>2013-01-28</td>\n",
       "      <td>Unicef</td>\n",
       "      <td>263</td>\n",
       "      <td>UNICEF</td>\n",
       "      <td>38.486161</td>\n",
       "      <td>-11.155298</td>\n",
       "      <td>Zahanati Ya Nanyumbu</td>\n",
       "      <td>ruvuma / southern coast</td>\n",
       "      <td>Mahakamani</td>\n",
       "      <td>...</td>\n",
       "      <td>False</td>\n",
       "      <td>1</td>\n",
       "      <td>17.0</td>\n",
       "      <td>NaN</td>\n",
       "      <td>222.0</td>\n",
       "      <td>32</td>\n",
       "      <td>1057.0</td>\n",
       "      <td>158</td>\n",
       "      <td>1730</td>\n",
       "      <td>40507</td>\n",
       "    </tr>\n",
       "    <tr>\n",
       "      <th>4</th>\n",
       "      <td>0.0</td>\n",
       "      <td>2011-07-13</td>\n",
       "      <td>Action In A</td>\n",
       "      <td>0</td>\n",
       "      <td>Artisan</td>\n",
       "      <td>31.130847</td>\n",
       "      <td>-1.825359</td>\n",
       "      <td>Shuleni</td>\n",
       "      <td>lake victoria</td>\n",
       "      <td>Kyanyamisa</td>\n",
       "      <td>...</td>\n",
       "      <td>False</td>\n",
       "      <td>1748</td>\n",
       "      <td>2.0</td>\n",
       "      <td>NaN</td>\n",
       "      <td>135.0</td>\n",
       "      <td>13</td>\n",
       "      <td>1.0</td>\n",
       "      <td>771</td>\n",
       "      <td>3316</td>\n",
       "      <td>844</td>\n",
       "    </tr>\n",
       "  </tbody>\n",
       "</table>\n",
       "<p>5 rows × 43 columns</p>\n",
       "</div>"
      ],
      "text/plain": [
       "   amount_tsh date_recorded        funder  gps_height     installer  \\\n",
       "0      6000.0    2011-03-14         Roman        1390         Roman   \n",
       "1         0.0    2013-03-06       Grumeti        1399       GRUMETI   \n",
       "2        25.0    2013-02-25  Lottery Club         686  World vision   \n",
       "3         0.0    2013-01-28        Unicef         263        UNICEF   \n",
       "4         0.0    2011-07-13   Action In A           0       Artisan   \n",
       "\n",
       "   longitude   latitude              wpt_name                    basin  \\\n",
       "0  34.938093  -9.856322                  none               lake nyasa   \n",
       "1  34.698766  -2.147466              Zahanati            lake victoria   \n",
       "2  37.460664  -3.821329           Kwa Mahundi                  pangani   \n",
       "3  38.486161 -11.155298  Zahanati Ya Nanyumbu  ruvuma / southern coast   \n",
       "4  31.130847  -1.825359               Shuleni            lake victoria   \n",
       "\n",
       "   subvillage  ... extraction_mismatch  wpt_name_freq  subvillage_freq  \\\n",
       "0    Mnyusi B  ...               False           3563              6.0   \n",
       "1     Nyamara  ...               False            830              5.0   \n",
       "2     Majengo  ...               False              3            502.0   \n",
       "3  Mahakamani  ...               False              1             17.0   \n",
       "4  Kyanyamisa  ...               False           1748              2.0   \n",
       "\n",
       "  scheme_name_freq installer_freq  ward_freq  funder_freq lga_freq  \\\n",
       "0            139.0           94.0         36        275.0      564   \n",
       "1              NaN           39.0         71         53.0      716   \n",
       "2              9.0          408.0         10          8.0      308   \n",
       "3              NaN          222.0         32       1057.0      158   \n",
       "4              NaN          135.0         13          1.0      771   \n",
       "\n",
       "  region_freq  management_freq  \n",
       "0        5294            40507  \n",
       "1        1969             6515  \n",
       "2        1583            40507  \n",
       "3        1730            40507  \n",
       "4        3316              844  \n",
       "\n",
       "[5 rows x 43 columns]"
      ]
     },
     "execution_count": 49,
     "metadata": {},
     "output_type": "execute_result"
    }
   ],
   "source": [
    "# Check result\n",
    "print(\"Final encoded shape:\", df_train_cleaned)\n",
    "df_train_cleaned.head()"
   ]
  },
  {
   "cell_type": "markdown",
   "id": "bc48689e",
   "metadata": {},
   "source": [
    "# Check for and Handle Outliers in Numerical Features"
   ]
  },
  {
   "cell_type": "markdown",
   "id": "1987d583",
   "metadata": {},
   "source": [
    "## Identify Numerical Columns"
   ]
  },
  {
   "cell_type": "code",
   "execution_count": 50,
   "id": "259e9470",
   "metadata": {},
   "outputs": [
    {
     "data": {
      "text/plain": [
       "['amount_tsh',\n",
       " 'gps_height',\n",
       " 'longitude',\n",
       " 'latitude',\n",
       " 'population',\n",
       " 'wpt_name_freq',\n",
       " 'subvillage_freq',\n",
       " 'scheme_name_freq',\n",
       " 'installer_freq',\n",
       " 'ward_freq',\n",
       " 'funder_freq',\n",
       " 'lga_freq',\n",
       " 'region_freq',\n",
       " 'management_freq']"
      ]
     },
     "execution_count": 50,
     "metadata": {},
     "output_type": "execute_result"
    }
   ],
   "source": [
    "# Get numeric columns, but exclude ID or code-like columns\n",
    "numeric_cols = df_train_cleaned.select_dtypes(include=['int64', 'float64']).columns.tolist()\n",
    "excluded = ['region_code', 'district_code']  # Don't plot these\n",
    "numeric_cols = [col for col in numeric_cols if col not in excluded]\n",
    "numeric_cols"
   ]
  },
  {
   "cell_type": "markdown",
   "id": "67f3bf1d",
   "metadata": {},
   "source": [
    "# Visualize Distributions"
   ]
  },
  {
   "cell_type": "code",
   "execution_count": 51,
   "id": "ecf9a246",
   "metadata": {},
   "outputs": [
    {
     "data": {
      "image/png": "[encoded data removed]",
      "text/plain": [
       "<Figure size 576x144 with 1 Axes>"
      ]
     },
     "metadata": {
      "needs_background": "light"
     },
     "output_type": "display_data"
    },
    {
     "data": {
      "image/png": "[encoded data removed]",
      "text/plain": [
       "<Figure size 576x144 with 1 Axes>"
      ]
     },
     "metadata": {
      "needs_background": "light"
     },
     "output_type": "display_data"
    },
    {
     "data": {
      "image/png": "[encoded data removed]",
      "text/plain": [
       "<Figure size 576x144 with 1 Axes>"
      ]
     },
     "metadata": {
      "needs_background": "light"
     },
     "output_type": "display_data"
    },
    {
     "data": {
      "image/png": "[encoded data removed]",
      "text/plain": [
       "<Figure size 576x144 with 1 Axes>"
      ]
     },
     "metadata": {
      "needs_background": "light"
     },
     "output_type": "display_data"
    },
    {
     "data": {
      "image/png": "[encoded data removed]",
      "text/plain": [
       "<Figure size 576x144 with 1 Axes>"
      ]
     },
     "metadata": {
      "needs_background": "light"
     },
     "output_type": "display_data"
    },
    {
     "data": {
      "image/png": "[encoded data removed]",
      "text/plain": [
       "<Figure size 576x144 with 1 Axes>"
      ]
     },
     "metadata": {
      "needs_background": "light"
     },
     "output_type": "display_data"
    },
    {
     "data": {
      "image/png": "[encoded data removed]",
      "text/plain": [
       "<Figure size 576x144 with 1 Axes>"
      ]
     },
     "metadata": {
      "needs_background": "light"
     },
     "output_type": "display_data"
    },
    {
     "data": {
      "image/png": "[encoded data removed]",
      "text/plain": [
       "<Figure size 576x144 with 1 Axes>"
      ]
     },
     "metadata": {
      "needs_background": "light"
     },
     "output_type": "display_data"
    },
    {
     "data": {
      "image/png": "[encoded data removed]",
      "text/plain": [
       "<Figure size 576x144 with 1 Axes>"
      ]
     },
     "metadata": {
      "needs_background": "light"
     },
     "output_type": "display_data"
    },
    {
     "data": {
      "image/png": "[encoded data removed]",
      "text/plain": [
       "<Figure size 576x144 with 1 Axes>"
      ]
     },
     "metadata": {
      "needs_background": "light"
     },
     "output_type": "display_data"
    },
    {
     "data": {
      "image/png": "[encoded data removed]",
      "text/plain": [
       "<Figure size 576x144 with 1 Axes>"
      ]
     },
     "metadata": {
      "needs_background": "light"
     },
     "output_type": "display_data"
    },
    {
     "data": {
      "image/png": "[encoded data removed]",
      "text/plain": [
       "<Figure size 576x144 with 1 Axes>"
      ]
     },
     "metadata": {
      "needs_background": "light"
     },
     "output_type": "display_data"
    },
    {
     "data": {
      "image/png": "[encoded data removed]",
      "text/plain": [
       "<Figure size 576x144 with 1 Axes>"
      ]
     },
     "metadata": {
      "needs_background": "light"
     },
     "output_type": "display_data"
    },
    {
     "data": {
      "image/png": "[encoded data removed]",
      "text/plain": [
       "<Figure size 576x144 with 1 Axes>"
      ]
     },
     "metadata": {
      "needs_background": "light"
     },
     "output_type": "display_data"
    }
   ],
   "source": [
    "# Loop and plot boxplot for each column\n",
    "for col in numeric_cols:\n",
    "    plt.figure(figsize=(8, 2))\n",
    "    sns.boxplot(x=df_train_cleaned[col], color='skyblue')\n",
    "    plt.title(f'Boxplot for: {col}')\n",
    "    plt.xlabel(col)\n",
    "    plt.tight_layout()\n",
    "    plt.show()"
   ]
  },
  {
   "cell_type": "markdown",
   "id": "f1a4e874",
   "metadata": {},
   "source": [
    "## Detect Outliers (Statistical Methods)"
   ]
  },
  {
   "cell_type": "code",
   "execution_count": 52,
   "id": "f1c50fb8",
   "metadata": {},
   "outputs": [
    {
     "name": "stdout",
     "output_type": "stream",
     "text": [
      "amount_tsh: Capped outliers outside [-30.00, 50.00]\n",
      "population: Capped outliers outside [-322.50, 537.50]\n",
      "gps_height: Capped outliers outside [-1978.88, 3298.12]\n",
      "longitude: Capped outliers outside [26.96, 43.31]\n",
      "latitude: Capped outliers outside [-16.36, 4.50]\n"
     ]
    }
   ],
   "source": [
    "# Cap Outliers Using IQR and Flag Them\n",
    "def cap_outliers_iqr(df, column):\n",
    "    # Backup original values\n",
    "    df[f'{column}_before_clip'] = df[column]\n",
    "\n",
    "# Calculates lower and upper bounds for acceptable values using IQR\n",
    "    # Calculate IQR bounds\n",
    "    Q1 = df[column].quantile(0.25)\n",
    "    Q3 = df[column].quantile(0.75)\n",
    "    IQR = Q3 - Q1\n",
    "    lower = Q1 - 1.5 * IQR\n",
    "    upper = Q3 + 1.5 * IQR\n",
    "\n",
    "    # Flag which values were outliers\n",
    "    df[f'{column}_was_outlier'] = (df[column] < lower) | (df[column] > upper)\n",
    "\n",
    "    # Apply clipping\n",
    "    df[column] = df[column].clip(lower, upper)\n",
    "\n",
    "    print(f\"{column}: Capped outliers outside [{lower:.2f}, {upper:.2f}]\")\n",
    "    return df\n",
    "\n",
    "# Apply to selected columns\n",
    "columns_to_cap = ['amount_tsh', 'population', 'gps_height','longitude', 'latitude']\n",
    "\n",
    "for col in columns_to_cap:\n",
    "    df_train_cleaned = cap_outliers_iqr(df_train_cleaned, col)"
   ]
  },
  {
   "cell_type": "code",
   "execution_count": 53,
   "id": "aeba10e0",
   "metadata": {},
   "outputs": [
    {
     "name": "stdout",
     "output_type": "stream",
     "text": [
      "Filtering rows with valid GPS coordinates within Tanzania\n",
      "Remaining rows after filtering: 57581\n"
     ]
    }
   ],
   "source": [
    "print(\"Filtering rows with valid GPS coordinates within Tanzania\")\n",
    "\n",
    "# Define valid bounds\n",
    "valid_longitude = (df_train_cleaned['longitude'] > 29) & (df_train_cleaned['longitude'] < 41)\n",
    "valid_latitude = (df_train_cleaned['latitude'] > -12) & (df_train_cleaned['latitude'] < -1)\n",
    "\n",
    "# Keep only rows within the valid GPS bounding box\n",
    "df_train_cleaned = df_train_cleaned[valid_longitude & valid_latitude]\n",
    "\n",
    "print(f\"Remaining rows after filtering: {len(df_train_cleaned)}\")"
   ]
  },
  {
   "cell_type": "code",
   "execution_count": 54,
   "id": "8cf0e8e7",
   "metadata": {},
   "outputs": [
    {
     "name": "stdout",
     "output_type": "stream",
     "text": [
      "29.6071219 40.34519307\n",
      "-11.64944018 -1.00058519\n"
     ]
    }
   ],
   "source": [
    "# Sanity check for any outliers that remain\n",
    "print(df_train_cleaned['longitude'].min(), df_train_cleaned['longitude'].max())\n",
    "print(df_train_cleaned['latitude'].min(), df_train_cleaned['latitude'].max())"
   ]
  },
  {
   "cell_type": "code",
   "execution_count": 55,
   "id": "fdb75642",
   "metadata": {},
   "outputs": [],
   "source": [
    "def show_before_after(col):\n",
    "    fig, axes = plt.subplots(nrows=1, ncols=2, figsize=(14, 2))\n",
    "    sns.boxplot(x=df_train_cleaned[f\"{col}_before_clip\"], ax=axes[0], color='skyblue')\n",
    "    axes[0].set_title(f'Before Clipping: {col}')\n",
    "    sns.boxplot(x=df_train_cleaned[col], ax=axes[1], color='lightgreen')\n",
    "    axes[1].set_title(f'After Clipping: {col}')\n",
    "    for ax in axes:\n",
    "        ax.grid(True)\n",
    "        ax.set_xlabel('')\n",
    "    plt.tight_layout()\n",
    "    plt.show()\n"
   ]
  },
  {
   "cell_type": "code",
   "execution_count": 56,
   "id": "d8f1a040",
   "metadata": {},
   "outputs": [
    {
     "data": {
      "image/png": "[encoded data removed]",
      "text/plain": [
       "<Figure size 1008x144 with 2 Axes>"
      ]
     },
     "metadata": {
      "needs_background": "light"
     },
     "output_type": "display_data"
    },
    {
     "data": {
      "image/png": "[encoded data removed]",
      "text/plain": [
       "<Figure size 1008x144 with 2 Axes>"
      ]
     },
     "metadata": {
      "needs_background": "light"
     },
     "output_type": "display_data"
    },
    {
     "data": {
      "image/png": "[encoded data removed]",
      "text/plain": [
       "<Figure size 1008x144 with 2 Axes>"
      ]
     },
     "metadata": {
      "needs_background": "light"
     },
     "output_type": "display_data"
    },
    {
     "data": {
      "image/png": "[encoded data removed]",
      "text/plain": [
       "<Figure size 1008x144 with 2 Axes>"
      ]
     },
     "metadata": {
      "needs_background": "light"
     },
     "output_type": "display_data"
    }
   ],
   "source": [
    "show_before_after('amount_tsh')\n",
    "show_before_after('population')\n",
    "show_before_after('longitude')\n",
    "show_before_after('latitude')"
   ]
  },
  {
   "cell_type": "markdown",
   "id": "71a61032",
   "metadata": {},
   "source": [
    "# Normalize / Standardize Numerical Features\n",
    "th goal is to make sure all the numerical features are on the same scale."
   ]
  },
  {
   "cell_type": "code",
   "execution_count": 57,
   "id": "2d9d50d5",
   "metadata": {},
   "outputs": [],
   "source": [
    "# Select Numeric Columns to Scale\n",
    "columns_to_scale = ['amount_tsh', 'population', 'gps_height']"
   ]
  },
  {
   "cell_type": "code",
   "execution_count": 58,
   "id": "b4678f80",
   "metadata": {},
   "outputs": [
    {
     "name": "stdout",
     "output_type": "stream",
     "text": [
      "              count          mean       std       min       25%       50%  \\\n",
      "amount_tsh  57581.0  3.305893e-16  1.000009 -0.620930 -0.620930 -0.620930   \n",
      "population  57581.0  5.815926e-16  1.000009 -0.749541 -0.749541 -0.551521   \n",
      "gps_height  57581.0 -6.818286e-16  1.000009 -1.123782 -0.994017 -0.379793   \n",
      "\n",
      "                 75%       max  \n",
      "amount_tsh  0.795500  1.739787  \n",
      "population  0.551731  2.291474  \n",
      "gps_height  0.926513  2.999878  \n"
     ]
    },
    {
     "name": "stderr",
     "output_type": "stream",
     "text": [
      "<ipython-input-58-07ff07100729>:3: SettingWithCopyWarning: \n",
      "A value is trying to be set on a copy of a slice from a DataFrame.\n",
      "Try using .loc[row_indexer,col_indexer] = value instead\n",
      "\n",
      "See the caveats in the documentation: https://pandas.pydata.org/pandas-docs/stable/user_guide/indexing.html#returning-a-view-versus-a-copy\n",
      "  df_train_cleaned[columns_to_scale] = scaler.fit_transform(df_train_cleaned[columns_to_scale])\n",
      "c:\\ProgramData\\Anaconda3\\lib\\site-packages\\pandas\\core\\indexing.py:1738: SettingWithCopyWarning: \n",
      "A value is trying to be set on a copy of a slice from a DataFrame.\n",
      "Try using .loc[row_indexer,col_indexer] = value instead\n",
      "\n",
      "See the caveats in the documentation: https://pandas.pydata.org/pandas-docs/stable/user_guide/indexing.html#returning-a-view-versus-a-copy\n",
      "  self._setitem_single_column(loc, value[:, i].tolist(), pi)\n"
     ]
    }
   ],
   "source": [
    "# Apply StandardScaler\n",
    "scaler = StandardScaler()\n",
    "df_train_cleaned[columns_to_scale] = scaler.fit_transform(df_train_cleaned[columns_to_scale])\n",
    "print(df_train_cleaned[columns_to_scale].describe().T)"
   ]
  },
  {
   "cell_type": "code",
   "execution_count": 59,
   "id": "d4b83382",
   "metadata": {},
   "outputs": [
    {
     "data": {
      "text/plain": [
       "['../data/processed/standard_scaler.pkl']"
      ]
     },
     "execution_count": 59,
     "metadata": {},
     "output_type": "execute_result"
    }
   ],
   "source": [
    "# save the scaler\n",
    "joblib.dump(scaler, '../data/processed/standard_scaler.pkl')"
   ]
  },
  {
   "cell_type": "markdown",
   "id": "4058d570",
   "metadata": {},
   "source": [
    "Tip: Numerical features were scaled using StandardScaler to normalize magnitudes and improve model convergence. "
   ]
  },
  {
   "cell_type": "markdown",
   "id": "22bce744",
   "metadata": {},
   "source": [
    "# Build a Data Cleaning Pipeline"
   ]
  },
  {
   "cell_type": "code",
   "execution_count": 60,
   "id": "24641da6",
   "metadata": {},
   "outputs": [],
   "source": [
    "# Define the IQRClipper\n",
    "class IQRClipper(BaseEstimator, TransformerMixin):\n",
    "    def __init__(self, columns):\n",
    "        self.columns = columns\n",
    "        self.bounds = {}\n",
    "\n",
    "    def fit(self, X, y=None):\n",
    "        for col in self.columns:\n",
    "            Q1 = X[col].quantile(0.25)\n",
    "            Q3 = X[col].quantile(0.75)\n",
    "            IQR = Q3 - Q1\n",
    "            lower = Q1 - 1.5 * IQR\n",
    "            upper = Q3 + 1.5 * IQR\n",
    "            self.bounds[col] = (lower, upper)\n",
    "        return self\n",
    "\n",
    "    def transform(self, X):\n",
    "        X = X.copy()\n",
    "        for col in self.columns:\n",
    "            lower, upper = self.bounds[col]\n",
    "            X[col] = X[col].clip(lower, upper)\n",
    "        return X"
   ]
  },
  {
   "cell_type": "code",
   "execution_count": 61,
   "id": "6b3cae25",
   "metadata": {},
   "outputs": [],
   "source": [
    "numeric_features = df_train_cleaned.select_dtypes(include=['int64', 'float64']).columns.tolist()\n",
    "categorical_features = df_train_cleaned.select_dtypes(include=['object', 'category']).columns.tolist()\n",
    "boolean_features = df_train_cleaned.select_dtypes(include=['bool']).columns.tolist()"
   ]
  },
  {
   "cell_type": "code",
   "execution_count": 62,
   "id": "66c53850",
   "metadata": {},
   "outputs": [
    {
     "name": "stdout",
     "output_type": "stream",
     "text": [
      "Numeric Features: ['amount_tsh', 'gps_height', 'longitude', 'latitude', 'region_code', 'district_code', 'population', 'wpt_name_freq', 'subvillage_freq', 'scheme_name_freq', 'installer_freq', 'ward_freq', 'funder_freq', 'lga_freq', 'region_freq', 'management_freq', 'amount_tsh_before_clip', 'population_before_clip', 'gps_height_before_clip', 'longitude_before_clip', 'latitude_before_clip']\n",
      "Categorical Features: ['funder', 'installer', 'wpt_name', 'basin', 'subvillage', 'region', 'lga', 'ward', 'scheme_management', 'scheme_name', 'extraction_type_class', 'management', 'management_group', 'payment_type', 'water_quality', 'quality_group', 'quantity', 'source_type', 'source_class', 'waterpoint_type', 'status_group']\n",
      "Boolean Features: ['public_meeting', 'permit', 'quantity_match', 'extraction_mismatch', 'amount_tsh_was_outlier', 'population_was_outlier', 'gps_height_was_outlier', 'longitude_was_outlier', 'latitude_was_outlier']\n"
     ]
    }
   ],
   "source": [
    "print(\"Numeric Features:\", numeric_features)\n",
    "print(\"Categorical Features:\", categorical_features)\n",
    "print(\"Boolean Features:\", boolean_features)"
   ]
  },
  {
   "cell_type": "code",
   "execution_count": 63,
   "id": "6e924d36",
   "metadata": {},
   "outputs": [],
   "source": [
    "# define the pipelines\n",
    "\n",
    "# Numeric preprocessing\n",
    "numeric_pipeline = Pipeline([\n",
    "    ('iqr_clip', IQRClipper(columns=numeric_cols)),\n",
    "    ('imputer', SimpleImputer(strategy='median')),\n",
    "    ('scaler', StandardScaler())\n",
    "])\n",
    "\n",
    "# Categorical preprocessing\n",
    "categorical_pipeline = Pipeline([\n",
    "    ('imputer', SimpleImputer(strategy='most_frequent')),\n",
    "    ('encoder', OneHotEncoder(handle_unknown='ignore'))\n",
    "])\n",
    "\n",
    "# Boolean preprocessing (optional: cast to int or handle as-is)\n",
    "boolean_pipeline = Pipeline([\n",
    "    ('imputer', SimpleImputer(strategy='most_frequent'))\n",
    "])\n"
   ]
  },
  {
   "cell_type": "code",
   "execution_count": 64,
   "id": "9c80fb0a",
   "metadata": {},
   "outputs": [],
   "source": [
    "# combine into full preprocessor\n",
    "preprocessor = ColumnTransformer(transformers=[\n",
    "    ('num', numeric_pipeline, numeric_features),\n",
    "    ('cat', categorical_pipeline, categorical_features),\n",
    "    ('bool', boolean_pipeline, boolean_features)\n",
    "])"
   ]
  },
  {
   "cell_type": "code",
   "execution_count": 65,
   "id": "e2fb29d8",
   "metadata": {},
   "outputs": [],
   "source": [
    "# wrap the final pipeline \n",
    "final_pipeline = Pipeline(steps=[\n",
    "    ('preprocessor', preprocessor)\n",
    "])"
   ]
  },
  {
   "cell_type": "code",
   "execution_count": 66,
   "id": "89d5e12f",
   "metadata": {},
   "outputs": [
    {
     "data": {
      "text/plain": [
       "['../data/processed/data_cleaning_pipeline.pkl']"
      ]
     },
     "execution_count": 66,
     "metadata": {},
     "output_type": "execute_result"
    }
   ],
   "source": [
    "# save the pipeline for later use\n",
    "joblib.dump(final_pipeline, '../data/processed/data_cleaning_pipeline.pkl')\n"
   ]
  },
  {
   "cell_type": "code",
   "execution_count": 67,
   "id": "a6da13cf",
   "metadata": {},
   "outputs": [
    {
     "name": "stdout",
     "output_type": "stream",
     "text": [
      "['amount_tsh', 'date_recorded', 'funder', 'gps_height', 'installer', 'longitude', 'latitude', 'wpt_name', 'basin', 'subvillage', 'region', 'region_code', 'district_code', 'lga', 'ward', 'population', 'public_meeting', 'scheme_management', 'scheme_name', 'permit', 'construction_year', 'extraction_type_class', 'management', 'management_group', 'payment_type', 'water_quality', 'quality_group', 'quantity', 'source_type', 'source_class', 'waterpoint_type', 'status_group', 'quantity_match', 'extraction_mismatch', 'wpt_name_freq', 'subvillage_freq', 'scheme_name_freq', 'installer_freq', 'ward_freq', 'funder_freq', 'lga_freq', 'region_freq', 'management_freq', 'amount_tsh_before_clip', 'amount_tsh_was_outlier', 'population_before_clip', 'population_was_outlier', 'gps_height_before_clip', 'gps_height_was_outlier', 'longitude_before_clip', 'longitude_was_outlier', 'latitude_before_clip', 'latitude_was_outlier']\n"
     ]
    }
   ],
   "source": [
    "print(df_train_cleaned.columns.tolist())"
   ]
  },
  {
   "cell_type": "code",
   "execution_count": 68,
   "id": "53dddf30",
   "metadata": {},
   "outputs": [],
   "source": [
    "preprocessor = ColumnTransformer(transformers=[\n",
    "    ('num', numeric_pipeline, numeric_cols),\n",
    "    ('cat', categorical_pipeline, categorical_features)\n",
    "])"
   ]
  },
  {
   "cell_type": "code",
   "execution_count": 69,
   "id": "6683d155",
   "metadata": {},
   "outputs": [
    {
     "name": "stdout",
     "output_type": "stream",
     "text": [
      "Pipeline(steps=[('preprocessor',\n",
      "                 ColumnTransformer(transformers=[('num',\n",
      "                                                  Pipeline(steps=[('iqr_clip',\n",
      "                                                                   IQRClipper(columns=['amount_tsh',\n",
      "                                                                                       'gps_height',\n",
      "                                                                                       'longitude',\n",
      "                                                                                       'latitude',\n",
      "                                                                                       'population',\n",
      "                                                                                       'wpt_name_freq',\n",
      "                                                                                       'subvillage_freq',\n",
      "                                                                                       'scheme_name_freq',\n",
      "                                                                                       'installer_freq',\n",
      "                                                                                       'ward_freq',\n",
      "                                                                                       'funder_freq',\n",
      "                                                                                       'lga_freq',\n",
      "                                                                                       'region_freq',\n",
      "                                                                                       'management_freq'])),\n",
      "                                                                  ('imputer',\n",
      "                                                                   SimpleImputer(st...\n",
      "                                                   'quality_group', 'quantity',\n",
      "                                                   'source_type',\n",
      "                                                   'source_class',\n",
      "                                                   'waterpoint_type',\n",
      "                                                   'status_group']),\n",
      "                                                 ('bool',\n",
      "                                                  Pipeline(steps=[('imputer',\n",
      "                                                                   SimpleImputer(strategy='most_frequent'))]),\n",
      "                                                  ['public_meeting', 'permit',\n",
      "                                                   'quantity_match',\n",
      "                                                   'extraction_mismatch',\n",
      "                                                   'amount_tsh_was_outlier',\n",
      "                                                   'population_was_outlier',\n",
      "                                                   'gps_height_was_outlier',\n",
      "                                                   'longitude_was_outlier',\n",
      "                                                   'latitude_was_outlier'])]))])\n"
     ]
    }
   ],
   "source": [
    "print(final_pipeline)"
   ]
  },
  {
   "cell_type": "code",
   "execution_count": 70,
   "id": "56d3a77e",
   "metadata": {},
   "outputs": [
    {
     "data": {
      "text/html": [
       "<style>div.sk-top-container {color: black;background-color: white;}div.sk-toggleable {background-color: white;}label.sk-toggleable__label {cursor: pointer;display: block;width: 100%;margin-bottom: 0;padding: 0.2em 0.3em;box-sizing: border-box;text-align: center;}div.sk-toggleable__content {max-height: 0;max-width: 0;overflow: hidden;text-align: left;background-color: #f0f8ff;}div.sk-toggleable__content pre {margin: 0.2em;color: black;border-radius: 0.25em;background-color: #f0f8ff;}input.sk-toggleable__control:checked~div.sk-toggleable__content {max-height: 200px;max-width: 100%;overflow: auto;}div.sk-estimator input.sk-toggleable__control:checked~label.sk-toggleable__label {background-color: #d4ebff;}div.sk-label input.sk-toggleable__control:checked~label.sk-toggleable__label {background-color: #d4ebff;}input.sk-hidden--visually {border: 0;clip: rect(1px 1px 1px 1px);clip: rect(1px, 1px, 1px, 1px);height: 1px;margin: -1px;overflow: hidden;padding: 0;position: absolute;width: 1px;}div.sk-estimator {font-family: monospace;background-color: #f0f8ff;margin: 0.25em 0.25em;border: 1px dotted black;border-radius: 0.25em;box-sizing: border-box;}div.sk-estimator:hover {background-color: #d4ebff;}div.sk-parallel-item::after {content: \"\";width: 100%;border-bottom: 1px solid gray;flex-grow: 1;}div.sk-label:hover label.sk-toggleable__label {background-color: #d4ebff;}div.sk-serial::before {content: \"\";position: absolute;border-left: 1px solid gray;box-sizing: border-box;top: 2em;bottom: 0;left: 50%;}div.sk-serial {display: flex;flex-direction: column;align-items: center;background-color: white;}div.sk-item {z-index: 1;}div.sk-parallel {display: flex;align-items: stretch;justify-content: center;background-color: white;}div.sk-parallel-item {display: flex;flex-direction: column;position: relative;background-color: white;}div.sk-parallel-item:first-child::after {align-self: flex-end;width: 50%;}div.sk-parallel-item:last-child::after {align-self: flex-start;width: 50%;}div.sk-parallel-item:only-child::after {width: 0;}div.sk-dashed-wrapped {border: 1px dashed gray;margin: 0.2em;box-sizing: border-box;padding-bottom: 0.1em;background-color: white;position: relative;}div.sk-label label {font-family: monospace;font-weight: bold;background-color: white;display: inline-block;line-height: 1.2em;}div.sk-label-container {position: relative;z-index: 2;text-align: center;}div.sk-container {display: inline-block;position: relative;}</style><div class=\"sk-top-container\"><div class=\"sk-container\"><div class=\"sk-item sk-dashed-wrapped\"><div class=\"sk-label-container\"><div class=\"sk-label sk-toggleable\"><input class=\"sk-toggleable__control sk-hidden--visually\" id=\"2591fc97-38bb-4536-9146-8a5347a91c1b\" type=\"checkbox\" ><label class=\"sk-toggleable__label\" for=\"2591fc97-38bb-4536-9146-8a5347a91c1b\">Pipeline</label><div class=\"sk-toggleable__content\"><pre>Pipeline(steps=[('preprocessor',\n",
       "                 ColumnTransformer(transformers=[('num',\n",
       "                                                  Pipeline(steps=[('iqr_clip',\n",
       "                                                                   IQRClipper(columns=['amount_tsh',\n",
       "                                                                                       'gps_height',\n",
       "                                                                                       'longitude',\n",
       "                                                                                       'latitude',\n",
       "                                                                                       'population',\n",
       "                                                                                       'wpt_name_freq',\n",
       "                                                                                       'subvillage_freq',\n",
       "                                                                                       'scheme_name_freq',\n",
       "                                                                                       'installer_freq',\n",
       "                                                                                       'ward_freq',\n",
       "                                                                                       'funder_freq',\n",
       "                                                                                       'lga_freq',\n",
       "                                                                                       'region_freq',\n",
       "                                                                                       'management_freq'])),\n",
       "                                                                  ('imputer',\n",
       "                                                                   SimpleImputer(st...\n",
       "                                                   'quality_group', 'quantity',\n",
       "                                                   'source_type',\n",
       "                                                   'source_class',\n",
       "                                                   'waterpoint_type',\n",
       "                                                   'status_group']),\n",
       "                                                 ('bool',\n",
       "                                                  Pipeline(steps=[('imputer',\n",
       "                                                                   SimpleImputer(strategy='most_frequent'))]),\n",
       "                                                  ['public_meeting', 'permit',\n",
       "                                                   'quantity_match',\n",
       "                                                   'extraction_mismatch',\n",
       "                                                   'amount_tsh_was_outlier',\n",
       "                                                   'population_was_outlier',\n",
       "                                                   'gps_height_was_outlier',\n",
       "                                                   'longitude_was_outlier',\n",
       "                                                   'latitude_was_outlier'])]))])</pre></div></div></div><div class=\"sk-serial\"><div class=\"sk-item sk-dashed-wrapped\"><div class=\"sk-label-container\"><div class=\"sk-label sk-toggleable\"><input class=\"sk-toggleable__control sk-hidden--visually\" id=\"31b937ca-7ffc-493e-ac45-533c4c1ad8f5\" type=\"checkbox\" ><label class=\"sk-toggleable__label\" for=\"31b937ca-7ffc-493e-ac45-533c4c1ad8f5\">preprocessor: ColumnTransformer</label><div class=\"sk-toggleable__content\"><pre>ColumnTransformer(transformers=[('num',\n",
       "                                 Pipeline(steps=[('iqr_clip',\n",
       "                                                  IQRClipper(columns=['amount_tsh',\n",
       "                                                                      'gps_height',\n",
       "                                                                      'longitude',\n",
       "                                                                      'latitude',\n",
       "                                                                      'population',\n",
       "                                                                      'wpt_name_freq',\n",
       "                                                                      'subvillage_freq',\n",
       "                                                                      'scheme_name_freq',\n",
       "                                                                      'installer_freq',\n",
       "                                                                      'ward_freq',\n",
       "                                                                      'funder_freq',\n",
       "                                                                      'lga_freq',\n",
       "                                                                      'region_freq',\n",
       "                                                                      'management_freq'])),\n",
       "                                                 ('imputer',\n",
       "                                                  SimpleImputer(strategy='median')),\n",
       "                                                 ('scaler', Stan...\n",
       "                                  'water_quality', 'quality_group', 'quantity',\n",
       "                                  'source_type', 'source_class',\n",
       "                                  'waterpoint_type', 'status_group']),\n",
       "                                ('bool',\n",
       "                                 Pipeline(steps=[('imputer',\n",
       "                                                  SimpleImputer(strategy='most_frequent'))]),\n",
       "                                 ['public_meeting', 'permit', 'quantity_match',\n",
       "                                  'extraction_mismatch',\n",
       "                                  'amount_tsh_was_outlier',\n",
       "                                  'population_was_outlier',\n",
       "                                  'gps_height_was_outlier',\n",
       "                                  'longitude_was_outlier',\n",
       "                                  'latitude_was_outlier'])])</pre></div></div></div><div class=\"sk-parallel\"><div class=\"sk-parallel-item\"><div class=\"sk-item\"><div class=\"sk-label-container\"><div class=\"sk-label sk-toggleable\"><input class=\"sk-toggleable__control sk-hidden--visually\" id=\"8d8f1e0a-ce51-4642-981f-5c1189bc7d9d\" type=\"checkbox\" ><label class=\"sk-toggleable__label\" for=\"8d8f1e0a-ce51-4642-981f-5c1189bc7d9d\">num</label><div class=\"sk-toggleable__content\"><pre>['amount_tsh', 'gps_height', 'longitude', 'latitude', 'region_code', 'district_code', 'population', 'wpt_name_freq', 'subvillage_freq', 'scheme_name_freq', 'installer_freq', 'ward_freq', 'funder_freq', 'lga_freq', 'region_freq', 'management_freq', 'amount_tsh_before_clip', 'population_before_clip', 'gps_height_before_clip', 'longitude_before_clip', 'latitude_before_clip']</pre></div></div></div><div class=\"sk-serial\"><div class=\"sk-item\"><div class=\"sk-serial\"><div class=\"sk-item\"><div class=\"sk-estimator sk-toggleable\"><input class=\"sk-toggleable__control sk-hidden--visually\" id=\"62ae42b9-e22e-47d4-b10e-2fe1a14b632f\" type=\"checkbox\" ><label class=\"sk-toggleable__label\" for=\"62ae42b9-e22e-47d4-b10e-2fe1a14b632f\">IQRClipper</label><div class=\"sk-toggleable__content\"><pre>IQRClipper(columns=['amount_tsh', 'gps_height', 'longitude', 'latitude',\n",
       "                    'population', 'wpt_name_freq', 'subvillage_freq',\n",
       "                    'scheme_name_freq', 'installer_freq', 'ward_freq',\n",
       "                    'funder_freq', 'lga_freq', 'region_freq',\n",
       "                    'management_freq'])</pre></div></div></div><div class=\"sk-item\"><div class=\"sk-estimator sk-toggleable\"><input class=\"sk-toggleable__control sk-hidden--visually\" id=\"72538a07-2224-47c9-8c8a-4831c89ccd4d\" type=\"checkbox\" ><label class=\"sk-toggleable__label\" for=\"72538a07-2224-47c9-8c8a-4831c89ccd4d\">SimpleImputer</label><div class=\"sk-toggleable__content\"><pre>SimpleImputer(strategy='median')</pre></div></div></div><div class=\"sk-item\"><div class=\"sk-estimator sk-toggleable\"><input class=\"sk-toggleable__control sk-hidden--visually\" id=\"06532d8a-bcb1-4a16-b777-ba7d43ff535c\" type=\"checkbox\" ><label class=\"sk-toggleable__label\" for=\"06532d8a-bcb1-4a16-b777-ba7d43ff535c\">StandardScaler</label><div class=\"sk-toggleable__content\"><pre>StandardScaler()</pre></div></div></div></div></div></div></div></div><div class=\"sk-parallel-item\"><div class=\"sk-item\"><div class=\"sk-label-container\"><div class=\"sk-label sk-toggleable\"><input class=\"sk-toggleable__control sk-hidden--visually\" id=\"5b64a229-ae31-4895-a53a-10cc9eed0052\" type=\"checkbox\" ><label class=\"sk-toggleable__label\" for=\"5b64a229-ae31-4895-a53a-10cc9eed0052\">cat</label><div class=\"sk-toggleable__content\"><pre>['funder', 'installer', 'wpt_name', 'basin', 'subvillage', 'region', 'lga', 'ward', 'scheme_management', 'scheme_name', 'extraction_type_class', 'management', 'management_group', 'payment_type', 'water_quality', 'quality_group', 'quantity', 'source_type', 'source_class', 'waterpoint_type', 'status_group']</pre></div></div></div><div class=\"sk-serial\"><div class=\"sk-item\"><div class=\"sk-serial\"><div class=\"sk-item\"><div class=\"sk-estimator sk-toggleable\"><input class=\"sk-toggleable__control sk-hidden--visually\" id=\"5566d429-7cd5-46a9-883d-4f4bdd5bd9a4\" type=\"checkbox\" ><label class=\"sk-toggleable__label\" for=\"5566d429-7cd5-46a9-883d-4f4bdd5bd9a4\">SimpleImputer</label><div class=\"sk-toggleable__content\"><pre>SimpleImputer(strategy='most_frequent')</pre></div></div></div><div class=\"sk-item\"><div class=\"sk-estimator sk-toggleable\"><input class=\"sk-toggleable__control sk-hidden--visually\" id=\"c73b2fef-7941-4785-afba-85e9af91ceeb\" type=\"checkbox\" ><label class=\"sk-toggleable__label\" for=\"c73b2fef-7941-4785-afba-85e9af91ceeb\">OneHotEncoder</label><div class=\"sk-toggleable__content\"><pre>OneHotEncoder(handle_unknown='ignore')</pre></div></div></div></div></div></div></div></div><div class=\"sk-parallel-item\"><div class=\"sk-item\"><div class=\"sk-label-container\"><div class=\"sk-label sk-toggleable\"><input class=\"sk-toggleable__control sk-hidden--visually\" id=\"63b30210-db36-495d-92ff-0ed2ee49a1a8\" type=\"checkbox\" ><label class=\"sk-toggleable__label\" for=\"63b30210-db36-495d-92ff-0ed2ee49a1a8\">bool</label><div class=\"sk-toggleable__content\"><pre>['public_meeting', 'permit', 'quantity_match', 'extraction_mismatch', 'amount_tsh_was_outlier', 'population_was_outlier', 'gps_height_was_outlier', 'longitude_was_outlier', 'latitude_was_outlier']</pre></div></div></div><div class=\"sk-serial\"><div class=\"sk-item\"><div class=\"sk-serial\"><div class=\"sk-item\"><div class=\"sk-estimator sk-toggleable\"><input class=\"sk-toggleable__control sk-hidden--visually\" id=\"60b44ca6-7833-44af-b828-ebe4bba9496a\" type=\"checkbox\" ><label class=\"sk-toggleable__label\" for=\"60b44ca6-7833-44af-b828-ebe4bba9496a\">SimpleImputer</label><div class=\"sk-toggleable__content\"><pre>SimpleImputer(strategy='most_frequent')</pre></div></div></div></div></div></div></div></div></div></div></div></div></div></div>"
      ],
      "text/plain": [
       "Pipeline(steps=[('preprocessor',\n",
       "                 ColumnTransformer(transformers=[('num',\n",
       "                                                  Pipeline(steps=[('iqr_clip',\n",
       "                                                                   IQRClipper(columns=['amount_tsh',\n",
       "                                                                                       'gps_height',\n",
       "                                                                                       'longitude',\n",
       "                                                                                       'latitude',\n",
       "                                                                                       'population',\n",
       "                                                                                       'wpt_name_freq',\n",
       "                                                                                       'subvillage_freq',\n",
       "                                                                                       'scheme_name_freq',\n",
       "                                                                                       'installer_freq',\n",
       "                                                                                       'ward_freq',\n",
       "                                                                                       'funder_freq',\n",
       "                                                                                       'lga_freq',\n",
       "                                                                                       'region_freq',\n",
       "                                                                                       'management_freq'])),\n",
       "                                                                  ('imputer',\n",
       "                                                                   SimpleImputer(st...\n",
       "                                                   'quality_group', 'quantity',\n",
       "                                                   'source_type',\n",
       "                                                   'source_class',\n",
       "                                                   'waterpoint_type',\n",
       "                                                   'status_group']),\n",
       "                                                 ('bool',\n",
       "                                                  Pipeline(steps=[('imputer',\n",
       "                                                                   SimpleImputer(strategy='most_frequent'))]),\n",
       "                                                  ['public_meeting', 'permit',\n",
       "                                                   'quantity_match',\n",
       "                                                   'extraction_mismatch',\n",
       "                                                   'amount_tsh_was_outlier',\n",
       "                                                   'population_was_outlier',\n",
       "                                                   'gps_height_was_outlier',\n",
       "                                                   'longitude_was_outlier',\n",
       "                                                   'latitude_was_outlier'])]))])"
      ]
     },
     "execution_count": 70,
     "metadata": {},
     "output_type": "execute_result"
    }
   ],
   "source": [
    "from sklearn import set_config\n",
    "set_config(display='diagram')\n",
    "final_pipeline"
   ]
  },
  {
   "cell_type": "code",
   "execution_count": 71,
   "id": "8af4cc2f",
   "metadata": {},
   "outputs": [
    {
     "name": "stdout",
     "output_type": "stream",
     "text": [
      "Cleaned dataset saved successfully to: ../data/processed/cleaned_merged_data.csv\n"
     ]
    }
   ],
   "source": [
    "# Save the cleaned data to CSV\n",
    "df_train_cleaned.to_csv(\"../data/processed/cleaned_merged_data.csv\", index=False)\n",
    "print(\"Cleaned dataset saved successfully to: ../data/processed/cleaned_merged_data.csv\")"
   ]
  }
 ],
 "metadata": {
  "kernelspec": {
   "display_name": "base",
   "language": "python",
   "name": "python3"
  },
  "language_info": {
   "codemirror_mode": {
    "name": "ipython",
    "version": 3
   },
   "file_extension": ".py",
   "mimetype": "text/x-python",
   "name": "python",
   "nbconvert_exporter": "python",
   "pygments_lexer": "ipython3",
   "version": "3.8.8"
  }
 },
 "nbformat": 4,
 "nbformat_minor": 5
}
