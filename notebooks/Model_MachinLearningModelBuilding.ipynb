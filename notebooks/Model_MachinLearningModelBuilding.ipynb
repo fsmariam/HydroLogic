{
 "cells": [
  {
   "cell_type": "code",
   "execution_count": null,
   "id": "776c6e48",
   "metadata": {},
   "outputs": [],
   "source": [
    "import pandas as pd\n",
    "\n",
    "pomp_file_path = '../data/raw/cleaned_pomp_data.csv'\n",
    "pomp_data = pd.read_csv(pomp_file_path) \n",
    "pomp_data.columns"
   ]
  },
  {
   "cell_type": "markdown",
   "id": "1a813778",
   "metadata": {},
   "source": [
    "# Selecting Data for the Model"
   ]
  },
  {
   "cell_type": "code",
   "execution_count": null,
   "id": "d2be6217",
   "metadata": {},
   "outputs": [],
   "source": [
    "# define the target\n",
    "y = pomp_data.status_group"
   ]
  },
  {
   "cell_type": "code",
   "execution_count": null,
   "id": "e1ffba3f",
   "metadata": {},
   "outputs": [],
   "source": [
    "# The columns that are inputted into our model (and later used to make predictions) \n",
    "pomp_features = ['','']"
   ]
  },
  {
   "cell_type": "code",
   "execution_count": null,
   "id": "4bfa499b",
   "metadata": {},
   "outputs": [],
   "source": [
    "# By convention, this data is called X\n",
    "X = pomp_data[pomp_features]"
   ]
  },
  {
   "cell_type": "code",
   "execution_count": null,
   "id": "8c7c83fc",
   "metadata": {},
   "outputs": [],
   "source": [
    "X.describe()"
   ]
  },
  {
   "cell_type": "code",
   "execution_count": null,
   "id": "afef56af",
   "metadata": {},
   "outputs": [],
   "source": [
    "X.head()"
   ]
  },
  {
   "cell_type": "markdown",
   "id": "812d6741",
   "metadata": {},
   "source": [
    "# Building the Model"
   ]
  },
  {
   "cell_type": "code",
   "execution_count": null,
   "id": "8b93291b",
   "metadata": {},
   "outputs": [],
   "source": [
    "from sklearn.tree import DecisionTreeRegressor\n",
    "\n",
    "# Define model. Specify a number for random_state to ensure same results each run\n",
    "pomp_model = DecisionTreeRegressor(random_state=1)\n",
    "\n",
    "# Fit model\n",
    "pomp_model.fit(X, y)"
   ]
  },
  {
   "cell_type": "code",
   "execution_count": null,
   "id": "8baca975",
   "metadata": {},
   "outputs": [],
   "source": [
    "print(\"Making predictions for functionality of the pomps:\")\n",
    "print(X.head())\n",
    "print(\"The predictions are\")\n",
    "print(pomp_model.predict(X.head()))"
   ]
  }
 ],
 "metadata": {
  "language_info": {
   "name": "python"
  }
 },
 "nbformat": 4,
 "nbformat_minor": 5
}
