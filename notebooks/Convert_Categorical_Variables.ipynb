{
 "cells": [
  {
   "cell_type": "markdown",
   "id": "9787afa7",
   "metadata": {},
   "source": [
    "# Imports"
   ]
  },
  {
   "cell_type": "code",
   "execution_count": 139,
   "id": "7a46427f",
   "metadata": {},
   "outputs": [],
   "source": [
    "# Imports\n",
    "import pandas as pd\n",
    "import numpy as np\n",
    "import matplotlib.pyplot as plt\n",
    "import seaborn as sns\n",
    "\n",
    "from scipy import stats\n",
    "import math\n",
    "\n",
    "import datetime\n",
    "\n",
    "from sklearn.impute import SimpleImputer\n",
    "from sklearn.preprocessing import StandardScaler\n",
    "from sklearn.base import BaseEstimator, TransformerMixin\n",
    "from sklearn.pipeline import Pipeline\n",
    "from sklearn.preprocessing import StandardScaler\n",
    "\n",
    "import joblib\n"
   ]
  },
  {
   "cell_type": "markdown",
   "id": "6005d68d",
   "metadata": {},
   "source": [
    "# Read Merged Data\n",
    "\n"
   ]
  },
  {
   "cell_type": "code",
   "execution_count": 140,
   "id": "8022480d",
   "metadata": {},
   "outputs": [],
   "source": [
    "url_merge_data = \"https://raw.githubusercontent.com/fsmariam/HydroLogic/refs/heads/main/data/processed/Merged_Training_Set.csv\"\n",
    "df_train = pd.read_csv(url_merge_data)"
   ]
  },
  {
   "cell_type": "code",
   "execution_count": 141,
   "id": "724c9576",
   "metadata": {},
   "outputs": [
    {
     "data": {
      "text/html": [
       "<div>\n",
       "<style scoped>\n",
       "    .dataframe tbody tr th:only-of-type {\n",
       "        vertical-align: middle;\n",
       "    }\n",
       "\n",
       "    .dataframe tbody tr th {\n",
       "        vertical-align: top;\n",
       "    }\n",
       "\n",
       "    .dataframe thead th {\n",
       "        text-align: right;\n",
       "    }\n",
       "</style>\n",
       "<table border=\"1\" class=\"dataframe\">\n",
       "  <thead>\n",
       "    <tr style=\"text-align: right;\">\n",
       "      <th></th>\n",
       "      <th>id</th>\n",
       "      <th>amount_tsh</th>\n",
       "      <th>date_recorded</th>\n",
       "      <th>funder</th>\n",
       "      <th>gps_height</th>\n",
       "      <th>installer</th>\n",
       "      <th>longitude</th>\n",
       "      <th>latitude</th>\n",
       "      <th>wpt_name</th>\n",
       "      <th>num_private</th>\n",
       "      <th>...</th>\n",
       "      <th>water_quality</th>\n",
       "      <th>quality_group</th>\n",
       "      <th>quantity</th>\n",
       "      <th>quantity_group</th>\n",
       "      <th>source</th>\n",
       "      <th>source_type</th>\n",
       "      <th>source_class</th>\n",
       "      <th>waterpoint_type</th>\n",
       "      <th>waterpoint_type_group</th>\n",
       "      <th>status_group</th>\n",
       "    </tr>\n",
       "  </thead>\n",
       "  <tbody>\n",
       "    <tr>\n",
       "      <th>0</th>\n",
       "      <td>69572</td>\n",
       "      <td>6000.0</td>\n",
       "      <td>2011-03-14</td>\n",
       "      <td>Roman</td>\n",
       "      <td>1390</td>\n",
       "      <td>Roman</td>\n",
       "      <td>34.938093</td>\n",
       "      <td>-9.856322</td>\n",
       "      <td>none</td>\n",
       "      <td>0</td>\n",
       "      <td>...</td>\n",
       "      <td>soft</td>\n",
       "      <td>good</td>\n",
       "      <td>enough</td>\n",
       "      <td>enough</td>\n",
       "      <td>spring</td>\n",
       "      <td>spring</td>\n",
       "      <td>groundwater</td>\n",
       "      <td>communal standpipe</td>\n",
       "      <td>communal standpipe</td>\n",
       "      <td>functional</td>\n",
       "    </tr>\n",
       "    <tr>\n",
       "      <th>1</th>\n",
       "      <td>8776</td>\n",
       "      <td>0.0</td>\n",
       "      <td>2013-03-06</td>\n",
       "      <td>Grumeti</td>\n",
       "      <td>1399</td>\n",
       "      <td>GRUMETI</td>\n",
       "      <td>34.698766</td>\n",
       "      <td>-2.147466</td>\n",
       "      <td>Zahanati</td>\n",
       "      <td>0</td>\n",
       "      <td>...</td>\n",
       "      <td>soft</td>\n",
       "      <td>good</td>\n",
       "      <td>insufficient</td>\n",
       "      <td>insufficient</td>\n",
       "      <td>rainwater harvesting</td>\n",
       "      <td>rainwater harvesting</td>\n",
       "      <td>surface</td>\n",
       "      <td>communal standpipe</td>\n",
       "      <td>communal standpipe</td>\n",
       "      <td>functional</td>\n",
       "    </tr>\n",
       "    <tr>\n",
       "      <th>2</th>\n",
       "      <td>34310</td>\n",
       "      <td>25.0</td>\n",
       "      <td>2013-02-25</td>\n",
       "      <td>Lottery Club</td>\n",
       "      <td>686</td>\n",
       "      <td>World vision</td>\n",
       "      <td>37.460664</td>\n",
       "      <td>-3.821329</td>\n",
       "      <td>Kwa Mahundi</td>\n",
       "      <td>0</td>\n",
       "      <td>...</td>\n",
       "      <td>soft</td>\n",
       "      <td>good</td>\n",
       "      <td>enough</td>\n",
       "      <td>enough</td>\n",
       "      <td>dam</td>\n",
       "      <td>dam</td>\n",
       "      <td>surface</td>\n",
       "      <td>communal standpipe multiple</td>\n",
       "      <td>communal standpipe</td>\n",
       "      <td>functional</td>\n",
       "    </tr>\n",
       "    <tr>\n",
       "      <th>3</th>\n",
       "      <td>67743</td>\n",
       "      <td>0.0</td>\n",
       "      <td>2013-01-28</td>\n",
       "      <td>Unicef</td>\n",
       "      <td>263</td>\n",
       "      <td>UNICEF</td>\n",
       "      <td>38.486161</td>\n",
       "      <td>-11.155298</td>\n",
       "      <td>Zahanati Ya Nanyumbu</td>\n",
       "      <td>0</td>\n",
       "      <td>...</td>\n",
       "      <td>soft</td>\n",
       "      <td>good</td>\n",
       "      <td>dry</td>\n",
       "      <td>dry</td>\n",
       "      <td>machine dbh</td>\n",
       "      <td>borehole</td>\n",
       "      <td>groundwater</td>\n",
       "      <td>communal standpipe multiple</td>\n",
       "      <td>communal standpipe</td>\n",
       "      <td>non functional</td>\n",
       "    </tr>\n",
       "    <tr>\n",
       "      <th>4</th>\n",
       "      <td>19728</td>\n",
       "      <td>0.0</td>\n",
       "      <td>2011-07-13</td>\n",
       "      <td>Action In A</td>\n",
       "      <td>0</td>\n",
       "      <td>Artisan</td>\n",
       "      <td>31.130847</td>\n",
       "      <td>-1.825359</td>\n",
       "      <td>Shuleni</td>\n",
       "      <td>0</td>\n",
       "      <td>...</td>\n",
       "      <td>soft</td>\n",
       "      <td>good</td>\n",
       "      <td>seasonal</td>\n",
       "      <td>seasonal</td>\n",
       "      <td>rainwater harvesting</td>\n",
       "      <td>rainwater harvesting</td>\n",
       "      <td>surface</td>\n",
       "      <td>communal standpipe</td>\n",
       "      <td>communal standpipe</td>\n",
       "      <td>functional</td>\n",
       "    </tr>\n",
       "  </tbody>\n",
       "</table>\n",
       "<p>5 rows × 41 columns</p>\n",
       "</div>"
      ],
      "text/plain": [
       "      id  amount_tsh date_recorded        funder  gps_height     installer  \\\n",
       "0  69572      6000.0    2011-03-14         Roman        1390         Roman   \n",
       "1   8776         0.0    2013-03-06       Grumeti        1399       GRUMETI   \n",
       "2  34310        25.0    2013-02-25  Lottery Club         686  World vision   \n",
       "3  67743         0.0    2013-01-28        Unicef         263        UNICEF   \n",
       "4  19728         0.0    2011-07-13   Action In A           0       Artisan   \n",
       "\n",
       "   longitude   latitude              wpt_name  num_private  ... water_quality  \\\n",
       "0  34.938093  -9.856322                  none            0  ...          soft   \n",
       "1  34.698766  -2.147466              Zahanati            0  ...          soft   \n",
       "2  37.460664  -3.821329           Kwa Mahundi            0  ...          soft   \n",
       "3  38.486161 -11.155298  Zahanati Ya Nanyumbu            0  ...          soft   \n",
       "4  31.130847  -1.825359               Shuleni            0  ...          soft   \n",
       "\n",
       "  quality_group      quantity  quantity_group                source  \\\n",
       "0          good        enough          enough                spring   \n",
       "1          good  insufficient    insufficient  rainwater harvesting   \n",
       "2          good        enough          enough                   dam   \n",
       "3          good           dry             dry           machine dbh   \n",
       "4          good      seasonal        seasonal  rainwater harvesting   \n",
       "\n",
       "            source_type source_class              waterpoint_type  \\\n",
       "0                spring  groundwater           communal standpipe   \n",
       "1  rainwater harvesting      surface           communal standpipe   \n",
       "2                   dam      surface  communal standpipe multiple   \n",
       "3              borehole  groundwater  communal standpipe multiple   \n",
       "4  rainwater harvesting      surface           communal standpipe   \n",
       "\n",
       "  waterpoint_type_group    status_group  \n",
       "0    communal standpipe      functional  \n",
       "1    communal standpipe      functional  \n",
       "2    communal standpipe      functional  \n",
       "3    communal standpipe  non functional  \n",
       "4    communal standpipe      functional  \n",
       "\n",
       "[5 rows x 41 columns]"
      ]
     },
     "execution_count": 141,
     "metadata": {},
     "output_type": "execute_result"
    }
   ],
   "source": [
    "df_train.head()\n"
   ]
  },
  {
   "cell_type": "markdown",
   "id": "1734a6bf",
   "metadata": {},
   "source": [
    "# Convert Categorical Variables to Appropriate Formats"
   ]
  },
  {
   "cell_type": "markdown",
   "id": "ede4e4fd",
   "metadata": {},
   "source": [
    "Categorical variables fall into two types:\n",
    "- Low Cardinality: (Few unique values, and Good candidates for One-Hot Encoding)\n",
    "- High Cardinality: (Many unique values, and Good to Use for Label Encoding, Frequency Encoding, or Target Encoding)"
   ]
  },
  {
   "cell_type": "code",
   "execution_count": 142,
   "id": "a4cb3fef",
   "metadata": {},
   "outputs": [
    {
     "name": "stdout",
     "output_type": "stream",
     "text": [
      "wpt_name                 37399\n",
      "subvillage               19287\n",
      "scheme_name               2695\n",
      "installer                 2145\n",
      "ward                      2092\n",
      "funder                    1896\n",
      "date_recorded              356\n",
      "lga                        125\n",
      "region                      21\n",
      "extraction_type             18\n",
      "extraction_type_group       13\n",
      "management                  12\n",
      "scheme_management           11\n",
      "source                      10\n",
      "basin                        9\n",
      "water_quality                8\n",
      "extraction_type_class        7\n",
      "payment                      7\n",
      "payment_type                 7\n",
      "source_type                  7\n",
      "waterpoint_type              7\n",
      "quality_group                6\n",
      "waterpoint_type_group        6\n",
      "management_group             5\n",
      "quantity                     5\n",
      "quantity_group               5\n",
      "source_class                 3\n",
      "status_group                 3\n",
      "public_meeting               2\n",
      "permit                       2\n",
      "recorded_by                  1\n",
      "dtype: int64\n"
     ]
    }
   ],
   "source": [
    "# Summary of categorical columns\n",
    "cat_summary = df_train.select_dtypes(include='object').nunique().sort_values(ascending=False)\n",
    "print(cat_summary)\n"
   ]
  },
  {
   "cell_type": "markdown",
   "id": "76c5df3a",
   "metadata": {},
   "source": [
    "## Define Encoding Strategy\n",
    "- High Cardinality: use the frequency or lable strategy, keeps dimensionality low\n",
    "(wpt_name, subvillage, scheme_name, ward, date_recorded, lga, region, extraction_type, extraction_type_group, management, installer, funder, scheme_management)\n",
    "\n",
    "- Low Cardinality: one-Hot Encoding strategy, preffered for non-ordinal categories\n",
    "(source, basin, water_quality, source_type, waterpoint_type, extraction_type_class, payment_type, payment, quality_group, waterpoint_type_group, quantity, quantity_group, management_group, source_class, status_group)\n",
    "\n",
    "- Boolean-like string, Map to 0/1. \n",
    "(permit or public_meeting)"
   ]
  },
  {
   "cell_type": "markdown",
   "id": "c384d763",
   "metadata": {},
   "source": [
    "## Implement Encoding"
   ]
  },
  {
   "cell_type": "code",
   "execution_count": 143,
   "id": "4370d6cf",
   "metadata": {},
   "outputs": [],
   "source": [
    "# Create a copy for encoding\n",
    "df_encoded = df_train.copy()"
   ]
  },
  {
   "cell_type": "markdown",
   "id": "41b7eef3",
   "metadata": {},
   "source": [
    "## One-Hot Encode Low Cardinality Columns"
   ]
  },
  {
   "cell_type": "code",
   "execution_count": 144,
   "id": "8b6b9f3e",
   "metadata": {},
   "outputs": [
    {
     "name": "stdout",
     "output_type": "stream",
     "text": [
      "Total new shape: (59400, 106)\n",
      "First few column names: ['id', 'amount_tsh', 'date_recorded', 'funder', 'gps_height', 'installer', 'longitude', 'latitude', 'wpt_name', 'num_private']\n"
     ]
    }
   ],
   "source": [
    "# Identify all categorical columns\n",
    "cat_columns = df_encoded.select_dtypes(include='object').columns.tolist()\n",
    "\n",
    "# Count unique values to understand cardinality\n",
    "cat_uniques = df_encoded[cat_columns].nunique()\n",
    "\n",
    "# Select low cardinality columns (2–10 unique values)\n",
    "low_card_cols = cat_uniques[(cat_uniques <= 10) & (cat_uniques > 1)].index.tolist()\n",
    "\n",
    "# Apply one-hot encoding\n",
    "df_encoded = pd.get_dummies(df_encoded, columns=low_card_cols, drop_first=True)\n",
    "\n",
    "# Preview result\n",
    "print(f\"Total new shape: {df_encoded.shape}\")\n",
    "print(\"First few column names:\", df_encoded.columns[:10].tolist())"
   ]
  },
  {
   "cell_type": "markdown",
   "id": "a510d97d",
   "metadata": {},
   "source": [
    "## Frequency Encode High Cardinality Columns"
   ]
  },
  {
   "cell_type": "code",
   "execution_count": 145,
   "id": "47b4012e",
   "metadata": {},
   "outputs": [],
   "source": [
    "# Re-identify remaining categorical columns\n",
    "remaining_cat_cols = df_encoded.select_dtypes(include='object').columns.tolist()\n",
    "\n",
    "# Recalculate high cardinality columns (more than 10 unique values)\n",
    "cat_uniques = df_encoded[remaining_cat_cols].nunique()\n",
    "high_card_cols = cat_uniques[cat_uniques > 10].index.tolist()\n",
    "\n",
    "# Apply frequency encoding\n",
    "for col in high_card_cols:\n",
    "    freq_map = df_encoded[col].value_counts().to_dict()\n",
    "    df_encoded[col + '_freq'] = df_encoded[col].map(freq_map)"
   ]
  },
  {
   "cell_type": "code",
   "execution_count": 146,
   "id": "c8e0a83e",
   "metadata": {},
   "outputs": [
    {
     "name": "stdout",
     "output_type": "stream",
     "text": [
      "Final encoded shape: (59400, 119)\n"
     ]
    },
    {
     "data": {
      "text/html": [
       "<div>\n",
       "<style scoped>\n",
       "    .dataframe tbody tr th:only-of-type {\n",
       "        vertical-align: middle;\n",
       "    }\n",
       "\n",
       "    .dataframe tbody tr th {\n",
       "        vertical-align: top;\n",
       "    }\n",
       "\n",
       "    .dataframe thead th {\n",
       "        text-align: right;\n",
       "    }\n",
       "</style>\n",
       "<table border=\"1\" class=\"dataframe\">\n",
       "  <thead>\n",
       "    <tr style=\"text-align: right;\">\n",
       "      <th></th>\n",
       "      <th>id</th>\n",
       "      <th>amount_tsh</th>\n",
       "      <th>date_recorded</th>\n",
       "      <th>funder</th>\n",
       "      <th>gps_height</th>\n",
       "      <th>installer</th>\n",
       "      <th>longitude</th>\n",
       "      <th>latitude</th>\n",
       "      <th>wpt_name</th>\n",
       "      <th>num_private</th>\n",
       "      <th>...</th>\n",
       "      <th>wpt_name_freq</th>\n",
       "      <th>subvillage_freq</th>\n",
       "      <th>region_freq</th>\n",
       "      <th>lga_freq</th>\n",
       "      <th>ward_freq</th>\n",
       "      <th>scheme_management_freq</th>\n",
       "      <th>scheme_name_freq</th>\n",
       "      <th>extraction_type_freq</th>\n",
       "      <th>extraction_type_group_freq</th>\n",
       "      <th>management_freq</th>\n",
       "    </tr>\n",
       "  </thead>\n",
       "  <tbody>\n",
       "    <tr>\n",
       "      <th>0</th>\n",
       "      <td>69572</td>\n",
       "      <td>6000.0</td>\n",
       "      <td>2011-03-14</td>\n",
       "      <td>Roman</td>\n",
       "      <td>1390</td>\n",
       "      <td>Roman</td>\n",
       "      <td>34.938093</td>\n",
       "      <td>-9.856322</td>\n",
       "      <td>none</td>\n",
       "      <td>0</td>\n",
       "      <td>...</td>\n",
       "      <td>3563.0</td>\n",
       "      <td>6.0</td>\n",
       "      <td>5294</td>\n",
       "      <td>564</td>\n",
       "      <td>36</td>\n",
       "      <td>36793.0</td>\n",
       "      <td>139.0</td>\n",
       "      <td>26780</td>\n",
       "      <td>26780</td>\n",
       "      <td>40507</td>\n",
       "    </tr>\n",
       "    <tr>\n",
       "      <th>1</th>\n",
       "      <td>8776</td>\n",
       "      <td>0.0</td>\n",
       "      <td>2013-03-06</td>\n",
       "      <td>Grumeti</td>\n",
       "      <td>1399</td>\n",
       "      <td>GRUMETI</td>\n",
       "      <td>34.698766</td>\n",
       "      <td>-2.147466</td>\n",
       "      <td>Zahanati</td>\n",
       "      <td>0</td>\n",
       "      <td>...</td>\n",
       "      <td>830.0</td>\n",
       "      <td>5.0</td>\n",
       "      <td>1969</td>\n",
       "      <td>716</td>\n",
       "      <td>71</td>\n",
       "      <td>766.0</td>\n",
       "      <td>NaN</td>\n",
       "      <td>26780</td>\n",
       "      <td>26780</td>\n",
       "      <td>6515</td>\n",
       "    </tr>\n",
       "    <tr>\n",
       "      <th>2</th>\n",
       "      <td>34310</td>\n",
       "      <td>25.0</td>\n",
       "      <td>2013-02-25</td>\n",
       "      <td>Lottery Club</td>\n",
       "      <td>686</td>\n",
       "      <td>World vision</td>\n",
       "      <td>37.460664</td>\n",
       "      <td>-3.821329</td>\n",
       "      <td>Kwa Mahundi</td>\n",
       "      <td>0</td>\n",
       "      <td>...</td>\n",
       "      <td>3.0</td>\n",
       "      <td>502.0</td>\n",
       "      <td>1583</td>\n",
       "      <td>308</td>\n",
       "      <td>10</td>\n",
       "      <td>36793.0</td>\n",
       "      <td>9.0</td>\n",
       "      <td>26780</td>\n",
       "      <td>26780</td>\n",
       "      <td>40507</td>\n",
       "    </tr>\n",
       "    <tr>\n",
       "      <th>3</th>\n",
       "      <td>67743</td>\n",
       "      <td>0.0</td>\n",
       "      <td>2013-01-28</td>\n",
       "      <td>Unicef</td>\n",
       "      <td>263</td>\n",
       "      <td>UNICEF</td>\n",
       "      <td>38.486161</td>\n",
       "      <td>-11.155298</td>\n",
       "      <td>Zahanati Ya Nanyumbu</td>\n",
       "      <td>0</td>\n",
       "      <td>...</td>\n",
       "      <td>1.0</td>\n",
       "      <td>17.0</td>\n",
       "      <td>1730</td>\n",
       "      <td>158</td>\n",
       "      <td>32</td>\n",
       "      <td>36793.0</td>\n",
       "      <td>NaN</td>\n",
       "      <td>4764</td>\n",
       "      <td>6179</td>\n",
       "      <td>40507</td>\n",
       "    </tr>\n",
       "    <tr>\n",
       "      <th>4</th>\n",
       "      <td>19728</td>\n",
       "      <td>0.0</td>\n",
       "      <td>2011-07-13</td>\n",
       "      <td>Action In A</td>\n",
       "      <td>0</td>\n",
       "      <td>Artisan</td>\n",
       "      <td>31.130847</td>\n",
       "      <td>-1.825359</td>\n",
       "      <td>Shuleni</td>\n",
       "      <td>0</td>\n",
       "      <td>...</td>\n",
       "      <td>1748.0</td>\n",
       "      <td>2.0</td>\n",
       "      <td>3316</td>\n",
       "      <td>771</td>\n",
       "      <td>13</td>\n",
       "      <td>NaN</td>\n",
       "      <td>NaN</td>\n",
       "      <td>26780</td>\n",
       "      <td>26780</td>\n",
       "      <td>844</td>\n",
       "    </tr>\n",
       "  </tbody>\n",
       "</table>\n",
       "<p>5 rows × 119 columns</p>\n",
       "</div>"
      ],
      "text/plain": [
       "      id  amount_tsh date_recorded        funder  gps_height     installer  \\\n",
       "0  69572      6000.0    2011-03-14         Roman        1390         Roman   \n",
       "1   8776         0.0    2013-03-06       Grumeti        1399       GRUMETI   \n",
       "2  34310        25.0    2013-02-25  Lottery Club         686  World vision   \n",
       "3  67743         0.0    2013-01-28        Unicef         263        UNICEF   \n",
       "4  19728         0.0    2011-07-13   Action In A           0       Artisan   \n",
       "\n",
       "   longitude   latitude              wpt_name  num_private  ... wpt_name_freq  \\\n",
       "0  34.938093  -9.856322                  none            0  ...        3563.0   \n",
       "1  34.698766  -2.147466              Zahanati            0  ...         830.0   \n",
       "2  37.460664  -3.821329           Kwa Mahundi            0  ...           3.0   \n",
       "3  38.486161 -11.155298  Zahanati Ya Nanyumbu            0  ...           1.0   \n",
       "4  31.130847  -1.825359               Shuleni            0  ...        1748.0   \n",
       "\n",
       "  subvillage_freq  region_freq  lga_freq ward_freq scheme_management_freq  \\\n",
       "0             6.0         5294       564        36                36793.0   \n",
       "1             5.0         1969       716        71                  766.0   \n",
       "2           502.0         1583       308        10                36793.0   \n",
       "3            17.0         1730       158        32                36793.0   \n",
       "4             2.0         3316       771        13                    NaN   \n",
       "\n",
       "   scheme_name_freq extraction_type_freq extraction_type_group_freq  \\\n",
       "0             139.0                26780                      26780   \n",
       "1               NaN                26780                      26780   \n",
       "2               9.0                26780                      26780   \n",
       "3               NaN                 4764                       6179   \n",
       "4               NaN                26780                      26780   \n",
       "\n",
       "  management_freq  \n",
       "0           40507  \n",
       "1            6515  \n",
       "2           40507  \n",
       "3           40507  \n",
       "4             844  \n",
       "\n",
       "[5 rows x 119 columns]"
      ]
     },
     "execution_count": 146,
     "metadata": {},
     "output_type": "execute_result"
    }
   ],
   "source": [
    "# Check result\n",
    "print(\"Final encoded shape:\", df_encoded.shape)\n",
    "df_encoded.head()"
   ]
  },
  {
   "cell_type": "markdown",
   "id": "06cb56c1",
   "metadata": {},
   "source": [
    "# Check for and Handle Outliers in Numerical Features"
   ]
  },
  {
   "cell_type": "markdown",
   "id": "310831ba",
   "metadata": {},
   "source": [
    "## Identify Numerical Columns"
   ]
  },
  {
   "cell_type": "code",
   "execution_count": 147,
   "id": "3c9a765b",
   "metadata": {},
   "outputs": [
    {
     "data": {
      "text/plain": [
       "['amount_tsh',\n",
       " 'gps_height',\n",
       " 'longitude',\n",
       " 'latitude',\n",
       " 'num_private',\n",
       " 'population',\n",
       " 'construction_year',\n",
       " 'date_recorded_freq',\n",
       " 'funder_freq',\n",
       " 'installer_freq',\n",
       " 'wpt_name_freq',\n",
       " 'subvillage_freq',\n",
       " 'region_freq',\n",
       " 'lga_freq',\n",
       " 'ward_freq',\n",
       " 'scheme_management_freq',\n",
       " 'scheme_name_freq',\n",
       " 'extraction_type_freq',\n",
       " 'extraction_type_group_freq',\n",
       " 'management_freq']"
      ]
     },
     "execution_count": 147,
     "metadata": {},
     "output_type": "execute_result"
    }
   ],
   "source": [
    "# Get numeric columns, but exclude ID or code-like columns\n",
    "numeric_cols = df_encoded.select_dtypes(include=['int64', 'float64']).columns.tolist()\n",
    "excluded = ['id', 'region_code', 'district_code']  # Don't plot these\n",
    "numeric_cols = [col for col in numeric_cols if col not in excluded]\n",
    "numeric_cols"
   ]
  },
  {
   "cell_type": "markdown",
   "id": "958627da",
   "metadata": {},
   "source": [
    "# Visualize Distributions"
   ]
  },
  {
   "cell_type": "code",
   "execution_count": 148,
   "id": "fe0a1f65",
   "metadata": {},
   "outputs": [
    {
     "data": {
      "image/png": "[encoded data removed]",
      "text/plain": [
       "<Figure size 576x144 with 1 Axes>"
      ]
     },
     "metadata": {
      "needs_background": "light"
     },
     "output_type": "display_data"
    },
    {
     "data": {
      "image/png": "[encoded data removed]",
      "text/plain": [
       "<Figure size 576x144 with 1 Axes>"
      ]
     },
     "metadata": {
      "needs_background": "light"
     },
     "output_type": "display_data"
    },
    {
     "data": {
      "image/png": "[encoded data removed]",
      "text/plain": [
       "<Figure size 576x144 with 1 Axes>"
      ]
     },
     "metadata": {
      "needs_background": "light"
     },
     "output_type": "display_data"
    },
    {
     "data": {
      "image/png": "[encoded data removed]",
      "text/plain": [
       "<Figure size 576x144 with 1 Axes>"
      ]
     },
     "metadata": {
      "needs_background": "light"
     },
     "output_type": "display_data"
    },
    {
     "data": {
      "image/png": "[encoded data removed]",
      "text/plain": [
       "<Figure size 576x144 with 1 Axes>"
      ]
     },
     "metadata": {
      "needs_background": "light"
     },
     "output_type": "display_data"
    },
    {
     "data": {
      "image/png": "[encoded data removed]",
      "text/plain": [
       "<Figure size 576x144 with 1 Axes>"
      ]
     },
     "metadata": {
      "needs_background": "light"
     },
     "output_type": "display_data"
    },
    {
     "data": {
      "image/png": "[encoded data removed]",
      "text/plain": [
       "<Figure size 576x144 with 1 Axes>"
      ]
     },
     "metadata": {
      "needs_background": "light"
     },
     "output_type": "display_data"
    },
    {
     "data": {
      "image/png": "[encoded data removed]",
      "text/plain": [
       "<Figure size 576x144 with 1 Axes>"
      ]
     },
     "metadata": {
      "needs_background": "light"
     },
     "output_type": "display_data"
    },
    {
     "data": {
      "image/png": "[encoded data removed]",
      "text/plain": [
       "<Figure size 576x144 with 1 Axes>"
      ]
     },
     "metadata": {
      "needs_background": "light"
     },
     "output_type": "display_data"
    },
    {
     "data": {
      "image/png": "[encoded data removed]",
      "text/plain": [
       "<Figure size 576x144 with 1 Axes>"
      ]
     },
     "metadata": {
      "needs_background": "light"
     },
     "output_type": "display_data"
    },
    {
     "data": {
      "image/png": "[encoded data removed]",
      "text/plain": [
       "<Figure size 576x144 with 1 Axes>"
      ]
     },
     "metadata": {
      "needs_background": "light"
     },
     "output_type": "display_data"
    },
    {
     "data": {
      "image/png": "[encoded data removed]",
      "text/plain": [
       "<Figure size 576x144 with 1 Axes>"
      ]
     },
     "metadata": {
      "needs_background": "light"
     },
     "output_type": "display_data"
    },
    {
     "data": {
      "image/png": "[encoded data removed]",
      "text/plain": [
       "<Figure size 576x144 with 1 Axes>"
      ]
     },
     "metadata": {
      "needs_background": "light"
     },
     "output_type": "display_data"
    },
    {
     "data": {
      "image/png": "[encoded data removed]",
      "text/plain": [
       "<Figure size 576x144 with 1 Axes>"
      ]
     },
     "metadata": {
      "needs_background": "light"
     },
     "output_type": "display_data"
    },
    {
     "data": {
      "image/png": "[encoded data removed]",
      "text/plain": [
       "<Figure size 576x144 with 1 Axes>"
      ]
     },
     "metadata": {
      "needs_background": "light"
     },
     "output_type": "display_data"
    },
    {
     "data": {
      "image/png": "[encoded data removed]",
      "text/plain": [
       "<Figure size 576x144 with 1 Axes>"
      ]
     },
     "metadata": {
      "needs_background": "light"
     },
     "output_type": "display_data"
    },
    {
     "data": {
      "image/png": "[encoded data removed]",
      "text/plain": [
       "<Figure size 576x144 with 1 Axes>"
      ]
     },
     "metadata": {
      "needs_background": "light"
     },
     "output_type": "display_data"
    },
    {
     "data": {
      "image/png": "[encoded data removed]",
      "text/plain": [
       "<Figure size 576x144 with 1 Axes>"
      ]
     },
     "metadata": {
      "needs_background": "light"
     },
     "output_type": "display_data"
    },
    {
     "data": {
      "image/png": "[encoded data removed]",
      "text/plain": [
       "<Figure size 576x144 with 1 Axes>"
      ]
     },
     "metadata": {
      "needs_background": "light"
     },
     "output_type": "display_data"
    },
    {
     "data": {
      "image/png": "[encoded data removed]",
      "text/plain": [
       "<Figure size 576x144 with 1 Axes>"
      ]
     },
     "metadata": {
      "needs_background": "light"
     },
     "output_type": "display_data"
    }
   ],
   "source": [
    "\n",
    "# Loop and plot boxplot for each column\n",
    "for col in numeric_cols:\n",
    "    plt.figure(figsize=(8, 2))\n",
    "    sns.boxplot(x=df_encoded[col], color='skyblue')\n",
    "    plt.title(f'Boxplot for: {col}')\n",
    "    plt.xlabel(col)\n",
    "    plt.tight_layout()\n",
    "    plt.show()"
   ]
  },
  {
   "cell_type": "markdown",
   "id": "069fb873",
   "metadata": {},
   "source": [
    "## Detect Outliers (Statistical Methods)"
   ]
  },
  {
   "cell_type": "code",
   "execution_count": 149,
   "id": "3cf4818e",
   "metadata": {},
   "outputs": [
    {
     "name": "stdout",
     "output_type": "stream",
     "text": [
      "amount_tsh: Capped outliers outside [-30.00, 50.00]\n",
      "population: Capped outliers outside [-322.50, 537.50]\n",
      "gps_height: Capped outliers outside [-1978.88, 3298.12]\n",
      "num_private: Capped outliers outside [0.00, 0.00]\n",
      "longitude: Capped outliers outside [26.96, 43.31]\n",
      "latitude: Capped outliers outside [-16.36, 4.50]\n"
     ]
    }
   ],
   "source": [
    "# Cap Outliers Using IQR and Flag Them\n",
    "def cap_outliers_iqr(df, column):\n",
    "    # Backup original values\n",
    "    df[f'{column}_before_clip'] = df[column]\n",
    "\n",
    "# Calculates lower and upper bounds for acceptable values using IQR\n",
    "    # Calculate IQR bounds\n",
    "    Q1 = df[column].quantile(0.25)\n",
    "    Q3 = df[column].quantile(0.75)\n",
    "    IQR = Q3 - Q1\n",
    "    lower = Q1 - 1.5 * IQR\n",
    "    upper = Q3 + 1.5 * IQR\n",
    "\n",
    "    # Flag which values were outliers\n",
    "    df[f'{column}_was_outlier'] = (df[column] < lower) | (df[column] > upper)\n",
    "\n",
    "    # Apply clipping\n",
    "    df[column] = df[column].clip(lower, upper)\n",
    "\n",
    "    print(f\"{column}: Capped outliers outside [{lower:.2f}, {upper:.2f}]\")\n",
    "    return df\n",
    "\n",
    "# Apply to selected columns\n",
    "columns_to_cap = ['amount_tsh', 'population', 'gps_height', 'num_private','longitude', 'latitude']\n",
    "\n",
    "for col in columns_to_cap:\n",
    "    df_encoded = cap_outliers_iqr(df_encoded, col)"
   ]
  },
  {
   "cell_type": "code",
   "execution_count": 150,
   "id": "38a7e6e5",
   "metadata": {},
   "outputs": [
    {
     "name": "stdout",
     "output_type": "stream",
     "text": [
      "longitude: Clipping values to range [29, 41] based on valid GPS range for Tanzania\n",
      "latitude: Clipping values to range [-12, -1] based on valid GPS range for Tanzania\n"
     ]
    }
   ],
   "source": [
    "# Apply Domain-Based Clipping to longitude\n",
    "# Reasonable Tanzania bounds: longitude between 29 and 41 and latitude -12 to -1\n",
    "# Clipping helps make location-based features more reliable\n",
    "print(\"longitude: Clipping values to range [29, 41] based on valid GPS range for Tanzania\")\n",
    "df_encoded['longitude'] = df_encoded['longitude'].clip(lower=29, upper=41)\n",
    "\n",
    "print(\"latitude: Clipping values to range [-12, -1] based on valid GPS range for Tanzania\")\n",
    "df_encoded['latitude'] = df_encoded['latitude'].clip(lower=-12, upper=-1)"
   ]
  },
  {
   "cell_type": "markdown",
   "id": "3777117d",
   "metadata": {},
   "source": [
    "## Visualize Before vs After"
   ]
  },
  {
   "cell_type": "code",
   "execution_count": 151,
   "id": "7a4a7ba3",
   "metadata": {},
   "outputs": [],
   "source": [
    "def show_before_after(col):\n",
    "    fig, axes = plt.subplots(nrows=1, ncols=2, figsize=(14, 2))\n",
    "    sns.boxplot(x=df_encoded[f\"{col}_before_clip\"], ax=axes[0], color='skyblue')\n",
    "    axes[0].set_title(f'Before Clipping: {col}')\n",
    "    sns.boxplot(x=df_encoded[col], ax=axes[1], color='lightgreen')\n",
    "    axes[1].set_title(f'After Clipping: {col}')\n",
    "    for ax in axes:\n",
    "        ax.grid(True)\n",
    "        ax.set_xlabel('')\n",
    "    plt.tight_layout()\n",
    "    plt.show()\n"
   ]
  },
  {
   "cell_type": "code",
   "execution_count": 152,
   "id": "cc23d404",
   "metadata": {},
   "outputs": [
    {
     "data": {
      "image/png": "[encoded data removed]",
      "text/plain": [
       "<Figure size 1008x144 with 2 Axes>"
      ]
     },
     "metadata": {
      "needs_background": "light"
     },
     "output_type": "display_data"
    },
    {
     "data": {
      "image/png": "[encoded data removed]",
      "text/plain": [
       "<Figure size 1008x144 with 2 Axes>"
      ]
     },
     "metadata": {
      "needs_background": "light"
     },
     "output_type": "display_data"
    },
    {
     "data": {
      "image/png": "[encoded data removed]",
      "text/plain": [
       "<Figure size 1008x144 with 2 Axes>"
      ]
     },
     "metadata": {
      "needs_background": "light"
     },
     "output_type": "display_data"
    },
    {
     "data": {
      "image/png": "[encoded data removed]",
      "text/plain": [
       "<Figure size 1008x144 with 2 Axes>"
      ]
     },
     "metadata": {
      "needs_background": "light"
     },
     "output_type": "display_data"
    }
   ],
   "source": [
    "show_before_after('amount_tsh')\n",
    "show_before_after('population')\n",
    "show_before_after('longitude')\n",
    "show_before_after('latitude')"
   ]
  },
  {
   "cell_type": "markdown",
   "id": "a7d75433",
   "metadata": {},
   "source": [
    "# Normalize / Standardize Numerical Features"
   ]
  },
  {
   "cell_type": "code",
   "execution_count": 153,
   "id": "27aa794a",
   "metadata": {},
   "outputs": [],
   "source": [
    "# column to scale:\n",
    "scale_cols = ['amount_tsh', 'gps_height', 'longitude', 'latitude', 'population']"
   ]
  },
  {
   "cell_type": "code",
   "execution_count": 154,
   "id": "5374bbec",
   "metadata": {},
   "outputs": [
    {
     "name": "stdout",
     "output_type": "stream",
     "text": [
      "              count          mean       std       min       25%       50%  \\\n",
      "amount_tsh  59400.0  7.815335e-16  1.000008 -0.607771 -0.607771 -0.607771   \n",
      "gps_height  59400.0  1.731275e-16  1.000008 -1.094050 -0.964200 -0.431817   \n",
      "longitude   59400.0 -2.511425e-15  1.000008 -2.147239 -0.674102 -0.019207   \n",
      "latitude    59400.0  4.181466e-16  1.000008 -2.044980 -0.969793  0.247263   \n",
      "population  59400.0 -3.366987e-16  1.000008 -0.731708 -0.731708 -0.589268   \n",
      "\n",
      "                 75%       max  \n",
      "amount_tsh  0.345703  1.775913  \n",
      "gps_height  0.939176  3.032277  \n",
      "longitude   0.798205  1.938729  \n",
      "latitude    0.833632  1.638134  \n",
      "population  0.493270  2.330735  \n"
     ]
    },
    {
     "data": {
      "text/plain": [
       "['scaler.pkl']"
      ]
     },
     "execution_count": 154,
     "metadata": {},
     "output_type": "execute_result"
    }
   ],
   "source": [
    "# Apply Scaling\n",
    "\n",
    "\n",
    "# Initialize and apply the scaler\n",
    "scaler = StandardScaler()\n",
    "df_encoded[scale_cols] = scaler.fit_transform(df_encoded[scale_cols])\n",
    "\n",
    "# Inspect the result\n",
    "print(df_encoded[scale_cols].describe().T)\n",
    "# Save the scaler for future use (test set)\n",
    "\n",
    "joblib.dump(scaler, 'scaler.pkl')"
   ]
  },
  {
   "cell_type": "code",
   "execution_count": 155,
   "id": "b7b3006c",
   "metadata": {},
   "outputs": [
    {
     "data": {
      "text/html": [
       "<div>\n",
       "<style scoped>\n",
       "    .dataframe tbody tr th:only-of-type {\n",
       "        vertical-align: middle;\n",
       "    }\n",
       "\n",
       "    .dataframe tbody tr th {\n",
       "        vertical-align: top;\n",
       "    }\n",
       "\n",
       "    .dataframe thead th {\n",
       "        text-align: right;\n",
       "    }\n",
       "</style>\n",
       "<table border=\"1\" class=\"dataframe\">\n",
       "  <thead>\n",
       "    <tr style=\"text-align: right;\">\n",
       "      <th></th>\n",
       "      <th>count</th>\n",
       "      <th>mean</th>\n",
       "      <th>std</th>\n",
       "      <th>min</th>\n",
       "      <th>25%</th>\n",
       "      <th>50%</th>\n",
       "      <th>75%</th>\n",
       "      <th>max</th>\n",
       "    </tr>\n",
       "  </thead>\n",
       "  <tbody>\n",
       "    <tr>\n",
       "      <th>amount_tsh</th>\n",
       "      <td>59400.0</td>\n",
       "      <td>7.815335e-16</td>\n",
       "      <td>1.000008</td>\n",
       "      <td>-0.607771</td>\n",
       "      <td>-0.607771</td>\n",
       "      <td>-0.607771</td>\n",
       "      <td>0.345703</td>\n",
       "      <td>1.775913</td>\n",
       "    </tr>\n",
       "    <tr>\n",
       "      <th>gps_height</th>\n",
       "      <td>59400.0</td>\n",
       "      <td>1.731275e-16</td>\n",
       "      <td>1.000008</td>\n",
       "      <td>-1.094050</td>\n",
       "      <td>-0.964200</td>\n",
       "      <td>-0.431817</td>\n",
       "      <td>0.939176</td>\n",
       "      <td>3.032277</td>\n",
       "    </tr>\n",
       "    <tr>\n",
       "      <th>longitude</th>\n",
       "      <td>59400.0</td>\n",
       "      <td>-2.511425e-15</td>\n",
       "      <td>1.000008</td>\n",
       "      <td>-2.147239</td>\n",
       "      <td>-0.674102</td>\n",
       "      <td>-0.019207</td>\n",
       "      <td>0.798205</td>\n",
       "      <td>1.938729</td>\n",
       "    </tr>\n",
       "    <tr>\n",
       "      <th>latitude</th>\n",
       "      <td>59400.0</td>\n",
       "      <td>4.181466e-16</td>\n",
       "      <td>1.000008</td>\n",
       "      <td>-2.044980</td>\n",
       "      <td>-0.969793</td>\n",
       "      <td>0.247263</td>\n",
       "      <td>0.833632</td>\n",
       "      <td>1.638134</td>\n",
       "    </tr>\n",
       "    <tr>\n",
       "      <th>population</th>\n",
       "      <td>59400.0</td>\n",
       "      <td>-3.366987e-16</td>\n",
       "      <td>1.000008</td>\n",
       "      <td>-0.731708</td>\n",
       "      <td>-0.731708</td>\n",
       "      <td>-0.589268</td>\n",
       "      <td>0.493270</td>\n",
       "      <td>2.330735</td>\n",
       "    </tr>\n",
       "  </tbody>\n",
       "</table>\n",
       "</div>"
      ],
      "text/plain": [
       "              count          mean       std       min       25%       50%  \\\n",
       "amount_tsh  59400.0  7.815335e-16  1.000008 -0.607771 -0.607771 -0.607771   \n",
       "gps_height  59400.0  1.731275e-16  1.000008 -1.094050 -0.964200 -0.431817   \n",
       "longitude   59400.0 -2.511425e-15  1.000008 -2.147239 -0.674102 -0.019207   \n",
       "latitude    59400.0  4.181466e-16  1.000008 -2.044980 -0.969793  0.247263   \n",
       "population  59400.0 -3.366987e-16  1.000008 -0.731708 -0.731708 -0.589268   \n",
       "\n",
       "                 75%       max  \n",
       "amount_tsh  0.345703  1.775913  \n",
       "gps_height  0.939176  3.032277  \n",
       "longitude   0.798205  1.938729  \n",
       "latitude    0.833632  1.638134  \n",
       "population  0.493270  2.330735  "
      ]
     },
     "execution_count": 155,
     "metadata": {},
     "output_type": "execute_result"
    }
   ],
   "source": [
    "df_encoded[scale_cols].describe().T"
   ]
  },
  {
   "cell_type": "code",
   "execution_count": 156,
   "id": "21ff130f",
   "metadata": {},
   "outputs": [
    {
     "data": {
      "text/plain": [
       "['scaler.pkl']"
      ]
     },
     "execution_count": 156,
     "metadata": {},
     "output_type": "execute_result"
    }
   ],
   "source": [
    "joblib.dump(scaler, 'scaler.pkl')"
   ]
  },
  {
   "cell_type": "markdown",
   "id": "b8b155a4",
   "metadata": {},
   "source": [
    "# Build a Data Cleaning Pipeline"
   ]
  },
  {
   "cell_type": "code",
   "execution_count": 157,
   "id": "f4d90921",
   "metadata": {},
   "outputs": [],
   "source": [
    "# Custom IQR Clipping Transformer\n",
    "class IQRClipper(BaseEstimator, TransformerMixin):\n",
    "    def __init__(self, columns):\n",
    "        self.columns = columns\n",
    "        self.bounds = {}\n",
    "\n",
    "    def fit(self, X, y=None):\n",
    "        for col in self.columns:\n",
    "            Q1 = X[col].quantile(0.25)\n",
    "            Q3 = X[col].quantile(0.75)\n",
    "            IQR = Q3 - Q1\n",
    "            lower = Q1 - 1.5 * IQR\n",
    "            upper = Q3 + 1.5 * IQR\n",
    "            self.bounds[col] = (lower, upper)\n",
    "        return self\n",
    "\n",
    "    def transform(self, X):\n",
    "        X = X.copy()\n",
    "        for col in self.columns:\n",
    "            lower, upper = self.bounds[col]\n",
    "            X[col] = X[col].clip(lower, upper)\n",
    "        return X"
   ]
  },
  {
   "cell_type": "code",
   "execution_count": 158,
   "id": "9f458030",
   "metadata": {},
   "outputs": [],
   "source": [
    "# Define Preprocessing Pipeline\n",
    "# Columns to apply IQR clipping and scaling\n",
    "clip_scale_cols = ['amount_tsh', 'population']\n",
    "\n",
    "# Build the pipeline\n",
    "preprocessing_pipeline = Pipeline(steps=[\n",
    "    ('clip_outliers', IQRClipper(columns=clip_scale_cols)),\n",
    "    ('scale', StandardScaler())\n",
    "])"
   ]
  },
  {
   "cell_type": "code",
   "execution_count": null,
   "id": "94812017",
   "metadata": {},
   "outputs": [],
   "source": [
    "# Apply pipeline only to selected columns\n",
    "df_encoded[clip_scale_cols] = preprocessing_pipeline.fit_transform(df_encoded[clip_scale_cols])"
   ]
  },
  {
   "cell_type": "code",
   "execution_count": 160,
   "id": "018162b8",
   "metadata": {},
   "outputs": [
    {
     "data": {
      "text/plain": [
       "['preprocessing_pipeline.pkl']"
      ]
     },
     "execution_count": 160,
     "metadata": {},
     "output_type": "execute_result"
    }
   ],
   "source": [
    "joblib.dump(preprocessing_pipeline, 'preprocessing_pipeline.pkl')"
   ]
  },
  {
   "cell_type": "code",
   "execution_count": 161,
   "id": "b3cd061b",
   "metadata": {},
   "outputs": [
    {
     "data": {
      "text/plain": [
       "(59400, 131)"
      ]
     },
     "execution_count": 161,
     "metadata": {},
     "output_type": "execute_result"
    }
   ],
   "source": [
    "df_encoded.shape"
   ]
  }
 ],
 "metadata": {
  "kernelspec": {
   "display_name": "base",
   "language": "python",
   "name": "python3"
  },
  "language_info": {
   "codemirror_mode": {
    "name": "ipython",
    "version": 3
   },
   "file_extension": ".py",
   "mimetype": "text/x-python",
   "name": "python",
   "nbconvert_exporter": "python",
   "pygments_lexer": "ipython3",
   "version": "3.8.8"
  }
 },
 "nbformat": 4,
 "nbformat_minor": 5
}
