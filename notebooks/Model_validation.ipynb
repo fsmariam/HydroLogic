{
 "cells": [
  {
   "cell_type": "code",
   "execution_count": null,
   "id": "415973c5",
   "metadata": {},
   "outputs": [
    {
     "data": {
      "text/plain": [
       "DecisionTreeRegressor()"
      ]
     },
     "execution_count": 1,
     "metadata": {},
     "output_type": "execute_result"
    }
   ],
   "source": [
    "# to calculate MAE we need the Model\n",
    "import pandas as pd\n",
    "\n",
    "# Load data\n",
    "data_file_path = \"../data/processed/df_outlier_flag.csv\"\n",
    "pomp_data = pd.read_csv(data_file_path) \n",
    "# Filter rows with missing status_group values\n",
    "filtered_pomp_data = pomp_data.dropna(axis=0)\n",
    "# Choose target and features\n",
    "y = filtered_pomp_data.status_group\n",
    "pomp_features = [ 'ward', 'latitude', 'longitude', 'waterpoint_type', 'quantity', 'gps_height',\n",
    "    'pump_age', 'water_availability_index', 'water_safety_score_sum']\n",
    "X = filtered_pomp_data[pomp_features]\n",
    "\n",
    "from sklearn.tree import DecisionTreeRegressor\n",
    "# Define model\n",
    "pomp_model = DecisionTreeRegressor()\n",
    "# Fit model\n",
    "pomp_model.fit(X, y)"
   ]
  },
  {
   "cell_type": "code",
   "execution_count": 2,
   "id": "cd27d5d1",
   "metadata": {},
   "outputs": [
    {
     "data": {
      "text/plain": [
       "0.0"
      ]
     },
     "execution_count": 2,
     "metadata": {},
     "output_type": "execute_result"
    }
   ],
   "source": [
    "from sklearn.metrics import mean_absolute_error\n",
    "\n",
    "predicted_status_group = pomp_model.predict(X)\n",
    "mean_absolute_error(y, predicted_status_group)"
   ]
  },
  {
   "cell_type": "code",
   "execution_count": null,
   "id": "9beaea4f",
   "metadata": {},
   "outputs": [
    {
     "name": "stdout",
     "output_type": "stream",
     "text": [
      "0.44132996632996635\n"
     ]
    }
   ],
   "source": [
    "from sklearn.model_selection import train_test_split\n",
    "\n",
    "# split data into training and validation data, for both features and target\n",
    "# The split is based on a random number generator. Supplying a numeric value to\n",
    "# the random_state argument guarantees we get the same split every time we\n",
    "# run this script.\n",
    "train_X, val_X, train_y, val_y = train_test_split(X, y, random_state = 0)\n",
    "# Define model\n",
    "pomp_model = DecisionTreeRegressor()\n",
    "# Fit model\n",
    "pomp_model.fit(train_X, train_y)\n",
    "\n",
    "# get predicted status_group on validation data\n",
    "val_predictions = pomp_model.predict(val_X)\n",
    "print(mean_absolute_error(val_y, val_predictions))"
   ]
  }
 ],
 "metadata": {
  "kernelspec": {
   "display_name": "base",
   "language": "python",
   "name": "python3"
  },
  "language_info": {
   "codemirror_mode": {
    "name": "ipython",
    "version": 3
   },
   "file_extension": ".py",
   "mimetype": "text/x-python",
   "name": "python",
   "nbconvert_exporter": "python",
   "pygments_lexer": "ipython3",
   "version": "3.8.8"
  }
 },
 "nbformat": 4,
 "nbformat_minor": 5
}
