{
 "cells": [
  {
   "cell_type": "markdown",
   "id": "359a34af",
   "metadata": {},
   "source": [
    "# Predicting Water Pump Functionality in Tanzania (HydroLogic Project)\n",
    "Authored by Farzaneh Gerami, Subaye Opoku-Acquah & Mariam Farda | \n",
    "March – June 2025"
   ]
  },
  {
   "cell_type": "markdown",
   "id": "9787afa7",
   "metadata": {},
   "source": [
    "# Imports"
   ]
  },
  {
   "cell_type": "code",
   "execution_count": 36,
   "id": "7a46427f",
   "metadata": {},
   "outputs": [],
   "source": [
    "# Imports\n",
    "import pandas as pd\n",
    "import numpy as np\n",
    "import matplotlib.pyplot as plt\n",
    "import seaborn as sns\n",
    "\n",
    "from scipy import stats\n",
    "from scipy.stats import f_oneway\n",
    "\n",
    "import math\n",
    "\n",
    "import datetime\n",
    "\n",
    "from sklearn.impute import SimpleImputer\n",
    "from sklearn.preprocessing import StandardScaler\n",
    "from sklearn.base import BaseEstimator, TransformerMixin\n",
    "from sklearn.pipeline import Pipeline\n",
    "from sklearn.preprocessing import StandardScaler, OneHotEncoder\n",
    "from sklearn.compose import ColumnTransformer\n",
    "from sklearn.model_selection import train_test_split\n",
    "from sklearn.feature_selection import mutual_info_classif\n",
    "from sklearn.preprocessing import LabelEncoder\n",
    "from sklearn.feature_selection import f_classif\n",
    "from sklearn.preprocessing import LabelEncoder, OrdinalEncoder\n",
    "from sklearn.experimental import enable_iterative_imputer  # noqa\n",
    "from sklearn.impute import IterativeImputer\n",
    "from sklearn.ensemble import RandomForestRegressor\n",
    "from sklearn.experimental import enable_iterative_imputer\n",
    "from sklearn.linear_model import BayesianRidge\n",
    "from sklearn.preprocessing import LabelEncoder\n",
    "from sklearn.linear_model import LogisticRegression\n",
    "from scipy.stats import chi2_contingency, ttest_ind # checking if the data is random or depends on other\n",
    "\n",
    "import joblib\n"
   ]
  },
  {
   "cell_type": "markdown",
   "id": "6411d448",
   "metadata": {},
   "source": [
    "# Sprint 1 - Data Cleaning and Preprocessing"
   ]
  },
  {
   "cell_type": "markdown",
   "id": "5e7ee6bc",
   "metadata": {},
   "source": [
    "## Read Merged Data"
   ]
  },
  {
   "cell_type": "code",
   "execution_count": 37,
   "id": "f5ff7595",
   "metadata": {},
   "outputs": [
    {
     "data": {
      "text/html": [
       "<div>\n",
       "<style scoped>\n",
       "    .dataframe tbody tr th:only-of-type {\n",
       "        vertical-align: middle;\n",
       "    }\n",
       "\n",
       "    .dataframe tbody tr th {\n",
       "        vertical-align: top;\n",
       "    }\n",
       "\n",
       "    .dataframe thead th {\n",
       "        text-align: right;\n",
       "    }\n",
       "</style>\n",
       "<table border=\"1\" class=\"dataframe\">\n",
       "  <thead>\n",
       "    <tr style=\"text-align: right;\">\n",
       "      <th></th>\n",
       "      <th>id</th>\n",
       "      <th>amount_tsh</th>\n",
       "      <th>date_recorded</th>\n",
       "      <th>funder</th>\n",
       "      <th>gps_height</th>\n",
       "      <th>installer</th>\n",
       "      <th>longitude</th>\n",
       "      <th>latitude</th>\n",
       "      <th>wpt_name</th>\n",
       "      <th>basin</th>\n",
       "      <th>...</th>\n",
       "      <th>water_quality</th>\n",
       "      <th>quality_group</th>\n",
       "      <th>quantity</th>\n",
       "      <th>source</th>\n",
       "      <th>source_class</th>\n",
       "      <th>waterpoint_type</th>\n",
       "      <th>status_group</th>\n",
       "      <th>year_recorded</th>\n",
       "      <th>month_recorded</th>\n",
       "      <th>dayofweek_recorded</th>\n",
       "    </tr>\n",
       "  </thead>\n",
       "  <tbody>\n",
       "    <tr>\n",
       "      <th>0</th>\n",
       "      <td>69572</td>\n",
       "      <td>6000.0</td>\n",
       "      <td>2011-03-14</td>\n",
       "      <td>roman</td>\n",
       "      <td>1390.0</td>\n",
       "      <td>roman</td>\n",
       "      <td>34.938093</td>\n",
       "      <td>-9.856322</td>\n",
       "      <td>none</td>\n",
       "      <td>Lake Nyasa</td>\n",
       "      <td>...</td>\n",
       "      <td>soft</td>\n",
       "      <td>good</td>\n",
       "      <td>enough</td>\n",
       "      <td>spring</td>\n",
       "      <td>groundwater</td>\n",
       "      <td>communal standpipe</td>\n",
       "      <td>functional</td>\n",
       "      <td>2011</td>\n",
       "      <td>3</td>\n",
       "      <td>0</td>\n",
       "    </tr>\n",
       "    <tr>\n",
       "      <th>1</th>\n",
       "      <td>8776</td>\n",
       "      <td>0.0</td>\n",
       "      <td>2013-03-06</td>\n",
       "      <td>grumeti</td>\n",
       "      <td>1399.0</td>\n",
       "      <td>grumeti</td>\n",
       "      <td>34.698766</td>\n",
       "      <td>-2.147466</td>\n",
       "      <td>Zahanati</td>\n",
       "      <td>Lake Victoria</td>\n",
       "      <td>...</td>\n",
       "      <td>soft</td>\n",
       "      <td>good</td>\n",
       "      <td>insufficient</td>\n",
       "      <td>rainwater harvesting</td>\n",
       "      <td>surface</td>\n",
       "      <td>communal standpipe</td>\n",
       "      <td>functional</td>\n",
       "      <td>2013</td>\n",
       "      <td>3</td>\n",
       "      <td>2</td>\n",
       "    </tr>\n",
       "    <tr>\n",
       "      <th>2</th>\n",
       "      <td>34310</td>\n",
       "      <td>25.0</td>\n",
       "      <td>2013-02-25</td>\n",
       "      <td>lottery club</td>\n",
       "      <td>686.0</td>\n",
       "      <td>world vision</td>\n",
       "      <td>37.460664</td>\n",
       "      <td>-3.821329</td>\n",
       "      <td>Kwa Mahundi</td>\n",
       "      <td>Pangani</td>\n",
       "      <td>...</td>\n",
       "      <td>soft</td>\n",
       "      <td>good</td>\n",
       "      <td>enough</td>\n",
       "      <td>dam</td>\n",
       "      <td>surface</td>\n",
       "      <td>communal standpipe multiple</td>\n",
       "      <td>functional</td>\n",
       "      <td>2013</td>\n",
       "      <td>2</td>\n",
       "      <td>0</td>\n",
       "    </tr>\n",
       "    <tr>\n",
       "      <th>3</th>\n",
       "      <td>67743</td>\n",
       "      <td>0.0</td>\n",
       "      <td>2013-01-28</td>\n",
       "      <td>unicef</td>\n",
       "      <td>263.0</td>\n",
       "      <td>unicef</td>\n",
       "      <td>38.486161</td>\n",
       "      <td>-11.155298</td>\n",
       "      <td>Zahanati Ya Nanyumbu</td>\n",
       "      <td>Ruvuma / Southern Coast</td>\n",
       "      <td>...</td>\n",
       "      <td>soft</td>\n",
       "      <td>good</td>\n",
       "      <td>dry</td>\n",
       "      <td>machine dbh</td>\n",
       "      <td>groundwater</td>\n",
       "      <td>communal standpipe multiple</td>\n",
       "      <td>non functional</td>\n",
       "      <td>2013</td>\n",
       "      <td>1</td>\n",
       "      <td>0</td>\n",
       "    </tr>\n",
       "    <tr>\n",
       "      <th>4</th>\n",
       "      <td>19728</td>\n",
       "      <td>0.0</td>\n",
       "      <td>2011-07-13</td>\n",
       "      <td>action in a</td>\n",
       "      <td>0.0</td>\n",
       "      <td>artisan</td>\n",
       "      <td>31.130847</td>\n",
       "      <td>-1.825359</td>\n",
       "      <td>Shuleni</td>\n",
       "      <td>Lake Victoria</td>\n",
       "      <td>...</td>\n",
       "      <td>soft</td>\n",
       "      <td>good</td>\n",
       "      <td>seasonal</td>\n",
       "      <td>rainwater harvesting</td>\n",
       "      <td>surface</td>\n",
       "      <td>communal standpipe</td>\n",
       "      <td>functional</td>\n",
       "      <td>2011</td>\n",
       "      <td>7</td>\n",
       "      <td>2</td>\n",
       "    </tr>\n",
       "  </tbody>\n",
       "</table>\n",
       "<p>5 rows × 36 columns</p>\n",
       "</div>"
      ],
      "text/plain": [
       "      id  amount_tsh date_recorded        funder  gps_height     installer  \\\n",
       "0  69572      6000.0    2011-03-14         roman      1390.0         roman   \n",
       "1   8776         0.0    2013-03-06       grumeti      1399.0       grumeti   \n",
       "2  34310        25.0    2013-02-25  lottery club       686.0  world vision   \n",
       "3  67743         0.0    2013-01-28        unicef       263.0        unicef   \n",
       "4  19728         0.0    2011-07-13   action in a         0.0       artisan   \n",
       "\n",
       "   longitude   latitude              wpt_name                    basin  ...  \\\n",
       "0  34.938093  -9.856322                  none               Lake Nyasa  ...   \n",
       "1  34.698766  -2.147466              Zahanati            Lake Victoria  ...   \n",
       "2  37.460664  -3.821329           Kwa Mahundi                  Pangani  ...   \n",
       "3  38.486161 -11.155298  Zahanati Ya Nanyumbu  Ruvuma / Southern Coast  ...   \n",
       "4  31.130847  -1.825359               Shuleni            Lake Victoria  ...   \n",
       "\n",
       "  water_quality quality_group      quantity                source  \\\n",
       "0          soft          good        enough                spring   \n",
       "1          soft          good  insufficient  rainwater harvesting   \n",
       "2          soft          good        enough                   dam   \n",
       "3          soft          good           dry           machine dbh   \n",
       "4          soft          good      seasonal  rainwater harvesting   \n",
       "\n",
       "  source_class              waterpoint_type    status_group  year_recorded  \\\n",
       "0  groundwater           communal standpipe      functional           2011   \n",
       "1      surface           communal standpipe      functional           2013   \n",
       "2      surface  communal standpipe multiple      functional           2013   \n",
       "3  groundwater  communal standpipe multiple  non functional           2013   \n",
       "4      surface           communal standpipe      functional           2011   \n",
       "\n",
       "  month_recorded dayofweek_recorded  \n",
       "0              3                  0  \n",
       "1              3                  2  \n",
       "2              2                  0  \n",
       "3              1                  0  \n",
       "4              7                  2  \n",
       "\n",
       "[5 rows x 36 columns]"
      ]
     },
     "execution_count": 37,
     "metadata": {},
     "output_type": "execute_result"
    }
   ],
   "source": [
    "# Read Merged data as an original data\n",
    "url_merge_data = \"../data/processed/cleaned_Training_data.csv\"\n",
    "df_train = pd.read_csv(url_merge_data)\n",
    "df_train.head()"
   ]
  },
  {
   "cell_type": "code",
   "execution_count": 38,
   "id": "cfc45056",
   "metadata": {},
   "outputs": [
    {
     "data": {
      "text/plain": [
       "(47520, 36)"
      ]
     },
     "execution_count": 38,
     "metadata": {},
     "output_type": "execute_result"
    }
   ],
   "source": [
    "df_train.shape"
   ]
  },
  {
   "cell_type": "markdown",
   "id": "4bc02c84",
   "metadata": {},
   "source": [
    "# Analyze Cardinality of Categorical Features"
   ]
  },
  {
   "cell_type": "code",
   "execution_count": 39,
   "id": "e56c1bae",
   "metadata": {},
   "outputs": [
    {
     "name": "stdout",
     "output_type": "stream",
     "text": [
      "wpt_name                 30761\n",
      "scheme_name               2512\n",
      "ward                      2087\n",
      "installer                 1709\n",
      "funder                    1679\n",
      "subvillage                1679\n",
      "date_recorded              352\n",
      "lga                        125\n",
      "construction_year           54\n",
      "region                      21\n",
      "management                  12\n",
      "scheme_management           11\n",
      "permit                      11\n",
      "source                      10\n",
      "basin                        9\n",
      "water_quality                8\n",
      "extraction_type_class        7\n",
      "payment_type                 7\n",
      "waterpoint_type              7\n",
      "quality_group                6\n",
      "management_group             5\n",
      "quantity                     5\n",
      "source_class                 3\n",
      "status_group                 3\n",
      "dtype: int64\n"
     ]
    }
   ],
   "source": [
    "# Summary of categorical columns\n",
    "cat_summary = df_train.select_dtypes(include='object').nunique().sort_values(ascending=False)\n",
    "print(cat_summary)\n"
   ]
  },
  {
   "cell_type": "markdown",
   "id": "3ad2e638",
   "metadata": {},
   "source": [
    "# categorize them as low or high cardinality"
   ]
  },
  {
   "cell_type": "code",
   "execution_count": 40,
   "id": "175fad51",
   "metadata": {},
   "outputs": [
    {
     "data": {
      "text/plain": [
       "['wpt_name',\n",
       " 'scheme_name',\n",
       " 'ward',\n",
       " 'installer',\n",
       " 'funder',\n",
       " 'subvillage',\n",
       " 'date_recorded',\n",
       " 'lga',\n",
       " 'construction_year',\n",
       " 'region',\n",
       " 'management',\n",
       " 'scheme_management',\n",
       " 'permit']"
      ]
     },
     "execution_count": 40,
     "metadata": {},
     "output_type": "execute_result"
    }
   ],
   "source": [
    "# Recalculate high cardinality columns\n",
    "high_card_cols = cat_summary[cat_summary > 10].index.tolist()\n",
    "high_card_cols"
   ]
  },
  {
   "cell_type": "code",
   "execution_count": 41,
   "id": "194e8a0c",
   "metadata": {},
   "outputs": [
    {
     "data": {
      "text/plain": [
       "['source',\n",
       " 'basin',\n",
       " 'water_quality',\n",
       " 'extraction_type_class',\n",
       " 'payment_type',\n",
       " 'waterpoint_type',\n",
       " 'quality_group',\n",
       " 'management_group',\n",
       " 'quantity',\n",
       " 'source_class',\n",
       " 'status_group']"
      ]
     },
     "execution_count": 41,
     "metadata": {},
     "output_type": "execute_result"
    }
   ],
   "source": [
    "\n",
    "\n",
    "# Select low cardinality columns (2–10 unique values)\n",
    "low_card_cols = cat_summary[(cat_summary <= 10) & (cat_summary > 1)].index.tolist()\n",
    "low_card_cols\n"
   ]
  },
  {
   "cell_type": "markdown",
   "id": "c13869d5",
   "metadata": {},
   "source": [
    "## Define Encoding Strategy\n",
    "- High Cardinality: use the frequency or lable strategy, keeps dimensionality low\n",
    "(wpt_name, subvillage, scheme_name, ward, date_recorded, lga, region, extraction_type, extraction_type_group, management, installer, funder, scheme_management)\n",
    "\n",
    "- Low Cardinality: one-Hot Encoding strategy, preffered for non-ordinal categories\n",
    "(source, basin, water_quality, source_type, waterpoint_type, extraction_type_class, payment_type, payment, quality_group, waterpoint_type_group, quantity, quantity_group, management_group, source_class, status_group)\n",
    "\n",
    "- Boolean-like string, Map to 0/1. \n",
    "(permit or public_meeting)"
   ]
  },
  {
   "cell_type": "markdown",
   "id": "4e9d610b",
   "metadata": {},
   "source": [
    "## Implement Encoding"
   ]
  },
  {
   "cell_type": "code",
   "execution_count": 42,
   "id": "0448414b",
   "metadata": {},
   "outputs": [],
   "source": [
    "# Create a copy for encoding\n",
    "df_encoded = df_train.copy()"
   ]
  },
  {
   "cell_type": "markdown",
   "id": "1337df59",
   "metadata": {},
   "source": [
    "## One-Hot Encode Low Cardinality Columns"
   ]
  },
  {
   "cell_type": "code",
   "execution_count": 43,
   "id": "c3b2ad85",
   "metadata": {},
   "outputs": [
    {
     "name": "stdout",
     "output_type": "stream",
     "text": [
      "Total new shape: (47520, 84)\n",
      "First few column names: ['id', 'amount_tsh', 'date_recorded', 'funder', 'gps_height', 'installer', 'longitude', 'latitude', 'wpt_name', 'subvillage']\n"
     ]
    }
   ],
   "source": [
    "# Apply One-Hot Encode Low Cardinality\n",
    "df_encoded = pd.get_dummies(df_encoded, columns=low_card_cols, drop_first=True)\n",
    "\n",
    "# Preview result\n",
    "print(f\"Total new shape: {df_encoded.shape}\")\n",
    "print(\"First few column names:\", df_encoded.columns[:10].tolist())"
   ]
  },
  {
   "cell_type": "markdown",
   "id": "992ee72f",
   "metadata": {},
   "source": [
    "## Frequency Encode High Cardinality Columns"
   ]
  },
  {
   "cell_type": "code",
   "execution_count": 44,
   "id": "e3fc299e",
   "metadata": {},
   "outputs": [],
   "source": [
    "# Apply frequency encoding\n",
    "for col in high_card_cols:\n",
    "    freq_map = df_encoded[col].value_counts().to_dict()\n",
    "    df_encoded[col + '_freq'] = df_encoded[col].map(freq_map)"
   ]
  },
  {
   "cell_type": "code",
   "execution_count": 45,
   "id": "77f64099",
   "metadata": {},
   "outputs": [
    {
     "name": "stdout",
     "output_type": "stream",
     "text": [
      "Final encoded shape: (47520, 97)\n"
     ]
    },
    {
     "data": {
      "text/html": [
       "<div>\n",
       "<style scoped>\n",
       "    .dataframe tbody tr th:only-of-type {\n",
       "        vertical-align: middle;\n",
       "    }\n",
       "\n",
       "    .dataframe tbody tr th {\n",
       "        vertical-align: top;\n",
       "    }\n",
       "\n",
       "    .dataframe thead th {\n",
       "        text-align: right;\n",
       "    }\n",
       "</style>\n",
       "<table border=\"1\" class=\"dataframe\">\n",
       "  <thead>\n",
       "    <tr style=\"text-align: right;\">\n",
       "      <th></th>\n",
       "      <th>id</th>\n",
       "      <th>amount_tsh</th>\n",
       "      <th>date_recorded</th>\n",
       "      <th>funder</th>\n",
       "      <th>gps_height</th>\n",
       "      <th>installer</th>\n",
       "      <th>longitude</th>\n",
       "      <th>latitude</th>\n",
       "      <th>wpt_name</th>\n",
       "      <th>subvillage</th>\n",
       "      <th>...</th>\n",
       "      <th>installer_freq</th>\n",
       "      <th>funder_freq</th>\n",
       "      <th>subvillage_freq</th>\n",
       "      <th>date_recorded_freq</th>\n",
       "      <th>lga_freq</th>\n",
       "      <th>construction_year_freq</th>\n",
       "      <th>region_freq</th>\n",
       "      <th>management_freq</th>\n",
       "      <th>scheme_management_freq</th>\n",
       "      <th>permit_freq</th>\n",
       "    </tr>\n",
       "  </thead>\n",
       "  <tbody>\n",
       "    <tr>\n",
       "      <th>0</th>\n",
       "      <td>69572</td>\n",
       "      <td>6000.0</td>\n",
       "      <td>2011-03-14</td>\n",
       "      <td>roman</td>\n",
       "      <td>1390.0</td>\n",
       "      <td>roman</td>\n",
       "      <td>34.938093</td>\n",
       "      <td>-9.856322</td>\n",
       "      <td>none</td>\n",
       "      <td>roman</td>\n",
       "      <td>...</td>\n",
       "      <td>72</td>\n",
       "      <td>217</td>\n",
       "      <td>217</td>\n",
       "      <td>394</td>\n",
       "      <td>463</td>\n",
       "      <td>773</td>\n",
       "      <td>4267</td>\n",
       "      <td>32395</td>\n",
       "      <td>31718</td>\n",
       "      <td>31718</td>\n",
       "    </tr>\n",
       "    <tr>\n",
       "      <th>1</th>\n",
       "      <td>8776</td>\n",
       "      <td>0.0</td>\n",
       "      <td>2013-03-06</td>\n",
       "      <td>grumeti</td>\n",
       "      <td>1399.0</td>\n",
       "      <td>grumeti</td>\n",
       "      <td>34.698766</td>\n",
       "      <td>-2.147466</td>\n",
       "      <td>Zahanati</td>\n",
       "      <td>grumeti</td>\n",
       "      <td>...</td>\n",
       "      <td>29</td>\n",
       "      <td>39</td>\n",
       "      <td>39</td>\n",
       "      <td>107</td>\n",
       "      <td>554</td>\n",
       "      <td>2135</td>\n",
       "      <td>1550</td>\n",
       "      <td>5212</td>\n",
       "      <td>597</td>\n",
       "      <td>597</td>\n",
       "    </tr>\n",
       "    <tr>\n",
       "      <th>2</th>\n",
       "      <td>34310</td>\n",
       "      <td>25.0</td>\n",
       "      <td>2013-02-25</td>\n",
       "      <td>lottery club</td>\n",
       "      <td>686.0</td>\n",
       "      <td>world vision</td>\n",
       "      <td>37.460664</td>\n",
       "      <td>-3.821329</td>\n",
       "      <td>Kwa Mahundi</td>\n",
       "      <td>lottery club</td>\n",
       "      <td>...</td>\n",
       "      <td>573</td>\n",
       "      <td>7</td>\n",
       "      <td>7</td>\n",
       "      <td>218</td>\n",
       "      <td>246</td>\n",
       "      <td>2012</td>\n",
       "      <td>1258</td>\n",
       "      <td>32395</td>\n",
       "      <td>31718</td>\n",
       "      <td>31718</td>\n",
       "    </tr>\n",
       "    <tr>\n",
       "      <th>3</th>\n",
       "      <td>67743</td>\n",
       "      <td>0.0</td>\n",
       "      <td>2013-01-28</td>\n",
       "      <td>unicef</td>\n",
       "      <td>263.0</td>\n",
       "      <td>unicef</td>\n",
       "      <td>38.486161</td>\n",
       "      <td>-11.155298</td>\n",
       "      <td>Zahanati Ya Nanyumbu</td>\n",
       "      <td>unicef</td>\n",
       "      <td>...</td>\n",
       "      <td>190</td>\n",
       "      <td>860</td>\n",
       "      <td>860</td>\n",
       "      <td>296</td>\n",
       "      <td>126</td>\n",
       "      <td>334</td>\n",
       "      <td>1402</td>\n",
       "      <td>32395</td>\n",
       "      <td>31718</td>\n",
       "      <td>31718</td>\n",
       "    </tr>\n",
       "    <tr>\n",
       "      <th>4</th>\n",
       "      <td>19728</td>\n",
       "      <td>0.0</td>\n",
       "      <td>2011-07-13</td>\n",
       "      <td>action in a</td>\n",
       "      <td>0.0</td>\n",
       "      <td>artisan</td>\n",
       "      <td>31.130847</td>\n",
       "      <td>-1.825359</td>\n",
       "      <td>Shuleni</td>\n",
       "      <td>action in a</td>\n",
       "      <td>...</td>\n",
       "      <td>113</td>\n",
       "      <td>1</td>\n",
       "      <td>1</td>\n",
       "      <td>203</td>\n",
       "      <td>622</td>\n",
       "      <td>8463</td>\n",
       "      <td>2677</td>\n",
       "      <td>672</td>\n",
       "      <td>31718</td>\n",
       "      <td>31718</td>\n",
       "    </tr>\n",
       "  </tbody>\n",
       "</table>\n",
       "<p>5 rows × 97 columns</p>\n",
       "</div>"
      ],
      "text/plain": [
       "      id  amount_tsh date_recorded        funder  gps_height     installer  \\\n",
       "0  69572      6000.0    2011-03-14         roman      1390.0         roman   \n",
       "1   8776         0.0    2013-03-06       grumeti      1399.0       grumeti   \n",
       "2  34310        25.0    2013-02-25  lottery club       686.0  world vision   \n",
       "3  67743         0.0    2013-01-28        unicef       263.0        unicef   \n",
       "4  19728         0.0    2011-07-13   action in a         0.0       artisan   \n",
       "\n",
       "   longitude   latitude              wpt_name    subvillage  ...  \\\n",
       "0  34.938093  -9.856322                  none         roman  ...   \n",
       "1  34.698766  -2.147466              Zahanati       grumeti  ...   \n",
       "2  37.460664  -3.821329           Kwa Mahundi  lottery club  ...   \n",
       "3  38.486161 -11.155298  Zahanati Ya Nanyumbu        unicef  ...   \n",
       "4  31.130847  -1.825359               Shuleni   action in a  ...   \n",
       "\n",
       "  installer_freq  funder_freq  subvillage_freq date_recorded_freq lga_freq  \\\n",
       "0             72          217              217                394      463   \n",
       "1             29           39               39                107      554   \n",
       "2            573            7                7                218      246   \n",
       "3            190          860              860                296      126   \n",
       "4            113            1                1                203      622   \n",
       "\n",
       "   construction_year_freq  region_freq management_freq scheme_management_freq  \\\n",
       "0                     773         4267           32395                  31718   \n",
       "1                    2135         1550            5212                    597   \n",
       "2                    2012         1258           32395                  31718   \n",
       "3                     334         1402           32395                  31718   \n",
       "4                    8463         2677             672                  31718   \n",
       "\n",
       "  permit_freq  \n",
       "0       31718  \n",
       "1         597  \n",
       "2       31718  \n",
       "3       31718  \n",
       "4       31718  \n",
       "\n",
       "[5 rows x 97 columns]"
      ]
     },
     "execution_count": 45,
     "metadata": {},
     "output_type": "execute_result"
    }
   ],
   "source": [
    "# Check result\n",
    "print(\"Final encoded shape:\", df_encoded.shape)\n",
    "df_encoded.head()"
   ]
  },
  {
   "cell_type": "code",
   "execution_count": 46,
   "id": "111bfaf0",
   "metadata": {},
   "outputs": [],
   "source": [
    "# drop the original: \n",
    "df_encoded.drop(columns=high_card_cols, inplace=True)"
   ]
  },
  {
   "cell_type": "code",
   "execution_count": 47,
   "id": "b061aff2",
   "metadata": {},
   "outputs": [
    {
     "data": {
      "text/plain": [
       "['funder_freq_map.pkl']"
      ]
     },
     "execution_count": 47,
     "metadata": {},
     "output_type": "execute_result"
    }
   ],
   "source": [
    "# Save the Mapping for Test Set\n",
    "joblib.dump(freq_map, 'funder_freq_map.pkl')"
   ]
  },
  {
   "cell_type": "markdown",
   "id": "a13a2c97",
   "metadata": {},
   "source": [
    "# Check for and Handle Outliers in Numerical Features"
   ]
  },
  {
   "cell_type": "markdown",
   "id": "cb918438",
   "metadata": {},
   "source": [
    "## Identify Numerical Columns"
   ]
  },
  {
   "cell_type": "code",
   "execution_count": 48,
   "id": "64d97b48",
   "metadata": {},
   "outputs": [
    {
     "data": {
      "text/plain": [
       "['amount_tsh',\n",
       " 'gps_height',\n",
       " 'longitude',\n",
       " 'latitude',\n",
       " 'population',\n",
       " 'year_recorded',\n",
       " 'month_recorded',\n",
       " 'dayofweek_recorded',\n",
       " 'wpt_name_freq',\n",
       " 'scheme_name_freq',\n",
       " 'ward_freq',\n",
       " 'installer_freq',\n",
       " 'funder_freq',\n",
       " 'subvillage_freq',\n",
       " 'date_recorded_freq',\n",
       " 'lga_freq',\n",
       " 'construction_year_freq',\n",
       " 'region_freq',\n",
       " 'management_freq',\n",
       " 'scheme_management_freq',\n",
       " 'permit_freq']"
      ]
     },
     "execution_count": 48,
     "metadata": {},
     "output_type": "execute_result"
    }
   ],
   "source": [
    "# Get numeric columns, but exclude ID or code-like columns\n",
    "numeric_cols = df_encoded.select_dtypes(include=['int64', 'float64']).columns.tolist()\n",
    "excluded = ['id', 'region_code', 'district_code']  # Don't plot these\n",
    "numeric_cols = [col for col in numeric_cols if col not in excluded]\n",
    "numeric_cols"
   ]
  },
  {
   "cell_type": "markdown",
   "id": "ab7ab5d4",
   "metadata": {},
   "source": [
    "# Visualize Distributions"
   ]
  },
  {
   "cell_type": "code",
   "execution_count": 49,
   "id": "d3b6def1",
   "metadata": {},
   "outputs": [
    {
     "data": {
      "image/png": "[encoded data removed]",
      "text/plain": [
       "<Figure size 576x144 with 1 Axes>"
      ]
     },
     "metadata": {
      "needs_background": "light"
     },
     "output_type": "display_data"
    },
    {
     "data": {
      "image/png": "[encoded data removed]",
      "text/plain": [
       "<Figure size 576x144 with 1 Axes>"
      ]
     },
     "metadata": {
      "needs_background": "light"
     },
     "output_type": "display_data"
    },
    {
     "data": {
      "image/png": "[encoded data removed]",
      "text/plain": [
       "<Figure size 576x144 with 1 Axes>"
      ]
     },
     "metadata": {
      "needs_background": "light"
     },
     "output_type": "display_data"
    },
    {
     "data": {
      "image/png": "[encoded data removed]",
      "text/plain": [
       "<Figure size 576x144 with 1 Axes>"
      ]
     },
     "metadata": {
      "needs_background": "light"
     },
     "output_type": "display_data"
    },
    {
     "data": {
      "image/png": "[encoded data removed]",
      "text/plain": [
       "<Figure size 576x144 with 1 Axes>"
      ]
     },
     "metadata": {
      "needs_background": "light"
     },
     "output_type": "display_data"
    },
    {
     "data": {
      "image/png": "[encoded data removed]",
      "text/plain": [
       "<Figure size 576x144 with 1 Axes>"
      ]
     },
     "metadata": {
      "needs_background": "light"
     },
     "output_type": "display_data"
    },
    {
     "data": {
      "image/png": "[encoded data removed]",
      "text/plain": [
       "<Figure size 576x144 with 1 Axes>"
      ]
     },
     "metadata": {
      "needs_background": "light"
     },
     "output_type": "display_data"
    },
    {
     "data": {
      "image/png": "[encoded data removed]",
      "text/plain": [
       "<Figure size 576x144 with 1 Axes>"
      ]
     },
     "metadata": {
      "needs_background": "light"
     },
     "output_type": "display_data"
    },
    {
     "data": {
      "image/png": "[encoded data removed]",
      "text/plain": [
       "<Figure size 576x144 with 1 Axes>"
      ]
     },
     "metadata": {
      "needs_background": "light"
     },
     "output_type": "display_data"
    },
    {
     "data": {
      "image/png": "[encoded data removed]",
      "text/plain": [
       "<Figure size 576x144 with 1 Axes>"
      ]
     },
     "metadata": {
      "needs_background": "light"
     },
     "output_type": "display_data"
    },
    {
     "data": {
      "image/png": "[encoded data removed]",
      "text/plain": [
       "<Figure size 576x144 with 1 Axes>"
      ]
     },
     "metadata": {
      "needs_background": "light"
     },
     "output_type": "display_data"
    },
    {
     "data": {
      "image/png": "[encoded data removed]",
      "text/plain": [
       "<Figure size 576x144 with 1 Axes>"
      ]
     },
     "metadata": {
      "needs_background": "light"
     },
     "output_type": "display_data"
    },
    {
     "data": {
      "image/png": "[encoded data removed]",
      "text/plain": [
       "<Figure size 576x144 with 1 Axes>"
      ]
     },
     "metadata": {
      "needs_background": "light"
     },
     "output_type": "display_data"
    },
    {
     "data": {
      "image/png": "[encoded data removed]",
      "text/plain": [
       "<Figure size 576x144 with 1 Axes>"
      ]
     },
     "metadata": {
      "needs_background": "light"
     },
     "output_type": "display_data"
    },
    {
     "data": {
      "image/png": "[encoded data removed]",
      "text/plain": [
       "<Figure size 576x144 with 1 Axes>"
      ]
     },
     "metadata": {
      "needs_background": "light"
     },
     "output_type": "display_data"
    },
    {
     "data": {
      "image/png": "[encoded data removed]",
      "text/plain": [
       "<Figure size 576x144 with 1 Axes>"
      ]
     },
     "metadata": {
      "needs_background": "light"
     },
     "output_type": "display_data"
    },
    {
     "data": {
      "image/png": "[encoded data removed]",
      "text/plain": [
       "<Figure size 576x144 with 1 Axes>"
      ]
     },
     "metadata": {
      "needs_background": "light"
     },
     "output_type": "display_data"
    },
    {
     "data": {
      "image/png": "[encoded data removed]",
      "text/plain": [
       "<Figure size 576x144 with 1 Axes>"
      ]
     },
     "metadata": {
      "needs_background": "light"
     },
     "output_type": "display_data"
    },
    {
     "data": {
      "image/png": "[encoded data removed]",
      "text/plain": [
       "<Figure size 576x144 with 1 Axes>"
      ]
     },
     "metadata": {
      "needs_background": "light"
     },
     "output_type": "display_data"
    },
    {
     "data": {
      "image/png": "[encoded data removed]",
      "text/plain": [
       "<Figure size 576x144 with 1 Axes>"
      ]
     },
     "metadata": {
      "needs_background": "light"
     },
     "output_type": "display_data"
    },
    {
     "data": {
      "image/png": "[encoded data removed]",
      "text/plain": [
       "<Figure size 576x144 with 1 Axes>"
      ]
     },
     "metadata": {
      "needs_background": "light"
     },
     "output_type": "display_data"
    }
   ],
   "source": [
    "# Loop and plot boxplot for each column\n",
    "for col in numeric_cols:\n",
    "    plt.figure(figsize=(8, 2))\n",
    "    sns.boxplot(x=df_encoded[col], color='skyblue')\n",
    "    plt.title(f'Boxplot for: {col}')\n",
    "    plt.xlabel(col)\n",
    "    plt.tight_layout()\n",
    "    plt.show()"
   ]
  },
  {
   "cell_type": "markdown",
   "id": "d97db433",
   "metadata": {},
   "source": [
    "## Detect Outliers (Statistical Methods)"
   ]
  },
  {
   "cell_type": "code",
   "execution_count": 50,
   "id": "a9edb827",
   "metadata": {},
   "outputs": [
    {
     "name": "stdout",
     "output_type": "stream",
     "text": [
      "amount_tsh: Capped outliers outside [-37.50, 62.50]\n",
      "population: Capped outliers outside [-316.50, 527.50]\n",
      "gps_height: Capped outliers outside [-1980.00, 3300.00]\n",
      "longitude: Capped outliers outside [27.26, 43.23]\n",
      "latitude: Capped outliers outside [-16.39, 4.52]\n"
     ]
    }
   ],
   "source": [
    "# Cap Outliers Using IQR and Flag Them\n",
    "def cap_outliers_iqr(df, column):\n",
    "    # Backup original values\n",
    "    df[f'{column}_before_clip'] = df[column]\n",
    "\n",
    "# Calculates lower and upper bounds for acceptable values using IQR\n",
    "    # Calculate IQR bounds\n",
    "    Q1 = df[column].quantile(0.25)\n",
    "    Q3 = df[column].quantile(0.75)\n",
    "    IQR = Q3 - Q1\n",
    "    lower = Q1 - 1.5 * IQR\n",
    "    upper = Q3 + 1.5 * IQR\n",
    "\n",
    "    # Flag which values were outliers\n",
    "    df[f'{column}_was_outlier'] = (df[column] < lower) | (df[column] > upper)\n",
    "\n",
    "    # Apply clipping\n",
    "    df[column] = df[column].clip(lower, upper)\n",
    "\n",
    "    print(f\"{column}: Capped outliers outside [{lower:.2f}, {upper:.2f}]\")\n",
    "    return df\n",
    "\n",
    "# Apply to selected columns\n",
    "columns_to_cap = ['amount_tsh', 'population', 'gps_height','longitude', 'latitude']\n",
    "\n",
    "for col in columns_to_cap:\n",
    "    df_encoded = cap_outliers_iqr(df_encoded, col)"
   ]
  },
  {
   "cell_type": "code",
   "execution_count": 51,
   "id": "ac2f9d0c",
   "metadata": {},
   "outputs": [
    {
     "name": "stdout",
     "output_type": "stream",
     "text": [
      "longitude: Clipping values to range [29, 41] based on valid GPS range for Tanzania\n",
      "latitude: Clipping values to range [-12, -1] based on valid GPS range for Tanzania\n"
     ]
    }
   ],
   "source": [
    "# Apply Domain-Based Clipping to longitude\n",
    "# Reasonable Tanzania bounds: longitude between 29 and 41 and latitude -12 to -1\n",
    "# Clipping helps make location-based features more reliable\n",
    "print(\"longitude: Clipping values to range [29, 41] based on valid GPS range for Tanzania\")\n",
    "df_encoded['longitude'] = df_encoded['longitude'].clip(lower=29, upper=41)\n",
    "\n",
    "print(\"latitude: Clipping values to range [-12, -1] based on valid GPS range for Tanzania\")\n",
    "df_encoded['latitude'] = df_encoded['latitude'].clip(lower=-12, upper=-1)"
   ]
  },
  {
   "cell_type": "markdown",
   "id": "90aa5b2d",
   "metadata": {},
   "source": [
    "## Visualize Before vs After"
   ]
  },
  {
   "cell_type": "code",
   "execution_count": 52,
   "id": "525045e6",
   "metadata": {},
   "outputs": [],
   "source": [
    "def show_before_after(col):\n",
    "    fig, axes = plt.subplots(nrows=1, ncols=2, figsize=(14, 2))\n",
    "    sns.boxplot(x=df_encoded[f\"{col}_before_clip\"], ax=axes[0], color='skyblue')\n",
    "    axes[0].set_title(f'Before Clipping: {col}')\n",
    "    sns.boxplot(x=df_encoded[col], ax=axes[1], color='lightgreen')\n",
    "    axes[1].set_title(f'After Clipping: {col}')\n",
    "    for ax in axes:\n",
    "        ax.grid(True)\n",
    "        ax.set_xlabel('')\n",
    "    plt.tight_layout()\n",
    "    plt.show()\n"
   ]
  },
  {
   "cell_type": "code",
   "execution_count": 53,
   "id": "e662a1fe",
   "metadata": {},
   "outputs": [
    {
     "data": {
      "image/png": "[encoded data removed]",
      "text/plain": [
       "<Figure size 1008x144 with 2 Axes>"
      ]
     },
     "metadata": {
      "needs_background": "light"
     },
     "output_type": "display_data"
    },
    {
     "data": {
      "image/png": "[encoded data removed]",
      "text/plain": [
       "<Figure size 1008x144 with 2 Axes>"
      ]
     },
     "metadata": {
      "needs_background": "light"
     },
     "output_type": "display_data"
    },
    {
     "data": {
      "image/png": "[encoded data removed]",
      "text/plain": [
       "<Figure size 1008x144 with 2 Axes>"
      ]
     },
     "metadata": {
      "needs_background": "light"
     },
     "output_type": "display_data"
    },
    {
     "data": {
      "image/png": "[encoded data removed]",
      "text/plain": [
       "<Figure size 1008x144 with 2 Axes>"
      ]
     },
     "metadata": {
      "needs_background": "light"
     },
     "output_type": "display_data"
    }
   ],
   "source": [
    "show_before_after('amount_tsh')\n",
    "show_before_after('population')\n",
    "show_before_after('longitude')\n",
    "show_before_after('latitude')"
   ]
  },
  {
   "cell_type": "markdown",
   "id": "bcec7e9d",
   "metadata": {},
   "source": [
    "# Normalize / Standardize Numerical Features"
   ]
  },
  {
   "cell_type": "markdown",
   "id": "2288582b",
   "metadata": {},
   "source": [
    "th goal is to make sure all the numerical features are on the same scale."
   ]
  },
  {
   "cell_type": "code",
   "execution_count": 54,
   "id": "e6100082",
   "metadata": {},
   "outputs": [],
   "source": [
    "# Select Numeric Columns to Scale\n",
    "columns_to_scale = ['amount_tsh', 'population', 'gps_height']"
   ]
  },
  {
   "cell_type": "code",
   "execution_count": 55,
   "id": "26939cd2",
   "metadata": {},
   "outputs": [
    {
     "name": "stdout",
     "output_type": "stream",
     "text": [
      "              count          mean       std       min       25%       50%  \\\n",
      "amount_tsh  47520.0  6.632741e-16  1.000011 -0.599222 -0.599222 -0.599222   \n",
      "population  47520.0  4.901733e-16  1.000011 -0.733324 -0.733324 -0.589307   \n",
      "gps_height  47520.0 -1.789160e-16  1.000011 -1.054700 -0.963807 -0.432874   \n",
      "\n",
      "                 75%       max  \n",
      "amount_tsh  0.388346  1.869699  \n",
      "population  0.482178  2.305432  \n",
      "gps_height  0.940625  3.032615  \n"
     ]
    }
   ],
   "source": [
    "# Apply StandardScaler\n",
    "scaler = StandardScaler()\n",
    "df_encoded[columns_to_scale] = scaler.fit_transform(df_encoded[columns_to_scale])\n",
    "print(df_encoded[columns_to_scale].describe().T)"
   ]
  },
  {
   "cell_type": "code",
   "execution_count": 56,
   "id": "0d947845",
   "metadata": {},
   "outputs": [
    {
     "data": {
      "text/plain": [
       "['standard_scaler.pkl']"
      ]
     },
     "execution_count": 56,
     "metadata": {},
     "output_type": "execute_result"
    }
   ],
   "source": [
    "# save the scaler\n",
    "joblib.dump(scaler, 'standard_scaler.pkl')\n"
   ]
  },
  {
   "cell_type": "markdown",
   "id": "ed71cde2",
   "metadata": {},
   "source": [
    "Tip: Numerical features were scaled using StandardScaler to normalize magnitudes and improve model convergence. "
   ]
  },
  {
   "cell_type": "markdown",
   "id": "868088bd",
   "metadata": {},
   "source": [
    "# Build a Data Cleaning Pipeline"
   ]
  },
  {
   "cell_type": "code",
   "execution_count": 57,
   "id": "7e3aeee1",
   "metadata": {},
   "outputs": [],
   "source": [
    "# Define the IQRClipper\n",
    "class IQRClipper(BaseEstimator, TransformerMixin):\n",
    "    def __init__(self, columns):\n",
    "        self.columns = columns\n",
    "        self.bounds = {}\n",
    "\n",
    "    def fit(self, X, y=None):\n",
    "        for col in self.columns:\n",
    "            Q1 = X[col].quantile(0.25)\n",
    "            Q3 = X[col].quantile(0.75)\n",
    "            IQR = Q3 - Q1\n",
    "            lower = Q1 - 1.5 * IQR\n",
    "            upper = Q3 + 1.5 * IQR\n",
    "            self.bounds[col] = (lower, upper)\n",
    "        return self\n",
    "\n",
    "    def transform(self, X):\n",
    "        X = X.copy()\n",
    "        for col in self.columns:\n",
    "            lower, upper = self.bounds[col]\n",
    "            X[col] = X[col].clip(lower, upper)\n",
    "        return X"
   ]
  },
  {
   "cell_type": "code",
   "execution_count": 58,
   "id": "2c9034c2",
   "metadata": {},
   "outputs": [],
   "source": [
    "# setup the column list\n",
    "# Define your features\n",
    "numeric_cols = ['amount_tsh', 'population', 'gps_height']\n",
    "categorical_cols = ['basin', 'payment_type', 'management']\n",
    "# Boolean columns can often go straight in or be cast to int\n",
    "boolean_cols = ['permit', 'public_meeting']"
   ]
  },
  {
   "cell_type": "code",
   "execution_count": 59,
   "id": "e61ecb54",
   "metadata": {},
   "outputs": [],
   "source": [
    "# define the pipelines\n",
    "\n",
    "# Numeric preprocessing\n",
    "numeric_pipeline = Pipeline([\n",
    "    ('iqr_clip', IQRClipper(columns=numeric_cols)),\n",
    "    ('imputer', SimpleImputer(strategy='median')),\n",
    "    ('scaler', StandardScaler())\n",
    "])\n",
    "\n",
    "# Categorical preprocessing\n",
    "categorical_pipeline = Pipeline([\n",
    "    ('imputer', SimpleImputer(strategy='most_frequent')),\n",
    "    ('encoder', OneHotEncoder(handle_unknown='ignore'))\n",
    "])\n",
    "\n",
    "# Boolean preprocessing (optional: cast to int or handle as-is)\n",
    "boolean_pipeline = Pipeline([\n",
    "    ('imputer', SimpleImputer(strategy='most_frequent'))\n",
    "])\n"
   ]
  },
  {
   "cell_type": "code",
   "execution_count": 60,
   "id": "f9279e5e",
   "metadata": {},
   "outputs": [],
   "source": [
    "# combine into full preprocessor\n",
    "preprocessor = ColumnTransformer(transformers=[\n",
    "    ('num', numeric_pipeline, numeric_cols),\n",
    "    ('cat', categorical_pipeline, categorical_cols),\n",
    "    ('bool', boolean_pipeline, boolean_cols)\n",
    "])\n"
   ]
  },
  {
   "cell_type": "code",
   "execution_count": 61,
   "id": "66cdad90",
   "metadata": {},
   "outputs": [],
   "source": [
    "# wrap the final pipeline \n",
    "final_pipeline = Pipeline(steps=[\n",
    "    ('preprocessor', preprocessor)\n",
    "])\n"
   ]
  },
  {
   "cell_type": "code",
   "execution_count": 62,
   "id": "90f07684",
   "metadata": {},
   "outputs": [
    {
     "data": {
      "text/plain": [
       "['data_cleaning_pipeline.pkl']"
      ]
     },
     "execution_count": 62,
     "metadata": {},
     "output_type": "execute_result"
    }
   ],
   "source": [
    "# save the pipeline for later use\n",
    "joblib.dump(final_pipeline, 'data_cleaning_pipeline.pkl')\n"
   ]
  },
  {
   "cell_type": "code",
   "execution_count": 63,
   "id": "da9dfd3f",
   "metadata": {},
   "outputs": [
    {
     "name": "stdout",
     "output_type": "stream",
     "text": [
      "['id', 'amount_tsh', 'date_recorded', 'funder', 'gps_height', 'installer', 'longitude', 'latitude', 'wpt_name', 'basin', 'subvillage', 'region', 'region_code', 'district_code', 'lga', 'ward', 'population', 'public_meeting', 'scheme_management', 'scheme_name', 'permit', 'construction_year', 'extraction_type_class', 'management', 'management_group', 'payment_type', 'water_quality', 'quality_group', 'quantity', 'source', 'source_class', 'waterpoint_type', 'status_group', 'year_recorded', 'month_recorded', 'dayofweek_recorded']\n"
     ]
    }
   ],
   "source": [
    "print(df_train.columns.tolist())"
   ]
  },
  {
   "cell_type": "code",
   "execution_count": 64,
   "id": "b0821fb4",
   "metadata": {},
   "outputs": [],
   "source": [
    "# Now that booleans are numeric, include them in numeric pipeline\n",
    "numeric_cols = ['amount_tsh', 'population', 'gps_height', 'permit', 'public_meeting']\n",
    "categorical_cols = ['basin', 'payment_type', 'management']\n"
   ]
  },
  {
   "cell_type": "code",
   "execution_count": 65,
   "id": "00fe8a48",
   "metadata": {},
   "outputs": [],
   "source": [
    "preprocessor = ColumnTransformer(transformers=[\n",
    "    ('num', numeric_pipeline, numeric_cols),\n",
    "    ('cat', categorical_pipeline, categorical_cols)\n",
    "])\n"
   ]
  },
  {
   "cell_type": "code",
   "execution_count": 66,
   "id": "d3768184",
   "metadata": {},
   "outputs": [
    {
     "name": "stdout",
     "output_type": "stream",
     "text": [
      "Pipeline(steps=[('preprocessor',\n",
      "                 ColumnTransformer(transformers=[('num',\n",
      "                                                  Pipeline(steps=[('iqr_clip',\n",
      "                                                                   IQRClipper(columns=['amount_tsh',\n",
      "                                                                                       'population',\n",
      "                                                                                       'gps_height'])),\n",
      "                                                                  ('imputer',\n",
      "                                                                   SimpleImputer(strategy='median')),\n",
      "                                                                  ('scaler',\n",
      "                                                                   StandardScaler())]),\n",
      "                                                  ['amount_tsh', 'population',\n",
      "                                                   'gps_height']),\n",
      "                                                 ('cat',\n",
      "                                                  Pipeline(steps=[('imputer',\n",
      "                                                                   SimpleImputer(strategy='most_frequent')),\n",
      "                                                                  ('encoder',\n",
      "                                                                   OneHotEncoder(handle_unknown='ignore'))]),\n",
      "                                                  ['basin', 'payment_type',\n",
      "                                                   'management']),\n",
      "                                                 ('bool',\n",
      "                                                  Pipeline(steps=[('imputer',\n",
      "                                                                   SimpleImputer(strategy='most_frequent'))]),\n",
      "                                                  ['permit',\n",
      "                                                   'public_meeting'])]))])\n"
     ]
    }
   ],
   "source": [
    "print(final_pipeline)"
   ]
  },
  {
   "cell_type": "code",
   "execution_count": 67,
   "id": "5d2af659",
   "metadata": {},
   "outputs": [
    {
     "data": {
      "text/html": [
       "<style>div.sk-top-container {color: black;background-color: white;}div.sk-toggleable {background-color: white;}label.sk-toggleable__label {cursor: pointer;display: block;width: 100%;margin-bottom: 0;padding: 0.2em 0.3em;box-sizing: border-box;text-align: center;}div.sk-toggleable__content {max-height: 0;max-width: 0;overflow: hidden;text-align: left;background-color: #f0f8ff;}div.sk-toggleable__content pre {margin: 0.2em;color: black;border-radius: 0.25em;background-color: #f0f8ff;}input.sk-toggleable__control:checked~div.sk-toggleable__content {max-height: 200px;max-width: 100%;overflow: auto;}div.sk-estimator input.sk-toggleable__control:checked~label.sk-toggleable__label {background-color: #d4ebff;}div.sk-label input.sk-toggleable__control:checked~label.sk-toggleable__label {background-color: #d4ebff;}input.sk-hidden--visually {border: 0;clip: rect(1px 1px 1px 1px);clip: rect(1px, 1px, 1px, 1px);height: 1px;margin: -1px;overflow: hidden;padding: 0;position: absolute;width: 1px;}div.sk-estimator {font-family: monospace;background-color: #f0f8ff;margin: 0.25em 0.25em;border: 1px dotted black;border-radius: 0.25em;box-sizing: border-box;}div.sk-estimator:hover {background-color: #d4ebff;}div.sk-parallel-item::after {content: \"\";width: 100%;border-bottom: 1px solid gray;flex-grow: 1;}div.sk-label:hover label.sk-toggleable__label {background-color: #d4ebff;}div.sk-serial::before {content: \"\";position: absolute;border-left: 1px solid gray;box-sizing: border-box;top: 2em;bottom: 0;left: 50%;}div.sk-serial {display: flex;flex-direction: column;align-items: center;background-color: white;}div.sk-item {z-index: 1;}div.sk-parallel {display: flex;align-items: stretch;justify-content: center;background-color: white;}div.sk-parallel-item {display: flex;flex-direction: column;position: relative;background-color: white;}div.sk-parallel-item:first-child::after {align-self: flex-end;width: 50%;}div.sk-parallel-item:last-child::after {align-self: flex-start;width: 50%;}div.sk-parallel-item:only-child::after {width: 0;}div.sk-dashed-wrapped {border: 1px dashed gray;margin: 0.2em;box-sizing: border-box;padding-bottom: 0.1em;background-color: white;position: relative;}div.sk-label label {font-family: monospace;font-weight: bold;background-color: white;display: inline-block;line-height: 1.2em;}div.sk-label-container {position: relative;z-index: 2;text-align: center;}div.sk-container {display: inline-block;position: relative;}</style><div class=\"sk-top-container\"><div class=\"sk-container\"><div class=\"sk-item sk-dashed-wrapped\"><div class=\"sk-label-container\"><div class=\"sk-label sk-toggleable\"><input class=\"sk-toggleable__control sk-hidden--visually\" id=\"bec54ba0-8a18-4d40-9210-acc38f453ac0\" type=\"checkbox\" ><label class=\"sk-toggleable__label\" for=\"bec54ba0-8a18-4d40-9210-acc38f453ac0\">Pipeline</label><div class=\"sk-toggleable__content\"><pre>Pipeline(steps=[('preprocessor',\n",
       "                 ColumnTransformer(transformers=[('num',\n",
       "                                                  Pipeline(steps=[('iqr_clip',\n",
       "                                                                   IQRClipper(columns=['amount_tsh',\n",
       "                                                                                       'population',\n",
       "                                                                                       'gps_height'])),\n",
       "                                                                  ('imputer',\n",
       "                                                                   SimpleImputer(strategy='median')),\n",
       "                                                                  ('scaler',\n",
       "                                                                   StandardScaler())]),\n",
       "                                                  ['amount_tsh', 'population',\n",
       "                                                   'gps_height']),\n",
       "                                                 ('cat',\n",
       "                                                  Pipeline(steps=[('imputer',\n",
       "                                                                   SimpleImputer(strategy='most_frequent')),\n",
       "                                                                  ('encoder',\n",
       "                                                                   OneHotEncoder(handle_unknown='ignore'))]),\n",
       "                                                  ['basin', 'payment_type',\n",
       "                                                   'management']),\n",
       "                                                 ('bool',\n",
       "                                                  Pipeline(steps=[('imputer',\n",
       "                                                                   SimpleImputer(strategy='most_frequent'))]),\n",
       "                                                  ['permit',\n",
       "                                                   'public_meeting'])]))])</pre></div></div></div><div class=\"sk-serial\"><div class=\"sk-item sk-dashed-wrapped\"><div class=\"sk-label-container\"><div class=\"sk-label sk-toggleable\"><input class=\"sk-toggleable__control sk-hidden--visually\" id=\"fdf558cc-431c-46fd-8bcc-04df9bcb6df3\" type=\"checkbox\" ><label class=\"sk-toggleable__label\" for=\"fdf558cc-431c-46fd-8bcc-04df9bcb6df3\">preprocessor: ColumnTransformer</label><div class=\"sk-toggleable__content\"><pre>ColumnTransformer(transformers=[('num',\n",
       "                                 Pipeline(steps=[('iqr_clip',\n",
       "                                                  IQRClipper(columns=['amount_tsh',\n",
       "                                                                      'population',\n",
       "                                                                      'gps_height'])),\n",
       "                                                 ('imputer',\n",
       "                                                  SimpleImputer(strategy='median')),\n",
       "                                                 ('scaler', StandardScaler())]),\n",
       "                                 ['amount_tsh', 'population', 'gps_height']),\n",
       "                                ('cat',\n",
       "                                 Pipeline(steps=[('imputer',\n",
       "                                                  SimpleImputer(strategy='most_frequent')),\n",
       "                                                 ('encoder',\n",
       "                                                  OneHotEncoder(handle_unknown='ignore'))]),\n",
       "                                 ['basin', 'payment_type', 'management']),\n",
       "                                ('bool',\n",
       "                                 Pipeline(steps=[('imputer',\n",
       "                                                  SimpleImputer(strategy='most_frequent'))]),\n",
       "                                 ['permit', 'public_meeting'])])</pre></div></div></div><div class=\"sk-parallel\"><div class=\"sk-parallel-item\"><div class=\"sk-item\"><div class=\"sk-label-container\"><div class=\"sk-label sk-toggleable\"><input class=\"sk-toggleable__control sk-hidden--visually\" id=\"0b7846c6-5d54-4c5a-ab23-782639589c04\" type=\"checkbox\" ><label class=\"sk-toggleable__label\" for=\"0b7846c6-5d54-4c5a-ab23-782639589c04\">num</label><div class=\"sk-toggleable__content\"><pre>['amount_tsh', 'population', 'gps_height']</pre></div></div></div><div class=\"sk-serial\"><div class=\"sk-item\"><div class=\"sk-serial\"><div class=\"sk-item\"><div class=\"sk-estimator sk-toggleable\"><input class=\"sk-toggleable__control sk-hidden--visually\" id=\"84e5a53c-0739-4027-803c-037f2b94929d\" type=\"checkbox\" ><label class=\"sk-toggleable__label\" for=\"84e5a53c-0739-4027-803c-037f2b94929d\">IQRClipper</label><div class=\"sk-toggleable__content\"><pre>IQRClipper(columns=['amount_tsh', 'population', 'gps_height'])</pre></div></div></div><div class=\"sk-item\"><div class=\"sk-estimator sk-toggleable\"><input class=\"sk-toggleable__control sk-hidden--visually\" id=\"3af58169-4279-4805-a46c-573a6acd19d4\" type=\"checkbox\" ><label class=\"sk-toggleable__label\" for=\"3af58169-4279-4805-a46c-573a6acd19d4\">SimpleImputer</label><div class=\"sk-toggleable__content\"><pre>SimpleImputer(strategy='median')</pre></div></div></div><div class=\"sk-item\"><div class=\"sk-estimator sk-toggleable\"><input class=\"sk-toggleable__control sk-hidden--visually\" id=\"ab5f65be-860c-4082-b6d1-524abcd934fe\" type=\"checkbox\" ><label class=\"sk-toggleable__label\" for=\"ab5f65be-860c-4082-b6d1-524abcd934fe\">StandardScaler</label><div class=\"sk-toggleable__content\"><pre>StandardScaler()</pre></div></div></div></div></div></div></div></div><div class=\"sk-parallel-item\"><div class=\"sk-item\"><div class=\"sk-label-container\"><div class=\"sk-label sk-toggleable\"><input class=\"sk-toggleable__control sk-hidden--visually\" id=\"342feda0-5d5a-4eee-83c2-7e8de86b9298\" type=\"checkbox\" ><label class=\"sk-toggleable__label\" for=\"342feda0-5d5a-4eee-83c2-7e8de86b9298\">cat</label><div class=\"sk-toggleable__content\"><pre>['basin', 'payment_type', 'management']</pre></div></div></div><div class=\"sk-serial\"><div class=\"sk-item\"><div class=\"sk-serial\"><div class=\"sk-item\"><div class=\"sk-estimator sk-toggleable\"><input class=\"sk-toggleable__control sk-hidden--visually\" id=\"64b43d39-21bf-434e-a560-91b193c24d6a\" type=\"checkbox\" ><label class=\"sk-toggleable__label\" for=\"64b43d39-21bf-434e-a560-91b193c24d6a\">SimpleImputer</label><div class=\"sk-toggleable__content\"><pre>SimpleImputer(strategy='most_frequent')</pre></div></div></div><div class=\"sk-item\"><div class=\"sk-estimator sk-toggleable\"><input class=\"sk-toggleable__control sk-hidden--visually\" id=\"3d451d93-cdac-4ab5-912d-b8837f1e84d0\" type=\"checkbox\" ><label class=\"sk-toggleable__label\" for=\"3d451d93-cdac-4ab5-912d-b8837f1e84d0\">OneHotEncoder</label><div class=\"sk-toggleable__content\"><pre>OneHotEncoder(handle_unknown='ignore')</pre></div></div></div></div></div></div></div></div><div class=\"sk-parallel-item\"><div class=\"sk-item\"><div class=\"sk-label-container\"><div class=\"sk-label sk-toggleable\"><input class=\"sk-toggleable__control sk-hidden--visually\" id=\"ebbd1551-7a80-4998-9087-1d871640acb3\" type=\"checkbox\" ><label class=\"sk-toggleable__label\" for=\"ebbd1551-7a80-4998-9087-1d871640acb3\">bool</label><div class=\"sk-toggleable__content\"><pre>['permit', 'public_meeting']</pre></div></div></div><div class=\"sk-serial\"><div class=\"sk-item\"><div class=\"sk-serial\"><div class=\"sk-item\"><div class=\"sk-estimator sk-toggleable\"><input class=\"sk-toggleable__control sk-hidden--visually\" id=\"a6e2e989-98e0-4506-b739-61a1ccd74182\" type=\"checkbox\" ><label class=\"sk-toggleable__label\" for=\"a6e2e989-98e0-4506-b739-61a1ccd74182\">SimpleImputer</label><div class=\"sk-toggleable__content\"><pre>SimpleImputer(strategy='most_frequent')</pre></div></div></div></div></div></div></div></div></div></div></div></div></div></div>"
      ],
      "text/plain": [
       "Pipeline(steps=[('preprocessor',\n",
       "                 ColumnTransformer(transformers=[('num',\n",
       "                                                  Pipeline(steps=[('iqr_clip',\n",
       "                                                                   IQRClipper(columns=['amount_tsh',\n",
       "                                                                                       'population',\n",
       "                                                                                       'gps_height'])),\n",
       "                                                                  ('imputer',\n",
       "                                                                   SimpleImputer(strategy='median')),\n",
       "                                                                  ('scaler',\n",
       "                                                                   StandardScaler())]),\n",
       "                                                  ['amount_tsh', 'population',\n",
       "                                                   'gps_height']),\n",
       "                                                 ('cat',\n",
       "                                                  Pipeline(steps=[('imputer',\n",
       "                                                                   SimpleImputer(strategy='most_frequent')),\n",
       "                                                                  ('encoder',\n",
       "                                                                   OneHotEncoder(handle_unknown='ignore'))]),\n",
       "                                                  ['basin', 'payment_type',\n",
       "                                                   'management']),\n",
       "                                                 ('bool',\n",
       "                                                  Pipeline(steps=[('imputer',\n",
       "                                                                   SimpleImputer(strategy='most_frequent'))]),\n",
       "                                                  ['permit',\n",
       "                                                   'public_meeting'])]))])"
      ]
     },
     "execution_count": 67,
     "metadata": {},
     "output_type": "execute_result"
    }
   ],
   "source": [
    "from sklearn import set_config\n",
    "set_config(display='diagram')\n",
    "final_pipeline"
   ]
  }
 ],
 "metadata": {
  "kernelspec": {
   "display_name": "base",
   "language": "python",
   "name": "python3"
  },
  "language_info": {
   "codemirror_mode": {
    "name": "ipython",
    "version": 3
   },
   "file_extension": ".py",
   "mimetype": "text/x-python",
   "name": "python",
   "nbconvert_exporter": "python",
   "pygments_lexer": "ipython3",
   "version": "3.8.8"
  }
 },
 "nbformat": 4,
 "nbformat_minor": 5
}
