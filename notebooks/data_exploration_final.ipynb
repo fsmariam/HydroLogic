{
 "cells": [
  {
   "cell_type": "markdown",
   "id": "359a34af",
   "metadata": {},
   "source": [
    "# Predicting Water Pump Functionality in Tanzania (HydroLogic Project)\n",
    "Authored by Farzaneh Gerami, Subaye Opoku-Acquah & Mariam Farda | \n",
    "March – June 2025"
   ]
  },
  {
   "cell_type": "markdown",
   "id": "9787afa7",
   "metadata": {},
   "source": [
    "# Imports"
   ]
  },
  {
   "cell_type": "code",
   "execution_count": 1,
   "id": "7a46427f",
   "metadata": {},
   "outputs": [],
   "source": [
    "# Imports\n",
    "import pandas as pd\n",
    "import numpy as np\n",
    "import matplotlib.pyplot as plt\n",
    "import seaborn as sns\n",
    "\n",
    "from scipy import stats\n",
    "from scipy.stats import f_oneway\n",
    "\n",
    "import math\n",
    "\n",
    "import datetime\n",
    "\n",
    "from sklearn.impute import SimpleImputer\n",
    "from sklearn.preprocessing import StandardScaler\n",
    "from sklearn.base import BaseEstimator, TransformerMixin\n",
    "from sklearn.pipeline import Pipeline\n",
    "from sklearn.preprocessing import StandardScaler, OneHotEncoder\n",
    "from sklearn.compose import ColumnTransformer\n",
    "\n",
    "import joblib\n"
   ]
  },
  {
   "cell_type": "markdown",
   "id": "6411d448",
   "metadata": {},
   "source": [
    "# Sprint 1 - Data Exploration"
   ]
  },
  {
   "cell_type": "markdown",
   "id": "ff8c46a4",
   "metadata": {},
   "source": [
    "## Load and Examine the Dataset Structure"
   ]
  },
  {
   "cell_type": "code",
   "execution_count": 2,
   "id": "76eaed1f",
   "metadata": {},
   "outputs": [
    {
     "name": "stdout",
     "output_type": "stream",
     "text": [
      "Data is loaded!\n"
     ]
    }
   ],
   "source": [
    "## Read in all our Data\n",
    "\n",
    "url_train_labels = \"https://raw.githubusercontent.com/fsmariam/HydroLogic/refs/heads/main/data/raw/Training_Set_Labels.csv\"\n",
    "train_labels = pd.read_csv(url_train_labels)\n",
    "\n",
    "url_train_values = \"https://raw.githubusercontent.com/fsmariam/HydroLogic/refs/heads/main/data/raw/Training_Set_Values.csv\"\n",
    "train_values = pd.read_csv(url_train_values)\n",
    "\n",
    "url_test_values = \"https://raw.githubusercontent.com/fsmariam/HydroLogic/refs/heads/main/data/raw/Test_Set_Values.csv\"\n",
    "test_values = pd.read_csv(url_test_values)\n",
    "\n",
    "print('Data is loaded!')"
   ]
  },
  {
   "cell_type": "code",
   "execution_count": 3,
   "id": "10763470",
   "metadata": {},
   "outputs": [
    {
     "data": {
      "text/html": [
       "<div>\n",
       "<style scoped>\n",
       "    .dataframe tbody tr th:only-of-type {\n",
       "        vertical-align: middle;\n",
       "    }\n",
       "\n",
       "    .dataframe tbody tr th {\n",
       "        vertical-align: top;\n",
       "    }\n",
       "\n",
       "    .dataframe thead th {\n",
       "        text-align: right;\n",
       "    }\n",
       "</style>\n",
       "<table border=\"1\" class=\"dataframe\">\n",
       "  <thead>\n",
       "    <tr style=\"text-align: right;\">\n",
       "      <th></th>\n",
       "      <th>id</th>\n",
       "      <th>status_group</th>\n",
       "    </tr>\n",
       "  </thead>\n",
       "  <tbody>\n",
       "    <tr>\n",
       "      <th>0</th>\n",
       "      <td>69572</td>\n",
       "      <td>functional</td>\n",
       "    </tr>\n",
       "    <tr>\n",
       "      <th>1</th>\n",
       "      <td>8776</td>\n",
       "      <td>functional</td>\n",
       "    </tr>\n",
       "    <tr>\n",
       "      <th>2</th>\n",
       "      <td>34310</td>\n",
       "      <td>functional</td>\n",
       "    </tr>\n",
       "    <tr>\n",
       "      <th>3</th>\n",
       "      <td>67743</td>\n",
       "      <td>non functional</td>\n",
       "    </tr>\n",
       "    <tr>\n",
       "      <th>4</th>\n",
       "      <td>19728</td>\n",
       "      <td>functional</td>\n",
       "    </tr>\n",
       "    <tr>\n",
       "      <th>5</th>\n",
       "      <td>9944</td>\n",
       "      <td>functional</td>\n",
       "    </tr>\n",
       "    <tr>\n",
       "      <th>6</th>\n",
       "      <td>19816</td>\n",
       "      <td>non functional</td>\n",
       "    </tr>\n",
       "    <tr>\n",
       "      <th>7</th>\n",
       "      <td>54551</td>\n",
       "      <td>non functional</td>\n",
       "    </tr>\n",
       "    <tr>\n",
       "      <th>8</th>\n",
       "      <td>53934</td>\n",
       "      <td>non functional</td>\n",
       "    </tr>\n",
       "    <tr>\n",
       "      <th>9</th>\n",
       "      <td>46144</td>\n",
       "      <td>functional</td>\n",
       "    </tr>\n",
       "  </tbody>\n",
       "</table>\n",
       "</div>"
      ],
      "text/plain": [
       "      id    status_group\n",
       "0  69572      functional\n",
       "1   8776      functional\n",
       "2  34310      functional\n",
       "3  67743  non functional\n",
       "4  19728      functional\n",
       "5   9944      functional\n",
       "6  19816  non functional\n",
       "7  54551  non functional\n",
       "8  53934  non functional\n",
       "9  46144      functional"
      ]
     },
     "execution_count": 3,
     "metadata": {},
     "output_type": "execute_result"
    }
   ],
   "source": [
    "# Preview the dataset\n",
    "train_labels.head(10)"
   ]
  },
  {
   "cell_type": "code",
   "execution_count": 4,
   "id": "e4ae3a03",
   "metadata": {},
   "outputs": [
    {
     "data": {
      "text/html": [
       "<div>\n",
       "<style scoped>\n",
       "    .dataframe tbody tr th:only-of-type {\n",
       "        vertical-align: middle;\n",
       "    }\n",
       "\n",
       "    .dataframe tbody tr th {\n",
       "        vertical-align: top;\n",
       "    }\n",
       "\n",
       "    .dataframe thead th {\n",
       "        text-align: right;\n",
       "    }\n",
       "</style>\n",
       "<table border=\"1\" class=\"dataframe\">\n",
       "  <thead>\n",
       "    <tr style=\"text-align: right;\">\n",
       "      <th></th>\n",
       "      <th>id</th>\n",
       "      <th>amount_tsh</th>\n",
       "      <th>date_recorded</th>\n",
       "      <th>funder</th>\n",
       "      <th>gps_height</th>\n",
       "      <th>installer</th>\n",
       "      <th>longitude</th>\n",
       "      <th>latitude</th>\n",
       "      <th>wpt_name</th>\n",
       "      <th>num_private</th>\n",
       "      <th>...</th>\n",
       "      <th>payment_type</th>\n",
       "      <th>water_quality</th>\n",
       "      <th>quality_group</th>\n",
       "      <th>quantity</th>\n",
       "      <th>quantity_group</th>\n",
       "      <th>source</th>\n",
       "      <th>source_type</th>\n",
       "      <th>source_class</th>\n",
       "      <th>waterpoint_type</th>\n",
       "      <th>waterpoint_type_group</th>\n",
       "    </tr>\n",
       "  </thead>\n",
       "  <tbody>\n",
       "    <tr>\n",
       "      <th>0</th>\n",
       "      <td>69572</td>\n",
       "      <td>6000.0</td>\n",
       "      <td>2011-03-14</td>\n",
       "      <td>Roman</td>\n",
       "      <td>1390</td>\n",
       "      <td>Roman</td>\n",
       "      <td>34.938093</td>\n",
       "      <td>-9.856322</td>\n",
       "      <td>none</td>\n",
       "      <td>0</td>\n",
       "      <td>...</td>\n",
       "      <td>annually</td>\n",
       "      <td>soft</td>\n",
       "      <td>good</td>\n",
       "      <td>enough</td>\n",
       "      <td>enough</td>\n",
       "      <td>spring</td>\n",
       "      <td>spring</td>\n",
       "      <td>groundwater</td>\n",
       "      <td>communal standpipe</td>\n",
       "      <td>communal standpipe</td>\n",
       "    </tr>\n",
       "    <tr>\n",
       "      <th>1</th>\n",
       "      <td>8776</td>\n",
       "      <td>0.0</td>\n",
       "      <td>2013-03-06</td>\n",
       "      <td>Grumeti</td>\n",
       "      <td>1399</td>\n",
       "      <td>GRUMETI</td>\n",
       "      <td>34.698766</td>\n",
       "      <td>-2.147466</td>\n",
       "      <td>Zahanati</td>\n",
       "      <td>0</td>\n",
       "      <td>...</td>\n",
       "      <td>never pay</td>\n",
       "      <td>soft</td>\n",
       "      <td>good</td>\n",
       "      <td>insufficient</td>\n",
       "      <td>insufficient</td>\n",
       "      <td>rainwater harvesting</td>\n",
       "      <td>rainwater harvesting</td>\n",
       "      <td>surface</td>\n",
       "      <td>communal standpipe</td>\n",
       "      <td>communal standpipe</td>\n",
       "    </tr>\n",
       "    <tr>\n",
       "      <th>2</th>\n",
       "      <td>34310</td>\n",
       "      <td>25.0</td>\n",
       "      <td>2013-02-25</td>\n",
       "      <td>Lottery Club</td>\n",
       "      <td>686</td>\n",
       "      <td>World vision</td>\n",
       "      <td>37.460664</td>\n",
       "      <td>-3.821329</td>\n",
       "      <td>Kwa Mahundi</td>\n",
       "      <td>0</td>\n",
       "      <td>...</td>\n",
       "      <td>per bucket</td>\n",
       "      <td>soft</td>\n",
       "      <td>good</td>\n",
       "      <td>enough</td>\n",
       "      <td>enough</td>\n",
       "      <td>dam</td>\n",
       "      <td>dam</td>\n",
       "      <td>surface</td>\n",
       "      <td>communal standpipe multiple</td>\n",
       "      <td>communal standpipe</td>\n",
       "    </tr>\n",
       "    <tr>\n",
       "      <th>3</th>\n",
       "      <td>67743</td>\n",
       "      <td>0.0</td>\n",
       "      <td>2013-01-28</td>\n",
       "      <td>Unicef</td>\n",
       "      <td>263</td>\n",
       "      <td>UNICEF</td>\n",
       "      <td>38.486161</td>\n",
       "      <td>-11.155298</td>\n",
       "      <td>Zahanati Ya Nanyumbu</td>\n",
       "      <td>0</td>\n",
       "      <td>...</td>\n",
       "      <td>never pay</td>\n",
       "      <td>soft</td>\n",
       "      <td>good</td>\n",
       "      <td>dry</td>\n",
       "      <td>dry</td>\n",
       "      <td>machine dbh</td>\n",
       "      <td>borehole</td>\n",
       "      <td>groundwater</td>\n",
       "      <td>communal standpipe multiple</td>\n",
       "      <td>communal standpipe</td>\n",
       "    </tr>\n",
       "    <tr>\n",
       "      <th>4</th>\n",
       "      <td>19728</td>\n",
       "      <td>0.0</td>\n",
       "      <td>2011-07-13</td>\n",
       "      <td>Action In A</td>\n",
       "      <td>0</td>\n",
       "      <td>Artisan</td>\n",
       "      <td>31.130847</td>\n",
       "      <td>-1.825359</td>\n",
       "      <td>Shuleni</td>\n",
       "      <td>0</td>\n",
       "      <td>...</td>\n",
       "      <td>never pay</td>\n",
       "      <td>soft</td>\n",
       "      <td>good</td>\n",
       "      <td>seasonal</td>\n",
       "      <td>seasonal</td>\n",
       "      <td>rainwater harvesting</td>\n",
       "      <td>rainwater harvesting</td>\n",
       "      <td>surface</td>\n",
       "      <td>communal standpipe</td>\n",
       "      <td>communal standpipe</td>\n",
       "    </tr>\n",
       "    <tr>\n",
       "      <th>5</th>\n",
       "      <td>9944</td>\n",
       "      <td>20.0</td>\n",
       "      <td>2011-03-13</td>\n",
       "      <td>Mkinga Distric Coun</td>\n",
       "      <td>0</td>\n",
       "      <td>DWE</td>\n",
       "      <td>39.172796</td>\n",
       "      <td>-4.765587</td>\n",
       "      <td>Tajiri</td>\n",
       "      <td>0</td>\n",
       "      <td>...</td>\n",
       "      <td>per bucket</td>\n",
       "      <td>salty</td>\n",
       "      <td>salty</td>\n",
       "      <td>enough</td>\n",
       "      <td>enough</td>\n",
       "      <td>other</td>\n",
       "      <td>other</td>\n",
       "      <td>unknown</td>\n",
       "      <td>communal standpipe multiple</td>\n",
       "      <td>communal standpipe</td>\n",
       "    </tr>\n",
       "    <tr>\n",
       "      <th>6</th>\n",
       "      <td>19816</td>\n",
       "      <td>0.0</td>\n",
       "      <td>2012-10-01</td>\n",
       "      <td>Dwsp</td>\n",
       "      <td>0</td>\n",
       "      <td>DWSP</td>\n",
       "      <td>33.362410</td>\n",
       "      <td>-3.766365</td>\n",
       "      <td>Kwa Ngomho</td>\n",
       "      <td>0</td>\n",
       "      <td>...</td>\n",
       "      <td>never pay</td>\n",
       "      <td>soft</td>\n",
       "      <td>good</td>\n",
       "      <td>enough</td>\n",
       "      <td>enough</td>\n",
       "      <td>machine dbh</td>\n",
       "      <td>borehole</td>\n",
       "      <td>groundwater</td>\n",
       "      <td>hand pump</td>\n",
       "      <td>hand pump</td>\n",
       "    </tr>\n",
       "    <tr>\n",
       "      <th>7</th>\n",
       "      <td>54551</td>\n",
       "      <td>0.0</td>\n",
       "      <td>2012-10-09</td>\n",
       "      <td>Rwssp</td>\n",
       "      <td>0</td>\n",
       "      <td>DWE</td>\n",
       "      <td>32.620617</td>\n",
       "      <td>-4.226198</td>\n",
       "      <td>Tushirikiane</td>\n",
       "      <td>0</td>\n",
       "      <td>...</td>\n",
       "      <td>unknown</td>\n",
       "      <td>milky</td>\n",
       "      <td>milky</td>\n",
       "      <td>enough</td>\n",
       "      <td>enough</td>\n",
       "      <td>shallow well</td>\n",
       "      <td>shallow well</td>\n",
       "      <td>groundwater</td>\n",
       "      <td>hand pump</td>\n",
       "      <td>hand pump</td>\n",
       "    </tr>\n",
       "    <tr>\n",
       "      <th>8</th>\n",
       "      <td>53934</td>\n",
       "      <td>0.0</td>\n",
       "      <td>2012-11-03</td>\n",
       "      <td>Wateraid</td>\n",
       "      <td>0</td>\n",
       "      <td>Water Aid</td>\n",
       "      <td>32.711100</td>\n",
       "      <td>-5.146712</td>\n",
       "      <td>Kwa Ramadhan Musa</td>\n",
       "      <td>0</td>\n",
       "      <td>...</td>\n",
       "      <td>never pay</td>\n",
       "      <td>salty</td>\n",
       "      <td>salty</td>\n",
       "      <td>seasonal</td>\n",
       "      <td>seasonal</td>\n",
       "      <td>machine dbh</td>\n",
       "      <td>borehole</td>\n",
       "      <td>groundwater</td>\n",
       "      <td>hand pump</td>\n",
       "      <td>hand pump</td>\n",
       "    </tr>\n",
       "    <tr>\n",
       "      <th>9</th>\n",
       "      <td>46144</td>\n",
       "      <td>0.0</td>\n",
       "      <td>2011-08-03</td>\n",
       "      <td>Isingiro Ho</td>\n",
       "      <td>0</td>\n",
       "      <td>Artisan</td>\n",
       "      <td>30.626991</td>\n",
       "      <td>-1.257051</td>\n",
       "      <td>Kwapeto</td>\n",
       "      <td>0</td>\n",
       "      <td>...</td>\n",
       "      <td>never pay</td>\n",
       "      <td>soft</td>\n",
       "      <td>good</td>\n",
       "      <td>enough</td>\n",
       "      <td>enough</td>\n",
       "      <td>shallow well</td>\n",
       "      <td>shallow well</td>\n",
       "      <td>groundwater</td>\n",
       "      <td>hand pump</td>\n",
       "      <td>hand pump</td>\n",
       "    </tr>\n",
       "  </tbody>\n",
       "</table>\n",
       "<p>10 rows × 40 columns</p>\n",
       "</div>"
      ],
      "text/plain": [
       "      id  amount_tsh date_recorded               funder  gps_height  \\\n",
       "0  69572      6000.0    2011-03-14                Roman        1390   \n",
       "1   8776         0.0    2013-03-06              Grumeti        1399   \n",
       "2  34310        25.0    2013-02-25         Lottery Club         686   \n",
       "3  67743         0.0    2013-01-28               Unicef         263   \n",
       "4  19728         0.0    2011-07-13          Action In A           0   \n",
       "5   9944        20.0    2011-03-13  Mkinga Distric Coun           0   \n",
       "6  19816         0.0    2012-10-01                 Dwsp           0   \n",
       "7  54551         0.0    2012-10-09                Rwssp           0   \n",
       "8  53934         0.0    2012-11-03             Wateraid           0   \n",
       "9  46144         0.0    2011-08-03          Isingiro Ho           0   \n",
       "\n",
       "      installer  longitude   latitude              wpt_name  num_private  ...  \\\n",
       "0         Roman  34.938093  -9.856322                  none            0  ...   \n",
       "1       GRUMETI  34.698766  -2.147466              Zahanati            0  ...   \n",
       "2  World vision  37.460664  -3.821329           Kwa Mahundi            0  ...   \n",
       "3        UNICEF  38.486161 -11.155298  Zahanati Ya Nanyumbu            0  ...   \n",
       "4       Artisan  31.130847  -1.825359               Shuleni            0  ...   \n",
       "5           DWE  39.172796  -4.765587                Tajiri            0  ...   \n",
       "6          DWSP  33.362410  -3.766365            Kwa Ngomho            0  ...   \n",
       "7           DWE  32.620617  -4.226198          Tushirikiane            0  ...   \n",
       "8     Water Aid  32.711100  -5.146712     Kwa Ramadhan Musa            0  ...   \n",
       "9       Artisan  30.626991  -1.257051               Kwapeto            0  ...   \n",
       "\n",
       "  payment_type water_quality quality_group      quantity  quantity_group  \\\n",
       "0     annually          soft          good        enough          enough   \n",
       "1    never pay          soft          good  insufficient    insufficient   \n",
       "2   per bucket          soft          good        enough          enough   \n",
       "3    never pay          soft          good           dry             dry   \n",
       "4    never pay          soft          good      seasonal        seasonal   \n",
       "5   per bucket         salty         salty        enough          enough   \n",
       "6    never pay          soft          good        enough          enough   \n",
       "7      unknown         milky         milky        enough          enough   \n",
       "8    never pay         salty         salty      seasonal        seasonal   \n",
       "9    never pay          soft          good        enough          enough   \n",
       "\n",
       "                 source           source_type  source_class  \\\n",
       "0                spring                spring   groundwater   \n",
       "1  rainwater harvesting  rainwater harvesting       surface   \n",
       "2                   dam                   dam       surface   \n",
       "3           machine dbh              borehole   groundwater   \n",
       "4  rainwater harvesting  rainwater harvesting       surface   \n",
       "5                 other                 other       unknown   \n",
       "6           machine dbh              borehole   groundwater   \n",
       "7          shallow well          shallow well   groundwater   \n",
       "8           machine dbh              borehole   groundwater   \n",
       "9          shallow well          shallow well   groundwater   \n",
       "\n",
       "               waterpoint_type waterpoint_type_group  \n",
       "0           communal standpipe    communal standpipe  \n",
       "1           communal standpipe    communal standpipe  \n",
       "2  communal standpipe multiple    communal standpipe  \n",
       "3  communal standpipe multiple    communal standpipe  \n",
       "4           communal standpipe    communal standpipe  \n",
       "5  communal standpipe multiple    communal standpipe  \n",
       "6                    hand pump             hand pump  \n",
       "7                    hand pump             hand pump  \n",
       "8                    hand pump             hand pump  \n",
       "9                    hand pump             hand pump  \n",
       "\n",
       "[10 rows x 40 columns]"
      ]
     },
     "execution_count": 4,
     "metadata": {},
     "output_type": "execute_result"
    }
   ],
   "source": [
    "# Preview the dataset\n",
    "train_values.head(10)"
   ]
  },
  {
   "cell_type": "markdown",
   "id": "5e7ee6bc",
   "metadata": {},
   "source": [
    "## Merge Train Data"
   ]
  },
  {
   "cell_type": "code",
   "execution_count": 5,
   "id": "f5ff7595",
   "metadata": {},
   "outputs": [
    {
     "data": {
      "text/html": [
       "<div>\n",
       "<style scoped>\n",
       "    .dataframe tbody tr th:only-of-type {\n",
       "        vertical-align: middle;\n",
       "    }\n",
       "\n",
       "    .dataframe tbody tr th {\n",
       "        vertical-align: top;\n",
       "    }\n",
       "\n",
       "    .dataframe thead th {\n",
       "        text-align: right;\n",
       "    }\n",
       "</style>\n",
       "<table border=\"1\" class=\"dataframe\">\n",
       "  <thead>\n",
       "    <tr style=\"text-align: right;\">\n",
       "      <th></th>\n",
       "      <th>id</th>\n",
       "      <th>amount_tsh</th>\n",
       "      <th>date_recorded</th>\n",
       "      <th>funder</th>\n",
       "      <th>gps_height</th>\n",
       "      <th>installer</th>\n",
       "      <th>longitude</th>\n",
       "      <th>latitude</th>\n",
       "      <th>wpt_name</th>\n",
       "      <th>num_private</th>\n",
       "      <th>...</th>\n",
       "      <th>water_quality</th>\n",
       "      <th>quality_group</th>\n",
       "      <th>quantity</th>\n",
       "      <th>quantity_group</th>\n",
       "      <th>source</th>\n",
       "      <th>source_type</th>\n",
       "      <th>source_class</th>\n",
       "      <th>waterpoint_type</th>\n",
       "      <th>waterpoint_type_group</th>\n",
       "      <th>status_group</th>\n",
       "    </tr>\n",
       "  </thead>\n",
       "  <tbody>\n",
       "    <tr>\n",
       "      <th>0</th>\n",
       "      <td>69572</td>\n",
       "      <td>6000.0</td>\n",
       "      <td>2011-03-14</td>\n",
       "      <td>Roman</td>\n",
       "      <td>1390</td>\n",
       "      <td>Roman</td>\n",
       "      <td>34.938093</td>\n",
       "      <td>-9.856322</td>\n",
       "      <td>none</td>\n",
       "      <td>0</td>\n",
       "      <td>...</td>\n",
       "      <td>soft</td>\n",
       "      <td>good</td>\n",
       "      <td>enough</td>\n",
       "      <td>enough</td>\n",
       "      <td>spring</td>\n",
       "      <td>spring</td>\n",
       "      <td>groundwater</td>\n",
       "      <td>communal standpipe</td>\n",
       "      <td>communal standpipe</td>\n",
       "      <td>functional</td>\n",
       "    </tr>\n",
       "    <tr>\n",
       "      <th>1</th>\n",
       "      <td>8776</td>\n",
       "      <td>0.0</td>\n",
       "      <td>2013-03-06</td>\n",
       "      <td>Grumeti</td>\n",
       "      <td>1399</td>\n",
       "      <td>GRUMETI</td>\n",
       "      <td>34.698766</td>\n",
       "      <td>-2.147466</td>\n",
       "      <td>Zahanati</td>\n",
       "      <td>0</td>\n",
       "      <td>...</td>\n",
       "      <td>soft</td>\n",
       "      <td>good</td>\n",
       "      <td>insufficient</td>\n",
       "      <td>insufficient</td>\n",
       "      <td>rainwater harvesting</td>\n",
       "      <td>rainwater harvesting</td>\n",
       "      <td>surface</td>\n",
       "      <td>communal standpipe</td>\n",
       "      <td>communal standpipe</td>\n",
       "      <td>functional</td>\n",
       "    </tr>\n",
       "    <tr>\n",
       "      <th>2</th>\n",
       "      <td>34310</td>\n",
       "      <td>25.0</td>\n",
       "      <td>2013-02-25</td>\n",
       "      <td>Lottery Club</td>\n",
       "      <td>686</td>\n",
       "      <td>World vision</td>\n",
       "      <td>37.460664</td>\n",
       "      <td>-3.821329</td>\n",
       "      <td>Kwa Mahundi</td>\n",
       "      <td>0</td>\n",
       "      <td>...</td>\n",
       "      <td>soft</td>\n",
       "      <td>good</td>\n",
       "      <td>enough</td>\n",
       "      <td>enough</td>\n",
       "      <td>dam</td>\n",
       "      <td>dam</td>\n",
       "      <td>surface</td>\n",
       "      <td>communal standpipe multiple</td>\n",
       "      <td>communal standpipe</td>\n",
       "      <td>functional</td>\n",
       "    </tr>\n",
       "    <tr>\n",
       "      <th>3</th>\n",
       "      <td>67743</td>\n",
       "      <td>0.0</td>\n",
       "      <td>2013-01-28</td>\n",
       "      <td>Unicef</td>\n",
       "      <td>263</td>\n",
       "      <td>UNICEF</td>\n",
       "      <td>38.486161</td>\n",
       "      <td>-11.155298</td>\n",
       "      <td>Zahanati Ya Nanyumbu</td>\n",
       "      <td>0</td>\n",
       "      <td>...</td>\n",
       "      <td>soft</td>\n",
       "      <td>good</td>\n",
       "      <td>dry</td>\n",
       "      <td>dry</td>\n",
       "      <td>machine dbh</td>\n",
       "      <td>borehole</td>\n",
       "      <td>groundwater</td>\n",
       "      <td>communal standpipe multiple</td>\n",
       "      <td>communal standpipe</td>\n",
       "      <td>non functional</td>\n",
       "    </tr>\n",
       "    <tr>\n",
       "      <th>4</th>\n",
       "      <td>19728</td>\n",
       "      <td>0.0</td>\n",
       "      <td>2011-07-13</td>\n",
       "      <td>Action In A</td>\n",
       "      <td>0</td>\n",
       "      <td>Artisan</td>\n",
       "      <td>31.130847</td>\n",
       "      <td>-1.825359</td>\n",
       "      <td>Shuleni</td>\n",
       "      <td>0</td>\n",
       "      <td>...</td>\n",
       "      <td>soft</td>\n",
       "      <td>good</td>\n",
       "      <td>seasonal</td>\n",
       "      <td>seasonal</td>\n",
       "      <td>rainwater harvesting</td>\n",
       "      <td>rainwater harvesting</td>\n",
       "      <td>surface</td>\n",
       "      <td>communal standpipe</td>\n",
       "      <td>communal standpipe</td>\n",
       "      <td>functional</td>\n",
       "    </tr>\n",
       "  </tbody>\n",
       "</table>\n",
       "<p>5 rows × 41 columns</p>\n",
       "</div>"
      ],
      "text/plain": [
       "      id  amount_tsh date_recorded        funder  gps_height     installer  \\\n",
       "0  69572      6000.0    2011-03-14         Roman        1390         Roman   \n",
       "1   8776         0.0    2013-03-06       Grumeti        1399       GRUMETI   \n",
       "2  34310        25.0    2013-02-25  Lottery Club         686  World vision   \n",
       "3  67743         0.0    2013-01-28        Unicef         263        UNICEF   \n",
       "4  19728         0.0    2011-07-13   Action In A           0       Artisan   \n",
       "\n",
       "   longitude   latitude              wpt_name  num_private  ... water_quality  \\\n",
       "0  34.938093  -9.856322                  none            0  ...          soft   \n",
       "1  34.698766  -2.147466              Zahanati            0  ...          soft   \n",
       "2  37.460664  -3.821329           Kwa Mahundi            0  ...          soft   \n",
       "3  38.486161 -11.155298  Zahanati Ya Nanyumbu            0  ...          soft   \n",
       "4  31.130847  -1.825359               Shuleni            0  ...          soft   \n",
       "\n",
       "  quality_group      quantity  quantity_group                source  \\\n",
       "0          good        enough          enough                spring   \n",
       "1          good  insufficient    insufficient  rainwater harvesting   \n",
       "2          good        enough          enough                   dam   \n",
       "3          good           dry             dry           machine dbh   \n",
       "4          good      seasonal        seasonal  rainwater harvesting   \n",
       "\n",
       "            source_type source_class              waterpoint_type  \\\n",
       "0                spring  groundwater           communal standpipe   \n",
       "1  rainwater harvesting      surface           communal standpipe   \n",
       "2                   dam      surface  communal standpipe multiple   \n",
       "3              borehole  groundwater  communal standpipe multiple   \n",
       "4  rainwater harvesting      surface           communal standpipe   \n",
       "\n",
       "  waterpoint_type_group    status_group  \n",
       "0    communal standpipe      functional  \n",
       "1    communal standpipe      functional  \n",
       "2    communal standpipe      functional  \n",
       "3    communal standpipe  non functional  \n",
       "4    communal standpipe      functional  \n",
       "\n",
       "[5 rows x 41 columns]"
      ]
     },
     "execution_count": 5,
     "metadata": {},
     "output_type": "execute_result"
    }
   ],
   "source": [
    "# Merge them\n",
    "#df_train = train_values.merge(train_labels, on=\"id\", how=\"left\")\n",
    "df_train = pd.merge(train_values, train_labels, on='id')\n",
    "# df = pd.concat([df_values, df_labels], axis=1)\n",
    "\n",
    "df_train.to_csv('../data/processed/Merged_Training_Set.csv', index=False) \n",
    "\n",
    "# Preview the dataset\n",
    "df_train.head()"
   ]
  },
  {
   "cell_type": "code",
   "execution_count": 6,
   "id": "afe181ee",
   "metadata": {},
   "outputs": [
    {
     "name": "stdout",
     "output_type": "stream",
     "text": [
      "Training Shape: (59400, 41)\n",
      "Test Shape: (14850, 40)\n"
     ]
    }
   ],
   "source": [
    "# Shape of the dataset\n",
    "print(\"Training Shape:\", df_train.shape)\n",
    "print(\"Test Shape:\", test_values.shape)"
   ]
  },
  {
   "cell_type": "code",
   "execution_count": 7,
   "id": "65fc466e",
   "metadata": {},
   "outputs": [
    {
     "name": "stdout",
     "output_type": "stream",
     "text": [
      "<class 'pandas.core.frame.DataFrame'>\n",
      "Int64Index: 59400 entries, 0 to 59399\n",
      "Data columns (total 41 columns):\n",
      " #   Column                 Non-Null Count  Dtype  \n",
      "---  ------                 --------------  -----  \n",
      " 0   id                     59400 non-null  int64  \n",
      " 1   amount_tsh             59400 non-null  float64\n",
      " 2   date_recorded          59400 non-null  object \n",
      " 3   funder                 55765 non-null  object \n",
      " 4   gps_height             59400 non-null  int64  \n",
      " 5   installer              55745 non-null  object \n",
      " 6   longitude              59400 non-null  float64\n",
      " 7   latitude               59400 non-null  float64\n",
      " 8   wpt_name               59400 non-null  object \n",
      " 9   num_private            59400 non-null  int64  \n",
      " 10  basin                  59400 non-null  object \n",
      " 11  subvillage             59029 non-null  object \n",
      " 12  region                 59400 non-null  object \n",
      " 13  region_code            59400 non-null  int64  \n",
      " 14  district_code          59400 non-null  int64  \n",
      " 15  lga                    59400 non-null  object \n",
      " 16  ward                   59400 non-null  object \n",
      " 17  population             59400 non-null  int64  \n",
      " 18  public_meeting         56066 non-null  object \n",
      " 19  recorded_by            59400 non-null  object \n",
      " 20  scheme_management      55523 non-null  object \n",
      " 21  scheme_name            31234 non-null  object \n",
      " 22  permit                 56344 non-null  object \n",
      " 23  construction_year      59400 non-null  int64  \n",
      " 24  extraction_type        59400 non-null  object \n",
      " 25  extraction_type_group  59400 non-null  object \n",
      " 26  extraction_type_class  59400 non-null  object \n",
      " 27  management             59400 non-null  object \n",
      " 28  management_group       59400 non-null  object \n",
      " 29  payment                59400 non-null  object \n",
      " 30  payment_type           59400 non-null  object \n",
      " 31  water_quality          59400 non-null  object \n",
      " 32  quality_group          59400 non-null  object \n",
      " 33  quantity               59400 non-null  object \n",
      " 34  quantity_group         59400 non-null  object \n",
      " 35  source                 59400 non-null  object \n",
      " 36  source_type            59400 non-null  object \n",
      " 37  source_class           59400 non-null  object \n",
      " 38  waterpoint_type        59400 non-null  object \n",
      " 39  waterpoint_type_group  59400 non-null  object \n",
      " 40  status_group           59400 non-null  object \n",
      "dtypes: float64(3), int64(7), object(31)\n",
      "memory usage: 19.0+ MB\n"
     ]
    }
   ],
   "source": [
    "# Overview of data types\n",
    "df_train.info()"
   ]
  },
  {
   "cell_type": "markdown",
   "id": "a7fce8d7",
   "metadata": {},
   "source": [
    "# Looking at each Feature and Target"
   ]
  },
  {
   "cell_type": "markdown",
   "id": "debc7bcb",
   "metadata": {},
   "source": [
    "## Identification & basic info"
   ]
  },
  {
   "cell_type": "code",
   "execution_count": 8,
   "id": "4caf6f25",
   "metadata": {},
   "outputs": [
    {
     "data": {
      "text/plain": [
       "2011-03-15    572\n",
       "2011-03-17    558\n",
       "2013-02-03    546\n",
       "2011-03-14    520\n",
       "2011-03-16    513\n",
       "             ... \n",
       "2013-01-06      1\n",
       "2011-09-12      1\n",
       "2011-09-27      1\n",
       "2011-09-16      1\n",
       "2011-09-19      1\n",
       "Name: date_recorded, Length: 356, dtype: int64"
      ]
     },
     "execution_count": 8,
     "metadata": {},
     "output_type": "execute_result"
    }
   ],
   "source": [
    "# Look at the distribution of the date_recorded\n",
    "df_train['date_recorded'].value_counts().sort_values(ascending=False)"
   ]
  },
  {
   "cell_type": "markdown",
   "id": "6c4d6adb",
   "metadata": {},
   "source": [
    "Interpretation: Date_recorded: This is the date of data collection. We need to change the type to datetime64, extract the year and month to see if there is any meaningful relation between date recorded and group status"
   ]
  },
  {
   "cell_type": "code",
   "execution_count": 9,
   "id": "65cf1da0",
   "metadata": {},
   "outputs": [
    {
     "data": {
      "text/plain": [
       "GeoData Consultants Ltd    59400\n",
       "Name: recorded_by, dtype: int64"
      ]
     },
     "execution_count": 9,
     "metadata": {},
     "output_type": "execute_result"
    }
   ],
   "source": [
    "# Look at the distribution of the recorded_by\n",
    "df_train['recorded_by'].value_counts().sort_values(ascending=False)"
   ]
  },
  {
   "cell_type": "markdown",
   "id": "7d63dfe1",
   "metadata": {},
   "source": [
    "Interpretation: Recorded_by: This record is person / organization that record the data and all has a GeoData Consultants Ltd. Maybe we can drop that. "
   ]
  },
  {
   "cell_type": "markdown",
   "id": "b6d82928",
   "metadata": {},
   "source": [
    "# Location & Demographics"
   ]
  },
  {
   "cell_type": "code",
   "execution_count": 10,
   "id": "d5a4c7b2",
   "metadata": {},
   "outputs": [
    {
     "data": {
      "text/plain": [
       " 0       20438\n",
       "-15         60\n",
       "-16         55\n",
       "-13         55\n",
       " 1290       52\n",
       "         ...  \n",
       " 2424        1\n",
       " 2552        1\n",
       " 2365        1\n",
       " 2128        1\n",
       " 2038        1\n",
       "Name: gps_height, Length: 2428, dtype: int64"
      ]
     },
     "execution_count": 10,
     "metadata": {},
     "output_type": "execute_result"
    }
   ],
   "source": [
    "# Look at the distribution of the gps_height\n",
    "df_train['gps_height'].value_counts().sort_values(ascending=False)"
   ]
  },
  {
   "cell_type": "markdown",
   "id": "09c958f1",
   "metadata": {},
   "source": [
    "Interpretation: gps_height: Elevaton in meters. range is between -90 - 2770. check if there is any meaningful relation between the target and gps_height"
   ]
  },
  {
   "cell_type": "code",
   "execution_count": 11,
   "id": "4fdb85d6",
   "metadata": {},
   "outputs": [
    {
     "data": {
      "text/plain": [
       "-2.000000e-08    1812\n",
       "-6.992611e+00       2\n",
       "-6.963557e+00       2\n",
       "-2.485227e+00       2\n",
       "-2.510639e+00       2\n",
       "                 ... \n",
       "-6.917508e+00       1\n",
       "-4.768812e+00       1\n",
       "-6.823189e+00       1\n",
       "-9.287251e+00       1\n",
       "-1.077290e+01       1\n",
       "Name: latitude, Length: 57517, dtype: int64"
      ]
     },
     "execution_count": 11,
     "metadata": {},
     "output_type": "execute_result"
    }
   ],
   "source": [
    "# Look at the distribution of the latitude\n",
    "df_train['latitude'].value_counts().sort_values(ascending=False)"
   ]
  },
  {
   "cell_type": "code",
   "execution_count": 12,
   "id": "802e3834",
   "metadata": {},
   "outputs": [
    {
     "data": {
      "text/plain": [
       "0.000000     1812\n",
       "33.015597       2\n",
       "37.375717       2\n",
       "39.099069       2\n",
       "31.619530       2\n",
       "             ... \n",
       "39.732978       1\n",
       "29.703335       1\n",
       "31.408318       1\n",
       "30.856588       1\n",
       "35.164770       1\n",
       "Name: longitude, Length: 57516, dtype: int64"
      ]
     },
     "execution_count": 12,
     "metadata": {},
     "output_type": "execute_result"
    }
   ],
   "source": [
    "# Look at the distribution of the longitude\n",
    "df_train['longitude'].value_counts().sort_values(ascending=False)"
   ]
  },
  {
   "cell_type": "markdown",
   "id": "7f00f942",
   "metadata": {},
   "source": [
    "latitude 6°23′31.20″ South, longitude 35°00′07.20″ East\n",
    "Source: https://www.mapsofworld.com/lat_long/tanzania-lat-long.html\n",
    "there is a table in this website with the all regions lonitude and latitude. Maybe we can import this table and correct the missing or zero inputs.\n",
    "\n",
    "Interpretation: longitude in table are between min 0 and max 40.35 and latitude in table: min -11.65 to max 0.00000002"
   ]
  },
  {
   "cell_type": "code",
   "execution_count": 13,
   "id": "2997785a",
   "metadata": {},
   "outputs": [
    {
     "data": {
      "text/plain": [
       "Iringa           5294\n",
       "Shinyanga        4982\n",
       "Mbeya            4639\n",
       "Kilimanjaro      4379\n",
       "Morogoro         4006\n",
       "Arusha           3350\n",
       "Kagera           3316\n",
       "Mwanza           3102\n",
       "Kigoma           2816\n",
       "Ruvuma           2640\n",
       "Pwani            2635\n",
       "Tanga            2547\n",
       "Dodoma           2201\n",
       "Singida          2093\n",
       "Mara             1969\n",
       "Tabora           1959\n",
       "Rukwa            1808\n",
       "Mtwara           1730\n",
       "Manyara          1583\n",
       "Lindi            1546\n",
       "Dar es Salaam     805\n",
       "Name: region, dtype: int64"
      ]
     },
     "execution_count": 13,
     "metadata": {},
     "output_type": "execute_result"
    }
   ],
   "source": [
    "# Look at the distribution of the region\n",
    "df_train['region'].value_counts().sort_values(ascending=False)"
   ]
  },
  {
   "cell_type": "code",
   "execution_count": 14,
   "id": "74ba6994",
   "metadata": {},
   "outputs": [
    {
     "data": {
      "text/plain": [
       "11    5300\n",
       "17    5011\n",
       "12    4639\n",
       "3     4379\n",
       "5     4040\n",
       "18    3324\n",
       "19    3047\n",
       "2     3024\n",
       "16    2816\n",
       "10    2640\n",
       "4     2513\n",
       "1     2201\n",
       "13    2093\n",
       "14    1979\n",
       "20    1969\n",
       "15    1808\n",
       "6     1609\n",
       "21    1583\n",
       "80    1238\n",
       "60    1025\n",
       "90     917\n",
       "7      805\n",
       "99     423\n",
       "9      390\n",
       "24     326\n",
       "8      300\n",
       "40       1\n",
       "Name: region_code, dtype: int64"
      ]
     },
     "execution_count": 14,
     "metadata": {},
     "output_type": "execute_result"
    }
   ],
   "source": [
    "# Look at the distribution of the region_code\n",
    "df_train['region_code'].value_counts().sort_values(ascending=False)"
   ]
  },
  {
   "cell_type": "code",
   "execution_count": 15,
   "id": "69b1708c",
   "metadata": {},
   "outputs": [
    {
     "data": {
      "text/plain": [
       "1     12203\n",
       "2     11173\n",
       "3      9998\n",
       "4      8999\n",
       "5      4356\n",
       "6      4074\n",
       "7      3343\n",
       "8      1043\n",
       "30      995\n",
       "33      874\n",
       "53      745\n",
       "43      505\n",
       "13      391\n",
       "23      293\n",
       "63      195\n",
       "62      109\n",
       "60       63\n",
       "0        23\n",
       "80       12\n",
       "67        6\n",
       "Name: district_code, dtype: int64"
      ]
     },
     "execution_count": 15,
     "metadata": {},
     "output_type": "execute_result"
    }
   ],
   "source": [
    "# Look at the distribution of the district_code\n",
    "df_train['district_code'].value_counts().sort_values(ascending=False)"
   ]
  },
  {
   "cell_type": "code",
   "execution_count": 16,
   "id": "bdf061ac",
   "metadata": {},
   "outputs": [
    {
     "data": {
      "text/plain": [
       "Njombe          2503\n",
       "Arusha Rural    1252\n",
       "Moshi Rural     1251\n",
       "Bariadi         1177\n",
       "Rungwe          1106\n",
       "                ... \n",
       "Moshi Urban       79\n",
       "Kigoma Urban      71\n",
       "Arusha Urban      63\n",
       "Lindi Urban       21\n",
       "Nyamagana          1\n",
       "Name: lga, Length: 125, dtype: int64"
      ]
     },
     "execution_count": 16,
     "metadata": {},
     "output_type": "execute_result"
    }
   ],
   "source": [
    "# Look at the distribution of the lga\n",
    "df_train['lga'].value_counts().sort_values(ascending=False)"
   ]
  },
  {
   "cell_type": "code",
   "execution_count": 17,
   "id": "484609f8",
   "metadata": {},
   "outputs": [
    {
     "data": {
      "text/plain": [
       "Igosi          307\n",
       "Imalinyi       252\n",
       "Siha Kati      232\n",
       "Mdandu         231\n",
       "Nduruma        217\n",
       "              ... \n",
       "Nyamtinga        1\n",
       "Ikweha           1\n",
       "Kapilula         1\n",
       "Machinjioni      1\n",
       "Mawenzi          1\n",
       "Name: ward, Length: 2092, dtype: int64"
      ]
     },
     "execution_count": 17,
     "metadata": {},
     "output_type": "execute_result"
    }
   ],
   "source": [
    "# Look at the distribution of the ward\n",
    "df_train['ward'].value_counts().sort_values(ascending=False)"
   ]
  },
  {
   "cell_type": "code",
   "execution_count": 18,
   "id": "46dd6738",
   "metadata": {},
   "outputs": [
    {
     "data": {
      "text/plain": [
       "Madukani     508\n",
       "Shuleni      506\n",
       "Majengo      502\n",
       "Kati         373\n",
       "Mtakuja      262\n",
       "            ... \n",
       "Mshonzini      1\n",
       "Hayahaya       1\n",
       "Tapaila B      1\n",
       "Sikolomo       1\n",
       "Rubwera        1\n",
       "Name: subvillage, Length: 19287, dtype: int64"
      ]
     },
     "execution_count": 18,
     "metadata": {},
     "output_type": "execute_result"
    }
   ],
   "source": [
    "# Look at the distribution of the subvillage\n",
    "df_train['subvillage'].value_counts().sort_values(ascending=False)"
   ]
  },
  {
   "cell_type": "code",
   "execution_count": 19,
   "id": "2030289f",
   "metadata": {},
   "outputs": [
    {
     "data": {
      "text/plain": [
       "0       21381\n",
       "1        7025\n",
       "200      1940\n",
       "150      1892\n",
       "250      1681\n",
       "        ...  \n",
       "635         1\n",
       "798         1\n",
       "2010        1\n",
       "644         1\n",
       "1439        1\n",
       "Name: population, Length: 1049, dtype: int64"
      ]
     },
     "execution_count": 19,
     "metadata": {},
     "output_type": "execute_result"
    }
   ],
   "source": [
    "# Look at the distribution of the population\n",
    "df_train['population'].value_counts().sort_values(ascending=False)"
   ]
  },
  {
   "cell_type": "code",
   "execution_count": 20,
   "id": "2238dd39",
   "metadata": {},
   "outputs": [
    {
     "data": {
      "text/plain": [
       "none                    3563\n",
       "Shuleni                 1748\n",
       "Zahanati                 830\n",
       "Msikitini                535\n",
       "Kanisani                 323\n",
       "                        ... \n",
       "Kwa Kitumbe                1\n",
       "Deogratius Kichula         1\n",
       "Kwa Robert Mgombela        1\n",
       "Kwa Mzee Juma Hamisi       1\n",
       "Msinga                     1\n",
       "Name: wpt_name, Length: 37400, dtype: int64"
      ]
     },
     "execution_count": 20,
     "metadata": {},
     "output_type": "execute_result"
    }
   ],
   "source": [
    "# Look at the distribution of the wpt_name\n",
    "df_train['wpt_name'].value_counts().sort_values(ascending=False)"
   ]
  },
  {
   "cell_type": "markdown",
   "id": "0405de2c",
   "metadata": {},
   "source": [
    "Interpretation: This is name of the waterpoint (WPT = Water Point) most of the values are missed (none). "
   ]
  },
  {
   "cell_type": "markdown",
   "id": "6b6ed0af",
   "metadata": {},
   "source": [
    "# Water Source Info"
   ]
  },
  {
   "cell_type": "code",
   "execution_count": 21,
   "id": "5c04702e",
   "metadata": {},
   "outputs": [
    {
     "data": {
      "text/plain": [
       "spring                  17021\n",
       "shallow well            16824\n",
       "machine dbh             11075\n",
       "river                    9612\n",
       "rainwater harvesting     2295\n",
       "hand dtw                  874\n",
       "lake                      765\n",
       "dam                       656\n",
       "other                     212\n",
       "unknown                    66\n",
       "Name: source, dtype: int64"
      ]
     },
     "execution_count": 21,
     "metadata": {},
     "output_type": "execute_result"
    }
   ],
   "source": [
    "# Look at the distribution of the source\n",
    "df_train['source'].value_counts().sort_values(ascending=False)"
   ]
  },
  {
   "cell_type": "markdown",
   "id": "cc862d1e",
   "metadata": {},
   "source": [
    "Interpretation: source: we have some missing valies here that defined by unknown and also we have other"
   ]
  },
  {
   "cell_type": "code",
   "execution_count": 22,
   "id": "254897a0",
   "metadata": {},
   "outputs": [
    {
     "data": {
      "text/plain": [
       "spring                  17021\n",
       "shallow well            16824\n",
       "borehole                11949\n",
       "river/lake              10377\n",
       "rainwater harvesting     2295\n",
       "dam                       656\n",
       "other                     278\n",
       "Name: source_type, dtype: int64"
      ]
     },
     "execution_count": 22,
     "metadata": {},
     "output_type": "execute_result"
    }
   ],
   "source": [
    "# Look at the distribution of the source_type\n",
    "df_train['source_type'].value_counts().sort_values(ascending=False)"
   ]
  },
  {
   "cell_type": "markdown",
   "id": "a0014af7",
   "metadata": {},
   "source": [
    "Interpretation: source_ type: The have the same calues but with different quantity. maybe we can group them. This one is better because has no unknown. "
   ]
  },
  {
   "cell_type": "code",
   "execution_count": 23,
   "id": "37be40b5",
   "metadata": {},
   "outputs": [
    {
     "data": {
      "text/plain": [
       "groundwater    45794\n",
       "surface        13328\n",
       "unknown          278\n",
       "Name: source_class, dtype: int64"
      ]
     },
     "execution_count": 23,
     "metadata": {},
     "output_type": "execute_result"
    }
   ],
   "source": [
    "# Look at the distribution of the source_class\n",
    "df_train['source_class'].value_counts().sort_values(ascending=False)"
   ]
  },
  {
   "cell_type": "markdown",
   "id": "750d6872",
   "metadata": {},
   "source": [
    "Interpretation: source_class: Maybe we can guess the unknown by using the source and source_type.because this also has missed value filled by unknown"
   ]
  },
  {
   "cell_type": "code",
   "execution_count": 24,
   "id": "b11dcf0e",
   "metadata": {},
   "outputs": [
    {
     "data": {
      "text/plain": [
       "soft                  50818\n",
       "salty                  4856\n",
       "unknown                1876\n",
       "milky                   804\n",
       "coloured                490\n",
       "salty abandoned         339\n",
       "fluoride                200\n",
       "fluoride abandoned       17\n",
       "Name: water_quality, dtype: int64"
      ]
     },
     "execution_count": 24,
     "metadata": {},
     "output_type": "execute_result"
    }
   ],
   "source": [
    "# Look at the distribution of the water_quality\n",
    "df_train['water_quality'].value_counts().sort_values(ascending=False)"
   ]
  },
  {
   "cell_type": "code",
   "execution_count": 25,
   "id": "9acaf9ff",
   "metadata": {},
   "outputs": [
    {
     "data": {
      "text/plain": [
       "good        50818\n",
       "salty        5195\n",
       "unknown      1876\n",
       "milky         804\n",
       "colored       490\n",
       "fluoride      217\n",
       "Name: quality_group, dtype: int64"
      ]
     },
     "execution_count": 25,
     "metadata": {},
     "output_type": "execute_result"
    }
   ],
   "source": [
    "# Look at the distribution of the qulaity_group\n",
    "df_train['quality_group'].value_counts().sort_values(ascending=False)"
   ]
  },
  {
   "cell_type": "markdown",
   "id": "4681d025",
   "metadata": {},
   "source": [
    "Interpretation: water quality and quality group are similar but the quality group has n unknown or missing values. "
   ]
  },
  {
   "cell_type": "code",
   "execution_count": 26,
   "id": "ca5c5c70",
   "metadata": {},
   "outputs": [
    {
     "data": {
      "text/plain": [
       "enough          33186\n",
       "insufficient    15129\n",
       "dry              6246\n",
       "seasonal         4050\n",
       "unknown           789\n",
       "Name: quantity, dtype: int64"
      ]
     },
     "execution_count": 26,
     "metadata": {},
     "output_type": "execute_result"
    }
   ],
   "source": [
    "# Look at the distribution of the quantity\n",
    "df_train['quantity'].value_counts().sort_values(ascending=False)"
   ]
  },
  {
   "cell_type": "code",
   "execution_count": 27,
   "id": "ad3d8bbf",
   "metadata": {},
   "outputs": [
    {
     "data": {
      "text/plain": [
       "enough          33186\n",
       "insufficient    15129\n",
       "dry              6246\n",
       "seasonal         4050\n",
       "unknown           789\n",
       "Name: quantity_group, dtype: int64"
      ]
     },
     "execution_count": 27,
     "metadata": {},
     "output_type": "execute_result"
    }
   ],
   "source": [
    "# Look at the distribution of the quantity_group\n",
    "df_train['quantity_group'].value_counts().sort_values(ascending=False)"
   ]
  },
  {
   "cell_type": "markdown",
   "id": "01633b8b",
   "metadata": {},
   "source": [
    "Interpretation: quantity and quantity_group are both similar. we can drop one."
   ]
  },
  {
   "cell_type": "code",
   "execution_count": 28,
   "id": "cf1a0db8",
   "metadata": {},
   "outputs": [
    {
     "data": {
      "text/plain": [
       "0.0         41639\n",
       "500.0        3102\n",
       "50.0         2472\n",
       "1000.0       1488\n",
       "20.0         1463\n",
       "            ...  \n",
       "6300.0          1\n",
       "900.0           1\n",
       "200000.0        1\n",
       "8500.0          1\n",
       "38000.0         1\n",
       "Name: amount_tsh, Length: 98, dtype: int64"
      ]
     },
     "execution_count": 28,
     "metadata": {},
     "output_type": "execute_result"
    }
   ],
   "source": [
    "# Look at the distribution of the amount_tsh\n",
    "df_train['amount_tsh'].value_counts().sort_values(ascending=False)"
   ]
  },
  {
   "cell_type": "markdown",
   "id": "b5304a40",
   "metadata": {},
   "source": [
    "Interpretation: amount_tsh. It can be the water payment cost (TZ shillings)"
   ]
  },
  {
   "cell_type": "code",
   "execution_count": 29,
   "id": "e26decd6",
   "metadata": {},
   "outputs": [
    {
     "data": {
      "text/plain": [
       "0      58643\n",
       "6         81\n",
       "1         73\n",
       "8         46\n",
       "5         46\n",
       "       ...  \n",
       "698        1\n",
       "87         1\n",
       "668        1\n",
       "60         1\n",
       "94         1\n",
       "Name: num_private, Length: 65, dtype: int64"
      ]
     },
     "execution_count": 29,
     "metadata": {},
     "output_type": "execute_result"
    }
   ],
   "source": [
    "# Look at the distribution of the num_private\n",
    "df_train['num_private'].value_counts().sort_values(ascending=False)"
   ]
  },
  {
   "cell_type": "markdown",
   "id": "eb428b00",
   "metadata": {},
   "source": [
    "Interpretation: num_private: Possibly count of private entities. i do not know if this has any meaning while the most fields are 0. Maybe we can drop this column."
   ]
  },
  {
   "cell_type": "markdown",
   "id": "217d1376",
   "metadata": {},
   "source": [
    "# Pump/Infrastructure Info"
   ]
  },
  {
   "cell_type": "code",
   "execution_count": 30,
   "id": "a14787f0",
   "metadata": {},
   "outputs": [
    {
     "data": {
      "text/plain": [
       "Government Of Tanzania            9084\n",
       "Danida                            3114\n",
       "Hesawa                            2202\n",
       "Rwssp                             1374\n",
       "World Bank                        1349\n",
       "                                  ... \n",
       "Wame Mbiki                           1\n",
       "Salum Tambalizeni                    1\n",
       "Opec                                 1\n",
       "Member Of Perliament Ahmed Ali       1\n",
       "Maerere                              1\n",
       "Name: funder, Length: 1897, dtype: int64"
      ]
     },
     "execution_count": 30,
     "metadata": {},
     "output_type": "execute_result"
    }
   ],
   "source": [
    "# Look at the distribution of the funder\n",
    "df_train['funder'].value_counts().sort_values(ascending=False)"
   ]
  },
  {
   "cell_type": "markdown",
   "id": "6a82e53b",
   "metadata": {},
   "source": [
    "Interpretation: funder: there are some types with only one quantity. So, those with less quantity would change to other"
   ]
  },
  {
   "cell_type": "code",
   "execution_count": 31,
   "id": "4b11141d",
   "metadata": {},
   "outputs": [
    {
     "data": {
      "text/plain": [
       "DWE             17402\n",
       "Government       1825\n",
       "RWE              1206\n",
       "Commu            1060\n",
       "DANIDA           1050\n",
       "                ...  \n",
       "LOOCIP              1\n",
       "Jafary Mbaga        1\n",
       "MISHENI             1\n",
       "Msikitini           1\n",
       "Chinese             1\n",
       "Name: installer, Length: 2145, dtype: int64"
      ]
     },
     "execution_count": 31,
     "metadata": {},
     "output_type": "execute_result"
    }
   ],
   "source": [
    "# Look at the distribution of the installer\n",
    "df_train['installer'].value_counts().sort_values(ascending=False)"
   ]
  },
  {
   "cell_type": "markdown",
   "id": "9aa3f555",
   "metadata": {},
   "source": [
    "Interpretation: installer: the same as funder. has some similar input as funder. Maybe better to group them."
   ]
  },
  {
   "cell_type": "code",
   "execution_count": 32,
   "id": "58beb2f2",
   "metadata": {},
   "outputs": [
    {
     "data": {
      "text/plain": [
       "0       20709\n",
       "1960      102\n",
       "1961       21\n",
       "1962       30\n",
       "1963       85\n",
       "1964       40\n",
       "1965       19\n",
       "1966       17\n",
       "1967       88\n",
       "1968       77\n",
       "1969       59\n",
       "1970      411\n",
       "1971      145\n",
       "1972      708\n",
       "1973      184\n",
       "1974      676\n",
       "1975      437\n",
       "1976      414\n",
       "1977      202\n",
       "1978     1037\n",
       "1979      192\n",
       "1980      811\n",
       "1981      238\n",
       "1982      744\n",
       "1983      488\n",
       "1984      779\n",
       "1985      945\n",
       "1986      434\n",
       "1987      302\n",
       "1988      521\n",
       "1989      316\n",
       "1990      954\n",
       "1991      324\n",
       "1992      640\n",
       "1993      608\n",
       "1994      738\n",
       "1995     1014\n",
       "1996      811\n",
       "1997      644\n",
       "1998      966\n",
       "1999      979\n",
       "2000     2091\n",
       "2001      540\n",
       "2002     1075\n",
       "2003     1286\n",
       "2004     1123\n",
       "2005     1011\n",
       "2006     1471\n",
       "2007     1587\n",
       "2008     2613\n",
       "2009     2533\n",
       "2010     2645\n",
       "2011     1256\n",
       "2012     1084\n",
       "2013      176\n",
       "Name: construction_year, dtype: int64"
      ]
     },
     "execution_count": 32,
     "metadata": {},
     "output_type": "execute_result"
    }
   ],
   "source": [
    "# Look at the distribution of the construction_year\n",
    "df_train['construction_year'].value_counts().sort_index(ascending=True)"
   ]
  },
  {
   "cell_type": "markdown",
   "id": "33daca59",
   "metadata": {},
   "source": [
    "Interpretation: construction_year: the construction happens between 1960 to 2013. we can check if there is any relation between the construction time and the target"
   ]
  },
  {
   "cell_type": "code",
   "execution_count": 33,
   "id": "dc264469",
   "metadata": {},
   "outputs": [
    {
     "data": {
      "text/plain": [
       "True     38852\n",
       "False    17492\n",
       "Name: permit, dtype: int64"
      ]
     },
     "execution_count": 33,
     "metadata": {},
     "output_type": "execute_result"
    }
   ],
   "source": [
    "# Look at the distribution of the permit\n",
    "df_train['permit'].value_counts().sort_values(ascending=False)"
   ]
  },
  {
   "cell_type": "markdown",
   "id": "7dc51c96",
   "metadata": {},
   "source": [
    "Interpretation: wheter there is a legal permit. This is boolean but now defined as object. Maybe first we need to change it to boolean. "
   ]
  },
  {
   "cell_type": "code",
   "execution_count": 34,
   "id": "84df82a6",
   "metadata": {},
   "outputs": [
    {
     "data": {
      "text/plain": [
       "VWC                 36793\n",
       "WUG                  5206\n",
       "Water authority      3153\n",
       "WUA                  2883\n",
       "Water Board          2748\n",
       "Parastatal           1680\n",
       "Private operator     1063\n",
       "Company              1061\n",
       "Other                 766\n",
       "SWC                    97\n",
       "Trust                  72\n",
       "None                    1\n",
       "Name: scheme_management, dtype: int64"
      ]
     },
     "execution_count": 34,
     "metadata": {},
     "output_type": "execute_result"
    }
   ],
   "source": [
    "# Look at the distribution of the scheme_management\n",
    "df_train['scheme_management'].value_counts().sort_values(ascending=False)"
   ]
  },
  {
   "cell_type": "markdown",
   "id": "e316d2da",
   "metadata": {},
   "source": [
    "Interpretation: I found scheme_management and management quite similar. but management has more missing values. "
   ]
  },
  {
   "cell_type": "code",
   "execution_count": 35,
   "id": "b48f1d0a",
   "metadata": {},
   "outputs": [
    {
     "data": {
      "text/plain": [
       "K                            682\n",
       "None                         644\n",
       "Borehole                     546\n",
       "Chalinze wate                405\n",
       "M                            400\n",
       "                            ... \n",
       "Iton                           1\n",
       "Mradi wa maji wa matalawe      1\n",
       "Mahunguru water supply         1\n",
       "Mradi wa maji wa Kilagano      1\n",
       "Nike gravity water supply      1\n",
       "Name: scheme_name, Length: 2696, dtype: int64"
      ]
     },
     "execution_count": 35,
     "metadata": {},
     "output_type": "execute_result"
    }
   ],
   "source": [
    "# Look at the distribution of the scheme_name\n",
    "df_train['scheme_name'].value_counts().sort_values(ascending=False)"
   ]
  },
  {
   "cell_type": "markdown",
   "id": "f192ba5c",
   "metadata": {},
   "source": [
    "Interpretation: There are so many missing value in this column. we can keep the higher quantity types and change to the other the rest."
   ]
  },
  {
   "cell_type": "code",
   "execution_count": 36,
   "id": "2a49f474",
   "metadata": {},
   "outputs": [
    {
     "data": {
      "text/plain": [
       "vwc                 40507\n",
       "wug                  6515\n",
       "water board          2933\n",
       "wua                  2535\n",
       "private operator     1971\n",
       "parastatal           1768\n",
       "water authority       904\n",
       "other                 844\n",
       "company               685\n",
       "unknown               561\n",
       "other - school         99\n",
       "trust                  78\n",
       "Name: management, dtype: int64"
      ]
     },
     "execution_count": 36,
     "metadata": {},
     "output_type": "execute_result"
    }
   ],
   "source": [
    "# Look at the distribution of the management\n",
    "df_train['management'].value_counts().sort_values(ascending=False)"
   ]
  },
  {
   "cell_type": "code",
   "execution_count": 37,
   "id": "ef354748",
   "metadata": {},
   "outputs": [
    {
     "data": {
      "text/plain": [
       "user-group    52490\n",
       "commercial     3638\n",
       "parastatal     1768\n",
       "other           943\n",
       "unknown         561\n",
       "Name: management_group, dtype: int64"
      ]
     },
     "execution_count": 37,
     "metadata": {},
     "output_type": "execute_result"
    }
   ],
   "source": [
    "# Look at the distribution of the management_group\n",
    "df_train['management_group'].value_counts().sort_values(ascending=False)"
   ]
  },
  {
   "cell_type": "markdown",
   "id": "7df666d8",
   "metadata": {},
   "source": [
    "# Technical Characteristics"
   ]
  },
  {
   "cell_type": "code",
   "execution_count": 38,
   "id": "c11bef68",
   "metadata": {},
   "outputs": [
    {
     "data": {
      "text/plain": [
       "gravity                      26780\n",
       "nira/tanira                   8154\n",
       "other                         6430\n",
       "submersible                   4764\n",
       "swn 80                        3670\n",
       "mono                          2865\n",
       "india mark ii                 2400\n",
       "afridev                       1770\n",
       "ksb                           1415\n",
       "other - rope pump              451\n",
       "other - swn 81                 229\n",
       "windmill                       117\n",
       "india mark iii                  98\n",
       "cemo                            90\n",
       "other - play pump               85\n",
       "walimi                          48\n",
       "climax                          32\n",
       "other - mkulima/shinyanga        2\n",
       "Name: extraction_type, dtype: int64"
      ]
     },
     "execution_count": 38,
     "metadata": {},
     "output_type": "execute_result"
    }
   ],
   "source": [
    "# Look at the distribution of the extraction_type\n",
    "df_train['extraction_type'].value_counts().sort_values(ascending=False)"
   ]
  },
  {
   "cell_type": "code",
   "execution_count": 39,
   "id": "0aa6e1b9",
   "metadata": {},
   "outputs": [
    {
     "data": {
      "text/plain": [
       "gravity            26780\n",
       "nira/tanira         8154\n",
       "other               6430\n",
       "submersible         6179\n",
       "swn 80              3670\n",
       "mono                2865\n",
       "india mark ii       2400\n",
       "afridev             1770\n",
       "rope pump            451\n",
       "other handpump       364\n",
       "other motorpump      122\n",
       "wind-powered         117\n",
       "india mark iii        98\n",
       "Name: extraction_type_group, dtype: int64"
      ]
     },
     "execution_count": 39,
     "metadata": {},
     "output_type": "execute_result"
    }
   ],
   "source": [
    "# Look at the distribution of the _group\n",
    "df_train['extraction_type_group'].value_counts().sort_values(ascending=False)"
   ]
  },
  {
   "cell_type": "code",
   "execution_count": 40,
   "id": "94a2a41b",
   "metadata": {},
   "outputs": [
    {
     "data": {
      "text/plain": [
       "gravity         26780\n",
       "handpump        16456\n",
       "other            6430\n",
       "submersible      6179\n",
       "motorpump        2987\n",
       "rope pump         451\n",
       "wind-powered      117\n",
       "Name: extraction_type_class, dtype: int64"
      ]
     },
     "execution_count": 40,
     "metadata": {},
     "output_type": "execute_result"
    }
   ],
   "source": [
    "# Look at the distribution of the _group\n",
    "df_train['extraction_type_class'].value_counts().sort_values(ascending=False)"
   ]
  },
  {
   "cell_type": "markdown",
   "id": "91bba8e0",
   "metadata": {},
   "source": [
    "Interpretation: extraction_type_class, extraction_type_group, extraction_type: They are talking about the mechanism for drawing water. we have 5 types of other! the extraction_type and extraction_type_group are similar. but in my opinion the extraction_type_class is more accurate. Maybe we need to see if there any relation between this and the target."
   ]
  },
  {
   "cell_type": "code",
   "execution_count": 41,
   "id": "a06845de",
   "metadata": {},
   "outputs": [
    {
     "data": {
      "text/plain": [
       "communal standpipe             28522\n",
       "hand pump                      17488\n",
       "other                           6380\n",
       "communal standpipe multiple     6103\n",
       "improved spring                  784\n",
       "cattle trough                    116\n",
       "dam                                7\n",
       "Name: waterpoint_type, dtype: int64"
      ]
     },
     "execution_count": 41,
     "metadata": {},
     "output_type": "execute_result"
    }
   ],
   "source": [
    "# Look at the distribution of the _group\n",
    "df_train['waterpoint_type'].value_counts().sort_values(ascending=False)"
   ]
  },
  {
   "cell_type": "code",
   "execution_count": 42,
   "id": "5288f23d",
   "metadata": {},
   "outputs": [
    {
     "data": {
      "text/plain": [
       "communal standpipe    34625\n",
       "hand pump             17488\n",
       "other                  6380\n",
       "improved spring         784\n",
       "cattle trough           116\n",
       "dam                       7\n",
       "Name: waterpoint_type_group, dtype: int64"
      ]
     },
     "execution_count": 42,
     "metadata": {},
     "output_type": "execute_result"
    }
   ],
   "source": [
    "# Look at the distribution of the _group\n",
    "df_train['waterpoint_type_group'].value_counts().sort_values(ascending=False)"
   ]
  },
  {
   "cell_type": "code",
   "execution_count": null,
   "id": "8a77e0b5",
   "metadata": {},
   "outputs": [],
   "source": []
  },
  {
   "cell_type": "markdown",
   "id": "7a41901e",
   "metadata": {},
   "source": [
    "Interpretation: water_type and water_typegroup: These two features are also quite similar. one has 7 types and the other 6 types. maybe the waterpoint_type is more accurate. "
   ]
  },
  {
   "cell_type": "markdown",
   "id": "1bebe701",
   "metadata": {},
   "source": [
    "# Outcome Variables"
   ]
  },
  {
   "cell_type": "code",
   "execution_count": 43,
   "id": "7ca45460",
   "metadata": {},
   "outputs": [
    {
     "data": {
      "text/plain": [
       "functional                 32259\n",
       "non functional             22824\n",
       "functional needs repair     4317\n",
       "Name: status_group, dtype: int64"
      ]
     },
     "execution_count": 43,
     "metadata": {},
     "output_type": "execute_result"
    }
   ],
   "source": [
    "# Look at the distribution of the target variable\n",
    "df_train['status_group'].value_counts()"
   ]
  },
  {
   "cell_type": "code",
   "execution_count": 44,
   "id": "d80c5ab9",
   "metadata": {},
   "outputs": [
    {
     "name": "stdout",
     "output_type": "stream",
     "text": [
      "functional                 54.308081\n",
      "non functional             38.424242\n",
      "functional needs repair     7.267677\n",
      "Name: status_group, dtype: float64\n"
     ]
    }
   ],
   "source": [
    "# Percentage of the target variable\n",
    "percentage = (df_train['status_group'].value_counts()/59400) * 100\n",
    "print(percentage)"
   ]
  },
  {
   "cell_type": "markdown",
   "id": "2544428d",
   "metadata": {},
   "source": [
    "## Missing Values"
   ]
  },
  {
   "cell_type": "code",
   "execution_count": 45,
   "id": "949389f3",
   "metadata": {},
   "outputs": [
    {
     "data": {
      "text/plain": [
       "scheme_name              28166\n",
       "scheme_management         3877\n",
       "installer                 3655\n",
       "funder                    3635\n",
       "public_meeting            3334\n",
       "permit                    3056\n",
       "subvillage                 371\n",
       "payment                      0\n",
       "waterpoint_type_group        0\n",
       "extraction_type_group        0\n",
       "dtype: int64"
      ]
     },
     "execution_count": 45,
     "metadata": {},
     "output_type": "execute_result"
    }
   ],
   "source": [
    "# Count missing values in each column (how many NaNs are in each column)\n",
    "missing_values_count = df_train.isnull().sum().sort_values(ascending=False).head(10)\n",
    "missing_values_count"
   ]
  },
  {
   "cell_type": "code",
   "execution_count": 46,
   "id": "584304f0",
   "metadata": {},
   "outputs": [
    {
     "name": "stdout",
     "output_type": "stream",
     "text": [
      "Total missing values: 46094\n",
      "Percentage of missing data: 1.89%\n"
     ]
    }
   ],
   "source": [
    "#### The percentage of missing values in our train data\n",
    "\n",
    "# total number of cells in dataframe\n",
    "total_cells = np.prod(df_train.shape) # np.prod is calculating the product of dimention of the Dataframe\n",
    "\n",
    "# count missing cells\n",
    "total_missing = df_train.isnull().sum().sum()\n",
    "\n",
    "# percent of data that is missing\n",
    "percent_missing = (total_missing/total_cells) * 100\n",
    "\n",
    "print(f\"Total missing values: {total_missing}\")\n",
    "print(f\"Percentage of missing data: {percent_missing:.2f}%\")"
   ]
  },
  {
   "cell_type": "code",
   "execution_count": 47,
   "id": "fc7a7fce",
   "metadata": {},
   "outputs": [
    {
     "data": {
      "text/html": [
       "<div>\n",
       "<style scoped>\n",
       "    .dataframe tbody tr th:only-of-type {\n",
       "        vertical-align: middle;\n",
       "    }\n",
       "\n",
       "    .dataframe tbody tr th {\n",
       "        vertical-align: top;\n",
       "    }\n",
       "\n",
       "    .dataframe thead th {\n",
       "        text-align: right;\n",
       "    }\n",
       "</style>\n",
       "<table border=\"1\" class=\"dataframe\">\n",
       "  <thead>\n",
       "    <tr style=\"text-align: right;\">\n",
       "      <th></th>\n",
       "      <th>Total Missing</th>\n",
       "      <th>Percent Missing</th>\n",
       "    </tr>\n",
       "  </thead>\n",
       "  <tbody>\n",
       "    <tr>\n",
       "      <th>scheme_name</th>\n",
       "      <td>28166</td>\n",
       "      <td>47.417508</td>\n",
       "    </tr>\n",
       "    <tr>\n",
       "      <th>scheme_management</th>\n",
       "      <td>3877</td>\n",
       "      <td>6.526936</td>\n",
       "    </tr>\n",
       "    <tr>\n",
       "      <th>installer</th>\n",
       "      <td>3655</td>\n",
       "      <td>6.153199</td>\n",
       "    </tr>\n",
       "    <tr>\n",
       "      <th>funder</th>\n",
       "      <td>3635</td>\n",
       "      <td>6.119529</td>\n",
       "    </tr>\n",
       "    <tr>\n",
       "      <th>public_meeting</th>\n",
       "      <td>3334</td>\n",
       "      <td>5.612795</td>\n",
       "    </tr>\n",
       "    <tr>\n",
       "      <th>permit</th>\n",
       "      <td>3056</td>\n",
       "      <td>5.144781</td>\n",
       "    </tr>\n",
       "    <tr>\n",
       "      <th>subvillage</th>\n",
       "      <td>371</td>\n",
       "      <td>0.624579</td>\n",
       "    </tr>\n",
       "    <tr>\n",
       "      <th>payment</th>\n",
       "      <td>0</td>\n",
       "      <td>0.000000</td>\n",
       "    </tr>\n",
       "    <tr>\n",
       "      <th>waterpoint_type_group</th>\n",
       "      <td>0</td>\n",
       "      <td>0.000000</td>\n",
       "    </tr>\n",
       "    <tr>\n",
       "      <th>extraction_type_group</th>\n",
       "      <td>0</td>\n",
       "      <td>0.000000</td>\n",
       "    </tr>\n",
       "  </tbody>\n",
       "</table>\n",
       "</div>"
      ],
      "text/plain": [
       "                       Total Missing  Percent Missing\n",
       "scheme_name                    28166        47.417508\n",
       "scheme_management               3877         6.526936\n",
       "installer                       3655         6.153199\n",
       "funder                          3635         6.119529\n",
       "public_meeting                  3334         5.612795\n",
       "permit                          3056         5.144781\n",
       "subvillage                       371         0.624579\n",
       "payment                            0         0.000000\n",
       "waterpoint_type_group              0         0.000000\n",
       "extraction_type_group              0         0.000000"
      ]
     },
     "execution_count": 47,
     "metadata": {},
     "output_type": "execute_result"
    }
   ],
   "source": [
    "# Create a DataFrame showing total and percentage of missing values per column\n",
    "missing_data = pd.DataFrame({\n",
    "    'Total Missing': df_train.isnull().sum(),\n",
    "    'Percent Missing': (df_train.isnull().sum() / len(df_train)) * 100\n",
    "})\n",
    "\n",
    "# Sort the DataFrame by 'Percent Missing' in descending order\n",
    "missing_data_sorted = missing_data.sort_values(by='Percent Missing', ascending=False)\n",
    "\n",
    "missing_data_sorted.head(10)"
   ]
  },
  {
   "cell_type": "code",
   "execution_count": 48,
   "id": "cc55dc27",
   "metadata": {},
   "outputs": [
    {
     "data": {
      "image/png": "[encoded data removed]",
      "text/plain": [
       "<Figure size 720x432 with 1 Axes>"
      ]
     },
     "metadata": {
      "needs_background": "light"
     },
     "output_type": "display_data"
    }
   ],
   "source": [
    "# Visualizing Missingness\n",
    "\n",
    "plt.figure(figsize=(10, 6))\n",
    "sns.barplot(x = missing_values_count.values, y=missing_values_count.index, color='blue')\n",
    "plt.title('Missing Values by Feature')\n",
    "plt.xlabel('Number of Missing Entries')\n",
    "plt.ylabel('Feature')\n",
    "plt.tight_layout()\n",
    "plt.show()"
   ]
  },
  {
   "cell_type": "code",
   "execution_count": 49,
   "id": "085caa8f",
   "metadata": {},
   "outputs": [
    {
     "name": "stdout",
     "output_type": "stream",
     "text": [
      "num_private          58643\n",
      "amount_tsh           41639\n",
      "population           21381\n",
      "construction_year    20709\n",
      "gps_height           20438\n",
      "permit               17492\n",
      "public_meeting        5055\n",
      "longitude             1812\n",
      "district_code           23\n",
      "id                       1\n",
      "dtype: int64\n"
     ]
    }
   ],
   "source": [
    "# Count how many times 0 appears in each column\n",
    "zero_counts = (df_train == 0).sum().sort_values(ascending=False)\n",
    "\n",
    "# Display top 10 columns with the most zero values\n",
    "print(zero_counts.head(10))"
   ]
  },
  {
   "cell_type": "code",
   "execution_count": 50,
   "id": "7912352f",
   "metadata": {},
   "outputs": [
    {
     "data": {
      "image/png": "[encoded data removed]",
      "text/plain": [
       "<Figure size 720x432 with 1 Axes>"
      ]
     },
     "metadata": {
      "needs_background": "light"
     },
     "output_type": "display_data"
    }
   ],
   "source": [
    "# Visualizing and Grouping 0\n",
    "\n",
    "plt.figure(figsize=(10, 6))\n",
    "sns.barplot(x = zero_counts.values[:10], y=zero_counts.index[:10], color='blue')\n",
    "plt.title('Zero Values by Feature')\n",
    "plt.xlabel('Number of Zero Entries')\n",
    "plt.ylabel('Feature')\n",
    "plt.tight_layout()\n",
    "plt.show()"
   ]
  },
  {
   "cell_type": "markdown",
   "id": "a66607b7",
   "metadata": {},
   "source": [
    "# Dataset Profile Summary"
   ]
  },
  {
   "cell_type": "code",
   "execution_count": 51,
   "id": "823f9bcf",
   "metadata": {},
   "outputs": [
    {
     "data": {
      "text/html": [
       "<div>\n",
       "<style scoped>\n",
       "    .dataframe tbody tr th:only-of-type {\n",
       "        vertical-align: middle;\n",
       "    }\n",
       "\n",
       "    .dataframe tbody tr th {\n",
       "        vertical-align: top;\n",
       "    }\n",
       "\n",
       "    .dataframe thead th {\n",
       "        text-align: right;\n",
       "    }\n",
       "</style>\n",
       "<table border=\"1\" class=\"dataframe\">\n",
       "  <thead>\n",
       "    <tr style=\"text-align: right;\">\n",
       "      <th></th>\n",
       "      <th>Data Type</th>\n",
       "      <th>Missing Values</th>\n",
       "      <th>Zero Values</th>\n",
       "      <th>Unique Values</th>\n",
       "      <th>% Missing</th>\n",
       "      <th>Feature Type</th>\n",
       "    </tr>\n",
       "  </thead>\n",
       "  <tbody>\n",
       "    <tr>\n",
       "      <th>scheme_name</th>\n",
       "      <td>object</td>\n",
       "      <td>28166</td>\n",
       "      <td>0</td>\n",
       "      <td>2696</td>\n",
       "      <td>47.417508</td>\n",
       "      <td>Categorical</td>\n",
       "    </tr>\n",
       "    <tr>\n",
       "      <th>scheme_management</th>\n",
       "      <td>object</td>\n",
       "      <td>3877</td>\n",
       "      <td>0</td>\n",
       "      <td>12</td>\n",
       "      <td>6.526936</td>\n",
       "      <td>Categorical</td>\n",
       "    </tr>\n",
       "    <tr>\n",
       "      <th>installer</th>\n",
       "      <td>object</td>\n",
       "      <td>3655</td>\n",
       "      <td>0</td>\n",
       "      <td>2145</td>\n",
       "      <td>6.153199</td>\n",
       "      <td>Categorical</td>\n",
       "    </tr>\n",
       "    <tr>\n",
       "      <th>funder</th>\n",
       "      <td>object</td>\n",
       "      <td>3635</td>\n",
       "      <td>0</td>\n",
       "      <td>1897</td>\n",
       "      <td>6.119529</td>\n",
       "      <td>Categorical</td>\n",
       "    </tr>\n",
       "    <tr>\n",
       "      <th>public_meeting</th>\n",
       "      <td>object</td>\n",
       "      <td>3334</td>\n",
       "      <td>5055</td>\n",
       "      <td>2</td>\n",
       "      <td>5.612795</td>\n",
       "      <td>Categorical</td>\n",
       "    </tr>\n",
       "    <tr>\n",
       "      <th>permit</th>\n",
       "      <td>object</td>\n",
       "      <td>3056</td>\n",
       "      <td>17492</td>\n",
       "      <td>2</td>\n",
       "      <td>5.144781</td>\n",
       "      <td>Categorical</td>\n",
       "    </tr>\n",
       "    <tr>\n",
       "      <th>subvillage</th>\n",
       "      <td>object</td>\n",
       "      <td>371</td>\n",
       "      <td>0</td>\n",
       "      <td>19287</td>\n",
       "      <td>0.624579</td>\n",
       "      <td>Categorical</td>\n",
       "    </tr>\n",
       "    <tr>\n",
       "      <th>payment</th>\n",
       "      <td>object</td>\n",
       "      <td>0</td>\n",
       "      <td>0</td>\n",
       "      <td>7</td>\n",
       "      <td>0.000000</td>\n",
       "      <td>Categorical</td>\n",
       "    </tr>\n",
       "    <tr>\n",
       "      <th>waterpoint_type_group</th>\n",
       "      <td>object</td>\n",
       "      <td>0</td>\n",
       "      <td>0</td>\n",
       "      <td>6</td>\n",
       "      <td>0.000000</td>\n",
       "      <td>Categorical</td>\n",
       "    </tr>\n",
       "    <tr>\n",
       "      <th>extraction_type_group</th>\n",
       "      <td>object</td>\n",
       "      <td>0</td>\n",
       "      <td>0</td>\n",
       "      <td>13</td>\n",
       "      <td>0.000000</td>\n",
       "      <td>Categorical</td>\n",
       "    </tr>\n",
       "    <tr>\n",
       "      <th>extraction_type_class</th>\n",
       "      <td>object</td>\n",
       "      <td>0</td>\n",
       "      <td>0</td>\n",
       "      <td>7</td>\n",
       "      <td>0.000000</td>\n",
       "      <td>Categorical</td>\n",
       "    </tr>\n",
       "    <tr>\n",
       "      <th>waterpoint_type</th>\n",
       "      <td>object</td>\n",
       "      <td>0</td>\n",
       "      <td>0</td>\n",
       "      <td>7</td>\n",
       "      <td>0.000000</td>\n",
       "      <td>Categorical</td>\n",
       "    </tr>\n",
       "    <tr>\n",
       "      <th>management</th>\n",
       "      <td>object</td>\n",
       "      <td>0</td>\n",
       "      <td>0</td>\n",
       "      <td>12</td>\n",
       "      <td>0.000000</td>\n",
       "      <td>Categorical</td>\n",
       "    </tr>\n",
       "    <tr>\n",
       "      <th>management_group</th>\n",
       "      <td>object</td>\n",
       "      <td>0</td>\n",
       "      <td>0</td>\n",
       "      <td>5</td>\n",
       "      <td>0.000000</td>\n",
       "      <td>Categorical</td>\n",
       "    </tr>\n",
       "    <tr>\n",
       "      <th>source_class</th>\n",
       "      <td>object</td>\n",
       "      <td>0</td>\n",
       "      <td>0</td>\n",
       "      <td>3</td>\n",
       "      <td>0.000000</td>\n",
       "      <td>Categorical</td>\n",
       "    </tr>\n",
       "    <tr>\n",
       "      <th>source_type</th>\n",
       "      <td>object</td>\n",
       "      <td>0</td>\n",
       "      <td>0</td>\n",
       "      <td>7</td>\n",
       "      <td>0.000000</td>\n",
       "      <td>Categorical</td>\n",
       "    </tr>\n",
       "    <tr>\n",
       "      <th>water_quality</th>\n",
       "      <td>object</td>\n",
       "      <td>0</td>\n",
       "      <td>0</td>\n",
       "      <td>8</td>\n",
       "      <td>0.000000</td>\n",
       "      <td>Categorical</td>\n",
       "    </tr>\n",
       "    <tr>\n",
       "      <th>quality_group</th>\n",
       "      <td>object</td>\n",
       "      <td>0</td>\n",
       "      <td>0</td>\n",
       "      <td>6</td>\n",
       "      <td>0.000000</td>\n",
       "      <td>Categorical</td>\n",
       "    </tr>\n",
       "    <tr>\n",
       "      <th>extraction_type</th>\n",
       "      <td>object</td>\n",
       "      <td>0</td>\n",
       "      <td>0</td>\n",
       "      <td>18</td>\n",
       "      <td>0.000000</td>\n",
       "      <td>Categorical</td>\n",
       "    </tr>\n",
       "    <tr>\n",
       "      <th>quantity</th>\n",
       "      <td>object</td>\n",
       "      <td>0</td>\n",
       "      <td>0</td>\n",
       "      <td>5</td>\n",
       "      <td>0.000000</td>\n",
       "      <td>Categorical</td>\n",
       "    </tr>\n",
       "    <tr>\n",
       "      <th>quantity_group</th>\n",
       "      <td>object</td>\n",
       "      <td>0</td>\n",
       "      <td>0</td>\n",
       "      <td>5</td>\n",
       "      <td>0.000000</td>\n",
       "      <td>Categorical</td>\n",
       "    </tr>\n",
       "    <tr>\n",
       "      <th>source</th>\n",
       "      <td>object</td>\n",
       "      <td>0</td>\n",
       "      <td>0</td>\n",
       "      <td>10</td>\n",
       "      <td>0.000000</td>\n",
       "      <td>Categorical</td>\n",
       "    </tr>\n",
       "    <tr>\n",
       "      <th>payment_type</th>\n",
       "      <td>object</td>\n",
       "      <td>0</td>\n",
       "      <td>0</td>\n",
       "      <td>7</td>\n",
       "      <td>0.000000</td>\n",
       "      <td>Categorical</td>\n",
       "    </tr>\n",
       "    <tr>\n",
       "      <th>id</th>\n",
       "      <td>int64</td>\n",
       "      <td>0</td>\n",
       "      <td>1</td>\n",
       "      <td>59400</td>\n",
       "      <td>0.000000</td>\n",
       "      <td>Numerical</td>\n",
       "    </tr>\n",
       "    <tr>\n",
       "      <th>construction_year</th>\n",
       "      <td>int64</td>\n",
       "      <td>0</td>\n",
       "      <td>20709</td>\n",
       "      <td>55</td>\n",
       "      <td>0.000000</td>\n",
       "      <td>Numerical</td>\n",
       "    </tr>\n",
       "    <tr>\n",
       "      <th>basin</th>\n",
       "      <td>object</td>\n",
       "      <td>0</td>\n",
       "      <td>0</td>\n",
       "      <td>9</td>\n",
       "      <td>0.000000</td>\n",
       "      <td>Categorical</td>\n",
       "    </tr>\n",
       "    <tr>\n",
       "      <th>date_recorded</th>\n",
       "      <td>object</td>\n",
       "      <td>0</td>\n",
       "      <td>0</td>\n",
       "      <td>356</td>\n",
       "      <td>0.000000</td>\n",
       "      <td>Categorical</td>\n",
       "    </tr>\n",
       "    <tr>\n",
       "      <th>gps_height</th>\n",
       "      <td>int64</td>\n",
       "      <td>0</td>\n",
       "      <td>20438</td>\n",
       "      <td>2428</td>\n",
       "      <td>0.000000</td>\n",
       "      <td>Numerical</td>\n",
       "    </tr>\n",
       "    <tr>\n",
       "      <th>longitude</th>\n",
       "      <td>float64</td>\n",
       "      <td>0</td>\n",
       "      <td>1812</td>\n",
       "      <td>57516</td>\n",
       "      <td>0.000000</td>\n",
       "      <td>Numerical</td>\n",
       "    </tr>\n",
       "    <tr>\n",
       "      <th>latitude</th>\n",
       "      <td>float64</td>\n",
       "      <td>0</td>\n",
       "      <td>0</td>\n",
       "      <td>57517</td>\n",
       "      <td>0.000000</td>\n",
       "      <td>Numerical</td>\n",
       "    </tr>\n",
       "    <tr>\n",
       "      <th>wpt_name</th>\n",
       "      <td>object</td>\n",
       "      <td>0</td>\n",
       "      <td>0</td>\n",
       "      <td>37400</td>\n",
       "      <td>0.000000</td>\n",
       "      <td>Categorical</td>\n",
       "    </tr>\n",
       "    <tr>\n",
       "      <th>num_private</th>\n",
       "      <td>int64</td>\n",
       "      <td>0</td>\n",
       "      <td>58643</td>\n",
       "      <td>65</td>\n",
       "      <td>0.000000</td>\n",
       "      <td>Numerical</td>\n",
       "    </tr>\n",
       "    <tr>\n",
       "      <th>region</th>\n",
       "      <td>object</td>\n",
       "      <td>0</td>\n",
       "      <td>0</td>\n",
       "      <td>21</td>\n",
       "      <td>0.000000</td>\n",
       "      <td>Categorical</td>\n",
       "    </tr>\n",
       "    <tr>\n",
       "      <th>amount_tsh</th>\n",
       "      <td>float64</td>\n",
       "      <td>0</td>\n",
       "      <td>41639</td>\n",
       "      <td>98</td>\n",
       "      <td>0.000000</td>\n",
       "      <td>Numerical</td>\n",
       "    </tr>\n",
       "    <tr>\n",
       "      <th>region_code</th>\n",
       "      <td>int64</td>\n",
       "      <td>0</td>\n",
       "      <td>0</td>\n",
       "      <td>27</td>\n",
       "      <td>0.000000</td>\n",
       "      <td>Numerical</td>\n",
       "    </tr>\n",
       "    <tr>\n",
       "      <th>district_code</th>\n",
       "      <td>int64</td>\n",
       "      <td>0</td>\n",
       "      <td>23</td>\n",
       "      <td>20</td>\n",
       "      <td>0.000000</td>\n",
       "      <td>Numerical</td>\n",
       "    </tr>\n",
       "    <tr>\n",
       "      <th>lga</th>\n",
       "      <td>object</td>\n",
       "      <td>0</td>\n",
       "      <td>0</td>\n",
       "      <td>125</td>\n",
       "      <td>0.000000</td>\n",
       "      <td>Categorical</td>\n",
       "    </tr>\n",
       "    <tr>\n",
       "      <th>ward</th>\n",
       "      <td>object</td>\n",
       "      <td>0</td>\n",
       "      <td>0</td>\n",
       "      <td>2092</td>\n",
       "      <td>0.000000</td>\n",
       "      <td>Categorical</td>\n",
       "    </tr>\n",
       "    <tr>\n",
       "      <th>population</th>\n",
       "      <td>int64</td>\n",
       "      <td>0</td>\n",
       "      <td>21381</td>\n",
       "      <td>1049</td>\n",
       "      <td>0.000000</td>\n",
       "      <td>Numerical</td>\n",
       "    </tr>\n",
       "    <tr>\n",
       "      <th>recorded_by</th>\n",
       "      <td>object</td>\n",
       "      <td>0</td>\n",
       "      <td>0</td>\n",
       "      <td>1</td>\n",
       "      <td>0.000000</td>\n",
       "      <td>Categorical</td>\n",
       "    </tr>\n",
       "    <tr>\n",
       "      <th>status_group</th>\n",
       "      <td>object</td>\n",
       "      <td>0</td>\n",
       "      <td>0</td>\n",
       "      <td>3</td>\n",
       "      <td>0.000000</td>\n",
       "      <td>Categorical</td>\n",
       "    </tr>\n",
       "  </tbody>\n",
       "</table>\n",
       "</div>"
      ],
      "text/plain": [
       "                      Data Type  Missing Values  Zero Values  Unique Values  \\\n",
       "scheme_name              object           28166            0           2696   \n",
       "scheme_management        object            3877            0             12   \n",
       "installer                object            3655            0           2145   \n",
       "funder                   object            3635            0           1897   \n",
       "public_meeting           object            3334         5055              2   \n",
       "permit                   object            3056        17492              2   \n",
       "subvillage               object             371            0          19287   \n",
       "payment                  object               0            0              7   \n",
       "waterpoint_type_group    object               0            0              6   \n",
       "extraction_type_group    object               0            0             13   \n",
       "extraction_type_class    object               0            0              7   \n",
       "waterpoint_type          object               0            0              7   \n",
       "management               object               0            0             12   \n",
       "management_group         object               0            0              5   \n",
       "source_class             object               0            0              3   \n",
       "source_type              object               0            0              7   \n",
       "water_quality            object               0            0              8   \n",
       "quality_group            object               0            0              6   \n",
       "extraction_type          object               0            0             18   \n",
       "quantity                 object               0            0              5   \n",
       "quantity_group           object               0            0              5   \n",
       "source                   object               0            0             10   \n",
       "payment_type             object               0            0              7   \n",
       "id                        int64               0            1          59400   \n",
       "construction_year         int64               0        20709             55   \n",
       "basin                    object               0            0              9   \n",
       "date_recorded            object               0            0            356   \n",
       "gps_height                int64               0        20438           2428   \n",
       "longitude               float64               0         1812          57516   \n",
       "latitude                float64               0            0          57517   \n",
       "wpt_name                 object               0            0          37400   \n",
       "num_private               int64               0        58643             65   \n",
       "region                   object               0            0             21   \n",
       "amount_tsh              float64               0        41639             98   \n",
       "region_code               int64               0            0             27   \n",
       "district_code             int64               0           23             20   \n",
       "lga                      object               0            0            125   \n",
       "ward                     object               0            0           2092   \n",
       "population                int64               0        21381           1049   \n",
       "recorded_by              object               0            0              1   \n",
       "status_group             object               0            0              3   \n",
       "\n",
       "                       % Missing Feature Type  \n",
       "scheme_name            47.417508  Categorical  \n",
       "scheme_management       6.526936  Categorical  \n",
       "installer               6.153199  Categorical  \n",
       "funder                  6.119529  Categorical  \n",
       "public_meeting          5.612795  Categorical  \n",
       "permit                  5.144781  Categorical  \n",
       "subvillage              0.624579  Categorical  \n",
       "payment                 0.000000  Categorical  \n",
       "waterpoint_type_group   0.000000  Categorical  \n",
       "extraction_type_group   0.000000  Categorical  \n",
       "extraction_type_class   0.000000  Categorical  \n",
       "waterpoint_type         0.000000  Categorical  \n",
       "management              0.000000  Categorical  \n",
       "management_group        0.000000  Categorical  \n",
       "source_class            0.000000  Categorical  \n",
       "source_type             0.000000  Categorical  \n",
       "water_quality           0.000000  Categorical  \n",
       "quality_group           0.000000  Categorical  \n",
       "extraction_type         0.000000  Categorical  \n",
       "quantity                0.000000  Categorical  \n",
       "quantity_group          0.000000  Categorical  \n",
       "source                  0.000000  Categorical  \n",
       "payment_type            0.000000  Categorical  \n",
       "id                      0.000000    Numerical  \n",
       "construction_year       0.000000    Numerical  \n",
       "basin                   0.000000  Categorical  \n",
       "date_recorded           0.000000  Categorical  \n",
       "gps_height              0.000000    Numerical  \n",
       "longitude               0.000000    Numerical  \n",
       "latitude                0.000000    Numerical  \n",
       "wpt_name                0.000000  Categorical  \n",
       "num_private             0.000000    Numerical  \n",
       "region                  0.000000  Categorical  \n",
       "amount_tsh              0.000000    Numerical  \n",
       "region_code             0.000000    Numerical  \n",
       "district_code           0.000000    Numerical  \n",
       "lga                     0.000000  Categorical  \n",
       "ward                    0.000000  Categorical  \n",
       "population              0.000000    Numerical  \n",
       "recorded_by             0.000000  Categorical  \n",
       "status_group            0.000000  Categorical  "
      ]
     },
     "execution_count": 51,
     "metadata": {},
     "output_type": "execute_result"
    }
   ],
   "source": [
    "# Basic summary statics\n",
    "def feature_summary(df):\n",
    "    summary = pd.DataFrame({\n",
    "        'Data Type': df.dtypes,\n",
    "        'Missing Values': df.isnull().sum(),\n",
    "        'Zero Values': (df == 0).sum(),\n",
    "        'Unique Values': df.nunique()\n",
    "    })\n",
    "    # Add Percent of Missing Values\n",
    "    summary['% Missing'] = (summary['Missing Values'] / len(df)) * 100\n",
    "    \n",
    "    # Classify Feature Type\n",
    "    def classify_feature(col):\n",
    "        if df[col].dtype == 'object':\n",
    "            return 'Categorical'\n",
    "        elif df[col].dtype in ['int64', 'float64']:\n",
    "            if df[col].nunique() < 15:\n",
    "                return 'Ordinal/Categorical'\n",
    "            return 'Numerical'\n",
    "        elif df[col].dtype == 'bool':\n",
    "            return 'Boolean'\n",
    "        elif 'date' in col:\n",
    "            return 'Date'\n",
    "        else:\n",
    "            return 'Other'\n",
    "    # Applies the classifier to each column.\n",
    "    summary['Feature Type'] = summary.index.to_series().apply(classify_feature)\n",
    "    return summary.sort_values(by='Missing Values', ascending=False)\n",
    "\n",
    "# Run the summary\n",
    "feature_summary(df_train)"
   ]
  },
  {
   "cell_type": "markdown",
   "id": "44c54ab2",
   "metadata": {},
   "source": []
  },
  {
   "cell_type": "markdown",
   "id": "834430fe",
   "metadata": {},
   "source": [
    "# Summary of Interpretation: \n",
    "Date_recorded: This is the date of data collection. We need to change the type to datetime64, extract the year and month to see if there is any meaningful relation between date recorded and group status. \n",
    "\n",
    "Recorded_by: This record is person / organization that record the data and all has a GeoData Consultants Ltd. Maybe we can drop that. \n",
    "\n",
    "gps_height: Elevaton in meters. range is between -90 - 2770. check if there is any meaningful relation between the target and gps_height.\n",
    "\n",
    "Latitude and langitude: latitude 6°23′31.20″ South, longitude 35°00′07.20″ East\n",
    "Source: https://www.mapsofworld.com/lat_long/tanzania-lat-long.html\n",
    "there is a table in this website with the all regions lonitude and latitude. Maybe we can import this table and correct the missing or zero inputs.\n",
    "longitude in table are between min 0 and max 40.35 and latitude in table: min -11.65 to max 0.00000002.  we may also can use these region names and other location features to complete the latitude and longitude in geospatial analysis. \n",
    "\n",
    "\n",
    "wpt_name: This is name of the waterpoint (WPT = Water Point) most of the values are missed (none). Maybe we can drop this. or with geospatial we can have a look if we can impute.\n",
    "\n",
    "Source and Source_type: They have similar types but source has unknown and source_type has not. Maybe we can group them or use for imputing. \n",
    "\n",
    "source_class: Maybe we can guess the unknown by using the source and source_type.because this also has missed value filled by unknown. \n",
    "\n",
    "water_quality and quality_group: water_quality and quality_group are similar but the quality group has n unknown or missing values. \n",
    "\n",
    "quantity and quantity_group: quantity and quantity_group are both completely similar. we can drop one.\n",
    "\n",
    "amount_tsh: It can be the water payment cost (TZ shillings). I have no idea how we can use it.But i think we can see if they could allocate money for repair or not or something like this. \n",
    "\n",
    "num_private: Possibly count of private entities. i do not know if this has any meaning while the most fields are 0. Maybe we can drop this column.\n",
    "\n",
    "funder: there are some types with only one quantity. So, those with less quantity would change to other\n",
    "\n",
    "installer: the same as funder. has some similar input as funder. Maybe better to group them.\n",
    "\n",
    "construction_year: the construction happens between 1960 to 2013. we can check if there is any relation between the construction time and the target\n",
    "\n",
    "scheme_management and management: I found scheme_management and management quite similar. but management has more missing values. \n",
    "\n",
    "extraction_type_class, extraction_type_group, extraction_type: They are talking about the mechanism for drawing water. we have 5 types of other! the extraction_type and extraction_type_group are similar. but in my opinion the extraction_type_class is more accurate. Maybe we need to see if there any relation between this and the target.\n",
    "\n",
    "water_type and water_typegroup: These two features are also quite similar. one has 7 types and the other 6 types. maybe the waterpoint_type is more accurate. "
   ]
  },
  {
   "cell_type": "markdown",
   "id": "73b15342",
   "metadata": {},
   "source": [
    "# Finding the relation between the target and some features"
   ]
  },
  {
   "cell_type": "code",
   "execution_count": 52,
   "id": "5bf6551b",
   "metadata": {},
   "outputs": [
    {
     "data": {
      "text/html": [
       "<div>\n",
       "<style scoped>\n",
       "    .dataframe tbody tr th:only-of-type {\n",
       "        vertical-align: middle;\n",
       "    }\n",
       "\n",
       "    .dataframe tbody tr th {\n",
       "        vertical-align: top;\n",
       "    }\n",
       "\n",
       "    .dataframe thead th {\n",
       "        text-align: right;\n",
       "    }\n",
       "</style>\n",
       "<table border=\"1\" class=\"dataframe\">\n",
       "  <thead>\n",
       "    <tr style=\"text-align: right;\">\n",
       "      <th></th>\n",
       "      <th>count</th>\n",
       "      <th>mean</th>\n",
       "      <th>std</th>\n",
       "      <th>min</th>\n",
       "      <th>25%</th>\n",
       "      <th>50%</th>\n",
       "      <th>75%</th>\n",
       "      <th>max</th>\n",
       "    </tr>\n",
       "    <tr>\n",
       "      <th>status_group</th>\n",
       "      <th></th>\n",
       "      <th></th>\n",
       "      <th></th>\n",
       "      <th></th>\n",
       "      <th></th>\n",
       "      <th></th>\n",
       "      <th></th>\n",
       "      <th></th>\n",
       "    </tr>\n",
       "  </thead>\n",
       "  <tbody>\n",
       "    <tr>\n",
       "      <th>functional</th>\n",
       "      <td>32259.0</td>\n",
       "      <td>740.131188</td>\n",
       "      <td>724.193683</td>\n",
       "      <td>-90.0</td>\n",
       "      <td>0.0</td>\n",
       "      <td>550.0</td>\n",
       "      <td>1404.0</td>\n",
       "      <td>2628.0</td>\n",
       "    </tr>\n",
       "    <tr>\n",
       "      <th>functional needs repair</th>\n",
       "      <td>4317.0</td>\n",
       "      <td>627.607135</td>\n",
       "      <td>648.397850</td>\n",
       "      <td>-51.0</td>\n",
       "      <td>0.0</td>\n",
       "      <td>385.0</td>\n",
       "      <td>1243.0</td>\n",
       "      <td>2770.0</td>\n",
       "    </tr>\n",
       "    <tr>\n",
       "      <th>non functional</th>\n",
       "      <td>22824.0</td>\n",
       "      <td>574.464774</td>\n",
       "      <td>642.752316</td>\n",
       "      <td>-59.0</td>\n",
       "      <td>0.0</td>\n",
       "      <td>293.0</td>\n",
       "      <td>1211.0</td>\n",
       "      <td>2627.0</td>\n",
       "    </tr>\n",
       "  </tbody>\n",
       "</table>\n",
       "</div>"
      ],
      "text/plain": [
       "                           count        mean         std   min  25%    50%  \\\n",
       "status_group                                                                 \n",
       "functional               32259.0  740.131188  724.193683 -90.0  0.0  550.0   \n",
       "functional needs repair   4317.0  627.607135  648.397850 -51.0  0.0  385.0   \n",
       "non functional           22824.0  574.464774  642.752316 -59.0  0.0  293.0   \n",
       "\n",
       "                            75%     max  \n",
       "status_group                             \n",
       "functional               1404.0  2628.0  \n",
       "functional needs repair  1243.0  2770.0  \n",
       "non functional           1211.0  2627.0  "
      ]
     },
     "execution_count": 52,
     "metadata": {},
     "output_type": "execute_result"
    }
   ],
   "source": [
    "# Average gps_height for each status group\n",
    "df_train.groupby(\"status_group\")[\"gps_height\"].describe()"
   ]
  },
  {
   "cell_type": "markdown",
   "id": "81dfe4d9",
   "metadata": {},
   "source": [
    "nterpretation: the distribution shows that Functional pumps tend to be located at higher elevations, with both the mean and median GPS height notably higher than those in the \"non functional\" group.Pumps that need repair lie in between; higher than \"non functional\" but lower than \"functional\"."
   ]
  },
  {
   "cell_type": "code",
   "execution_count": 53,
   "id": "b38507d8",
   "metadata": {},
   "outputs": [
    {
     "data": {
      "image/png": "[encoded data removed]",
      "text/plain": [
       "<Figure size 720x432 with 1 Axes>"
      ]
     },
     "metadata": {
      "needs_background": "light"
     },
     "output_type": "display_data"
    }
   ],
   "source": [
    "plt.figure(figsize=(10, 6))\n",
    "sns.boxplot(data=df_train, x=\"status_group\", y=\"gps_height\")\n",
    "plt.title(\"GPS Height Distribution by Pump Status\")\n",
    "plt.xlabel(\"Water Point Status\")\n",
    "plt.ylabel(\"GPS Height (meters)\")\n",
    "plt.show()"
   ]
  },
  {
   "cell_type": "markdown",
   "id": "65bcad18",
   "metadata": {},
   "source": [
    "Interpretation: The distribution shifts upward for functional pumps.There's a wider range in GPS height among functional pumps, possibly indicating that these are maintained even in less accessible (higher) areas. Non-functional pumps cluster at lower altitudes, suggesting a possible environmental or logistical factor affecting functionality."
   ]
  },
  {
   "cell_type": "code",
   "execution_count": 54,
   "id": "9a2f1a42",
   "metadata": {},
   "outputs": [
    {
     "name": "stdout",
     "output_type": "stream",
     "text": [
      "ANOVA F-statistic: 395.01, p-value: 0.0000\n"
     ]
    }
   ],
   "source": [
    "# Extract values for each group\n",
    "groups = [group[\"gps_height\"].dropna() for name, group in df_train.groupby(\"status_group\")]\n",
    "f_stat, p_value = f_oneway(*groups)\n",
    "print(f\"ANOVA F-statistic: {f_stat:.2f}, p-value: {p_value:.4f}\")"
   ]
  },
  {
   "cell_type": "markdown",
   "id": "0fb8c36e",
   "metadata": {},
   "source": [
    "A small p-value (e.g. < 0.05) indicates a significant difference in gps_height among the status_groups."
   ]
  },
  {
   "cell_type": "markdown",
   "id": "0bdd2758",
   "metadata": {},
   "source": [
    "Conclusion: \n",
    "My conclusion is that there is a strong relationship between water pump functionality (status_group) and elevation (gps_height). the plot and means shows that Higher elevation pumps are more likely to be functional, possibly due to better installation/maintenance or less groundwater contamination."
   ]
  },
  {
   "cell_type": "code",
   "execution_count": 55,
   "id": "e0518755",
   "metadata": {},
   "outputs": [
    {
     "data": {
      "text/html": [
       "<div>\n",
       "<style scoped>\n",
       "    .dataframe tbody tr th:only-of-type {\n",
       "        vertical-align: middle;\n",
       "    }\n",
       "\n",
       "    .dataframe tbody tr th {\n",
       "        vertical-align: top;\n",
       "    }\n",
       "\n",
       "    .dataframe thead th {\n",
       "        text-align: right;\n",
       "    }\n",
       "</style>\n",
       "<table border=\"1\" class=\"dataframe\">\n",
       "  <thead>\n",
       "    <tr style=\"text-align: right;\">\n",
       "      <th></th>\n",
       "      <th>count</th>\n",
       "      <th>mean</th>\n",
       "      <th>std</th>\n",
       "      <th>min</th>\n",
       "      <th>25%</th>\n",
       "      <th>50%</th>\n",
       "      <th>75%</th>\n",
       "      <th>max</th>\n",
       "    </tr>\n",
       "    <tr>\n",
       "      <th>status_group</th>\n",
       "      <th></th>\n",
       "      <th></th>\n",
       "      <th></th>\n",
       "      <th></th>\n",
       "      <th></th>\n",
       "      <th></th>\n",
       "      <th></th>\n",
       "      <th></th>\n",
       "    </tr>\n",
       "  </thead>\n",
       "  <tbody>\n",
       "    <tr>\n",
       "      <th>functional</th>\n",
       "      <td>32259.0</td>\n",
       "      <td>-5.704921</td>\n",
       "      <td>2.897323</td>\n",
       "      <td>-11.564324</td>\n",
       "      <td>-8.640908</td>\n",
       "      <td>-4.904257</td>\n",
       "      <td>-3.322252</td>\n",
       "      <td>-2.000000e-08</td>\n",
       "    </tr>\n",
       "    <tr>\n",
       "      <th>functional needs repair</th>\n",
       "      <td>4317.0</td>\n",
       "      <td>-5.162580</td>\n",
       "      <td>3.099036</td>\n",
       "      <td>-11.649440</td>\n",
       "      <td>-7.860679</td>\n",
       "      <td>-4.656811</td>\n",
       "      <td>-3.158054</td>\n",
       "      <td>-2.000000e-08</td>\n",
       "    </tr>\n",
       "    <tr>\n",
       "      <th>non functional</th>\n",
       "      <td>22824.0</td>\n",
       "      <td>-5.810394</td>\n",
       "      <td>2.973262</td>\n",
       "      <td>-11.586297</td>\n",
       "      <td>-8.515783</td>\n",
       "      <td>-5.421238</td>\n",
       "      <td>-3.350447</td>\n",
       "      <td>-2.000000e-08</td>\n",
       "    </tr>\n",
       "  </tbody>\n",
       "</table>\n",
       "</div>"
      ],
      "text/plain": [
       "                           count      mean       std        min       25%  \\\n",
       "status_group                                                                \n",
       "functional               32259.0 -5.704921  2.897323 -11.564324 -8.640908   \n",
       "functional needs repair   4317.0 -5.162580  3.099036 -11.649440 -7.860679   \n",
       "non functional           22824.0 -5.810394  2.973262 -11.586297 -8.515783   \n",
       "\n",
       "                              50%       75%           max  \n",
       "status_group                                               \n",
       "functional              -4.904257 -3.322252 -2.000000e-08  \n",
       "functional needs repair -4.656811 -3.158054 -2.000000e-08  \n",
       "non functional          -5.421238 -3.350447 -2.000000e-08  "
      ]
     },
     "execution_count": 55,
     "metadata": {},
     "output_type": "execute_result"
    }
   ],
   "source": [
    "# Average latitude for each status group\n",
    "df_train.groupby(\"status_group\")[\"latitude\"].describe()"
   ]
  },
  {
   "cell_type": "code",
   "execution_count": 56,
   "id": "5babc3a4",
   "metadata": {},
   "outputs": [
    {
     "data": {
      "image/png": "[encoded data removed]",
      "text/plain": [
       "<Figure size 720x432 with 1 Axes>"
      ]
     },
     "metadata": {
      "needs_background": "light"
     },
     "output_type": "display_data"
    }
   ],
   "source": [
    "plt.figure(figsize=(10, 6))\n",
    "sns.boxplot(data=df_train, x=\"status_group\", y=\"latitude\")\n",
    "plt.title(\"latitude Distribution by Pump Status\")\n",
    "plt.xlabel(\"Water Point Status\")\n",
    "plt.ylabel(\"latitude\")\n",
    "plt.show()"
   ]
  },
  {
   "cell_type": "code",
   "execution_count": 57,
   "id": "1866b0f0",
   "metadata": {},
   "outputs": [
    {
     "name": "stdout",
     "output_type": "stream",
     "text": [
      "ANOVA F-statistic: 88.03, p-value: 0.0000\n"
     ]
    }
   ],
   "source": [
    "# Extract values for each group\n",
    "groups = [group[\"latitude\"].dropna() for name, group in df_train.groupby(\"status_group\")]\n",
    "f_stat, p_value = f_oneway(*groups)\n",
    "print(f\"ANOVA F-statistic: {f_stat:.2f}, p-value: {p_value:.4f}\")"
   ]
  },
  {
   "cell_type": "markdown",
   "id": "2593559e",
   "metadata": {},
   "source": [
    "conclusion: More functional pumps are located further north (closer to 0° latitude).Non-functional pumps are generally further south (larger negative values). I think we have to look to the governance, installer and funder to know if there is any relation between them. maybe in the northen areas have better access to the resources or better government support and in the southern area face some challenges for the maintenance for example weaker funder or installer. Also we can research about the different weather in different geographic location. Maybe that can impact the water and the technology suitability. or also we can look the region, if it is in the urban or rural areas. "
   ]
  },
  {
   "cell_type": "code",
   "execution_count": 58,
   "id": "d8611fc1",
   "metadata": {},
   "outputs": [
    {
     "data": {
      "text/html": [
       "<div>\n",
       "<style scoped>\n",
       "    .dataframe tbody tr th:only-of-type {\n",
       "        vertical-align: middle;\n",
       "    }\n",
       "\n",
       "    .dataframe tbody tr th {\n",
       "        vertical-align: top;\n",
       "    }\n",
       "\n",
       "    .dataframe thead th {\n",
       "        text-align: right;\n",
       "    }\n",
       "</style>\n",
       "<table border=\"1\" class=\"dataframe\">\n",
       "  <thead>\n",
       "    <tr style=\"text-align: right;\">\n",
       "      <th></th>\n",
       "      <th>count</th>\n",
       "      <th>mean</th>\n",
       "      <th>std</th>\n",
       "      <th>min</th>\n",
       "      <th>25%</th>\n",
       "      <th>50%</th>\n",
       "      <th>75%</th>\n",
       "      <th>max</th>\n",
       "    </tr>\n",
       "    <tr>\n",
       "      <th>status_group</th>\n",
       "      <th></th>\n",
       "      <th></th>\n",
       "      <th></th>\n",
       "      <th></th>\n",
       "      <th></th>\n",
       "      <th></th>\n",
       "      <th></th>\n",
       "      <th></th>\n",
       "    </tr>\n",
       "  </thead>\n",
       "  <tbody>\n",
       "    <tr>\n",
       "      <th>functional</th>\n",
       "      <td>32259.0</td>\n",
       "      <td>34.242071</td>\n",
       "      <td>6.200054</td>\n",
       "      <td>0.0</td>\n",
       "      <td>33.368557</td>\n",
       "      <td>34.969884</td>\n",
       "      <td>37.057074</td>\n",
       "      <td>40.345193</td>\n",
       "    </tr>\n",
       "    <tr>\n",
       "      <th>functional needs repair</th>\n",
       "      <td>4317.0</td>\n",
       "      <td>31.242086</td>\n",
       "      <td>10.169667</td>\n",
       "      <td>0.0</td>\n",
       "      <td>30.799300</td>\n",
       "      <td>33.827215</td>\n",
       "      <td>36.668018</td>\n",
       "      <td>40.283599</td>\n",
       "    </tr>\n",
       "    <tr>\n",
       "      <th>non functional</th>\n",
       "      <td>22824.0</td>\n",
       "      <td>34.381006</td>\n",
       "      <td>6.059035</td>\n",
       "      <td>0.0</td>\n",
       "      <td>33.002248</td>\n",
       "      <td>34.958415</td>\n",
       "      <td>37.567890</td>\n",
       "      <td>40.344301</td>\n",
       "    </tr>\n",
       "  </tbody>\n",
       "</table>\n",
       "</div>"
      ],
      "text/plain": [
       "                           count       mean        std  min        25%  \\\n",
       "status_group                                                             \n",
       "functional               32259.0  34.242071   6.200054  0.0  33.368557   \n",
       "functional needs repair   4317.0  31.242086  10.169667  0.0  30.799300   \n",
       "non functional           22824.0  34.381006   6.059035  0.0  33.002248   \n",
       "\n",
       "                               50%        75%        max  \n",
       "status_group                                              \n",
       "functional               34.969884  37.057074  40.345193  \n",
       "functional needs repair  33.827215  36.668018  40.283599  \n",
       "non functional           34.958415  37.567890  40.344301  "
      ]
     },
     "execution_count": 58,
     "metadata": {},
     "output_type": "execute_result"
    }
   ],
   "source": [
    "# Average Longitude for each status group\n",
    "df_train.groupby(\"status_group\")[\"longitude\"].describe()"
   ]
  },
  {
   "cell_type": "code",
   "execution_count": 59,
   "id": "64c40788",
   "metadata": {},
   "outputs": [
    {
     "data": {
      "image/png": "[encoded data removed]",
      "text/plain": [
       "<Figure size 720x432 with 1 Axes>"
      ]
     },
     "metadata": {
      "needs_background": "light"
     },
     "output_type": "display_data"
    }
   ],
   "source": [
    "plt.figure(figsize=(10, 6))\n",
    "sns.boxplot(data=df_train, x=\"status_group\", y=\"longitude\")\n",
    "plt.title(\"longitude Distribution by Pump Status\")\n",
    "plt.xlabel(\"Water Point Status\")\n",
    "plt.ylabel(\"latitude\")\n",
    "plt.show()"
   ]
  },
  {
   "cell_type": "code",
   "execution_count": 60,
   "id": "309c56d0",
   "metadata": {},
   "outputs": [
    {
     "name": "stdout",
     "output_type": "stream",
     "text": [
      "ANOVA F-statistic: 443.35, p-value: 0.0000\n"
     ]
    }
   ],
   "source": [
    "# Extract values for each group\n",
    "groups = [group[\"longitude\"].dropna() for name, group in df_train.groupby(\"status_group\")]\n",
    "f_stat, p_value = f_oneway(*groups)\n",
    "print(f\"ANOVA F-statistic: {f_stat:.2f}, p-value: {p_value:.4f}\")"
   ]
  },
  {
   "cell_type": "markdown",
   "id": "9d35bd6e",
   "metadata": {},
   "source": [
    "Conclusion: western Tanzania (lower longitude) seems to have more pupms needing repair. that can have any reason, maybe that is better to know the relation between the funder, installer and the goverment if they support the maintenance or not! Central and Eastern regions (mid to high longitudes) maintain a better balance between functional and non-functional pumps."
   ]
  },
  {
   "cell_type": "code",
   "execution_count": 61,
   "id": "eed9a170",
   "metadata": {},
   "outputs": [
    {
     "data": {
      "text/html": [
       "<div>\n",
       "<style scoped>\n",
       "    .dataframe tbody tr th:only-of-type {\n",
       "        vertical-align: middle;\n",
       "    }\n",
       "\n",
       "    .dataframe tbody tr th {\n",
       "        vertical-align: top;\n",
       "    }\n",
       "\n",
       "    .dataframe thead th {\n",
       "        text-align: right;\n",
       "    }\n",
       "</style>\n",
       "<table border=\"1\" class=\"dataframe\">\n",
       "  <thead>\n",
       "    <tr style=\"text-align: right;\">\n",
       "      <th></th>\n",
       "      <th>count</th>\n",
       "      <th>mean</th>\n",
       "      <th>std</th>\n",
       "      <th>min</th>\n",
       "      <th>25%</th>\n",
       "      <th>50%</th>\n",
       "      <th>75%</th>\n",
       "      <th>max</th>\n",
       "    </tr>\n",
       "    <tr>\n",
       "      <th>status_group</th>\n",
       "      <th></th>\n",
       "      <th></th>\n",
       "      <th></th>\n",
       "      <th></th>\n",
       "      <th></th>\n",
       "      <th></th>\n",
       "      <th></th>\n",
       "      <th></th>\n",
       "    </tr>\n",
       "  </thead>\n",
       "  <tbody>\n",
       "    <tr>\n",
       "      <th>functional</th>\n",
       "      <td>32259.0</td>\n",
       "      <td>461.798235</td>\n",
       "      <td>3889.735284</td>\n",
       "      <td>0.0</td>\n",
       "      <td>0.0</td>\n",
       "      <td>0.0</td>\n",
       "      <td>50.0</td>\n",
       "      <td>350000.0</td>\n",
       "    </tr>\n",
       "    <tr>\n",
       "      <th>functional needs repair</th>\n",
       "      <td>4317.0</td>\n",
       "      <td>267.071577</td>\n",
       "      <td>1925.026420</td>\n",
       "      <td>0.0</td>\n",
       "      <td>0.0</td>\n",
       "      <td>0.0</td>\n",
       "      <td>50.0</td>\n",
       "      <td>100000.0</td>\n",
       "    </tr>\n",
       "    <tr>\n",
       "      <th>non functional</th>\n",
       "      <td>22824.0</td>\n",
       "      <td>123.481230</td>\n",
       "      <td>1110.120571</td>\n",
       "      <td>0.0</td>\n",
       "      <td>0.0</td>\n",
       "      <td>0.0</td>\n",
       "      <td>0.0</td>\n",
       "      <td>117000.0</td>\n",
       "    </tr>\n",
       "  </tbody>\n",
       "</table>\n",
       "</div>"
      ],
      "text/plain": [
       "                           count        mean          std  min  25%  50%  \\\n",
       "status_group                                                               \n",
       "functional               32259.0  461.798235  3889.735284  0.0  0.0  0.0   \n",
       "functional needs repair   4317.0  267.071577  1925.026420  0.0  0.0  0.0   \n",
       "non functional           22824.0  123.481230  1110.120571  0.0  0.0  0.0   \n",
       "\n",
       "                          75%       max  \n",
       "status_group                             \n",
       "functional               50.0  350000.0  \n",
       "functional needs repair  50.0  100000.0  \n",
       "non functional            0.0  117000.0  "
      ]
     },
     "execution_count": 61,
     "metadata": {},
     "output_type": "execute_result"
    }
   ],
   "source": [
    "# Average amount_tsh for each status group\n",
    "df_train.groupby(\"status_group\")[\"amount_tsh\"].describe()"
   ]
  },
  {
   "cell_type": "code",
   "execution_count": 62,
   "id": "2b276af1",
   "metadata": {},
   "outputs": [
    {
     "data": {
      "image/png": "[encoded data removed]",
      "text/plain": [
       "<Figure size 720x432 with 1 Axes>"
      ]
     },
     "metadata": {
      "needs_background": "light"
     },
     "output_type": "display_data"
    }
   ],
   "source": [
    "plt.figure(figsize=(10, 6))\n",
    "sns.boxplot(data=df_train, x=\"status_group\", y=\"amount_tsh\")\n",
    "plt.title(\"amount_tsh Distribution by Pump Status\")\n",
    "plt.xlabel(\"Water Point Status\")\n",
    "plt.ylabel(\"amount_tsh\")\n",
    "plt.show()"
   ]
  },
  {
   "cell_type": "code",
   "execution_count": 63,
   "id": "7c504681",
   "metadata": {},
   "outputs": [
    {
     "name": "stdout",
     "output_type": "stream",
     "text": [
      "ANOVA F-statistic: 86.04, p-value: 0.0000\n"
     ]
    }
   ],
   "source": [
    "# Extract values for each group\n",
    "groups = [group[\"amount_tsh\"].dropna() for name, group in df_train.groupby(\"status_group\")]\n",
    "f_stat, p_value = f_oneway(*groups)\n",
    "print(f\"ANOVA F-statistic: {f_stat:.2f}, p-value: {p_value:.4f}\")"
   ]
  },
  {
   "cell_type": "markdown",
   "id": "59d1731c",
   "metadata": {},
   "source": [
    "conclusion: seems that amount paid (amount_tsh) is significantly related to pump functionality. this has too much 0 that may impact. we have to look again after handling missing data."
   ]
  },
  {
   "cell_type": "code",
   "execution_count": 64,
   "id": "eb8b1c72",
   "metadata": {},
   "outputs": [
    {
     "data": {
      "text/html": [
       "<div>\n",
       "<style scoped>\n",
       "    .dataframe tbody tr th:only-of-type {\n",
       "        vertical-align: middle;\n",
       "    }\n",
       "\n",
       "    .dataframe tbody tr th {\n",
       "        vertical-align: top;\n",
       "    }\n",
       "\n",
       "    .dataframe thead th {\n",
       "        text-align: right;\n",
       "    }\n",
       "</style>\n",
       "<table border=\"1\" class=\"dataframe\">\n",
       "  <thead>\n",
       "    <tr style=\"text-align: right;\">\n",
       "      <th></th>\n",
       "      <th>count</th>\n",
       "      <th>mean</th>\n",
       "      <th>std</th>\n",
       "      <th>min</th>\n",
       "      <th>25%</th>\n",
       "      <th>50%</th>\n",
       "      <th>75%</th>\n",
       "      <th>max</th>\n",
       "    </tr>\n",
       "    <tr>\n",
       "      <th>status_group</th>\n",
       "      <th></th>\n",
       "      <th></th>\n",
       "      <th></th>\n",
       "      <th></th>\n",
       "      <th></th>\n",
       "      <th></th>\n",
       "      <th></th>\n",
       "      <th></th>\n",
       "    </tr>\n",
       "  </thead>\n",
       "  <tbody>\n",
       "    <tr>\n",
       "      <th>functional</th>\n",
       "      <td>32259.0</td>\n",
       "      <td>187.553303</td>\n",
       "      <td>513.198991</td>\n",
       "      <td>0.0</td>\n",
       "      <td>0.0</td>\n",
       "      <td>40.0</td>\n",
       "      <td>200.0</td>\n",
       "      <td>30500.0</td>\n",
       "    </tr>\n",
       "    <tr>\n",
       "      <th>functional needs repair</th>\n",
       "      <td>4317.0</td>\n",
       "      <td>175.102154</td>\n",
       "      <td>433.033756</td>\n",
       "      <td>0.0</td>\n",
       "      <td>0.0</td>\n",
       "      <td>25.0</td>\n",
       "      <td>245.0</td>\n",
       "      <td>15300.0</td>\n",
       "    </tr>\n",
       "    <tr>\n",
       "      <th>non functional</th>\n",
       "      <td>22824.0</td>\n",
       "      <td>170.016430</td>\n",
       "      <td>413.094978</td>\n",
       "      <td>0.0</td>\n",
       "      <td>0.0</td>\n",
       "      <td>1.0</td>\n",
       "      <td>230.0</td>\n",
       "      <td>9865.0</td>\n",
       "    </tr>\n",
       "  </tbody>\n",
       "</table>\n",
       "</div>"
      ],
      "text/plain": [
       "                           count        mean         std  min  25%   50%  \\\n",
       "status_group                                                               \n",
       "functional               32259.0  187.553303  513.198991  0.0  0.0  40.0   \n",
       "functional needs repair   4317.0  175.102154  433.033756  0.0  0.0  25.0   \n",
       "non functional           22824.0  170.016430  413.094978  0.0  0.0   1.0   \n",
       "\n",
       "                           75%      max  \n",
       "status_group                             \n",
       "functional               200.0  30500.0  \n",
       "functional needs repair  245.0  15300.0  \n",
       "non functional           230.0   9865.0  "
      ]
     },
     "execution_count": 64,
     "metadata": {},
     "output_type": "execute_result"
    }
   ],
   "source": [
    "# Average population for each status group\n",
    "df_train.groupby(\"status_group\")[\"population\"].describe()"
   ]
  },
  {
   "cell_type": "code",
   "execution_count": 65,
   "id": "c6fba2e9",
   "metadata": {},
   "outputs": [
    {
     "data": {
      "image/png": "[encoded data removed]",
      "text/plain": [
       "<Figure size 720x432 with 1 Axes>"
      ]
     },
     "metadata": {
      "needs_background": "light"
     },
     "output_type": "display_data"
    }
   ],
   "source": [
    "plt.figure(figsize=(10, 6))\n",
    "sns.boxplot(data=df_train, x=\"status_group\", y=\"population\")\n",
    "plt.title(\"population Distribution by Pump Status\")\n",
    "plt.xlabel(\"Water Point Status\")\n",
    "plt.ylabel(\"population\")\n",
    "plt.show()"
   ]
  },
  {
   "cell_type": "code",
   "execution_count": 66,
   "id": "2e242134",
   "metadata": {},
   "outputs": [
    {
     "name": "stdout",
     "output_type": "stream",
     "text": [
      "ANOVA F-statistic: 9.49, p-value: 0.0001\n"
     ]
    }
   ],
   "source": [
    "# Extract values for each group\n",
    "groups = [group[\"population\"].dropna() for name, group in df_train.groupby(\"status_group\")]\n",
    "f_stat, p_value = f_oneway(*groups)\n",
    "print(f\"ANOVA F-statistic: {f_stat:.2f}, p-value: {p_value:.4f}\")"
   ]
  },
  {
   "cell_type": "markdown",
   "id": "eefbe8a5",
   "metadata": {},
   "source": [
    "Conclusion: seems again that population size has a significant relationship with pump functionality. This also has so much 0 that should be considered before having any conclusion. "
   ]
  }
 ],
 "metadata": {
  "kernelspec": {
   "display_name": "base",
   "language": "python",
   "name": "python3"
  },
  "language_info": {
   "codemirror_mode": {
    "name": "ipython",
    "version": 3
   },
   "file_extension": ".py",
   "mimetype": "text/x-python",
   "name": "python",
   "nbconvert_exporter": "python",
   "pygments_lexer": "ipython3",
   "version": "3.8.8"
  }
 },
 "nbformat": 4,
 "nbformat_minor": 5
}
